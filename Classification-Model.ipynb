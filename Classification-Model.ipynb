{
 "cells": [
  {
   "cell_type": "markdown",
   "metadata": {},
   "source": [
    "# Import"
   ]
  },
  {
   "cell_type": "code",
   "execution_count": 1,
   "metadata": {
    "ExecuteTime": {
     "end_time": "2021-04-07T02:32:51.819605Z",
     "start_time": "2021-04-07T02:32:49.801239Z"
    }
   },
   "outputs": [],
   "source": [
    "import pandas as pd\n",
    "import numpy as np\n",
    "import seaborn as sns\n",
    "import matplotlib.pyplot as plt\n",
    "%matplotlib inline\n",
    "\n",
    "import statsmodels.api as sm\n",
    "from statsmodels.formula.api import ols\n",
    "\n",
    "pd.set_option('display.max_columns', 500)"
   ]
  },
  {
   "cell_type": "code",
   "execution_count": 2,
   "metadata": {
    "ExecuteTime": {
     "end_time": "2021-04-07T02:33:21.599986Z",
     "start_time": "2021-04-07T02:33:21.562863Z"
    }
   },
   "outputs": [],
   "source": [
    "df = pd.read_csv('data/cleaned_data.csv')"
   ]
  },
  {
   "cell_type": "code",
   "execution_count": 3,
   "metadata": {
    "ExecuteTime": {
     "end_time": "2021-04-07T02:33:22.523729Z",
     "start_time": "2021-04-07T02:33:22.498659Z"
    }
   },
   "outputs": [
    {
     "name": "stdout",
     "output_type": "stream",
     "text": [
      "<class 'pandas.core.frame.DataFrame'>\n",
      "RangeIndex: 10476 entries, 0 to 10475\n",
      "Data columns (total 11 columns):\n",
      " #   Column          Non-Null Count  Dtype  \n",
      "---  ------          --------------  -----  \n",
      " 0   Unnamed: 0      10476 non-null  int64  \n",
      " 1   App             10476 non-null  object \n",
      " 2   Category        10476 non-null  object \n",
      " 3   Rating          10476 non-null  float64\n",
      " 4   Reviews         10476 non-null  float64\n",
      " 5   Size            10476 non-null  float64\n",
      " 6   Installs        10476 non-null  int64  \n",
      " 7   Content Rating  10476 non-null  object \n",
      " 8   Genres          10476 non-null  object \n",
      " 9   Month           10476 non-null  int64  \n",
      " 10  is_free         10476 non-null  int64  \n",
      "dtypes: float64(3), int64(4), object(4)\n",
      "memory usage: 900.4+ KB\n"
     ]
    }
   ],
   "source": [
    "df.info()"
   ]
  },
  {
   "cell_type": "code",
   "execution_count": 4,
   "metadata": {
    "ExecuteTime": {
     "end_time": "2021-04-07T02:33:23.663345Z",
     "start_time": "2021-04-07T02:33:23.651305Z"
    }
   },
   "outputs": [],
   "source": [
    "df.drop(['Unnamed: 0', 'App'], axis=1, inplace=True)"
   ]
  },
  {
   "cell_type": "code",
   "execution_count": 5,
   "metadata": {
    "ExecuteTime": {
     "end_time": "2021-04-07T02:33:24.888565Z",
     "start_time": "2021-04-07T02:33:24.882558Z"
    }
   },
   "outputs": [],
   "source": [
    "df['Rating'] = df['Rating'].round()"
   ]
  },
  {
   "cell_type": "code",
   "execution_count": 6,
   "metadata": {
    "ExecuteTime": {
     "end_time": "2021-04-07T02:33:39.220286Z",
     "start_time": "2021-04-07T02:33:39.211258Z"
    }
   },
   "outputs": [],
   "source": [
    "df['Rating'] = df['Rating'].astype('object')"
   ]
  },
  {
   "cell_type": "code",
   "execution_count": null,
   "metadata": {
    "ExecuteTime": {
     "end_time": "2021-04-07T02:11:35.621368Z",
     "start_time": "2021-04-07T02:11:27.661768Z"
    }
   },
   "outputs": [],
   "source": [
    "fig, axes = plt.subplots(nrows=5, ncols=2, figsize=(16,15), sharey=True)\n",
    "\n",
    "for ax, column in zip(axes.flatten(), df.columns):\n",
    "    ax.scatter(df[column], df['Rating'] / 1_000_000, label=column, alpha=.1)\n",
    "    ax.set_title(f'Rating vs {column}')\n",
    "    ax.set_xlabel(column)\n",
    "    ax.set_ylabel('Rating in $1,000,000')\n",
    "\n",
    "fig.tight_layout()"
   ]
  },
  {
   "cell_type": "markdown",
   "metadata": {},
   "source": [
    "Clearly, the data needs a lot of preprocessing to improve the results. Here you can see the relationship between 'Rating' and the independent variables. We can see what variables are continuous(Reviews, Size, and Installs) and categorical(Category, Content Rating, and Month)."
   ]
  },
  {
   "cell_type": "code",
   "execution_count": null,
   "metadata": {
    "ExecuteTime": {
     "end_time": "2021-04-07T01:39:19.356593Z",
     "start_time": "2021-04-07T01:39:19.342548Z"
    }
   },
   "outputs": [],
   "source": [
    "# df['Month'] = df['Month'].astype('object')"
   ]
  },
  {
   "cell_type": "code",
   "execution_count": 7,
   "metadata": {
    "ExecuteTime": {
     "end_time": "2021-04-07T02:36:06.304835Z",
     "start_time": "2021-04-07T02:36:06.294802Z"
    }
   },
   "outputs": [],
   "source": [
    "cats = df.select_dtypes(include='object')"
   ]
  },
  {
   "cell_type": "code",
   "execution_count": 8,
   "metadata": {
    "ExecuteTime": {
     "end_time": "2021-04-07T02:36:10.435537Z",
     "start_time": "2021-04-07T02:36:10.409485Z"
    }
   },
   "outputs": [
    {
     "data": {
      "text/html": [
       "<div>\n",
       "<style scoped>\n",
       "    .dataframe tbody tr th:only-of-type {\n",
       "        vertical-align: middle;\n",
       "    }\n",
       "\n",
       "    .dataframe tbody tr th {\n",
       "        vertical-align: top;\n",
       "    }\n",
       "\n",
       "    .dataframe thead th {\n",
       "        text-align: right;\n",
       "    }\n",
       "</style>\n",
       "<table border=\"1\" class=\"dataframe\">\n",
       "  <thead>\n",
       "    <tr style=\"text-align: right;\">\n",
       "      <th></th>\n",
       "      <th>Category</th>\n",
       "      <th>Rating</th>\n",
       "      <th>Content Rating</th>\n",
       "      <th>Genres</th>\n",
       "    </tr>\n",
       "  </thead>\n",
       "  <tbody>\n",
       "    <tr>\n",
       "      <th>0</th>\n",
       "      <td>ART_AND_DESIGN</td>\n",
       "      <td>4</td>\n",
       "      <td>Everyone</td>\n",
       "      <td>Art &amp; Design</td>\n",
       "    </tr>\n",
       "    <tr>\n",
       "      <th>1</th>\n",
       "      <td>ART_AND_DESIGN</td>\n",
       "      <td>4</td>\n",
       "      <td>Everyone</td>\n",
       "      <td>Art &amp; Design;Pretend Play</td>\n",
       "    </tr>\n",
       "    <tr>\n",
       "      <th>2</th>\n",
       "      <td>ART_AND_DESIGN</td>\n",
       "      <td>5</td>\n",
       "      <td>Everyone</td>\n",
       "      <td>Art &amp; Design</td>\n",
       "    </tr>\n",
       "    <tr>\n",
       "      <th>3</th>\n",
       "      <td>ART_AND_DESIGN</td>\n",
       "      <td>4</td>\n",
       "      <td>Teen</td>\n",
       "      <td>Art &amp; Design</td>\n",
       "    </tr>\n",
       "    <tr>\n",
       "      <th>4</th>\n",
       "      <td>ART_AND_DESIGN</td>\n",
       "      <td>4</td>\n",
       "      <td>Everyone</td>\n",
       "      <td>Art &amp; Design;Creativity</td>\n",
       "    </tr>\n",
       "    <tr>\n",
       "      <th>...</th>\n",
       "      <td>...</td>\n",
       "      <td>...</td>\n",
       "      <td>...</td>\n",
       "      <td>...</td>\n",
       "    </tr>\n",
       "    <tr>\n",
       "      <th>10471</th>\n",
       "      <td>EDUCATION</td>\n",
       "      <td>5</td>\n",
       "      <td>Everyone</td>\n",
       "      <td>Education</td>\n",
       "    </tr>\n",
       "    <tr>\n",
       "      <th>10472</th>\n",
       "      <td>TOOLS</td>\n",
       "      <td>5</td>\n",
       "      <td>Everyone</td>\n",
       "      <td>Tools</td>\n",
       "    </tr>\n",
       "    <tr>\n",
       "      <th>10473</th>\n",
       "      <td>BOOKS_AND_REFERENCE</td>\n",
       "      <td>4</td>\n",
       "      <td>Teen</td>\n",
       "      <td>Books &amp; Reference</td>\n",
       "    </tr>\n",
       "    <tr>\n",
       "      <th>10474</th>\n",
       "      <td>ENTERTAINMENT</td>\n",
       "      <td>4</td>\n",
       "      <td>Everyone</td>\n",
       "      <td>Entertainment</td>\n",
       "    </tr>\n",
       "    <tr>\n",
       "      <th>10475</th>\n",
       "      <td>HEALTH_AND_FITNESS</td>\n",
       "      <td>5</td>\n",
       "      <td>Everyone</td>\n",
       "      <td>Health &amp; Fitness</td>\n",
       "    </tr>\n",
       "  </tbody>\n",
       "</table>\n",
       "<p>10476 rows × 4 columns</p>\n",
       "</div>"
      ],
      "text/plain": [
       "                  Category Rating Content Rating                     Genres\n",
       "0           ART_AND_DESIGN      4       Everyone               Art & Design\n",
       "1           ART_AND_DESIGN      4       Everyone  Art & Design;Pretend Play\n",
       "2           ART_AND_DESIGN      5       Everyone               Art & Design\n",
       "3           ART_AND_DESIGN      4           Teen               Art & Design\n",
       "4           ART_AND_DESIGN      4       Everyone    Art & Design;Creativity\n",
       "...                    ...    ...            ...                        ...\n",
       "10471            EDUCATION      5       Everyone                  Education\n",
       "10472                TOOLS      5       Everyone                      Tools\n",
       "10473  BOOKS_AND_REFERENCE      4           Teen          Books & Reference\n",
       "10474        ENTERTAINMENT      4       Everyone              Entertainment\n",
       "10475   HEALTH_AND_FITNESS      5       Everyone           Health & Fitness\n",
       "\n",
       "[10476 rows x 4 columns]"
      ]
     },
     "execution_count": 8,
     "metadata": {},
     "output_type": "execute_result"
    }
   ],
   "source": [
    "cats"
   ]
  },
  {
   "cell_type": "code",
   "execution_count": 9,
   "metadata": {
    "ExecuteTime": {
     "end_time": "2021-04-07T02:36:55.449210Z",
     "start_time": "2021-04-07T02:36:55.340967Z"
    }
   },
   "outputs": [],
   "source": [
    "cats_dummies = pd.get_dummies(cats, columns=['Category', 'Rating', 'Content Rating', 'Genres'], drop_first=True)"
   ]
  },
  {
   "cell_type": "code",
   "execution_count": null,
   "metadata": {
    "ExecuteTime": {
     "end_time": "2021-04-07T02:13:23.797789Z",
     "start_time": "2021-04-07T02:13:23.618209Z"
    }
   },
   "outputs": [],
   "source": [
    "model_df = pd.concat((df, cats_dummies), axis=1)\n",
    "model_df.drop(columns=['Category', 'Rating''Content Rating', 'Genres'], axis = 1, inplace=True)\n",
    "model_df"
   ]
  },
  {
   "cell_type": "code",
   "execution_count": null,
   "metadata": {
    "ExecuteTime": {
     "end_time": "2021-04-07T02:13:25.646522Z",
     "start_time": "2021-04-07T02:13:25.634483Z"
    },
    "scrolled": true
   },
   "outputs": [],
   "source": [
    "model_df.info()"
   ]
  },
  {
   "cell_type": "code",
   "execution_count": null,
   "metadata": {
    "ExecuteTime": {
     "end_time": "2021-04-07T02:13:27.339746Z",
     "start_time": "2021-04-07T02:13:27.329714Z"
    }
   },
   "outputs": [],
   "source": [
    "model_df.columns = model_df.columns.str.replace(' ', '_').str.replace('+','')"
   ]
  },
  {
   "cell_type": "markdown",
   "metadata": {},
   "source": [
    "# Linear Regression Model"
   ]
  },
  {
   "cell_type": "code",
   "execution_count": null,
   "metadata": {
    "ExecuteTime": {
     "end_time": "2021-04-07T02:13:34.160002Z",
     "start_time": "2021-04-07T02:13:34.145953Z"
    }
   },
   "outputs": [],
   "source": [
    "y = model_df['Rating']\n",
    "X = model_df.drop(['Rating'], axis =1)"
   ]
  },
  {
   "cell_type": "code",
   "execution_count": null,
   "metadata": {
    "ExecuteTime": {
     "end_time": "2021-04-07T02:13:35.281840Z",
     "start_time": "2021-04-07T02:13:35.172478Z"
    }
   },
   "outputs": [],
   "source": [
    "X.head()"
   ]
  },
  {
   "cell_type": "code",
   "execution_count": null,
   "metadata": {
    "ExecuteTime": {
     "end_time": "2021-04-07T02:21:43.613155Z",
     "start_time": "2021-04-07T02:21:43.558978Z"
    }
   },
   "outputs": [],
   "source": [
    "from sklearn.model_selection import train_test_split\n",
    "X_train, X_test, y_train, y_test = train_test_split(X, y, test_size=.25, random_state=42)"
   ]
  },
  {
   "cell_type": "code",
   "execution_count": null,
   "metadata": {
    "ExecuteTime": {
     "end_time": "2021-04-07T02:21:39.070176Z",
     "start_time": "2021-04-07T02:21:37.862318Z"
    }
   },
   "outputs": [],
   "source": [
    "for col in X.columns:\n",
    "    # Subtract the minimum and divide by the range forcing a scale of 0 to 1 for each feature\n",
    "    X[col] = (X[col] - min(X[col]))/ (max(X[col]) - min(X[col])) \n",
    "\n",
    "X.head()"
   ]
  },
  {
   "cell_type": "code",
   "execution_count": null,
   "metadata": {
    "ExecuteTime": {
     "end_time": "2021-04-07T02:21:48.189090Z",
     "start_time": "2021-04-07T02:21:48.118546Z"
    }
   },
   "outputs": [],
   "source": [
    "from sklearn.linear_model import LinearRegression\n",
    "linreg = LinearRegression()"
   ]
  },
  {
   "cell_type": "code",
   "execution_count": null,
   "metadata": {
    "ExecuteTime": {
     "end_time": "2021-04-07T02:21:50.651626Z",
     "start_time": "2021-04-07T02:21:50.558318Z"
    }
   },
   "outputs": [],
   "source": [
    "linreg.fit(X_train, y_train)"
   ]
  },
  {
   "cell_type": "code",
   "execution_count": null,
   "metadata": {
    "ExecuteTime": {
     "end_time": "2021-04-07T02:21:53.102321Z",
     "start_time": "2021-04-07T02:21:53.088275Z"
    }
   },
   "outputs": [],
   "source": [
    "accuracy = linreg.score(X_test, y_test)\n",
    "'Accuracy: ' + str(np.round(accuracy*100, 2)) + '%'"
   ]
  },
  {
   "cell_type": "markdown",
   "metadata": {},
   "source": [
    "## KNeighbors Regression"
   ]
  },
  {
   "cell_type": "code",
   "execution_count": null,
   "metadata": {
    "ExecuteTime": {
     "end_time": "2021-04-07T02:21:56.997715Z",
     "start_time": "2021-04-07T02:21:56.508098Z"
    }
   },
   "outputs": [],
   "source": [
    "from sklearn.neighbors import KNeighborsRegressor\n",
    "knn = KNeighborsRegressor(n_neighbors=180)\n",
    "knn.fit(X_train,y_train)"
   ]
  },
  {
   "cell_type": "code",
   "execution_count": null,
   "metadata": {
    "ExecuteTime": {
     "end_time": "2021-04-07T02:22:07.202405Z",
     "start_time": "2021-04-07T02:21:59.385533Z"
    }
   },
   "outputs": [],
   "source": [
    "accuracy = knn.score(X_test, y_test)\n",
    "'Accuracy: ' + str(np.round(accuracy*100, 2)) + '%'"
   ]
  },
  {
   "cell_type": "code",
   "execution_count": null,
   "metadata": {
    "ExecuteTime": {
     "end_time": "2021-04-07T02:25:41.012804Z",
     "start_time": "2021-04-07T02:22:09.624108Z"
    },
    "scrolled": true
   },
   "outputs": [],
   "source": [
    "n_neighbors = np.arange(20, 300, 10)\n",
    "scores = []\n",
    "for n in n_neighbors:\n",
    "    knn.set_params(n_neighbors=n)\n",
    "    knn.fit(X_train, y_train)\n",
    "    scores.append(knn.score(X_test, y_test))\n",
    "plt.figure(figsize=(7, 5))\n",
    "plt.title(\"Effect of Estimators\")\n",
    "plt.xlabel(\"Number of Neighbors K\")\n",
    "plt.ylabel(\"Score\")\n",
    "plt.plot(n_neighbors, scores)"
   ]
  },
  {
   "cell_type": "code",
   "execution_count": null,
   "metadata": {
    "ExecuteTime": {
     "end_time": "2021-04-07T02:25:43.507688Z",
     "start_time": "2021-04-07T02:25:43.493642Z"
    }
   },
   "outputs": [],
   "source": [
    "print(\"max accuracy is: \", max(scores))\n",
    "print(\"K value to achieve this result: \", n_neighbors[scores.index(max(scores))])"
   ]
  },
  {
   "cell_type": "markdown",
   "metadata": {},
   "source": [
    "## Decision Tree"
   ]
  },
  {
   "cell_type": "code",
   "execution_count": null,
   "metadata": {
    "ExecuteTime": {
     "end_time": "2021-04-07T01:58:48.891639Z",
     "start_time": "2021-04-07T01:58:48.857527Z"
    }
   },
   "outputs": [],
   "source": [
    "from sklearn.tree import DecisionTreeRegressor\n",
    "decision_tree = DecisionTreeRegressor()"
   ]
  },
  {
   "cell_type": "code",
   "execution_count": null,
   "metadata": {
    "ExecuteTime": {
     "end_time": "2021-04-07T01:58:50.281246Z",
     "start_time": "2021-04-07T01:58:50.123726Z"
    }
   },
   "outputs": [],
   "source": [
    "decision_tree.fit(X_train,y_train)"
   ]
  },
  {
   "cell_type": "code",
   "execution_count": null,
   "metadata": {
    "ExecuteTime": {
     "end_time": "2021-04-07T01:58:51.482507Z",
     "start_time": "2021-04-07T01:58:51.468459Z"
    }
   },
   "outputs": [],
   "source": [
    "accuracy = decision_tree.score(X_test, y_test)\n",
    "'Accuracy: ' + str(np.round(accuracy*100, 2)) + '%'"
   ]
  },
  {
   "cell_type": "markdown",
   "metadata": {},
   "source": [
    "## Random Forest"
   ]
  },
  {
   "cell_type": "code",
   "execution_count": null,
   "metadata": {
    "ExecuteTime": {
     "end_time": "2021-04-07T02:00:24.874072Z",
     "start_time": "2021-04-07T01:58:53.513702Z"
    }
   },
   "outputs": [],
   "source": [
    "from sklearn.ensemble import RandomForestRegressor\n",
    "rf = RandomForestRegressor()\n",
    "estimators = np.arange(10, 150, 10)\n",
    "scores = []\n",
    "for n in estimators:\n",
    "    rf.set_params(n_estimators=n)\n",
    "    rf.fit(X_train, y_train)\n",
    "    scores.append(rf.score(X_test, y_test))\n",
    "plt.figure(figsize=(7, 5))\n",
    "plt.title(\"Effect of Estimators\")\n",
    "plt.xlabel(\"no. estimator\")\n",
    "plt.ylabel(\"score\")\n",
    "plt.plot(estimators, scores)"
   ]
  },
  {
   "cell_type": "code",
   "execution_count": null,
   "metadata": {
    "ExecuteTime": {
     "end_time": "2021-04-07T02:00:26.171727Z",
     "start_time": "2021-04-07T02:00:26.157679Z"
    }
   },
   "outputs": [],
   "source": [
    "print(\"max accuracy is: \", max(scores))\n",
    "print(\"Estimators to achieve this result: \", estimators[scores.index(max(scores))])"
   ]
  },
  {
   "cell_type": "markdown",
   "metadata": {},
   "source": [
    "# Outliers"
   ]
  },
  {
   "cell_type": "code",
   "execution_count": null,
   "metadata": {
    "ExecuteTime": {
     "end_time": "2021-04-07T02:01:06.517692Z",
     "start_time": "2021-04-07T02:01:06.513683Z"
    }
   },
   "outputs": [],
   "source": [
    "from numpy import mean\n",
    "from numpy import std"
   ]
  },
  {
   "cell_type": "code",
   "execution_count": null,
   "metadata": {
    "ExecuteTime": {
     "end_time": "2021-04-07T02:01:07.955612Z",
     "start_time": "2021-04-07T02:01:07.782040Z"
    }
   },
   "outputs": [],
   "source": [
    "sns.boxplot(x=model_df['Reviews'])"
   ]
  },
  {
   "cell_type": "code",
   "execution_count": null,
   "metadata": {
    "ExecuteTime": {
     "end_time": "2021-04-07T02:01:09.359674Z",
     "start_time": "2021-04-07T02:01:09.345626Z"
    }
   },
   "outputs": [],
   "source": [
    "def outliers(col, df):\n",
    "    mean = df[col].mean()\n",
    "    std = df[col].std()\n",
    "    cut_off = std * 3\n",
    "    lower = mean - cut_off\n",
    "    upper = mean + cut_off\n",
    "    outliers = [x for x in df[col] if x < lower or x > upper]\n",
    "    return sorted(outliers)"
   ]
  },
  {
   "cell_type": "code",
   "execution_count": null,
   "metadata": {
    "ExecuteTime": {
     "end_time": "2021-04-07T02:01:10.640886Z",
     "start_time": "2021-04-07T02:01:10.627843Z"
    },
    "scrolled": true
   },
   "outputs": [],
   "source": [
    "outliers('Reviews', model_df)"
   ]
  },
  {
   "cell_type": "code",
   "execution_count": null,
   "metadata": {
    "ExecuteTime": {
     "end_time": "2021-04-07T02:01:12.132681Z",
     "start_time": "2021-04-07T02:01:11.976164Z"
    }
   },
   "outputs": [],
   "source": [
    "model_out = model_df[(model_df['Reviews'] <= 6074334) & (model_df['Reviews'] >= 100)]\n",
    "model_out.reset_index(drop=True)"
   ]
  },
  {
   "cell_type": "code",
   "execution_count": null,
   "metadata": {
    "ExecuteTime": {
     "end_time": "2021-04-07T02:01:13.848359Z",
     "start_time": "2021-04-07T02:01:13.689837Z"
    },
    "scrolled": true
   },
   "outputs": [],
   "source": [
    "sns.boxplot(x=model_df['Installs'])"
   ]
  },
  {
   "cell_type": "code",
   "execution_count": null,
   "metadata": {
    "ExecuteTime": {
     "end_time": "2021-04-07T02:01:15.353342Z",
     "start_time": "2021-04-07T02:01:15.339296Z"
    }
   },
   "outputs": [],
   "source": [
    "outliers('Installs', model_out)"
   ]
  },
  {
   "cell_type": "code",
   "execution_count": null,
   "metadata": {
    "ExecuteTime": {
     "end_time": "2021-04-07T02:01:17.000819Z",
     "start_time": "2021-04-07T02:01:16.844304Z"
    }
   },
   "outputs": [],
   "source": [
    "model_out = model_out[(model_out['Installs'] < 50000000) & (model_out['Installs'] >= 1000)]\n",
    "model_out.reset_index(drop=True)"
   ]
  },
  {
   "cell_type": "code",
   "execution_count": null,
   "metadata": {
    "ExecuteTime": {
     "end_time": "2021-04-07T02:01:18.668140Z",
     "start_time": "2021-04-07T02:01:18.509614Z"
    }
   },
   "outputs": [],
   "source": [
    "sns.boxplot(x=model_out['Installs'])"
   ]
  },
  {
   "cell_type": "code",
   "execution_count": null,
   "metadata": {
    "ExecuteTime": {
     "end_time": "2021-04-07T02:01:20.288503Z",
     "start_time": "2021-04-07T02:01:20.146032Z"
    }
   },
   "outputs": [],
   "source": [
    "sns.boxplot(x=model_out['Size'])"
   ]
  },
  {
   "cell_type": "code",
   "execution_count": null,
   "metadata": {
    "ExecuteTime": {
     "end_time": "2021-04-07T02:01:21.792701Z",
     "start_time": "2021-04-07T02:01:21.778657Z"
    },
    "scrolled": true
   },
   "outputs": [],
   "source": [
    "outliers('Size', model_out)"
   ]
  },
  {
   "cell_type": "code",
   "execution_count": null,
   "metadata": {
    "ExecuteTime": {
     "end_time": "2021-04-07T02:01:23.472533Z",
     "start_time": "2021-04-07T02:01:23.315014Z"
    }
   },
   "outputs": [],
   "source": [
    "model_out = model_out[(model_out['Size'] < 123000000)]\n",
    "model_out.reset_index(drop=True)"
   ]
  },
  {
   "cell_type": "code",
   "execution_count": null,
   "metadata": {
    "ExecuteTime": {
     "end_time": "2021-04-07T02:01:25.203828Z",
     "start_time": "2021-04-07T02:01:25.045304Z"
    }
   },
   "outputs": [],
   "source": [
    "sns.boxplot(x=model_out['Rating'])"
   ]
  },
  {
   "cell_type": "markdown",
   "metadata": {},
   "source": [
    "The median looks to be around 4.3. Anything beyond 3.3 and 5 are outliers. We will use these as our markers."
   ]
  },
  {
   "cell_type": "code",
   "execution_count": null,
   "metadata": {
    "ExecuteTime": {
     "end_time": "2021-04-07T02:01:26.901227Z",
     "start_time": "2021-04-07T02:01:26.742705Z"
    }
   },
   "outputs": [],
   "source": [
    "model_out = model_out[(model_out['Rating'] > 3.3)]\n",
    "model_out.reset_index(drop=True)"
   ]
  },
  {
   "cell_type": "code",
   "execution_count": null,
   "metadata": {
    "ExecuteTime": {
     "end_time": "2021-04-07T02:01:29.145659Z",
     "start_time": "2021-04-07T02:01:28.460391Z"
    },
    "scrolled": true
   },
   "outputs": [],
   "source": [
    "model_out.describe()"
   ]
  },
  {
   "cell_type": "markdown",
   "metadata": {},
   "source": [
    "# Model - Outliers Fixed"
   ]
  },
  {
   "cell_type": "code",
   "execution_count": null,
   "metadata": {
    "ExecuteTime": {
     "end_time": "2021-04-07T02:01:30.684750Z",
     "start_time": "2021-04-07T02:01:30.670706Z"
    }
   },
   "outputs": [],
   "source": [
    "y = model_out['Rating']\n",
    "X = model_out.drop(['Rating'], axis =1)"
   ]
  },
  {
   "cell_type": "code",
   "execution_count": null,
   "metadata": {
    "ExecuteTime": {
     "end_time": "2021-04-07T02:01:32.207791Z",
     "start_time": "2021-04-07T02:01:32.193746Z"
    }
   },
   "outputs": [],
   "source": [
    "X_train, X_test, y_train, y_test = train_test_split(X, y, test_size=.25, random_state=42)"
   ]
  },
  {
   "cell_type": "code",
   "execution_count": null,
   "metadata": {
    "ExecuteTime": {
     "end_time": "2021-04-07T02:01:33.826148Z",
     "start_time": "2021-04-07T02:01:33.731836Z"
    }
   },
   "outputs": [],
   "source": [
    "linreg = LinearRegression()\n",
    "linreg.fit(X_train, y_train)\n",
    "accuracy = linreg.score(X_test, y_test)\n",
    "'Accuracy: ' + str(np.round(accuracy*100, 2)) + '%'"
   ]
  },
  {
   "cell_type": "markdown",
   "metadata": {},
   "source": [
    "## KNeighbors Regression"
   ]
  },
  {
   "cell_type": "code",
   "execution_count": null,
   "metadata": {
    "ExecuteTime": {
     "end_time": "2021-04-07T02:02:08.749666Z",
     "start_time": "2021-04-07T02:01:52.875124Z"
    },
    "scrolled": true
   },
   "outputs": [],
   "source": [
    "n_neighbors = np.arange(20, 300, 10)\n",
    "scores = []\n",
    "for n in n_neighbors:\n",
    "    knn.set_params(n_neighbors=n)\n",
    "    knn.fit(X_train, y_train)\n",
    "    scores.append(knn.score(X_test, y_test))\n",
    "plt.figure(figsize=(7, 5))\n",
    "plt.title(\"Effect of Estimators\")\n",
    "plt.xlabel(\"Number of Neighbors K\")\n",
    "plt.ylabel(\"Score\")\n",
    "plt.plot(n_neighbors, scores)"
   ]
  },
  {
   "cell_type": "code",
   "execution_count": null,
   "metadata": {
    "ExecuteTime": {
     "end_time": "2021-04-07T02:02:10.258661Z",
     "start_time": "2021-04-07T02:02:10.244614Z"
    }
   },
   "outputs": [],
   "source": [
    "print(\"max accuracy is: \", max(scores))\n",
    "print(\"K value to achieve this result: \", n_neighbors[scores.index(max(scores))])"
   ]
  },
  {
   "cell_type": "code",
   "execution_count": null,
   "metadata": {
    "ExecuteTime": {
     "end_time": "2021-04-07T02:02:12.213722Z",
     "start_time": "2021-04-07T02:02:11.752194Z"
    }
   },
   "outputs": [],
   "source": [
    "from sklearn.neighbors import KNeighborsRegressor\n",
    "knn = KNeighborsRegressor(n_neighbors=70)\n",
    "knn.fit(X_train,y_train)\n",
    "accuracy = knn.score(X_test, y_test)\n",
    "'Accuracy: ' + str(np.round(accuracy*100, 2)) + '%'"
   ]
  },
  {
   "cell_type": "markdown",
   "metadata": {},
   "source": [
    "## Decision Tree"
   ]
  },
  {
   "cell_type": "code",
   "execution_count": null,
   "metadata": {
    "ExecuteTime": {
     "end_time": "2021-04-07T02:02:13.833080Z",
     "start_time": "2021-04-07T02:02:13.727734Z"
    }
   },
   "outputs": [],
   "source": [
    "from sklearn.tree import DecisionTreeRegressor\n",
    "decision_tree = DecisionTreeRegressor()\n",
    "decision_tree.fit(X_train,y_train)"
   ]
  },
  {
   "cell_type": "code",
   "execution_count": null,
   "metadata": {
    "ExecuteTime": {
     "end_time": "2021-04-07T02:02:15.400190Z",
     "start_time": "2021-04-07T02:02:15.386142Z"
    }
   },
   "outputs": [],
   "source": [
    "accuracy = decision_tree.score(X_test, y_test)\n",
    "'Accuracy: ' + str(np.round(accuracy*100, 2)) + '%'"
   ]
  },
  {
   "cell_type": "markdown",
   "metadata": {},
   "source": [
    "# Random Forest"
   ]
  },
  {
   "cell_type": "code",
   "execution_count": null,
   "metadata": {
    "ExecuteTime": {
     "end_time": "2021-04-07T02:03:05.112727Z",
     "start_time": "2021-04-07T02:02:16.940287Z"
    }
   },
   "outputs": [],
   "source": [
    "from sklearn.ensemble import RandomForestRegressor\n",
    "rf = RandomForestRegressor()\n",
    "estimators = np.arange(10, 150, 10)\n",
    "scores = []\n",
    "for n in estimators:\n",
    "    rf.set_params(n_estimators=n)\n",
    "    rf.fit(X_train, y_train)\n",
    "    scores.append(rf.score(X_test, y_test))\n",
    "plt.figure(figsize=(7, 5))\n",
    "plt.title(\"Effect of Estimators\")\n",
    "plt.xlabel(\"no. estimator\")\n",
    "plt.ylabel(\"score\")\n",
    "plt.plot(estimators, scores)"
   ]
  },
  {
   "cell_type": "code",
   "execution_count": null,
   "metadata": {
    "ExecuteTime": {
     "end_time": "2021-04-07T02:03:06.665649Z",
     "start_time": "2021-04-07T02:03:06.652607Z"
    }
   },
   "outputs": [],
   "source": [
    "print(\"max accuracy is: \", max(scores))\n",
    "print(\"Estimators to achieve this result: \", estimators[scores.index(max(scores))])"
   ]
  },
  {
   "cell_type": "markdown",
   "metadata": {},
   "source": [
    "# Transform"
   ]
  },
  {
   "cell_type": "code",
   "execution_count": null,
   "metadata": {
    "ExecuteTime": {
     "end_time": "2021-04-07T02:03:08.171903Z",
     "start_time": "2021-04-07T02:03:08.157857Z"
    }
   },
   "outputs": [],
   "source": [
    "df_log = model_out.copy()"
   ]
  },
  {
   "cell_type": "code",
   "execution_count": null,
   "metadata": {
    "ExecuteTime": {
     "end_time": "2021-04-07T02:03:33.163183Z",
     "start_time": "2021-04-07T02:03:32.164881Z"
    }
   },
   "outputs": [],
   "source": [
    "df_log[['Rating', 'Reviews', 'Size', 'Installs']].hist(figsize=(15,12));"
   ]
  },
  {
   "cell_type": "markdown",
   "metadata": {},
   "source": [
    "All the continuous variable are very skewed. Major outliers with Reviews and Installs. "
   ]
  },
  {
   "cell_type": "code",
   "execution_count": null,
   "metadata": {
    "ExecuteTime": {
     "end_time": "2021-04-07T02:03:36.493625Z",
     "start_time": "2021-04-07T02:03:34.800022Z"
    }
   },
   "outputs": [],
   "source": [
    "df_log['log_Rating'] = np.log(df_log['Rating'])\n",
    "df_log[['Rating', 'log_Rating']].hist(figsize=(12,5));\n",
    "\n",
    "df_log['log_Reviews'] = np.log(df_log['Reviews'])\n",
    "df_log[['Reviews', 'log_Reviews']].hist(figsize=(12,5));\n",
    "\n",
    "df_log['log_Size'] = np.log(df_log['Size'])\n",
    "df_log[['Size', 'log_Size']].hist(figsize=(12,5));\n",
    "\n",
    "df_log['log_Installs'] = np.log(df_log['Installs'])\n",
    "df_log[['Installs', 'log_Installs']].hist(figsize=(12,5));"
   ]
  },
  {
   "cell_type": "code",
   "execution_count": null,
   "metadata": {
    "ExecuteTime": {
     "end_time": "2021-04-07T02:03:38.411976Z",
     "start_time": "2021-04-07T02:03:38.397930Z"
    }
   },
   "outputs": [],
   "source": [
    "def normalize(feature):\n",
    "    return (feature - feature.mean()) / feature.std()"
   ]
  },
  {
   "cell_type": "code",
   "execution_count": null,
   "metadata": {
    "ExecuteTime": {
     "end_time": "2021-04-07T02:03:40.189858Z",
     "start_time": "2021-04-07T02:03:40.175814Z"
    }
   },
   "outputs": [],
   "source": [
    "# df_log_norm = df_log[['log_Rating']]\n",
    "df_log_norm = df_log[['log_Rating', 'log_Installs', 'log_Size', 'log_Reviews']]"
   ]
  },
  {
   "cell_type": "code",
   "execution_count": null,
   "metadata": {
    "ExecuteTime": {
     "end_time": "2021-04-07T02:03:42.644985Z",
     "start_time": "2021-04-07T02:03:41.940656Z"
    }
   },
   "outputs": [],
   "source": [
    "df_log_norm = df_log_norm.apply(normalize)\n",
    "df_log_norm.hist(figsize=(10,10));"
   ]
  },
  {
   "cell_type": "code",
   "execution_count": null,
   "metadata": {
    "ExecuteTime": {
     "end_time": "2021-04-07T02:03:44.439910Z",
     "start_time": "2021-04-07T02:03:44.425865Z"
    }
   },
   "outputs": [],
   "source": [
    "df_log['Rating'] = df_log_norm['log_Rating']\n",
    "df_log['log_Installs'] = df_log_norm['log_Installs']\n",
    "df_log['log_Size'] = df_log_norm['log_Size']\n",
    "df_log['log_Reviews'] = df_log_norm['log_Reviews']"
   ]
  },
  {
   "cell_type": "code",
   "execution_count": null,
   "metadata": {
    "ExecuteTime": {
     "end_time": "2021-04-07T02:03:46.219041Z",
     "start_time": "2021-04-07T02:03:46.204994Z"
    },
    "scrolled": true
   },
   "outputs": [],
   "source": [
    "df_log.info()"
   ]
  },
  {
   "cell_type": "code",
   "execution_count": null,
   "metadata": {
    "ExecuteTime": {
     "end_time": "2021-04-07T02:03:48.030034Z",
     "start_time": "2021-04-07T02:03:48.015989Z"
    },
    "scrolled": true
   },
   "outputs": [],
   "source": [
    "df_log = df_log.drop(['Rating', 'Reviews', 'Installs', 'Size'], axis=1)"
   ]
  },
  {
   "cell_type": "markdown",
   "metadata": {},
   "source": [
    "# Model - Variables Transformed"
   ]
  },
  {
   "cell_type": "markdown",
   "metadata": {},
   "source": [
    "## Linear Regression"
   ]
  },
  {
   "cell_type": "code",
   "execution_count": null,
   "metadata": {
    "ExecuteTime": {
     "end_time": "2021-04-07T02:03:49.825939Z",
     "start_time": "2021-04-07T02:03:49.811893Z"
    }
   },
   "outputs": [],
   "source": [
    "y = df_log['log_Rating']\n",
    "X = df_log.drop(['log_Rating'], axis =1)"
   ]
  },
  {
   "cell_type": "code",
   "execution_count": null,
   "metadata": {
    "ExecuteTime": {
     "end_time": "2021-04-07T02:20:09.860977Z",
     "start_time": "2021-04-07T02:20:09.763660Z"
    }
   },
   "outputs": [],
   "source": [
    "X.head()"
   ]
  },
  {
   "cell_type": "code",
   "execution_count": null,
   "metadata": {
    "ExecuteTime": {
     "end_time": "2021-04-07T02:03:51.622886Z",
     "start_time": "2021-04-07T02:03:51.608841Z"
    }
   },
   "outputs": [],
   "source": [
    "X_train, X_test, y_train, y_test = train_test_split(X, y, test_size=.25, random_state=42)"
   ]
  },
  {
   "cell_type": "code",
   "execution_count": null,
   "metadata": {
    "ExecuteTime": {
     "end_time": "2021-04-07T02:03:53.548258Z",
     "start_time": "2021-04-07T02:03:53.373682Z"
    }
   },
   "outputs": [],
   "source": [
    "linreg = LinearRegression()\n",
    "linreg.fit(X_train, y_train)\n",
    "accuracy = linreg.score(X_test, y_test)\n",
    "'Accuracy: ' + str(np.round(accuracy*100, 2)) + '%'"
   ]
  },
  {
   "cell_type": "markdown",
   "metadata": {},
   "source": [
    "## KNeighbors Regression"
   ]
  },
  {
   "cell_type": "code",
   "execution_count": null,
   "metadata": {
    "ExecuteTime": {
     "end_time": "2021-04-07T02:04:39.129124Z",
     "start_time": "2021-04-07T02:03:55.312098Z"
    },
    "scrolled": true
   },
   "outputs": [],
   "source": [
    "n_neighbors = np.arange(20, 300, 10)\n",
    "scores = []\n",
    "for n in n_neighbors:\n",
    "    knn.set_params(n_neighbors=n)\n",
    "    knn.fit(X_train, y_train)\n",
    "    scores.append(knn.score(X_test, y_test))\n",
    "plt.figure(figsize=(7, 5))\n",
    "plt.title(\"Effect of Estimators\")\n",
    "plt.xlabel(\"Number of Neighbors K\")\n",
    "plt.ylabel(\"Score\")\n",
    "plt.plot(n_neighbors, scores)"
   ]
  },
  {
   "cell_type": "code",
   "execution_count": null,
   "metadata": {
    "ExecuteTime": {
     "end_time": "2021-04-07T02:04:40.985268Z",
     "start_time": "2021-04-07T02:04:40.971222Z"
    }
   },
   "outputs": [],
   "source": [
    "print(\"max accuracy is: \", max(scores))\n",
    "print(\"K value to achieve this result: \", n_neighbors[scores.index(max(scores))])"
   ]
  },
  {
   "cell_type": "code",
   "execution_count": null,
   "metadata": {
    "ExecuteTime": {
     "end_time": "2021-04-07T02:04:44.044362Z",
     "start_time": "2021-04-07T02:04:42.764124Z"
    }
   },
   "outputs": [],
   "source": [
    "from sklearn.neighbors import KNeighborsRegressor\n",
    "knn = KNeighborsRegressor(n_neighbors=40)\n",
    "knn.fit(X_train,y_train)\n",
    "accuracy = knn.score(X_test, y_test)\n",
    "'Accuracy: ' + str(np.round(accuracy*100, 2)) + '%'"
   ]
  },
  {
   "cell_type": "markdown",
   "metadata": {},
   "source": [
    "## Decision Tree"
   ]
  },
  {
   "cell_type": "code",
   "execution_count": null,
   "metadata": {
    "ExecuteTime": {
     "end_time": "2021-04-07T02:04:46.063044Z",
     "start_time": "2021-04-07T02:04:45.968730Z"
    }
   },
   "outputs": [],
   "source": [
    "from sklearn.tree import DecisionTreeRegressor\n",
    "decision_tree = DecisionTreeRegressor()\n",
    "decision_tree.fit(X_train,y_train)"
   ]
  },
  {
   "cell_type": "code",
   "execution_count": null,
   "metadata": {
    "ExecuteTime": {
     "end_time": "2021-04-07T02:04:47.938969Z",
     "start_time": "2021-04-07T02:04:47.924923Z"
    }
   },
   "outputs": [],
   "source": [
    "accuracy = decision_tree.score(X_test, y_test)\n",
    "'Accuracy: ' + str(np.round(accuracy*100, 2)) + '%'"
   ]
  },
  {
   "cell_type": "markdown",
   "metadata": {},
   "source": [
    "# Random Forest"
   ]
  },
  {
   "cell_type": "code",
   "execution_count": null,
   "metadata": {
    "ExecuteTime": {
     "end_time": "2021-04-07T02:05:39.193611Z",
     "start_time": "2021-04-07T02:04:49.703812Z"
    }
   },
   "outputs": [],
   "source": [
    "from sklearn.ensemble import RandomForestRegressor\n",
    "rf = RandomForestRegressor()\n",
    "estimators = np.arange(10, 150, 10)\n",
    "scores = []\n",
    "for n in estimators:\n",
    "    rf.set_params(n_estimators=n)\n",
    "    rf.fit(X_train, y_train)\n",
    "    scores.append(rf.score(X_test, y_test))\n",
    "plt.figure(figsize=(7, 5))\n",
    "plt.title(\"Effect of Estimators\")\n",
    "plt.xlabel(\"no. estimator\")\n",
    "plt.ylabel(\"score\")\n",
    "plt.plot(estimators, scores)"
   ]
  },
  {
   "cell_type": "code",
   "execution_count": null,
   "metadata": {
    "ExecuteTime": {
     "end_time": "2021-04-07T02:05:40.989555Z",
     "start_time": "2021-04-07T02:05:40.975510Z"
    }
   },
   "outputs": [],
   "source": [
    "print(\"max accuracy is: \", max(scores))\n",
    "print(\"Estimators to achieve this result: \", estimators[scores.index(max(scores))])"
   ]
  },
  {
   "cell_type": "code",
   "execution_count": null,
   "metadata": {},
   "outputs": [],
   "source": []
  },
  {
   "cell_type": "code",
   "execution_count": null,
   "metadata": {},
   "outputs": [],
   "source": []
  }
 ],
 "metadata": {
  "kernelspec": {
   "display_name": "Python 3",
   "language": "python",
   "name": "python3"
  },
  "language_info": {
   "codemirror_mode": {
    "name": "ipython",
    "version": 3
   },
   "file_extension": ".py",
   "mimetype": "text/x-python",
   "name": "python",
   "nbconvert_exporter": "python",
   "pygments_lexer": "ipython3",
   "version": "3.8.5"
  },
  "toc": {
   "base_numbering": 1,
   "nav_menu": {},
   "number_sections": true,
   "sideBar": true,
   "skip_h1_title": false,
   "title_cell": "Table of Contents",
   "title_sidebar": "Contents",
   "toc_cell": false,
   "toc_position": {
    "height": "calc(100% - 180px)",
    "left": "10px",
    "top": "150px",
    "width": "380.391px"
   },
   "toc_section_display": true,
   "toc_window_display": true
  },
  "varInspector": {
   "cols": {
    "lenName": 16,
    "lenType": 16,
    "lenVar": 40
   },
   "kernels_config": {
    "python": {
     "delete_cmd_postfix": "",
     "delete_cmd_prefix": "del ",
     "library": "var_list.py",
     "varRefreshCmd": "print(var_dic_list())"
    },
    "r": {
     "delete_cmd_postfix": ") ",
     "delete_cmd_prefix": "rm(",
     "library": "var_list.r",
     "varRefreshCmd": "cat(var_dic_list()) "
    }
   },
   "types_to_exclude": [
    "module",
    "function",
    "builtin_function_or_method",
    "instance",
    "_Feature"
   ],
   "window_display": false
  }
 },
 "nbformat": 4,
 "nbformat_minor": 4
}
