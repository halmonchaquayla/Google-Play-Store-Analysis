{
 "cells": [
  {
   "cell_type": "code",
   "execution_count": 1,
   "metadata": {
    "ExecuteTime": {
     "end_time": "2021-03-26T23:29:35.548135Z",
     "start_time": "2021-03-26T23:29:34.911335Z"
    }
   },
   "outputs": [],
   "source": [
    "import json #google play returns list of json\n",
    "import pandas as pd\n",
    "from tqdm import tqdm"
   ]
  },
  {
   "cell_type": "code",
   "execution_count": 4,
   "metadata": {
    "ExecuteTime": {
     "end_time": "2021-03-26T23:30:33.124498Z",
     "start_time": "2021-03-26T23:30:25.733430Z"
    }
   },
   "outputs": [],
   "source": [
    "import seaborn as sns\n",
    "import matplotlib.pyplot as plt"
   ]
  },
  {
   "cell_type": "code",
   "execution_count": 2,
   "metadata": {
    "ExecuteTime": {
     "end_time": "2021-03-26T23:29:48.153025Z",
     "start_time": "2021-03-26T23:29:47.991682Z"
    }
   },
   "outputs": [],
   "source": [
    "# help hihglights some of the json results\n",
    "from pygments import highlight\n",
    "from pygments.lexers import JsonLexer\n",
    "from pygments.formatters import TerminalFormatter"
   ]
  },
  {
   "cell_type": "code",
   "execution_count": 3,
   "metadata": {
    "ExecuteTime": {
     "end_time": "2021-03-26T23:29:50.330871Z",
     "start_time": "2021-03-26T23:29:50.160975Z"
    }
   },
   "outputs": [],
   "source": [
    "from google_play_scraper import Sort, reviews, app"
   ]
  },
  {
   "cell_type": "code",
   "execution_count": 5,
   "metadata": {
    "ExecuteTime": {
     "end_time": "2021-03-26T23:30:35.871738Z",
     "start_time": "2021-03-26T23:30:35.853678Z"
    }
   },
   "outputs": [],
   "source": [
    "%matplotlib inline\n",
    "%config InlineBackend.figure_format='retina'\n"
   ]
  },
  {
   "cell_type": "code",
   "execution_count": 6,
   "metadata": {
    "ExecuteTime": {
     "end_time": "2021-03-26T23:30:37.029151Z",
     "start_time": "2021-03-26T23:30:37.022128Z"
    }
   },
   "outputs": [],
   "source": [
    "sns.set(style='whitegrid', palette='muted', font_scale=1.2)"
   ]
  },
  {
   "cell_type": "code",
   "execution_count": null,
   "metadata": {},
   "outputs": [],
   "source": [
    "app_packages_2 = [\n",
    "    'com.igg.android.lordsmobile',\n",
    "    'com.moonactive.coinmaster',\n",
    "    'com.king.candycrushsaga',\n",
    "    'com.nianticlabs.pokemongo',\n",
    "    'com.dts.freefireth',\n",
    "    'com.kingsgroup.sos',\n",
    "    'air.com.buffalo_studios.newflashbingo',\n",
    "    'com.playrix.homescapes',\n",
    "    'com.plarium.raidlegends',\n",
    "    'com.playrix.gardenscapes',\n",
    "    'com.aniplex.fategrandorder.en',\n",
    "    'com.king.candycrushsodasaga',\n",
    "    'com.smallgiantgames.empires',\n",
    "    'com.topwar.gp',\n",
    "    'air.com.playtika.slotomania',\n",
    "    'com.foxnextgames.m3',\n",
    "    'com.playrix.fishdomdd.gplay',\n",
    "    'net.peakgames.toonblast',\n",
    "    'com.williamsinteractive.jackpotparty',\n",
    "    'com.funplus.kingofavalon',\n",
    "    'com.playrix.township',\n",
    "    'slots.pcg.casino.games.free.android',\n",
    "    'com.activision.callofduty.shooter',\n",
    "    'com.lilithgame.roc.gp',\n",
    "    'com.playstudios.popslots',\n",
    "    'com.scopely.startrek',\n",
    "    'com.gsn.android.tripeaks',\n",
    "    'com.global.ztmslg',\n",
    "    'com.more.dayzsurvival.gp',\n",
    "    'com.tencent.ig',\n",
    "    'com.gramgames.mergedragons',\n",
    "    'com.productmadness.cashmancasino',\n",
    "    'com.diandian.gog',\n",
    "    'net.supertreat.solitaire',\n",
    "    'com.huuuge.casino.slots',\n",
    "    'com.diamondlife.slots.vegas.free',\n",
    "    'com.yottagames.mafiawar',\n",
    "    'com.ddi',\n",
    "    'net.peakgames.amy',\n",
    "    'com.miHoYo.GenshinImpact',\n",
    "    'com.vizorapps.klondike',\n",
    "    'com.playdemic.golf.android',\n",
    "    'com.pacificinteractive.HouseOfFun',\n",
    "    'com.im30.ROE.gp',\n",
    "    'com.kabam.marvelbattle',\n",
    "    'com.topgamesinc.evony',\n",
    "    'com.ea.game.starwarscapital_row',\n",
    "    'com.doubleugames.DoubleUCasino',\n",
    "    'com.scopely.yux',\n",
    "    'dk.tactile.lilysgarden',\n",
    "    'com.playtika.wsop.gp',\n",
    "    'com.bandainamcogames.dbzdokkanww',\n",
    "    'com.Seriously.BestFiends',\n",
    "    'com.crowdstar.covetHome',\n",
    "    'com.dc.hwsj',\n",
    "    'com.camelgames.superking',\n",
    "    'com.lilithgame.hgame.gp',\n",
    "    'com.netmarble.nanagb',\n",
    "    'com.supercell.clashofclans',\n",
    "    'com.jellybtn.boardkings',\n",
    "    'com.matchington.mansion',\n",
    "    'com.com2us.smon.normal.freefull.google.kr.android.common',\n",
    "    'com.square_enix.android_googleplay.WOTVffbeww',\n",
    "    'com.bigfishgames.mergetalesgoog',\n",
    "    'com.wb.goog.got.conquest',\n",
    "    'com.nintendo.zaba',\n",
    "    'com.productmadness.lightninglink',\n",
    "    'com.zynga.pottermatch',\n",
    "    'com.yottagames.gameofmafia',\n",
    "    'com.productmadness.hovmobile',\n",
    "    'com.sports.real.golf.rival.online',\n",
    "    'leyi.westgame',\n",
    "    'com.selfawaregames.acecasino',\n",
    "    'com.playtika.caesarscasino',\n",
    "    'net.wooga.junes_journey_hidden_object_mystery_game',\n",
    "    'com.huuuge.casino.texas',\n",
    "    'com.clipwiregames.bingostory',\n",
    "    'com.zynga.wizardofoz',\n",
    "    'com.zynga.hititrich',\n",
    "    'fi.reworks.redecor',\n",
    "    'com.bandainamcoent.dblegends_ww',\n",
    "    'com.miniclip.eightballpool',\n",
    "    'com.camelgames.aoz',\n",
    "    'com.YoStarEN.Arknights',\n",
    "    'com.MelsoftGames.FamilyIslandFarm',\n",
    "    'air.com.bitrhymes.bingo',\n",
    "    'com.grandegames.slots.dafu.casino',\n",
    "    'com.king.farmheroessaga',\n",
    "    'com.rovio.baba',\n",
    "    'com.belkatechnologies.clockmaker',\n",
    "    'com.ballytechnologies.quickhitslots',\n",
    "    'com.stove.epic7.google',\n",
    "    'com.tinyco.potter',\n",
    "    'com.tensquaregames.letsfish2',\n",
    "    'com.bbgame.sgzapk.tw',\n",
    "    'com.williamsinteractive.goldfish',\n",
    "    'com.riotgames.league.wildrift',\n",
    "    'com.zynga.gotslots',\n",
    "    'com.scopely.whiplash',\n",
    "    'com.pixonic.wwr',\n",
    "    'com.epicactiononline.ffxv.ane',\n",
    "    'com.murka.scatterslots',\n",
    "    'com.mojang.minecraftpe',\n",
    "    'com.mattel163.phase10',\n",
    "    'com.dragonscapes.global',\n",
    "    'com.topultragame.slotlasvega',\n",
    "    'com.playstudios.myvegas',\n",
    "    'com.nexters.herowars',\n",
    "    'com.wondergames.warpath.gp',\n",
    "    'com.glu.baseball21',\n",
    "    'com.hcg.cok.gp',\n",
    "    'com.supercell.hayday',\n",
    "    'com.rovio.dream',\n",
    "    'com.king.candycrush4',\n",
    "    'com.mars.avgchapters',\n",
    "    'com.panoramik.mightyparty',\n",
    "    'com.king.bubblewitch3',\n",
    "    'com.special.warship',\n",
    "    'air.com.sgn.cookiejam.gp',\n",
    "    'com.pixelberrystudios.choices',\n",
    "    'com.uken.BingoPop',\n",
    "    'com.bagelcode.slots1',\n",
    "    'jp.konami.duellinks',\n",
    "    'com.king.petrescuesaga',\n",
    "    'com.peoplefun.wordcross',\n",
    "    'com.bigfishgames.jackpotcityslotsf2pgoogle',\n",
    "    'com.funtomic.matchmasters',\n",
    "    'com.droidhang.ad',\n",
    "    'com.naturalmotion.customstreetracer2',\n",
    "    'com.ksrgland.goat',\n",
    "    'com.elex.nikkigp',\n",
    "    'com.blizzard.wtcg.hearthstone',\n",
    "    'com.zynga.livepoker',\n",
    "    'com.innogames.foeandroid',\n",
    "    'com.playstudios.mykonami',\n",
    "    'com.hts.ams',\n",
    "    'com.wizards.mtga',\n",
    "    'com.disney.emojimatch_goo',\n",
    "    'dk.tactile.mansionstory',\n",
    "    'com.global.tmslg',\n",
    "    'com.loop.match3d',\n",
    "    'com.mytona.cookingdiary.android',\n",
    "    'com.igs.fafafa',\n",
    "    'com.square_enix.android_googleplay.FFBEWW',\n",
    "    'com.playrix.manormatters',\n",
    "    'es.socialpoint.DragonCity',\n",
    "    'com.mobile.legends',\n",
    "    'com.netmarble.mherosgb',\n",
    "    'com.dreamgames.royalmatch',\n",
    "    'com.gigantic.clawee',\n",
    "    'com.kakaogames.gdts',\n",
    "    'com.sevenpirates.infinitywar',\n",
    "    'com.everywear.game5',\n",
    "    'com.scientificgames.monopolyslots',\n",
    "    'com.addictive.strategy.army',\n",
    "    'com.king.candycrushjellysaga',\n",
    "    'om.square_enix.android_googleplay.FFBEWW',\n",
    "    'com.moonton.mobilehero',\n",
    "    'com.d3p.mpq',\n",
    "    'com.yalla.yallagames',\n",
    "    'com.scopely.headshot',\n",
    "    'om.miHoYo.bh3global',\n",
    "    'com.ea.gp.maddennfl21mobile',\n",
    "    'com.plarium.vikings',\n",
    "    'com.gsn.android.casino',\n",
    "    'com.LDRLY.budfarmidletycoon',\n",
    "    'com.nintendo.zaka',\n",
    "    'com.bbumgames.spadesroyale',\n",
    "    'com.YoStarEN.AzurLane',\n",
    "    'com.duige.hzw.multilingual',\n",
    "    'and.onemt.war.ar',\n",
    "    'com.supercell.brawlstars',\n",
    "    'com.purplekiwii.vegaslive',\n",
    "    'com.ea.game.simcitymobile_row',\n",
    "    'com.deuscraft.TurboTeam',\n",
    "    'com.crowdstar.covetfashion',\n",
    "    'com.catdaddy.cat22',\n",
    "    'net.peakgames.mobile.spades.android',\n",
    "    'com.sgn.pandapop.gp',\n",
    "    'com.bingo.tour.party.crazy.free',\n",
    "    'com.aqupepgames.projectpepe',\n",
    "    'jp.goodsmile.grandsummonersglobal_android',\n",
    "    'com.supercell.clashroyale',\n",
    "    'com.nintendo.zaga',\n",
    "    'com.mytona.seekersnotes.android',\n",
    "    'com.xdg.and.wll',\n",
    "    'com.ludia.jw2',\n",
    "    'com.zynga.wonka',\n",
    "    'com.igg.android.dressuptimeprincess',\n",
    "    'com.ballytechnologies.f88',\n",
    "    'com.bingo.scape.android.free',\n",
    "    'com.gtarcade.ioe.global',\n",
    "    'com.murka.slotsera',\n",
    "    'com.zloong.eu.dr.gp',\n",
    "    'com.zynga.words3',\n",
    "    'com.yottagames.stoneage'\n",
    "]"
   ]
  },
  {
   "cell_type": "code",
   "execution_count": 8,
   "metadata": {
    "ExecuteTime": {
     "end_time": "2021-03-24T23:14:01.497629Z",
     "start_time": "2021-03-24T23:14:01.488600Z"
    }
   },
   "outputs": [],
   "source": [
    "app_packages = [\n",
    "    'com.game.colorslime',\n",
    "    'com.paradyme.solarsmash',\n",
    "    'com.playstrom.bob',\n",
    "    'com.drawpuzzle.dop.drawit.justdrawit',\n",
    "    'com.innersloth.spacemafia',\n",
    "    'com.roblox.client',\n",
    "    'com.uncosoft.highheels',\n",
    "    'com.bgg.jump',\n",
    "    'com.freeplay.runandfight',\n",
    "    'com.pencil.madness',\n",
    "    'com.tgame.girlgenius',\n",
    "    'com.youmusic.magictiles',\n",
    "    'com.gma.water.sort.puzzle',\n",
    "    'com.hypercarrot.giantrush',\n",
    "    'com.RBSSOFT.HyperMobile',\n",
    "    'com.playstrom.dop2',\n",
    "    'com.kiloo.subwaysurf',\n",
    "    'com.sdpgames.sculptpeople',\n",
    "    'com.amanotes.beathopper',\n",
    "    'com.Born2Play.StackyDash'\n",
    "]"
   ]
  },
  {
   "cell_type": "code",
   "execution_count": 9,
   "metadata": {
    "ExecuteTime": {
     "end_time": "2021-03-24T23:14:09.188729Z",
     "start_time": "2021-03-24T23:14:09.171673Z"
    }
   },
   "outputs": [
    {
     "data": {
      "text/plain": [
       "20"
      ]
     },
     "execution_count": 9,
     "metadata": {},
     "output_type": "execute_result"
    }
   ],
   "source": [
    "len(app_packages)"
   ]
  },
  {
   "cell_type": "code",
   "execution_count": 10,
   "metadata": {
    "ExecuteTime": {
     "end_time": "2021-03-24T23:19:03.383452Z",
     "start_time": "2021-03-24T23:18:59.016503Z"
    }
   },
   "outputs": [
    {
     "name": "stderr",
     "output_type": "stream",
     "text": [
      "100%|██████████████████████████████████████████| 20/20 [00:04<00:00,  4.67it/s]\n"
     ]
    }
   ],
   "source": [
    "app_infos = []\n",
    "\n",
    "for ap in tqdm(app_packages):\n",
    "    info = app(ap, lang='en', country='us')\n",
    "    del info['comments']\n",
    "    app_infos.append(info)"
   ]
  },
  {
   "cell_type": "code",
   "execution_count": 13,
   "metadata": {
    "ExecuteTime": {
     "end_time": "2021-03-24T23:22:43.723187Z",
     "start_time": "2021-03-24T23:22:43.716164Z"
    }
   },
   "outputs": [],
   "source": [
    "def print_json(json_object):\n",
    "    json_str = json.dumps(\n",
    "        json_object,\n",
    "        indent=2,\n",
    "        sort_keys=True,\n",
    "        default=str\n",
    "    )\n",
    "    \n",
    "    print(highlight(json_str, JsonLexer(), TerminalFormatter()))"
   ]
  },
  {
   "cell_type": "code",
   "execution_count": 14,
   "metadata": {
    "ExecuteTime": {
     "end_time": "2021-03-24T23:22:44.808646Z",
     "start_time": "2021-03-24T23:22:44.723504Z"
    },
    "scrolled": true
   },
   "outputs": [
    {
     "name": "stdout",
     "output_type": "stream",
     "text": [
      "{\n",
      "  \u001b[94m\"adSupported\"\u001b[39;49;00m: \u001b[34mtrue\u001b[39;49;00m,\n",
      "  \u001b[94m\"androidVersion\"\u001b[39;49;00m: \u001b[33m\"5.0\"\u001b[39;49;00m,\n",
      "  \u001b[94m\"androidVersionText\"\u001b[39;49;00m: \u001b[33m\"5.0 and up\"\u001b[39;49;00m,\n",
      "  \u001b[94m\"appId\"\u001b[39;49;00m: \u001b[33m\"com.game.colorslime\"\u001b[39;49;00m,\n",
      "  \u001b[94m\"containsAds\"\u001b[39;49;00m: \u001b[34mtrue\u001b[39;49;00m,\n",
      "  \u001b[94m\"contentRating\"\u001b[39;49;00m: \u001b[33m\"Everyone\"\u001b[39;49;00m,\n",
      "  \u001b[94m\"contentRatingDescription\"\u001b[39;49;00m: \u001b[34mnull\u001b[39;49;00m,\n",
      "  \u001b[94m\"currency\"\u001b[39;49;00m: \u001b[33m\"XXX\"\u001b[39;49;00m,\n",
      "  \u001b[94m\"description\"\u001b[39;49;00m: \u001b[33m\"Inject Color Dyes into Jellies. Enjoy the Perfect Spreads and Twisty Curves.  Easy Mechanics, Incredible Feel! Relaxing Gameplay \\r\\n\\r\\nFeatures: \\r\\n- Realistic Jelly\\r\\n- Amazing Shapes\\r\\n- Multi-Color Dyes\\r\\n- Special Collection\"\u001b[39;49;00m,\n",
      "  \u001b[94m\"descriptionHTML\"\u001b[39;49;00m: \u001b[33m\"Inject Color Dyes into Jellies. Enjoy the Perfect Spreads and Twisty Curves.  Easy Mechanics, Incredible Feel! Relaxing Gameplay <br><br>Features: <br>- Realistic Jelly<br>- Amazing Shapes<br>- Multi-Color Dyes<br>- Special Collection\"\u001b[39;49;00m,\n",
      "  \u001b[94m\"developer\"\u001b[39;49;00m: \u001b[33m\"Good Job Games\"\u001b[39;49;00m,\n",
      "  \u001b[94m\"developerAddress\"\u001b[39;49;00m: \u001b[33m\"Akat Mahallesi Besiktas Istanbul Turkey\"\u001b[39;49;00m,\n",
      "  \u001b[94m\"developerEmail\"\u001b[39;49;00m: \u001b[33m\"jellydye@goodjobgames.com\"\u001b[39;49;00m,\n",
      "  \u001b[94m\"developerId\"\u001b[39;49;00m: \u001b[33m\"Good+Job+Games\"\u001b[39;49;00m,\n",
      "  \u001b[94m\"developerInternalID\"\u001b[39;49;00m: \u001b[33m\"6007220206325811244\"\u001b[39;49;00m,\n",
      "  \u001b[94m\"developerWebsite\"\u001b[39;49;00m: \u001b[33m\"https://www.goodjobgames.com/\"\u001b[39;49;00m,\n",
      "  \u001b[94m\"editorsChoice\"\u001b[39;49;00m: \u001b[34mfalse\u001b[39;49;00m,\n",
      "  \u001b[94m\"free\"\u001b[39;49;00m: \u001b[34mtrue\u001b[39;49;00m,\n",
      "  \u001b[94m\"genre\"\u001b[39;49;00m: \u001b[33m\"Simulation\"\u001b[39;49;00m,\n",
      "  \u001b[94m\"genreId\"\u001b[39;49;00m: \u001b[33m\"GAME_SIMULATION\"\u001b[39;49;00m,\n",
      "  \u001b[94m\"headerImage\"\u001b[39;49;00m: \u001b[33m\"https://play-lh.googleusercontent.com/kBcfbQGRc8TBeDtK3uWZ33bD261caT1RtOhHjHbmNIl1nryseRAMY81Uzhaupt8tLQ\"\u001b[39;49;00m,\n",
      "  \u001b[94m\"histogram\"\u001b[39;49;00m: [\n",
      "    \u001b[34m1529\u001b[39;49;00m,\n",
      "    \u001b[34m387\u001b[39;49;00m,\n",
      "    \u001b[34m778\u001b[39;49;00m,\n",
      "    \u001b[34m1212\u001b[39;49;00m,\n",
      "    \u001b[34m8988\u001b[39;49;00m\n",
      "  ],\n",
      "  \u001b[94m\"icon\"\u001b[39;49;00m: \u001b[33m\"https://play-lh.googleusercontent.com/IztHlaqihKyvPvC7NqOI67EbJ7zmSWXHyVzUC76vmyBkNeHIAgyY0guh7U55SOzHrtM\"\u001b[39;49;00m,\n",
      "  \u001b[94m\"inAppProductPrice\"\u001b[39;49;00m: \u001b[33m\"$2.99 - $4.99 per item\"\u001b[39;49;00m,\n",
      "  \u001b[94m\"installs\"\u001b[39;49;00m: \u001b[33m\"1,000,000+\"\u001b[39;49;00m,\n",
      "  \u001b[94m\"minInstalls\"\u001b[39;49;00m: \u001b[34m1000000\u001b[39;49;00m,\n",
      "  \u001b[94m\"offersIAP\"\u001b[39;49;00m: \u001b[34mtrue\u001b[39;49;00m,\n",
      "  \u001b[94m\"originalPrice\"\u001b[39;49;00m: \u001b[34mnull\u001b[39;49;00m,\n",
      "  \u001b[94m\"price\"\u001b[39;49;00m: \u001b[34m0\u001b[39;49;00m,\n",
      "  \u001b[94m\"privacyPolicy\"\u001b[39;49;00m: \u001b[33m\"http://privacy.goodjobgames.com/\"\u001b[39;49;00m,\n",
      "  \u001b[94m\"ratings\"\u001b[39;49;00m: \u001b[34m12894\u001b[39;49;00m,\n",
      "  \u001b[94m\"recentChanges\"\u001b[39;49;00m: \u001b[33m\"New Levels!\\r\\nBug Fixes and Improvements\"\u001b[39;49;00m,\n",
      "  \u001b[94m\"recentChangesHTML\"\u001b[39;49;00m: \u001b[33m\"New Levels!<br>Bug Fixes and Improvements\"\u001b[39;49;00m,\n",
      "  \u001b[94m\"released\"\u001b[39;49;00m: \u001b[33m\"Feb 4, 2021\"\u001b[39;49;00m,\n",
      "  \u001b[94m\"reviews\"\u001b[39;49;00m: \u001b[34m3010\u001b[39;49;00m,\n",
      "  \u001b[94m\"sale\"\u001b[39;49;00m: \u001b[34mfalse\u001b[39;49;00m,\n",
      "  \u001b[94m\"saleText\"\u001b[39;49;00m: \u001b[34mnull\u001b[39;49;00m,\n",
      "  \u001b[94m\"saleTime\"\u001b[39;49;00m: \u001b[34mnull\u001b[39;49;00m,\n",
      "  \u001b[94m\"score\"\u001b[39;49;00m: \u001b[34m4.220615\u001b[39;49;00m,\n",
      "  \u001b[94m\"screenshots\"\u001b[39;49;00m: [\n",
      "    \u001b[33m\"https://play-lh.googleusercontent.com/-eVAvmLYvLsRjYgF7g0DokHJ9zNPc72_cK0rmanNdhSQiB82VXqEjZ4BOxWOba7Phudo\"\u001b[39;49;00m,\n",
      "    \u001b[33m\"https://play-lh.googleusercontent.com/09Bgfoy3GKf1ZMHI8iKRM4PDR1nkot0g7KZ4jWxES1IskeKyiFKVvuUeuH1gYFlbP5pe\"\u001b[39;49;00m,\n",
      "    \u001b[33m\"https://play-lh.googleusercontent.com/xFlyYKjfhJwmLicvCIYfLj5TVSPQRXlOwmYTDGeeuQ0fnKaJs2SLVvM9-DyLSVlnUCUe\"\u001b[39;49;00m,\n",
      "    \u001b[33m\"https://play-lh.googleusercontent.com/0aq96czyUgzFS3ZLhiMWafwa7ivUDHkHuDlJBwt5CunyBnAN9JK_mF4SmC0DtRRKvzQ\"\u001b[39;49;00m,\n",
      "    \u001b[33m\"https://play-lh.googleusercontent.com/C7lShBkpxtfL0MnNFeuZavNu91nmQi27iY9nzOOeRl0EhwDcqExeC2cZ7jliG29E98Q\"\u001b[39;49;00m,\n",
      "    \u001b[33m\"https://play-lh.googleusercontent.com/cFbFdcqAfnBlI42-sWtwfgj2PAMnAdQIIsiVWCUvdmSPbalkyFoZcEx0iTRySiijl0c\"\u001b[39;49;00m,\n",
      "    \u001b[33m\"https://play-lh.googleusercontent.com/Qts6Y_7yNeG_60bGMl1Th4maUNHhl0p7HwGXEGQMe0z7TocXlNtWLi3MqfphyZUmr7sy\"\u001b[39;49;00m,\n",
      "    \u001b[33m\"https://play-lh.googleusercontent.com/Ec_jnwqFQpfa3-CHHdiye_qCHUvl0zqUuXyO6Wi7gi4yIwyEtqNVm4cLqfXAa-U83g\"\u001b[39;49;00m,\n",
      "    \u001b[33m\"https://play-lh.googleusercontent.com/QyPoVi5xSiBKOqZkxJ_yyl_2eltO3_aPtkjkFQlWLG1wHfm6i_8c_Nq5-StWKmC9798\"\u001b[39;49;00m,\n",
      "    \u001b[33m\"https://play-lh.googleusercontent.com/k3kOZjI2VZ9RF_tkRtpXyUgT7AKTjkIz7rCkbrWCHk9ydybcGZxkWjieSO6fFFYBdg4\"\u001b[39;49;00m,\n",
      "    \u001b[33m\"https://play-lh.googleusercontent.com/xX74CS4Nc5_MZ2cHXOCPtR7gW4Rxt9xhwpXsdpAy-ylSpSbf3ql6-_b3l9Vc-mYVGI_s\"\u001b[39;49;00m,\n",
      "    \u001b[33m\"https://play-lh.googleusercontent.com/01wPtZgvRTtwXtIZWu73uW3_pl7Y-OV6wD7ozz0rBUphePjtwlumjQlPlJpB7FusmAo\"\u001b[39;49;00m,\n",
      "    \u001b[33m\"https://play-lh.googleusercontent.com/5qNKG2_KK6WowRk-nhzQs8vKMJV3X8zTZ5hCEEKg4Zz3gWEUoGWoyV-FNz1L_nSneeM\"\u001b[39;49;00m,\n",
      "    \u001b[33m\"https://play-lh.googleusercontent.com/NQWn1-xnUOHc26WLbgaXSbfgSslYP27JXEqMQtJooQIZSsciHqmJHbzaGfoFRZe9aA\"\u001b[39;49;00m,\n",
      "    \u001b[33m\"https://play-lh.googleusercontent.com/fqRN4d3l_roAE6q5yLZhBss3C5lACEyad8Z7_cvMt4GAkbdqvoJnW28Hs4AhOuWQQtQ\"\u001b[39;49;00m,\n",
      "    \u001b[33m\"https://play-lh.googleusercontent.com/2KFDSCCuMF8FJZb6ke9VXddivu_u9WKDBMlDrBv4697GCKFZIdE90_Ea4V60CMtQ6A8\"\u001b[39;49;00m,\n",
      "    \u001b[33m\"https://play-lh.googleusercontent.com/T1bjSrj0LdxRiFsTCfloFM8WvH2Jv38RRvJUz8qRcToziPiFa04k2UfInKgR5Hu9HnA\"\u001b[39;49;00m,\n",
      "    \u001b[33m\"https://play-lh.googleusercontent.com/Jk1YHsQ5U7yLNhFZOkODjtaMC4YFwGuINkoeoBNn_bDj4u28SrZD6ELgh4tLpMIV4A\"\u001b[39;49;00m\n",
      "  ],\n",
      "  \u001b[94m\"size\"\u001b[39;49;00m: \u001b[33m\"Varies with device\"\u001b[39;49;00m,\n",
      "  \u001b[94m\"summary\"\u001b[39;49;00m: \u001b[33m\"Relaxing Slime Game\"\u001b[39;49;00m,\n",
      "  \u001b[94m\"summaryHTML\"\u001b[39;49;00m: \u001b[33m\"Relaxing Slime Game\"\u001b[39;49;00m,\n",
      "  \u001b[94m\"title\"\u001b[39;49;00m: \u001b[33m\"Jelly Dye\"\u001b[39;49;00m,\n",
      "  \u001b[94m\"updated\"\u001b[39;49;00m: \u001b[34m1616177827\u001b[39;49;00m,\n",
      "  \u001b[94m\"url\"\u001b[39;49;00m: \u001b[33m\"https://play.google.com/store/apps/details?id=com.game.colorslime&hl=en&gl=us\"\u001b[39;49;00m,\n",
      "  \u001b[94m\"version\"\u001b[39;49;00m: \u001b[33m\"1.49\"\u001b[39;49;00m,\n",
      "  \u001b[94m\"video\"\u001b[39;49;00m: \u001b[34mnull\u001b[39;49;00m,\n",
      "  \u001b[94m\"videoImage\"\u001b[39;49;00m: \u001b[34mnull\u001b[39;49;00m\n",
      "}\n",
      "\n"
     ]
    }
   ],
   "source": [
    "print_json(app_infos[0])"
   ]
  },
  {
   "cell_type": "code",
   "execution_count": 19,
   "metadata": {
    "ExecuteTime": {
     "end_time": "2021-03-24T23:34:07.707971Z",
     "start_time": "2021-03-24T23:34:07.530601Z"
    },
    "scrolled": true
   },
   "outputs": [
    {
     "data": {
      "text/html": [
       "<div>\n",
       "<style scoped>\n",
       "    .dataframe tbody tr th:only-of-type {\n",
       "        vertical-align: middle;\n",
       "    }\n",
       "\n",
       "    .dataframe tbody tr th {\n",
       "        vertical-align: top;\n",
       "    }\n",
       "\n",
       "    .dataframe thead th {\n",
       "        text-align: right;\n",
       "    }\n",
       "</style>\n",
       "<table border=\"1\" class=\"dataframe\">\n",
       "  <thead>\n",
       "    <tr style=\"text-align: right;\">\n",
       "      <th></th>\n",
       "      <th>title</th>\n",
       "      <th>description</th>\n",
       "      <th>descriptionHTML</th>\n",
       "      <th>summary</th>\n",
       "      <th>summaryHTML</th>\n",
       "      <th>installs</th>\n",
       "      <th>minInstalls</th>\n",
       "      <th>score</th>\n",
       "      <th>ratings</th>\n",
       "      <th>reviews</th>\n",
       "      <th>...</th>\n",
       "      <th>adSupported</th>\n",
       "      <th>containsAds</th>\n",
       "      <th>released</th>\n",
       "      <th>updated</th>\n",
       "      <th>version</th>\n",
       "      <th>recentChanges</th>\n",
       "      <th>recentChangesHTML</th>\n",
       "      <th>editorsChoice</th>\n",
       "      <th>appId</th>\n",
       "      <th>url</th>\n",
       "    </tr>\n",
       "  </thead>\n",
       "  <tbody>\n",
       "    <tr>\n",
       "      <th>0</th>\n",
       "      <td>Jelly Dye</td>\n",
       "      <td>Inject Color Dyes into Jellies. Enjoy the Perf...</td>\n",
       "      <td>Inject Color Dyes into Jellies. Enjoy the Perf...</td>\n",
       "      <td>Relaxing Slime Game</td>\n",
       "      <td>Relaxing Slime Game</td>\n",
       "      <td>1,000,000+</td>\n",
       "      <td>1000000</td>\n",
       "      <td>4.220615</td>\n",
       "      <td>12894</td>\n",
       "      <td>3010</td>\n",
       "      <td>...</td>\n",
       "      <td>True</td>\n",
       "      <td>True</td>\n",
       "      <td>Feb 4, 2021</td>\n",
       "      <td>1616177827</td>\n",
       "      <td>1.49</td>\n",
       "      <td>New Levels!\\r\\nBug Fixes and Improvements</td>\n",
       "      <td>New Levels!&lt;br&gt;Bug Fixes and Improvements</td>\n",
       "      <td>False</td>\n",
       "      <td>com.game.colorslime</td>\n",
       "      <td>https://play.google.com/store/apps/details?id=...</td>\n",
       "    </tr>\n",
       "    <tr>\n",
       "      <th>1</th>\n",
       "      <td>Solar Smash</td>\n",
       "      <td>Solar Smash is a planet destruction simulator,...</td>\n",
       "      <td>Solar Smash is a planet destruction simulator,...</td>\n",
       "      <td>Planet destruction simulator</td>\n",
       "      <td>Planet destruction simulator</td>\n",
       "      <td>10,000,000+</td>\n",
       "      <td>10000000</td>\n",
       "      <td>4.609341</td>\n",
       "      <td>291390</td>\n",
       "      <td>99185</td>\n",
       "      <td>...</td>\n",
       "      <td>True</td>\n",
       "      <td>True</td>\n",
       "      <td>Jan 19, 2020</td>\n",
       "      <td>1615140818</td>\n",
       "      <td>1.4.1</td>\n",
       "      <td>- bug fixes (including planet core not showing...</td>\n",
       "      <td>- bug fixes (including planet core not showing...</td>\n",
       "      <td>False</td>\n",
       "      <td>com.paradyme.solarsmash</td>\n",
       "      <td>https://play.google.com/store/apps/details?id=...</td>\n",
       "    </tr>\n",
       "    <tr>\n",
       "      <th>2</th>\n",
       "      <td>Comics Bob</td>\n",
       "      <td>🗿 &lt;b&gt; Comics Bob – Mind-bending puzzles and cl...</td>\n",
       "      <td>🗿 &lt;b&gt; Comics Bob – Mind-bending puzzles and cl...</td>\n",
       "      <td>Help Bob Solve the Puzzle in a Stunning Cave A...</td>\n",
       "      <td>Help Bob Solve the Puzzle in a Stunning Cave A...</td>\n",
       "      <td>5,000,000+</td>\n",
       "      <td>5000000</td>\n",
       "      <td>3.797002</td>\n",
       "      <td>27282</td>\n",
       "      <td>10227</td>\n",
       "      <td>...</td>\n",
       "      <td>True</td>\n",
       "      <td>True</td>\n",
       "      <td>Oct 27, 2020</td>\n",
       "      <td>1616193600</td>\n",
       "      <td>1.1.0</td>\n",
       "      <td>- Gameplay improvements\\r\\n- Minor bug fix\\r\\n...</td>\n",
       "      <td>- Gameplay improvements&lt;br&gt;- Minor bug fix&lt;br&gt;...</td>\n",
       "      <td>False</td>\n",
       "      <td>com.playstrom.bob</td>\n",
       "      <td>https://play.google.com/store/apps/details?id=...</td>\n",
       "    </tr>\n",
       "    <tr>\n",
       "      <th>3</th>\n",
       "      <td>Draw Puzzle - Draw one part</td>\n",
       "      <td>Do you know how to draw things? Do you know ho...</td>\n",
       "      <td>Do you know how to draw things? Do you know ho...</td>\n",
       "      <td>Let's draw one part to check how smart you are...</td>\n",
       "      <td>Let&amp;#39;s draw one part to check how smart you...</td>\n",
       "      <td>5,000,000+</td>\n",
       "      <td>5000000</td>\n",
       "      <td>4.277190</td>\n",
       "      <td>16952</td>\n",
       "      <td>8889</td>\n",
       "      <td>...</td>\n",
       "      <td>True</td>\n",
       "      <td>True</td>\n",
       "      <td>Dec 24, 2020</td>\n",
       "      <td>1616609221</td>\n",
       "      <td>1.0.29</td>\n",
       "      <td>+ Add new 6 levels.\\r\\n+ New level updates dai...</td>\n",
       "      <td>+ Add new 6 levels.&lt;br&gt;+ New level updates dai...</td>\n",
       "      <td>False</td>\n",
       "      <td>com.drawpuzzle.dop.drawit.justdrawit</td>\n",
       "      <td>https://play.google.com/store/apps/details?id=...</td>\n",
       "    </tr>\n",
       "    <tr>\n",
       "      <th>4</th>\n",
       "      <td>Among Us</td>\n",
       "      <td>Play online or over local WiFi with 4-10 playe...</td>\n",
       "      <td>Play online or over local WiFi with 4-10 playe...</td>\n",
       "      <td>Join your crewmates in a multiplayer game of t...</td>\n",
       "      <td>Join your crewmates in a multiplayer game of t...</td>\n",
       "      <td>100,000,000+</td>\n",
       "      <td>100000000</td>\n",
       "      <td>3.822744</td>\n",
       "      <td>11122834</td>\n",
       "      <td>5620232</td>\n",
       "      <td>...</td>\n",
       "      <td>True</td>\n",
       "      <td>True</td>\n",
       "      <td>Jun 15, 2018</td>\n",
       "      <td>1615497146</td>\n",
       "      <td>2021.3.9</td>\n",
       "      <td>Added Quick Chat feature: An easier, faster, a...</td>\n",
       "      <td>Added Quick Chat feature: An easier, faster, a...</td>\n",
       "      <td>True</td>\n",
       "      <td>com.innersloth.spacemafia</td>\n",
       "      <td>https://play.google.com/store/apps/details?id=...</td>\n",
       "    </tr>\n",
       "  </tbody>\n",
       "</table>\n",
       "<p>5 rows × 49 columns</p>\n",
       "</div>"
      ],
      "text/plain": [
       "                         title  \\\n",
       "0                    Jelly Dye   \n",
       "1                  Solar Smash   \n",
       "2                   Comics Bob   \n",
       "3  Draw Puzzle - Draw one part   \n",
       "4                     Among Us   \n",
       "\n",
       "                                         description  \\\n",
       "0  Inject Color Dyes into Jellies. Enjoy the Perf...   \n",
       "1  Solar Smash is a planet destruction simulator,...   \n",
       "2  🗿 <b> Comics Bob – Mind-bending puzzles and cl...   \n",
       "3  Do you know how to draw things? Do you know ho...   \n",
       "4  Play online or over local WiFi with 4-10 playe...   \n",
       "\n",
       "                                     descriptionHTML  \\\n",
       "0  Inject Color Dyes into Jellies. Enjoy the Perf...   \n",
       "1  Solar Smash is a planet destruction simulator,...   \n",
       "2  🗿 <b> Comics Bob – Mind-bending puzzles and cl...   \n",
       "3  Do you know how to draw things? Do you know ho...   \n",
       "4  Play online or over local WiFi with 4-10 playe...   \n",
       "\n",
       "                                             summary  \\\n",
       "0                                Relaxing Slime Game   \n",
       "1                       Planet destruction simulator   \n",
       "2  Help Bob Solve the Puzzle in a Stunning Cave A...   \n",
       "3  Let's draw one part to check how smart you are...   \n",
       "4  Join your crewmates in a multiplayer game of t...   \n",
       "\n",
       "                                         summaryHTML      installs  \\\n",
       "0                                Relaxing Slime Game    1,000,000+   \n",
       "1                       Planet destruction simulator   10,000,000+   \n",
       "2  Help Bob Solve the Puzzle in a Stunning Cave A...    5,000,000+   \n",
       "3  Let&#39;s draw one part to check how smart you...    5,000,000+   \n",
       "4  Join your crewmates in a multiplayer game of t...  100,000,000+   \n",
       "\n",
       "   minInstalls     score   ratings  reviews  ... adSupported  containsAds  \\\n",
       "0      1000000  4.220615     12894     3010  ...        True         True   \n",
       "1     10000000  4.609341    291390    99185  ...        True         True   \n",
       "2      5000000  3.797002     27282    10227  ...        True         True   \n",
       "3      5000000  4.277190     16952     8889  ...        True         True   \n",
       "4    100000000  3.822744  11122834  5620232  ...        True         True   \n",
       "\n",
       "       released     updated   version  \\\n",
       "0   Feb 4, 2021  1616177827      1.49   \n",
       "1  Jan 19, 2020  1615140818     1.4.1   \n",
       "2  Oct 27, 2020  1616193600     1.1.0   \n",
       "3  Dec 24, 2020  1616609221    1.0.29   \n",
       "4  Jun 15, 2018  1615497146  2021.3.9   \n",
       "\n",
       "                                       recentChanges  \\\n",
       "0          New Levels!\\r\\nBug Fixes and Improvements   \n",
       "1  - bug fixes (including planet core not showing...   \n",
       "2  - Gameplay improvements\\r\\n- Minor bug fix\\r\\n...   \n",
       "3  + Add new 6 levels.\\r\\n+ New level updates dai...   \n",
       "4  Added Quick Chat feature: An easier, faster, a...   \n",
       "\n",
       "                                   recentChangesHTML editorsChoice  \\\n",
       "0          New Levels!<br>Bug Fixes and Improvements         False   \n",
       "1  - bug fixes (including planet core not showing...         False   \n",
       "2  - Gameplay improvements<br>- Minor bug fix<br>...         False   \n",
       "3  + Add new 6 levels.<br>+ New level updates dai...         False   \n",
       "4  Added Quick Chat feature: An easier, faster, a...          True   \n",
       "\n",
       "                                  appId  \\\n",
       "0                   com.game.colorslime   \n",
       "1               com.paradyme.solarsmash   \n",
       "2                     com.playstrom.bob   \n",
       "3  com.drawpuzzle.dop.drawit.justdrawit   \n",
       "4             com.innersloth.spacemafia   \n",
       "\n",
       "                                                 url  \n",
       "0  https://play.google.com/store/apps/details?id=...  \n",
       "1  https://play.google.com/store/apps/details?id=...  \n",
       "2  https://play.google.com/store/apps/details?id=...  \n",
       "3  https://play.google.com/store/apps/details?id=...  \n",
       "4  https://play.google.com/store/apps/details?id=...  \n",
       "\n",
       "[5 rows x 49 columns]"
      ]
     },
     "execution_count": 19,
     "metadata": {},
     "output_type": "execute_result"
    }
   ],
   "source": [
    "app_info_df = pd.DataFrame(app_infos)\n",
    "app_info_df.head()"
   ]
  },
  {
   "cell_type": "code",
   "execution_count": 26,
   "metadata": {
    "ExecuteTime": {
     "end_time": "2021-03-25T04:02:05.658782Z",
     "start_time": "2021-03-25T04:02:05.561611Z"
    }
   },
   "outputs": [],
   "source": [
    "app_info_df.to_csv('app_info.csv', index=None, header=True)"
   ]
  },
  {
   "cell_type": "markdown",
   "metadata": {},
   "source": [
    "# Get App Reviews"
   ]
  },
  {
   "cell_type": "code",
   "execution_count": 22,
   "metadata": {
    "ExecuteTime": {
     "end_time": "2021-03-25T00:14:11.810404Z",
     "start_time": "2021-03-25T00:12:22.950818Z"
    }
   },
   "outputs": [
    {
     "name": "stderr",
     "output_type": "stream",
     "text": [
      "100%|██████████████████████████████████████████| 20/20 [01:48<00:00,  5.44s/it]\n"
     ]
    }
   ],
   "source": [
    "app_reviews = []\n",
    "\n",
    "for ap in tqdm(app_packages):\n",
    "    for score in range(1,6):\n",
    "        for sort_order in [Sort.MOST_RELEVANT, Sort.NEWEST]:\n",
    "            rvs = reviews(\n",
    "            ap,\n",
    "            lang='en',\n",
    "            country='us',\n",
    "            sort=sort_order,\n",
    "            count= 200 if score == 3 else 100,\n",
    "            filter_score_with=score\n",
    "            )[0]\n",
    "            \n",
    "            for r in rvs:\n",
    "                r['sortOrder'] = 'most_relevant' if sort_order == Sort.MOST_RELEVANT else 'newest'\n",
    "                r['appID']= ap\n",
    "            app_reviews.extend(rvs)"
   ]
  },
  {
   "cell_type": "code",
   "execution_count": 23,
   "metadata": {
    "ExecuteTime": {
     "end_time": "2021-03-25T03:58:43.388262Z",
     "start_time": "2021-03-25T03:58:43.369212Z"
    }
   },
   "outputs": [
    {
     "name": "stdout",
     "output_type": "stream",
     "text": [
      "{\n",
      "  \u001b[94m\"appID\"\u001b[39;49;00m: \u001b[33m\"com.game.colorslime\"\u001b[39;49;00m,\n",
      "  \u001b[94m\"at\"\u001b[39;49;00m: \u001b[33m\"2021-03-22 13:16:53\"\u001b[39;49;00m,\n",
      "  \u001b[94m\"content\"\u001b[39;49;00m: \u001b[33m\"This game is kinda good, besides the fact that the pictures show that you can put any color you want but the picture wants you to do 2 or more colors but if you don't put those colors it takes down the accuracy. One more thing the game shows it's for everyone I'm a kid so I thought it would be appropriate BUT it has a girl's bikini top and a girl's bikini bottom.\"\u001b[39;49;00m,\n",
      "  \u001b[94m\"repliedAt\"\u001b[39;49;00m: \u001b[34mnull\u001b[39;49;00m,\n",
      "  \u001b[94m\"replyContent\"\u001b[39;49;00m: \u001b[34mnull\u001b[39;49;00m,\n",
      "  \u001b[94m\"reviewCreatedVersion\"\u001b[39;49;00m: \u001b[33m\"1.49\"\u001b[39;49;00m,\n",
      "  \u001b[94m\"reviewId\"\u001b[39;49;00m: \u001b[33m\"gp:AOqpTOFNvajvGFfAIU7_Swk3NYP7Gy_Hakn0Kehpcu9NOIOJAHh9Wk8hkJKddI6GZ9wytm4OPJ1mCaVVYC91VA\"\u001b[39;49;00m,\n",
      "  \u001b[94m\"score\"\u001b[39;49;00m: \u001b[34m1\u001b[39;49;00m,\n",
      "  \u001b[94m\"sortOrder\"\u001b[39;49;00m: \u001b[33m\"most_relevant\"\u001b[39;49;00m,\n",
      "  \u001b[94m\"thumbsUpCount\"\u001b[39;49;00m: \u001b[34m90\u001b[39;49;00m,\n",
      "  \u001b[94m\"userImage\"\u001b[39;49;00m: \u001b[33m\"https://play-lh.googleusercontent.com/-JaDNmoKXIoY/AAAAAAAAAAI/AAAAAAAAAAA/AMZuucnx-ozePl184qnlLY_3MeAPg8ys5g/photo.jpg\"\u001b[39;49;00m,\n",
      "  \u001b[94m\"userName\"\u001b[39;49;00m: \u001b[33m\"Trinity Smith\"\u001b[39;49;00m\n",
      "}\n",
      "\n"
     ]
    }
   ],
   "source": [
    "print_json(app_reviews[0])"
   ]
  },
  {
   "cell_type": "code",
   "execution_count": 24,
   "metadata": {
    "ExecuteTime": {
     "end_time": "2021-03-25T04:00:34.538464Z",
     "start_time": "2021-03-25T04:00:34.447177Z"
    }
   },
   "outputs": [
    {
     "data": {
      "text/plain": [
       "(23006, 12)"
      ]
     },
     "execution_count": 24,
     "metadata": {},
     "output_type": "execute_result"
    }
   ],
   "source": [
    "app_reviews_df = pd.DataFrame(app_reviews)\n",
    "app_reviews_df.shape"
   ]
  },
  {
   "cell_type": "code",
   "execution_count": 25,
   "metadata": {
    "ExecuteTime": {
     "end_time": "2021-03-25T04:00:46.691572Z",
     "start_time": "2021-03-25T04:00:46.664482Z"
    }
   },
   "outputs": [
    {
     "data": {
      "text/html": [
       "<div>\n",
       "<style scoped>\n",
       "    .dataframe tbody tr th:only-of-type {\n",
       "        vertical-align: middle;\n",
       "    }\n",
       "\n",
       "    .dataframe tbody tr th {\n",
       "        vertical-align: top;\n",
       "    }\n",
       "\n",
       "    .dataframe thead th {\n",
       "        text-align: right;\n",
       "    }\n",
       "</style>\n",
       "<table border=\"1\" class=\"dataframe\">\n",
       "  <thead>\n",
       "    <tr style=\"text-align: right;\">\n",
       "      <th></th>\n",
       "      <th>reviewId</th>\n",
       "      <th>userName</th>\n",
       "      <th>userImage</th>\n",
       "      <th>content</th>\n",
       "      <th>score</th>\n",
       "      <th>thumbsUpCount</th>\n",
       "      <th>reviewCreatedVersion</th>\n",
       "      <th>at</th>\n",
       "      <th>replyContent</th>\n",
       "      <th>repliedAt</th>\n",
       "      <th>sortOrder</th>\n",
       "      <th>appID</th>\n",
       "    </tr>\n",
       "  </thead>\n",
       "  <tbody>\n",
       "    <tr>\n",
       "      <th>0</th>\n",
       "      <td>gp:AOqpTOFNvajvGFfAIU7_Swk3NYP7Gy_Hakn0Kehpcu9...</td>\n",
       "      <td>Trinity Smith</td>\n",
       "      <td>https://play-lh.googleusercontent.com/-JaDNmoK...</td>\n",
       "      <td>This game is kinda good, besides the fact that...</td>\n",
       "      <td>1</td>\n",
       "      <td>90</td>\n",
       "      <td>1.49</td>\n",
       "      <td>2021-03-22 13:16:53</td>\n",
       "      <td>None</td>\n",
       "      <td>NaT</td>\n",
       "      <td>most_relevant</td>\n",
       "      <td>com.game.colorslime</td>\n",
       "    </tr>\n",
       "    <tr>\n",
       "      <th>1</th>\n",
       "      <td>gp:AOqpTOFZmPht6pTJ0WM_ohgR4v7dHIrC58DEQ7Uu52b...</td>\n",
       "      <td>Noah Davis</td>\n",
       "      <td>https://play-lh.googleusercontent.com/a-/AOh14...</td>\n",
       "      <td>Embarassed that I even downloaded it. There ar...</td>\n",
       "      <td>1</td>\n",
       "      <td>5</td>\n",
       "      <td>1.49</td>\n",
       "      <td>2021-03-22 12:33:14</td>\n",
       "      <td>None</td>\n",
       "      <td>NaT</td>\n",
       "      <td>most_relevant</td>\n",
       "      <td>com.game.colorslime</td>\n",
       "    </tr>\n",
       "    <tr>\n",
       "      <th>2</th>\n",
       "      <td>gp:AOqpTOEUIMLKIA3m4j99NSHiKVa07lsSc129TWY0RO0...</td>\n",
       "      <td>FS Ri0t</td>\n",
       "      <td>https://play-lh.googleusercontent.com/a-/AOh14...</td>\n",
       "      <td>Too many ads. The second I even touched the sc...</td>\n",
       "      <td>1</td>\n",
       "      <td>394</td>\n",
       "      <td>1.43</td>\n",
       "      <td>2021-03-20 08:26:23</td>\n",
       "      <td>None</td>\n",
       "      <td>NaT</td>\n",
       "      <td>most_relevant</td>\n",
       "      <td>com.game.colorslime</td>\n",
       "    </tr>\n",
       "    <tr>\n",
       "      <th>3</th>\n",
       "      <td>gp:AOqpTOEqYo7fmNBKEPQM9bhD8jhxvwDTGLEobBrf1Rv...</td>\n",
       "      <td>Jeffery Clay</td>\n",
       "      <td>https://play-lh.googleusercontent.com/a-/AOh14...</td>\n",
       "      <td>Its not \"satisfying\" at all it was only satisf...</td>\n",
       "      <td>1</td>\n",
       "      <td>87</td>\n",
       "      <td>1.49</td>\n",
       "      <td>2021-03-21 13:54:32</td>\n",
       "      <td>None</td>\n",
       "      <td>NaT</td>\n",
       "      <td>most_relevant</td>\n",
       "      <td>com.game.colorslime</td>\n",
       "    </tr>\n",
       "    <tr>\n",
       "      <th>4</th>\n",
       "      <td>gp:AOqpTOEtxRmPglzeA_iNioUaVR7tU8TkUNeT0R_3LlO...</td>\n",
       "      <td>Emalene Clark</td>\n",
       "      <td>https://play-lh.googleusercontent.com/a-/AOh14...</td>\n",
       "      <td>There's ads in the middle of god damn levels, ...</td>\n",
       "      <td>1</td>\n",
       "      <td>2</td>\n",
       "      <td>1.49</td>\n",
       "      <td>2021-03-22 16:09:04</td>\n",
       "      <td>None</td>\n",
       "      <td>NaT</td>\n",
       "      <td>most_relevant</td>\n",
       "      <td>com.game.colorslime</td>\n",
       "    </tr>\n",
       "  </tbody>\n",
       "</table>\n",
       "</div>"
      ],
      "text/plain": [
       "                                            reviewId       userName  \\\n",
       "0  gp:AOqpTOFNvajvGFfAIU7_Swk3NYP7Gy_Hakn0Kehpcu9...  Trinity Smith   \n",
       "1  gp:AOqpTOFZmPht6pTJ0WM_ohgR4v7dHIrC58DEQ7Uu52b...     Noah Davis   \n",
       "2  gp:AOqpTOEUIMLKIA3m4j99NSHiKVa07lsSc129TWY0RO0...        FS Ri0t   \n",
       "3  gp:AOqpTOEqYo7fmNBKEPQM9bhD8jhxvwDTGLEobBrf1Rv...   Jeffery Clay   \n",
       "4  gp:AOqpTOEtxRmPglzeA_iNioUaVR7tU8TkUNeT0R_3LlO...  Emalene Clark   \n",
       "\n",
       "                                           userImage  \\\n",
       "0  https://play-lh.googleusercontent.com/-JaDNmoK...   \n",
       "1  https://play-lh.googleusercontent.com/a-/AOh14...   \n",
       "2  https://play-lh.googleusercontent.com/a-/AOh14...   \n",
       "3  https://play-lh.googleusercontent.com/a-/AOh14...   \n",
       "4  https://play-lh.googleusercontent.com/a-/AOh14...   \n",
       "\n",
       "                                             content  score  thumbsUpCount  \\\n",
       "0  This game is kinda good, besides the fact that...      1             90   \n",
       "1  Embarassed that I even downloaded it. There ar...      1              5   \n",
       "2  Too many ads. The second I even touched the sc...      1            394   \n",
       "3  Its not \"satisfying\" at all it was only satisf...      1             87   \n",
       "4  There's ads in the middle of god damn levels, ...      1              2   \n",
       "\n",
       "  reviewCreatedVersion                  at replyContent repliedAt  \\\n",
       "0                 1.49 2021-03-22 13:16:53         None       NaT   \n",
       "1                 1.49 2021-03-22 12:33:14         None       NaT   \n",
       "2                 1.43 2021-03-20 08:26:23         None       NaT   \n",
       "3                 1.49 2021-03-21 13:54:32         None       NaT   \n",
       "4                 1.49 2021-03-22 16:09:04         None       NaT   \n",
       "\n",
       "       sortOrder                appID  \n",
       "0  most_relevant  com.game.colorslime  \n",
       "1  most_relevant  com.game.colorslime  \n",
       "2  most_relevant  com.game.colorslime  \n",
       "3  most_relevant  com.game.colorslime  \n",
       "4  most_relevant  com.game.colorslime  "
      ]
     },
     "execution_count": 25,
     "metadata": {},
     "output_type": "execute_result"
    }
   ],
   "source": [
    "app_reviews_df.head()"
   ]
  },
  {
   "cell_type": "code",
   "execution_count": 27,
   "metadata": {
    "ExecuteTime": {
     "end_time": "2021-03-25T04:02:44.814208Z",
     "start_time": "2021-03-25T04:02:44.350718Z"
    }
   },
   "outputs": [],
   "source": [
    "app_reviews_df.to_csv('app_reviews.csv', index=None, header=True)"
   ]
  }
 ],
 "metadata": {
  "kernelspec": {
   "display_name": "Python 3",
   "language": "python",
   "name": "python3"
  },
  "language_info": {
   "codemirror_mode": {
    "name": "ipython",
    "version": 3
   },
   "file_extension": ".py",
   "mimetype": "text/x-python",
   "name": "python",
   "nbconvert_exporter": "python",
   "pygments_lexer": "ipython3",
   "version": "3.8.5"
  },
  "toc": {
   "base_numbering": 1,
   "nav_menu": {},
   "number_sections": true,
   "sideBar": true,
   "skip_h1_title": false,
   "title_cell": "Table of Contents",
   "title_sidebar": "Contents",
   "toc_cell": false,
   "toc_position": {},
   "toc_section_display": true,
   "toc_window_display": false
  },
  "varInspector": {
   "cols": {
    "lenName": 16,
    "lenType": 16,
    "lenVar": 40
   },
   "kernels_config": {
    "python": {
     "delete_cmd_postfix": "",
     "delete_cmd_prefix": "del ",
     "library": "var_list.py",
     "varRefreshCmd": "print(var_dic_list())"
    },
    "r": {
     "delete_cmd_postfix": ") ",
     "delete_cmd_prefix": "rm(",
     "library": "var_list.r",
     "varRefreshCmd": "cat(var_dic_list()) "
    }
   },
   "types_to_exclude": [
    "module",
    "function",
    "builtin_function_or_method",
    "instance",
    "_Feature"
   ],
   "window_display": false
  }
 },
 "nbformat": 4,
 "nbformat_minor": 4
}
