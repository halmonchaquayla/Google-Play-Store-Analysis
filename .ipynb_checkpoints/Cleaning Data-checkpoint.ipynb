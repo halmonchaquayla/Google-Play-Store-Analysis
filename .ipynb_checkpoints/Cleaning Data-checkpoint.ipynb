{
 "cells": [
  {
   "cell_type": "markdown",
   "metadata": {},
   "source": [
    "# Import Data"
   ]
  },
  {
   "cell_type": "code",
   "execution_count": 1,
   "metadata": {
    "ExecuteTime": {
     "end_time": "2021-03-30T16:58:12.742571Z",
     "start_time": "2021-03-30T16:58:11.830563Z"
    }
   },
   "outputs": [],
   "source": [
    "import pandas as pd\n",
    "import numpy as np\n",
    "import matplotlib.pyplot as plt\n",
    "%matplotlib inline\n",
    "\n",
    "pd.set_option('display.max_columns', 500)"
   ]
  },
  {
   "cell_type": "code",
   "execution_count": 2,
   "metadata": {
    "ExecuteTime": {
     "end_time": "2021-03-30T16:58:12.790434Z",
     "start_time": "2021-03-30T16:58:12.745583Z"
    }
   },
   "outputs": [],
   "source": [
    "df = pd.read_csv('data/googleplaystore.csv')"
   ]
  },
  {
   "cell_type": "code",
   "execution_count": 3,
   "metadata": {
    "ExecuteTime": {
     "end_time": "2021-03-30T16:58:12.822537Z",
     "start_time": "2021-03-30T16:58:12.792439Z"
    },
    "scrolled": true
   },
   "outputs": [
    {
     "data": {
      "text/html": [
       "<div>\n",
       "<style scoped>\n",
       "    .dataframe tbody tr th:only-of-type {\n",
       "        vertical-align: middle;\n",
       "    }\n",
       "\n",
       "    .dataframe tbody tr th {\n",
       "        vertical-align: top;\n",
       "    }\n",
       "\n",
       "    .dataframe thead th {\n",
       "        text-align: right;\n",
       "    }\n",
       "</style>\n",
       "<table border=\"1\" class=\"dataframe\">\n",
       "  <thead>\n",
       "    <tr style=\"text-align: right;\">\n",
       "      <th></th>\n",
       "      <th>App</th>\n",
       "      <th>Category</th>\n",
       "      <th>Rating</th>\n",
       "      <th>Reviews</th>\n",
       "      <th>Size</th>\n",
       "      <th>Installs</th>\n",
       "      <th>Type</th>\n",
       "      <th>Price</th>\n",
       "      <th>Content Rating</th>\n",
       "      <th>Genres</th>\n",
       "      <th>Last Updated</th>\n",
       "      <th>Current Ver</th>\n",
       "      <th>Android Ver</th>\n",
       "    </tr>\n",
       "  </thead>\n",
       "  <tbody>\n",
       "    <tr>\n",
       "      <th>0</th>\n",
       "      <td>Photo Editor &amp; Candy Camera &amp; Grid &amp; ScrapBook</td>\n",
       "      <td>ART_AND_DESIGN</td>\n",
       "      <td>4.1</td>\n",
       "      <td>159</td>\n",
       "      <td>19M</td>\n",
       "      <td>10,000+</td>\n",
       "      <td>Free</td>\n",
       "      <td>0</td>\n",
       "      <td>Everyone</td>\n",
       "      <td>Art &amp; Design</td>\n",
       "      <td>January 7, 2018</td>\n",
       "      <td>1.0.0</td>\n",
       "      <td>4.0.3 and up</td>\n",
       "    </tr>\n",
       "    <tr>\n",
       "      <th>1</th>\n",
       "      <td>Coloring book moana</td>\n",
       "      <td>ART_AND_DESIGN</td>\n",
       "      <td>3.9</td>\n",
       "      <td>967</td>\n",
       "      <td>14M</td>\n",
       "      <td>500,000+</td>\n",
       "      <td>Free</td>\n",
       "      <td>0</td>\n",
       "      <td>Everyone</td>\n",
       "      <td>Art &amp; Design;Pretend Play</td>\n",
       "      <td>January 15, 2018</td>\n",
       "      <td>2.0.0</td>\n",
       "      <td>4.0.3 and up</td>\n",
       "    </tr>\n",
       "    <tr>\n",
       "      <th>2</th>\n",
       "      <td>U Launcher Lite – FREE Live Cool Themes, Hide ...</td>\n",
       "      <td>ART_AND_DESIGN</td>\n",
       "      <td>4.7</td>\n",
       "      <td>87510</td>\n",
       "      <td>8.7M</td>\n",
       "      <td>5,000,000+</td>\n",
       "      <td>Free</td>\n",
       "      <td>0</td>\n",
       "      <td>Everyone</td>\n",
       "      <td>Art &amp; Design</td>\n",
       "      <td>August 1, 2018</td>\n",
       "      <td>1.2.4</td>\n",
       "      <td>4.0.3 and up</td>\n",
       "    </tr>\n",
       "    <tr>\n",
       "      <th>3</th>\n",
       "      <td>Sketch - Draw &amp; Paint</td>\n",
       "      <td>ART_AND_DESIGN</td>\n",
       "      <td>4.5</td>\n",
       "      <td>215644</td>\n",
       "      <td>25M</td>\n",
       "      <td>50,000,000+</td>\n",
       "      <td>Free</td>\n",
       "      <td>0</td>\n",
       "      <td>Teen</td>\n",
       "      <td>Art &amp; Design</td>\n",
       "      <td>June 8, 2018</td>\n",
       "      <td>Varies with device</td>\n",
       "      <td>4.2 and up</td>\n",
       "    </tr>\n",
       "    <tr>\n",
       "      <th>4</th>\n",
       "      <td>Pixel Draw - Number Art Coloring Book</td>\n",
       "      <td>ART_AND_DESIGN</td>\n",
       "      <td>4.3</td>\n",
       "      <td>967</td>\n",
       "      <td>2.8M</td>\n",
       "      <td>100,000+</td>\n",
       "      <td>Free</td>\n",
       "      <td>0</td>\n",
       "      <td>Everyone</td>\n",
       "      <td>Art &amp; Design;Creativity</td>\n",
       "      <td>June 20, 2018</td>\n",
       "      <td>1.1</td>\n",
       "      <td>4.4 and up</td>\n",
       "    </tr>\n",
       "  </tbody>\n",
       "</table>\n",
       "</div>"
      ],
      "text/plain": [
       "                                                 App        Category  Rating  \\\n",
       "0     Photo Editor & Candy Camera & Grid & ScrapBook  ART_AND_DESIGN     4.1   \n",
       "1                                Coloring book moana  ART_AND_DESIGN     3.9   \n",
       "2  U Launcher Lite – FREE Live Cool Themes, Hide ...  ART_AND_DESIGN     4.7   \n",
       "3                              Sketch - Draw & Paint  ART_AND_DESIGN     4.5   \n",
       "4              Pixel Draw - Number Art Coloring Book  ART_AND_DESIGN     4.3   \n",
       "\n",
       "  Reviews  Size     Installs  Type Price Content Rating  \\\n",
       "0     159   19M      10,000+  Free     0       Everyone   \n",
       "1     967   14M     500,000+  Free     0       Everyone   \n",
       "2   87510  8.7M   5,000,000+  Free     0       Everyone   \n",
       "3  215644   25M  50,000,000+  Free     0           Teen   \n",
       "4     967  2.8M     100,000+  Free     0       Everyone   \n",
       "\n",
       "                      Genres      Last Updated         Current Ver  \\\n",
       "0               Art & Design   January 7, 2018               1.0.0   \n",
       "1  Art & Design;Pretend Play  January 15, 2018               2.0.0   \n",
       "2               Art & Design    August 1, 2018               1.2.4   \n",
       "3               Art & Design      June 8, 2018  Varies with device   \n",
       "4    Art & Design;Creativity     June 20, 2018                 1.1   \n",
       "\n",
       "    Android Ver  \n",
       "0  4.0.3 and up  \n",
       "1  4.0.3 and up  \n",
       "2  4.0.3 and up  \n",
       "3    4.2 and up  \n",
       "4    4.4 and up  "
      ]
     },
     "execution_count": 3,
     "metadata": {},
     "output_type": "execute_result"
    }
   ],
   "source": [
    "df.head()"
   ]
  },
  {
   "cell_type": "code",
   "execution_count": 4,
   "metadata": {
    "ExecuteTime": {
     "end_time": "2021-03-30T16:58:12.870696Z",
     "start_time": "2021-03-30T16:58:12.824545Z"
    }
   },
   "outputs": [
    {
     "name": "stdout",
     "output_type": "stream",
     "text": [
      "<class 'pandas.core.frame.DataFrame'>\n",
      "RangeIndex: 10841 entries, 0 to 10840\n",
      "Data columns (total 13 columns):\n",
      " #   Column          Non-Null Count  Dtype  \n",
      "---  ------          --------------  -----  \n",
      " 0   App             10841 non-null  object \n",
      " 1   Category        10841 non-null  object \n",
      " 2   Rating          9367 non-null   float64\n",
      " 3   Reviews         10841 non-null  object \n",
      " 4   Size            10841 non-null  object \n",
      " 5   Installs        10841 non-null  object \n",
      " 6   Type            10840 non-null  object \n",
      " 7   Price           10841 non-null  object \n",
      " 8   Content Rating  10840 non-null  object \n",
      " 9   Genres          10841 non-null  object \n",
      " 10  Last Updated    10841 non-null  object \n",
      " 11  Current Ver     10833 non-null  object \n",
      " 12  Android Ver     10838 non-null  object \n",
      "dtypes: float64(1), object(12)\n",
      "memory usage: 1.1+ MB\n"
     ]
    }
   ],
   "source": [
    "df.info()"
   ]
  },
  {
   "cell_type": "code",
   "execution_count": 5,
   "metadata": {
    "ExecuteTime": {
     "end_time": "2021-03-30T16:58:12.918857Z",
     "start_time": "2021-03-30T16:58:12.872705Z"
    }
   },
   "outputs": [],
   "source": [
    "data = df.copy()"
   ]
  },
  {
   "cell_type": "code",
   "execution_count": 6,
   "metadata": {
    "ExecuteTime": {
     "end_time": "2021-03-30T16:58:12.934910Z",
     "start_time": "2021-03-30T16:58:12.921870Z"
    }
   },
   "outputs": [],
   "source": [
    "data = df.drop(columns={'Genres', 'Current Ver', 'Android Ver', 'Price'}, axis=1)"
   ]
  },
  {
   "cell_type": "code",
   "execution_count": 7,
   "metadata": {
    "ExecuteTime": {
     "end_time": "2021-03-30T16:58:13.014979Z",
     "start_time": "2021-03-30T16:58:12.937922Z"
    }
   },
   "outputs": [
    {
     "name": "stdout",
     "output_type": "stream",
     "text": [
      "App\n",
      "ROBLOX                                               0.000830\n",
      "CBS Sports App - Scores, News, Stats & Watch Live    0.000738\n",
      "ESPN                                                 0.000646\n",
      "Duolingo: Learn Languages Free                       0.000646\n",
      "Candy Crush Saga                                     0.000646\n",
      "                                                       ...   \n",
      "HTC Sense Input - ES                                 0.000092\n",
      "Servers Ultimate Pack B                              0.000092\n",
      "Aquarium Co-Op Podcast                               0.000092\n",
      "Zowi App                                             0.000092\n",
      "Yidio: TV Show & Movie Guide                         0.000092\n",
      "Name: App, Length: 9660, dtype: float64\n",
      "-------------------------------\n",
      "Category\n",
      "FAMILY                 0.181902\n",
      "GAME                   0.105525\n",
      "TOOLS                  0.077760\n",
      "MEDICAL                0.042708\n",
      "BUSINESS               0.042432\n",
      "PRODUCTIVITY           0.039111\n",
      "PERSONALIZATION        0.036159\n",
      "COMMUNICATION          0.035698\n",
      "SPORTS                 0.035421\n",
      "LIFESTYLE              0.035237\n",
      "FINANCE                0.033761\n",
      "HEALTH_AND_FITNESS     0.031455\n",
      "PHOTOGRAPHY            0.030901\n",
      "SOCIAL                 0.027212\n",
      "NEWS_AND_MAGAZINES     0.026105\n",
      "SHOPPING               0.023983\n",
      "TRAVEL_AND_LOCAL       0.023799\n",
      "DATING                 0.021585\n",
      "BOOKS_AND_REFERENCE    0.021308\n",
      "VIDEO_PLAYERS          0.016142\n",
      "EDUCATION              0.014390\n",
      "ENTERTAINMENT          0.013744\n",
      "MAPS_AND_NAVIGATION    0.012637\n",
      "FOOD_AND_DRINK         0.011715\n",
      "HOUSE_AND_HOME         0.008117\n",
      "AUTO_AND_VEHICLES      0.007841\n",
      "LIBRARIES_AND_DEMO     0.007841\n",
      "WEATHER                0.007564\n",
      "ART_AND_DESIGN         0.005996\n",
      "EVENTS                 0.005904\n",
      "COMICS                 0.005535\n",
      "PARENTING              0.005535\n",
      "BEAUTY                 0.004889\n",
      "1.9                    0.000092\n",
      "Name: Category, dtype: float64\n",
      "-------------------------------\n",
      "Rating\n",
      "4.4     0.118394\n",
      "4.3     0.114871\n",
      "4.5     0.110815\n",
      "4.2     0.101633\n",
      "4.6     0.087862\n",
      "4.1     0.075584\n",
      "4.0     0.060638\n",
      "4.7     0.053272\n",
      "3.9     0.041208\n",
      "3.8     0.032348\n",
      "5.0     0.029252\n",
      "3.7     0.025515\n",
      "4.8     0.024981\n",
      "3.6     0.018576\n",
      "3.5     0.017402\n",
      "3.4     0.013665\n",
      "3.3     0.010889\n",
      "4.9     0.009288\n",
      "3.0     0.008861\n",
      "3.1     0.007366\n",
      "3.2     0.006832\n",
      "2.9     0.004804\n",
      "2.8     0.004484\n",
      "2.6     0.002669\n",
      "2.7     0.002669\n",
      "2.5     0.002242\n",
      "2.3     0.002135\n",
      "2.4     0.002028\n",
      "1.0     0.001708\n",
      "2.2     0.001495\n",
      "1.9     0.001388\n",
      "2.0     0.001281\n",
      "2.1     0.000854\n",
      "1.7     0.000854\n",
      "1.8     0.000854\n",
      "1.6     0.000427\n",
      "1.4     0.000320\n",
      "1.5     0.000320\n",
      "1.2     0.000107\n",
      "19.0    0.000107\n",
      "Name: Rating, dtype: float64\n",
      "-------------------------------\n",
      "Reviews\n",
      "0         0.054976\n",
      "1         0.025090\n",
      "2         0.019740\n",
      "3         0.016142\n",
      "4         0.012637\n",
      "            ...   \n",
      "7816      0.000092\n",
      "14754     0.000092\n",
      "134412    0.000092\n",
      "2059      0.000092\n",
      "706301    0.000092\n",
      "Name: Reviews, Length: 6002, dtype: float64\n",
      "-------------------------------\n",
      "Size\n",
      "Varies with device    0.156351\n",
      "11M                   0.018264\n",
      "12M                   0.018080\n",
      "14M                   0.017895\n",
      "13M                   0.017618\n",
      "                        ...   \n",
      "874k                  0.000092\n",
      "209k                  0.000092\n",
      "940k                  0.000092\n",
      "459k                  0.000092\n",
      "444k                  0.000092\n",
      "Name: Size, Length: 462, dtype: float64\n",
      "-------------------------------\n",
      "Installs\n",
      "1,000,000+        0.145651\n",
      "10,000,000+       0.115488\n",
      "100,000+          0.107831\n",
      "10,000+           0.097224\n",
      "1,000+            0.083664\n",
      "5,000,000+        0.069366\n",
      "100+              0.066322\n",
      "500,000+          0.049719\n",
      "50,000+           0.044184\n",
      "5,000+            0.044000\n",
      "100,000,000+      0.037727\n",
      "10+               0.035606\n",
      "500+              0.030440\n",
      "50,000,000+       0.026658\n",
      "50+               0.018910\n",
      "5+                0.007564\n",
      "500,000,000+      0.006641\n",
      "1+                0.006180\n",
      "1,000,000,000+    0.005350\n",
      "0+                0.001291\n",
      "Free              0.000092\n",
      "0                 0.000092\n",
      "Name: Installs, dtype: float64\n",
      "-------------------------------\n",
      "Type\n",
      "Free    0.926107\n",
      "Paid    0.073801\n",
      "0       0.000092\n",
      "Name: Type, dtype: float64\n",
      "-------------------------------\n",
      "Content Rating\n",
      "Everyone           0.803875\n",
      "Teen               0.111439\n",
      "Mature 17+         0.046033\n",
      "Everyone 10+       0.038192\n",
      "Adults only 18+    0.000277\n",
      "Unrated            0.000185\n",
      "Name: Content Rating, dtype: float64\n",
      "-------------------------------\n",
      "Last Updated\n",
      "August 3, 2018       0.030071\n",
      "August 2, 2018       0.028042\n",
      "July 31, 2018        0.027119\n",
      "August 1, 2018       0.026289\n",
      "July 30, 2018        0.019463\n",
      "                       ...   \n",
      "May 2, 2016          0.000092\n",
      "April 4, 2014        0.000092\n",
      "April 30, 2016       0.000092\n",
      "February 10, 2017    0.000092\n",
      "April 24, 2017       0.000092\n",
      "Name: Last Updated, Length: 1378, dtype: float64\n",
      "-------------------------------\n"
     ]
    }
   ],
   "source": [
    "for col in data:\n",
    "    print(col)\n",
    "    print(data[col].value_counts(normalize=True))\n",
    "    print('-------------------------------')"
   ]
  },
  {
   "cell_type": "markdown",
   "metadata": {},
   "source": [
    "**Observations**\n",
    "1. **App - there seems to be a few duplicates in app. have to deal with deleting those.**\n",
    "2. **Category - need to look into '1.9'.**\n",
    "3. **Rating - the rating is from 1-5, but there's a rating of 19. Need to delete that one.**\n",
    "4. **Reviews - might drop the '0' reviews or filter the amount of reviews.**\n",
    "5. **Size - the 'varies with device' need to be replace with the average size and the \"M\" needs to be taken out.**\n",
    "6. **Installs - need to get rid of the '+' and maybe filter a min-max scale.**\n",
    "7. **Only focused on Free apps at this time.**\n",
    "8. **Change last update into days.**"
   ]
  },
  {
   "cell_type": "markdown",
   "metadata": {},
   "source": [
    "# Cleaning"
   ]
  },
  {
   "cell_type": "markdown",
   "metadata": {},
   "source": [
    "## App Duplicates"
   ]
  },
  {
   "cell_type": "code",
   "execution_count": 8,
   "metadata": {
    "ExecuteTime": {
     "end_time": "2021-03-30T16:58:13.047084Z",
     "start_time": "2021-03-30T16:58:13.017989Z"
    }
   },
   "outputs": [
    {
     "data": {
      "text/html": [
       "<div>\n",
       "<style scoped>\n",
       "    .dataframe tbody tr th:only-of-type {\n",
       "        vertical-align: middle;\n",
       "    }\n",
       "\n",
       "    .dataframe tbody tr th {\n",
       "        vertical-align: top;\n",
       "    }\n",
       "\n",
       "    .dataframe thead th {\n",
       "        text-align: right;\n",
       "    }\n",
       "</style>\n",
       "<table border=\"1\" class=\"dataframe\">\n",
       "  <thead>\n",
       "    <tr style=\"text-align: right;\">\n",
       "      <th></th>\n",
       "      <th>App</th>\n",
       "      <th>Category</th>\n",
       "      <th>Rating</th>\n",
       "      <th>Reviews</th>\n",
       "      <th>Size</th>\n",
       "      <th>Installs</th>\n",
       "      <th>Type</th>\n",
       "      <th>Content Rating</th>\n",
       "      <th>Last Updated</th>\n",
       "    </tr>\n",
       "  </thead>\n",
       "  <tbody>\n",
       "    <tr>\n",
       "      <th>1653</th>\n",
       "      <td>ROBLOX</td>\n",
       "      <td>GAME</td>\n",
       "      <td>4.5</td>\n",
       "      <td>4447388</td>\n",
       "      <td>67M</td>\n",
       "      <td>100,000,000+</td>\n",
       "      <td>Free</td>\n",
       "      <td>Everyone 10+</td>\n",
       "      <td>July 31, 2018</td>\n",
       "    </tr>\n",
       "    <tr>\n",
       "      <th>1701</th>\n",
       "      <td>ROBLOX</td>\n",
       "      <td>GAME</td>\n",
       "      <td>4.5</td>\n",
       "      <td>4447346</td>\n",
       "      <td>67M</td>\n",
       "      <td>100,000,000+</td>\n",
       "      <td>Free</td>\n",
       "      <td>Everyone 10+</td>\n",
       "      <td>July 31, 2018</td>\n",
       "    </tr>\n",
       "    <tr>\n",
       "      <th>1748</th>\n",
       "      <td>ROBLOX</td>\n",
       "      <td>GAME</td>\n",
       "      <td>4.5</td>\n",
       "      <td>4448791</td>\n",
       "      <td>67M</td>\n",
       "      <td>100,000,000+</td>\n",
       "      <td>Free</td>\n",
       "      <td>Everyone 10+</td>\n",
       "      <td>July 31, 2018</td>\n",
       "    </tr>\n",
       "    <tr>\n",
       "      <th>1841</th>\n",
       "      <td>ROBLOX</td>\n",
       "      <td>GAME</td>\n",
       "      <td>4.5</td>\n",
       "      <td>4449882</td>\n",
       "      <td>67M</td>\n",
       "      <td>100,000,000+</td>\n",
       "      <td>Free</td>\n",
       "      <td>Everyone 10+</td>\n",
       "      <td>July 31, 2018</td>\n",
       "    </tr>\n",
       "    <tr>\n",
       "      <th>1870</th>\n",
       "      <td>ROBLOX</td>\n",
       "      <td>GAME</td>\n",
       "      <td>4.5</td>\n",
       "      <td>4449910</td>\n",
       "      <td>67M</td>\n",
       "      <td>100,000,000+</td>\n",
       "      <td>Free</td>\n",
       "      <td>Everyone 10+</td>\n",
       "      <td>July 31, 2018</td>\n",
       "    </tr>\n",
       "    <tr>\n",
       "      <th>2016</th>\n",
       "      <td>ROBLOX</td>\n",
       "      <td>FAMILY</td>\n",
       "      <td>4.5</td>\n",
       "      <td>4449910</td>\n",
       "      <td>67M</td>\n",
       "      <td>100,000,000+</td>\n",
       "      <td>Free</td>\n",
       "      <td>Everyone 10+</td>\n",
       "      <td>July 31, 2018</td>\n",
       "    </tr>\n",
       "    <tr>\n",
       "      <th>2088</th>\n",
       "      <td>ROBLOX</td>\n",
       "      <td>FAMILY</td>\n",
       "      <td>4.5</td>\n",
       "      <td>4450855</td>\n",
       "      <td>67M</td>\n",
       "      <td>100,000,000+</td>\n",
       "      <td>Free</td>\n",
       "      <td>Everyone 10+</td>\n",
       "      <td>July 31, 2018</td>\n",
       "    </tr>\n",
       "    <tr>\n",
       "      <th>2206</th>\n",
       "      <td>ROBLOX</td>\n",
       "      <td>FAMILY</td>\n",
       "      <td>4.5</td>\n",
       "      <td>4450890</td>\n",
       "      <td>67M</td>\n",
       "      <td>100,000,000+</td>\n",
       "      <td>Free</td>\n",
       "      <td>Everyone 10+</td>\n",
       "      <td>July 31, 2018</td>\n",
       "    </tr>\n",
       "    <tr>\n",
       "      <th>4527</th>\n",
       "      <td>ROBLOX</td>\n",
       "      <td>FAMILY</td>\n",
       "      <td>4.5</td>\n",
       "      <td>4443407</td>\n",
       "      <td>67M</td>\n",
       "      <td>100,000,000+</td>\n",
       "      <td>Free</td>\n",
       "      <td>Everyone 10+</td>\n",
       "      <td>July 31, 2018</td>\n",
       "    </tr>\n",
       "  </tbody>\n",
       "</table>\n",
       "</div>"
      ],
      "text/plain": [
       "         App Category  Rating  Reviews Size      Installs  Type  \\\n",
       "1653  ROBLOX     GAME     4.5  4447388  67M  100,000,000+  Free   \n",
       "1701  ROBLOX     GAME     4.5  4447346  67M  100,000,000+  Free   \n",
       "1748  ROBLOX     GAME     4.5  4448791  67M  100,000,000+  Free   \n",
       "1841  ROBLOX     GAME     4.5  4449882  67M  100,000,000+  Free   \n",
       "1870  ROBLOX     GAME     4.5  4449910  67M  100,000,000+  Free   \n",
       "2016  ROBLOX   FAMILY     4.5  4449910  67M  100,000,000+  Free   \n",
       "2088  ROBLOX   FAMILY     4.5  4450855  67M  100,000,000+  Free   \n",
       "2206  ROBLOX   FAMILY     4.5  4450890  67M  100,000,000+  Free   \n",
       "4527  ROBLOX   FAMILY     4.5  4443407  67M  100,000,000+  Free   \n",
       "\n",
       "     Content Rating   Last Updated  \n",
       "1653   Everyone 10+  July 31, 2018  \n",
       "1701   Everyone 10+  July 31, 2018  \n",
       "1748   Everyone 10+  July 31, 2018  \n",
       "1841   Everyone 10+  July 31, 2018  \n",
       "1870   Everyone 10+  July 31, 2018  \n",
       "2016   Everyone 10+  July 31, 2018  \n",
       "2088   Everyone 10+  July 31, 2018  \n",
       "2206   Everyone 10+  July 31, 2018  \n",
       "4527   Everyone 10+  July 31, 2018  "
      ]
     },
     "execution_count": 8,
     "metadata": {},
     "output_type": "execute_result"
    }
   ],
   "source": [
    "# let's check to make sure we have duplicates\n",
    "data[data['App'] == 'ROBLOX']"
   ]
  },
  {
   "cell_type": "code",
   "execution_count": 9,
   "metadata": {
    "ExecuteTime": {
     "end_time": "2021-03-30T16:58:13.095246Z",
     "start_time": "2021-03-30T16:58:13.050097Z"
    }
   },
   "outputs": [
    {
     "data": {
      "text/html": [
       "<div>\n",
       "<style scoped>\n",
       "    .dataframe tbody tr th:only-of-type {\n",
       "        vertical-align: middle;\n",
       "    }\n",
       "\n",
       "    .dataframe tbody tr th {\n",
       "        vertical-align: top;\n",
       "    }\n",
       "\n",
       "    .dataframe thead th {\n",
       "        text-align: right;\n",
       "    }\n",
       "</style>\n",
       "<table border=\"1\" class=\"dataframe\">\n",
       "  <thead>\n",
       "    <tr style=\"text-align: right;\">\n",
       "      <th></th>\n",
       "      <th>App</th>\n",
       "      <th>Category</th>\n",
       "      <th>Rating</th>\n",
       "      <th>Reviews</th>\n",
       "      <th>Size</th>\n",
       "      <th>Installs</th>\n",
       "      <th>Type</th>\n",
       "      <th>Content Rating</th>\n",
       "      <th>Last Updated</th>\n",
       "    </tr>\n",
       "  </thead>\n",
       "  <tbody>\n",
       "    <tr>\n",
       "      <th>2959</th>\n",
       "      <td>ESPN</td>\n",
       "      <td>SPORTS</td>\n",
       "      <td>4.2</td>\n",
       "      <td>521138</td>\n",
       "      <td>Varies with device</td>\n",
       "      <td>10,000,000+</td>\n",
       "      <td>Free</td>\n",
       "      <td>Everyone 10+</td>\n",
       "      <td>July 19, 2018</td>\n",
       "    </tr>\n",
       "    <tr>\n",
       "      <th>3010</th>\n",
       "      <td>ESPN</td>\n",
       "      <td>SPORTS</td>\n",
       "      <td>4.2</td>\n",
       "      <td>521138</td>\n",
       "      <td>Varies with device</td>\n",
       "      <td>10,000,000+</td>\n",
       "      <td>Free</td>\n",
       "      <td>Everyone 10+</td>\n",
       "      <td>July 19, 2018</td>\n",
       "    </tr>\n",
       "    <tr>\n",
       "      <th>3018</th>\n",
       "      <td>ESPN</td>\n",
       "      <td>SPORTS</td>\n",
       "      <td>4.2</td>\n",
       "      <td>521138</td>\n",
       "      <td>Varies with device</td>\n",
       "      <td>10,000,000+</td>\n",
       "      <td>Free</td>\n",
       "      <td>Everyone 10+</td>\n",
       "      <td>July 19, 2018</td>\n",
       "    </tr>\n",
       "    <tr>\n",
       "      <th>3048</th>\n",
       "      <td>ESPN</td>\n",
       "      <td>SPORTS</td>\n",
       "      <td>4.2</td>\n",
       "      <td>521140</td>\n",
       "      <td>Varies with device</td>\n",
       "      <td>10,000,000+</td>\n",
       "      <td>Free</td>\n",
       "      <td>Everyone 10+</td>\n",
       "      <td>July 19, 2018</td>\n",
       "    </tr>\n",
       "    <tr>\n",
       "      <th>3060</th>\n",
       "      <td>ESPN</td>\n",
       "      <td>SPORTS</td>\n",
       "      <td>4.2</td>\n",
       "      <td>521140</td>\n",
       "      <td>Varies with device</td>\n",
       "      <td>10,000,000+</td>\n",
       "      <td>Free</td>\n",
       "      <td>Everyone 10+</td>\n",
       "      <td>July 19, 2018</td>\n",
       "    </tr>\n",
       "    <tr>\n",
       "      <th>3072</th>\n",
       "      <td>ESPN</td>\n",
       "      <td>SPORTS</td>\n",
       "      <td>4.2</td>\n",
       "      <td>521140</td>\n",
       "      <td>Varies with device</td>\n",
       "      <td>10,000,000+</td>\n",
       "      <td>Free</td>\n",
       "      <td>Everyone 10+</td>\n",
       "      <td>July 19, 2018</td>\n",
       "    </tr>\n",
       "    <tr>\n",
       "      <th>4069</th>\n",
       "      <td>ESPN</td>\n",
       "      <td>SPORTS</td>\n",
       "      <td>4.2</td>\n",
       "      <td>521081</td>\n",
       "      <td>Varies with device</td>\n",
       "      <td>10,000,000+</td>\n",
       "      <td>Free</td>\n",
       "      <td>Everyone 10+</td>\n",
       "      <td>July 19, 2018</td>\n",
       "    </tr>\n",
       "  </tbody>\n",
       "</table>\n",
       "</div>"
      ],
      "text/plain": [
       "       App Category  Rating Reviews                Size     Installs  Type  \\\n",
       "2959  ESPN   SPORTS     4.2  521138  Varies with device  10,000,000+  Free   \n",
       "3010  ESPN   SPORTS     4.2  521138  Varies with device  10,000,000+  Free   \n",
       "3018  ESPN   SPORTS     4.2  521138  Varies with device  10,000,000+  Free   \n",
       "3048  ESPN   SPORTS     4.2  521140  Varies with device  10,000,000+  Free   \n",
       "3060  ESPN   SPORTS     4.2  521140  Varies with device  10,000,000+  Free   \n",
       "3072  ESPN   SPORTS     4.2  521140  Varies with device  10,000,000+  Free   \n",
       "4069  ESPN   SPORTS     4.2  521081  Varies with device  10,000,000+  Free   \n",
       "\n",
       "     Content Rating   Last Updated  \n",
       "2959   Everyone 10+  July 19, 2018  \n",
       "3010   Everyone 10+  July 19, 2018  \n",
       "3018   Everyone 10+  July 19, 2018  \n",
       "3048   Everyone 10+  July 19, 2018  \n",
       "3060   Everyone 10+  July 19, 2018  \n",
       "3072   Everyone 10+  July 19, 2018  \n",
       "4069   Everyone 10+  July 19, 2018  "
      ]
     },
     "execution_count": 9,
     "metadata": {},
     "output_type": "execute_result"
    }
   ],
   "source": [
    "data[data['App'] == 'ESPN']"
   ]
  },
  {
   "cell_type": "code",
   "execution_count": 10,
   "metadata": {
    "ExecuteTime": {
     "end_time": "2021-03-30T16:58:13.174506Z",
     "start_time": "2021-03-30T16:58:13.097252Z"
    },
    "scrolled": true
   },
   "outputs": [
    {
     "data": {
      "text/html": [
       "<div>\n",
       "<style scoped>\n",
       "    .dataframe tbody tr th:only-of-type {\n",
       "        vertical-align: middle;\n",
       "    }\n",
       "\n",
       "    .dataframe tbody tr th {\n",
       "        vertical-align: top;\n",
       "    }\n",
       "\n",
       "    .dataframe thead th {\n",
       "        text-align: right;\n",
       "    }\n",
       "</style>\n",
       "<table border=\"1\" class=\"dataframe\">\n",
       "  <thead>\n",
       "    <tr style=\"text-align: right;\">\n",
       "      <th></th>\n",
       "      <th>App</th>\n",
       "      <th>Category</th>\n",
       "      <th>Rating</th>\n",
       "      <th>Reviews</th>\n",
       "      <th>Size</th>\n",
       "      <th>Installs</th>\n",
       "      <th>Type</th>\n",
       "      <th>Content Rating</th>\n",
       "      <th>Last Updated</th>\n",
       "    </tr>\n",
       "  </thead>\n",
       "  <tbody>\n",
       "    <tr>\n",
       "      <th>1655</th>\n",
       "      <td>Candy Crush Saga</td>\n",
       "      <td>GAME</td>\n",
       "      <td>4.4</td>\n",
       "      <td>22426677</td>\n",
       "      <td>74M</td>\n",
       "      <td>500,000,000+</td>\n",
       "      <td>Free</td>\n",
       "      <td>Everyone</td>\n",
       "      <td>July 5, 2018</td>\n",
       "    </tr>\n",
       "    <tr>\n",
       "      <th>1705</th>\n",
       "      <td>Candy Crush Saga</td>\n",
       "      <td>GAME</td>\n",
       "      <td>4.4</td>\n",
       "      <td>22428456</td>\n",
       "      <td>74M</td>\n",
       "      <td>500,000,000+</td>\n",
       "      <td>Free</td>\n",
       "      <td>Everyone</td>\n",
       "      <td>July 5, 2018</td>\n",
       "    </tr>\n",
       "    <tr>\n",
       "      <th>1751</th>\n",
       "      <td>Candy Crush Saga</td>\n",
       "      <td>GAME</td>\n",
       "      <td>4.4</td>\n",
       "      <td>22428456</td>\n",
       "      <td>74M</td>\n",
       "      <td>500,000,000+</td>\n",
       "      <td>Free</td>\n",
       "      <td>Everyone</td>\n",
       "      <td>July 5, 2018</td>\n",
       "    </tr>\n",
       "    <tr>\n",
       "      <th>1842</th>\n",
       "      <td>Candy Crush Saga</td>\n",
       "      <td>GAME</td>\n",
       "      <td>4.4</td>\n",
       "      <td>22429716</td>\n",
       "      <td>74M</td>\n",
       "      <td>500,000,000+</td>\n",
       "      <td>Free</td>\n",
       "      <td>Everyone</td>\n",
       "      <td>July 5, 2018</td>\n",
       "    </tr>\n",
       "    <tr>\n",
       "      <th>1869</th>\n",
       "      <td>Candy Crush Saga</td>\n",
       "      <td>GAME</td>\n",
       "      <td>4.4</td>\n",
       "      <td>22430188</td>\n",
       "      <td>74M</td>\n",
       "      <td>500,000,000+</td>\n",
       "      <td>Free</td>\n",
       "      <td>Everyone</td>\n",
       "      <td>July 5, 2018</td>\n",
       "    </tr>\n",
       "    <tr>\n",
       "      <th>1966</th>\n",
       "      <td>Candy Crush Saga</td>\n",
       "      <td>GAME</td>\n",
       "      <td>4.4</td>\n",
       "      <td>22430188</td>\n",
       "      <td>74M</td>\n",
       "      <td>500,000,000+</td>\n",
       "      <td>Free</td>\n",
       "      <td>Everyone</td>\n",
       "      <td>July 5, 2018</td>\n",
       "    </tr>\n",
       "    <tr>\n",
       "      <th>3994</th>\n",
       "      <td>Candy Crush Saga</td>\n",
       "      <td>FAMILY</td>\n",
       "      <td>4.4</td>\n",
       "      <td>22419455</td>\n",
       "      <td>74M</td>\n",
       "      <td>500,000,000+</td>\n",
       "      <td>Free</td>\n",
       "      <td>Everyone</td>\n",
       "      <td>July 5, 2018</td>\n",
       "    </tr>\n",
       "  </tbody>\n",
       "</table>\n",
       "</div>"
      ],
      "text/plain": [
       "                   App Category  Rating   Reviews Size      Installs  Type  \\\n",
       "1655  Candy Crush Saga     GAME     4.4  22426677  74M  500,000,000+  Free   \n",
       "1705  Candy Crush Saga     GAME     4.4  22428456  74M  500,000,000+  Free   \n",
       "1751  Candy Crush Saga     GAME     4.4  22428456  74M  500,000,000+  Free   \n",
       "1842  Candy Crush Saga     GAME     4.4  22429716  74M  500,000,000+  Free   \n",
       "1869  Candy Crush Saga     GAME     4.4  22430188  74M  500,000,000+  Free   \n",
       "1966  Candy Crush Saga     GAME     4.4  22430188  74M  500,000,000+  Free   \n",
       "3994  Candy Crush Saga   FAMILY     4.4  22419455  74M  500,000,000+  Free   \n",
       "\n",
       "     Content Rating  Last Updated  \n",
       "1655       Everyone  July 5, 2018  \n",
       "1705       Everyone  July 5, 2018  \n",
       "1751       Everyone  July 5, 2018  \n",
       "1842       Everyone  July 5, 2018  \n",
       "1869       Everyone  July 5, 2018  \n",
       "1966       Everyone  July 5, 2018  \n",
       "3994       Everyone  July 5, 2018  "
      ]
     },
     "execution_count": 10,
     "metadata": {},
     "output_type": "execute_result"
    }
   ],
   "source": [
    "data[data['App'] == 'Candy Crush Saga']"
   ]
  },
  {
   "cell_type": "markdown",
   "metadata": {},
   "source": [
    "**Looking at some of the duplicates it seems that the only difference is the amount of reviews and/or the category name. For now I think I'll stick with the first value and drop the rest.**"
   ]
  },
  {
   "cell_type": "code",
   "execution_count": 11,
   "metadata": {
    "ExecuteTime": {
     "end_time": "2021-03-30T16:58:13.206612Z",
     "start_time": "2021-03-30T16:58:13.176515Z"
    }
   },
   "outputs": [],
   "source": [
    "data = data.drop_duplicates(subset=['App'], keep='first')"
   ]
  },
  {
   "cell_type": "markdown",
   "metadata": {},
   "source": [
    "## Category"
   ]
  },
  {
   "cell_type": "code",
   "execution_count": 12,
   "metadata": {
    "ExecuteTime": {
     "end_time": "2021-03-30T16:58:13.238719Z",
     "start_time": "2021-03-30T16:58:13.208621Z"
    },
    "scrolled": true
   },
   "outputs": [
    {
     "data": {
      "text/html": [
       "<div>\n",
       "<style scoped>\n",
       "    .dataframe tbody tr th:only-of-type {\n",
       "        vertical-align: middle;\n",
       "    }\n",
       "\n",
       "    .dataframe tbody tr th {\n",
       "        vertical-align: top;\n",
       "    }\n",
       "\n",
       "    .dataframe thead th {\n",
       "        text-align: right;\n",
       "    }\n",
       "</style>\n",
       "<table border=\"1\" class=\"dataframe\">\n",
       "  <thead>\n",
       "    <tr style=\"text-align: right;\">\n",
       "      <th></th>\n",
       "      <th>App</th>\n",
       "      <th>Category</th>\n",
       "      <th>Rating</th>\n",
       "      <th>Reviews</th>\n",
       "      <th>Size</th>\n",
       "      <th>Installs</th>\n",
       "      <th>Type</th>\n",
       "      <th>Content Rating</th>\n",
       "      <th>Last Updated</th>\n",
       "    </tr>\n",
       "  </thead>\n",
       "  <tbody>\n",
       "    <tr>\n",
       "      <th>10472</th>\n",
       "      <td>Life Made WI-Fi Touchscreen Photo Frame</td>\n",
       "      <td>1.9</td>\n",
       "      <td>19.0</td>\n",
       "      <td>3.0M</td>\n",
       "      <td>1,000+</td>\n",
       "      <td>Free</td>\n",
       "      <td>0</td>\n",
       "      <td>NaN</td>\n",
       "      <td>1.0.19</td>\n",
       "    </tr>\n",
       "  </tbody>\n",
       "</table>\n",
       "</div>"
      ],
      "text/plain": [
       "                                           App Category  Rating Reviews  \\\n",
       "10472  Life Made WI-Fi Touchscreen Photo Frame      1.9    19.0    3.0M   \n",
       "\n",
       "         Size Installs Type Content Rating Last Updated  \n",
       "10472  1,000+     Free    0            NaN       1.0.19  "
      ]
     },
     "execution_count": 12,
     "metadata": {},
     "output_type": "execute_result"
    }
   ],
   "source": [
    "data[data['Category'] == '1.9']"
   ]
  },
  {
   "cell_type": "markdown",
   "metadata": {},
   "source": [
    "Since this is one entry I can easily find the correct info and plug it in.\n",
    "Category = Lifestyle\n",
    "Rating = 1.9\n",
    "Reviews = 19.0\n",
    "Size = 3.0M\n",
    "Installs = 1,000\n",
    "Type = Free\n",
    "Content Rating = Everyone"
   ]
  },
  {
   "cell_type": "code",
   "execution_count": 13,
   "metadata": {
    "ExecuteTime": {
     "end_time": "2021-03-30T16:58:13.270826Z",
     "start_time": "2021-03-30T16:58:13.240728Z"
    }
   },
   "outputs": [],
   "source": [
    "data.at[10472,\"Category\"]=\"LIFESTYLE\"\n",
    "data.at[10472, \"Rating\"] = 1.9\n",
    "data.at[10472, \"Reviews\"] = \"19.0\"\n",
    "data.at[10472, \"Size\"] = \"3.0M\"\n",
    "data.at[10472, \"Installs\"] = \"1,000+\"\n",
    "data.at[10472, \"Type\"] = \"Free\"\n",
    "data.at[10472, \"Content Rating\"] = \"Everyone\"\n",
    "data.at[10472, \"Last Updated\"] = \"February 11, 2018\""
   ]
  },
  {
   "cell_type": "code",
   "execution_count": 14,
   "metadata": {
    "ExecuteTime": {
     "end_time": "2021-03-30T16:58:13.318986Z",
     "start_time": "2021-03-30T16:58:13.272834Z"
    }
   },
   "outputs": [
    {
     "data": {
      "text/html": [
       "<div>\n",
       "<style scoped>\n",
       "    .dataframe tbody tr th:only-of-type {\n",
       "        vertical-align: middle;\n",
       "    }\n",
       "\n",
       "    .dataframe tbody tr th {\n",
       "        vertical-align: top;\n",
       "    }\n",
       "\n",
       "    .dataframe thead th {\n",
       "        text-align: right;\n",
       "    }\n",
       "</style>\n",
       "<table border=\"1\" class=\"dataframe\">\n",
       "  <thead>\n",
       "    <tr style=\"text-align: right;\">\n",
       "      <th></th>\n",
       "      <th>App</th>\n",
       "      <th>Category</th>\n",
       "      <th>Rating</th>\n",
       "      <th>Reviews</th>\n",
       "      <th>Size</th>\n",
       "      <th>Installs</th>\n",
       "      <th>Type</th>\n",
       "      <th>Content Rating</th>\n",
       "      <th>Last Updated</th>\n",
       "    </tr>\n",
       "  </thead>\n",
       "  <tbody>\n",
       "    <tr>\n",
       "      <th>10472</th>\n",
       "      <td>Life Made WI-Fi Touchscreen Photo Frame</td>\n",
       "      <td>LIFESTYLE</td>\n",
       "      <td>1.9</td>\n",
       "      <td>19.0</td>\n",
       "      <td>3.0M</td>\n",
       "      <td>1,000+</td>\n",
       "      <td>Free</td>\n",
       "      <td>Everyone</td>\n",
       "      <td>February 11, 2018</td>\n",
       "    </tr>\n",
       "  </tbody>\n",
       "</table>\n",
       "</div>"
      ],
      "text/plain": [
       "                                           App   Category  Rating Reviews  \\\n",
       "10472  Life Made WI-Fi Touchscreen Photo Frame  LIFESTYLE     1.9    19.0   \n",
       "\n",
       "       Size Installs  Type Content Rating       Last Updated  \n",
       "10472  3.0M   1,000+  Free       Everyone  February 11, 2018  "
      ]
     },
     "execution_count": 14,
     "metadata": {},
     "output_type": "execute_result"
    }
   ],
   "source": [
    "data[data['App'] == 'Life Made WI-Fi Touchscreen Photo Frame']"
   ]
  },
  {
   "cell_type": "markdown",
   "metadata": {},
   "source": [
    "## Rating"
   ]
  },
  {
   "cell_type": "code",
   "execution_count": 15,
   "metadata": {
    "ExecuteTime": {
     "end_time": "2021-03-30T16:58:13.383202Z",
     "start_time": "2021-03-30T16:58:13.320994Z"
    }
   },
   "outputs": [],
   "source": [
    "# replacing the NAN values with the average rating\n",
    "data['Rating'] = data['Rating'].fillna(data['Rating'].mean())"
   ]
  },
  {
   "cell_type": "code",
   "execution_count": 16,
   "metadata": {
    "ExecuteTime": {
     "end_time": "2021-03-30T16:58:13.415306Z",
     "start_time": "2021-03-30T16:58:13.390224Z"
    },
    "scrolled": true
   },
   "outputs": [
    {
     "name": "stdout",
     "output_type": "stream",
     "text": [
      "<class 'pandas.core.frame.DataFrame'>\n",
      "Int64Index: 9660 entries, 0 to 10840\n",
      "Data columns (total 9 columns):\n",
      " #   Column          Non-Null Count  Dtype  \n",
      "---  ------          --------------  -----  \n",
      " 0   App             9660 non-null   object \n",
      " 1   Category        9660 non-null   object \n",
      " 2   Rating          9660 non-null   float64\n",
      " 3   Reviews         9660 non-null   object \n",
      " 4   Size            9660 non-null   object \n",
      " 5   Installs        9660 non-null   object \n",
      " 6   Type            9659 non-null   object \n",
      " 7   Content Rating  9660 non-null   object \n",
      " 8   Last Updated    9660 non-null   object \n",
      "dtypes: float64(1), object(8)\n",
      "memory usage: 1.0+ MB\n"
     ]
    }
   ],
   "source": [
    "data.info()"
   ]
  },
  {
   "cell_type": "markdown",
   "metadata": {},
   "source": [
    "## Reviews"
   ]
  },
  {
   "cell_type": "code",
   "execution_count": 17,
   "metadata": {
    "ExecuteTime": {
     "end_time": "2021-03-30T16:58:13.466477Z",
     "start_time": "2021-03-30T16:58:13.417315Z"
    }
   },
   "outputs": [],
   "source": [
    "data = data.dropna().reset_index()"
   ]
  },
  {
   "cell_type": "code",
   "execution_count": 18,
   "metadata": {
    "ExecuteTime": {
     "end_time": "2021-03-30T16:58:13.510621Z",
     "start_time": "2021-03-30T16:58:13.468483Z"
    },
    "scrolled": true
   },
   "outputs": [
    {
     "data": {
      "text/plain": [
       "0         0.061290\n",
       "1         0.028160\n",
       "2         0.022052\n",
       "3         0.017600\n",
       "4         0.014184\n",
       "            ...   \n",
       "25183     0.000104\n",
       "71432     0.000104\n",
       "14952     0.000104\n",
       "1580      0.000104\n",
       "706301    0.000104\n",
       "Name: Reviews, Length: 5331, dtype: float64"
      ]
     },
     "execution_count": 18,
     "metadata": {},
     "output_type": "execute_result"
    }
   ],
   "source": [
    "data.Reviews.value_counts(normalize=True)"
   ]
  },
  {
   "cell_type": "code",
   "execution_count": 19,
   "metadata": {
    "ExecuteTime": {
     "end_time": "2021-03-30T16:58:13.558781Z",
     "start_time": "2021-03-30T16:58:13.512628Z"
    }
   },
   "outputs": [],
   "source": [
    "data['Reviews'] = pd.to_numeric(data['Reviews'])"
   ]
  },
  {
   "cell_type": "code",
   "execution_count": 20,
   "metadata": {
    "ExecuteTime": {
     "end_time": "2021-03-30T16:58:13.606919Z",
     "start_time": "2021-03-30T16:58:13.560789Z"
    }
   },
   "outputs": [],
   "source": [
    "data = data[data['Reviews'] > 0]"
   ]
  },
  {
   "cell_type": "markdown",
   "metadata": {},
   "source": [
    "## Size"
   ]
  },
  {
   "cell_type": "code",
   "execution_count": 21,
   "metadata": {
    "ExecuteTime": {
     "end_time": "2021-03-30T16:58:13.686154Z",
     "start_time": "2021-03-30T16:58:13.608926Z"
    }
   },
   "outputs": [
    {
     "data": {
      "text/html": [
       "<div>\n",
       "<style scoped>\n",
       "    .dataframe tbody tr th:only-of-type {\n",
       "        vertical-align: middle;\n",
       "    }\n",
       "\n",
       "    .dataframe tbody tr th {\n",
       "        vertical-align: top;\n",
       "    }\n",
       "\n",
       "    .dataframe thead th {\n",
       "        text-align: right;\n",
       "    }\n",
       "</style>\n",
       "<table border=\"1\" class=\"dataframe\">\n",
       "  <thead>\n",
       "    <tr style=\"text-align: right;\">\n",
       "      <th></th>\n",
       "      <th>index</th>\n",
       "      <th>App</th>\n",
       "      <th>Category</th>\n",
       "      <th>Rating</th>\n",
       "      <th>Reviews</th>\n",
       "      <th>Size</th>\n",
       "      <th>Installs</th>\n",
       "      <th>Type</th>\n",
       "      <th>Content Rating</th>\n",
       "      <th>Last Updated</th>\n",
       "    </tr>\n",
       "  </thead>\n",
       "  <tbody>\n",
       "    <tr>\n",
       "      <th>37</th>\n",
       "      <td>37</td>\n",
       "      <td>Floor Plan Creator</td>\n",
       "      <td>ART_AND_DESIGN</td>\n",
       "      <td>4.1</td>\n",
       "      <td>36639.0</td>\n",
       "      <td>Varies with device</td>\n",
       "      <td>5,000,000+</td>\n",
       "      <td>Free</td>\n",
       "      <td>Everyone</td>\n",
       "      <td>July 14, 2018</td>\n",
       "    </tr>\n",
       "    <tr>\n",
       "      <th>42</th>\n",
       "      <td>42</td>\n",
       "      <td>Textgram - write on photos</td>\n",
       "      <td>ART_AND_DESIGN</td>\n",
       "      <td>4.4</td>\n",
       "      <td>295221.0</td>\n",
       "      <td>Varies with device</td>\n",
       "      <td>10,000,000+</td>\n",
       "      <td>Free</td>\n",
       "      <td>Everyone</td>\n",
       "      <td>July 30, 2018</td>\n",
       "    </tr>\n",
       "    <tr>\n",
       "      <th>52</th>\n",
       "      <td>52</td>\n",
       "      <td>Used Cars and Trucks for Sale</td>\n",
       "      <td>AUTO_AND_VEHICLES</td>\n",
       "      <td>4.6</td>\n",
       "      <td>17057.0</td>\n",
       "      <td>Varies with device</td>\n",
       "      <td>1,000,000+</td>\n",
       "      <td>Free</td>\n",
       "      <td>Everyone</td>\n",
       "      <td>July 30, 2018</td>\n",
       "    </tr>\n",
       "    <tr>\n",
       "      <th>67</th>\n",
       "      <td>67</td>\n",
       "      <td>Ulysse Speedometer</td>\n",
       "      <td>AUTO_AND_VEHICLES</td>\n",
       "      <td>4.3</td>\n",
       "      <td>40211.0</td>\n",
       "      <td>Varies with device</td>\n",
       "      <td>5,000,000+</td>\n",
       "      <td>Free</td>\n",
       "      <td>Everyone</td>\n",
       "      <td>July 30, 2018</td>\n",
       "    </tr>\n",
       "    <tr>\n",
       "      <th>68</th>\n",
       "      <td>68</td>\n",
       "      <td>REPUVE</td>\n",
       "      <td>AUTO_AND_VEHICLES</td>\n",
       "      <td>3.9</td>\n",
       "      <td>356.0</td>\n",
       "      <td>Varies with device</td>\n",
       "      <td>100,000+</td>\n",
       "      <td>Free</td>\n",
       "      <td>Everyone</td>\n",
       "      <td>May 25, 2018</td>\n",
       "    </tr>\n",
       "    <tr>\n",
       "      <th>...</th>\n",
       "      <td>...</td>\n",
       "      <td>...</td>\n",
       "      <td>...</td>\n",
       "      <td>...</td>\n",
       "      <td>...</td>\n",
       "      <td>...</td>\n",
       "      <td>...</td>\n",
       "      <td>...</td>\n",
       "      <td>...</td>\n",
       "      <td>...</td>\n",
       "    </tr>\n",
       "    <tr>\n",
       "      <th>9536</th>\n",
       "      <td>10713</td>\n",
       "      <td>My Earthquake Alerts - US &amp; Worldwide Earthquakes</td>\n",
       "      <td>WEATHER</td>\n",
       "      <td>4.4</td>\n",
       "      <td>3471.0</td>\n",
       "      <td>Varies with device</td>\n",
       "      <td>100,000+</td>\n",
       "      <td>Free</td>\n",
       "      <td>Everyone</td>\n",
       "      <td>July 24, 2018</td>\n",
       "    </tr>\n",
       "    <tr>\n",
       "      <th>9546</th>\n",
       "      <td>10725</td>\n",
       "      <td>Posta App</td>\n",
       "      <td>MAPS_AND_NAVIGATION</td>\n",
       "      <td>3.6</td>\n",
       "      <td>8.0</td>\n",
       "      <td>Varies with device</td>\n",
       "      <td>1,000+</td>\n",
       "      <td>Free</td>\n",
       "      <td>Everyone</td>\n",
       "      <td>September 27, 2017</td>\n",
       "    </tr>\n",
       "    <tr>\n",
       "      <th>9584</th>\n",
       "      <td>10765</td>\n",
       "      <td>Chat For Strangers - Video Chat</td>\n",
       "      <td>SOCIAL</td>\n",
       "      <td>3.4</td>\n",
       "      <td>622.0</td>\n",
       "      <td>Varies with device</td>\n",
       "      <td>100,000+</td>\n",
       "      <td>Free</td>\n",
       "      <td>Mature 17+</td>\n",
       "      <td>May 23, 2018</td>\n",
       "    </tr>\n",
       "    <tr>\n",
       "      <th>9644</th>\n",
       "      <td>10826</td>\n",
       "      <td>Frim: get new friends on local chat rooms</td>\n",
       "      <td>SOCIAL</td>\n",
       "      <td>4.0</td>\n",
       "      <td>88486.0</td>\n",
       "      <td>Varies with device</td>\n",
       "      <td>5,000,000+</td>\n",
       "      <td>Free</td>\n",
       "      <td>Mature 17+</td>\n",
       "      <td>March 23, 2018</td>\n",
       "    </tr>\n",
       "    <tr>\n",
       "      <th>9657</th>\n",
       "      <td>10839</td>\n",
       "      <td>The SCP Foundation DB fr nn5n</td>\n",
       "      <td>BOOKS_AND_REFERENCE</td>\n",
       "      <td>4.5</td>\n",
       "      <td>114.0</td>\n",
       "      <td>Varies with device</td>\n",
       "      <td>1,000+</td>\n",
       "      <td>Free</td>\n",
       "      <td>Mature 17+</td>\n",
       "      <td>January 19, 2015</td>\n",
       "    </tr>\n",
       "  </tbody>\n",
       "</table>\n",
       "<p>1188 rows × 10 columns</p>\n",
       "</div>"
      ],
      "text/plain": [
       "      index                                                App  \\\n",
       "37       37                                 Floor Plan Creator   \n",
       "42       42                         Textgram - write on photos   \n",
       "52       52                      Used Cars and Trucks for Sale   \n",
       "67       67                                 Ulysse Speedometer   \n",
       "68       68                                             REPUVE   \n",
       "...     ...                                                ...   \n",
       "9536  10713  My Earthquake Alerts - US & Worldwide Earthquakes   \n",
       "9546  10725                                          Posta App   \n",
       "9584  10765                    Chat For Strangers - Video Chat   \n",
       "9644  10826          Frim: get new friends on local chat rooms   \n",
       "9657  10839                      The SCP Foundation DB fr nn5n   \n",
       "\n",
       "                 Category  Rating   Reviews                Size     Installs  \\\n",
       "37         ART_AND_DESIGN     4.1   36639.0  Varies with device   5,000,000+   \n",
       "42         ART_AND_DESIGN     4.4  295221.0  Varies with device  10,000,000+   \n",
       "52      AUTO_AND_VEHICLES     4.6   17057.0  Varies with device   1,000,000+   \n",
       "67      AUTO_AND_VEHICLES     4.3   40211.0  Varies with device   5,000,000+   \n",
       "68      AUTO_AND_VEHICLES     3.9     356.0  Varies with device     100,000+   \n",
       "...                   ...     ...       ...                 ...          ...   \n",
       "9536              WEATHER     4.4    3471.0  Varies with device     100,000+   \n",
       "9546  MAPS_AND_NAVIGATION     3.6       8.0  Varies with device       1,000+   \n",
       "9584               SOCIAL     3.4     622.0  Varies with device     100,000+   \n",
       "9644               SOCIAL     4.0   88486.0  Varies with device   5,000,000+   \n",
       "9657  BOOKS_AND_REFERENCE     4.5     114.0  Varies with device       1,000+   \n",
       "\n",
       "      Type Content Rating        Last Updated  \n",
       "37    Free       Everyone       July 14, 2018  \n",
       "42    Free       Everyone       July 30, 2018  \n",
       "52    Free       Everyone       July 30, 2018  \n",
       "67    Free       Everyone       July 30, 2018  \n",
       "68    Free       Everyone        May 25, 2018  \n",
       "...    ...            ...                 ...  \n",
       "9536  Free       Everyone       July 24, 2018  \n",
       "9546  Free       Everyone  September 27, 2017  \n",
       "9584  Free     Mature 17+        May 23, 2018  \n",
       "9644  Free     Mature 17+      March 23, 2018  \n",
       "9657  Free     Mature 17+    January 19, 2015  \n",
       "\n",
       "[1188 rows x 10 columns]"
      ]
     },
     "execution_count": 21,
     "metadata": {},
     "output_type": "execute_result"
    }
   ],
   "source": [
    "data[data['Size'] == \"Varies with device\"]"
   ]
  },
  {
   "cell_type": "code",
   "execution_count": 22,
   "metadata": {
    "ExecuteTime": {
     "end_time": "2021-03-30T16:58:13.797460Z",
     "start_time": "2021-03-30T16:58:13.692173Z"
    }
   },
   "outputs": [
    {
     "data": {
      "text/plain": [
       "Varies with device    0.131025\n",
       "12M                   0.018308\n",
       "11M                   0.017977\n",
       "14M                   0.017977\n",
       "13M                   0.017646\n",
       "                        ...   \n",
       "953k                  0.000110\n",
       "526k                  0.000110\n",
       "691k                  0.000110\n",
       "219k                  0.000110\n",
       "556k                  0.000110\n",
       "Name: Size, Length: 447, dtype: float64"
      ]
     },
     "execution_count": 22,
     "metadata": {},
     "output_type": "execute_result"
    }
   ],
   "source": [
    "data['Size'].value_counts(normalize=True)"
   ]
  },
  {
   "cell_type": "code",
   "execution_count": 23,
   "metadata": {
    "ExecuteTime": {
     "end_time": "2021-03-30T16:58:13.876470Z",
     "start_time": "2021-03-30T16:58:13.801471Z"
    }
   },
   "outputs": [],
   "source": [
    "# create a variable to hold a certain value\n",
    "mask = data['Size'].str.startswith('V')"
   ]
  },
  {
   "cell_type": "code",
   "execution_count": 24,
   "metadata": {
    "ExecuteTime": {
     "end_time": "2021-03-30T16:58:13.940617Z",
     "start_time": "2021-03-30T16:58:13.878477Z"
    }
   },
   "outputs": [],
   "source": [
    "#replace that value with zero\n",
    "data.loc[mask, 'Size'] = 0"
   ]
  },
  {
   "cell_type": "code",
   "execution_count": 25,
   "metadata": {
    "ExecuteTime": {
     "end_time": "2021-03-30T16:58:14.084123Z",
     "start_time": "2021-03-30T16:58:13.942624Z"
    }
   },
   "outputs": [],
   "source": [
    "# convert the K and M to thousands and millions using regex\n",
    "data.Size = (data.Size.replace(r'[kM]+$', '', regex=True).astype(float) * \\\n",
    "           data.Size.str.extract(r'[\\d\\.]+([kM]+)', expand=False).fillna(1)\n",
    "           .replace(['k','M'], [10**3, 10**6]).astype(int))"
   ]
  },
  {
   "cell_type": "code",
   "execution_count": 26,
   "metadata": {
    "ExecuteTime": {
     "end_time": "2021-03-30T16:58:14.147303Z",
     "start_time": "2021-03-30T16:58:14.086129Z"
    }
   },
   "outputs": [],
   "source": [
    "#to retain some data replace zeros with the column's avearge\n",
    "mean_size = data['Size'].mean()\n",
    "data['Size'] = data.Size.mask(data.Size == 0.0,mean_size)"
   ]
  },
  {
   "cell_type": "markdown",
   "metadata": {},
   "source": [
    "## Installs"
   ]
  },
  {
   "cell_type": "code",
   "execution_count": 27,
   "metadata": {
    "ExecuteTime": {
     "end_time": "2021-03-30T16:58:14.227483Z",
     "start_time": "2021-03-30T16:58:14.150315Z"
    }
   },
   "outputs": [],
   "source": [
    "# remove the + sign from columns\n",
    "data['Installs'] = data['Installs'].str.replace('+','').str.replace(',','')"
   ]
  },
  {
   "cell_type": "code",
   "execution_count": 28,
   "metadata": {
    "ExecuteTime": {
     "end_time": "2021-03-30T16:58:14.322935Z",
     "start_time": "2021-03-30T16:58:14.230495Z"
    }
   },
   "outputs": [],
   "source": [
    "data['Installs'] = pd.to_numeric(data['Installs'])"
   ]
  },
  {
   "cell_type": "markdown",
   "metadata": {},
   "source": [
    "## Last Updated"
   ]
  },
  {
   "cell_type": "code",
   "execution_count": 29,
   "metadata": {
    "ExecuteTime": {
     "end_time": "2021-03-30T16:58:14.561798Z",
     "start_time": "2021-03-30T16:58:14.325948Z"
    }
   },
   "outputs": [],
   "source": [
    "data['Last Updated'] = pd.to_datetime(data['Last Updated'], format=\"%B %d, %Y\", errors='coerce')"
   ]
  },
  {
   "cell_type": "markdown",
   "metadata": {},
   "source": [
    "## Free Apps"
   ]
  },
  {
   "cell_type": "code",
   "execution_count": 30,
   "metadata": {
    "ExecuteTime": {
     "end_time": "2021-03-30T16:58:14.609957Z",
     "start_time": "2021-03-30T16:58:14.563806Z"
    }
   },
   "outputs": [
    {
     "data": {
      "text/plain": [
       "Free    0.925003\n",
       "Paid    0.074997\n",
       "Name: Type, dtype: float64"
      ]
     },
     "execution_count": 30,
     "metadata": {},
     "output_type": "execute_result"
    }
   ],
   "source": [
    "data.Type.value_counts(normalize=True)"
   ]
  },
  {
   "cell_type": "code",
   "execution_count": 31,
   "metadata": {
    "ExecuteTime": {
     "end_time": "2021-03-30T16:58:14.658067Z",
     "start_time": "2021-03-30T16:58:14.611966Z"
    }
   },
   "outputs": [],
   "source": [
    "main_df = data.copy()"
   ]
  },
  {
   "cell_type": "code",
   "execution_count": 32,
   "metadata": {
    "ExecuteTime": {
     "end_time": "2021-03-30T16:58:14.689945Z",
     "start_time": "2021-03-30T16:58:14.660076Z"
    }
   },
   "outputs": [],
   "source": [
    "main_df = main_df[main_df.Type == 'Free']"
   ]
  },
  {
   "cell_type": "markdown",
   "metadata": {},
   "source": [
    "# Cleaned Data"
   ]
  },
  {
   "cell_type": "code",
   "execution_count": 33,
   "metadata": {
    "ExecuteTime": {
     "end_time": "2021-03-30T16:58:14.753057Z",
     "start_time": "2021-03-30T16:58:14.691949Z"
    }
   },
   "outputs": [
    {
     "name": "stdout",
     "output_type": "stream",
     "text": [
      "<class 'pandas.core.frame.DataFrame'>\n",
      "Int64Index: 8387 entries, 0 to 9658\n",
      "Data columns (total 10 columns):\n",
      " #   Column          Non-Null Count  Dtype         \n",
      "---  ------          --------------  -----         \n",
      " 0   index           8387 non-null   int64         \n",
      " 1   App             8387 non-null   object        \n",
      " 2   Category        8387 non-null   object        \n",
      " 3   Rating          8387 non-null   float64       \n",
      " 4   Reviews         8387 non-null   float64       \n",
      " 5   Size            8387 non-null   float64       \n",
      " 6   Installs        8387 non-null   int64         \n",
      " 7   Type            8387 non-null   object        \n",
      " 8   Content Rating  8387 non-null   object        \n",
      " 9   Last Updated    8387 non-null   datetime64[ns]\n",
      "dtypes: datetime64[ns](1), float64(3), int64(2), object(4)\n",
      "memory usage: 720.8+ KB\n"
     ]
    }
   ],
   "source": [
    "main_df.info()"
   ]
  },
  {
   "cell_type": "code",
   "execution_count": 34,
   "metadata": {
    "ExecuteTime": {
     "end_time": "2021-03-30T16:58:14.977744Z",
     "start_time": "2021-03-30T16:58:14.755064Z"
    }
   },
   "outputs": [],
   "source": [
    "main_df.to_csv('cleaned_data.csv')"
   ]
  },
  {
   "cell_type": "code",
   "execution_count": null,
   "metadata": {},
   "outputs": [],
   "source": []
  }
 ],
 "metadata": {
  "kernelspec": {
   "display_name": "Python 3",
   "language": "python",
   "name": "python3"
  },
  "language_info": {
   "codemirror_mode": {
    "name": "ipython",
    "version": 3
   },
   "file_extension": ".py",
   "mimetype": "text/x-python",
   "name": "python",
   "nbconvert_exporter": "python",
   "pygments_lexer": "ipython3",
   "version": "3.8.5"
  },
  "toc": {
   "base_numbering": 1,
   "nav_menu": {},
   "number_sections": true,
   "sideBar": true,
   "skip_h1_title": false,
   "title_cell": "Table of Contents",
   "title_sidebar": "Contents",
   "toc_cell": false,
   "toc_position": {
    "height": "calc(100% - 180px)",
    "left": "10px",
    "top": "150px",
    "width": "384px"
   },
   "toc_section_display": true,
   "toc_window_display": true
  },
  "varInspector": {
   "cols": {
    "lenName": 16,
    "lenType": 16,
    "lenVar": 40
   },
   "kernels_config": {
    "python": {
     "delete_cmd_postfix": "",
     "delete_cmd_prefix": "del ",
     "library": "var_list.py",
     "varRefreshCmd": "print(var_dic_list())"
    },
    "r": {
     "delete_cmd_postfix": ") ",
     "delete_cmd_prefix": "rm(",
     "library": "var_list.r",
     "varRefreshCmd": "cat(var_dic_list()) "
    }
   },
   "types_to_exclude": [
    "module",
    "function",
    "builtin_function_or_method",
    "instance",
    "_Feature"
   ],
   "window_display": false
  }
 },
 "nbformat": 4,
 "nbformat_minor": 4
}
