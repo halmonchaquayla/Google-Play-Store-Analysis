{
 "cells": [
  {
   "cell_type": "code",
   "execution_count": 5,
   "metadata": {
    "ExecuteTime": {
     "end_time": "2021-04-05T04:05:36.514688Z",
     "start_time": "2021-04-05T04:05:34.222074Z"
    }
   },
   "outputs": [],
   "source": [
    "import json #google play returns list of json\n",
    "import pandas as pd\n",
    "from tqdm import tqdm"
   ]
  },
  {
   "cell_type": "code",
   "execution_count": 6,
   "metadata": {
    "ExecuteTime": {
     "end_time": "2021-04-05T04:05:36.766653Z",
     "start_time": "2021-04-05T04:05:36.580172Z"
    }
   },
   "outputs": [],
   "source": [
    "# help highlights some of the json results\n",
    "from pygments import highlight\n",
    "from pygments.lexers import JsonLexer\n",
    "from pygments.formatters import TerminalFormatter"
   ]
  },
  {
   "cell_type": "code",
   "execution_count": 7,
   "metadata": {
    "ExecuteTime": {
     "end_time": "2021-04-05T04:05:37.064833Z",
     "start_time": "2021-04-05T04:05:36.831294Z"
    }
   },
   "outputs": [],
   "source": [
    "from google_play_scraper import Sort, reviews, app"
   ]
  },
  {
   "cell_type": "code",
   "execution_count": 3,
   "metadata": {
    "ExecuteTime": {
     "end_time": "2021-04-05T04:05:16.639792Z",
     "start_time": "2021-04-05T04:05:16.625758Z"
    }
   },
   "outputs": [],
   "source": [
    "app_packages = [\n",
    "    'com.hbo.hbonow', 'com.tubitv', 'com.zhiliaoapp.musically', 'com.squareup.cash',\n",
    "    'com.google.android.apps.nbu.paisa.user', 'com.disney.disneyplus', 'com.google.android.play.games',\n",
    "    'com.shopify.arrive', 'us.zoom.videomeetings', 'com.paypal.android.p2pmobile',\n",
    "    'com.dd.doordash', 'com.instagram.android', 'com.whatsapp', 'com.snapchat.android',\n",
    "    'com.peacocktv.peacockandroid', 'com.venmo', 'com.contextlogic.wish',\n",
    "    'com.facebook.orca', 'com.walmart.android', 'org.telegram.messenger',\n",
    "    'com.spotify.music', 'com.hulu.plus', 'com.discovery.discoveryplus.mobile',\n",
    "    'com.discord', 'com.univision.prendetv', 'com.netflix.mediaclient',\n",
    "    'com.teacapps.barcodescanner', 'com.americasbestpics', 'com.doordash.driverapp',\n",
    "    'com.amazon.avod.thirdpartyclient', 'com.amazon.mShop.android.shopping',\n",
    "    'com.lemon.lvoverseas', 'com.ubercab', 'com.bamnetworks.mobile.android.gameday.atbat',\n",
    "    'com.zzkko', 'com.facebook.katana', 'com.cleanteam.oneboost',\n",
    "    'com.particlenews.newsbreak', 'com.dominospizza', 'gov.irs', 'me.lyft.android',\n",
    "    'com.pinterest', 'com.roku.remote', 'com.google.android.apps.meetings',\n",
    "    'co.mona.android', 'com.audible.application', 'com.ebay.mobile', 'video.like',\n",
    "    'com.adobe.reader', 'com.reddit.frontpage', 'com.vicman.toonmeapp',\n",
    "    'com.cleanteam.oneboost', 'cn.danatech.xingseus', 'com.offerup',\n",
    "    'com.ubercab.eats', 'com.particlenews.newsbreak', 'com.twitter.android',\n",
    "    'com.fridaynight.funkinmodroblx', 'com.google.android.apps.chromecast.app',\n",
    "    'sg.bigo.live', 'com.grubhub.android', 'tv.twitch.android.app',\n",
    "    'com.nike.omega', 'com.microsoft.teams', 'com.onedebit.chime', 'com.ebay.mobile',\n",
    "    'video.reface.app', 'com.picsart.studio', 'com.root.clean.boost.explorer.filemanager', \n",
    "    'com.apple.movetoios', 'com.tmobile.tuesdays', 'com.life360.android.safetymapd', \n",
    "    'com.zillow.android.zillowmap', 'com.google.android.apps.meetings', \n",
    "    'com.Funimation.FunimationNow', 'com.google.android.apps.authenticator2', \n",
    "    'com.poshmark.app', 'com.pandora.android', 'com.coinbase.android', \n",
    "    'kjv.bible.kingjamesbible', 'com.google.android.apps.translate', \n",
    "    'com.vrbo.android', 'com.yelp.android', 'com.google.android.apps.youtube.music',\n",
    "    'com.booking', 'com.usablenet.mobile.walgreen', 'com.huanliao.tiya', 'com.experian.android',\n",
    "    'com.google.android.apps.youtube.kids', 'com.myklarnamobile', 'com.womboai.wombo', \n",
    "    'com.alibaba.intl.android.apps.poseidon', 'com.duolingo', 'com.cbs.tve', \n",
    "    'com.afterpaymobile.us', 'com.canva.editor', 'com.xfinity.digitalhome',\n",
    "    'videoeditor.videorecorder.screenrecorder', 'com.amazon.dee.app', 'co.vulcanlabs.rokuremote',\n",
    "    'com.hopper.mountainview.play', 'com.airydress.android', 'com.hp.printercontrol', \n",
    "    'tv.pluto.android', 'com.dobroapps.anti.stress', 'com.creditkarma.mobile',\n",
    "    'com.yum.pizzahut', 'com.subway.mobile.subwayapp03', 'com.fetchrewards.fetchrewards.hop',\n",
    "    'com.thehomedepot', 'com.sweet.dream.client', 'com.konylabs.capitalone',\n",
    "    'org.craigslist.CraigslistMobile', 'com.vidangel.thechosen', 'com.google.android.apps.adm',\n",
    "    'com.opera.app.news', 'com.starbucks.mobilecard', 'com.symantec.securewifi', \n",
    "    'com.instacart.client', 'com.target.ui', 'net.zedge.android', 'com.google.earth',\n",
    "    'com.tophatter', 'com.ringapp', 'com.mercariapp.mercari', 'com.robinhood.android',\n",
    "    'com.azure.authenticator', 'jp.ne.ibis.ibispaintx.app', 'com.lowes.android',\n",
    "    'com.instabridge.android', 'com.appblockgames.freecraftexploration', 'com.cbs.app',\n",
    "    'com.outfit7.talkingnewsfree', 'com.chickfila.cfaflagship', 'com.tinder',\n",
    "    'com.google.android.apps.subscriptions.red', 'com.clearchannel.iheartradio.controller',\n",
    "    'com.sirius', 'org.thoughtcrime.securesms', 'com.goodrx', 'com.usps',\n",
    "    'com.planetfitness', 'com.app.green.vpn', 'com.bitstrips.imoji',\n",
    "    'com.amazon.mp3', 'qrcodereader.barcodescanner.scan.qrscanner', 'com.instabridge.android',\n",
    "    'screenrecorder.recorder.editor', 'com.flatfish.cal.privacy', 'com.fast.cleaner.cpu.cool.powerful',\n",
    "    'com.soundcloud.android', 'com.upside.consumer.android', 'com.airbnb.android',\n",
    "    'com.simejikeyboard', 'com.chase.sig.android', 'com.groupon', 'com.oculus.twilight', \n",
    "    'com.move.realtor', 'com.shazam.android', 'com.realbyteapps.moneymanagerfree',\n",
    "    'com.indeed.android.jobsearch', 'us.current.android', 'com.usps.myusps_mobile_app_android',\n",
    "    'com.yahoo.mobile.client.android.mail', 'com.microsoft.office.outlook',\n",
    "    'com.viki.android', 'online.moneywell.app', 'com.scee.psxandroid', 'com.bestbuy.android',\n",
    "    'com.dramaton.slime', 'com.free.fast.proxy.lion.vpn', 'mobi.abcmouse.academy_goo', \n",
    "    'com.expedia.bookings', 'com.propel.ebenefits', 'com.affinity.rewarded_play',\n",
    "    'com.camerasideas.instashot', 'com.microsoft.xboxone.smartglass', 'com.etsy.android',\n",
    "    'com.opera.browser', 'com.phonevalley.progressive', 'com.chewy.android',\n",
    "    'com.nexstreaming.app.kinemasterfree', 'com.callapp.contacts', 'com.wayfair.wayfair',\n",
    "    'com.lyrebirdstudio.cartoon', 'com.audiomack', 'com.mov.movcy', 'com.mistplay.mistplay',\n",
    "    'com.tdr3.hs.android', 'smartwatchstudios.app.gears3navigation', 'com.scannerradio_pro',\n",
    "    'org.prowl.torque', 'xyz.mreprogramming.ultimateghostdetector', 'com.chillseekers.Necrophonic',\n",
    "    'com.imageline.FLM', 'abdelrahman.wifianalyzerpremium', 'com.tocaboca.tocahospital',\n",
    "    'com.teslacoilsw.launcher.prime', 'org.twisevictory.apps', 'com.media44seven.seventyfivehard',\n",
    "]"
   ]
  },
  {
   "cell_type": "code",
   "execution_count": 4,
   "metadata": {
    "ExecuteTime": {
     "end_time": "2021-04-05T04:05:17.576072Z",
     "start_time": "2021-04-05T04:05:17.572057Z"
    }
   },
   "outputs": [
    {
     "data": {
      "text/plain": [
       "200"
      ]
     },
     "execution_count": 4,
     "metadata": {},
     "output_type": "execute_result"
    }
   ],
   "source": [
    "len(app_packages)"
   ]
  },
  {
   "cell_type": "code",
   "execution_count": 8,
   "metadata": {
    "ExecuteTime": {
     "end_time": "2021-04-05T04:06:26.739652Z",
     "start_time": "2021-04-05T04:05:42.871651Z"
    }
   },
   "outputs": [
    {
     "name": "stderr",
     "output_type": "stream",
     "text": [
      "100%|████████████████████████████████████████| 200/200 [00:43<00:00,  4.57it/s]\n"
     ]
    }
   ],
   "source": [
    "app_infos = []\n",
    "\n",
    "for ap in tqdm(app_packages):\n",
    "    info = app(ap, lang='en', country='us')\n",
    "    del info['comments']\n",
    "    app_infos.append(info)"
   ]
  },
  {
   "cell_type": "code",
   "execution_count": null,
   "metadata": {
    "ExecuteTime": {
     "end_time": "2021-03-24T23:22:43.723187Z",
     "start_time": "2021-03-24T23:22:43.716164Z"
    }
   },
   "outputs": [],
   "source": [
    "def print_json(json_object):\n",
    "    json_str = json.dumps(\n",
    "        json_object,\n",
    "        indent=2,\n",
    "        sort_keys=True,\n",
    "        default=str\n",
    "    )\n",
    "    \n",
    "    print(highlight(json_str, JsonLexer(), TerminalFormatter()))"
   ]
  },
  {
   "cell_type": "code",
   "execution_count": null,
   "metadata": {
    "ExecuteTime": {
     "end_time": "2021-03-24T23:22:44.808646Z",
     "start_time": "2021-03-24T23:22:44.723504Z"
    },
    "scrolled": true
   },
   "outputs": [],
   "source": [
    "print_json(app_infos[0])"
   ]
  },
  {
   "cell_type": "code",
   "execution_count": null,
   "metadata": {
    "ExecuteTime": {
     "end_time": "2021-03-24T23:34:07.707971Z",
     "start_time": "2021-03-24T23:34:07.530601Z"
    },
    "scrolled": true
   },
   "outputs": [],
   "source": [
    "app_info_df = pd.DataFrame(app_infos)\n",
    "app_info_df.head()"
   ]
  },
  {
   "cell_type": "code",
   "execution_count": null,
   "metadata": {
    "ExecuteTime": {
     "end_time": "2021-03-25T04:02:05.658782Z",
     "start_time": "2021-03-25T04:02:05.561611Z"
    }
   },
   "outputs": [],
   "source": [
    "app_info_df.to_csv('app_info.csv', index=None, header=True)"
   ]
  },
  {
   "cell_type": "code",
   "execution_count": null,
   "metadata": {},
   "outputs": [],
   "source": [
    "app_packages_2 = [\n",
    "    'de.twokit.screen.mirroring.app.roku.pro', 'pro.cryptotab.android', \n",
    "    'com.tocaboca.tocaneighborhood', 'com.maxmpz.audioplayer.unlock',\n",
    "    'com.velo.vpn.pro', 'com.tocaboca.tocavacation', 'psplay.grill.com',\n",
    "    'de.twokit.screen.mirroring.app.pro', 'net.dinglisch.android.taskerm',\n",
    "    'com.tocaboca.tocaoffice', 'com.dev47apps.droidcamx', 'com.advasoft.touchretouch',\n",
    "    'com.tocaboca.tocaschool', 'com.simplemobiletools.gallery.pro', 'com.star.ce5contact',\n",
    "    'com.tocaboca.tocalab', 'de.twokit.video.tv.cast.browser.roku.pro', \n",
    "    'de.twokit.video.tv.cast.browser.ultimate', 'com.matthewlberg.j23',\n",
    "    'org.kustom.widget.pro', 'com.t11.skyview', 'com.littleleaguerulebook',\n",
    "    'com.foxfi.key', 'com.tocaboca.tocapets', 'com.tocaboca.tocastable',\n",
    "    'com.tocaboca.tocapetdoctor', 'ch.threema.app', 'mymacros.com.mymacros',\n",
    "    'com.mxtech.videoplayer.pro', 'com.tocaboca.tocalifefarm', 'com.tocaboca.tocaafterschool',\n",
    "    'com.itcentar.mobiledevelopment.ctm.easter', 'com.tocaboca.tocatown',\n",
    "    'com.tocaboca.tocahairsalon3', 'com.panda.gamepad', 'cc.fuze.forks', \n",
    "    'com.zombodroid.MemeGeneratorFullGplay', 'com.photopills.android.photopills',\n",
    "    'com.filmic.filmicpro', 'com.wakdev.nfctools.pro', 'org.peakfinder.area.alps',\n",
    "    'com.hydrix.laurene', 'de.twokit.video.tv.cast.browser.firetv.pro',\n",
    "    'com.monashuniversity.fodmap', 'com.tinyapps.videoplayer', 'com.alexvas.dvr.pro',\n",
    "    'de.twokit.screen.mirroring.app.firetv.pro', 'com.wilysis.cellinfo',\n",
    "    'uk.co.randomvector.outline', 'com.wolfram.android.alpha', 'com.digipom.easyvoicerecorder.pro',\n",
    "    'com.tinyapps.phonelaucherapps', 'com.g19mobile.gameboosterplus',\n",
    "    'com.astech.forscanlite', 'idm.internet.download.manager.plus',\n",
    "    'com.simplemobiletools.calendar.pro', 'com.sonosaurus.tonalenergytuner',\n",
    "    'com.jndapp.cartoon.crayon.iconpack', 'com.alphaone.glowline.iconpack',\n",
    "    'net.liveatc.liveatc_app', 'jp.ne.ibis.ibispaint.app', 'com.teamspeak.ts3client',\n",
    "    'com.active.aps.c25k', 'com.autolauncher.motorcar', 'com.jndapp.line.neon.iconpack',\n",
    "    'com.tocaboca.tocacity', 'com.ithersta.stardewvalleyplanner', 'com.forcereadiness.pdgpromote',\n",
    "    'com.gypsyguide.tours.gypsyguidetour.mi.rh', 'com.AlfaOBD.AlfaOBD',\n",
    "    'dk.mymovies.mymovies3forandroidpro', 'com.riteshsahu.SMSBackupRestorePro',\n",
    "    'com.smartwatchstudios.app.camera', 'webappvn.com.mythemeProVersion',\n",
    "    'com.darkopd.iconpack', 'ryan.ccw', 'com.kairos.duet', 'com.borisov.strelokpro',\n",
    "    'com.utorrent.client.pro', 'com.ambientdesign.artrage.playstore', 'org.fortheloss.sticknodespro',\n",
    "    'com.flyersoft.moonreaderp', 'com.basevelocity.radarscope', 'com.tvremoteprm.remoterok.tv',\n",
    "    'com.kodarkooperativet.blackplayerex', 'com.aryuthere.visionplus', \n",
    "    'com.fldesign.black.pie.iconpack', 'org.kurzgesagt.app.Universe',\n",
    "    'com.SpottedGhosts.SpiritTalker', 'com.tocaboca.tocamini', 'com.fluidtouch.noteshelf2',\n",
    "    'com.dmacpro91.jb4_mobile', 'com.northamericanpharmacal.btd', 'com.extreamsd.usbaudioplayerpro',\n",
    "    'com.ventismedia.android.mediamonkeypro', 'com.jndapp.line.x.iconpack',\n",
    "    'org.usdebtclock', 'com.circle.iconcircle.omegacircle.samplecircle',\n",
    "    'com.elf.koalasampler', 'com.simplescan.scanner.pro', 'org.kustom.wallpaper.pro',\n",
    "    'eu.thedarken.sdm.unlocker', 'com.cateater.stopmotionstudiopro', 'com.tocaboca.tocakitchensushi',\n",
    "    'wordswag.stylishfont.gwyn', 'cs14.pixelperfect.iconpack.novadark', 'com.flatearthsun',\n",
    "    'com.defianttech.diskdiggerpro', 'com.tools.netgel.netxpro', 'com.ndemiccreations.scenariocreator', \n",
    "    'com.Relmtech.RemotePaid', 'OCTech.Mobile.Applications.TouchScan', 'com.delphicoder.flud.paid',\n",
    "    'hardman.bret.quickbend.pro', 'com.gammonapps.android.straightlinenavigator', \n",
    "    'org.readera.premium', 'gb.xxy.hr', 'com.acmeaom.android.myradarpro', \n",
    "    'com.aihamfell.techteleprompter', 'pro.gif.videotogif.gifeditor.gifmaker', 'com.pnn.obdcardoctor_full',\n",
    "    'com.urbandroid.sleep.full.key', 'com.simplemobiletools.thankyou', 'org.asccp.app2019',\n",
    "    'sheerkwgt.kustom.pack', 'net.techet.netanalyzer.an', 'com.sasanian.hondata_mobile', \n",
    "    'com.vs.veinseek', 'com.hantor.CozyMagPlus', 'slide.watchFrenzy.premium', \n",
    "    'com.exelerus.apps.ghostradio', 'com.tinyapps.photowatchpro', 'com.massimobiolcati.irealb',\n",
    "    'com.nynix.knots3d', 'com.cubemg.davincieye', 'org.hamstudy.mobile', \n",
    "    'com.draco.ladb', 'com.tocaboca.tocanature', 'com.dmholdings.AudysseyMultEq',\n",
    "    'color.line.dark', 'hiddencamdetector.futureapps.com.hiddencamdetectoradsfree',\n",
    "    'com.mixplorer.silver', 'com.appstar.callrecorderpro', 'com.atlogis.northamerica',\n",
    "    'com.vitotechnology.StarWalk2', 'com.chanel.weather.forecast.accu.pro',\n",
    "    'com.rarevision.vhscamcorder', 'com.intermedia.hd.camera.pro', 'com.pdp.deviceowner',\n",
    "    'com.tocaboca.tocabuild', 'arproductions.andrew.worklogkey', 'org.oftn.rainpaper', \n",
    "    'com.progdigy.cdisplay', 'com.gypsyguide.tours.gypsyguidetour.mi.fit',\n",
    "    'com.animatedknots.knots', 'com.rhmsoft.pulsar.pro', 'com.natewren.lines',\n",
    "    'com.antispycell', 'nl.ijsdesign.huedisco', 'com.a0soft.gphone.app2sd.pro',\n",
    "    'com.shenyaocn.android.usbcamerapro', 'com.darxide.android.crystalguide',\n",
    "    'minar.wmwatch.pipboy', 'com.tmsoft.whitenoise.full', 'details?id=com.kkppstudios.dreamvoices',\n",
    "    'com.bubblesoft.android.bubbleupnp.unlocker', 'pixbit.prime', 'com.nstudio.weatherhere', \n",
    "    'com.touchbyte.photosync.fullfeatured', 'org.golfclash.notebook', 'com.mreprogramming.ultimateemfdetectorpro',\n",
    "    'com.veamstudios.siteauditpro', 'com.myscript.nebo', 'org.pbskids.dtigplayhomeuni', \n",
    "    'com.klinker.android.twitter_l', 'supreme.icon.pack.ddt', 'com.flolivingalisavitti.myfloapp', \n",
    "    'com.freecloud.StackTheStates', 'com.freecloud.StackTheStates', 'id=com.blaqmoji',\n",
    "    'com.newtek.ndi.hxcam', 'com.incorporateapps.fakegps_route', 'com.stardewsaveeditor',\n",
    "    'com.appdashboard.android5e3c2848095cf', 'com.braksoftware.HumanJapanese',\n",
    "    'com.jaytronix.multitracker', 'com.magicfluids', ''\n",
    "]"
   ]
  },
  {
   "cell_type": "markdown",
   "metadata": {},
   "source": [
    "# Get App Reviews"
   ]
  },
  {
   "cell_type": "code",
   "execution_count": null,
   "metadata": {
    "ExecuteTime": {
     "end_time": "2021-03-25T00:14:11.810404Z",
     "start_time": "2021-03-25T00:12:22.950818Z"
    }
   },
   "outputs": [],
   "source": [
    "app_reviews = []\n",
    "\n",
    "for ap in tqdm(app_packages):\n",
    "    for score in range(1,6):\n",
    "        for sort_order in [Sort.MOST_RELEVANT, Sort.NEWEST]:\n",
    "            rvs = reviews(\n",
    "            ap,\n",
    "            lang='en',\n",
    "            country='us',\n",
    "            sort=sort_order,\n",
    "            count= 200 if score == 3 else 100,\n",
    "            filter_score_with=score\n",
    "            )[0]\n",
    "            \n",
    "            for r in rvs:\n",
    "                r['sortOrder'] = 'most_relevant' if sort_order == Sort.MOST_RELEVANT else 'newest'\n",
    "                r['appID']= ap\n",
    "            app_reviews.extend(rvs)"
   ]
  },
  {
   "cell_type": "code",
   "execution_count": null,
   "metadata": {
    "ExecuteTime": {
     "end_time": "2021-03-25T03:58:43.388262Z",
     "start_time": "2021-03-25T03:58:43.369212Z"
    }
   },
   "outputs": [],
   "source": [
    "print_json(app_reviews[0])"
   ]
  },
  {
   "cell_type": "code",
   "execution_count": null,
   "metadata": {
    "ExecuteTime": {
     "end_time": "2021-03-25T04:00:34.538464Z",
     "start_time": "2021-03-25T04:00:34.447177Z"
    }
   },
   "outputs": [],
   "source": [
    "app_reviews_df = pd.DataFrame(app_reviews)\n",
    "app_reviews_df.shape"
   ]
  },
  {
   "cell_type": "code",
   "execution_count": null,
   "metadata": {
    "ExecuteTime": {
     "end_time": "2021-03-25T04:00:46.691572Z",
     "start_time": "2021-03-25T04:00:46.664482Z"
    }
   },
   "outputs": [],
   "source": [
    "app_reviews_df.head()"
   ]
  },
  {
   "cell_type": "code",
   "execution_count": null,
   "metadata": {
    "ExecuteTime": {
     "end_time": "2021-03-25T04:02:44.814208Z",
     "start_time": "2021-03-25T04:02:44.350718Z"
    }
   },
   "outputs": [],
   "source": [
    "app_reviews_df.to_csv('app_reviews.csv', index=None, header=True)"
   ]
  }
 ],
 "metadata": {
  "kernelspec": {
   "display_name": "Python 3",
   "language": "python",
   "name": "python3"
  },
  "language_info": {
   "codemirror_mode": {
    "name": "ipython",
    "version": 3
   },
   "file_extension": ".py",
   "mimetype": "text/x-python",
   "name": "python",
   "nbconvert_exporter": "python",
   "pygments_lexer": "ipython3",
   "version": "3.8.5"
  },
  "toc": {
   "base_numbering": 1,
   "nav_menu": {},
   "number_sections": true,
   "sideBar": true,
   "skip_h1_title": false,
   "title_cell": "Table of Contents",
   "title_sidebar": "Contents",
   "toc_cell": false,
   "toc_position": {},
   "toc_section_display": true,
   "toc_window_display": false
  },
  "varInspector": {
   "cols": {
    "lenName": 16,
    "lenType": 16,
    "lenVar": 40
   },
   "kernels_config": {
    "python": {
     "delete_cmd_postfix": "",
     "delete_cmd_prefix": "del ",
     "library": "var_list.py",
     "varRefreshCmd": "print(var_dic_list())"
    },
    "r": {
     "delete_cmd_postfix": ") ",
     "delete_cmd_prefix": "rm(",
     "library": "var_list.r",
     "varRefreshCmd": "cat(var_dic_list()) "
    }
   },
   "types_to_exclude": [
    "module",
    "function",
    "builtin_function_or_method",
    "instance",
    "_Feature"
   ],
   "window_display": false
  }
 },
 "nbformat": 4,
 "nbformat_minor": 4
}
