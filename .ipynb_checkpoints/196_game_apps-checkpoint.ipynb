{
 "cells": [
  {
   "cell_type": "code",
   "execution_count": 1,
   "metadata": {
    "ExecuteTime": {
     "end_time": "2021-03-31T02:31:33.784698Z",
     "start_time": "2021-03-31T02:31:33.358295Z"
    }
   },
   "outputs": [],
   "source": [
    "import json #google play returns list of json\n",
    "import pandas as pd\n",
    "from tqdm import tqdm"
   ]
  },
  {
   "cell_type": "code",
   "execution_count": 2,
   "metadata": {
    "ExecuteTime": {
     "end_time": "2021-03-31T02:31:36.432851Z",
     "start_time": "2021-03-31T02:31:35.321529Z"
    }
   },
   "outputs": [],
   "source": [
    "import seaborn as sns\n",
    "import matplotlib.pyplot as plt"
   ]
  },
  {
   "cell_type": "code",
   "execution_count": 3,
   "metadata": {
    "ExecuteTime": {
     "end_time": "2021-03-31T02:31:37.229917Z",
     "start_time": "2021-03-31T02:31:37.217874Z"
    }
   },
   "outputs": [],
   "source": [
    "# help highlights some of the json results\n",
    "from pygments import highlight\n",
    "from pygments.lexers import JsonLexer\n",
    "from pygments.formatters import TerminalFormatter"
   ]
  },
  {
   "cell_type": "code",
   "execution_count": 4,
   "metadata": {
    "ExecuteTime": {
     "end_time": "2021-03-31T02:31:38.230986Z",
     "start_time": "2021-03-31T02:31:38.202891Z"
    }
   },
   "outputs": [],
   "source": [
    "from google_play_scraper import Sort, reviews, app"
   ]
  },
  {
   "cell_type": "code",
   "execution_count": 5,
   "metadata": {
    "ExecuteTime": {
     "end_time": "2021-03-31T02:31:39.062059Z",
     "start_time": "2021-03-31T02:31:39.041997Z"
    }
   },
   "outputs": [],
   "source": [
    "%matplotlib inline\n",
    "%config InlineBackend.figure_format='retina'\n"
   ]
  },
  {
   "cell_type": "code",
   "execution_count": 6,
   "metadata": {
    "ExecuteTime": {
     "end_time": "2021-03-31T02:31:40.456218Z",
     "start_time": "2021-03-31T02:31:40.441167Z"
    }
   },
   "outputs": [],
   "source": [
    "sns.set(style='whitegrid', palette='muted', font_scale=1.2)"
   ]
  },
  {
   "cell_type": "code",
   "execution_count": 28,
   "metadata": {
    "ExecuteTime": {
     "end_time": "2021-03-31T02:46:46.281357Z",
     "start_time": "2021-03-31T02:46:46.253263Z"
    }
   },
   "outputs": [],
   "source": [
    "app_packages_2 = [\n",
    "    'com.igg.android.lordsmobile',\n",
    "    'com.moonactive.coinmaster',\n",
    "    'com.king.candycrushsaga',\n",
    "    'com.nianticlabs.pokemongo',\n",
    "    'com.dts.freefireth',\n",
    "    'com.kingsgroup.sos',\n",
    "    'air.com.buffalo_studios.newflashbingo',\n",
    "    'com.playrix.homescapes',\n",
    "    'com.plarium.raidlegends',\n",
    "    'com.playrix.gardenscapes',\n",
    "    'com.aniplex.fategrandorder.en',\n",
    "    'com.king.candycrushsodasaga',\n",
    "    'com.smallgiantgames.empires',\n",
    "    'com.topwar.gp',\n",
    "    'air.com.playtika.slotomania',\n",
    "    'com.foxnextgames.m3',\n",
    "    'com.playrix.fishdomdd.gplay',\n",
    "    'net.peakgames.toonblast',\n",
    "    'com.williamsinteractive.jackpotparty',\n",
    "    'com.funplus.kingofavalon',\n",
    "    'com.playrix.township',\n",
    "    'slots.pcg.casino.games.free.android',\n",
    "    'com.activision.callofduty.shooter',\n",
    "    'com.lilithgame.roc.gp',\n",
    "    'com.playstudios.popslots',\n",
    "    'com.scopely.startrek',\n",
    "    'com.gsn.android.tripeaks',\n",
    "    'com.global.ztmslg',\n",
    "    'com.more.dayzsurvival.gp',\n",
    "    'com.tencent.ig',\n",
    "    'com.gramgames.mergedragons',\n",
    "    'com.productmadness.cashmancasino',\n",
    "    'com.diandian.gog',\n",
    "    'net.supertreat.solitaire',\n",
    "    'com.huuuge.casino.slots',\n",
    "    'com.diamondlife.slots.vegas.free',\n",
    "    'com.yottagames.mafiawar',\n",
    "    'com.ddi',\n",
    "    'net.peakgames.amy',\n",
    "    'com.miHoYo.GenshinImpact',\n",
    "    'com.vizorapps.klondike',\n",
    "    'com.playdemic.golf.android',\n",
    "    'com.pacificinteractive.HouseOfFun',\n",
    "    'com.im30.ROE.gp',\n",
    "    'com.kabam.marvelbattle',\n",
    "    'com.topgamesinc.evony',\n",
    "    'com.ea.game.starwarscapital_row',\n",
    "    'com.doubleugames.DoubleUCasino',\n",
    "    'com.scopely.yux',\n",
    "    'dk.tactile.lilysgarden',\n",
    "    'com.playtika.wsop.gp',\n",
    "    'com.bandainamcogames.dbzdokkanww',\n",
    "    'com.Seriously.BestFiends',\n",
    "    'com.crowdstar.covetHome',\n",
    "    'com.dc.hwsj',\n",
    "    'com.camelgames.superking',\n",
    "    'com.lilithgame.hgame.gp',\n",
    "    'com.netmarble.nanagb',\n",
    "    'com.supercell.clashofclans',\n",
    "    'com.jellybtn.boardkings',\n",
    "    'com.matchington.mansion',\n",
    "    'com.com2us.smon.normal.freefull.google.kr.android.common',\n",
    "    'com.square_enix.android_googleplay.WOTVffbeww',\n",
    "    'com.bigfishgames.mergetalesgoog',\n",
    "    'com.wb.goog.got.conquest',\n",
    "    'com.nintendo.zaba',\n",
    "    'com.productmadness.lightninglink',\n",
    "    'com.zynga.pottermatch',\n",
    "    'com.yottagames.gameofmafia',\n",
    "    'com.productmadness.hovmobile',\n",
    "    'com.sports.real.golf.rival.online',\n",
    "    'leyi.westgame',\n",
    "    'com.selfawaregames.acecasino',\n",
    "    'com.playtika.caesarscasino',\n",
    "    'net.wooga.junes_journey_hidden_object_mystery_game',\n",
    "    'com.huuuge.casino.texas',\n",
    "    'com.clipwiregames.bingostory',\n",
    "    'com.zynga.wizardofoz',\n",
    "    'com.zynga.hititrich',\n",
    "    'fi.reworks.redecor',\n",
    "    'com.bandainamcoent.dblegends_ww',\n",
    "    'com.miniclip.eightballpool',\n",
    "    'com.camelgames.aoz',\n",
    "    'com.YoStarEN.Arknights',\n",
    "    'com.MelsoftGames.FamilyIslandFarm',\n",
    "    'air.com.bitrhymes.bingo',\n",
    "    'com.grandegames.slots.dafu.casino',\n",
    "    'com.king.farmheroessaga',\n",
    "    'com.rovio.baba',\n",
    "    'com.belkatechnologies.clockmaker',\n",
    "    'com.ballytechnologies.quickhitslots',\n",
    "    'com.stove.epic7.google',\n",
    "    'com.tinyco.potter',\n",
    "    'com.tensquaregames.letsfish2',\n",
    "    'com.bbgame.sgzapk.tw',\n",
    "    'com.williamsinteractive.goldfish',\n",
    "    'com.riotgames.league.wildrift',\n",
    "    'com.zynga.gotslots',\n",
    "    'com.scopely.whiplash',\n",
    "    'com.pixonic.wwr',\n",
    "    'com.epicactiononline.ffxv.ane',\n",
    "    'com.murka.scatterslots',\n",
    "    'com.mojang.minecraftpe',\n",
    "    'com.mattel163.phase10',\n",
    "    'com.dragonscapes.global',\n",
    "    'com.topultragame.slotlasvega',\n",
    "    'com.playstudios.myvegas',\n",
    "    'com.nexters.herowars',\n",
    "    'com.wondergames.warpath.gp',\n",
    "    'com.glu.baseball21',\n",
    "    'com.hcg.cok.gp',\n",
    "    'com.supercell.hayday',\n",
    "    'com.rovio.dream',\n",
    "    'com.king.candycrush4',\n",
    "    'com.mars.avgchapters',\n",
    "    'com.panoramik.mightyparty',\n",
    "    'com.king.bubblewitch3',\n",
    "    'com.special.warship',\n",
    "    'air.com.sgn.cookiejam.gp',\n",
    "    'com.pixelberrystudios.choices',\n",
    "    'com.uken.BingoPop',\n",
    "    'com.bagelcode.slots1',\n",
    "    'jp.konami.duellinks',\n",
    "    'com.king.petrescuesaga',\n",
    "    'com.peoplefun.wordcross',\n",
    "    'com.bigfishgames.jackpotcityslotsf2pgoogle',\n",
    "    'com.funtomic.matchmasters',\n",
    "    'com.droidhang.ad',\n",
    "    'com.naturalmotion.customstreetracer2',\n",
    "    'com.ksrgland.goat',\n",
    "    'com.elex.nikkigp',\n",
    "    'com.blizzard.wtcg.hearthstone',\n",
    "    'com.zynga.livepoker',\n",
    "    'com.innogames.foeandroid',\n",
    "    'com.playstudios.mykonami',\n",
    "    'com.hts.ams',\n",
    "    'com.wizards.mtga',\n",
    "    'com.disney.emojimatch_goo',\n",
    "    'dk.tactile.mansionstory',\n",
    "    'com.global.tmslg',\n",
    "    'com.loop.match3d',\n",
    "    'com.mytona.cookingdiary.android',\n",
    "    'com.igs.fafafa',\n",
    "    'com.square_enix.android_googleplay.FFBEWW',\n",
    "    'com.playrix.manormatters',\n",
    "    'es.socialpoint.DragonCity',\n",
    "    'com.mobile.legends',\n",
    "    'com.netmarble.mherosgb',\n",
    "    'com.dreamgames.royalmatch',\n",
    "    'com.gigantic.clawee',\n",
    "    'com.kakaogames.gdts',\n",
    "    'com.sevenpirates.infinitywar',\n",
    "    'com.everywear.game5',\n",
    "    'com.scientificgames.monopolyslots',\n",
    "    'com.addictive.strategy.army',\n",
    "    'com.king.candycrushjellysaga',\n",
    "    'com.square_enix.android_googleplay.FFBEWW',\n",
    "    'com.moonton.mobilehero',\n",
    "    'com.d3p.mpq',\n",
    "    'com.yalla.yallagames',\n",
    "    'com.scopely.headshot',\n",
    "    'com.miHoYo.bh3global',\n",
    "    'com.ea.gp.maddennfl21mobile',\n",
    "    'com.plarium.vikings',\n",
    "    'com.gsn.android.casino',\n",
    "    'com.LDRLY.budfarmidletycoon',\n",
    "    'com.nintendo.zaka',\n",
    "    'com.bbumgames.spadesroyale',\n",
    "    'com.YoStarEN.AzurLane',\n",
    "    'com.duige.hzw.multilingual',\n",
    "    'and.onemt.war.ar',\n",
    "    'com.supercell.brawlstars',\n",
    "    'com.purplekiwii.vegaslive',\n",
    "    'com.ea.game.simcitymobile_row',\n",
    "    'com.deuscraft.TurboTeam',\n",
    "    'com.crowdstar.covetfashion',\n",
    "    'com.catdaddy.cat22',\n",
    "    'net.peakgames.mobile.spades.android',\n",
    "    'com.sgn.pandapop.gp',\n",
    "    'com.bingo.tour.party.crazy.free',\n",
    "    'com.aqupepgames.projectpepe',\n",
    "    'jp.goodsmile.grandsummonersglobal_android',\n",
    "    'com.supercell.clashroyale',\n",
    "    'com.nintendo.zaga',\n",
    "    'com.mytona.seekersnotes.android',\n",
    "    'com.xdg.and.wll',\n",
    "    'com.ludia.jw2',\n",
    "    'com.zynga.wonka',\n",
    "    'com.igg.android.dressuptimeprincess',\n",
    "    'com.ballytechnologies.f88',\n",
    "    'com.bingo.scape.android.free',\n",
    "    'com.gtarcade.ioe.global',\n",
    "    'com.murka.slotsera',\n",
    "    'com.zloong.eu.dr.gp',\n",
    "    'com.zynga.words3',\n",
    "    'com.yottagames.stoneage'\n",
    "]"
   ]
  },
  {
   "cell_type": "code",
   "execution_count": 29,
   "metadata": {
    "ExecuteTime": {
     "end_time": "2021-03-31T02:46:47.452690Z",
     "start_time": "2021-03-31T02:46:47.436654Z"
    }
   },
   "outputs": [
    {
     "data": {
      "text/plain": [
       "196"
      ]
     },
     "execution_count": 29,
     "metadata": {},
     "output_type": "execute_result"
    }
   ],
   "source": [
    "len(app_packages_2)"
   ]
  },
  {
   "cell_type": "code",
   "execution_count": 30,
   "metadata": {
    "ExecuteTime": {
     "end_time": "2021-03-31T02:47:34.593169Z",
     "start_time": "2021-03-31T02:46:52.564867Z"
    }
   },
   "outputs": [
    {
     "name": "stderr",
     "output_type": "stream",
     "text": [
      "100%|████████████████████████████████████████| 196/196 [00:42<00:00,  4.67it/s]\n"
     ]
    }
   ],
   "source": [
    "app_infos = []\n",
    "\n",
    "for ap in tqdm(app_packages_2):\n",
    "    info = app(ap, lang='en', country='us')\n",
    "    del info['comments']\n",
    "    app_infos.append(info)"
   ]
  },
  {
   "cell_type": "code",
   "execution_count": 31,
   "metadata": {
    "ExecuteTime": {
     "end_time": "2021-03-31T02:47:39.264937Z",
     "start_time": "2021-03-31T02:47:39.250890Z"
    }
   },
   "outputs": [],
   "source": [
    "def print_json(json_object):\n",
    "    json_str = json.dumps(\n",
    "        json_object,\n",
    "        indent=2,\n",
    "        sort_keys=True,\n",
    "        default=str\n",
    "    )\n",
    "    \n",
    "    print(highlight(json_str, JsonLexer(), TerminalFormatter()))"
   ]
  },
  {
   "cell_type": "code",
   "execution_count": 32,
   "metadata": {
    "ExecuteTime": {
     "end_time": "2021-03-31T02:47:41.917325Z",
     "start_time": "2021-03-31T02:47:41.899268Z"
    },
    "scrolled": true
   },
   "outputs": [
    {
     "name": "stdout",
     "output_type": "stream",
     "text": [
      "{\n",
      "  \u001b[94m\"adSupported\"\u001b[39;49;00m: \u001b[34mnull\u001b[39;49;00m,\n",
      "  \u001b[94m\"androidVersion\"\u001b[39;49;00m: \u001b[33m\"4.0.3\"\u001b[39;49;00m,\n",
      "  \u001b[94m\"androidVersionText\"\u001b[39;49;00m: \u001b[33m\"4.0.3 and up\"\u001b[39;49;00m,\n",
      "  \u001b[94m\"appId\"\u001b[39;49;00m: \u001b[33m\"com.igg.android.lordsmobile\"\u001b[39;49;00m,\n",
      "  \u001b[94m\"containsAds\"\u001b[39;49;00m: \u001b[34mfalse\u001b[39;49;00m,\n",
      "  \u001b[94m\"contentRating\"\u001b[39;49;00m: \u001b[33m\"Everyone 10+\"\u001b[39;49;00m,\n",
      "  \u001b[94m\"contentRatingDescription\"\u001b[39;49;00m: \u001b[33m\"Fantasy Violence\"\u001b[39;49;00m,\n",
      "  \u001b[94m\"currency\"\u001b[39;49;00m: \u001b[33m\"USD\"\u001b[39;49;00m,\n",
      "  \u001b[94m\"description\"\u001b[39;49;00m: \u001b[33m\"*****The Lords Mobile X Saint Seiya collab event is here!\\r\\n*****Ignite your cosmo and join the fight alongside Athena's Saints!\\r\\n\\r\\nAre you ready for a REAL fight?\\r\\n\\r\\nThe true Emperor has fallen. We need a real hero, a true Lord who can unite the Kingdoms. Recruit heroes from various backgrounds, from dwarves and mermaids to dark elves and steampunk robots, and assemble your army in this magical world! Fight and conquer to establish your empire!\\r\\n\\r\\n[Game Features]:\\r\\n\\r\\n\\u25b6 \\u25b6 Build Your Own Kingdom \\u25c0\\u25c0\\r\\nUpgrade buildings, conduct research, train your troops, level your Heroes and lead your Kingdom well to prosper!\\r\\n\\r\\n\\u25b6 \\u25b6 Utilize Troop Formations \\u25c0\\u25c0\\r\\n4 different troop types, and 6 different troop formations for you to choose from! Plan your lineups, take advantage of the counter system, and pair your troops with the right Heroes! Perfect your strategy to defeat your enemies!\\r\\n\\r\\n\\u25b6 \\u25b6 Powerful Heroes Await \\u25c0\\u25c0\\r\\nCreate a strong team of 5 Heroes to fight through an RPG-style campaign! Let them lead your kingdom to glory as war generals!\\r\\n\\r\\n\\u25b6 \\u25b6 Forge Alliances \\u25c0\\u25c0\\r\\nJoin a guild to fight alongside your allies! Ride into war together to conquer various exhilarating events: Guild Wars, Kingdom Versus Kingdom battles, Battle Royals, Wonder Wars, Darknest Invasions, and much more!\\r\\n\\r\\n\\u25b6 \\u25b6 Clash Online with Global Players \\u25c0\\u25c0\\r\\nBrawl with millions of players from all over the world, and defeat those who stand in your way! Seize the throne and rule over all!\\r\\n\\r\\n\\u25b6 \\u25b6 Animated Battles \\u25c0\\u25c0\\r\\nExperience the thrill of war as your armies clash in beautiful 3D graphics! Watch as your Heroes unleash their skills and harness their mystical power! \\r\\n\\r\\n\\r\\n===Information===\\r\\nOfficial Facebook Page: <a href=\\\"https://www.google.com/url?q=https%3A%2F%2Fwww.facebook.com%2FLordsMobile&sa=D&sntz=1&usg=AFQjCNHdpDfSfg7BZ8fE1Bg_H90f4kfRiA\\\" target=\\\"_blank\\\">https://www.facebook.com/LordsMobile</a>\\r\\nInstagram: <a href=\\\"https://www.google.com/url?q=https%3A%2F%2Fwww.instagram.com%2Flordsmobile%2F&sa=D&sntz=1&usg=AFQjCNHp3_poUpZ9k9TFolOyO7L5ifg0xA\\\" target=\\\"_blank\\\">https://www.instagram.com/lordsmobile</a>\\r\\nYouTube: <a href=\\\"https://www.youtube.com/LordsMobile\\\" target=\\\"_blank\\\">https://www.youtube.com/LordsMobile</a>\\r\\nDiscord: <a href=\\\"https://www.google.com/url?q=https%3A%2F%2Fdiscord.com%2Finvite%2Flordsmobile&sa=D&sntz=1&usg=AFQjCNFJ7Gfi667REUSJu3e6tDmhtZ3z-w\\\" target=\\\"_blank\\\">https://discord.com/invite/lordsmobile</a>\\r\\n\\r\\nNote: This game requires an internet connection to play.\\r\\n\\r\\nCustomer Service: help.lordsmobile.android@igg.com\\r\\n\\r\\n[App Permission]\\r\\nDevices running Lollipop (OS 5.1.1) or below can enable the following to save game data on external storage.\\r\\n- WRITE_EXTERNAL_STORAGE\"\u001b[39;49;00m,\n",
      "  \u001b[94m\"descriptionHTML\"\u001b[39;49;00m: \u001b[33m\"*****The Lords Mobile X Saint Seiya collab event is here!<br>*****Ignite your cosmo and join the fight alongside Athena&#39;s Saints!<br><br>Are you ready for a REAL fight?<br><br>The true Emperor has fallen. We need a real hero, a true Lord who can unite the Kingdoms. Recruit heroes from various backgrounds, from dwarves and mermaids to dark elves and steampunk robots, and assemble your army in this magical world! Fight and conquer to establish your empire!<br><br>[Game Features]:<br><br>\\u25b6 \\u25b6 Build Your Own Kingdom \\u25c0\\u25c0<br>Upgrade buildings, conduct research, train your troops, level your Heroes and lead your Kingdom well to prosper!<br><br>\\u25b6 \\u25b6 Utilize Troop Formations \\u25c0\\u25c0<br>4 different troop types, and 6 different troop formations for you to choose from! Plan your lineups, take advantage of the counter system, and pair your troops with the right Heroes! Perfect your strategy to defeat your enemies!<br><br>\\u25b6 \\u25b6 Powerful Heroes Await \\u25c0\\u25c0<br>Create a strong team of 5 Heroes to fight through an RPG-style campaign! Let them lead your kingdom to glory as war generals!<br><br>\\u25b6 \\u25b6 Forge Alliances \\u25c0\\u25c0<br>Join a guild to fight alongside your allies! Ride into war together to conquer various exhilarating events: Guild Wars, Kingdom Versus Kingdom battles, Battle Royals, Wonder Wars, Darknest Invasions, and much more!<br><br>\\u25b6 \\u25b6 Clash Online with Global Players \\u25c0\\u25c0<br>Brawl with millions of players from all over the world, and defeat those who stand in your way! Seize the throne and rule over all!<br><br>\\u25b6 \\u25b6 Animated Battles \\u25c0\\u25c0<br>Experience the thrill of war as your armies clash in beautiful 3D graphics! Watch as your Heroes unleash their skills and harness their mystical power! <br><br><br>===Information===<br>Official Facebook Page: <a href=\\\"https://www.google.com/url?q=https%3A%2F%2Fwww.facebook.com%2FLordsMobile&amp;sa=D&amp;sntz=1&amp;usg=AFQjCNHdpDfSfg7BZ8fE1Bg_H90f4kfRiA\\\" target=\\\"_blank\\\">https://www.facebook.com/LordsMobile</a><br>Instagram: <a href=\\\"https://www.google.com/url?q=https%3A%2F%2Fwww.instagram.com%2Flordsmobile%2F&amp;sa=D&amp;sntz=1&amp;usg=AFQjCNHp3_poUpZ9k9TFolOyO7L5ifg0xA\\\" target=\\\"_blank\\\">https://www.instagram.com/lordsmobile</a><br>YouTube: <a href=\\\"https://www.youtube.com/LordsMobile\\\" target=\\\"_blank\\\">https://www.youtube.com/LordsMobile</a><br>Discord: <a href=\\\"https://www.google.com/url?q=https%3A%2F%2Fdiscord.com%2Finvite%2Flordsmobile&amp;sa=D&amp;sntz=1&amp;usg=AFQjCNFJ7Gfi667REUSJu3e6tDmhtZ3z-w\\\" target=\\\"_blank\\\">https://discord.com/invite/lordsmobile</a><br><br>Note: This game requires an internet connection to play.<br><br>Customer Service: help.lordsmobile.android@igg.com<br><br>[App Permission]<br>Devices running Lollipop (OS 5.1.1) or below can enable the following to save game data on external storage.<br>- WRITE_EXTERNAL_STORAGE\"\u001b[39;49;00m,\n",
      "  \u001b[94m\"developer\"\u001b[39;49;00m: \u001b[33m\"IGG.COM\"\u001b[39;49;00m,\n",
      "  \u001b[94m\"developerAddress\"\u001b[39;49;00m: \u001b[33m\"80 Pasir Panjang Road #18-84\\nMapletree Business City\\nSingapore 117372\"\u001b[39;49;00m,\n",
      "  \u001b[94m\"developerEmail\"\u001b[39;49;00m: \u001b[33m\"help.lordsmobile.android@igg.com\"\u001b[39;49;00m,\n",
      "  \u001b[94m\"developerId\"\u001b[39;49;00m: \u001b[33m\"8895734616362643252\"\u001b[39;49;00m,\n",
      "  \u001b[94m\"developerInternalID\"\u001b[39;49;00m: \u001b[33m\"8895734616362643252\"\u001b[39;49;00m,\n",
      "  \u001b[94m\"developerWebsite\"\u001b[39;49;00m: \u001b[33m\"http://www.igg.com\"\u001b[39;49;00m,\n",
      "  \u001b[94m\"editorsChoice\"\u001b[39;49;00m: \u001b[34mtrue\u001b[39;49;00m,\n",
      "  \u001b[94m\"free\"\u001b[39;49;00m: \u001b[34mtrue\u001b[39;49;00m,\n",
      "  \u001b[94m\"genre\"\u001b[39;49;00m: \u001b[33m\"Strategy\"\u001b[39;49;00m,\n",
      "  \u001b[94m\"genreId\"\u001b[39;49;00m: \u001b[33m\"GAME_STRATEGY\"\u001b[39;49;00m,\n",
      "  \u001b[94m\"headerImage\"\u001b[39;49;00m: \u001b[33m\"https://play-lh.googleusercontent.com/EBNH2ogfvLn45QMH1-wXmPBBOSScgizu9PgV01DxNQtzrFgQuvZWezltMs8Ilso8JQ\"\u001b[39;49;00m,\n",
      "  \u001b[94m\"histogram\"\u001b[39;49;00m: [\n",
      "    \u001b[34m576544\u001b[39;49;00m,\n",
      "    \u001b[34m138418\u001b[39;49;00m,\n",
      "    \u001b[34m353772\u001b[39;49;00m,\n",
      "    \u001b[34m757502\u001b[39;49;00m,\n",
      "    \u001b[34m4447415\u001b[39;49;00m\n",
      "  ],\n",
      "  \u001b[94m\"icon\"\u001b[39;49;00m: \u001b[33m\"https://play-lh.googleusercontent.com/CCRyOv38OeARxpsPKhCeKipjkXgm7rKWASn4x5Iec0ZDR6ak0Dk7u_qngOCQYz5wUQ\"\u001b[39;49;00m,\n",
      "  \u001b[94m\"inAppProductPrice\"\u001b[39;49;00m: \u001b[33m\"$0.90 - $294.99 per item\"\u001b[39;49;00m,\n",
      "  \u001b[94m\"installs\"\u001b[39;49;00m: \u001b[33m\"100,000,000+\"\u001b[39;49;00m,\n",
      "  \u001b[94m\"minInstalls\"\u001b[39;49;00m: \u001b[34m100000000\u001b[39;49;00m,\n",
      "  \u001b[94m\"offersIAP\"\u001b[39;49;00m: \u001b[34mtrue\u001b[39;49;00m,\n",
      "  \u001b[94m\"originalPrice\"\u001b[39;49;00m: \u001b[34mnull\u001b[39;49;00m,\n",
      "  \u001b[94m\"price\"\u001b[39;49;00m: \u001b[34m0\u001b[39;49;00m,\n",
      "  \u001b[94m\"privacyPolicy\"\u001b[39;49;00m: \u001b[33m\"https://policies.igg.com/privacy_policy\"\u001b[39;49;00m,\n",
      "  \u001b[94m\"ratings\"\u001b[39;49;00m: \u001b[34m6273651\u001b[39;49;00m,\n",
      "  \u001b[94m\"recentChanges\"\u001b[39;49;00m: \u001b[33m\"[Saint Seiya] is here!\\r\\n\\r\\n# Event login gift (1st login only): 10 [Pegasus Seiya] Medals\\r\\n# New [Limited Challenge: Cosmo Unleashed], [Turf Decorations: Gilded Sanctuary], [Saint Shop]\\r\\n# New [Avatar] system: Tap on [Leader portrait on the top left] > [Avatar icon]\\r\\n# Updated Leader menu\\r\\n# Hero deployment menu: Optimized Hero display by troop type. Includes: Edit Battalions and Wall Stations\\r\\n# Gawrilla update: Optimized monster and equipment names in some languages\"\u001b[39;49;00m,\n",
      "  \u001b[94m\"recentChangesHTML\"\u001b[39;49;00m: \u001b[33m\"[Saint Seiya] is here!<br><br># Event login gift (1st login only): 10 [Pegasus Seiya] Medals<br># New [Limited Challenge: Cosmo Unleashed], [Turf Decorations: Gilded Sanctuary], [Saint Shop]<br># New [Avatar] system: Tap on [Leader portrait on the top left] &gt; [Avatar icon]<br># Updated Leader menu<br># Hero deployment menu: Optimized Hero display by troop type. Includes: Edit Battalions and Wall Stations<br># Gawrilla update: Optimized monster and equipment names in some languages\"\u001b[39;49;00m,\n",
      "  \u001b[94m\"released\"\u001b[39;49;00m: \u001b[33m\"Mar 21, 2016\"\u001b[39;49;00m,\n",
      "  \u001b[94m\"reviews\"\u001b[39;49;00m: \u001b[34m2522396\u001b[39;49;00m,\n",
      "  \u001b[94m\"sale\"\u001b[39;49;00m: \u001b[34mfalse\u001b[39;49;00m,\n",
      "  \u001b[94m\"saleText\"\u001b[39;49;00m: \u001b[34mnull\u001b[39;49;00m,\n",
      "  \u001b[94m\"saleTime\"\u001b[39;49;00m: \u001b[34mnull\u001b[39;49;00m,\n",
      "  \u001b[94m\"score\"\u001b[39;49;00m: \u001b[34m4.332689\u001b[39;49;00m,\n",
      "  \u001b[94m\"screenshots\"\u001b[39;49;00m: [\n",
      "    \u001b[33m\"https://play-lh.googleusercontent.com/JnUiYwebb9YkNN7jjzPh9ZyNCJF831_-q7jAuqOaq5ebhrtFKTucXKvR4Fu4rU3jp1DL\"\u001b[39;49;00m,\n",
      "    \u001b[33m\"https://play-lh.googleusercontent.com/jrr6CcqdMknWzUoj8fiYH_6MwQmUFZkcK55y139ELPDlVYWyNlgggcRna0lNCJkpYZjJ\"\u001b[39;49;00m,\n",
      "    \u001b[33m\"https://play-lh.googleusercontent.com/DYXfs5cGIkE2VnRE7PUKpeLKpozIoFFz41NAtTAyfNBNEagWGtW230SDjZTu8OR5jTg\"\u001b[39;49;00m,\n",
      "    \u001b[33m\"https://play-lh.googleusercontent.com/QFnnhLzWeNUsV2X22G6FiYon8EVHRPGAUxi6oB93bnoAyGfvEv6zSqA_bpbxykEb8q8\"\u001b[39;49;00m,\n",
      "    \u001b[33m\"https://play-lh.googleusercontent.com/F_d7VicHbtGurKQNwLDAEHw4CLbPb20Rvsn69-WVyULdCggFfX-BlYKBHHgg3Nzb_Rt3\"\u001b[39;49;00m,\n",
      "    \u001b[33m\"https://play-lh.googleusercontent.com/V5FQcVhmpbCOePj3Qzalem2g2hTs2cZd2ulV8YS61qbjdngnGxKCsDBI-fsyc4xt9Tav\"\u001b[39;49;00m,\n",
      "    \u001b[33m\"https://play-lh.googleusercontent.com/V73ggPKgD6G4BDY0ATrSKBIfnc_UAqaCpODZxpojmY7HyrGOLyKePiIA8RnQmyNH3M0\"\u001b[39;49;00m,\n",
      "    \u001b[33m\"https://play-lh.googleusercontent.com/c1tzEBpLZyCeDk3gr5r1LWn_GPoG4zNGL_K7hjgGHNtD8DeylV-5ON0PxRfN5E7wBhU\"\u001b[39;49;00m,\n",
      "    \u001b[33m\"https://play-lh.googleusercontent.com/NQwqAjeswW2tHoSixGi43MtJLe6e0oZTIISwMH7fIKkFHbJKPrgeDcyioo8GgCN3lO53\"\u001b[39;49;00m,\n",
      "    \u001b[33m\"https://play-lh.googleusercontent.com/naEGajFmYenF6TpPphrUSSQZhCnubT0dpSpUpTro5SYxrLNNyjrvnb_SmLJI7dba5CR8\"\u001b[39;49;00m,\n",
      "    \u001b[33m\"https://play-lh.googleusercontent.com/Lam8HYPoYTRhjV-63ROD4lQCjOcsI8EvIF2dQfC369sNK-fT-UWkouM2e9_5HjkGqhwp\"\u001b[39;49;00m,\n",
      "    \u001b[33m\"https://play-lh.googleusercontent.com/1yXUBKa8rjzqK4TlJmAVA0LtHx9LETEDFCVn9zEq0GfutIVXph_ZZoNU26tx5MWs0w\"\u001b[39;49;00m,\n",
      "    \u001b[33m\"https://play-lh.googleusercontent.com/_o5NYTF2qKDDmQ-h94i5W_J1mrqtFATOBcaNsHBSN43l4km2DvzybuZLM8Qc5zgj2-0\"\u001b[39;49;00m,\n",
      "    \u001b[33m\"https://play-lh.googleusercontent.com/ovzhPL3wtddlNs_NOlTas1GwMDK5fNUl-6ZyBNFzdWqgeXZ-o9zHfsjMm2_Qa5RCMJM\"\u001b[39;49;00m,\n",
      "    \u001b[33m\"https://play-lh.googleusercontent.com/301vSvs7LOua2B_vBq0Dj9cGK7qa-VTtr1Lonq51VF4NZbfN_XC95tr_drRmPzJrKA\"\u001b[39;49;00m,\n",
      "    \u001b[33m\"https://play-lh.googleusercontent.com/EC84r2Yb0O0DnnZBMmih-tPKWOpv_b5FIxP575x-lftaB-bEEC0ToG0aHe5R4hoWnnqA\"\u001b[39;49;00m,\n",
      "    \u001b[33m\"https://play-lh.googleusercontent.com/F6G60E_Fsx43YPeakog5e87F7cKg_cyyyZ5ynEmbrI356l6Vgmx6sKto_1NvNpGhKQ\"\u001b[39;49;00m,\n",
      "    \u001b[33m\"https://play-lh.googleusercontent.com/cLfWTkSNa6pE0OAc29jEHSQ07vR8hU6TUg6H1Tnx8Pi0j2cmF6gK0Qz7Ed-CM5XkhuE\"\u001b[39;49;00m\n",
      "  ],\n",
      "  \u001b[94m\"size\"\u001b[39;49;00m: \u001b[33m\"80M\"\u001b[39;49;00m,\n",
      "  \u001b[94m\"summary\"\u001b[39;49;00m: \u001b[33m\"Wage MMORPG battles and conquer kingdoms to create an empire and win the war!\"\u001b[39;49;00m,\n",
      "  \u001b[94m\"summaryHTML\"\u001b[39;49;00m: \u001b[33m\"Wage MMORPG battles and conquer kingdoms to create an empire and win the war!\"\u001b[39;49;00m,\n",
      "  \u001b[94m\"title\"\u001b[39;49;00m: \u001b[33m\"Lords Mobile: Kingdom Wars\"\u001b[39;49;00m,\n",
      "  \u001b[94m\"updated\"\u001b[39;49;00m: \u001b[34m1617020046\u001b[39;49;00m,\n",
      "  \u001b[94m\"url\"\u001b[39;49;00m: \u001b[33m\"https://play.google.com/store/apps/details?id=com.igg.android.lordsmobile&hl=en&gl=us\"\u001b[39;49;00m,\n",
      "  \u001b[94m\"version\"\u001b[39;49;00m: \u001b[33m\"2.43\"\u001b[39;49;00m,\n",
      "  \u001b[94m\"video\"\u001b[39;49;00m: \u001b[33m\"https://www.youtube.com/embed/bYkLJH182Zk?ps=play&vq=large&rel=0&autohide=1&showinfo=0\"\u001b[39;49;00m,\n",
      "  \u001b[94m\"videoImage\"\u001b[39;49;00m: \u001b[33m\"https://i.ytimg.com/vi/bYkLJH182Zk/hqdefault.jpg\"\u001b[39;49;00m\n",
      "}\n",
      "\n"
     ]
    }
   ],
   "source": [
    "print_json(app_infos[0])"
   ]
  },
  {
   "cell_type": "code",
   "execution_count": 33,
   "metadata": {
    "ExecuteTime": {
     "end_time": "2021-03-31T02:47:45.272860Z",
     "start_time": "2021-03-31T02:47:45.220687Z"
    },
    "scrolled": true
   },
   "outputs": [
    {
     "data": {
      "text/html": [
       "<div>\n",
       "<style scoped>\n",
       "    .dataframe tbody tr th:only-of-type {\n",
       "        vertical-align: middle;\n",
       "    }\n",
       "\n",
       "    .dataframe tbody tr th {\n",
       "        vertical-align: top;\n",
       "    }\n",
       "\n",
       "    .dataframe thead th {\n",
       "        text-align: right;\n",
       "    }\n",
       "</style>\n",
       "<table border=\"1\" class=\"dataframe\">\n",
       "  <thead>\n",
       "    <tr style=\"text-align: right;\">\n",
       "      <th></th>\n",
       "      <th>title</th>\n",
       "      <th>description</th>\n",
       "      <th>descriptionHTML</th>\n",
       "      <th>summary</th>\n",
       "      <th>summaryHTML</th>\n",
       "      <th>installs</th>\n",
       "      <th>minInstalls</th>\n",
       "      <th>score</th>\n",
       "      <th>ratings</th>\n",
       "      <th>reviews</th>\n",
       "      <th>...</th>\n",
       "      <th>adSupported</th>\n",
       "      <th>containsAds</th>\n",
       "      <th>released</th>\n",
       "      <th>updated</th>\n",
       "      <th>version</th>\n",
       "      <th>recentChanges</th>\n",
       "      <th>recentChangesHTML</th>\n",
       "      <th>editorsChoice</th>\n",
       "      <th>appId</th>\n",
       "      <th>url</th>\n",
       "    </tr>\n",
       "  </thead>\n",
       "  <tbody>\n",
       "    <tr>\n",
       "      <th>0</th>\n",
       "      <td>Lords Mobile: Kingdom Wars</td>\n",
       "      <td>*****The Lords Mobile X Saint Seiya collab eve...</td>\n",
       "      <td>*****The Lords Mobile X Saint Seiya collab eve...</td>\n",
       "      <td>Wage MMORPG battles and conquer kingdoms to cr...</td>\n",
       "      <td>Wage MMORPG battles and conquer kingdoms to cr...</td>\n",
       "      <td>100,000,000+</td>\n",
       "      <td>100000000</td>\n",
       "      <td>4.332689</td>\n",
       "      <td>6273651</td>\n",
       "      <td>2522396</td>\n",
       "      <td>...</td>\n",
       "      <td>None</td>\n",
       "      <td>False</td>\n",
       "      <td>Mar 21, 2016</td>\n",
       "      <td>1617020046</td>\n",
       "      <td>2.43</td>\n",
       "      <td>[Saint Seiya] is here!\\r\\n\\r\\n# Event login gi...</td>\n",
       "      <td>[Saint Seiya] is here!&lt;br&gt;&lt;br&gt;# Event login gi...</td>\n",
       "      <td>True</td>\n",
       "      <td>com.igg.android.lordsmobile</td>\n",
       "      <td>https://play.google.com/store/apps/details?id=...</td>\n",
       "    </tr>\n",
       "    <tr>\n",
       "      <th>1</th>\n",
       "      <td>Coin Master</td>\n",
       "      <td>Join your Facebook friends and millions of pla...</td>\n",
       "      <td>Join your Facebook friends and millions of pla...</td>\n",
       "      <td>Play the Best Adventure Game with Friends !!!</td>\n",
       "      <td>Play the Best Adventure Game with Friends !!!</td>\n",
       "      <td>100,000,000+</td>\n",
       "      <td>100000000</td>\n",
       "      <td>4.373052</td>\n",
       "      <td>5472232</td>\n",
       "      <td>2261518</td>\n",
       "      <td>...</td>\n",
       "      <td>True</td>\n",
       "      <td>True</td>\n",
       "      <td>Feb 4, 2016</td>\n",
       "      <td>1616698542</td>\n",
       "      <td>3.5.274</td>\n",
       "      <td>Thanks for playing Coin Master!\\r\\n\\r\\nIn this...</td>\n",
       "      <td>Thanks for playing Coin Master!&lt;br&gt;&lt;br&gt;In this...</td>\n",
       "      <td>False</td>\n",
       "      <td>com.moonactive.coinmaster</td>\n",
       "      <td>https://play.google.com/store/apps/details?id=...</td>\n",
       "    </tr>\n",
       "    <tr>\n",
       "      <th>2</th>\n",
       "      <td>Candy Crush Saga</td>\n",
       "      <td>Start playing Candy Crush Saga today – a legen...</td>\n",
       "      <td>Start playing Candy Crush Saga today – a legen...</td>\n",
       "      <td>🍭 The sweetest puzzle game! Switch, match &amp; bl...</td>\n",
       "      <td>🍭 The sweetest puzzle game! Switch, match &amp;amp...</td>\n",
       "      <td>1,000,000,000+</td>\n",
       "      <td>1000000000</td>\n",
       "      <td>4.561550</td>\n",
       "      <td>30846014</td>\n",
       "      <td>9349147</td>\n",
       "      <td>...</td>\n",
       "      <td>True</td>\n",
       "      <td>True</td>\n",
       "      <td>Nov 15, 2012</td>\n",
       "      <td>1616774554</td>\n",
       "      <td>1.198.0.2</td>\n",
       "      <td>We hope you’re having fun playing Candy Crush ...</td>\n",
       "      <td>We hope you’re having fun playing Candy Crush ...</td>\n",
       "      <td>False</td>\n",
       "      <td>com.king.candycrushsaga</td>\n",
       "      <td>https://play.google.com/store/apps/details?id=...</td>\n",
       "    </tr>\n",
       "    <tr>\n",
       "      <th>3</th>\n",
       "      <td>Pokémon GO</td>\n",
       "      <td>NEW! Now you can battle other Pokémon GO Train...</td>\n",
       "      <td>NEW! Now you can battle other Pokémon GO Train...</td>\n",
       "      <td>Discover Pokémon worldwide</td>\n",
       "      <td>Discover Pokémon worldwide</td>\n",
       "      <td>100,000,000+</td>\n",
       "      <td>100000000</td>\n",
       "      <td>4.098309</td>\n",
       "      <td>14397512</td>\n",
       "      <td>5815118</td>\n",
       "      <td>...</td>\n",
       "      <td>None</td>\n",
       "      <td>False</td>\n",
       "      <td>Jul 6, 2016</td>\n",
       "      <td>1616443314</td>\n",
       "      <td>0.203.1</td>\n",
       "      <td>Trainers, there’s always something new in Poké...</td>\n",
       "      <td>Trainers, there’s always something new in Poké...</td>\n",
       "      <td>True</td>\n",
       "      <td>com.nianticlabs.pokemongo</td>\n",
       "      <td>https://play.google.com/store/apps/details?id=...</td>\n",
       "    </tr>\n",
       "    <tr>\n",
       "      <th>4</th>\n",
       "      <td>Garena Free Fire - The Cobra</td>\n",
       "      <td>Free Fire is the ultimate survival shooter gam...</td>\n",
       "      <td>Free Fire is the ultimate survival shooter gam...</td>\n",
       "      <td>10-minute Survival Shooter!</td>\n",
       "      <td>10-minute Survival Shooter!</td>\n",
       "      <td>500,000,000+</td>\n",
       "      <td>500000000</td>\n",
       "      <td>4.331702</td>\n",
       "      <td>80539962</td>\n",
       "      <td>48120002</td>\n",
       "      <td>...</td>\n",
       "      <td>None</td>\n",
       "      <td>False</td>\n",
       "      <td>Dec 7, 2017</td>\n",
       "      <td>1612838820</td>\n",
       "      <td>1.59.5</td>\n",
       "      <td>1. Clash Squad Season 5 - Begins 02/05 17:00 S...</td>\n",
       "      <td>1. Clash Squad Season 5 - Begins 02/05 17:00 S...</td>\n",
       "      <td>True</td>\n",
       "      <td>com.dts.freefireth</td>\n",
       "      <td>https://play.google.com/store/apps/details?id=...</td>\n",
       "    </tr>\n",
       "  </tbody>\n",
       "</table>\n",
       "<p>5 rows × 49 columns</p>\n",
       "</div>"
      ],
      "text/plain": [
       "                          title  \\\n",
       "0    Lords Mobile: Kingdom Wars   \n",
       "1                   Coin Master   \n",
       "2              Candy Crush Saga   \n",
       "3                    Pokémon GO   \n",
       "4  Garena Free Fire - The Cobra   \n",
       "\n",
       "                                         description  \\\n",
       "0  *****The Lords Mobile X Saint Seiya collab eve...   \n",
       "1  Join your Facebook friends and millions of pla...   \n",
       "2  Start playing Candy Crush Saga today – a legen...   \n",
       "3  NEW! Now you can battle other Pokémon GO Train...   \n",
       "4  Free Fire is the ultimate survival shooter gam...   \n",
       "\n",
       "                                     descriptionHTML  \\\n",
       "0  *****The Lords Mobile X Saint Seiya collab eve...   \n",
       "1  Join your Facebook friends and millions of pla...   \n",
       "2  Start playing Candy Crush Saga today – a legen...   \n",
       "3  NEW! Now you can battle other Pokémon GO Train...   \n",
       "4  Free Fire is the ultimate survival shooter gam...   \n",
       "\n",
       "                                             summary  \\\n",
       "0  Wage MMORPG battles and conquer kingdoms to cr...   \n",
       "1      Play the Best Adventure Game with Friends !!!   \n",
       "2  🍭 The sweetest puzzle game! Switch, match & bl...   \n",
       "3                         Discover Pokémon worldwide   \n",
       "4                        10-minute Survival Shooter!   \n",
       "\n",
       "                                         summaryHTML        installs  \\\n",
       "0  Wage MMORPG battles and conquer kingdoms to cr...    100,000,000+   \n",
       "1      Play the Best Adventure Game with Friends !!!    100,000,000+   \n",
       "2  🍭 The sweetest puzzle game! Switch, match &amp...  1,000,000,000+   \n",
       "3                         Discover Pokémon worldwide    100,000,000+   \n",
       "4                        10-minute Survival Shooter!    500,000,000+   \n",
       "\n",
       "   minInstalls     score   ratings   reviews  ... adSupported  containsAds  \\\n",
       "0    100000000  4.332689   6273651   2522396  ...        None        False   \n",
       "1    100000000  4.373052   5472232   2261518  ...        True         True   \n",
       "2   1000000000  4.561550  30846014   9349147  ...        True         True   \n",
       "3    100000000  4.098309  14397512   5815118  ...        None        False   \n",
       "4    500000000  4.331702  80539962  48120002  ...        None        False   \n",
       "\n",
       "       released     updated    version  \\\n",
       "0  Mar 21, 2016  1617020046       2.43   \n",
       "1   Feb 4, 2016  1616698542    3.5.274   \n",
       "2  Nov 15, 2012  1616774554  1.198.0.2   \n",
       "3   Jul 6, 2016  1616443314    0.203.1   \n",
       "4   Dec 7, 2017  1612838820     1.59.5   \n",
       "\n",
       "                                       recentChanges  \\\n",
       "0  [Saint Seiya] is here!\\r\\n\\r\\n# Event login gi...   \n",
       "1  Thanks for playing Coin Master!\\r\\n\\r\\nIn this...   \n",
       "2  We hope you’re having fun playing Candy Crush ...   \n",
       "3  Trainers, there’s always something new in Poké...   \n",
       "4  1. Clash Squad Season 5 - Begins 02/05 17:00 S...   \n",
       "\n",
       "                                   recentChangesHTML editorsChoice  \\\n",
       "0  [Saint Seiya] is here!<br><br># Event login gi...          True   \n",
       "1  Thanks for playing Coin Master!<br><br>In this...         False   \n",
       "2  We hope you’re having fun playing Candy Crush ...         False   \n",
       "3  Trainers, there’s always something new in Poké...          True   \n",
       "4  1. Clash Squad Season 5 - Begins 02/05 17:00 S...          True   \n",
       "\n",
       "                         appId  \\\n",
       "0  com.igg.android.lordsmobile   \n",
       "1    com.moonactive.coinmaster   \n",
       "2      com.king.candycrushsaga   \n",
       "3    com.nianticlabs.pokemongo   \n",
       "4           com.dts.freefireth   \n",
       "\n",
       "                                                 url  \n",
       "0  https://play.google.com/store/apps/details?id=...  \n",
       "1  https://play.google.com/store/apps/details?id=...  \n",
       "2  https://play.google.com/store/apps/details?id=...  \n",
       "3  https://play.google.com/store/apps/details?id=...  \n",
       "4  https://play.google.com/store/apps/details?id=...  \n",
       "\n",
       "[5 rows x 49 columns]"
      ]
     },
     "execution_count": 33,
     "metadata": {},
     "output_type": "execute_result"
    }
   ],
   "source": [
    "app_info_df = pd.DataFrame(app_infos)\n",
    "app_info_df.head()"
   ]
  },
  {
   "cell_type": "code",
   "execution_count": 34,
   "metadata": {
    "ExecuteTime": {
     "end_time": "2021-03-31T02:48:06.996725Z",
     "start_time": "2021-03-31T02:48:06.902415Z"
    }
   },
   "outputs": [],
   "source": [
    "app_info_df.to_csv('top_196_grossing.csv', index=None, header=True)"
   ]
  },
  {
   "cell_type": "markdown",
   "metadata": {},
   "source": [
    "# Get App Reviews"
   ]
  },
  {
   "cell_type": "code",
   "execution_count": 22,
   "metadata": {
    "ExecuteTime": {
     "end_time": "2021-03-25T00:14:11.810404Z",
     "start_time": "2021-03-25T00:12:22.950818Z"
    }
   },
   "outputs": [
    {
     "name": "stderr",
     "output_type": "stream",
     "text": [
      "100%|██████████████████████████████████████████| 20/20 [01:48<00:00,  5.44s/it]\n"
     ]
    }
   ],
   "source": [
    "app_reviews = []\n",
    "\n",
    "for ap in tqdm(app_packages):\n",
    "    for score in range(1,6):\n",
    "        for sort_order in [Sort.MOST_RELEVANT, Sort.NEWEST]:\n",
    "            rvs = reviews(\n",
    "            ap,\n",
    "            lang='en',\n",
    "            country='us',\n",
    "            sort=sort_order,\n",
    "            count= 200 if score == 3 else 100,\n",
    "            filter_score_with=score\n",
    "            )[0]\n",
    "            \n",
    "            for r in rvs:\n",
    "                r['sortOrder'] = 'most_relevant' if sort_order == Sort.MOST_RELEVANT else 'newest'\n",
    "                r['appID']= ap\n",
    "            app_reviews.extend(rvs)"
   ]
  },
  {
   "cell_type": "code",
   "execution_count": 23,
   "metadata": {
    "ExecuteTime": {
     "end_time": "2021-03-25T03:58:43.388262Z",
     "start_time": "2021-03-25T03:58:43.369212Z"
    }
   },
   "outputs": [
    {
     "name": "stdout",
     "output_type": "stream",
     "text": [
      "{\n",
      "  \u001b[94m\"appID\"\u001b[39;49;00m: \u001b[33m\"com.game.colorslime\"\u001b[39;49;00m,\n",
      "  \u001b[94m\"at\"\u001b[39;49;00m: \u001b[33m\"2021-03-22 13:16:53\"\u001b[39;49;00m,\n",
      "  \u001b[94m\"content\"\u001b[39;49;00m: \u001b[33m\"This game is kinda good, besides the fact that the pictures show that you can put any color you want but the picture wants you to do 2 or more colors but if you don't put those colors it takes down the accuracy. One more thing the game shows it's for everyone I'm a kid so I thought it would be appropriate BUT it has a girl's bikini top and a girl's bikini bottom.\"\u001b[39;49;00m,\n",
      "  \u001b[94m\"repliedAt\"\u001b[39;49;00m: \u001b[34mnull\u001b[39;49;00m,\n",
      "  \u001b[94m\"replyContent\"\u001b[39;49;00m: \u001b[34mnull\u001b[39;49;00m,\n",
      "  \u001b[94m\"reviewCreatedVersion\"\u001b[39;49;00m: \u001b[33m\"1.49\"\u001b[39;49;00m,\n",
      "  \u001b[94m\"reviewId\"\u001b[39;49;00m: \u001b[33m\"gp:AOqpTOFNvajvGFfAIU7_Swk3NYP7Gy_Hakn0Kehpcu9NOIOJAHh9Wk8hkJKddI6GZ9wytm4OPJ1mCaVVYC91VA\"\u001b[39;49;00m,\n",
      "  \u001b[94m\"score\"\u001b[39;49;00m: \u001b[34m1\u001b[39;49;00m,\n",
      "  \u001b[94m\"sortOrder\"\u001b[39;49;00m: \u001b[33m\"most_relevant\"\u001b[39;49;00m,\n",
      "  \u001b[94m\"thumbsUpCount\"\u001b[39;49;00m: \u001b[34m90\u001b[39;49;00m,\n",
      "  \u001b[94m\"userImage\"\u001b[39;49;00m: \u001b[33m\"https://play-lh.googleusercontent.com/-JaDNmoKXIoY/AAAAAAAAAAI/AAAAAAAAAAA/AMZuucnx-ozePl184qnlLY_3MeAPg8ys5g/photo.jpg\"\u001b[39;49;00m,\n",
      "  \u001b[94m\"userName\"\u001b[39;49;00m: \u001b[33m\"Trinity Smith\"\u001b[39;49;00m\n",
      "}\n",
      "\n"
     ]
    }
   ],
   "source": [
    "print_json(app_reviews[0])"
   ]
  },
  {
   "cell_type": "code",
   "execution_count": 24,
   "metadata": {
    "ExecuteTime": {
     "end_time": "2021-03-25T04:00:34.538464Z",
     "start_time": "2021-03-25T04:00:34.447177Z"
    }
   },
   "outputs": [
    {
     "data": {
      "text/plain": [
       "(23006, 12)"
      ]
     },
     "execution_count": 24,
     "metadata": {},
     "output_type": "execute_result"
    }
   ],
   "source": [
    "app_reviews_df = pd.DataFrame(app_reviews)\n",
    "app_reviews_df.shape"
   ]
  },
  {
   "cell_type": "code",
   "execution_count": 25,
   "metadata": {
    "ExecuteTime": {
     "end_time": "2021-03-25T04:00:46.691572Z",
     "start_time": "2021-03-25T04:00:46.664482Z"
    }
   },
   "outputs": [
    {
     "data": {
      "text/html": [
       "<div>\n",
       "<style scoped>\n",
       "    .dataframe tbody tr th:only-of-type {\n",
       "        vertical-align: middle;\n",
       "    }\n",
       "\n",
       "    .dataframe tbody tr th {\n",
       "        vertical-align: top;\n",
       "    }\n",
       "\n",
       "    .dataframe thead th {\n",
       "        text-align: right;\n",
       "    }\n",
       "</style>\n",
       "<table border=\"1\" class=\"dataframe\">\n",
       "  <thead>\n",
       "    <tr style=\"text-align: right;\">\n",
       "      <th></th>\n",
       "      <th>reviewId</th>\n",
       "      <th>userName</th>\n",
       "      <th>userImage</th>\n",
       "      <th>content</th>\n",
       "      <th>score</th>\n",
       "      <th>thumbsUpCount</th>\n",
       "      <th>reviewCreatedVersion</th>\n",
       "      <th>at</th>\n",
       "      <th>replyContent</th>\n",
       "      <th>repliedAt</th>\n",
       "      <th>sortOrder</th>\n",
       "      <th>appID</th>\n",
       "    </tr>\n",
       "  </thead>\n",
       "  <tbody>\n",
       "    <tr>\n",
       "      <th>0</th>\n",
       "      <td>gp:AOqpTOFNvajvGFfAIU7_Swk3NYP7Gy_Hakn0Kehpcu9...</td>\n",
       "      <td>Trinity Smith</td>\n",
       "      <td>https://play-lh.googleusercontent.com/-JaDNmoK...</td>\n",
       "      <td>This game is kinda good, besides the fact that...</td>\n",
       "      <td>1</td>\n",
       "      <td>90</td>\n",
       "      <td>1.49</td>\n",
       "      <td>2021-03-22 13:16:53</td>\n",
       "      <td>None</td>\n",
       "      <td>NaT</td>\n",
       "      <td>most_relevant</td>\n",
       "      <td>com.game.colorslime</td>\n",
       "    </tr>\n",
       "    <tr>\n",
       "      <th>1</th>\n",
       "      <td>gp:AOqpTOFZmPht6pTJ0WM_ohgR4v7dHIrC58DEQ7Uu52b...</td>\n",
       "      <td>Noah Davis</td>\n",
       "      <td>https://play-lh.googleusercontent.com/a-/AOh14...</td>\n",
       "      <td>Embarassed that I even downloaded it. There ar...</td>\n",
       "      <td>1</td>\n",
       "      <td>5</td>\n",
       "      <td>1.49</td>\n",
       "      <td>2021-03-22 12:33:14</td>\n",
       "      <td>None</td>\n",
       "      <td>NaT</td>\n",
       "      <td>most_relevant</td>\n",
       "      <td>com.game.colorslime</td>\n",
       "    </tr>\n",
       "    <tr>\n",
       "      <th>2</th>\n",
       "      <td>gp:AOqpTOEUIMLKIA3m4j99NSHiKVa07lsSc129TWY0RO0...</td>\n",
       "      <td>FS Ri0t</td>\n",
       "      <td>https://play-lh.googleusercontent.com/a-/AOh14...</td>\n",
       "      <td>Too many ads. The second I even touched the sc...</td>\n",
       "      <td>1</td>\n",
       "      <td>394</td>\n",
       "      <td>1.43</td>\n",
       "      <td>2021-03-20 08:26:23</td>\n",
       "      <td>None</td>\n",
       "      <td>NaT</td>\n",
       "      <td>most_relevant</td>\n",
       "      <td>com.game.colorslime</td>\n",
       "    </tr>\n",
       "    <tr>\n",
       "      <th>3</th>\n",
       "      <td>gp:AOqpTOEqYo7fmNBKEPQM9bhD8jhxvwDTGLEobBrf1Rv...</td>\n",
       "      <td>Jeffery Clay</td>\n",
       "      <td>https://play-lh.googleusercontent.com/a-/AOh14...</td>\n",
       "      <td>Its not \"satisfying\" at all it was only satisf...</td>\n",
       "      <td>1</td>\n",
       "      <td>87</td>\n",
       "      <td>1.49</td>\n",
       "      <td>2021-03-21 13:54:32</td>\n",
       "      <td>None</td>\n",
       "      <td>NaT</td>\n",
       "      <td>most_relevant</td>\n",
       "      <td>com.game.colorslime</td>\n",
       "    </tr>\n",
       "    <tr>\n",
       "      <th>4</th>\n",
       "      <td>gp:AOqpTOEtxRmPglzeA_iNioUaVR7tU8TkUNeT0R_3LlO...</td>\n",
       "      <td>Emalene Clark</td>\n",
       "      <td>https://play-lh.googleusercontent.com/a-/AOh14...</td>\n",
       "      <td>There's ads in the middle of god damn levels, ...</td>\n",
       "      <td>1</td>\n",
       "      <td>2</td>\n",
       "      <td>1.49</td>\n",
       "      <td>2021-03-22 16:09:04</td>\n",
       "      <td>None</td>\n",
       "      <td>NaT</td>\n",
       "      <td>most_relevant</td>\n",
       "      <td>com.game.colorslime</td>\n",
       "    </tr>\n",
       "  </tbody>\n",
       "</table>\n",
       "</div>"
      ],
      "text/plain": [
       "                                            reviewId       userName  \\\n",
       "0  gp:AOqpTOFNvajvGFfAIU7_Swk3NYP7Gy_Hakn0Kehpcu9...  Trinity Smith   \n",
       "1  gp:AOqpTOFZmPht6pTJ0WM_ohgR4v7dHIrC58DEQ7Uu52b...     Noah Davis   \n",
       "2  gp:AOqpTOEUIMLKIA3m4j99NSHiKVa07lsSc129TWY0RO0...        FS Ri0t   \n",
       "3  gp:AOqpTOEqYo7fmNBKEPQM9bhD8jhxvwDTGLEobBrf1Rv...   Jeffery Clay   \n",
       "4  gp:AOqpTOEtxRmPglzeA_iNioUaVR7tU8TkUNeT0R_3LlO...  Emalene Clark   \n",
       "\n",
       "                                           userImage  \\\n",
       "0  https://play-lh.googleusercontent.com/-JaDNmoK...   \n",
       "1  https://play-lh.googleusercontent.com/a-/AOh14...   \n",
       "2  https://play-lh.googleusercontent.com/a-/AOh14...   \n",
       "3  https://play-lh.googleusercontent.com/a-/AOh14...   \n",
       "4  https://play-lh.googleusercontent.com/a-/AOh14...   \n",
       "\n",
       "                                             content  score  thumbsUpCount  \\\n",
       "0  This game is kinda good, besides the fact that...      1             90   \n",
       "1  Embarassed that I even downloaded it. There ar...      1              5   \n",
       "2  Too many ads. The second I even touched the sc...      1            394   \n",
       "3  Its not \"satisfying\" at all it was only satisf...      1             87   \n",
       "4  There's ads in the middle of god damn levels, ...      1              2   \n",
       "\n",
       "  reviewCreatedVersion                  at replyContent repliedAt  \\\n",
       "0                 1.49 2021-03-22 13:16:53         None       NaT   \n",
       "1                 1.49 2021-03-22 12:33:14         None       NaT   \n",
       "2                 1.43 2021-03-20 08:26:23         None       NaT   \n",
       "3                 1.49 2021-03-21 13:54:32         None       NaT   \n",
       "4                 1.49 2021-03-22 16:09:04         None       NaT   \n",
       "\n",
       "       sortOrder                appID  \n",
       "0  most_relevant  com.game.colorslime  \n",
       "1  most_relevant  com.game.colorslime  \n",
       "2  most_relevant  com.game.colorslime  \n",
       "3  most_relevant  com.game.colorslime  \n",
       "4  most_relevant  com.game.colorslime  "
      ]
     },
     "execution_count": 25,
     "metadata": {},
     "output_type": "execute_result"
    }
   ],
   "source": [
    "app_reviews_df.head()"
   ]
  },
  {
   "cell_type": "code",
   "execution_count": 27,
   "metadata": {
    "ExecuteTime": {
     "end_time": "2021-03-25T04:02:44.814208Z",
     "start_time": "2021-03-25T04:02:44.350718Z"
    }
   },
   "outputs": [],
   "source": [
    "app_reviews_df.to_csv('app_reviews.csv', index=None, header=True)"
   ]
  }
 ],
 "metadata": {
  "kernelspec": {
   "display_name": "Python 3",
   "language": "python",
   "name": "python3"
  },
  "language_info": {
   "codemirror_mode": {
    "name": "ipython",
    "version": 3
   },
   "file_extension": ".py",
   "mimetype": "text/x-python",
   "name": "python",
   "nbconvert_exporter": "python",
   "pygments_lexer": "ipython3",
   "version": "3.8.5"
  },
  "toc": {
   "base_numbering": 1,
   "nav_menu": {},
   "number_sections": true,
   "sideBar": true,
   "skip_h1_title": false,
   "title_cell": "Table of Contents",
   "title_sidebar": "Contents",
   "toc_cell": false,
   "toc_position": {},
   "toc_section_display": true,
   "toc_window_display": false
  },
  "varInspector": {
   "cols": {
    "lenName": 16,
    "lenType": 16,
    "lenVar": 40
   },
   "kernels_config": {
    "python": {
     "delete_cmd_postfix": "",
     "delete_cmd_prefix": "del ",
     "library": "var_list.py",
     "varRefreshCmd": "print(var_dic_list())"
    },
    "r": {
     "delete_cmd_postfix": ") ",
     "delete_cmd_prefix": "rm(",
     "library": "var_list.r",
     "varRefreshCmd": "cat(var_dic_list()) "
    }
   },
   "types_to_exclude": [
    "module",
    "function",
    "builtin_function_or_method",
    "instance",
    "_Feature"
   ],
   "window_display": false
  }
 },
 "nbformat": 4,
 "nbformat_minor": 4
}
