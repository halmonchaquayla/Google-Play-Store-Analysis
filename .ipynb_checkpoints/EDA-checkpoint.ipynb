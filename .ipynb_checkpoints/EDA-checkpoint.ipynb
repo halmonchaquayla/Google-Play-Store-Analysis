{
 "cells": [
  {
   "cell_type": "code",
   "execution_count": 1,
   "metadata": {
    "ExecuteTime": {
     "end_time": "2021-04-01T14:31:39.140504Z",
     "start_time": "2021-04-01T14:31:37.034258Z"
    }
   },
   "outputs": [],
   "source": [
    "import pandas as pd\n",
    "import numpy as np\n",
    "import seaborn as sns\n",
    "import plotly.express as px\n",
    "import matplotlib.pyplot as plt\n",
    "%matplotlib inline"
   ]
  },
  {
   "cell_type": "code",
   "execution_count": 2,
   "metadata": {
    "ExecuteTime": {
     "end_time": "2021-04-01T14:31:39.220746Z",
     "start_time": "2021-04-01T14:31:39.191651Z"
    }
   },
   "outputs": [],
   "source": [
    "eda_df = pd.read_csv('data/cleaned_data.csv')"
   ]
  },
  {
   "cell_type": "code",
   "execution_count": 3,
   "metadata": {
    "ExecuteTime": {
     "end_time": "2021-04-01T14:31:39.315944Z",
     "start_time": "2021-04-01T14:31:39.301900Z"
    }
   },
   "outputs": [],
   "source": [
    "eda_df.drop(['Unnamed: 0', 'index', 'Last Updated'], axis=1, inplace=True)"
   ]
  },
  {
   "cell_type": "code",
   "execution_count": 4,
   "metadata": {
    "ExecuteTime": {
     "end_time": "2021-04-01T14:31:39.396210Z",
     "start_time": "2021-04-01T14:31:39.366113Z"
    }
   },
   "outputs": [
    {
     "name": "stdout",
     "output_type": "stream",
     "text": [
      "<class 'pandas.core.frame.DataFrame'>\n",
      "RangeIndex: 8387 entries, 0 to 8386\n",
      "Data columns (total 8 columns):\n",
      " #   Column          Non-Null Count  Dtype  \n",
      "---  ------          --------------  -----  \n",
      " 0   App             8387 non-null   object \n",
      " 1   Category        8387 non-null   object \n",
      " 2   Rating          8387 non-null   float64\n",
      " 3   Reviews         8387 non-null   float64\n",
      " 4   Size            8387 non-null   float64\n",
      " 5   Installs        8387 non-null   int64  \n",
      " 6   Type            8387 non-null   object \n",
      " 7   Content Rating  8387 non-null   object \n",
      "dtypes: float64(3), int64(1), object(4)\n",
      "memory usage: 524.3+ KB\n"
     ]
    }
   ],
   "source": [
    "eda_df.info()"
   ]
  },
  {
   "cell_type": "code",
   "execution_count": null,
   "metadata": {
    "ExecuteTime": {
     "end_time": "2021-04-01T03:21:21.459832Z",
     "start_time": "2021-04-01T03:21:21.166489Z"
    }
   },
   "outputs": [],
   "source": [
    "corr = eda_df.corr()\n",
    "mask = np.zeros_like(corr)\n",
    "mask[np.triu_indices_from(mask)] = True\n",
    "\n",
    "f, ax = plt.subplots(figsize=(15, 20))\n",
    "\n",
    "sns.heatmap(corr, mask=mask, cmap='coolwarm', vmax=1, center=0,\n",
    "            square=True, linewidths=.5,annot=True, cbar_kws={\"shrink\": .5});"
   ]
  },
  {
   "cell_type": "code",
   "execution_count": null,
   "metadata": {
    "ExecuteTime": {
     "end_time": "2021-04-01T03:21:23.779461Z",
     "start_time": "2021-04-01T03:21:21.623175Z"
    }
   },
   "outputs": [],
   "source": [
    "pd.plotting.scatter_matrix(eda_df, alpha=0.1, figsize=(12,12));"
   ]
  },
  {
   "cell_type": "markdown",
   "metadata": {},
   "source": [
    "# Which category is dominating the market based on Installs?"
   ]
  },
  {
   "cell_type": "code",
   "execution_count": null,
   "metadata": {
    "ExecuteTime": {
     "end_time": "2021-04-01T02:28:39.169466Z",
     "start_time": "2021-04-01T02:28:39.134353Z"
    }
   },
   "outputs": [],
   "source": [
    "top_installs_cat = eda_df.groupby(by='Category').sum(\n",
    ").sort_values(by = 'Installs', ascending = False).head(10)\n",
    "top_installs_cat"
   ]
  },
  {
   "cell_type": "markdown",
   "metadata": {},
   "source": [
    "## Does the number of reviews affect the number of installs?"
   ]
  },
  {
   "cell_type": "code",
   "execution_count": null,
   "metadata": {
    "ExecuteTime": {
     "end_time": "2021-04-01T02:28:42.131777Z",
     "start_time": "2021-04-01T02:28:42.110705Z"
    }
   },
   "outputs": [],
   "source": [
    "eda_df['log_installs'] = np.log(eda_df['Installs'])\n",
    "eda_df['log_reviews'] = np.log(eda_df['Reviews'])"
   ]
  },
  {
   "cell_type": "code",
   "execution_count": null,
   "metadata": {
    "ExecuteTime": {
     "end_time": "2021-04-01T02:28:44.688771Z",
     "start_time": "2021-04-01T02:28:43.390623Z"
    }
   },
   "outputs": [],
   "source": [
    "sns.jointplot(x='log_reviews', y='log_installs', data=eda_df,\n",
    "                 kind='reg', truncate=False,\n",
    "                 color='m')"
   ]
  },
  {
   "cell_type": "markdown",
   "metadata": {},
   "source": [
    "**There's a positive correlation between Installs and Reviews.** This shows that customers tend to gravitate towards apps that have higher review counts. This can also mean that the more installs an app has there more likely an user would leave a review. So with the right marketing, you can get more people to download your app and hopefully(depending on how good the app is) make your app more popular."
   ]
  },
  {
   "cell_type": "markdown",
   "metadata": {},
   "source": [
    "## Does the size of an app affect the number of installs?"
   ]
  },
  {
   "cell_type": "markdown",
   "metadata": {},
   "source": [
    "# What is the average rating of Apps?\n",
    "Does Google have more bad or good apps?"
   ]
  },
  {
   "cell_type": "code",
   "execution_count": null,
   "metadata": {
    "ExecuteTime": {
     "end_time": "2021-04-01T03:31:24.308664Z",
     "start_time": "2021-04-01T03:31:23.370235Z"
    },
    "scrolled": false
   },
   "outputs": [],
   "source": [
    "fig = px.histogram(eda_df, x='Rating')\n",
    "print('Average app rating = ', eda_df.Rating.mean())\n",
    "fig.show()"
   ]
  },
  {
   "cell_type": "markdown",
   "metadata": {
    "ExecuteTime": {
     "end_time": "2021-03-30T18:03:56.843230Z",
     "start_time": "2021-03-30T18:03:56.820154Z"
    }
   },
   "source": [
    "**So out of 5, 4.17 is pretty great for the apps of Google Store. You can see that a majority of apps are between 4 and 4.6. Only 3% of the selected apps gets 5 out of 5 stars.**"
   ]
  },
  {
   "cell_type": "markdown",
   "metadata": {},
   "source": [
    "## Does the number of reviews have any affect on ratings?"
   ]
  },
  {
   "cell_type": "code",
   "execution_count": null,
   "metadata": {
    "ExecuteTime": {
     "end_time": "2021-04-01T03:37:34.493049Z",
     "start_time": "2021-04-01T03:37:33.922159Z"
    }
   },
   "outputs": [],
   "source": [
    "plt.figure(figsize=(12,10))\n",
    "sns.regplot(x='Reviews', y='Rating', data=eda_df[eda_df['Reviews'] <= 5000000]);"
   ]
  },
  {
   "cell_type": "markdown",
   "metadata": {},
   "source": [
    "**I filter out reviews over 5,000,000 to get a better look at the relationship, so we're missing about 80 data points. Here you can a slight positive correlation between the two. We can assume that the more reviews an app has the more people are using that particular app. Though we all know that one bad rating can bring a 5 rating to a 4 in an instance.**"
   ]
  },
  {
   "cell_type": "markdown",
   "metadata": {},
   "source": [
    "## Rating By Category"
   ]
  },
  {
   "cell_type": "markdown",
   "metadata": {},
   "source": [
    "Trying to get the average rating of each category"
   ]
  },
  {
   "cell_type": "markdown",
   "metadata": {},
   "source": [
    "# What are the top ten category?"
   ]
  },
  {
   "cell_type": "code",
   "execution_count": null,
   "metadata": {
    "ExecuteTime": {
     "end_time": "2021-03-31T16:46:44.621695Z",
     "start_time": "2021-03-31T16:46:44.085567Z"
    },
    "scrolled": true
   },
   "outputs": [],
   "source": [
    "top_ten_cat = eda_df.Category.value_counts().head(10)\n",
    "plt.figure(figsize=(20,12))\n",
    "sns.barplot(x=top_ten_cat.values, y=top_ten_cat.index)\n",
    "plt.xlabel('Number of Apps')\n",
    "plt.ylabel('Category')\n",
    "plt.title('Top Ten Google Apps In 2018 By Category')\n",
    "plt.show()"
   ]
  },
  {
   "cell_type": "code",
   "execution_count": null,
   "metadata": {
    "ExecuteTime": {
     "end_time": "2021-03-31T22:06:30.596158Z",
     "start_time": "2021-03-31T22:06:30.588132Z"
    }
   },
   "outputs": [],
   "source": [
    "top_ten_cat.index"
   ]
  },
  {
   "cell_type": "code",
   "execution_count": null,
   "metadata": {
    "ExecuteTime": {
     "end_time": "2021-03-31T16:50:12.687738Z",
     "start_time": "2021-03-31T16:50:11.930365Z"
    }
   },
   "outputs": [],
   "source": [
    "f, ax = plt.subplots(figsize=(11, 6))\n",
    "sns.violinplot(data=top_ten_cat, palette=\"Set3\", bw=.2, cut=1, linewidth=1)"
   ]
  },
  {
   "cell_type": "code",
   "execution_count": null,
   "metadata": {},
   "outputs": [],
   "source": []
  }
 ],
 "metadata": {
  "kernelspec": {
   "display_name": "Python 3",
   "language": "python",
   "name": "python3"
  },
  "language_info": {
   "codemirror_mode": {
    "name": "ipython",
    "version": 3
   },
   "file_extension": ".py",
   "mimetype": "text/x-python",
   "name": "python",
   "nbconvert_exporter": "python",
   "pygments_lexer": "ipython3",
   "version": "3.8.5"
  },
  "toc": {
   "base_numbering": 1,
   "nav_menu": {},
   "number_sections": true,
   "sideBar": true,
   "skip_h1_title": false,
   "title_cell": "Table of Contents",
   "title_sidebar": "Contents",
   "toc_cell": false,
   "toc_position": {},
   "toc_section_display": true,
   "toc_window_display": false
  },
  "varInspector": {
   "cols": {
    "lenName": 16,
    "lenType": 16,
    "lenVar": 40
   },
   "kernels_config": {
    "python": {
     "delete_cmd_postfix": "",
     "delete_cmd_prefix": "del ",
     "library": "var_list.py",
     "varRefreshCmd": "print(var_dic_list())"
    },
    "r": {
     "delete_cmd_postfix": ") ",
     "delete_cmd_prefix": "rm(",
     "library": "var_list.r",
     "varRefreshCmd": "cat(var_dic_list()) "
    }
   },
   "types_to_exclude": [
    "module",
    "function",
    "builtin_function_or_method",
    "instance",
    "_Feature"
   ],
   "window_display": false
  }
 },
 "nbformat": 4,
 "nbformat_minor": 4
}
