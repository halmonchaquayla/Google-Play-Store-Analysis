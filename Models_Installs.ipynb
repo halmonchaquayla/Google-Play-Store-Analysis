{
 "cells": [
  {
   "cell_type": "markdown",
   "metadata": {},
   "source": [
    "# Import"
   ]
  },
  {
   "cell_type": "code",
   "execution_count": 1,
   "metadata": {
    "ExecuteTime": {
     "end_time": "2021-04-13T03:29:41.132938Z",
     "start_time": "2021-04-13T03:29:38.874511Z"
    }
   },
   "outputs": [],
   "source": [
    "import pandas as pd\n",
    "import numpy as np\n",
    "import seaborn as sns\n",
    "import matplotlib.pyplot as plt\n",
    "%matplotlib inline\n",
    "\n",
    "import statsmodels.api as sm\n",
    "from statsmodels.formula.api import ols\n",
    "\n",
    "pd.set_option('display.max_columns', 500)"
   ]
  },
  {
   "cell_type": "code",
   "execution_count": 2,
   "metadata": {
    "ExecuteTime": {
     "end_time": "2021-04-13T03:29:41.181097Z",
     "start_time": "2021-04-13T03:29:41.134946Z"
    }
   },
   "outputs": [],
   "source": [
    "df = pd.read_csv('data/cleaned_data.csv')"
   ]
  },
  {
   "cell_type": "code",
   "execution_count": 3,
   "metadata": {
    "ExecuteTime": {
     "end_time": "2021-04-13T03:29:41.212201Z",
     "start_time": "2021-04-13T03:29:41.183105Z"
    }
   },
   "outputs": [
    {
     "name": "stdout",
     "output_type": "stream",
     "text": [
      "<class 'pandas.core.frame.DataFrame'>\n",
      "RangeIndex: 10351 entries, 0 to 10350\n",
      "Data columns (total 11 columns):\n",
      " #   Column          Non-Null Count  Dtype  \n",
      "---  ------          --------------  -----  \n",
      " 0   Unnamed: 0      10351 non-null  int64  \n",
      " 1   App             10351 non-null  object \n",
      " 2   Category        10351 non-null  object \n",
      " 3   Rating          10351 non-null  float64\n",
      " 4   Reviews         10351 non-null  float64\n",
      " 5   Size            10351 non-null  float64\n",
      " 6   Installs        10351 non-null  int64  \n",
      " 7   Content Rating  10351 non-null  object \n",
      " 8   Genres          10351 non-null  object \n",
      " 9   Month           10351 non-null  float64\n",
      " 10  is_free         10351 non-null  int64  \n",
      "dtypes: float64(4), int64(3), object(4)\n",
      "memory usage: 889.7+ KB\n"
     ]
    }
   ],
   "source": [
    "df.info()"
   ]
  },
  {
   "cell_type": "code",
   "execution_count": 4,
   "metadata": {
    "ExecuteTime": {
     "end_time": "2021-04-13T03:29:41.260363Z",
     "start_time": "2021-04-13T03:29:41.214208Z"
    }
   },
   "outputs": [
    {
     "data": {
      "text/html": [
       "<div>\n",
       "<style scoped>\n",
       "    .dataframe tbody tr th:only-of-type {\n",
       "        vertical-align: middle;\n",
       "    }\n",
       "\n",
       "    .dataframe tbody tr th {\n",
       "        vertical-align: top;\n",
       "    }\n",
       "\n",
       "    .dataframe thead th {\n",
       "        text-align: right;\n",
       "    }\n",
       "</style>\n",
       "<table border=\"1\" class=\"dataframe\">\n",
       "  <thead>\n",
       "    <tr style=\"text-align: right;\">\n",
       "      <th></th>\n",
       "      <th>App</th>\n",
       "      <th>Category</th>\n",
       "      <th>Rating</th>\n",
       "      <th>Reviews</th>\n",
       "      <th>Size</th>\n",
       "      <th>Installs</th>\n",
       "      <th>Content Rating</th>\n",
       "      <th>Genres</th>\n",
       "      <th>Month</th>\n",
       "      <th>is_free</th>\n",
       "    </tr>\n",
       "  </thead>\n",
       "  <tbody>\n",
       "    <tr>\n",
       "      <th>0</th>\n",
       "      <td>Photo Editor &amp; Candy Camera &amp; Grid &amp; ScrapBook</td>\n",
       "      <td>ART_AND_DESIGN</td>\n",
       "      <td>4.1</td>\n",
       "      <td>159.0</td>\n",
       "      <td>19.00000</td>\n",
       "      <td>10000</td>\n",
       "      <td>Everyone</td>\n",
       "      <td>Art &amp; Design</td>\n",
       "      <td>1.0</td>\n",
       "      <td>1</td>\n",
       "    </tr>\n",
       "    <tr>\n",
       "      <th>1</th>\n",
       "      <td>Coloring book moana</td>\n",
       "      <td>ART_AND_DESIGN</td>\n",
       "      <td>3.9</td>\n",
       "      <td>967.0</td>\n",
       "      <td>14.00000</td>\n",
       "      <td>500000</td>\n",
       "      <td>Everyone</td>\n",
       "      <td>Art &amp; Design;Pretend Play</td>\n",
       "      <td>1.0</td>\n",
       "      <td>1</td>\n",
       "    </tr>\n",
       "    <tr>\n",
       "      <th>2</th>\n",
       "      <td>U Launcher Lite – FREE Live Cool Themes, Hide ...</td>\n",
       "      <td>ART_AND_DESIGN</td>\n",
       "      <td>4.7</td>\n",
       "      <td>87510.0</td>\n",
       "      <td>8.70000</td>\n",
       "      <td>5000000</td>\n",
       "      <td>Everyone</td>\n",
       "      <td>Art &amp; Design</td>\n",
       "      <td>8.0</td>\n",
       "      <td>1</td>\n",
       "    </tr>\n",
       "    <tr>\n",
       "      <th>3</th>\n",
       "      <td>Sketch - Draw &amp; Paint</td>\n",
       "      <td>ART_AND_DESIGN</td>\n",
       "      <td>4.5</td>\n",
       "      <td>215644.0</td>\n",
       "      <td>25.00000</td>\n",
       "      <td>50000000</td>\n",
       "      <td>Teen</td>\n",
       "      <td>Art &amp; Design</td>\n",
       "      <td>6.0</td>\n",
       "      <td>1</td>\n",
       "    </tr>\n",
       "    <tr>\n",
       "      <th>4</th>\n",
       "      <td>Pixel Draw - Number Art Coloring Book</td>\n",
       "      <td>ART_AND_DESIGN</td>\n",
       "      <td>4.3</td>\n",
       "      <td>967.0</td>\n",
       "      <td>2.80000</td>\n",
       "      <td>100000</td>\n",
       "      <td>Everyone</td>\n",
       "      <td>Art &amp; Design;Creativity</td>\n",
       "      <td>6.0</td>\n",
       "      <td>1</td>\n",
       "    </tr>\n",
       "    <tr>\n",
       "      <th>...</th>\n",
       "      <td>...</td>\n",
       "      <td>...</td>\n",
       "      <td>...</td>\n",
       "      <td>...</td>\n",
       "      <td>...</td>\n",
       "      <td>...</td>\n",
       "      <td>...</td>\n",
       "      <td>...</td>\n",
       "      <td>...</td>\n",
       "      <td>...</td>\n",
       "    </tr>\n",
       "    <tr>\n",
       "      <th>10346</th>\n",
       "      <td>Mathway: Scan Photos, Solve Problems</td>\n",
       "      <td>EDUCATION</td>\n",
       "      <td>4.6</td>\n",
       "      <td>105363.0</td>\n",
       "      <td>31.00000</td>\n",
       "      <td>10000000</td>\n",
       "      <td>Everyone</td>\n",
       "      <td>Education</td>\n",
       "      <td>2.0</td>\n",
       "      <td>1</td>\n",
       "    </tr>\n",
       "    <tr>\n",
       "      <th>10347</th>\n",
       "      <td>Avast Antivirus – Scan &amp; Remove Virus, Cleaner</td>\n",
       "      <td>TOOLS</td>\n",
       "      <td>4.7</td>\n",
       "      <td>165252.0</td>\n",
       "      <td>34.00000</td>\n",
       "      <td>100000000</td>\n",
       "      <td>Everyone</td>\n",
       "      <td>Tools</td>\n",
       "      <td>12.0</td>\n",
       "      <td>1</td>\n",
       "    </tr>\n",
       "    <tr>\n",
       "      <th>10348</th>\n",
       "      <td>Wattpad - Read &amp; Write Stories</td>\n",
       "      <td>BOOKS_AND_REFERENCE</td>\n",
       "      <td>3.9</td>\n",
       "      <td>1406630.0</td>\n",
       "      <td>20.39551</td>\n",
       "      <td>100000000</td>\n",
       "      <td>Teen</td>\n",
       "      <td>Books &amp; Reference</td>\n",
       "      <td>3.0</td>\n",
       "      <td>1</td>\n",
       "    </tr>\n",
       "    <tr>\n",
       "      <th>10349</th>\n",
       "      <td>MotorTrend: Stream Roadkill, Top Gear, and more</td>\n",
       "      <td>ENTERTAINMENT</td>\n",
       "      <td>4.4</td>\n",
       "      <td>7285.0</td>\n",
       "      <td>25.00000</td>\n",
       "      <td>1000000</td>\n",
       "      <td>Everyone</td>\n",
       "      <td>Entertainment</td>\n",
       "      <td>5.0</td>\n",
       "      <td>1</td>\n",
       "    </tr>\n",
       "    <tr>\n",
       "      <th>10350</th>\n",
       "      <td>FitOn - Free Fitness Workouts &amp; Personalized P...</td>\n",
       "      <td>HEALTH_AND_FITNESS</td>\n",
       "      <td>4.7</td>\n",
       "      <td>7648.0</td>\n",
       "      <td>42.00000</td>\n",
       "      <td>1000000</td>\n",
       "      <td>Everyone</td>\n",
       "      <td>Health &amp; Fitness</td>\n",
       "      <td>12.0</td>\n",
       "      <td>1</td>\n",
       "    </tr>\n",
       "  </tbody>\n",
       "</table>\n",
       "<p>10351 rows × 10 columns</p>\n",
       "</div>"
      ],
      "text/plain": [
       "                                                     App             Category  \\\n",
       "0         Photo Editor & Candy Camera & Grid & ScrapBook       ART_AND_DESIGN   \n",
       "1                                    Coloring book moana       ART_AND_DESIGN   \n",
       "2      U Launcher Lite – FREE Live Cool Themes, Hide ...       ART_AND_DESIGN   \n",
       "3                                  Sketch - Draw & Paint       ART_AND_DESIGN   \n",
       "4                  Pixel Draw - Number Art Coloring Book       ART_AND_DESIGN   \n",
       "...                                                  ...                  ...   \n",
       "10346               Mathway: Scan Photos, Solve Problems            EDUCATION   \n",
       "10347     Avast Antivirus – Scan & Remove Virus, Cleaner                TOOLS   \n",
       "10348                     Wattpad - Read & Write Stories  BOOKS_AND_REFERENCE   \n",
       "10349    MotorTrend: Stream Roadkill, Top Gear, and more        ENTERTAINMENT   \n",
       "10350  FitOn - Free Fitness Workouts & Personalized P...   HEALTH_AND_FITNESS   \n",
       "\n",
       "       Rating    Reviews      Size   Installs Content Rating  \\\n",
       "0         4.1      159.0  19.00000      10000       Everyone   \n",
       "1         3.9      967.0  14.00000     500000       Everyone   \n",
       "2         4.7    87510.0   8.70000    5000000       Everyone   \n",
       "3         4.5   215644.0  25.00000   50000000           Teen   \n",
       "4         4.3      967.0   2.80000     100000       Everyone   \n",
       "...       ...        ...       ...        ...            ...   \n",
       "10346     4.6   105363.0  31.00000   10000000       Everyone   \n",
       "10347     4.7   165252.0  34.00000  100000000       Everyone   \n",
       "10348     3.9  1406630.0  20.39551  100000000           Teen   \n",
       "10349     4.4     7285.0  25.00000    1000000       Everyone   \n",
       "10350     4.7     7648.0  42.00000    1000000       Everyone   \n",
       "\n",
       "                          Genres  Month  is_free  \n",
       "0                   Art & Design    1.0        1  \n",
       "1      Art & Design;Pretend Play    1.0        1  \n",
       "2                   Art & Design    8.0        1  \n",
       "3                   Art & Design    6.0        1  \n",
       "4        Art & Design;Creativity    6.0        1  \n",
       "...                          ...    ...      ...  \n",
       "10346                  Education    2.0        1  \n",
       "10347                      Tools   12.0        1  \n",
       "10348          Books & Reference    3.0        1  \n",
       "10349              Entertainment    5.0        1  \n",
       "10350           Health & Fitness   12.0        1  \n",
       "\n",
       "[10351 rows x 10 columns]"
      ]
     },
     "execution_count": 4,
     "metadata": {},
     "output_type": "execute_result"
    }
   ],
   "source": [
    "df.drop(['Unnamed: 0'], axis=1, inplace=True)\n",
    "df.reset_index(drop=True)"
   ]
  },
  {
   "cell_type": "code",
   "execution_count": 5,
   "metadata": {
    "ExecuteTime": {
     "end_time": "2021-04-13T03:29:41.308521Z",
     "start_time": "2021-04-13T03:29:41.262369Z"
    }
   },
   "outputs": [],
   "source": [
    "# fig, axes = plt.subplots(nrows=5, ncols=2, figsize=(16,15), sharey=True)\n",
    "\n",
    "# for ax, column in zip(axes.flatten(), df.columns):\n",
    "#     ax.scatter(df[column], df['Rating'] / 1_000_000, label=column, alpha=.1)\n",
    "#     ax.set_title(f'Rating vs {column}')\n",
    "#     ax.set_xlabel(column)\n",
    "#     ax.set_ylabel('Rating in $1,000,000')\n",
    "\n",
    "# fig.tight_layout()"
   ]
  },
  {
   "cell_type": "markdown",
   "metadata": {},
   "source": [
    "Clearly, the data needs a lot of preprocessing to improve the results. Here you can see the relationship between 'Rating' and the independent variables. We can see what variables are continuous(Reviews, Size, and Installs) and categorical(Category, Content Rating, and Month)."
   ]
  },
  {
   "cell_type": "code",
   "execution_count": 6,
   "metadata": {
    "ExecuteTime": {
     "end_time": "2021-04-13T03:29:41.340625Z",
     "start_time": "2021-04-13T03:29:41.310527Z"
    }
   },
   "outputs": [],
   "source": [
    "df['Month'] = df['Month'].astype('object')"
   ]
  },
  {
   "cell_type": "code",
   "execution_count": 7,
   "metadata": {
    "ExecuteTime": {
     "end_time": "2021-04-13T03:29:41.371729Z",
     "start_time": "2021-04-13T03:29:41.342634Z"
    }
   },
   "outputs": [
    {
     "name": "stdout",
     "output_type": "stream",
     "text": [
      "<class 'pandas.core.frame.DataFrame'>\n",
      "RangeIndex: 10351 entries, 0 to 10350\n",
      "Data columns (total 10 columns):\n",
      " #   Column          Non-Null Count  Dtype  \n",
      "---  ------          --------------  -----  \n",
      " 0   App             10351 non-null  object \n",
      " 1   Category        10351 non-null  object \n",
      " 2   Rating          10351 non-null  float64\n",
      " 3   Reviews         10351 non-null  float64\n",
      " 4   Size            10351 non-null  float64\n",
      " 5   Installs        10351 non-null  int64  \n",
      " 6   Content Rating  10351 non-null  object \n",
      " 7   Genres          10351 non-null  object \n",
      " 8   Month           10351 non-null  object \n",
      " 9   is_free         10351 non-null  int64  \n",
      "dtypes: float64(3), int64(2), object(5)\n",
      "memory usage: 808.8+ KB\n"
     ]
    }
   ],
   "source": [
    "df.info()"
   ]
  },
  {
   "cell_type": "code",
   "execution_count": 8,
   "metadata": {
    "ExecuteTime": {
     "end_time": "2021-04-13T03:29:42.054489Z",
     "start_time": "2021-04-13T03:29:41.376745Z"
    }
   },
   "outputs": [],
   "source": [
    "from sklearn import preprocessing\n",
    "le = preprocessing.LabelEncoder()\n",
    "df['Content Rating'] = le.fit_transform(df['Content Rating'])\n",
    "\n",
    "le = preprocessing.LabelEncoder()\n",
    "df['Genres'] = le.fit_transform(df['Genres'])\n",
    "\n",
    "le = preprocessing.LabelEncoder()\n",
    "df['App'] = le.fit_transform(df['App'])\n",
    "\n",
    "df = pd.concat([df, pd.get_dummies(df[['Category', 'Month']], prefix=('cat', 'Month'), drop_first=True)], axis=1)\n",
    "# df = df.drop(columns=['cat_0'], axis=1)"
   ]
  },
  {
   "cell_type": "code",
   "execution_count": 9,
   "metadata": {
    "ExecuteTime": {
     "end_time": "2021-04-13T03:29:42.070539Z",
     "start_time": "2021-04-13T03:29:42.057496Z"
    }
   },
   "outputs": [],
   "source": [
    "df.drop(columns=['Category', 'Month'], axis = 1, inplace=True)"
   ]
  },
  {
   "cell_type": "code",
   "execution_count": 10,
   "metadata": {
    "ExecuteTime": {
     "end_time": "2021-04-13T03:29:42.102645Z",
     "start_time": "2021-04-13T03:29:42.072547Z"
    }
   },
   "outputs": [],
   "source": [
    "df.columns = df.columns.str.replace(' ', '_').str.replace('+','').str.replace('.0','')"
   ]
  },
  {
   "cell_type": "markdown",
   "metadata": {},
   "source": [
    "# Linear Regression Model"
   ]
  },
  {
   "cell_type": "code",
   "execution_count": 11,
   "metadata": {
    "ExecuteTime": {
     "end_time": "2021-04-13T03:29:42.150195Z",
     "start_time": "2021-04-13T03:29:42.105657Z"
    }
   },
   "outputs": [],
   "source": [
    "model_df = df.copy()"
   ]
  },
  {
   "cell_type": "code",
   "execution_count": 12,
   "metadata": {
    "ExecuteTime": {
     "end_time": "2021-04-13T03:29:42.246516Z",
     "start_time": "2021-04-13T03:29:42.152205Z"
    }
   },
   "outputs": [
    {
     "data": {
      "text/html": [
       "<div>\n",
       "<style scoped>\n",
       "    .dataframe tbody tr th:only-of-type {\n",
       "        vertical-align: middle;\n",
       "    }\n",
       "\n",
       "    .dataframe tbody tr th {\n",
       "        vertical-align: top;\n",
       "    }\n",
       "\n",
       "    .dataframe thead th {\n",
       "        text-align: right;\n",
       "    }\n",
       "</style>\n",
       "<table border=\"1\" class=\"dataframe\">\n",
       "  <thead>\n",
       "    <tr style=\"text-align: right;\">\n",
       "      <th></th>\n",
       "      <th>App</th>\n",
       "      <th>Rating</th>\n",
       "      <th>Reviews</th>\n",
       "      <th>Size</th>\n",
       "      <th>Installs</th>\n",
       "      <th>Content_Rating</th>\n",
       "      <th>Genres</th>\n",
       "      <th>is_free</th>\n",
       "      <th>cat_AUTO_AND_VEHICLES</th>\n",
       "      <th>cat_BEAUTY</th>\n",
       "      <th>cat_BOOKS_AND_REFERENCE</th>\n",
       "      <th>cat_BUSINESS</th>\n",
       "      <th>cat_COMICS</th>\n",
       "      <th>cat_COMMUNICATION</th>\n",
       "      <th>cat_DATING</th>\n",
       "      <th>cat_EDUCATION</th>\n",
       "      <th>cat_ENTERTAINMENT</th>\n",
       "      <th>cat_EVENTS</th>\n",
       "      <th>cat_FAMILY</th>\n",
       "      <th>cat_FINANCE</th>\n",
       "      <th>cat_FOOD_AND_DRINK</th>\n",
       "      <th>cat_GAME</th>\n",
       "      <th>cat_GAME_ACTION</th>\n",
       "      <th>cat_GAME_ADVENTURE</th>\n",
       "      <th>cat_GAME_ARCADE</th>\n",
       "      <th>cat_GAME_BOARD</th>\n",
       "      <th>cat_GAME_CARD</th>\n",
       "      <th>cat_GAME_CASINO</th>\n",
       "      <th>cat_GAME_CASUAL</th>\n",
       "      <th>cat_GAME_EDUCATIONAL</th>\n",
       "      <th>cat_GAME_MUSIC</th>\n",
       "      <th>cat_GAME_PUZZLE</th>\n",
       "      <th>cat_GAME_RACING</th>\n",
       "      <th>cat_GAME_ROLE_PLAYING</th>\n",
       "      <th>cat_GAME_SIMULATION</th>\n",
       "      <th>cat_GAME_SPORTS</th>\n",
       "      <th>cat_GAME_STRATEGY</th>\n",
       "      <th>cat_GAME_TRIVIA</th>\n",
       "      <th>cat_GAME_WORD</th>\n",
       "      <th>cat_HEALTH_AND_FITNESS</th>\n",
       "      <th>cat_HOUSE_AND_HOME</th>\n",
       "      <th>cat_LIBRARIES_AND_DEMO</th>\n",
       "      <th>cat_LIFESTYLE</th>\n",
       "      <th>cat_MAPS_AND_NAVIGATION</th>\n",
       "      <th>cat_MEDICAL</th>\n",
       "      <th>cat_MUSIC_AND_AUDIO</th>\n",
       "      <th>cat_NEWS_AND_MAGAZINES</th>\n",
       "      <th>cat_PARENTING</th>\n",
       "      <th>cat_PERSONALIZATION</th>\n",
       "      <th>cat_PHOTOGRAPHY</th>\n",
       "      <th>cat_PRODUCTIVITY</th>\n",
       "      <th>cat_SHOPPING</th>\n",
       "      <th>cat_SOCIAL</th>\n",
       "      <th>cat_SPORTS</th>\n",
       "      <th>cat_TOOLS</th>\n",
       "      <th>cat_TRAVEL_AND_LOCAL</th>\n",
       "      <th>cat_VIDEO_PLAYERS</th>\n",
       "      <th>cat_WEATHER</th>\n",
       "      <th>Month_2</th>\n",
       "      <th>Month_3</th>\n",
       "      <th>Month_4</th>\n",
       "      <th>Month_5</th>\n",
       "      <th>Month_6</th>\n",
       "      <th>Month_7</th>\n",
       "      <th>Month_8</th>\n",
       "      <th>Month_9</th>\n",
       "      <th>Month_</th>\n",
       "      <th>Month_11</th>\n",
       "      <th>Month_12</th>\n",
       "    </tr>\n",
       "  </thead>\n",
       "  <tbody>\n",
       "    <tr>\n",
       "      <th>0</th>\n",
       "      <td>7397</td>\n",
       "      <td>4.1</td>\n",
       "      <td>159.0</td>\n",
       "      <td>19.00000</td>\n",
       "      <td>10000</td>\n",
       "      <td>1</td>\n",
       "      <td>9</td>\n",
       "      <td>1</td>\n",
       "      <td>0</td>\n",
       "      <td>0</td>\n",
       "      <td>0</td>\n",
       "      <td>0</td>\n",
       "      <td>0</td>\n",
       "      <td>0</td>\n",
       "      <td>0</td>\n",
       "      <td>0</td>\n",
       "      <td>0</td>\n",
       "      <td>0</td>\n",
       "      <td>0</td>\n",
       "      <td>0</td>\n",
       "      <td>0</td>\n",
       "      <td>0</td>\n",
       "      <td>0</td>\n",
       "      <td>0</td>\n",
       "      <td>0</td>\n",
       "      <td>0</td>\n",
       "      <td>0</td>\n",
       "      <td>0</td>\n",
       "      <td>0</td>\n",
       "      <td>0</td>\n",
       "      <td>0</td>\n",
       "      <td>0</td>\n",
       "      <td>0</td>\n",
       "      <td>0</td>\n",
       "      <td>0</td>\n",
       "      <td>0</td>\n",
       "      <td>0</td>\n",
       "      <td>0</td>\n",
       "      <td>0</td>\n",
       "      <td>0</td>\n",
       "      <td>0</td>\n",
       "      <td>0</td>\n",
       "      <td>0</td>\n",
       "      <td>0</td>\n",
       "      <td>0</td>\n",
       "      <td>0</td>\n",
       "      <td>0</td>\n",
       "      <td>0</td>\n",
       "      <td>0</td>\n",
       "      <td>0</td>\n",
       "      <td>0</td>\n",
       "      <td>0</td>\n",
       "      <td>0</td>\n",
       "      <td>0</td>\n",
       "      <td>0</td>\n",
       "      <td>0</td>\n",
       "      <td>0</td>\n",
       "      <td>0</td>\n",
       "      <td>0</td>\n",
       "      <td>0</td>\n",
       "      <td>0</td>\n",
       "      <td>0</td>\n",
       "      <td>0</td>\n",
       "      <td>0</td>\n",
       "      <td>0</td>\n",
       "      <td>0</td>\n",
       "      <td>0</td>\n",
       "      <td>0</td>\n",
       "      <td>0</td>\n",
       "    </tr>\n",
       "    <tr>\n",
       "      <th>1</th>\n",
       "      <td>2737</td>\n",
       "      <td>3.9</td>\n",
       "      <td>967.0</td>\n",
       "      <td>14.00000</td>\n",
       "      <td>500000</td>\n",
       "      <td>1</td>\n",
       "      <td>12</td>\n",
       "      <td>1</td>\n",
       "      <td>0</td>\n",
       "      <td>0</td>\n",
       "      <td>0</td>\n",
       "      <td>0</td>\n",
       "      <td>0</td>\n",
       "      <td>0</td>\n",
       "      <td>0</td>\n",
       "      <td>0</td>\n",
       "      <td>0</td>\n",
       "      <td>0</td>\n",
       "      <td>0</td>\n",
       "      <td>0</td>\n",
       "      <td>0</td>\n",
       "      <td>0</td>\n",
       "      <td>0</td>\n",
       "      <td>0</td>\n",
       "      <td>0</td>\n",
       "      <td>0</td>\n",
       "      <td>0</td>\n",
       "      <td>0</td>\n",
       "      <td>0</td>\n",
       "      <td>0</td>\n",
       "      <td>0</td>\n",
       "      <td>0</td>\n",
       "      <td>0</td>\n",
       "      <td>0</td>\n",
       "      <td>0</td>\n",
       "      <td>0</td>\n",
       "      <td>0</td>\n",
       "      <td>0</td>\n",
       "      <td>0</td>\n",
       "      <td>0</td>\n",
       "      <td>0</td>\n",
       "      <td>0</td>\n",
       "      <td>0</td>\n",
       "      <td>0</td>\n",
       "      <td>0</td>\n",
       "      <td>0</td>\n",
       "      <td>0</td>\n",
       "      <td>0</td>\n",
       "      <td>0</td>\n",
       "      <td>0</td>\n",
       "      <td>0</td>\n",
       "      <td>0</td>\n",
       "      <td>0</td>\n",
       "      <td>0</td>\n",
       "      <td>0</td>\n",
       "      <td>0</td>\n",
       "      <td>0</td>\n",
       "      <td>0</td>\n",
       "      <td>0</td>\n",
       "      <td>0</td>\n",
       "      <td>0</td>\n",
       "      <td>0</td>\n",
       "      <td>0</td>\n",
       "      <td>0</td>\n",
       "      <td>0</td>\n",
       "      <td>0</td>\n",
       "      <td>0</td>\n",
       "      <td>0</td>\n",
       "      <td>0</td>\n",
       "    </tr>\n",
       "    <tr>\n",
       "      <th>2</th>\n",
       "      <td>9270</td>\n",
       "      <td>4.7</td>\n",
       "      <td>87510.0</td>\n",
       "      <td>8.70000</td>\n",
       "      <td>5000000</td>\n",
       "      <td>1</td>\n",
       "      <td>9</td>\n",
       "      <td>1</td>\n",
       "      <td>0</td>\n",
       "      <td>0</td>\n",
       "      <td>0</td>\n",
       "      <td>0</td>\n",
       "      <td>0</td>\n",
       "      <td>0</td>\n",
       "      <td>0</td>\n",
       "      <td>0</td>\n",
       "      <td>0</td>\n",
       "      <td>0</td>\n",
       "      <td>0</td>\n",
       "      <td>0</td>\n",
       "      <td>0</td>\n",
       "      <td>0</td>\n",
       "      <td>0</td>\n",
       "      <td>0</td>\n",
       "      <td>0</td>\n",
       "      <td>0</td>\n",
       "      <td>0</td>\n",
       "      <td>0</td>\n",
       "      <td>0</td>\n",
       "      <td>0</td>\n",
       "      <td>0</td>\n",
       "      <td>0</td>\n",
       "      <td>0</td>\n",
       "      <td>0</td>\n",
       "      <td>0</td>\n",
       "      <td>0</td>\n",
       "      <td>0</td>\n",
       "      <td>0</td>\n",
       "      <td>0</td>\n",
       "      <td>0</td>\n",
       "      <td>0</td>\n",
       "      <td>0</td>\n",
       "      <td>0</td>\n",
       "      <td>0</td>\n",
       "      <td>0</td>\n",
       "      <td>0</td>\n",
       "      <td>0</td>\n",
       "      <td>0</td>\n",
       "      <td>0</td>\n",
       "      <td>0</td>\n",
       "      <td>0</td>\n",
       "      <td>0</td>\n",
       "      <td>0</td>\n",
       "      <td>0</td>\n",
       "      <td>0</td>\n",
       "      <td>0</td>\n",
       "      <td>0</td>\n",
       "      <td>0</td>\n",
       "      <td>0</td>\n",
       "      <td>0</td>\n",
       "      <td>0</td>\n",
       "      <td>0</td>\n",
       "      <td>0</td>\n",
       "      <td>0</td>\n",
       "      <td>1</td>\n",
       "      <td>0</td>\n",
       "      <td>0</td>\n",
       "      <td>0</td>\n",
       "      <td>0</td>\n",
       "    </tr>\n",
       "    <tr>\n",
       "      <th>3</th>\n",
       "      <td>8340</td>\n",
       "      <td>4.5</td>\n",
       "      <td>215644.0</td>\n",
       "      <td>25.00000</td>\n",
       "      <td>50000000</td>\n",
       "      <td>4</td>\n",
       "      <td>9</td>\n",
       "      <td>1</td>\n",
       "      <td>0</td>\n",
       "      <td>0</td>\n",
       "      <td>0</td>\n",
       "      <td>0</td>\n",
       "      <td>0</td>\n",
       "      <td>0</td>\n",
       "      <td>0</td>\n",
       "      <td>0</td>\n",
       "      <td>0</td>\n",
       "      <td>0</td>\n",
       "      <td>0</td>\n",
       "      <td>0</td>\n",
       "      <td>0</td>\n",
       "      <td>0</td>\n",
       "      <td>0</td>\n",
       "      <td>0</td>\n",
       "      <td>0</td>\n",
       "      <td>0</td>\n",
       "      <td>0</td>\n",
       "      <td>0</td>\n",
       "      <td>0</td>\n",
       "      <td>0</td>\n",
       "      <td>0</td>\n",
       "      <td>0</td>\n",
       "      <td>0</td>\n",
       "      <td>0</td>\n",
       "      <td>0</td>\n",
       "      <td>0</td>\n",
       "      <td>0</td>\n",
       "      <td>0</td>\n",
       "      <td>0</td>\n",
       "      <td>0</td>\n",
       "      <td>0</td>\n",
       "      <td>0</td>\n",
       "      <td>0</td>\n",
       "      <td>0</td>\n",
       "      <td>0</td>\n",
       "      <td>0</td>\n",
       "      <td>0</td>\n",
       "      <td>0</td>\n",
       "      <td>0</td>\n",
       "      <td>0</td>\n",
       "      <td>0</td>\n",
       "      <td>0</td>\n",
       "      <td>0</td>\n",
       "      <td>0</td>\n",
       "      <td>0</td>\n",
       "      <td>0</td>\n",
       "      <td>0</td>\n",
       "      <td>0</td>\n",
       "      <td>0</td>\n",
       "      <td>0</td>\n",
       "      <td>0</td>\n",
       "      <td>0</td>\n",
       "      <td>1</td>\n",
       "      <td>0</td>\n",
       "      <td>0</td>\n",
       "      <td>0</td>\n",
       "      <td>0</td>\n",
       "      <td>0</td>\n",
       "      <td>0</td>\n",
       "    </tr>\n",
       "    <tr>\n",
       "      <th>4</th>\n",
       "      <td>7464</td>\n",
       "      <td>4.3</td>\n",
       "      <td>967.0</td>\n",
       "      <td>2.80000</td>\n",
       "      <td>100000</td>\n",
       "      <td>1</td>\n",
       "      <td>11</td>\n",
       "      <td>1</td>\n",
       "      <td>0</td>\n",
       "      <td>0</td>\n",
       "      <td>0</td>\n",
       "      <td>0</td>\n",
       "      <td>0</td>\n",
       "      <td>0</td>\n",
       "      <td>0</td>\n",
       "      <td>0</td>\n",
       "      <td>0</td>\n",
       "      <td>0</td>\n",
       "      <td>0</td>\n",
       "      <td>0</td>\n",
       "      <td>0</td>\n",
       "      <td>0</td>\n",
       "      <td>0</td>\n",
       "      <td>0</td>\n",
       "      <td>0</td>\n",
       "      <td>0</td>\n",
       "      <td>0</td>\n",
       "      <td>0</td>\n",
       "      <td>0</td>\n",
       "      <td>0</td>\n",
       "      <td>0</td>\n",
       "      <td>0</td>\n",
       "      <td>0</td>\n",
       "      <td>0</td>\n",
       "      <td>0</td>\n",
       "      <td>0</td>\n",
       "      <td>0</td>\n",
       "      <td>0</td>\n",
       "      <td>0</td>\n",
       "      <td>0</td>\n",
       "      <td>0</td>\n",
       "      <td>0</td>\n",
       "      <td>0</td>\n",
       "      <td>0</td>\n",
       "      <td>0</td>\n",
       "      <td>0</td>\n",
       "      <td>0</td>\n",
       "      <td>0</td>\n",
       "      <td>0</td>\n",
       "      <td>0</td>\n",
       "      <td>0</td>\n",
       "      <td>0</td>\n",
       "      <td>0</td>\n",
       "      <td>0</td>\n",
       "      <td>0</td>\n",
       "      <td>0</td>\n",
       "      <td>0</td>\n",
       "      <td>0</td>\n",
       "      <td>0</td>\n",
       "      <td>0</td>\n",
       "      <td>0</td>\n",
       "      <td>0</td>\n",
       "      <td>1</td>\n",
       "      <td>0</td>\n",
       "      <td>0</td>\n",
       "      <td>0</td>\n",
       "      <td>0</td>\n",
       "      <td>0</td>\n",
       "      <td>0</td>\n",
       "    </tr>\n",
       "    <tr>\n",
       "      <th>...</th>\n",
       "      <td>...</td>\n",
       "      <td>...</td>\n",
       "      <td>...</td>\n",
       "      <td>...</td>\n",
       "      <td>...</td>\n",
       "      <td>...</td>\n",
       "      <td>...</td>\n",
       "      <td>...</td>\n",
       "      <td>...</td>\n",
       "      <td>...</td>\n",
       "      <td>...</td>\n",
       "      <td>...</td>\n",
       "      <td>...</td>\n",
       "      <td>...</td>\n",
       "      <td>...</td>\n",
       "      <td>...</td>\n",
       "      <td>...</td>\n",
       "      <td>...</td>\n",
       "      <td>...</td>\n",
       "      <td>...</td>\n",
       "      <td>...</td>\n",
       "      <td>...</td>\n",
       "      <td>...</td>\n",
       "      <td>...</td>\n",
       "      <td>...</td>\n",
       "      <td>...</td>\n",
       "      <td>...</td>\n",
       "      <td>...</td>\n",
       "      <td>...</td>\n",
       "      <td>...</td>\n",
       "      <td>...</td>\n",
       "      <td>...</td>\n",
       "      <td>...</td>\n",
       "      <td>...</td>\n",
       "      <td>...</td>\n",
       "      <td>...</td>\n",
       "      <td>...</td>\n",
       "      <td>...</td>\n",
       "      <td>...</td>\n",
       "      <td>...</td>\n",
       "      <td>...</td>\n",
       "      <td>...</td>\n",
       "      <td>...</td>\n",
       "      <td>...</td>\n",
       "      <td>...</td>\n",
       "      <td>...</td>\n",
       "      <td>...</td>\n",
       "      <td>...</td>\n",
       "      <td>...</td>\n",
       "      <td>...</td>\n",
       "      <td>...</td>\n",
       "      <td>...</td>\n",
       "      <td>...</td>\n",
       "      <td>...</td>\n",
       "      <td>...</td>\n",
       "      <td>...</td>\n",
       "      <td>...</td>\n",
       "      <td>...</td>\n",
       "      <td>...</td>\n",
       "      <td>...</td>\n",
       "      <td>...</td>\n",
       "      <td>...</td>\n",
       "      <td>...</td>\n",
       "      <td>...</td>\n",
       "      <td>...</td>\n",
       "      <td>...</td>\n",
       "      <td>...</td>\n",
       "      <td>...</td>\n",
       "      <td>...</td>\n",
       "    </tr>\n",
       "    <tr>\n",
       "      <th>10346</th>\n",
       "      <td>6426</td>\n",
       "      <td>4.6</td>\n",
       "      <td>105363.0</td>\n",
       "      <td>31.00000</td>\n",
       "      <td>10000000</td>\n",
       "      <td>1</td>\n",
       "      <td>38</td>\n",
       "      <td>1</td>\n",
       "      <td>0</td>\n",
       "      <td>0</td>\n",
       "      <td>0</td>\n",
       "      <td>0</td>\n",
       "      <td>0</td>\n",
       "      <td>0</td>\n",
       "      <td>0</td>\n",
       "      <td>1</td>\n",
       "      <td>0</td>\n",
       "      <td>0</td>\n",
       "      <td>0</td>\n",
       "      <td>0</td>\n",
       "      <td>0</td>\n",
       "      <td>0</td>\n",
       "      <td>0</td>\n",
       "      <td>0</td>\n",
       "      <td>0</td>\n",
       "      <td>0</td>\n",
       "      <td>0</td>\n",
       "      <td>0</td>\n",
       "      <td>0</td>\n",
       "      <td>0</td>\n",
       "      <td>0</td>\n",
       "      <td>0</td>\n",
       "      <td>0</td>\n",
       "      <td>0</td>\n",
       "      <td>0</td>\n",
       "      <td>0</td>\n",
       "      <td>0</td>\n",
       "      <td>0</td>\n",
       "      <td>0</td>\n",
       "      <td>0</td>\n",
       "      <td>0</td>\n",
       "      <td>0</td>\n",
       "      <td>0</td>\n",
       "      <td>0</td>\n",
       "      <td>0</td>\n",
       "      <td>0</td>\n",
       "      <td>0</td>\n",
       "      <td>0</td>\n",
       "      <td>0</td>\n",
       "      <td>0</td>\n",
       "      <td>0</td>\n",
       "      <td>0</td>\n",
       "      <td>0</td>\n",
       "      <td>0</td>\n",
       "      <td>0</td>\n",
       "      <td>0</td>\n",
       "      <td>0</td>\n",
       "      <td>0</td>\n",
       "      <td>1</td>\n",
       "      <td>0</td>\n",
       "      <td>0</td>\n",
       "      <td>0</td>\n",
       "      <td>0</td>\n",
       "      <td>0</td>\n",
       "      <td>0</td>\n",
       "      <td>0</td>\n",
       "      <td>0</td>\n",
       "      <td>0</td>\n",
       "      <td>0</td>\n",
       "    </tr>\n",
       "    <tr>\n",
       "      <th>10347</th>\n",
       "      <td>907</td>\n",
       "      <td>4.7</td>\n",
       "      <td>165252.0</td>\n",
       "      <td>34.00000</td>\n",
       "      <td>100000000</td>\n",
       "      <td>1</td>\n",
       "      <td>109</td>\n",
       "      <td>1</td>\n",
       "      <td>0</td>\n",
       "      <td>0</td>\n",
       "      <td>0</td>\n",
       "      <td>0</td>\n",
       "      <td>0</td>\n",
       "      <td>0</td>\n",
       "      <td>0</td>\n",
       "      <td>0</td>\n",
       "      <td>0</td>\n",
       "      <td>0</td>\n",
       "      <td>0</td>\n",
       "      <td>0</td>\n",
       "      <td>0</td>\n",
       "      <td>0</td>\n",
       "      <td>0</td>\n",
       "      <td>0</td>\n",
       "      <td>0</td>\n",
       "      <td>0</td>\n",
       "      <td>0</td>\n",
       "      <td>0</td>\n",
       "      <td>0</td>\n",
       "      <td>0</td>\n",
       "      <td>0</td>\n",
       "      <td>0</td>\n",
       "      <td>0</td>\n",
       "      <td>0</td>\n",
       "      <td>0</td>\n",
       "      <td>0</td>\n",
       "      <td>0</td>\n",
       "      <td>0</td>\n",
       "      <td>0</td>\n",
       "      <td>0</td>\n",
       "      <td>0</td>\n",
       "      <td>0</td>\n",
       "      <td>0</td>\n",
       "      <td>0</td>\n",
       "      <td>0</td>\n",
       "      <td>0</td>\n",
       "      <td>0</td>\n",
       "      <td>0</td>\n",
       "      <td>0</td>\n",
       "      <td>0</td>\n",
       "      <td>0</td>\n",
       "      <td>0</td>\n",
       "      <td>0</td>\n",
       "      <td>0</td>\n",
       "      <td>1</td>\n",
       "      <td>0</td>\n",
       "      <td>0</td>\n",
       "      <td>0</td>\n",
       "      <td>0</td>\n",
       "      <td>0</td>\n",
       "      <td>0</td>\n",
       "      <td>0</td>\n",
       "      <td>0</td>\n",
       "      <td>0</td>\n",
       "      <td>0</td>\n",
       "      <td>0</td>\n",
       "      <td>0</td>\n",
       "      <td>0</td>\n",
       "      <td>1</td>\n",
       "    </tr>\n",
       "    <tr>\n",
       "      <th>10348</th>\n",
       "      <td>9623</td>\n",
       "      <td>3.9</td>\n",
       "      <td>1406630.0</td>\n",
       "      <td>20.39551</td>\n",
       "      <td>100000000</td>\n",
       "      <td>4</td>\n",
       "      <td>19</td>\n",
       "      <td>1</td>\n",
       "      <td>0</td>\n",
       "      <td>0</td>\n",
       "      <td>1</td>\n",
       "      <td>0</td>\n",
       "      <td>0</td>\n",
       "      <td>0</td>\n",
       "      <td>0</td>\n",
       "      <td>0</td>\n",
       "      <td>0</td>\n",
       "      <td>0</td>\n",
       "      <td>0</td>\n",
       "      <td>0</td>\n",
       "      <td>0</td>\n",
       "      <td>0</td>\n",
       "      <td>0</td>\n",
       "      <td>0</td>\n",
       "      <td>0</td>\n",
       "      <td>0</td>\n",
       "      <td>0</td>\n",
       "      <td>0</td>\n",
       "      <td>0</td>\n",
       "      <td>0</td>\n",
       "      <td>0</td>\n",
       "      <td>0</td>\n",
       "      <td>0</td>\n",
       "      <td>0</td>\n",
       "      <td>0</td>\n",
       "      <td>0</td>\n",
       "      <td>0</td>\n",
       "      <td>0</td>\n",
       "      <td>0</td>\n",
       "      <td>0</td>\n",
       "      <td>0</td>\n",
       "      <td>0</td>\n",
       "      <td>0</td>\n",
       "      <td>0</td>\n",
       "      <td>0</td>\n",
       "      <td>0</td>\n",
       "      <td>0</td>\n",
       "      <td>0</td>\n",
       "      <td>0</td>\n",
       "      <td>0</td>\n",
       "      <td>0</td>\n",
       "      <td>0</td>\n",
       "      <td>0</td>\n",
       "      <td>0</td>\n",
       "      <td>0</td>\n",
       "      <td>0</td>\n",
       "      <td>0</td>\n",
       "      <td>0</td>\n",
       "      <td>0</td>\n",
       "      <td>1</td>\n",
       "      <td>0</td>\n",
       "      <td>0</td>\n",
       "      <td>0</td>\n",
       "      <td>0</td>\n",
       "      <td>0</td>\n",
       "      <td>0</td>\n",
       "      <td>0</td>\n",
       "      <td>0</td>\n",
       "      <td>0</td>\n",
       "    </tr>\n",
       "    <tr>\n",
       "      <th>10349</th>\n",
       "      <td>6685</td>\n",
       "      <td>4.4</td>\n",
       "      <td>7285.0</td>\n",
       "      <td>25.00000</td>\n",
       "      <td>1000000</td>\n",
       "      <td>1</td>\n",
       "      <td>51</td>\n",
       "      <td>1</td>\n",
       "      <td>0</td>\n",
       "      <td>0</td>\n",
       "      <td>0</td>\n",
       "      <td>0</td>\n",
       "      <td>0</td>\n",
       "      <td>0</td>\n",
       "      <td>0</td>\n",
       "      <td>0</td>\n",
       "      <td>1</td>\n",
       "      <td>0</td>\n",
       "      <td>0</td>\n",
       "      <td>0</td>\n",
       "      <td>0</td>\n",
       "      <td>0</td>\n",
       "      <td>0</td>\n",
       "      <td>0</td>\n",
       "      <td>0</td>\n",
       "      <td>0</td>\n",
       "      <td>0</td>\n",
       "      <td>0</td>\n",
       "      <td>0</td>\n",
       "      <td>0</td>\n",
       "      <td>0</td>\n",
       "      <td>0</td>\n",
       "      <td>0</td>\n",
       "      <td>0</td>\n",
       "      <td>0</td>\n",
       "      <td>0</td>\n",
       "      <td>0</td>\n",
       "      <td>0</td>\n",
       "      <td>0</td>\n",
       "      <td>0</td>\n",
       "      <td>0</td>\n",
       "      <td>0</td>\n",
       "      <td>0</td>\n",
       "      <td>0</td>\n",
       "      <td>0</td>\n",
       "      <td>0</td>\n",
       "      <td>0</td>\n",
       "      <td>0</td>\n",
       "      <td>0</td>\n",
       "      <td>0</td>\n",
       "      <td>0</td>\n",
       "      <td>0</td>\n",
       "      <td>0</td>\n",
       "      <td>0</td>\n",
       "      <td>0</td>\n",
       "      <td>0</td>\n",
       "      <td>0</td>\n",
       "      <td>0</td>\n",
       "      <td>0</td>\n",
       "      <td>0</td>\n",
       "      <td>0</td>\n",
       "      <td>1</td>\n",
       "      <td>0</td>\n",
       "      <td>0</td>\n",
       "      <td>0</td>\n",
       "      <td>0</td>\n",
       "      <td>0</td>\n",
       "      <td>0</td>\n",
       "      <td>0</td>\n",
       "    </tr>\n",
       "    <tr>\n",
       "      <th>10350</th>\n",
       "      <td>4662</td>\n",
       "      <td>4.7</td>\n",
       "      <td>7648.0</td>\n",
       "      <td>42.00000</td>\n",
       "      <td>1000000</td>\n",
       "      <td>1</td>\n",
       "      <td>62</td>\n",
       "      <td>1</td>\n",
       "      <td>0</td>\n",
       "      <td>0</td>\n",
       "      <td>0</td>\n",
       "      <td>0</td>\n",
       "      <td>0</td>\n",
       "      <td>0</td>\n",
       "      <td>0</td>\n",
       "      <td>0</td>\n",
       "      <td>0</td>\n",
       "      <td>0</td>\n",
       "      <td>0</td>\n",
       "      <td>0</td>\n",
       "      <td>0</td>\n",
       "      <td>0</td>\n",
       "      <td>0</td>\n",
       "      <td>0</td>\n",
       "      <td>0</td>\n",
       "      <td>0</td>\n",
       "      <td>0</td>\n",
       "      <td>0</td>\n",
       "      <td>0</td>\n",
       "      <td>0</td>\n",
       "      <td>0</td>\n",
       "      <td>0</td>\n",
       "      <td>0</td>\n",
       "      <td>0</td>\n",
       "      <td>0</td>\n",
       "      <td>0</td>\n",
       "      <td>0</td>\n",
       "      <td>0</td>\n",
       "      <td>0</td>\n",
       "      <td>1</td>\n",
       "      <td>0</td>\n",
       "      <td>0</td>\n",
       "      <td>0</td>\n",
       "      <td>0</td>\n",
       "      <td>0</td>\n",
       "      <td>0</td>\n",
       "      <td>0</td>\n",
       "      <td>0</td>\n",
       "      <td>0</td>\n",
       "      <td>0</td>\n",
       "      <td>0</td>\n",
       "      <td>0</td>\n",
       "      <td>0</td>\n",
       "      <td>0</td>\n",
       "      <td>0</td>\n",
       "      <td>0</td>\n",
       "      <td>0</td>\n",
       "      <td>0</td>\n",
       "      <td>0</td>\n",
       "      <td>0</td>\n",
       "      <td>0</td>\n",
       "      <td>0</td>\n",
       "      <td>0</td>\n",
       "      <td>0</td>\n",
       "      <td>0</td>\n",
       "      <td>0</td>\n",
       "      <td>0</td>\n",
       "      <td>0</td>\n",
       "      <td>1</td>\n",
       "    </tr>\n",
       "  </tbody>\n",
       "</table>\n",
       "<p>10351 rows × 69 columns</p>\n",
       "</div>"
      ],
      "text/plain": [
       "        App  Rating    Reviews      Size   Installs  Content_Rating  Genres  \\\n",
       "0      7397     4.1      159.0  19.00000      10000               1       9   \n",
       "1      2737     3.9      967.0  14.00000     500000               1      12   \n",
       "2      9270     4.7    87510.0   8.70000    5000000               1       9   \n",
       "3      8340     4.5   215644.0  25.00000   50000000               4       9   \n",
       "4      7464     4.3      967.0   2.80000     100000               1      11   \n",
       "...     ...     ...        ...       ...        ...             ...     ...   \n",
       "10346  6426     4.6   105363.0  31.00000   10000000               1      38   \n",
       "10347   907     4.7   165252.0  34.00000  100000000               1     109   \n",
       "10348  9623     3.9  1406630.0  20.39551  100000000               4      19   \n",
       "10349  6685     4.4     7285.0  25.00000    1000000               1      51   \n",
       "10350  4662     4.7     7648.0  42.00000    1000000               1      62   \n",
       "\n",
       "       is_free  cat_AUTO_AND_VEHICLES  cat_BEAUTY  cat_BOOKS_AND_REFERENCE  \\\n",
       "0            1                      0           0                        0   \n",
       "1            1                      0           0                        0   \n",
       "2            1                      0           0                        0   \n",
       "3            1                      0           0                        0   \n",
       "4            1                      0           0                        0   \n",
       "...        ...                    ...         ...                      ...   \n",
       "10346        1                      0           0                        0   \n",
       "10347        1                      0           0                        0   \n",
       "10348        1                      0           0                        1   \n",
       "10349        1                      0           0                        0   \n",
       "10350        1                      0           0                        0   \n",
       "\n",
       "       cat_BUSINESS  cat_COMICS  cat_COMMUNICATION  cat_DATING  cat_EDUCATION  \\\n",
       "0                 0           0                  0           0              0   \n",
       "1                 0           0                  0           0              0   \n",
       "2                 0           0                  0           0              0   \n",
       "3                 0           0                  0           0              0   \n",
       "4                 0           0                  0           0              0   \n",
       "...             ...         ...                ...         ...            ...   \n",
       "10346             0           0                  0           0              1   \n",
       "10347             0           0                  0           0              0   \n",
       "10348             0           0                  0           0              0   \n",
       "10349             0           0                  0           0              0   \n",
       "10350             0           0                  0           0              0   \n",
       "\n",
       "       cat_ENTERTAINMENT  cat_EVENTS  cat_FAMILY  cat_FINANCE  \\\n",
       "0                      0           0           0            0   \n",
       "1                      0           0           0            0   \n",
       "2                      0           0           0            0   \n",
       "3                      0           0           0            0   \n",
       "4                      0           0           0            0   \n",
       "...                  ...         ...         ...          ...   \n",
       "10346                  0           0           0            0   \n",
       "10347                  0           0           0            0   \n",
       "10348                  0           0           0            0   \n",
       "10349                  1           0           0            0   \n",
       "10350                  0           0           0            0   \n",
       "\n",
       "       cat_FOOD_AND_DRINK  cat_GAME  cat_GAME_ACTION  cat_GAME_ADVENTURE  \\\n",
       "0                       0         0                0                   0   \n",
       "1                       0         0                0                   0   \n",
       "2                       0         0                0                   0   \n",
       "3                       0         0                0                   0   \n",
       "4                       0         0                0                   0   \n",
       "...                   ...       ...              ...                 ...   \n",
       "10346                   0         0                0                   0   \n",
       "10347                   0         0                0                   0   \n",
       "10348                   0         0                0                   0   \n",
       "10349                   0         0                0                   0   \n",
       "10350                   0         0                0                   0   \n",
       "\n",
       "       cat_GAME_ARCADE  cat_GAME_BOARD  cat_GAME_CARD  cat_GAME_CASINO  \\\n",
       "0                    0               0              0                0   \n",
       "1                    0               0              0                0   \n",
       "2                    0               0              0                0   \n",
       "3                    0               0              0                0   \n",
       "4                    0               0              0                0   \n",
       "...                ...             ...            ...              ...   \n",
       "10346                0               0              0                0   \n",
       "10347                0               0              0                0   \n",
       "10348                0               0              0                0   \n",
       "10349                0               0              0                0   \n",
       "10350                0               0              0                0   \n",
       "\n",
       "       cat_GAME_CASUAL  cat_GAME_EDUCATIONAL  cat_GAME_MUSIC  cat_GAME_PUZZLE  \\\n",
       "0                    0                     0               0                0   \n",
       "1                    0                     0               0                0   \n",
       "2                    0                     0               0                0   \n",
       "3                    0                     0               0                0   \n",
       "4                    0                     0               0                0   \n",
       "...                ...                   ...             ...              ...   \n",
       "10346                0                     0               0                0   \n",
       "10347                0                     0               0                0   \n",
       "10348                0                     0               0                0   \n",
       "10349                0                     0               0                0   \n",
       "10350                0                     0               0                0   \n",
       "\n",
       "       cat_GAME_RACING  cat_GAME_ROLE_PLAYING  cat_GAME_SIMULATION  \\\n",
       "0                    0                      0                    0   \n",
       "1                    0                      0                    0   \n",
       "2                    0                      0                    0   \n",
       "3                    0                      0                    0   \n",
       "4                    0                      0                    0   \n",
       "...                ...                    ...                  ...   \n",
       "10346                0                      0                    0   \n",
       "10347                0                      0                    0   \n",
       "10348                0                      0                    0   \n",
       "10349                0                      0                    0   \n",
       "10350                0                      0                    0   \n",
       "\n",
       "       cat_GAME_SPORTS  cat_GAME_STRATEGY  cat_GAME_TRIVIA  cat_GAME_WORD  \\\n",
       "0                    0                  0                0              0   \n",
       "1                    0                  0                0              0   \n",
       "2                    0                  0                0              0   \n",
       "3                    0                  0                0              0   \n",
       "4                    0                  0                0              0   \n",
       "...                ...                ...              ...            ...   \n",
       "10346                0                  0                0              0   \n",
       "10347                0                  0                0              0   \n",
       "10348                0                  0                0              0   \n",
       "10349                0                  0                0              0   \n",
       "10350                0                  0                0              0   \n",
       "\n",
       "       cat_HEALTH_AND_FITNESS  cat_HOUSE_AND_HOME  cat_LIBRARIES_AND_DEMO  \\\n",
       "0                           0                   0                       0   \n",
       "1                           0                   0                       0   \n",
       "2                           0                   0                       0   \n",
       "3                           0                   0                       0   \n",
       "4                           0                   0                       0   \n",
       "...                       ...                 ...                     ...   \n",
       "10346                       0                   0                       0   \n",
       "10347                       0                   0                       0   \n",
       "10348                       0                   0                       0   \n",
       "10349                       0                   0                       0   \n",
       "10350                       1                   0                       0   \n",
       "\n",
       "       cat_LIFESTYLE  cat_MAPS_AND_NAVIGATION  cat_MEDICAL  \\\n",
       "0                  0                        0            0   \n",
       "1                  0                        0            0   \n",
       "2                  0                        0            0   \n",
       "3                  0                        0            0   \n",
       "4                  0                        0            0   \n",
       "...              ...                      ...          ...   \n",
       "10346              0                        0            0   \n",
       "10347              0                        0            0   \n",
       "10348              0                        0            0   \n",
       "10349              0                        0            0   \n",
       "10350              0                        0            0   \n",
       "\n",
       "       cat_MUSIC_AND_AUDIO  cat_NEWS_AND_MAGAZINES  cat_PARENTING  \\\n",
       "0                        0                       0              0   \n",
       "1                        0                       0              0   \n",
       "2                        0                       0              0   \n",
       "3                        0                       0              0   \n",
       "4                        0                       0              0   \n",
       "...                    ...                     ...            ...   \n",
       "10346                    0                       0              0   \n",
       "10347                    0                       0              0   \n",
       "10348                    0                       0              0   \n",
       "10349                    0                       0              0   \n",
       "10350                    0                       0              0   \n",
       "\n",
       "       cat_PERSONALIZATION  cat_PHOTOGRAPHY  cat_PRODUCTIVITY  cat_SHOPPING  \\\n",
       "0                        0                0                 0             0   \n",
       "1                        0                0                 0             0   \n",
       "2                        0                0                 0             0   \n",
       "3                        0                0                 0             0   \n",
       "4                        0                0                 0             0   \n",
       "...                    ...              ...               ...           ...   \n",
       "10346                    0                0                 0             0   \n",
       "10347                    0                0                 0             0   \n",
       "10348                    0                0                 0             0   \n",
       "10349                    0                0                 0             0   \n",
       "10350                    0                0                 0             0   \n",
       "\n",
       "       cat_SOCIAL  cat_SPORTS  cat_TOOLS  cat_TRAVEL_AND_LOCAL  \\\n",
       "0               0           0          0                     0   \n",
       "1               0           0          0                     0   \n",
       "2               0           0          0                     0   \n",
       "3               0           0          0                     0   \n",
       "4               0           0          0                     0   \n",
       "...           ...         ...        ...                   ...   \n",
       "10346           0           0          0                     0   \n",
       "10347           0           0          1                     0   \n",
       "10348           0           0          0                     0   \n",
       "10349           0           0          0                     0   \n",
       "10350           0           0          0                     0   \n",
       "\n",
       "       cat_VIDEO_PLAYERS  cat_WEATHER  Month_2  Month_3  Month_4  Month_5  \\\n",
       "0                      0            0        0        0        0        0   \n",
       "1                      0            0        0        0        0        0   \n",
       "2                      0            0        0        0        0        0   \n",
       "3                      0            0        0        0        0        0   \n",
       "4                      0            0        0        0        0        0   \n",
       "...                  ...          ...      ...      ...      ...      ...   \n",
       "10346                  0            0        1        0        0        0   \n",
       "10347                  0            0        0        0        0        0   \n",
       "10348                  0            0        0        1        0        0   \n",
       "10349                  0            0        0        0        0        1   \n",
       "10350                  0            0        0        0        0        0   \n",
       "\n",
       "       Month_6  Month_7  Month_8  Month_9  Month_  Month_11  Month_12  \n",
       "0            0        0        0        0       0         0         0  \n",
       "1            0        0        0        0       0         0         0  \n",
       "2            0        0        1        0       0         0         0  \n",
       "3            1        0        0        0       0         0         0  \n",
       "4            1        0        0        0       0         0         0  \n",
       "...        ...      ...      ...      ...     ...       ...       ...  \n",
       "10346        0        0        0        0       0         0         0  \n",
       "10347        0        0        0        0       0         0         1  \n",
       "10348        0        0        0        0       0         0         0  \n",
       "10349        0        0        0        0       0         0         0  \n",
       "10350        0        0        0        0       0         0         1  \n",
       "\n",
       "[10351 rows x 69 columns]"
      ]
     },
     "execution_count": 12,
     "metadata": {},
     "output_type": "execute_result"
    }
   ],
   "source": [
    "model_df"
   ]
  },
  {
   "cell_type": "code",
   "execution_count": 13,
   "metadata": {
    "ExecuteTime": {
     "end_time": "2021-04-13T03:29:42.582627Z",
     "start_time": "2021-04-13T03:29:42.248523Z"
    }
   },
   "outputs": [
    {
     "name": "stdout",
     "output_type": "stream",
     "text": [
      "List of predictors: App+Rating+Reviews+Size+Content_Rating+Genres+is_free+cat_AUTO_AND_VEHICLES+cat_BEAUTY+cat_BOOKS_AND_REFERENCE+cat_BUSINESS+cat_COMICS+cat_COMMUNICATION+cat_DATING+cat_EDUCATION+cat_ENTERTAINMENT+cat_EVENTS+cat_FAMILY+cat_FINANCE+cat_FOOD_AND_DRINK+cat_GAME+cat_GAME_ACTION+cat_GAME_ADVENTURE+cat_GAME_ARCADE+cat_GAME_BOARD+cat_GAME_CARD+cat_GAME_CASINO+cat_GAME_CASUAL+cat_GAME_EDUCATIONAL+cat_GAME_MUSIC+cat_GAME_PUZZLE+cat_GAME_RACING+cat_GAME_ROLE_PLAYING+cat_GAME_SIMULATION+cat_GAME_SPORTS+cat_GAME_STRATEGY+cat_GAME_TRIVIA+cat_GAME_WORD+cat_HEALTH_AND_FITNESS+cat_HOUSE_AND_HOME+cat_LIBRARIES_AND_DEMO+cat_LIFESTYLE+cat_MAPS_AND_NAVIGATION+cat_MEDICAL+cat_MUSIC_AND_AUDIO+cat_NEWS_AND_MAGAZINES+cat_PARENTING+cat_PERSONALIZATION+cat_PHOTOGRAPHY+cat_PRODUCTIVITY+cat_SHOPPING+cat_SOCIAL+cat_SPORTS+cat_TOOLS+cat_TRAVEL_AND_LOCAL+cat_VIDEO_PLAYERS+cat_WEATHER+Month_2+Month_3+Month_4+Month_5+Month_6+Month_7+Month_8+Month_9+Month_+Month_11+Month_12\n"
     ]
    },
    {
     "data": {
      "text/html": [
       "<table class=\"simpletable\">\n",
       "<caption>OLS Regression Results</caption>\n",
       "<tr>\n",
       "  <th>Dep. Variable:</th>        <td>Installs</td>     <th>  R-squared:         </th>  <td>   0.381</td>  \n",
       "</tr>\n",
       "<tr>\n",
       "  <th>Model:</th>                   <td>OLS</td>       <th>  Adj. R-squared:    </th>  <td>   0.377</td>  \n",
       "</tr>\n",
       "<tr>\n",
       "  <th>Method:</th>             <td>Least Squares</td>  <th>  F-statistic:       </th>  <td>   93.16</td>  \n",
       "</tr>\n",
       "<tr>\n",
       "  <th>Date:</th>             <td>Mon, 12 Apr 2021</td> <th>  Prob (F-statistic):</th>   <td>  0.00</td>   \n",
       "</tr>\n",
       "<tr>\n",
       "  <th>Time:</th>                 <td>23:29:42</td>     <th>  Log-Likelihood:    </th> <td>-1.9656e+05</td>\n",
       "</tr>\n",
       "<tr>\n",
       "  <th>No. Observations:</th>      <td> 10351</td>      <th>  AIC:               </th>  <td>3.933e+05</td> \n",
       "</tr>\n",
       "<tr>\n",
       "  <th>Df Residuals:</th>          <td> 10282</td>      <th>  BIC:               </th>  <td>3.938e+05</td> \n",
       "</tr>\n",
       "<tr>\n",
       "  <th>Df Model:</th>              <td>    68</td>      <th>                     </th>      <td> </td>     \n",
       "</tr>\n",
       "<tr>\n",
       "  <th>Covariance Type:</th>      <td>nonrobust</td>    <th>                     </th>      <td> </td>     \n",
       "</tr>\n",
       "</table>\n",
       "<table class=\"simpletable\">\n",
       "<tr>\n",
       "             <td></td>                <th>coef</th>     <th>std err</th>      <th>t</th>      <th>P>|t|</th>  <th>[0.025</th>    <th>0.975]</th>  \n",
       "</tr>\n",
       "<tr>\n",
       "  <th>Intercept</th>               <td>-8.765e+06</td> <td> 6.87e+06</td> <td>   -1.276</td> <td> 0.202</td> <td>-2.22e+07</td> <td>  4.7e+06</td>\n",
       "</tr>\n",
       "<tr>\n",
       "  <th>App</th>                     <td>  348.8597</td> <td>  143.547</td> <td>    2.430</td> <td> 0.015</td> <td>   67.480</td> <td>  630.239</td>\n",
       "</tr>\n",
       "<tr>\n",
       "  <th>Rating</th>                  <td> 6.483e+05</td> <td> 8.55e+05</td> <td>    0.758</td> <td> 0.449</td> <td>-1.03e+06</td> <td> 2.32e+06</td>\n",
       "</tr>\n",
       "<tr>\n",
       "  <th>Reviews</th>                 <td>   17.3707</td> <td>    0.232</td> <td>   74.767</td> <td> 0.000</td> <td>   16.915</td> <td>   17.826</td>\n",
       "</tr>\n",
       "<tr>\n",
       "  <th>Size</th>                    <td> 4.171e+04</td> <td> 1.64e+04</td> <td>    2.550</td> <td> 0.011</td> <td> 9648.938</td> <td> 7.38e+04</td>\n",
       "</tr>\n",
       "<tr>\n",
       "  <th>Content_Rating</th>          <td> 8.331e+05</td> <td> 4.79e+05</td> <td>    1.741</td> <td> 0.082</td> <td>-1.05e+05</td> <td> 1.77e+06</td>\n",
       "</tr>\n",
       "<tr>\n",
       "  <th>Genres</th>                  <td>-4.729e+04</td> <td> 2.57e+04</td> <td>   -1.839</td> <td> 0.066</td> <td>-9.77e+04</td> <td> 3128.180</td>\n",
       "</tr>\n",
       "<tr>\n",
       "  <th>is_free</th>                 <td> 5.056e+06</td> <td> 1.45e+06</td> <td>    3.481</td> <td> 0.001</td> <td> 2.21e+06</td> <td>  7.9e+06</td>\n",
       "</tr>\n",
       "<tr>\n",
       "  <th>cat_AUTO_AND_VEHICLES</th>   <td>-1.696e+06</td> <td> 6.94e+06</td> <td>   -0.244</td> <td> 0.807</td> <td>-1.53e+07</td> <td> 1.19e+07</td>\n",
       "</tr>\n",
       "<tr>\n",
       "  <th>cat_BEAUTY</th>              <td>-1.208e+06</td> <td> 7.89e+06</td> <td>   -0.153</td> <td> 0.878</td> <td>-1.67e+07</td> <td> 1.42e+07</td>\n",
       "</tr>\n",
       "<tr>\n",
       "  <th>cat_BOOKS_AND_REFERENCE</th> <td> 5.829e+06</td> <td> 5.93e+06</td> <td>    0.983</td> <td> 0.325</td> <td>-5.79e+06</td> <td> 1.75e+07</td>\n",
       "</tr>\n",
       "<tr>\n",
       "  <th>cat_BUSINESS</th>            <td> 9.765e+05</td> <td> 5.65e+06</td> <td>    0.173</td> <td> 0.863</td> <td>-1.01e+07</td> <td> 1.21e+07</td>\n",
       "</tr>\n",
       "<tr>\n",
       "  <th>cat_COMICS</th>              <td>-1.365e+06</td> <td> 7.55e+06</td> <td>   -0.181</td> <td> 0.856</td> <td>-1.62e+07</td> <td> 1.34e+07</td>\n",
       "</tr>\n",
       "<tr>\n",
       "  <th>cat_COMMUNICATION</th>       <td> 1.839e+07</td> <td> 5.79e+06</td> <td>    3.174</td> <td> 0.002</td> <td> 7.03e+06</td> <td> 2.98e+07</td>\n",
       "</tr>\n",
       "<tr>\n",
       "  <th>cat_DATING</th>              <td>-1.917e+06</td> <td> 6.24e+06</td> <td>   -0.307</td> <td> 0.759</td> <td>-1.41e+07</td> <td> 1.03e+07</td>\n",
       "</tr>\n",
       "<tr>\n",
       "  <th>cat_EDUCATION</th>           <td> 7.854e+05</td> <td> 6.35e+06</td> <td>    0.124</td> <td> 0.902</td> <td>-1.17e+07</td> <td> 1.32e+07</td>\n",
       "</tr>\n",
       "<tr>\n",
       "  <th>cat_ENTERTAINMENT</th>       <td> 1.002e+07</td> <td> 6.63e+06</td> <td>    1.511</td> <td> 0.131</td> <td>-2.98e+06</td> <td>  2.3e+07</td>\n",
       "</tr>\n",
       "<tr>\n",
       "  <th>cat_EVENTS</th>              <td> 2.095e+05</td> <td> 7.61e+06</td> <td>    0.028</td> <td> 0.978</td> <td>-1.47e+07</td> <td> 1.51e+07</td>\n",
       "</tr>\n",
       "<tr>\n",
       "  <th>cat_FAMILY</th>              <td> 1.587e+06</td> <td> 5.48e+06</td> <td>    0.290</td> <td> 0.772</td> <td>-9.16e+06</td> <td> 1.23e+07</td>\n",
       "</tr>\n",
       "<tr>\n",
       "  <th>cat_FINANCE</th>             <td> 1.457e+06</td> <td> 5.88e+06</td> <td>    0.248</td> <td> 0.804</td> <td>-1.01e+07</td> <td>  1.3e+07</td>\n",
       "</tr>\n",
       "<tr>\n",
       "  <th>cat_FOOD_AND_DRINK</th>      <td> 4.813e+05</td> <td> 6.76e+06</td> <td>    0.071</td> <td> 0.943</td> <td>-1.28e+07</td> <td> 1.37e+07</td>\n",
       "</tr>\n",
       "<tr>\n",
       "  <th>cat_GAME</th>                <td>  7.32e+05</td> <td> 5.48e+06</td> <td>    0.134</td> <td> 0.894</td> <td>   -1e+07</td> <td> 1.15e+07</td>\n",
       "</tr>\n",
       "<tr>\n",
       "  <th>cat_GAME_ACTION</th>         <td>-6.735e+06</td> <td> 8.94e+06</td> <td>   -0.753</td> <td> 0.451</td> <td>-2.43e+07</td> <td> 1.08e+07</td>\n",
       "</tr>\n",
       "<tr>\n",
       "  <th>cat_GAME_ADVENTURE</th>      <td> 2.404e+06</td> <td>  9.3e+06</td> <td>    0.258</td> <td> 0.796</td> <td>-1.58e+07</td> <td> 2.06e+07</td>\n",
       "</tr>\n",
       "<tr>\n",
       "  <th>cat_GAME_ARCADE</th>         <td>  1.62e+07</td> <td> 1.06e+07</td> <td>    1.527</td> <td> 0.127</td> <td>-4.59e+06</td> <td>  3.7e+07</td>\n",
       "</tr>\n",
       "<tr>\n",
       "  <th>cat_GAME_BOARD</th>          <td>  8.59e+05</td> <td> 1.35e+07</td> <td>    0.063</td> <td> 0.949</td> <td>-2.57e+07</td> <td> 2.74e+07</td>\n",
       "</tr>\n",
       "<tr>\n",
       "  <th>cat_GAME_CARD</th>           <td> 3.566e+06</td> <td> 1.27e+07</td> <td>    0.281</td> <td> 0.779</td> <td>-2.13e+07</td> <td> 2.84e+07</td>\n",
       "</tr>\n",
       "<tr>\n",
       "  <th>cat_GAME_CASINO</th>         <td> 9.194e+05</td> <td> 9.03e+06</td> <td>    0.102</td> <td> 0.919</td> <td>-1.68e+07</td> <td> 1.86e+07</td>\n",
       "</tr>\n",
       "<tr>\n",
       "  <th>cat_GAME_CASUAL</th>         <td> 2.358e+07</td> <td> 1.17e+07</td> <td>    2.015</td> <td> 0.044</td> <td> 6.36e+05</td> <td> 4.65e+07</td>\n",
       "</tr>\n",
       "<tr>\n",
       "  <th>cat_GAME_EDUCATIONAL</th>    <td> 1.049e+07</td> <td> 1.31e+07</td> <td>    0.802</td> <td> 0.422</td> <td>-1.51e+07</td> <td> 3.61e+07</td>\n",
       "</tr>\n",
       "<tr>\n",
       "  <th>cat_GAME_MUSIC</th>          <td> 1.478e+07</td> <td> 1.72e+07</td> <td>    0.860</td> <td> 0.390</td> <td>-1.89e+07</td> <td> 4.85e+07</td>\n",
       "</tr>\n",
       "<tr>\n",
       "  <th>cat_GAME_PUZZLE</th>         <td> 1.498e+07</td> <td> 9.39e+06</td> <td>    1.595</td> <td> 0.111</td> <td>-3.43e+06</td> <td> 3.34e+07</td>\n",
       "</tr>\n",
       "<tr>\n",
       "  <th>cat_GAME_RACING</th>         <td>-3.129e+04</td> <td> 2.01e+07</td> <td>   -0.002</td> <td> 0.999</td> <td>-3.93e+07</td> <td> 3.93e+07</td>\n",
       "</tr>\n",
       "<tr>\n",
       "  <th>cat_GAME_ROLE_PLAYING</th>   <td> 3.086e+06</td> <td> 9.16e+06</td> <td>    0.337</td> <td> 0.736</td> <td>-1.49e+07</td> <td>  2.1e+07</td>\n",
       "</tr>\n",
       "<tr>\n",
       "  <th>cat_GAME_SIMULATION</th>     <td> 7.543e+06</td> <td> 9.33e+06</td> <td>    0.808</td> <td> 0.419</td> <td>-1.08e+07</td> <td> 2.58e+07</td>\n",
       "</tr>\n",
       "<tr>\n",
       "  <th>cat_GAME_SPORTS</th>         <td> 3.683e+06</td> <td> 1.48e+07</td> <td>    0.249</td> <td> 0.803</td> <td>-2.53e+07</td> <td> 3.27e+07</td>\n",
       "</tr>\n",
       "<tr>\n",
       "  <th>cat_GAME_STRATEGY</th>       <td> 8.277e+06</td> <td> 8.25e+06</td> <td>    1.004</td> <td> 0.316</td> <td>-7.89e+06</td> <td> 2.44e+07</td>\n",
       "</tr>\n",
       "<tr>\n",
       "  <th>cat_GAME_TRIVIA</th>         <td> 6.293e+06</td> <td> 3.09e+07</td> <td>    0.203</td> <td> 0.839</td> <td>-5.43e+07</td> <td> 6.69e+07</td>\n",
       "</tr>\n",
       "<tr>\n",
       "  <th>cat_GAME_WORD</th>           <td> 8.523e+06</td> <td> 4.33e+07</td> <td>    0.197</td> <td> 0.844</td> <td>-7.64e+07</td> <td> 9.35e+07</td>\n",
       "</tr>\n",
       "<tr>\n",
       "  <th>cat_HEALTH_AND_FITNESS</th>  <td> 2.959e+06</td> <td> 5.95e+06</td> <td>    0.498</td> <td> 0.619</td> <td> -8.7e+06</td> <td> 1.46e+07</td>\n",
       "</tr>\n",
       "<tr>\n",
       "  <th>cat_HOUSE_AND_HOME</th>      <td> 1.729e+05</td> <td> 7.38e+06</td> <td>    0.023</td> <td> 0.981</td> <td>-1.43e+07</td> <td> 1.46e+07</td>\n",
       "</tr>\n",
       "<tr>\n",
       "  <th>cat_LIBRARIES_AND_DEMO</th>  <td> 2.958e+06</td> <td> 7.18e+06</td> <td>    0.412</td> <td> 0.681</td> <td>-1.11e+07</td> <td>  1.7e+07</td>\n",
       "</tr>\n",
       "<tr>\n",
       "  <th>cat_LIFESTYLE</th>           <td> 2.437e+06</td> <td> 5.88e+06</td> <td>    0.414</td> <td> 0.679</td> <td>-9.09e+06</td> <td>  1.4e+07</td>\n",
       "</tr>\n",
       "<tr>\n",
       "  <th>cat_MAPS_AND_NAVIGATION</th> <td> 1.533e+06</td> <td> 6.61e+06</td> <td>    0.232</td> <td> 0.816</td> <td>-1.14e+07</td> <td> 1.45e+07</td>\n",
       "</tr>\n",
       "<tr>\n",
       "  <th>cat_MEDICAL</th>             <td> 2.177e+06</td> <td> 5.89e+06</td> <td>    0.370</td> <td> 0.712</td> <td>-9.37e+06</td> <td> 1.37e+07</td>\n",
       "</tr>\n",
       "<tr>\n",
       "  <th>cat_MUSIC_AND_AUDIO</th>     <td> 2.192e+07</td> <td> 1.24e+07</td> <td>    1.766</td> <td> 0.077</td> <td> -2.4e+06</td> <td> 4.62e+07</td>\n",
       "</tr>\n",
       "<tr>\n",
       "  <th>cat_NEWS_AND_MAGAZINES</th>  <td> 8.142e+06</td> <td> 6.14e+06</td> <td>    1.326</td> <td> 0.185</td> <td>-3.89e+06</td> <td> 2.02e+07</td>\n",
       "</tr>\n",
       "<tr>\n",
       "  <th>cat_PARENTING</th>           <td> 1.174e+06</td> <td> 7.82e+06</td> <td>    0.150</td> <td> 0.881</td> <td>-1.42e+07</td> <td> 1.65e+07</td>\n",
       "</tr>\n",
       "<tr>\n",
       "  <th>cat_PERSONALIZATION</th>     <td> 4.415e+06</td> <td> 5.97e+06</td> <td>    0.739</td> <td> 0.460</td> <td>-7.29e+06</td> <td> 1.61e+07</td>\n",
       "</tr>\n",
       "<tr>\n",
       "  <th>cat_PHOTOGRAPHY</th>         <td> 1.229e+07</td> <td>  6.1e+06</td> <td>    2.014</td> <td> 0.044</td> <td> 3.29e+05</td> <td> 2.42e+07</td>\n",
       "</tr>\n",
       "<tr>\n",
       "  <th>cat_PRODUCTIVITY</th>        <td> 1.985e+07</td> <td> 5.99e+06</td> <td>    3.316</td> <td> 0.001</td> <td> 8.12e+06</td> <td> 3.16e+07</td>\n",
       "</tr>\n",
       "<tr>\n",
       "  <th>cat_SHOPPING</th>            <td> 3.044e+06</td> <td> 6.46e+06</td> <td>    0.471</td> <td> 0.638</td> <td>-9.62e+06</td> <td> 1.57e+07</td>\n",
       "</tr>\n",
       "<tr>\n",
       "  <th>cat_SOCIAL</th>              <td> 7.363e+06</td> <td> 6.39e+06</td> <td>    1.152</td> <td> 0.249</td> <td>-5.17e+06</td> <td> 1.99e+07</td>\n",
       "</tr>\n",
       "<tr>\n",
       "  <th>cat_SPORTS</th>              <td> 3.711e+06</td> <td> 6.23e+06</td> <td>    0.596</td> <td> 0.551</td> <td> -8.5e+06</td> <td> 1.59e+07</td>\n",
       "</tr>\n",
       "<tr>\n",
       "  <th>cat_TOOLS</th>               <td> 9.113e+06</td> <td> 6.02e+06</td> <td>    1.513</td> <td> 0.130</td> <td> -2.7e+06</td> <td> 2.09e+07</td>\n",
       "</tr>\n",
       "<tr>\n",
       "  <th>cat_TRAVEL_AND_LOCAL</th>    <td> 1.305e+07</td> <td> 6.52e+06</td> <td>    2.000</td> <td> 0.046</td> <td> 2.57e+05</td> <td> 2.58e+07</td>\n",
       "</tr>\n",
       "<tr>\n",
       "  <th>cat_VIDEO_PLAYERS</th>       <td>  1.94e+07</td> <td> 6.75e+06</td> <td>    2.874</td> <td> 0.004</td> <td> 6.17e+06</td> <td> 3.26e+07</td>\n",
       "</tr>\n",
       "<tr>\n",
       "  <th>cat_WEATHER</th>             <td> 3.824e+06</td> <td> 7.58e+06</td> <td>    0.504</td> <td> 0.614</td> <td> -1.1e+07</td> <td> 1.87e+07</td>\n",
       "</tr>\n",
       "<tr>\n",
       "  <th>Month_2</th>                 <td>-2.394e+06</td> <td> 2.62e+06</td> <td>   -0.913</td> <td> 0.361</td> <td>-7.53e+06</td> <td> 2.75e+06</td>\n",
       "</tr>\n",
       "<tr>\n",
       "  <th>Month_3</th>                 <td>-3.003e+06</td> <td> 2.48e+06</td> <td>   -1.210</td> <td> 0.226</td> <td>-7.87e+06</td> <td> 1.86e+06</td>\n",
       "</tr>\n",
       "<tr>\n",
       "  <th>Month_4</th>                 <td>-1.967e+06</td> <td> 2.56e+06</td> <td>   -0.769</td> <td> 0.442</td> <td>-6.98e+06</td> <td> 3.05e+06</td>\n",
       "</tr>\n",
       "<tr>\n",
       "  <th>Month_5</th>                 <td>-5.864e+05</td> <td> 2.34e+06</td> <td>   -0.250</td> <td> 0.802</td> <td>-5.18e+06</td> <td> 4.01e+06</td>\n",
       "</tr>\n",
       "<tr>\n",
       "  <th>Month_6</th>                 <td>-2.331e+06</td> <td> 2.26e+06</td> <td>   -1.031</td> <td> 0.302</td> <td>-6.76e+06</td> <td>  2.1e+06</td>\n",
       "</tr>\n",
       "<tr>\n",
       "  <th>Month_7</th>                 <td> 5.078e+05</td> <td> 2.09e+06</td> <td>    0.243</td> <td> 0.808</td> <td>-3.58e+06</td> <td>  4.6e+06</td>\n",
       "</tr>\n",
       "<tr>\n",
       "  <th>Month_8</th>                 <td>   7.7e+06</td> <td> 2.25e+06</td> <td>    3.419</td> <td> 0.001</td> <td> 3.29e+06</td> <td> 1.21e+07</td>\n",
       "</tr>\n",
       "<tr>\n",
       "  <th>Month_9</th>                 <td>-2.529e+06</td> <td> 2.96e+06</td> <td>   -0.855</td> <td> 0.393</td> <td>-8.33e+06</td> <td> 3.27e+06</td>\n",
       "</tr>\n",
       "<tr>\n",
       "  <th>Month_</th>                  <td> -2.63e+06</td> <td> 2.79e+06</td> <td>   -0.942</td> <td> 0.346</td> <td> -8.1e+06</td> <td> 2.84e+06</td>\n",
       "</tr>\n",
       "<tr>\n",
       "  <th>Month_11</th>                <td> -2.37e+06</td> <td> 2.78e+06</td> <td>   -0.851</td> <td> 0.395</td> <td>-7.83e+06</td> <td> 3.09e+06</td>\n",
       "</tr>\n",
       "<tr>\n",
       "  <th>Month_12</th>                <td> -2.25e+06</td> <td> 2.71e+06</td> <td>   -0.831</td> <td> 0.406</td> <td>-7.56e+06</td> <td> 3.06e+06</td>\n",
       "</tr>\n",
       "</table>\n",
       "<table class=\"simpletable\">\n",
       "<tr>\n",
       "  <th>Omnibus:</th>       <td>20278.397</td> <th>  Durbin-Watson:     </th>   <td>   1.825</td>  \n",
       "</tr>\n",
       "<tr>\n",
       "  <th>Prob(Omnibus):</th>  <td> 0.000</td>   <th>  Jarque-Bera (JB):  </th> <td>47469966.666</td>\n",
       "</tr>\n",
       "<tr>\n",
       "  <th>Skew:</th>           <td>15.682</td>   <th>  Prob(JB):          </th>   <td>    0.00</td>  \n",
       "</tr>\n",
       "<tr>\n",
       "  <th>Kurtosis:</th>       <td>333.274</td>  <th>  Cond. No.          </th>   <td>1.97e+08</td>  \n",
       "</tr>\n",
       "</table><br/><br/>Notes:<br/>[1] Standard Errors assume that the covariance matrix of the errors is correctly specified.<br/>[2] The condition number is large, 1.97e+08. This might indicate that there are<br/>strong multicollinearity or other numerical problems."
      ],
      "text/plain": [
       "<class 'statsmodels.iolib.summary.Summary'>\n",
       "\"\"\"\n",
       "                            OLS Regression Results                            \n",
       "==============================================================================\n",
       "Dep. Variable:               Installs   R-squared:                       0.381\n",
       "Model:                            OLS   Adj. R-squared:                  0.377\n",
       "Method:                 Least Squares   F-statistic:                     93.16\n",
       "Date:                Mon, 12 Apr 2021   Prob (F-statistic):               0.00\n",
       "Time:                        23:29:42   Log-Likelihood:            -1.9656e+05\n",
       "No. Observations:               10351   AIC:                         3.933e+05\n",
       "Df Residuals:                   10282   BIC:                         3.938e+05\n",
       "Df Model:                          68                                         \n",
       "Covariance Type:            nonrobust                                         \n",
       "===========================================================================================\n",
       "                              coef    std err          t      P>|t|      [0.025      0.975]\n",
       "-------------------------------------------------------------------------------------------\n",
       "Intercept               -8.765e+06   6.87e+06     -1.276      0.202   -2.22e+07     4.7e+06\n",
       "App                       348.8597    143.547      2.430      0.015      67.480     630.239\n",
       "Rating                   6.483e+05   8.55e+05      0.758      0.449   -1.03e+06    2.32e+06\n",
       "Reviews                    17.3707      0.232     74.767      0.000      16.915      17.826\n",
       "Size                     4.171e+04   1.64e+04      2.550      0.011    9648.938    7.38e+04\n",
       "Content_Rating           8.331e+05   4.79e+05      1.741      0.082   -1.05e+05    1.77e+06\n",
       "Genres                  -4.729e+04   2.57e+04     -1.839      0.066   -9.77e+04    3128.180\n",
       "is_free                  5.056e+06   1.45e+06      3.481      0.001    2.21e+06     7.9e+06\n",
       "cat_AUTO_AND_VEHICLES   -1.696e+06   6.94e+06     -0.244      0.807   -1.53e+07    1.19e+07\n",
       "cat_BEAUTY              -1.208e+06   7.89e+06     -0.153      0.878   -1.67e+07    1.42e+07\n",
       "cat_BOOKS_AND_REFERENCE  5.829e+06   5.93e+06      0.983      0.325   -5.79e+06    1.75e+07\n",
       "cat_BUSINESS             9.765e+05   5.65e+06      0.173      0.863   -1.01e+07    1.21e+07\n",
       "cat_COMICS              -1.365e+06   7.55e+06     -0.181      0.856   -1.62e+07    1.34e+07\n",
       "cat_COMMUNICATION        1.839e+07   5.79e+06      3.174      0.002    7.03e+06    2.98e+07\n",
       "cat_DATING              -1.917e+06   6.24e+06     -0.307      0.759   -1.41e+07    1.03e+07\n",
       "cat_EDUCATION            7.854e+05   6.35e+06      0.124      0.902   -1.17e+07    1.32e+07\n",
       "cat_ENTERTAINMENT        1.002e+07   6.63e+06      1.511      0.131   -2.98e+06     2.3e+07\n",
       "cat_EVENTS               2.095e+05   7.61e+06      0.028      0.978   -1.47e+07    1.51e+07\n",
       "cat_FAMILY               1.587e+06   5.48e+06      0.290      0.772   -9.16e+06    1.23e+07\n",
       "cat_FINANCE              1.457e+06   5.88e+06      0.248      0.804   -1.01e+07     1.3e+07\n",
       "cat_FOOD_AND_DRINK       4.813e+05   6.76e+06      0.071      0.943   -1.28e+07    1.37e+07\n",
       "cat_GAME                  7.32e+05   5.48e+06      0.134      0.894      -1e+07    1.15e+07\n",
       "cat_GAME_ACTION         -6.735e+06   8.94e+06     -0.753      0.451   -2.43e+07    1.08e+07\n",
       "cat_GAME_ADVENTURE       2.404e+06    9.3e+06      0.258      0.796   -1.58e+07    2.06e+07\n",
       "cat_GAME_ARCADE           1.62e+07   1.06e+07      1.527      0.127   -4.59e+06     3.7e+07\n",
       "cat_GAME_BOARD            8.59e+05   1.35e+07      0.063      0.949   -2.57e+07    2.74e+07\n",
       "cat_GAME_CARD            3.566e+06   1.27e+07      0.281      0.779   -2.13e+07    2.84e+07\n",
       "cat_GAME_CASINO          9.194e+05   9.03e+06      0.102      0.919   -1.68e+07    1.86e+07\n",
       "cat_GAME_CASUAL          2.358e+07   1.17e+07      2.015      0.044    6.36e+05    4.65e+07\n",
       "cat_GAME_EDUCATIONAL     1.049e+07   1.31e+07      0.802      0.422   -1.51e+07    3.61e+07\n",
       "cat_GAME_MUSIC           1.478e+07   1.72e+07      0.860      0.390   -1.89e+07    4.85e+07\n",
       "cat_GAME_PUZZLE          1.498e+07   9.39e+06      1.595      0.111   -3.43e+06    3.34e+07\n",
       "cat_GAME_RACING         -3.129e+04   2.01e+07     -0.002      0.999   -3.93e+07    3.93e+07\n",
       "cat_GAME_ROLE_PLAYING    3.086e+06   9.16e+06      0.337      0.736   -1.49e+07     2.1e+07\n",
       "cat_GAME_SIMULATION      7.543e+06   9.33e+06      0.808      0.419   -1.08e+07    2.58e+07\n",
       "cat_GAME_SPORTS          3.683e+06   1.48e+07      0.249      0.803   -2.53e+07    3.27e+07\n",
       "cat_GAME_STRATEGY        8.277e+06   8.25e+06      1.004      0.316   -7.89e+06    2.44e+07\n",
       "cat_GAME_TRIVIA          6.293e+06   3.09e+07      0.203      0.839   -5.43e+07    6.69e+07\n",
       "cat_GAME_WORD            8.523e+06   4.33e+07      0.197      0.844   -7.64e+07    9.35e+07\n",
       "cat_HEALTH_AND_FITNESS   2.959e+06   5.95e+06      0.498      0.619    -8.7e+06    1.46e+07\n",
       "cat_HOUSE_AND_HOME       1.729e+05   7.38e+06      0.023      0.981   -1.43e+07    1.46e+07\n",
       "cat_LIBRARIES_AND_DEMO   2.958e+06   7.18e+06      0.412      0.681   -1.11e+07     1.7e+07\n",
       "cat_LIFESTYLE            2.437e+06   5.88e+06      0.414      0.679   -9.09e+06     1.4e+07\n",
       "cat_MAPS_AND_NAVIGATION  1.533e+06   6.61e+06      0.232      0.816   -1.14e+07    1.45e+07\n",
       "cat_MEDICAL              2.177e+06   5.89e+06      0.370      0.712   -9.37e+06    1.37e+07\n",
       "cat_MUSIC_AND_AUDIO      2.192e+07   1.24e+07      1.766      0.077    -2.4e+06    4.62e+07\n",
       "cat_NEWS_AND_MAGAZINES   8.142e+06   6.14e+06      1.326      0.185   -3.89e+06    2.02e+07\n",
       "cat_PARENTING            1.174e+06   7.82e+06      0.150      0.881   -1.42e+07    1.65e+07\n",
       "cat_PERSONALIZATION      4.415e+06   5.97e+06      0.739      0.460   -7.29e+06    1.61e+07\n",
       "cat_PHOTOGRAPHY          1.229e+07    6.1e+06      2.014      0.044    3.29e+05    2.42e+07\n",
       "cat_PRODUCTIVITY         1.985e+07   5.99e+06      3.316      0.001    8.12e+06    3.16e+07\n",
       "cat_SHOPPING             3.044e+06   6.46e+06      0.471      0.638   -9.62e+06    1.57e+07\n",
       "cat_SOCIAL               7.363e+06   6.39e+06      1.152      0.249   -5.17e+06    1.99e+07\n",
       "cat_SPORTS               3.711e+06   6.23e+06      0.596      0.551    -8.5e+06    1.59e+07\n",
       "cat_TOOLS                9.113e+06   6.02e+06      1.513      0.130    -2.7e+06    2.09e+07\n",
       "cat_TRAVEL_AND_LOCAL     1.305e+07   6.52e+06      2.000      0.046    2.57e+05    2.58e+07\n",
       "cat_VIDEO_PLAYERS         1.94e+07   6.75e+06      2.874      0.004    6.17e+06    3.26e+07\n",
       "cat_WEATHER              3.824e+06   7.58e+06      0.504      0.614    -1.1e+07    1.87e+07\n",
       "Month_2                 -2.394e+06   2.62e+06     -0.913      0.361   -7.53e+06    2.75e+06\n",
       "Month_3                 -3.003e+06   2.48e+06     -1.210      0.226   -7.87e+06    1.86e+06\n",
       "Month_4                 -1.967e+06   2.56e+06     -0.769      0.442   -6.98e+06    3.05e+06\n",
       "Month_5                 -5.864e+05   2.34e+06     -0.250      0.802   -5.18e+06    4.01e+06\n",
       "Month_6                 -2.331e+06   2.26e+06     -1.031      0.302   -6.76e+06     2.1e+06\n",
       "Month_7                  5.078e+05   2.09e+06      0.243      0.808   -3.58e+06     4.6e+06\n",
       "Month_8                    7.7e+06   2.25e+06      3.419      0.001    3.29e+06    1.21e+07\n",
       "Month_9                 -2.529e+06   2.96e+06     -0.855      0.393   -8.33e+06    3.27e+06\n",
       "Month_                   -2.63e+06   2.79e+06     -0.942      0.346    -8.1e+06    2.84e+06\n",
       "Month_11                 -2.37e+06   2.78e+06     -0.851      0.395   -7.83e+06    3.09e+06\n",
       "Month_12                 -2.25e+06   2.71e+06     -0.831      0.406   -7.56e+06    3.06e+06\n",
       "==============================================================================\n",
       "Omnibus:                    20278.397   Durbin-Watson:                   1.825\n",
       "Prob(Omnibus):                  0.000   Jarque-Bera (JB):         47469966.666\n",
       "Skew:                          15.682   Prob(JB):                         0.00\n",
       "Kurtosis:                     333.274   Cond. No.                     1.97e+08\n",
       "==============================================================================\n",
       "\n",
       "Notes:\n",
       "[1] Standard Errors assume that the covariance matrix of the errors is correctly specified.\n",
       "[2] The condition number is large, 1.97e+08. This might indicate that there are\n",
       "strong multicollinearity or other numerical problems.\n",
       "\"\"\""
      ]
     },
     "metadata": {},
     "output_type": "display_data"
    }
   ],
   "source": [
    "outcome = 'Installs'\n",
    "predictors = model_df.drop(labels=['Installs'], axis=1)\n",
    "pred_sum = '+'.join(predictors.columns)\n",
    "f = outcome + '~' + pred_sum\n",
    "model = ols(f, model_df).fit()\n",
    "print(f'List of predictors: {pred_sum}')\n",
    "display(model.summary())"
   ]
  },
  {
   "cell_type": "code",
   "execution_count": 14,
   "metadata": {
    "ExecuteTime": {
     "end_time": "2021-04-13T03:29:42.598682Z",
     "start_time": "2021-04-13T03:29:42.585640Z"
    }
   },
   "outputs": [],
   "source": [
    "y = model_df['Installs']\n",
    "X = model_df.drop(labels=['Installs'], axis=1)"
   ]
  },
  {
   "cell_type": "code",
   "execution_count": 15,
   "metadata": {
    "ExecuteTime": {
     "end_time": "2021-04-13T03:29:42.677942Z",
     "start_time": "2021-04-13T03:29:42.600689Z"
    }
   },
   "outputs": [],
   "source": [
    "from sklearn.model_selection import train_test_split\n",
    "X_train, X_test, y_train, y_test = train_test_split(X, y, test_size=.25, random_state=42)"
   ]
  },
  {
   "cell_type": "code",
   "execution_count": 16,
   "metadata": {
    "ExecuteTime": {
     "end_time": "2021-04-13T03:29:42.804362Z",
     "start_time": "2021-04-13T03:29:42.679950Z"
    }
   },
   "outputs": [
    {
     "data": {
      "text/plain": [
       "LinearRegression()"
      ]
     },
     "execution_count": 16,
     "metadata": {},
     "output_type": "execute_result"
    }
   ],
   "source": [
    "from sklearn.linear_model import LinearRegression\n",
    "mlr = LinearRegression()\n",
    "mlr.fit(X_train,y_train)"
   ]
  },
  {
   "cell_type": "code",
   "execution_count": 17,
   "metadata": {
    "ExecuteTime": {
     "end_time": "2021-04-13T03:29:42.820414Z",
     "start_time": "2021-04-13T03:29:42.806369Z"
    }
   },
   "outputs": [
    {
     "data": {
      "text/plain": [
       "'Accuracy: 27.82%'"
      ]
     },
     "execution_count": 17,
     "metadata": {},
     "output_type": "execute_result"
    }
   ],
   "source": [
    "accuracy = mlr.score(X_test,y_test)\n",
    "'Accuracy: ' + str(np.round(accuracy*100, 2)) + '%'"
   ]
  },
  {
   "cell_type": "code",
   "execution_count": 18,
   "metadata": {
    "ExecuteTime": {
     "end_time": "2021-04-13T03:29:42.884130Z",
     "start_time": "2021-04-13T03:29:42.822423Z"
    },
    "scrolled": true
   },
   "outputs": [
    {
     "name": "stdout",
     "output_type": "stream",
     "text": [
      "MAE: 10610672.256205108\n",
      "Test Mean Squared Error: 3756383793146383.0\n",
      "Root Mean Squared Error Test: 61289344.858191974\n"
     ]
    }
   ],
   "source": [
    "from sklearn import metrics\n",
    "from sklearn.metrics import accuracy_score, mean_squared_error,mean_absolute_error,r2_score\n",
    "\n",
    "y_hat_test = mlr.predict(X_test)\n",
    "\n",
    "test_residuals = y_hat_test - y_test\n",
    "\n",
    "mse_test = mean_squared_error(y_test, y_hat_test)\n",
    "rmse_test = np.sqrt(mse_test)\n",
    "\n",
    "print('MAE:', mean_absolute_error(y_test, y_hat_test))\n",
    "print('Test Mean Squared Error:', mse_test)\n",
    "print('Root Mean Squared Error Test:', rmse_test)"
   ]
  },
  {
   "cell_type": "code",
   "execution_count": 19,
   "metadata": {
    "ExecuteTime": {
     "end_time": "2021-04-13T03:29:43.282956Z",
     "start_time": "2021-04-13T03:29:42.886137Z"
    }
   },
   "outputs": [
    {
     "data": {
      "image/png": "[encoded data removed]",
      "text/plain": [
       "<Figure size 432x288 with 1 Axes>"
      ]
     },
     "metadata": {
      "needs_background": "light"
     },
     "output_type": "display_data"
    }
   ],
   "source": [
    "import scipy.stats as stats\n",
    "residuals = model.resid\n",
    "fig = sm.graphics.qqplot(residuals, dist=stats.norm, line='45', fit=True)"
   ]
  },
  {
   "cell_type": "markdown",
   "metadata": {},
   "source": [
    "## KNeighbors Regression"
   ]
  },
  {
   "cell_type": "code",
   "execution_count": 20,
   "metadata": {
    "ExecuteTime": {
     "end_time": "2021-04-13T03:29:43.346166Z",
     "start_time": "2021-04-13T03:29:43.284966Z"
    }
   },
   "outputs": [],
   "source": [
    "from sklearn.neighbors import KNeighborsRegressor"
   ]
  },
  {
   "cell_type": "code",
   "execution_count": 21,
   "metadata": {
    "ExecuteTime": {
     "end_time": "2021-04-13T03:29:43.538803Z",
     "start_time": "2021-04-13T03:29:43.348174Z"
    }
   },
   "outputs": [
    {
     "data": {
      "text/plain": [
       "KNeighborsRegressor()"
      ]
     },
     "execution_count": 21,
     "metadata": {},
     "output_type": "execute_result"
    }
   ],
   "source": [
    "knn = KNeighborsRegressor()\n",
    "knn.fit(X_train,y_train)"
   ]
  },
  {
   "cell_type": "code",
   "execution_count": 22,
   "metadata": {
    "ExecuteTime": {
     "end_time": "2021-04-13T03:29:57.611394Z",
     "start_time": "2021-04-13T03:29:43.540811Z"
    },
    "scrolled": true
   },
   "outputs": [
    {
     "data": {
      "text/plain": [
       "[<matplotlib.lines.Line2D at 0x2471d1bf490>]"
      ]
     },
     "execution_count": 22,
     "metadata": {},
     "output_type": "execute_result"
    },
    {
     "data": {
      "image/png": "[encoded data removed]",
      "text/plain": [
       "<Figure size 504x360 with 1 Axes>"
      ]
     },
     "metadata": {
      "needs_background": "light"
     },
     "output_type": "display_data"
    }
   ],
   "source": [
    "n_neighbors = np.arange(1, 50, 1)\n",
    "scores = []\n",
    "for n in n_neighbors:\n",
    "    knn.set_params(n_neighbors=n)\n",
    "    knn.fit(X_train, y_train)\n",
    "    scores.append(knn.score(X_test, y_test))\n",
    "plt.figure(figsize=(7, 5))\n",
    "plt.title(\"Effect of Estimators\")\n",
    "plt.xlabel(\"Number of Neighbors K\")\n",
    "plt.ylabel(\"Score\")\n",
    "plt.plot(n_neighbors, scores)"
   ]
  },
  {
   "cell_type": "code",
   "execution_count": 23,
   "metadata": {
    "ExecuteTime": {
     "end_time": "2021-04-13T03:29:57.627446Z",
     "start_time": "2021-04-13T03:29:57.617416Z"
    }
   },
   "outputs": [
    {
     "name": "stdout",
     "output_type": "stream",
     "text": [
      "max accuracy is:  0.35839378926297905\n",
      "K value to achieve this result:  12\n"
     ]
    }
   ],
   "source": [
    "print(\"max accuracy is: \", max(scores))\n",
    "print(\"K value to achieve this result: \", n_neighbors[scores.index(max(scores))])"
   ]
  },
  {
   "cell_type": "code",
   "execution_count": 24,
   "metadata": {
    "ExecuteTime": {
     "end_time": "2021-04-13T03:29:57.875280Z",
     "start_time": "2021-04-13T03:29:57.634472Z"
    }
   },
   "outputs": [
    {
     "data": {
      "text/plain": [
       "KNeighborsRegressor(n_neighbors=19)"
      ]
     },
     "execution_count": 24,
     "metadata": {},
     "output_type": "execute_result"
    }
   ],
   "source": [
    "knn = KNeighborsRegressor(n_neighbors=19)\n",
    "knn.fit(X_train,y_train)"
   ]
  },
  {
   "cell_type": "code",
   "execution_count": 25,
   "metadata": {
    "ExecuteTime": {
     "end_time": "2021-04-13T03:29:58.018252Z",
     "start_time": "2021-04-13T03:29:57.878288Z"
    }
   },
   "outputs": [
    {
     "data": {
      "text/plain": [
       "'Accuracy: 34.91%'"
      ]
     },
     "execution_count": 25,
     "metadata": {},
     "output_type": "execute_result"
    }
   ],
   "source": [
    "accuracy = knn.score(X_test, y_test)\n",
    "'Accuracy: ' + str(np.round(accuracy*100, 2)) + '%'"
   ]
  },
  {
   "cell_type": "markdown",
   "metadata": {},
   "source": [
    "## Decision Tree"
   ]
  },
  {
   "cell_type": "code",
   "execution_count": 26,
   "metadata": {
    "ExecuteTime": {
     "end_time": "2021-04-13T03:30:44.614572Z",
     "start_time": "2021-04-13T03:30:44.584471Z"
    }
   },
   "outputs": [],
   "source": [
    "from sklearn.tree import DecisionTreeRegressor\n",
    "decision_tree = DecisionTreeRegressor()"
   ]
  },
  {
   "cell_type": "code",
   "execution_count": 27,
   "metadata": {
    "ExecuteTime": {
     "end_time": "2021-04-13T03:30:46.683582Z",
     "start_time": "2021-04-13T03:30:46.541611Z"
    }
   },
   "outputs": [
    {
     "data": {
      "text/plain": [
       "DecisionTreeRegressor()"
      ]
     },
     "execution_count": 27,
     "metadata": {},
     "output_type": "execute_result"
    }
   ],
   "source": [
    "decision_tree.fit(X_train,y_train)"
   ]
  },
  {
   "cell_type": "code",
   "execution_count": 28,
   "metadata": {
    "ExecuteTime": {
     "end_time": "2021-04-13T03:30:48.536730Z",
     "start_time": "2021-04-13T03:30:48.522683Z"
    }
   },
   "outputs": [
    {
     "data": {
      "text/plain": [
       "'Accuracy: 10.25%'"
      ]
     },
     "execution_count": 28,
     "metadata": {},
     "output_type": "execute_result"
    }
   ],
   "source": [
    "accuracy = decision_tree.score(X_test, y_test)\n",
    "'Accuracy: ' + str(np.round(accuracy*100, 2)) + '%'"
   ]
  },
  {
   "cell_type": "markdown",
   "metadata": {},
   "source": [
    "## Random Forest"
   ]
  },
  {
   "cell_type": "code",
   "execution_count": 29,
   "metadata": {
    "ExecuteTime": {
     "end_time": "2021-04-13T03:30:50.538892Z",
     "start_time": "2021-04-13T03:30:50.509290Z"
    }
   },
   "outputs": [],
   "source": [
    "from sklearn.ensemble import RandomForestRegressor"
   ]
  },
  {
   "cell_type": "code",
   "execution_count": 30,
   "metadata": {
    "ExecuteTime": {
     "end_time": "2021-04-13T03:33:09.894334Z",
     "start_time": "2021-04-13T03:30:52.548404Z"
    }
   },
   "outputs": [
    {
     "data": {
      "text/plain": [
       "[<matplotlib.lines.Line2D at 0x2471f9f2d60>]"
      ]
     },
     "execution_count": 30,
     "metadata": {},
     "output_type": "execute_result"
    },
    {
     "data": {
      "image/png": "[encoded data removed]",
      "text/plain": [
       "<Figure size 504x360 with 1 Axes>"
      ]
     },
     "metadata": {
      "needs_background": "light"
     },
     "output_type": "display_data"
    }
   ],
   "source": [
    "rf = RandomForestRegressor()\n",
    "estimators = np.arange(10, 200, 10)\n",
    "scores = []\n",
    "for n in estimators:\n",
    "    rf.set_params(n_estimators=n)\n",
    "    rf.fit(X_train, y_train)\n",
    "    scores.append(rf.score(X_test, y_test))\n",
    "plt.figure(figsize=(7, 5))\n",
    "plt.title(\"Effect of Estimators\")\n",
    "plt.xlabel(\"no. estimator\")\n",
    "plt.ylabel(\"score\")\n",
    "plt.plot(estimators, scores)"
   ]
  },
  {
   "cell_type": "code",
   "execution_count": 31,
   "metadata": {
    "ExecuteTime": {
     "end_time": "2021-04-13T03:33:11.663868Z",
     "start_time": "2021-04-13T03:33:11.651829Z"
    }
   },
   "outputs": [
    {
     "name": "stdout",
     "output_type": "stream",
     "text": [
      "max accuracy is:  0.451894157488384\n",
      "Estimators to achieve this result:  30\n"
     ]
    }
   ],
   "source": [
    "print(\"max accuracy is: \", max(scores))\n",
    "print(\"Estimators to achieve this result: \", estimators[scores.index(max(scores))])"
   ]
  },
  {
   "cell_type": "markdown",
   "metadata": {},
   "source": [
    "# Outliers"
   ]
  },
  {
   "cell_type": "code",
   "execution_count": null,
   "metadata": {
    "ExecuteTime": {
     "end_time": "2021-04-13T00:08:36.965102Z",
     "start_time": "2021-04-13T00:08:36.951057Z"
    }
   },
   "outputs": [],
   "source": [
    "model_df = df.copy()"
   ]
  },
  {
   "cell_type": "code",
   "execution_count": null,
   "metadata": {
    "ExecuteTime": {
     "end_time": "2021-04-13T00:08:38.494042Z",
     "start_time": "2021-04-13T00:08:38.482003Z"
    }
   },
   "outputs": [],
   "source": [
    "from numpy import mean\n",
    "from numpy import std"
   ]
  },
  {
   "cell_type": "code",
   "execution_count": null,
   "metadata": {
    "ExecuteTime": {
     "end_time": "2021-04-13T00:08:40.156276Z",
     "start_time": "2021-04-13T00:08:39.967493Z"
    }
   },
   "outputs": [],
   "source": [
    "sns.boxplot(x=model_df['Reviews'])"
   ]
  },
  {
   "cell_type": "code",
   "execution_count": null,
   "metadata": {
    "ExecuteTime": {
     "end_time": "2021-04-13T00:08:41.619635Z",
     "start_time": "2021-04-13T00:08:41.608599Z"
    }
   },
   "outputs": [],
   "source": [
    "def outliers(col, df):\n",
    "    mean = df[col].mean()\n",
    "    std = df[col].std()\n",
    "    cut_off = std * 3\n",
    "    lower = mean - cut_off\n",
    "    upper = mean + cut_off\n",
    "    outliers = [x for x in df[col] if x < lower or x > upper]\n",
    "    return sorted(outliers)"
   ]
  },
  {
   "cell_type": "code",
   "execution_count": null,
   "metadata": {
    "ExecuteTime": {
     "end_time": "2021-04-13T00:08:43.118687Z",
     "start_time": "2021-04-13T00:08:43.091597Z"
    },
    "scrolled": true
   },
   "outputs": [],
   "source": [
    "outliers('Reviews', model_df)"
   ]
  },
  {
   "cell_type": "code",
   "execution_count": null,
   "metadata": {
    "ExecuteTime": {
     "end_time": "2021-04-13T00:08:56.671186Z",
     "start_time": "2021-04-13T00:08:56.597512Z"
    }
   },
   "outputs": [],
   "source": [
    "model_out = model_df[(model_df['Reviews'] <= 5783441.0) & (model_df['Reviews'] > 10)]\n",
    "model_out.reset_index(drop=True)"
   ]
  },
  {
   "cell_type": "code",
   "execution_count": null,
   "metadata": {
    "ExecuteTime": {
     "end_time": "2021-04-13T00:09:49.432767Z",
     "start_time": "2021-04-13T00:09:49.266713Z"
    },
    "scrolled": true
   },
   "outputs": [],
   "source": [
    "sns.boxplot(x=model_df['Installs'])"
   ]
  },
  {
   "cell_type": "code",
   "execution_count": null,
   "metadata": {
    "ExecuteTime": {
     "end_time": "2021-04-13T00:09:51.039707Z",
     "start_time": "2021-04-13T00:09:51.009608Z"
    },
    "scrolled": true
   },
   "outputs": [],
   "source": [
    "outliers('Installs', model_out)"
   ]
  },
  {
   "cell_type": "code",
   "execution_count": null,
   "metadata": {
    "ExecuteTime": {
     "end_time": "2021-04-13T00:10:11.158821Z",
     "start_time": "2021-04-13T00:10:11.085579Z"
    },
    "scrolled": true
   },
   "outputs": [],
   "source": [
    "model_out = model_out[(model_out['Installs'] < 500000000) & (model_out['Installs'] >= 10)]\n",
    "model_out.reset_index(drop=True)"
   ]
  },
  {
   "cell_type": "code",
   "execution_count": null,
   "metadata": {
    "ExecuteTime": {
     "end_time": "2021-04-13T00:10:17.028042Z",
     "start_time": "2021-04-13T00:10:16.852463Z"
    }
   },
   "outputs": [],
   "source": [
    "sns.boxplot(x=model_out['Installs'])"
   ]
  },
  {
   "cell_type": "code",
   "execution_count": null,
   "metadata": {
    "ExecuteTime": {
     "end_time": "2021-04-13T00:10:19.225924Z",
     "start_time": "2021-04-13T00:10:19.077125Z"
    }
   },
   "outputs": [],
   "source": [
    "sns.boxplot(x=model_out['Size'])"
   ]
  },
  {
   "cell_type": "code",
   "execution_count": null,
   "metadata": {
    "ExecuteTime": {
     "end_time": "2021-04-13T00:10:22.409209Z",
     "start_time": "2021-04-13T00:10:22.389145Z"
    },
    "scrolled": true
   },
   "outputs": [],
   "source": [
    "outliers('Size', model_out)"
   ]
  },
  {
   "cell_type": "code",
   "execution_count": null,
   "metadata": {
    "ExecuteTime": {
     "end_time": "2021-04-13T00:10:29.227972Z",
     "start_time": "2021-04-13T00:10:29.157743Z"
    }
   },
   "outputs": [],
   "source": [
    "model_out = model_out[(model_out['Size'] < 120)]\n",
    "model_out.reset_index(drop=True)"
   ]
  },
  {
   "cell_type": "code",
   "execution_count": null,
   "metadata": {
    "ExecuteTime": {
     "end_time": "2021-04-13T00:10:34.018851Z",
     "start_time": "2021-04-13T00:10:33.856316Z"
    }
   },
   "outputs": [],
   "source": [
    "sns.boxplot(x=model_out['Rating'])"
   ]
  },
  {
   "cell_type": "markdown",
   "metadata": {},
   "source": [
    "The median looks to be around 4.3. Anything beyond 3.3 and 5 are outliers. We will use these as our markers."
   ]
  },
  {
   "cell_type": "code",
   "execution_count": null,
   "metadata": {
    "ExecuteTime": {
     "end_time": "2021-04-13T00:10:58.409850Z",
     "start_time": "2021-04-13T00:10:58.347645Z"
    }
   },
   "outputs": [],
   "source": [
    "model_out = model_out[(model_out['Rating'] > 3)]\n",
    "model_out.reset_index(drop=True)"
   ]
  },
  {
   "cell_type": "code",
   "execution_count": null,
   "metadata": {
    "ExecuteTime": {
     "end_time": "2021-04-13T00:11:02.676125Z",
     "start_time": "2021-04-13T00:11:02.409730Z"
    },
    "scrolled": true
   },
   "outputs": [],
   "source": [
    "model_out.describe()"
   ]
  },
  {
   "cell_type": "code",
   "execution_count": null,
   "metadata": {
    "ExecuteTime": {
     "end_time": "2021-04-13T00:11:31.277749Z",
     "start_time": "2021-04-13T00:11:31.253924Z"
    },
    "scrolled": true
   },
   "outputs": [],
   "source": [
    "model_out.info()"
   ]
  },
  {
   "cell_type": "markdown",
   "metadata": {},
   "source": [
    "# Model - Outliers Fixed"
   ]
  },
  {
   "cell_type": "code",
   "execution_count": null,
   "metadata": {
    "ExecuteTime": {
     "end_time": "2021-04-13T00:11:38.521677Z",
     "start_time": "2021-04-13T00:11:38.336085Z"
    }
   },
   "outputs": [],
   "source": [
    "outcome = 'Installs'\n",
    "predictors = model_out.drop(labels=['Installs'], axis=1)\n",
    "pred_sum = '+'.join(predictors.columns)\n",
    "f = outcome + '~' + pred_sum\n",
    "model = ols(f, model_out).fit()\n",
    "# print(f'List of predictors: {pred_sum}')\n",
    "# display(model.summary())"
   ]
  },
  {
   "cell_type": "code",
   "execution_count": null,
   "metadata": {
    "ExecuteTime": {
     "end_time": "2021-04-13T00:11:47.626193Z",
     "start_time": "2021-04-13T00:11:47.607132Z"
    }
   },
   "outputs": [],
   "source": [
    "y = model_out['Installs']\n",
    "X = model_out.drop(labels=['Installs'], axis=1)"
   ]
  },
  {
   "cell_type": "code",
   "execution_count": null,
   "metadata": {
    "ExecuteTime": {
     "end_time": "2021-04-13T00:11:49.322787Z",
     "start_time": "2021-04-13T00:11:49.310747Z"
    }
   },
   "outputs": [],
   "source": [
    "X_train, X_test, y_train, y_test = train_test_split(X, y, test_size=.25, random_state=42)"
   ]
  },
  {
   "cell_type": "code",
   "execution_count": null,
   "metadata": {
    "ExecuteTime": {
     "end_time": "2021-04-13T00:11:51.108131Z",
     "start_time": "2021-04-13T00:11:51.062984Z"
    }
   },
   "outputs": [],
   "source": [
    "linreg = LinearRegression()\n",
    "linreg.fit(X_train, y_train)\n",
    "accuracy = linreg.score(X_test, y_test)\n",
    "'Accuracy: ' + str(np.round(accuracy*100, 2)) + '%'"
   ]
  },
  {
   "cell_type": "code",
   "execution_count": null,
   "metadata": {
    "ExecuteTime": {
     "end_time": "2021-04-13T00:11:56.027712Z",
     "start_time": "2021-04-13T00:11:55.776229Z"
    }
   },
   "outputs": [],
   "source": [
    "residuals = model.resid\n",
    "fig = sm.graphics.qqplot(residuals, dist=stats.norm, line='45', fit=True)"
   ]
  },
  {
   "cell_type": "markdown",
   "metadata": {},
   "source": [
    "## KNeighbors Regression"
   ]
  },
  {
   "cell_type": "code",
   "execution_count": null,
   "metadata": {
    "ExecuteTime": {
     "end_time": "2021-04-12T23:33:59.454042Z",
     "start_time": "2021-04-12T23:33:56.530343Z"
    },
    "scrolled": true
   },
   "outputs": [],
   "source": [
    "n_neighbors = np.arange(1, 100, 10)\n",
    "scores = []\n",
    "for n in n_neighbors:\n",
    "    knn.set_params(n_neighbors=n)\n",
    "    knn.fit(X_train, y_train)\n",
    "    scores.append(knn.score(X_test, y_test))\n",
    "plt.figure(figsize=(7, 5))\n",
    "plt.title(\"Effect of Estimators\")\n",
    "plt.xlabel(\"Number of Neighbors K\")\n",
    "plt.ylabel(\"Score\")\n",
    "plt.plot(n_neighbors, scores)"
   ]
  },
  {
   "cell_type": "code",
   "execution_count": null,
   "metadata": {
    "ExecuteTime": {
     "end_time": "2021-04-12T23:33:59.470096Z",
     "start_time": "2021-04-12T23:33:59.456050Z"
    }
   },
   "outputs": [],
   "source": [
    "print(\"max accuracy is: \", max(scores))\n",
    "print(\"K value to achieve this result: \", n_neighbors[scores.index(max(scores))])"
   ]
  },
  {
   "cell_type": "code",
   "execution_count": null,
   "metadata": {
    "ExecuteTime": {
     "end_time": "2021-04-12T23:33:59.806218Z",
     "start_time": "2021-04-12T23:33:59.472104Z"
    }
   },
   "outputs": [],
   "source": [
    "from sklearn.neighbors import KNeighborsRegressor\n",
    "knn = KNeighborsRegressor(n_neighbors=70)\n",
    "knn.fit(X_train,y_train)\n",
    "accuracy = knn.score(X_test, y_test)\n",
    "'Accuracy: ' + str(np.round(accuracy*100, 2)) + '%'"
   ]
  },
  {
   "cell_type": "markdown",
   "metadata": {},
   "source": [
    "## Decision Tree"
   ]
  },
  {
   "cell_type": "code",
   "execution_count": null,
   "metadata": {
    "ExecuteTime": {
     "end_time": "2021-04-12T23:33:59.917097Z",
     "start_time": "2021-04-12T23:33:59.808225Z"
    }
   },
   "outputs": [],
   "source": [
    "from sklearn.tree import DecisionTreeRegressor\n",
    "decision_tree = DecisionTreeRegressor()\n",
    "decision_tree.fit(X_train,y_train)"
   ]
  },
  {
   "cell_type": "code",
   "execution_count": null,
   "metadata": {
    "ExecuteTime": {
     "end_time": "2021-04-12T23:33:59.933149Z",
     "start_time": "2021-04-12T23:33:59.920107Z"
    }
   },
   "outputs": [],
   "source": [
    "accuracy = decision_tree.score(X_test, y_test)\n",
    "'Accuracy: ' + str(np.round(accuracy*100, 2)) + '%'"
   ]
  },
  {
   "cell_type": "markdown",
   "metadata": {},
   "source": [
    "# Random Forest"
   ]
  },
  {
   "cell_type": "code",
   "execution_count": null,
   "metadata": {
    "ExecuteTime": {
     "end_time": "2021-04-12T23:34:56.424709Z",
     "start_time": "2021-04-12T23:33:59.935156Z"
    }
   },
   "outputs": [],
   "source": [
    "from sklearn.ensemble import RandomForestRegressor\n",
    "rf = RandomForestRegressor()\n",
    "estimators = np.arange(10, 150, 10)\n",
    "scores = []\n",
    "for n in estimators:\n",
    "    rf.set_params(n_estimators=n)\n",
    "    rf.fit(X_train, y_train)\n",
    "    scores.append(rf.score(X_test, y_test))\n",
    "plt.figure(figsize=(7, 5))\n",
    "plt.title(\"Effect of Estimators\")\n",
    "plt.xlabel(\"no. estimator\")\n",
    "plt.ylabel(\"score\")\n",
    "plt.plot(estimators, scores)"
   ]
  },
  {
   "cell_type": "code",
   "execution_count": null,
   "metadata": {
    "ExecuteTime": {
     "end_time": "2021-04-12T23:34:56.440764Z",
     "start_time": "2021-04-12T23:34:56.427720Z"
    }
   },
   "outputs": [],
   "source": [
    "print(\"max accuracy is: \", max(scores))\n",
    "print(\"Estimators to achieve this result: \", estimators[scores.index(max(scores))])"
   ]
  },
  {
   "cell_type": "markdown",
   "metadata": {},
   "source": [
    "# Transform"
   ]
  },
  {
   "cell_type": "code",
   "execution_count": null,
   "metadata": {
    "ExecuteTime": {
     "end_time": "2021-04-13T00:12:12.695116Z",
     "start_time": "2021-04-13T00:12:12.691103Z"
    }
   },
   "outputs": [],
   "source": [
    "df_log = model_out.copy()"
   ]
  },
  {
   "cell_type": "code",
   "execution_count": null,
   "metadata": {
    "ExecuteTime": {
     "end_time": "2021-04-13T00:12:14.773577Z",
     "start_time": "2021-04-13T00:12:14.697327Z"
    }
   },
   "outputs": [],
   "source": [
    "df_log"
   ]
  },
  {
   "cell_type": "code",
   "execution_count": null,
   "metadata": {
    "ExecuteTime": {
     "end_time": "2021-04-13T00:12:18.168537Z",
     "start_time": "2021-04-13T00:12:17.148667Z"
    }
   },
   "outputs": [],
   "source": [
    "df_log[['Rating', 'Reviews', 'Size', 'Installs']].hist(figsize=(15,12));"
   ]
  },
  {
   "cell_type": "markdown",
   "metadata": {},
   "source": [
    "All the continuous variable are very skewed. Major outliers with Reviews and Installs. "
   ]
  },
  {
   "cell_type": "code",
   "execution_count": null,
   "metadata": {
    "ExecuteTime": {
     "end_time": "2021-04-13T00:12:40.264128Z",
     "start_time": "2021-04-13T00:12:38.493198Z"
    }
   },
   "outputs": [],
   "source": [
    "df_log['log_Rating'] = np.log(df_log['Rating'])\n",
    "df_log[['Rating', 'log_Rating']].hist(figsize=(12,5));\n",
    "\n",
    "df_log['log_Reviews'] = np.log(df_log['Reviews'])\n",
    "df_log[['Reviews', 'log_Reviews']].hist(figsize=(12,5));\n",
    "\n",
    "df_log['log_Size'] = np.log(df_log['Size'])\n",
    "df_log[['Size', 'log_Size']].hist(figsize=(12,5));\n",
    "\n",
    "df_log['log_Installs'] = np.log(df_log['Installs'])\n",
    "df_log[['Installs', 'log_Installs']].hist(figsize=(12,5));"
   ]
  },
  {
   "cell_type": "code",
   "execution_count": null,
   "metadata": {
    "ExecuteTime": {
     "end_time": "2021-04-13T00:12:44.561953Z",
     "start_time": "2021-04-13T00:12:44.551922Z"
    }
   },
   "outputs": [],
   "source": [
    "def normalize(feature):\n",
    "    return round((feature - feature.mean()) / feature.std(), 4)"
   ]
  },
  {
   "cell_type": "code",
   "execution_count": null,
   "metadata": {
    "ExecuteTime": {
     "end_time": "2021-04-13T00:13:00.019342Z",
     "start_time": "2021-04-13T00:13:00.008306Z"
    }
   },
   "outputs": [],
   "source": [
    "# df_log_norm = df_log[['log_Rating']]\n",
    "df_log_norm = df_log[['log_Rating', 'log_Installs', 'log_Size', 'log_Reviews']]"
   ]
  },
  {
   "cell_type": "code",
   "execution_count": null,
   "metadata": {
    "ExecuteTime": {
     "end_time": "2021-04-13T00:13:02.935969Z",
     "start_time": "2021-04-13T00:13:02.082244Z"
    }
   },
   "outputs": [],
   "source": [
    "df_log_norm = df_log_norm.apply(normalize)\n",
    "df_log_norm.hist(figsize=(10,10));"
   ]
  },
  {
   "cell_type": "code",
   "execution_count": null,
   "metadata": {
    "ExecuteTime": {
     "end_time": "2021-04-13T00:13:04.928145Z",
     "start_time": "2021-04-13T00:13:04.915103Z"
    }
   },
   "outputs": [],
   "source": [
    "df_log['Rating'] = df_log_norm['log_Rating']\n",
    "df_log['log_Installs'] = df_log_norm['log_Installs']\n",
    "df_log['log_Size'] = df_log_norm['log_Size']\n",
    "df_log['log_Reviews'] = df_log_norm['log_Reviews']"
   ]
  },
  {
   "cell_type": "code",
   "execution_count": null,
   "metadata": {
    "ExecuteTime": {
     "end_time": "2021-04-13T00:13:06.933035Z",
     "start_time": "2021-04-13T00:13:06.903939Z"
    },
    "scrolled": true
   },
   "outputs": [],
   "source": [
    "df_log.info()"
   ]
  },
  {
   "cell_type": "code",
   "execution_count": null,
   "metadata": {
    "ExecuteTime": {
     "end_time": "2021-04-13T00:13:09.574559Z",
     "start_time": "2021-04-13T00:13:09.569544Z"
    },
    "scrolled": true
   },
   "outputs": [],
   "source": [
    "df_log = df_log.drop(['Rating', 'Reviews', 'Installs', 'Size'], axis=1)"
   ]
  },
  {
   "cell_type": "markdown",
   "metadata": {},
   "source": [
    "# Model - Variables Transformed"
   ]
  },
  {
   "cell_type": "markdown",
   "metadata": {},
   "source": [
    "## Linear Regression"
   ]
  },
  {
   "cell_type": "code",
   "execution_count": null,
   "metadata": {
    "ExecuteTime": {
     "end_time": "2021-04-13T00:13:13.276150Z",
     "start_time": "2021-04-13T00:13:13.265116Z"
    }
   },
   "outputs": [],
   "source": [
    "y = df_log['log_Installs']\n",
    "X = df_log.drop(['log_Installs'], axis =1)"
   ]
  },
  {
   "cell_type": "code",
   "execution_count": null,
   "metadata": {
    "ExecuteTime": {
     "end_time": "2021-04-13T00:13:15.308956Z",
     "start_time": "2021-04-13T00:13:15.250766Z"
    }
   },
   "outputs": [],
   "source": [
    "X.head()"
   ]
  },
  {
   "cell_type": "code",
   "execution_count": null,
   "metadata": {
    "ExecuteTime": {
     "end_time": "2021-04-13T00:13:23.692352Z",
     "start_time": "2021-04-13T00:13:23.682322Z"
    }
   },
   "outputs": [],
   "source": [
    "X_train, X_test, y_train, y_test = train_test_split(X, y, test_size=.25, random_state=42)"
   ]
  },
  {
   "cell_type": "code",
   "execution_count": null,
   "metadata": {
    "ExecuteTime": {
     "end_time": "2021-04-13T00:20:30.218639Z",
     "start_time": "2021-04-13T00:20:29.959697Z"
    }
   },
   "outputs": [],
   "source": [
    "outcome = 'log_Installs'\n",
    "predictors = df_log.drop(labels=['log_Installs'], axis=1)\n",
    "pred_sum = '+'.join(predictors.columns)\n",
    "f = outcome + '~' + pred_sum\n",
    "model = ols(f, df_log).fit()\n",
    "print(f'List of predictors: {pred_sum}')\n",
    "display(model.summary())"
   ]
  },
  {
   "cell_type": "code",
   "execution_count": null,
   "metadata": {
    "ExecuteTime": {
     "end_time": "2021-04-13T00:13:25.736094Z",
     "start_time": "2021-04-13T00:13:25.692952Z"
    }
   },
   "outputs": [],
   "source": [
    "linreg = LinearRegression()\n",
    "linreg.fit(X_train, y_train)\n",
    "accuracy = linreg.score(X_test, y_test)\n",
    "'Accuracy: ' + str(np.round(accuracy*100, 2)) + '%'"
   ]
  },
  {
   "cell_type": "code",
   "execution_count": null,
   "metadata": {
    "ExecuteTime": {
     "end_time": "2021-04-13T00:22:16.095139Z",
     "start_time": "2021-04-13T00:22:15.867390Z"
    }
   },
   "outputs": [],
   "source": [
    "residuals = model.resid\n",
    "fig = sm.graphics.qqplot(residuals, dist=stats.norm, line='45', fit=True)"
   ]
  },
  {
   "cell_type": "markdown",
   "metadata": {},
   "source": [
    "## KNeighbors Regression"
   ]
  },
  {
   "cell_type": "code",
   "execution_count": null,
   "metadata": {
    "ExecuteTime": {
     "end_time": "2021-04-13T00:14:43.935898Z",
     "start_time": "2021-04-13T00:14:43.801952Z"
    }
   },
   "outputs": [],
   "source": [
    "knn = KNeighborsRegressor()\n",
    "knn.fit(X_train,y_train)"
   ]
  },
  {
   "cell_type": "code",
   "execution_count": null,
   "metadata": {
    "ExecuteTime": {
     "end_time": "2021-04-13T00:14:53.093700Z",
     "start_time": "2021-04-13T00:14:45.833428Z"
    },
    "scrolled": true
   },
   "outputs": [],
   "source": [
    "n_neighbors = np.arange(20, 300, 10)\n",
    "scores = []\n",
    "for n in n_neighbors:\n",
    "    knn.set_params(n_neighbors=n)\n",
    "    knn.fit(X_train, y_train)\n",
    "    scores.append(knn.score(X_test, y_test))\n",
    "plt.figure(figsize=(7, 5))\n",
    "plt.title(\"Effect of Estimators\")\n",
    "plt.xlabel(\"Number of Neighbors K\")\n",
    "plt.ylabel(\"Score\")\n",
    "plt.plot(n_neighbors, scores)"
   ]
  },
  {
   "cell_type": "code",
   "execution_count": null,
   "metadata": {
    "ExecuteTime": {
     "end_time": "2021-04-13T00:14:58.091943Z",
     "start_time": "2021-04-13T00:14:58.072883Z"
    }
   },
   "outputs": [],
   "source": [
    "print(\"max accuracy is: \", max(scores))\n",
    "print(\"K value to achieve this result: \", n_neighbors[scores.index(max(scores))])"
   ]
  },
  {
   "cell_type": "code",
   "execution_count": null,
   "metadata": {
    "ExecuteTime": {
     "end_time": "2021-04-13T00:15:09.009792Z",
     "start_time": "2021-04-13T00:15:08.832706Z"
    }
   },
   "outputs": [],
   "source": [
    "from sklearn.neighbors import KNeighborsRegressor\n",
    "knn = KNeighborsRegressor(n_neighbors=20)\n",
    "knn.fit(X_train,y_train)\n",
    "accuracy = knn.score(X_test, y_test)\n",
    "'Accuracy: ' + str(np.round(accuracy*100, 2)) + '%'"
   ]
  },
  {
   "cell_type": "markdown",
   "metadata": {},
   "source": [
    "## Decision Tree"
   ]
  },
  {
   "cell_type": "code",
   "execution_count": null,
   "metadata": {
    "ExecuteTime": {
     "end_time": "2021-04-13T00:15:24.468626Z",
     "start_time": "2021-04-13T00:15:24.395384Z"
    }
   },
   "outputs": [],
   "source": [
    "from sklearn.tree import DecisionTreeRegressor\n",
    "decision_tree = DecisionTreeRegressor()\n",
    "decision_tree.fit(X_train,y_train)"
   ]
  },
  {
   "cell_type": "code",
   "execution_count": null,
   "metadata": {
    "ExecuteTime": {
     "end_time": "2021-04-13T00:15:26.427058Z",
     "start_time": "2021-04-13T00:15:26.414016Z"
    }
   },
   "outputs": [],
   "source": [
    "accuracy = decision_tree.score(X_test, y_test)\n",
    "'Accuracy: ' + str(np.round(accuracy*100, 2)) + '%'"
   ]
  },
  {
   "cell_type": "markdown",
   "metadata": {},
   "source": [
    "# Random Forest"
   ]
  },
  {
   "cell_type": "code",
   "execution_count": null,
   "metadata": {
    "ExecuteTime": {
     "end_time": "2021-04-13T00:16:14.813990Z",
     "start_time": "2021-04-13T00:15:30.666662Z"
    }
   },
   "outputs": [],
   "source": [
    "from sklearn.ensemble import RandomForestRegressor\n",
    "rf = RandomForestRegressor()\n",
    "estimators = np.arange(10, 150, 10)\n",
    "scores = []\n",
    "for n in estimators:\n",
    "    rf.set_params(n_estimators=n)\n",
    "    rf.fit(X_train, y_train)\n",
    "    scores.append(rf.score(X_test, y_test))\n",
    "plt.figure(figsize=(7, 5))\n",
    "plt.title(\"Effect of Estimators\")\n",
    "plt.xlabel(\"no. estimator\")\n",
    "plt.ylabel(\"score\")\n",
    "plt.plot(estimators, scores)"
   ]
  },
  {
   "cell_type": "code",
   "execution_count": null,
   "metadata": {
    "ExecuteTime": {
     "end_time": "2021-04-13T00:16:16.815062Z",
     "start_time": "2021-04-13T00:16:16.801011Z"
    }
   },
   "outputs": [],
   "source": [
    "print(\"max accuracy is: \", max(scores))\n",
    "print(\"Estimators to achieve this result: \", estimators[scores.index(max(scores))])"
   ]
  }
 ],
 "metadata": {
  "kernelspec": {
   "display_name": "Python 3",
   "language": "python",
   "name": "python3"
  },
  "language_info": {
   "codemirror_mode": {
    "name": "ipython",
    "version": 3
   },
   "file_extension": ".py",
   "mimetype": "text/x-python",
   "name": "python",
   "nbconvert_exporter": "python",
   "pygments_lexer": "ipython3",
   "version": "3.8.5"
  },
  "toc": {
   "base_numbering": 1,
   "nav_menu": {},
   "number_sections": true,
   "sideBar": true,
   "skip_h1_title": false,
   "title_cell": "Table of Contents",
   "title_sidebar": "Contents",
   "toc_cell": false,
   "toc_position": {
    "height": "calc(100% - 180px)",
    "left": "10px",
    "top": "150px",
    "width": "380.391px"
   },
   "toc_section_display": true,
   "toc_window_display": false
  },
  "varInspector": {
   "cols": {
    "lenName": 16,
    "lenType": 16,
    "lenVar": 40
   },
   "kernels_config": {
    "python": {
     "delete_cmd_postfix": "",
     "delete_cmd_prefix": "del ",
     "library": "var_list.py",
     "varRefreshCmd": "print(var_dic_list())"
    },
    "r": {
     "delete_cmd_postfix": ") ",
     "delete_cmd_prefix": "rm(",
     "library": "var_list.r",
     "varRefreshCmd": "cat(var_dic_list()) "
    }
   },
   "types_to_exclude": [
    "module",
    "function",
    "builtin_function_or_method",
    "instance",
    "_Feature"
   ],
   "window_display": false
  }
 },
 "nbformat": 4,
 "nbformat_minor": 4
}
