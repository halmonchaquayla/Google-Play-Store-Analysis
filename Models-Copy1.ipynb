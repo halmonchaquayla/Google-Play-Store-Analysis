{
 "cells": [
  {
   "cell_type": "markdown",
   "metadata": {},
   "source": [
    "# Import"
   ]
  },
  {
   "cell_type": "code",
   "execution_count": 1,
   "metadata": {
    "ExecuteTime": {
     "end_time": "2021-04-09T03:38:38.803583Z",
     "start_time": "2021-04-09T03:38:36.788632Z"
    }
   },
   "outputs": [],
   "source": [
    "import pandas as pd\n",
    "import numpy as np\n",
    "import seaborn as sns\n",
    "import matplotlib.pyplot as plt\n",
    "%matplotlib inline\n",
    "\n",
    "import statsmodels.api as sm\n",
    "from statsmodels.formula.api import ols\n",
    "\n",
    "pd.set_option('display.max_columns', 500)"
   ]
  },
  {
   "cell_type": "code",
   "execution_count": 2,
   "metadata": {
    "ExecuteTime": {
     "end_time": "2021-04-09T03:38:38.915956Z",
     "start_time": "2021-04-09T03:38:38.869804Z"
    }
   },
   "outputs": [],
   "source": [
    "df = pd.read_csv('data/clean_data.csv')"
   ]
  },
  {
   "cell_type": "code",
   "execution_count": 3,
   "metadata": {
    "ExecuteTime": {
     "end_time": "2021-04-09T03:38:39.059742Z",
     "start_time": "2021-04-09T03:38:39.046699Z"
    }
   },
   "outputs": [
    {
     "name": "stdout",
     "output_type": "stream",
     "text": [
      "<class 'pandas.core.frame.DataFrame'>\n",
      "RangeIndex: 10351 entries, 0 to 10350\n",
      "Data columns (total 12 columns):\n",
      " #   Column          Non-Null Count  Dtype  \n",
      "---  ------          --------------  -----  \n",
      " 0   Unnamed: 0      10351 non-null  int64  \n",
      " 1   App             10351 non-null  object \n",
      " 2   Category        10351 non-null  object \n",
      " 3   Rating          10351 non-null  float64\n",
      " 4   Reviews         10351 non-null  float64\n",
      " 5   Size            10351 non-null  float64\n",
      " 6   Installs        10351 non-null  int64  \n",
      " 7   Price           10351 non-null  float64\n",
      " 8   Content Rating  10351 non-null  object \n",
      " 9   Genres          10351 non-null  object \n",
      " 10  Month           10351 non-null  int64  \n",
      " 11  is_free         10351 non-null  int64  \n",
      "dtypes: float64(4), int64(4), object(4)\n",
      "memory usage: 970.5+ KB\n"
     ]
    }
   ],
   "source": [
    "df.info()"
   ]
  },
  {
   "cell_type": "code",
   "execution_count": 5,
   "metadata": {
    "ExecuteTime": {
     "end_time": "2021-04-09T03:38:49.185478Z",
     "start_time": "2021-04-09T03:38:49.165413Z"
    }
   },
   "outputs": [
    {
     "data": {
      "text/plain": [
       "1362"
      ]
     },
     "execution_count": 5,
     "metadata": {},
     "output_type": "execute_result"
    }
   ],
   "source": [
    "df.App.duplicated().sum()"
   ]
  },
  {
   "cell_type": "code",
   "execution_count": null,
   "metadata": {
    "ExecuteTime": {
     "end_time": "2021-04-09T03:03:29.888855Z",
     "start_time": "2021-04-09T03:03:29.878824Z"
    }
   },
   "outputs": [],
   "source": [
    "df = df.drop_duplicates(subset=['App'], keep='first')"
   ]
  },
  {
   "cell_type": "code",
   "execution_count": null,
   "metadata": {
    "ExecuteTime": {
     "end_time": "2021-04-09T03:03:30.688018Z",
     "start_time": "2021-04-09T03:03:30.654928Z"
    }
   },
   "outputs": [],
   "source": [
    "df.drop(['Unnamed: 0'], axis=1, inplace=True)\n",
    "df.reset_index(drop=True)"
   ]
  },
  {
   "cell_type": "code",
   "execution_count": null,
   "metadata": {
    "ExecuteTime": {
     "end_time": "2021-04-08T19:22:10.457247Z",
     "start_time": "2021-04-08T19:22:10.443201Z"
    }
   },
   "outputs": [],
   "source": [
    "# fig, axes = plt.subplots(nrows=5, ncols=2, figsize=(16,15), sharey=True)\n",
    "\n",
    "# for ax, column in zip(axes.flatten(), df.columns):\n",
    "#     ax.scatter(df[column], df['Rating'] / 1_000_000, label=column, alpha=.1)\n",
    "#     ax.set_title(f'Rating vs {column}')\n",
    "#     ax.set_xlabel(column)\n",
    "#     ax.set_ylabel('Rating in $1,000,000')\n",
    "\n",
    "# fig.tight_layout()"
   ]
  },
  {
   "cell_type": "markdown",
   "metadata": {},
   "source": [
    "Clearly, the data needs a lot of preprocessing to improve the results. Here you can see the relationship between 'Rating' and the independent variables. We can see what variables are continuous(Reviews, Size, and Installs) and categorical(Category, Content Rating, and Month)."
   ]
  },
  {
   "cell_type": "code",
   "execution_count": null,
   "metadata": {
    "ExecuteTime": {
     "end_time": "2021-04-08T19:22:10.658914Z",
     "start_time": "2021-04-08T19:22:10.644869Z"
    }
   },
   "outputs": [],
   "source": [
    "# df['Month'] = df['Month'].astype('object')"
   ]
  },
  {
   "cell_type": "code",
   "execution_count": null,
   "metadata": {
    "ExecuteTime": {
     "end_time": "2021-04-08T19:22:10.922792Z",
     "start_time": "2021-04-08T19:22:10.895699Z"
    }
   },
   "outputs": [],
   "source": [
    "df.info()"
   ]
  },
  {
   "cell_type": "code",
   "execution_count": null,
   "metadata": {
    "ExecuteTime": {
     "end_time": "2021-04-08T19:22:14.075759Z",
     "start_time": "2021-04-08T19:22:12.309774Z"
    }
   },
   "outputs": [],
   "source": [
    "from sklearn import preprocessing\n",
    "le = preprocessing.LabelEncoder()\n",
    "df['Content Rating'] = le.fit_transform(df['Content Rating'])\n",
    "\n",
    "le = preprocessing.LabelEncoder()\n",
    "df['Genres'] = le.fit_transform(df['Genres'])\n",
    "\n",
    "le = preprocessing.LabelEncoder()\n",
    "df['App'] = le.fit_transform(df['App'])\n",
    "\n",
    "df = pd.concat([df, pd.get_dummies(df['Category'], prefix='cat')], axis=1)\n",
    "df = df.drop(columns=['cat_0'], axis=1)"
   ]
  },
  {
   "cell_type": "code",
   "execution_count": null,
   "metadata": {
    "ExecuteTime": {
     "end_time": "2021-04-08T19:22:14.528871Z",
     "start_time": "2021-04-08T19:22:14.511816Z"
    }
   },
   "outputs": [],
   "source": [
    "df.columns = df.columns.str.replace(' ', '_').str.replace('+','')"
   ]
  },
  {
   "cell_type": "markdown",
   "metadata": {},
   "source": [
    "# Linear Regression Model"
   ]
  },
  {
   "cell_type": "code",
   "execution_count": null,
   "metadata": {
    "ExecuteTime": {
     "end_time": "2021-04-08T19:22:17.394312Z",
     "start_time": "2021-04-08T19:22:17.383278Z"
    }
   },
   "outputs": [],
   "source": [
    "model_df = df.copy()"
   ]
  },
  {
   "cell_type": "code",
   "execution_count": null,
   "metadata": {
    "ExecuteTime": {
     "end_time": "2021-04-08T19:22:18.366849Z",
     "start_time": "2021-04-08T19:22:17.930814Z"
    }
   },
   "outputs": [],
   "source": [
    "outcome = 'Rating'\n",
    "predictors = model_df.drop(labels=['Rating','Category'], axis=1)\n",
    "pred_sum = '+'.join(predictors.columns)\n",
    "f = outcome + '~' + pred_sum\n",
    "model = ols(f, model_df).fit()\n",
    "print(f'List of predictors: {pred_sum}')\n",
    "display(model.summary())"
   ]
  },
  {
   "cell_type": "code",
   "execution_count": null,
   "metadata": {
    "ExecuteTime": {
     "end_time": "2021-04-08T19:23:19.335524Z",
     "start_time": "2021-04-08T19:23:19.329505Z"
    }
   },
   "outputs": [],
   "source": [
    "y = model_df['Rating']\n",
    "X = model_df.drop(labels=['Rating', 'Category'], axis=1)"
   ]
  },
  {
   "cell_type": "code",
   "execution_count": null,
   "metadata": {
    "ExecuteTime": {
     "end_time": "2021-04-08T19:23:20.806432Z",
     "start_time": "2021-04-08T19:23:20.234589Z"
    }
   },
   "outputs": [],
   "source": [
    "from sklearn.model_selection import train_test_split\n",
    "X_train, X_test, y_train, y_test = train_test_split(X, y, test_size=.25, random_state=42)"
   ]
  },
  {
   "cell_type": "code",
   "execution_count": null,
   "metadata": {
    "ExecuteTime": {
     "end_time": "2021-04-08T19:23:23.386980Z",
     "start_time": "2021-04-08T19:23:22.116119Z"
    }
   },
   "outputs": [],
   "source": [
    "from sklearn.linear_model import LinearRegression\n",
    "mlr = LinearRegression()\n",
    "mlr.fit(X_train,y_train)"
   ]
  },
  {
   "cell_type": "code",
   "execution_count": null,
   "metadata": {
    "ExecuteTime": {
     "end_time": "2021-04-08T19:23:24.595915Z",
     "start_time": "2021-04-08T19:23:24.566821Z"
    }
   },
   "outputs": [],
   "source": [
    "accuracy = mlr.score(X_test,y_test)\n",
    "'Accuracy: ' + str(np.round(accuracy*100, 2)) + '%'"
   ]
  },
  {
   "cell_type": "code",
   "execution_count": null,
   "metadata": {
    "ExecuteTime": {
     "end_time": "2021-04-08T19:23:29.438773Z",
     "start_time": "2021-04-08T19:23:29.407671Z"
    }
   },
   "outputs": [],
   "source": [
    "from sklearn import metrics\n",
    "from sklearn.metrics import accuracy_score, mean_squared_error,mean_absolute_error,r2_score\n",
    "\n",
    "y_hat_test = mlr.predict(X_test)\n",
    "\n",
    "test_residuals = y_hat_test - y_test\n",
    "\n",
    "mse_test = mean_squared_error(y_test, y_hat_test)\n",
    "rmse_test = np.sqrt(mse_test)\n",
    "\n",
    "print('MAE:', mean_absolute_error(y_test, y_hat_test))\n",
    "print('Test Mean Squared Error:', mse_test)\n",
    "print('Root Mean Squared Error Test:', rmse_test)"
   ]
  },
  {
   "cell_type": "markdown",
   "metadata": {},
   "source": [
    "## KNeighbors Regression"
   ]
  },
  {
   "cell_type": "code",
   "execution_count": null,
   "metadata": {
    "ExecuteTime": {
     "end_time": "2021-04-08T19:23:32.244734Z",
     "start_time": "2021-04-08T19:23:31.776161Z"
    }
   },
   "outputs": [],
   "source": [
    "from sklearn.neighbors import KNeighborsRegressor"
   ]
  },
  {
   "cell_type": "code",
   "execution_count": null,
   "metadata": {
    "ExecuteTime": {
     "end_time": "2021-04-08T19:23:33.547799Z",
     "start_time": "2021-04-08T19:23:33.409340Z"
    }
   },
   "outputs": [],
   "source": [
    "knn = KNeighborsRegressor()\n",
    "knn.fit(X_train,y_train)"
   ]
  },
  {
   "cell_type": "code",
   "execution_count": null,
   "metadata": {
    "ExecuteTime": {
     "end_time": "2021-04-08T19:23:47.680355Z",
     "start_time": "2021-04-08T19:23:34.732889Z"
    },
    "scrolled": true
   },
   "outputs": [],
   "source": [
    "n_neighbors = np.arange(1, 50, 1)\n",
    "scores = []\n",
    "for n in n_neighbors:\n",
    "    knn.set_params(n_neighbors=n)\n",
    "    knn.fit(X_train, y_train)\n",
    "    scores.append(knn.score(X_test, y_test))\n",
    "plt.figure(figsize=(7, 5))\n",
    "plt.title(\"Effect of Estimators\")\n",
    "plt.xlabel(\"Number of Neighbors K\")\n",
    "plt.ylabel(\"Score\")\n",
    "plt.plot(n_neighbors, scores)"
   ]
  },
  {
   "cell_type": "code",
   "execution_count": null,
   "metadata": {
    "ExecuteTime": {
     "end_time": "2021-04-08T19:23:55.797022Z",
     "start_time": "2021-04-08T19:23:55.788995Z"
    }
   },
   "outputs": [],
   "source": [
    "print(\"max accuracy is: \", max(scores))\n",
    "print(\"K value to achieve this result: \", n_neighbors[scores.index(max(scores))])"
   ]
  },
  {
   "cell_type": "code",
   "execution_count": null,
   "metadata": {
    "ExecuteTime": {
     "end_time": "2021-04-08T19:24:09.141402Z",
     "start_time": "2021-04-08T19:24:09.001332Z"
    }
   },
   "outputs": [],
   "source": [
    "knn = KNeighborsRegressor(n_neighbors=49)\n",
    "knn.fit(X_train,y_train)"
   ]
  },
  {
   "cell_type": "code",
   "execution_count": null,
   "metadata": {
    "ExecuteTime": {
     "end_time": "2021-04-08T19:24:10.598586Z",
     "start_time": "2021-04-08T19:24:10.413977Z"
    }
   },
   "outputs": [],
   "source": [
    "accuracy = knn.score(X_test, y_test)\n",
    "'Accuracy: ' + str(np.round(accuracy*100, 2)) + '%'"
   ]
  },
  {
   "cell_type": "markdown",
   "metadata": {},
   "source": [
    "## Decision Tree"
   ]
  },
  {
   "cell_type": "code",
   "execution_count": null,
   "metadata": {
    "ExecuteTime": {
     "end_time": "2021-04-08T19:24:14.721910Z",
     "start_time": "2021-04-08T19:24:14.404280Z"
    }
   },
   "outputs": [],
   "source": [
    "from sklearn.tree import DecisionTreeRegressor\n",
    "decision_tree = DecisionTreeRegressor()"
   ]
  },
  {
   "cell_type": "code",
   "execution_count": null,
   "metadata": {
    "ExecuteTime": {
     "end_time": "2021-04-08T19:24:16.126440Z",
     "start_time": "2021-04-08T19:24:15.956502Z"
    }
   },
   "outputs": [],
   "source": [
    "decision_tree.fit(X_train,y_train)"
   ]
  },
  {
   "cell_type": "code",
   "execution_count": null,
   "metadata": {
    "ExecuteTime": {
     "end_time": "2021-04-08T19:24:17.314920Z",
     "start_time": "2021-04-08T19:24:17.303885Z"
    }
   },
   "outputs": [],
   "source": [
    "accuracy = decision_tree.score(X_test, y_test)\n",
    "'Accuracy: ' + str(np.round(accuracy*100, 2)) + '%'"
   ]
  },
  {
   "cell_type": "markdown",
   "metadata": {},
   "source": [
    "## Random Forest"
   ]
  },
  {
   "cell_type": "code",
   "execution_count": null,
   "metadata": {
    "ExecuteTime": {
     "end_time": "2021-04-08T19:25:50.584958Z",
     "start_time": "2021-04-08T19:24:23.303331Z"
    }
   },
   "outputs": [],
   "source": [
    "from sklearn.ensemble import RandomForestRegressor\n",
    "rf = RandomForestRegressor()\n",
    "estimators = np.arange(10, 200, 10)\n",
    "scores = []\n",
    "for n in estimators:\n",
    "    rf.set_params(n_estimators=n)\n",
    "    rf.fit(X_train, y_train)\n",
    "    scores.append(rf.score(X_test, y_test))\n",
    "plt.figure(figsize=(7, 5))\n",
    "plt.title(\"Effect of Estimators\")\n",
    "plt.xlabel(\"no. estimator\")\n",
    "plt.ylabel(\"score\")\n",
    "plt.plot(estimators, scores)"
   ]
  },
  {
   "cell_type": "code",
   "execution_count": null,
   "metadata": {
    "ExecuteTime": {
     "end_time": "2021-04-07T19:20:18.603681Z",
     "start_time": "2021-04-07T19:20:18.589636Z"
    }
   },
   "outputs": [],
   "source": [
    "print(\"max accuracy is: \", max(scores))\n",
    "print(\"Estimators to achieve this result: \", estimators[scores.index(max(scores))])"
   ]
  },
  {
   "cell_type": "markdown",
   "metadata": {},
   "source": [
    "# Outliers"
   ]
  },
  {
   "cell_type": "code",
   "execution_count": null,
   "metadata": {
    "ExecuteTime": {
     "end_time": "2021-04-07T19:20:19.133434Z",
     "start_time": "2021-04-07T19:20:19.120392Z"
    }
   },
   "outputs": [],
   "source": [
    "model_df = df.copy()"
   ]
  },
  {
   "cell_type": "code",
   "execution_count": null,
   "metadata": {
    "ExecuteTime": {
     "end_time": "2021-04-07T19:20:19.678515Z",
     "start_time": "2021-04-07T19:20:19.664469Z"
    }
   },
   "outputs": [],
   "source": [
    "from numpy import mean\n",
    "from numpy import std"
   ]
  },
  {
   "cell_type": "code",
   "execution_count": null,
   "metadata": {
    "ExecuteTime": {
     "end_time": "2021-04-07T19:20:20.319637Z",
     "start_time": "2021-04-07T19:20:20.178169Z"
    }
   },
   "outputs": [],
   "source": [
    "sns.boxplot(x=model_df['Reviews'])"
   ]
  },
  {
   "cell_type": "code",
   "execution_count": null,
   "metadata": {
    "ExecuteTime": {
     "end_time": "2021-04-07T19:20:20.848824Z",
     "start_time": "2021-04-07T19:20:20.836348Z"
    }
   },
   "outputs": [],
   "source": [
    "def outliers(col, df):\n",
    "    mean = df[col].mean()\n",
    "    std = df[col].std()\n",
    "    cut_off = std * 3\n",
    "    lower = mean - cut_off\n",
    "    upper = mean + cut_off\n",
    "    outliers = [x for x in df[col] if x < lower or x > upper]\n",
    "    return sorted(outliers)"
   ]
  },
  {
   "cell_type": "code",
   "execution_count": null,
   "metadata": {
    "ExecuteTime": {
     "end_time": "2021-04-07T19:20:21.408674Z",
     "start_time": "2021-04-07T19:20:21.394628Z"
    },
    "scrolled": true
   },
   "outputs": [],
   "source": [
    "outliers('Reviews', model_df)"
   ]
  },
  {
   "cell_type": "code",
   "execution_count": null,
   "metadata": {
    "ExecuteTime": {
     "end_time": "2021-04-07T19:20:22.017689Z",
     "start_time": "2021-04-07T19:20:21.939430Z"
    }
   },
   "outputs": [],
   "source": [
    "model_out = model_df[(model_df['Reviews'] <= 2903386)]\n",
    "model_out.reset_index(drop=True)"
   ]
  },
  {
   "cell_type": "code",
   "execution_count": null,
   "metadata": {
    "ExecuteTime": {
     "end_time": "2021-04-07T19:20:22.788241Z",
     "start_time": "2021-04-07T19:20:22.614666Z"
    },
    "scrolled": true
   },
   "outputs": [],
   "source": [
    "sns.boxplot(x=model_df['Installs'])"
   ]
  },
  {
   "cell_type": "code",
   "execution_count": null,
   "metadata": {
    "ExecuteTime": {
     "end_time": "2021-04-07T19:20:23.398258Z",
     "start_time": "2021-04-07T19:20:23.368161Z"
    },
    "scrolled": true
   },
   "outputs": [],
   "source": [
    "outliers('Installs', model_out)"
   ]
  },
  {
   "cell_type": "code",
   "execution_count": null,
   "metadata": {
    "ExecuteTime": {
     "end_time": "2021-04-07T19:27:06.113178Z",
     "start_time": "2021-04-07T19:27:06.051976Z"
    }
   },
   "outputs": [],
   "source": [
    "model_out = model_out[(model_out['Installs'] < 100000000) & (model_out['Installs'] >= 10)]\n",
    "model_out.reset_index(drop=True)"
   ]
  },
  {
   "cell_type": "code",
   "execution_count": null,
   "metadata": {
    "ExecuteTime": {
     "end_time": "2021-04-07T19:27:08.261704Z",
     "start_time": "2021-04-07T19:27:08.118233Z"
    }
   },
   "outputs": [],
   "source": [
    "sns.boxplot(x=model_out['Installs'])"
   ]
  },
  {
   "cell_type": "code",
   "execution_count": null,
   "metadata": {
    "ExecuteTime": {
     "end_time": "2021-04-07T19:24:43.426083Z",
     "start_time": "2021-04-07T19:24:43.252510Z"
    }
   },
   "outputs": [],
   "source": [
    "sns.boxplot(x=model_out['Size'])"
   ]
  },
  {
   "cell_type": "code",
   "execution_count": null,
   "metadata": {
    "ExecuteTime": {
     "end_time": "2021-04-07T19:24:24.681922Z",
     "start_time": "2021-04-07T19:24:24.666871Z"
    },
    "scrolled": true
   },
   "outputs": [],
   "source": [
    "outliers('Size', model_out)"
   ]
  },
  {
   "cell_type": "code",
   "execution_count": null,
   "metadata": {
    "ExecuteTime": {
     "end_time": "2021-04-07T19:24:36.011996Z",
     "start_time": "2021-04-07T19:24:35.941764Z"
    }
   },
   "outputs": [],
   "source": [
    "model_out = model_out[(model_out['Size'] < 105)]\n",
    "model_out.reset_index(drop=True)"
   ]
  },
  {
   "cell_type": "code",
   "execution_count": null,
   "metadata": {
    "ExecuteTime": {
     "end_time": "2021-04-07T19:16:33.085352Z",
     "start_time": "2021-04-07T19:16:33.072311Z"
    }
   },
   "outputs": [],
   "source": [
    "# sns.boxplot(x=model_out['Rating'])"
   ]
  },
  {
   "cell_type": "markdown",
   "metadata": {},
   "source": [
    "The median looks to be around 4.3. Anything beyond 3.3 and 5 are outliers. We will use these as our markers."
   ]
  },
  {
   "cell_type": "code",
   "execution_count": null,
   "metadata": {
    "ExecuteTime": {
     "end_time": "2021-04-07T19:16:36.422145Z",
     "start_time": "2021-04-07T19:16:36.417131Z"
    }
   },
   "outputs": [],
   "source": [
    "# model_out = model_out[(model_out['Rating'] > 3.3)]\n",
    "# model_out.reset_index(drop=True)"
   ]
  },
  {
   "cell_type": "code",
   "execution_count": null,
   "metadata": {
    "ExecuteTime": {
     "end_time": "2021-04-07T19:16:38.224693Z",
     "start_time": "2021-04-07T19:16:38.002962Z"
    },
    "scrolled": true
   },
   "outputs": [],
   "source": [
    "model_out.describe()"
   ]
  },
  {
   "cell_type": "code",
   "execution_count": null,
   "metadata": {
    "ExecuteTime": {
     "end_time": "2021-04-07T19:25:01.637978Z",
     "start_time": "2021-04-07T19:25:01.613900Z"
    },
    "scrolled": true
   },
   "outputs": [],
   "source": [
    "model_out.info()"
   ]
  },
  {
   "cell_type": "markdown",
   "metadata": {},
   "source": [
    "# Model - Outliers Fixed"
   ]
  },
  {
   "cell_type": "code",
   "execution_count": null,
   "metadata": {
    "ExecuteTime": {
     "end_time": "2021-04-07T19:25:05.066621Z",
     "start_time": "2021-04-07T19:25:05.055588Z"
    }
   },
   "outputs": [],
   "source": [
    "y = model_out['Rating']\n",
    "X = model_out.drop(labels=['Rating', 'Category'], axis=1)"
   ]
  },
  {
   "cell_type": "code",
   "execution_count": null,
   "metadata": {
    "ExecuteTime": {
     "end_time": "2021-04-07T19:25:07.028598Z",
     "start_time": "2021-04-07T19:25:07.007545Z"
    }
   },
   "outputs": [],
   "source": [
    "X_train, X_test, y_train, y_test = train_test_split(X, y, test_size=.25, random_state=42)"
   ]
  },
  {
   "cell_type": "code",
   "execution_count": null,
   "metadata": {
    "ExecuteTime": {
     "end_time": "2021-04-07T19:25:08.599361Z",
     "start_time": "2021-04-07T19:25:08.511073Z"
    }
   },
   "outputs": [],
   "source": [
    "linreg = LinearRegression()\n",
    "linreg.fit(X_train, y_train)\n",
    "accuracy = linreg.score(X_test, y_test)\n",
    "'Accuracy: ' + str(np.round(accuracy*100, 2)) + '%'"
   ]
  },
  {
   "cell_type": "markdown",
   "metadata": {},
   "source": [
    "## KNeighbors Regression"
   ]
  },
  {
   "cell_type": "code",
   "execution_count": null,
   "metadata": {
    "ExecuteTime": {
     "end_time": "2021-04-07T19:25:18.082547Z",
     "start_time": "2021-04-07T19:25:16.207796Z"
    },
    "scrolled": true
   },
   "outputs": [],
   "source": [
    "n_neighbors = np.arange(1, 100, 10)\n",
    "scores = []\n",
    "for n in n_neighbors:\n",
    "    knn.set_params(n_neighbors=n)\n",
    "    knn.fit(X_train, y_train)\n",
    "    scores.append(knn.score(X_test, y_test))\n",
    "plt.figure(figsize=(7, 5))\n",
    "plt.title(\"Effect of Estimators\")\n",
    "plt.xlabel(\"Number of Neighbors K\")\n",
    "plt.ylabel(\"Score\")\n",
    "plt.plot(n_neighbors, scores)"
   ]
  },
  {
   "cell_type": "code",
   "execution_count": null,
   "metadata": {
    "ExecuteTime": {
     "end_time": "2021-04-07T19:25:18.660457Z",
     "start_time": "2021-04-07T19:25:18.646412Z"
    }
   },
   "outputs": [],
   "source": [
    "print(\"max accuracy is: \", max(scores))\n",
    "print(\"K value to achieve this result: \", n_neighbors[scores.index(max(scores))])"
   ]
  },
  {
   "cell_type": "code",
   "execution_count": null,
   "metadata": {
    "ExecuteTime": {
     "end_time": "2021-04-07T19:25:19.584805Z",
     "start_time": "2021-04-07T19:25:19.378122Z"
    }
   },
   "outputs": [],
   "source": [
    "from sklearn.neighbors import KNeighborsRegressor\n",
    "knn = KNeighborsRegressor(n_neighbors=70)\n",
    "knn.fit(X_train,y_train)\n",
    "accuracy = knn.score(X_test, y_test)\n",
    "'Accuracy: ' + str(np.round(accuracy*100, 2)) + '%'"
   ]
  },
  {
   "cell_type": "markdown",
   "metadata": {},
   "source": [
    "## Decision Tree"
   ]
  },
  {
   "cell_type": "code",
   "execution_count": null,
   "metadata": {
    "ExecuteTime": {
     "end_time": "2021-04-07T19:25:21.500530Z",
     "start_time": "2021-04-07T19:25:21.440333Z"
    }
   },
   "outputs": [],
   "source": [
    "from sklearn.tree import DecisionTreeRegressor\n",
    "decision_tree = DecisionTreeRegressor()\n",
    "decision_tree.fit(X_train,y_train)"
   ]
  },
  {
   "cell_type": "code",
   "execution_count": null,
   "metadata": {
    "ExecuteTime": {
     "end_time": "2021-04-07T19:25:22.284481Z",
     "start_time": "2021-04-07T19:25:22.274447Z"
    }
   },
   "outputs": [],
   "source": [
    "accuracy = decision_tree.score(X_test, y_test)\n",
    "'Accuracy: ' + str(np.round(accuracy*100, 2)) + '%'"
   ]
  },
  {
   "cell_type": "markdown",
   "metadata": {},
   "source": [
    "# Random Forest"
   ]
  },
  {
   "cell_type": "code",
   "execution_count": null,
   "metadata": {
    "ExecuteTime": {
     "end_time": "2021-04-07T19:25:53.795309Z",
     "start_time": "2021-04-07T19:25:24.071926Z"
    }
   },
   "outputs": [],
   "source": [
    "from sklearn.ensemble import RandomForestRegressor\n",
    "rf = RandomForestRegressor()\n",
    "estimators = np.arange(10, 150, 10)\n",
    "scores = []\n",
    "for n in estimators:\n",
    "    rf.set_params(n_estimators=n)\n",
    "    rf.fit(X_train, y_train)\n",
    "    scores.append(rf.score(X_test, y_test))\n",
    "plt.figure(figsize=(7, 5))\n",
    "plt.title(\"Effect of Estimators\")\n",
    "plt.xlabel(\"no. estimator\")\n",
    "plt.ylabel(\"score\")\n",
    "plt.plot(estimators, scores)"
   ]
  },
  {
   "cell_type": "code",
   "execution_count": null,
   "metadata": {
    "ExecuteTime": {
     "end_time": "2021-04-07T19:25:54.403499Z",
     "start_time": "2021-04-07T19:25:54.390452Z"
    }
   },
   "outputs": [],
   "source": [
    "print(\"max accuracy is: \", max(scores))\n",
    "print(\"Estimators to achieve this result: \", estimators[scores.index(max(scores))])"
   ]
  },
  {
   "cell_type": "markdown",
   "metadata": {},
   "source": [
    "# Transform"
   ]
  },
  {
   "cell_type": "code",
   "execution_count": null,
   "metadata": {
    "ExecuteTime": {
     "end_time": "2021-04-07T02:03:08.171903Z",
     "start_time": "2021-04-07T02:03:08.157857Z"
    }
   },
   "outputs": [],
   "source": [
    "df_log = model_out.copy()"
   ]
  },
  {
   "cell_type": "code",
   "execution_count": null,
   "metadata": {
    "ExecuteTime": {
     "end_time": "2021-04-07T02:03:33.163183Z",
     "start_time": "2021-04-07T02:03:32.164881Z"
    }
   },
   "outputs": [],
   "source": [
    "df_log[['Rating', 'Reviews', 'Size', 'Installs']].hist(figsize=(15,12));"
   ]
  },
  {
   "cell_type": "markdown",
   "metadata": {},
   "source": [
    "All the continuous variable are very skewed. Major outliers with Reviews and Installs. "
   ]
  },
  {
   "cell_type": "code",
   "execution_count": null,
   "metadata": {
    "ExecuteTime": {
     "end_time": "2021-04-07T02:03:36.493625Z",
     "start_time": "2021-04-07T02:03:34.800022Z"
    }
   },
   "outputs": [],
   "source": [
    "df_log['log_Rating'] = np.log(df_log['Rating'])\n",
    "df_log[['Rating', 'log_Rating']].hist(figsize=(12,5));\n",
    "\n",
    "df_log['log_Reviews'] = np.log(df_log['Reviews'])\n",
    "df_log[['Reviews', 'log_Reviews']].hist(figsize=(12,5));\n",
    "\n",
    "df_log['log_Size'] = np.log(df_log['Size'])\n",
    "df_log[['Size', 'log_Size']].hist(figsize=(12,5));\n",
    "\n",
    "df_log['log_Installs'] = np.log(df_log['Installs'])\n",
    "df_log[['Installs', 'log_Installs']].hist(figsize=(12,5));"
   ]
  },
  {
   "cell_type": "code",
   "execution_count": null,
   "metadata": {
    "ExecuteTime": {
     "end_time": "2021-04-07T02:03:38.411976Z",
     "start_time": "2021-04-07T02:03:38.397930Z"
    }
   },
   "outputs": [],
   "source": [
    "def normalize(feature):\n",
    "    return (feature - feature.mean()) / feature.std()"
   ]
  },
  {
   "cell_type": "code",
   "execution_count": null,
   "metadata": {
    "ExecuteTime": {
     "end_time": "2021-04-07T02:03:40.189858Z",
     "start_time": "2021-04-07T02:03:40.175814Z"
    }
   },
   "outputs": [],
   "source": [
    "# df_log_norm = df_log[['log_Rating']]\n",
    "df_log_norm = df_log[['log_Rating', 'log_Installs', 'log_Size', 'log_Reviews']]"
   ]
  },
  {
   "cell_type": "code",
   "execution_count": null,
   "metadata": {
    "ExecuteTime": {
     "end_time": "2021-04-07T02:03:42.644985Z",
     "start_time": "2021-04-07T02:03:41.940656Z"
    }
   },
   "outputs": [],
   "source": [
    "df_log_norm = df_log_norm.apply(normalize)\n",
    "df_log_norm.hist(figsize=(10,10));"
   ]
  },
  {
   "cell_type": "code",
   "execution_count": null,
   "metadata": {
    "ExecuteTime": {
     "end_time": "2021-04-07T02:03:44.439910Z",
     "start_time": "2021-04-07T02:03:44.425865Z"
    }
   },
   "outputs": [],
   "source": [
    "df_log['Rating'] = df_log_norm['log_Rating']\n",
    "df_log['log_Installs'] = df_log_norm['log_Installs']\n",
    "df_log['log_Size'] = df_log_norm['log_Size']\n",
    "df_log['log_Reviews'] = df_log_norm['log_Reviews']"
   ]
  },
  {
   "cell_type": "code",
   "execution_count": null,
   "metadata": {
    "ExecuteTime": {
     "end_time": "2021-04-07T02:03:46.219041Z",
     "start_time": "2021-04-07T02:03:46.204994Z"
    },
    "scrolled": true
   },
   "outputs": [],
   "source": [
    "df_log.info()"
   ]
  },
  {
   "cell_type": "code",
   "execution_count": null,
   "metadata": {
    "ExecuteTime": {
     "end_time": "2021-04-07T02:03:48.030034Z",
     "start_time": "2021-04-07T02:03:48.015989Z"
    },
    "scrolled": true
   },
   "outputs": [],
   "source": [
    "df_log = df_log.drop(['Rating', 'Reviews', 'Installs', 'Size'], axis=1)"
   ]
  },
  {
   "cell_type": "markdown",
   "metadata": {},
   "source": [
    "# Model - Variables Transformed"
   ]
  },
  {
   "cell_type": "markdown",
   "metadata": {},
   "source": [
    "## Linear Regression"
   ]
  },
  {
   "cell_type": "code",
   "execution_count": null,
   "metadata": {
    "ExecuteTime": {
     "end_time": "2021-04-07T02:03:49.825939Z",
     "start_time": "2021-04-07T02:03:49.811893Z"
    }
   },
   "outputs": [],
   "source": [
    "y = df_log['log_Rating']\n",
    "X = df_log.drop(['log_Rating'], axis =1)"
   ]
  },
  {
   "cell_type": "code",
   "execution_count": null,
   "metadata": {
    "ExecuteTime": {
     "end_time": "2021-04-07T02:20:09.860977Z",
     "start_time": "2021-04-07T02:20:09.763660Z"
    }
   },
   "outputs": [],
   "source": [
    "X.head()"
   ]
  },
  {
   "cell_type": "code",
   "execution_count": null,
   "metadata": {
    "ExecuteTime": {
     "end_time": "2021-04-07T02:03:51.622886Z",
     "start_time": "2021-04-07T02:03:51.608841Z"
    }
   },
   "outputs": [],
   "source": [
    "X_train, X_test, y_train, y_test = train_test_split(X, y, test_size=.25, random_state=42)"
   ]
  },
  {
   "cell_type": "code",
   "execution_count": null,
   "metadata": {
    "ExecuteTime": {
     "end_time": "2021-04-07T02:03:53.548258Z",
     "start_time": "2021-04-07T02:03:53.373682Z"
    }
   },
   "outputs": [],
   "source": [
    "linreg = LinearRegression()\n",
    "linreg.fit(X_train, y_train)\n",
    "accuracy = linreg.score(X_test, y_test)\n",
    "'Accuracy: ' + str(np.round(accuracy*100, 2)) + '%'"
   ]
  },
  {
   "cell_type": "markdown",
   "metadata": {},
   "source": [
    "## KNeighbors Regression"
   ]
  },
  {
   "cell_type": "code",
   "execution_count": null,
   "metadata": {
    "ExecuteTime": {
     "end_time": "2021-04-07T02:04:39.129124Z",
     "start_time": "2021-04-07T02:03:55.312098Z"
    },
    "scrolled": true
   },
   "outputs": [],
   "source": [
    "n_neighbors = np.arange(20, 300, 10)\n",
    "scores = []\n",
    "for n in n_neighbors:\n",
    "    knn.set_params(n_neighbors=n)\n",
    "    knn.fit(X_train, y_train)\n",
    "    scores.append(knn.score(X_test, y_test))\n",
    "plt.figure(figsize=(7, 5))\n",
    "plt.title(\"Effect of Estimators\")\n",
    "plt.xlabel(\"Number of Neighbors K\")\n",
    "plt.ylabel(\"Score\")\n",
    "plt.plot(n_neighbors, scores)"
   ]
  },
  {
   "cell_type": "code",
   "execution_count": null,
   "metadata": {
    "ExecuteTime": {
     "end_time": "2021-04-07T02:04:40.985268Z",
     "start_time": "2021-04-07T02:04:40.971222Z"
    }
   },
   "outputs": [],
   "source": [
    "print(\"max accuracy is: \", max(scores))\n",
    "print(\"K value to achieve this result: \", n_neighbors[scores.index(max(scores))])"
   ]
  },
  {
   "cell_type": "code",
   "execution_count": null,
   "metadata": {
    "ExecuteTime": {
     "end_time": "2021-04-07T02:04:44.044362Z",
     "start_time": "2021-04-07T02:04:42.764124Z"
    }
   },
   "outputs": [],
   "source": [
    "from sklearn.neighbors import KNeighborsRegressor\n",
    "knn = KNeighborsRegressor(n_neighbors=40)\n",
    "knn.fit(X_train,y_train)\n",
    "accuracy = knn.score(X_test, y_test)\n",
    "'Accuracy: ' + str(np.round(accuracy*100, 2)) + '%'"
   ]
  },
  {
   "cell_type": "markdown",
   "metadata": {},
   "source": [
    "## Decision Tree"
   ]
  },
  {
   "cell_type": "code",
   "execution_count": null,
   "metadata": {
    "ExecuteTime": {
     "end_time": "2021-04-07T02:04:46.063044Z",
     "start_time": "2021-04-07T02:04:45.968730Z"
    }
   },
   "outputs": [],
   "source": [
    "from sklearn.tree import DecisionTreeRegressor\n",
    "decision_tree = DecisionTreeRegressor()\n",
    "decision_tree.fit(X_train,y_train)"
   ]
  },
  {
   "cell_type": "code",
   "execution_count": null,
   "metadata": {
    "ExecuteTime": {
     "end_time": "2021-04-07T02:04:47.938969Z",
     "start_time": "2021-04-07T02:04:47.924923Z"
    }
   },
   "outputs": [],
   "source": [
    "accuracy = decision_tree.score(X_test, y_test)\n",
    "'Accuracy: ' + str(np.round(accuracy*100, 2)) + '%'"
   ]
  },
  {
   "cell_type": "markdown",
   "metadata": {},
   "source": [
    "# Random Forest"
   ]
  },
  {
   "cell_type": "code",
   "execution_count": null,
   "metadata": {
    "ExecuteTime": {
     "end_time": "2021-04-07T02:05:39.193611Z",
     "start_time": "2021-04-07T02:04:49.703812Z"
    }
   },
   "outputs": [],
   "source": [
    "from sklearn.ensemble import RandomForestRegressor\n",
    "rf = RandomForestRegressor()\n",
    "estimators = np.arange(10, 150, 10)\n",
    "scores = []\n",
    "for n in estimators:\n",
    "    rf.set_params(n_estimators=n)\n",
    "    rf.fit(X_train, y_train)\n",
    "    scores.append(rf.score(X_test, y_test))\n",
    "plt.figure(figsize=(7, 5))\n",
    "plt.title(\"Effect of Estimators\")\n",
    "plt.xlabel(\"no. estimator\")\n",
    "plt.ylabel(\"score\")\n",
    "plt.plot(estimators, scores)"
   ]
  },
  {
   "cell_type": "code",
   "execution_count": null,
   "metadata": {
    "ExecuteTime": {
     "end_time": "2021-04-07T02:05:40.989555Z",
     "start_time": "2021-04-07T02:05:40.975510Z"
    }
   },
   "outputs": [],
   "source": [
    "print(\"max accuracy is: \", max(scores))\n",
    "print(\"Estimators to achieve this result: \", estimators[scores.index(max(scores))])"
   ]
  },
  {
   "cell_type": "code",
   "execution_count": null,
   "metadata": {},
   "outputs": [],
   "source": []
  },
  {
   "cell_type": "code",
   "execution_count": null,
   "metadata": {},
   "outputs": [],
   "source": [
    "x"
   ]
  }
 ],
 "metadata": {
  "kernelspec": {
   "display_name": "Python 3",
   "language": "python",
   "name": "python3"
  },
  "language_info": {
   "codemirror_mode": {
    "name": "ipython",
    "version": 3
   },
   "file_extension": ".py",
   "mimetype": "text/x-python",
   "name": "python",
   "nbconvert_exporter": "python",
   "pygments_lexer": "ipython3",
   "version": "3.8.5"
  },
  "toc": {
   "base_numbering": 1,
   "nav_menu": {},
   "number_sections": true,
   "sideBar": true,
   "skip_h1_title": false,
   "title_cell": "Table of Contents",
   "title_sidebar": "Contents",
   "toc_cell": false,
   "toc_position": {
    "height": "calc(100% - 180px)",
    "left": "10px",
    "top": "150px",
    "width": "380.391px"
   },
   "toc_section_display": true,
   "toc_window_display": true
  },
  "varInspector": {
   "cols": {
    "lenName": 16,
    "lenType": 16,
    "lenVar": 40
   },
   "kernels_config": {
    "python": {
     "delete_cmd_postfix": "",
     "delete_cmd_prefix": "del ",
     "library": "var_list.py",
     "varRefreshCmd": "print(var_dic_list())"
    },
    "r": {
     "delete_cmd_postfix": ") ",
     "delete_cmd_prefix": "rm(",
     "library": "var_list.r",
     "varRefreshCmd": "cat(var_dic_list()) "
    }
   },
   "types_to_exclude": [
    "module",
    "function",
    "builtin_function_or_method",
    "instance",
    "_Feature"
   ],
   "window_display": false
  }
 },
 "nbformat": 4,
 "nbformat_minor": 4
}
