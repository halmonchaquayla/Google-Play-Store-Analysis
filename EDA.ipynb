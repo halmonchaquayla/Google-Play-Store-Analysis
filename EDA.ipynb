{
 "cells": [
  {
   "cell_type": "code",
   "execution_count": 1,
   "metadata": {
    "ExecuteTime": {
     "end_time": "2021-03-30T21:07:19.818983Z",
     "start_time": "2021-03-30T21:07:02.085790Z"
    }
   },
   "outputs": [],
   "source": [
    "import pandas as pd\n",
    "import numpy as np\n",
    "import seaborn as sns\n",
    "import matplotlib.pyplot as plt\n",
    "%matplotlib inline\n",
    "\n",
    "pd.set_option('display.max_columns', 500)"
   ]
  },
  {
   "cell_type": "code",
   "execution_count": 2,
   "metadata": {
    "ExecuteTime": {
     "end_time": "2021-03-30T21:07:20.163092Z",
     "start_time": "2021-03-30T21:07:19.820990Z"
    }
   },
   "outputs": [],
   "source": [
    "eda_df = pd.read_csv('data/cleaned_data.csv')"
   ]
  },
  {
   "cell_type": "code",
   "execution_count": 3,
   "metadata": {
    "ExecuteTime": {
     "end_time": "2021-03-30T21:07:20.321020Z",
     "start_time": "2021-03-30T21:07:20.165098Z"
    }
   },
   "outputs": [
    {
     "data": {
      "text/html": [
       "<div>\n",
       "<style scoped>\n",
       "    .dataframe tbody tr th:only-of-type {\n",
       "        vertical-align: middle;\n",
       "    }\n",
       "\n",
       "    .dataframe tbody tr th {\n",
       "        vertical-align: top;\n",
       "    }\n",
       "\n",
       "    .dataframe thead th {\n",
       "        text-align: right;\n",
       "    }\n",
       "</style>\n",
       "<table border=\"1\" class=\"dataframe\">\n",
       "  <thead>\n",
       "    <tr style=\"text-align: right;\">\n",
       "      <th></th>\n",
       "      <th>App</th>\n",
       "      <th>Category</th>\n",
       "      <th>Rating</th>\n",
       "      <th>Reviews</th>\n",
       "      <th>Size</th>\n",
       "      <th>Installs</th>\n",
       "      <th>Type</th>\n",
       "      <th>Content Rating</th>\n",
       "      <th>Last Updated</th>\n",
       "    </tr>\n",
       "  </thead>\n",
       "  <tbody>\n",
       "    <tr>\n",
       "      <th>0</th>\n",
       "      <td>Photo Editor &amp; Candy Camera &amp; Grid &amp; ScrapBook</td>\n",
       "      <td>ART_AND_DESIGN</td>\n",
       "      <td>4.100000</td>\n",
       "      <td>159.0</td>\n",
       "      <td>1.900000e+07</td>\n",
       "      <td>10000</td>\n",
       "      <td>Free</td>\n",
       "      <td>Everyone</td>\n",
       "      <td>2018-01-07</td>\n",
       "    </tr>\n",
       "    <tr>\n",
       "      <th>1</th>\n",
       "      <td>Coloring book moana</td>\n",
       "      <td>ART_AND_DESIGN</td>\n",
       "      <td>3.900000</td>\n",
       "      <td>967.0</td>\n",
       "      <td>1.400000e+07</td>\n",
       "      <td>500000</td>\n",
       "      <td>Free</td>\n",
       "      <td>Everyone</td>\n",
       "      <td>2018-01-15</td>\n",
       "    </tr>\n",
       "    <tr>\n",
       "      <th>2</th>\n",
       "      <td>U Launcher Lite – FREE Live Cool Themes, Hide ...</td>\n",
       "      <td>ART_AND_DESIGN</td>\n",
       "      <td>4.700000</td>\n",
       "      <td>87510.0</td>\n",
       "      <td>8.700000e+06</td>\n",
       "      <td>5000000</td>\n",
       "      <td>Free</td>\n",
       "      <td>Everyone</td>\n",
       "      <td>2018-08-01</td>\n",
       "    </tr>\n",
       "    <tr>\n",
       "      <th>3</th>\n",
       "      <td>Sketch - Draw &amp; Paint</td>\n",
       "      <td>ART_AND_DESIGN</td>\n",
       "      <td>4.500000</td>\n",
       "      <td>215644.0</td>\n",
       "      <td>2.500000e+07</td>\n",
       "      <td>50000000</td>\n",
       "      <td>Free</td>\n",
       "      <td>Teen</td>\n",
       "      <td>2018-06-08</td>\n",
       "    </tr>\n",
       "    <tr>\n",
       "      <th>4</th>\n",
       "      <td>Pixel Draw - Number Art Coloring Book</td>\n",
       "      <td>ART_AND_DESIGN</td>\n",
       "      <td>4.300000</td>\n",
       "      <td>967.0</td>\n",
       "      <td>2.800000e+06</td>\n",
       "      <td>100000</td>\n",
       "      <td>Free</td>\n",
       "      <td>Everyone</td>\n",
       "      <td>2018-06-20</td>\n",
       "    </tr>\n",
       "    <tr>\n",
       "      <th>...</th>\n",
       "      <td>...</td>\n",
       "      <td>...</td>\n",
       "      <td>...</td>\n",
       "      <td>...</td>\n",
       "      <td>...</td>\n",
       "      <td>...</td>\n",
       "      <td>...</td>\n",
       "      <td>...</td>\n",
       "      <td>...</td>\n",
       "    </tr>\n",
       "    <tr>\n",
       "      <th>8382</th>\n",
       "      <td>Sya9a Maroc - FR</td>\n",
       "      <td>FAMILY</td>\n",
       "      <td>4.500000</td>\n",
       "      <td>38.0</td>\n",
       "      <td>5.300000e+07</td>\n",
       "      <td>5000</td>\n",
       "      <td>Free</td>\n",
       "      <td>Everyone</td>\n",
       "      <td>2017-07-25</td>\n",
       "    </tr>\n",
       "    <tr>\n",
       "      <th>8383</th>\n",
       "      <td>Fr. Mike Schmitz Audio Teachings</td>\n",
       "      <td>FAMILY</td>\n",
       "      <td>5.000000</td>\n",
       "      <td>4.0</td>\n",
       "      <td>3.600000e+06</td>\n",
       "      <td>100</td>\n",
       "      <td>Free</td>\n",
       "      <td>Everyone</td>\n",
       "      <td>2018-07-06</td>\n",
       "    </tr>\n",
       "    <tr>\n",
       "      <th>8384</th>\n",
       "      <td>Parkinson Exercices FR</td>\n",
       "      <td>MEDICAL</td>\n",
       "      <td>4.172966</td>\n",
       "      <td>3.0</td>\n",
       "      <td>9.500000e+06</td>\n",
       "      <td>1000</td>\n",
       "      <td>Free</td>\n",
       "      <td>Everyone</td>\n",
       "      <td>2017-01-20</td>\n",
       "    </tr>\n",
       "    <tr>\n",
       "      <th>8385</th>\n",
       "      <td>The SCP Foundation DB fr nn5n</td>\n",
       "      <td>BOOKS_AND_REFERENCE</td>\n",
       "      <td>4.500000</td>\n",
       "      <td>114.0</td>\n",
       "      <td>1.811096e+07</td>\n",
       "      <td>1000</td>\n",
       "      <td>Free</td>\n",
       "      <td>Mature 17+</td>\n",
       "      <td>2015-01-19</td>\n",
       "    </tr>\n",
       "    <tr>\n",
       "      <th>8386</th>\n",
       "      <td>iHoroscope - 2018 Daily Horoscope &amp; Astrology</td>\n",
       "      <td>LIFESTYLE</td>\n",
       "      <td>4.500000</td>\n",
       "      <td>398307.0</td>\n",
       "      <td>1.900000e+07</td>\n",
       "      <td>10000000</td>\n",
       "      <td>Free</td>\n",
       "      <td>Everyone</td>\n",
       "      <td>2018-07-25</td>\n",
       "    </tr>\n",
       "  </tbody>\n",
       "</table>\n",
       "<p>8387 rows × 9 columns</p>\n",
       "</div>"
      ],
      "text/plain": [
       "                                                    App             Category  \\\n",
       "0        Photo Editor & Candy Camera & Grid & ScrapBook       ART_AND_DESIGN   \n",
       "1                                   Coloring book moana       ART_AND_DESIGN   \n",
       "2     U Launcher Lite – FREE Live Cool Themes, Hide ...       ART_AND_DESIGN   \n",
       "3                                 Sketch - Draw & Paint       ART_AND_DESIGN   \n",
       "4                 Pixel Draw - Number Art Coloring Book       ART_AND_DESIGN   \n",
       "...                                                 ...                  ...   \n",
       "8382                                   Sya9a Maroc - FR               FAMILY   \n",
       "8383                   Fr. Mike Schmitz Audio Teachings               FAMILY   \n",
       "8384                             Parkinson Exercices FR              MEDICAL   \n",
       "8385                      The SCP Foundation DB fr nn5n  BOOKS_AND_REFERENCE   \n",
       "8386      iHoroscope - 2018 Daily Horoscope & Astrology            LIFESTYLE   \n",
       "\n",
       "        Rating   Reviews          Size  Installs  Type Content Rating  \\\n",
       "0     4.100000     159.0  1.900000e+07     10000  Free       Everyone   \n",
       "1     3.900000     967.0  1.400000e+07    500000  Free       Everyone   \n",
       "2     4.700000   87510.0  8.700000e+06   5000000  Free       Everyone   \n",
       "3     4.500000  215644.0  2.500000e+07  50000000  Free           Teen   \n",
       "4     4.300000     967.0  2.800000e+06    100000  Free       Everyone   \n",
       "...        ...       ...           ...       ...   ...            ...   \n",
       "8382  4.500000      38.0  5.300000e+07      5000  Free       Everyone   \n",
       "8383  5.000000       4.0  3.600000e+06       100  Free       Everyone   \n",
       "8384  4.172966       3.0  9.500000e+06      1000  Free       Everyone   \n",
       "8385  4.500000     114.0  1.811096e+07      1000  Free     Mature 17+   \n",
       "8386  4.500000  398307.0  1.900000e+07  10000000  Free       Everyone   \n",
       "\n",
       "     Last Updated  \n",
       "0      2018-01-07  \n",
       "1      2018-01-15  \n",
       "2      2018-08-01  \n",
       "3      2018-06-08  \n",
       "4      2018-06-20  \n",
       "...           ...  \n",
       "8382   2017-07-25  \n",
       "8383   2018-07-06  \n",
       "8384   2017-01-20  \n",
       "8385   2015-01-19  \n",
       "8386   2018-07-25  \n",
       "\n",
       "[8387 rows x 9 columns]"
      ]
     },
     "execution_count": 3,
     "metadata": {},
     "output_type": "execute_result"
    }
   ],
   "source": [
    "eda_df.drop(['Unnamed: 0', 'index'], axis=1)"
   ]
  },
  {
   "cell_type": "markdown",
   "metadata": {},
   "source": [
    "# Which category is dominating the market based on Installs?"
   ]
  },
  {
   "cell_type": "code",
   "execution_count": 4,
   "metadata": {
    "ExecuteTime": {
     "end_time": "2021-03-30T21:07:24.429990Z",
     "start_time": "2021-03-30T21:07:24.398889Z"
    }
   },
   "outputs": [
    {
     "data": {
      "text/html": [
       "<div>\n",
       "<style scoped>\n",
       "    .dataframe tbody tr th:only-of-type {\n",
       "        vertical-align: middle;\n",
       "    }\n",
       "\n",
       "    .dataframe tbody tr th {\n",
       "        vertical-align: top;\n",
       "    }\n",
       "\n",
       "    .dataframe thead th {\n",
       "        text-align: right;\n",
       "    }\n",
       "</style>\n",
       "<table border=\"1\" class=\"dataframe\">\n",
       "  <thead>\n",
       "    <tr style=\"text-align: right;\">\n",
       "      <th></th>\n",
       "      <th>Unnamed: 0</th>\n",
       "      <th>index</th>\n",
       "      <th>Rating</th>\n",
       "      <th>Reviews</th>\n",
       "      <th>Size</th>\n",
       "      <th>Installs</th>\n",
       "    </tr>\n",
       "    <tr>\n",
       "      <th>Category</th>\n",
       "      <th></th>\n",
       "      <th></th>\n",
       "      <th></th>\n",
       "      <th></th>\n",
       "      <th></th>\n",
       "      <th></th>\n",
       "    </tr>\n",
       "  </thead>\n",
       "  <tbody>\n",
       "    <tr>\n",
       "      <th>GAME</th>\n",
       "      <td>4344989</td>\n",
       "      <td>5095760</td>\n",
       "      <td>3674.834903</td>\n",
       "      <td>620725858.0</td>\n",
       "      <td>3.514233e+10</td>\n",
       "      <td>13857873675</td>\n",
       "    </tr>\n",
       "    <tr>\n",
       "      <th>COMMUNICATION</th>\n",
       "      <td>1033629</td>\n",
       "      <td>1201356</td>\n",
       "      <td>1082.543040</td>\n",
       "      <td>285727154.0</td>\n",
       "      <td>3.624400e+09</td>\n",
       "      <td>11036913140</td>\n",
       "    </tr>\n",
       "    <tr>\n",
       "      <th>TOOLS</th>\n",
       "      <td>4073350</td>\n",
       "      <td>4780647</td>\n",
       "      <td>2883.904977</td>\n",
       "      <td>229184641.0</td>\n",
       "      <td>7.312182e+09</td>\n",
       "      <td>8000036966</td>\n",
       "    </tr>\n",
       "    <tr>\n",
       "      <th>PRODUCTIVITY</th>\n",
       "      <td>1607219</td>\n",
       "      <td>1901167</td>\n",
       "      <td>1304.516006</td>\n",
       "      <td>55418928.0</td>\n",
       "      <td>4.244186e+09</td>\n",
       "      <td>5791667170</td>\n",
       "    </tr>\n",
       "    <tr>\n",
       "      <th>SOCIAL</th>\n",
       "      <td>1122635</td>\n",
       "      <td>1319465</td>\n",
       "      <td>954.951177</td>\n",
       "      <td>227927559.0</td>\n",
       "      <td>3.770230e+09</td>\n",
       "      <td>5487860705</td>\n",
       "    </tr>\n",
       "    <tr>\n",
       "      <th>PHOTOGRAPHY</th>\n",
       "      <td>1129555</td>\n",
       "      <td>1347907</td>\n",
       "      <td>1074.929657</td>\n",
       "      <td>105236039.0</td>\n",
       "      <td>4.343091e+09</td>\n",
       "      <td>4647268210</td>\n",
       "    </tr>\n",
       "    <tr>\n",
       "      <th>FAMILY</th>\n",
       "      <td>9426400</td>\n",
       "      <td>11000447</td>\n",
       "      <td>6641.242235</td>\n",
       "      <td>140192916.0</td>\n",
       "      <td>4.320342e+10</td>\n",
       "      <td>4407087082</td>\n",
       "    </tr>\n",
       "    <tr>\n",
       "      <th>VIDEO_PLAYERS</th>\n",
       "      <td>788694</td>\n",
       "      <td>935493</td>\n",
       "      <td>628.102623</td>\n",
       "      <td>67471201.0</td>\n",
       "      <td>2.544742e+09</td>\n",
       "      <td>3926831010</td>\n",
       "    </tr>\n",
       "    <tr>\n",
       "      <th>TRAVEL_AND_LOCAL</th>\n",
       "      <td>892954</td>\n",
       "      <td>1064577</td>\n",
       "      <td>794.967452</td>\n",
       "      <td>26801668.0</td>\n",
       "      <td>4.298745e+09</td>\n",
       "      <td>2894703450</td>\n",
       "    </tr>\n",
       "    <tr>\n",
       "      <th>NEWS_AND_MAGAZINES</th>\n",
       "      <td>1305629</td>\n",
       "      <td>1532540</td>\n",
       "      <td>973.080834</td>\n",
       "      <td>23130027.0</td>\n",
       "      <td>3.181867e+09</td>\n",
       "      <td>2369200825</td>\n",
       "    </tr>\n",
       "  </tbody>\n",
       "</table>\n",
       "</div>"
      ],
      "text/plain": [
       "                    Unnamed: 0     index       Rating      Reviews  \\\n",
       "Category                                                             \n",
       "GAME                   4344989   5095760  3674.834903  620725858.0   \n",
       "COMMUNICATION          1033629   1201356  1082.543040  285727154.0   \n",
       "TOOLS                  4073350   4780647  2883.904977  229184641.0   \n",
       "PRODUCTIVITY           1607219   1901167  1304.516006   55418928.0   \n",
       "SOCIAL                 1122635   1319465   954.951177  227927559.0   \n",
       "PHOTOGRAPHY            1129555   1347907  1074.929657  105236039.0   \n",
       "FAMILY                 9426400  11000447  6641.242235  140192916.0   \n",
       "VIDEO_PLAYERS           788694    935493   628.102623   67471201.0   \n",
       "TRAVEL_AND_LOCAL        892954   1064577   794.967452   26801668.0   \n",
       "NEWS_AND_MAGAZINES     1305629   1532540   973.080834   23130027.0   \n",
       "\n",
       "                            Size     Installs  \n",
       "Category                                       \n",
       "GAME                3.514233e+10  13857873675  \n",
       "COMMUNICATION       3.624400e+09  11036913140  \n",
       "TOOLS               7.312182e+09   8000036966  \n",
       "PRODUCTIVITY        4.244186e+09   5791667170  \n",
       "SOCIAL              3.770230e+09   5487860705  \n",
       "PHOTOGRAPHY         4.343091e+09   4647268210  \n",
       "FAMILY              4.320342e+10   4407087082  \n",
       "VIDEO_PLAYERS       2.544742e+09   3926831010  \n",
       "TRAVEL_AND_LOCAL    4.298745e+09   2894703450  \n",
       "NEWS_AND_MAGAZINES  3.181867e+09   2369200825  "
      ]
     },
     "execution_count": 4,
     "metadata": {},
     "output_type": "execute_result"
    }
   ],
   "source": [
    "top_installs_cat = eda_df.groupby(by='Category').sum(\n",
    ").sort_values(by = 'Installs', ascending = False).head(10)\n",
    "top_installs_cat"
   ]
  },
  {
   "cell_type": "code",
   "execution_count": null,
   "metadata": {
    "ExecuteTime": {
     "end_time": "2021-03-30T21:04:21.322707Z",
     "start_time": "2021-03-30T21:04:21.304659Z"
    }
   },
   "outputs": [],
   "source": [
    "eda_df.Category.nunique()"
   ]
  },
  {
   "cell_type": "markdown",
   "metadata": {},
   "source": [
    "# Which app has the best rating?"
   ]
  },
  {
   "cell_type": "code",
   "execution_count": null,
   "metadata": {
    "ExecuteTime": {
     "end_time": "2021-03-30T18:03:54.520753Z",
     "start_time": "2021-03-30T18:03:54.500687Z"
    }
   },
   "outputs": [],
   "source": [
    "top_ten_reviewed = eda_df.sort_values('Rating', ascending=False).head(10)"
   ]
  },
  {
   "cell_type": "code",
   "execution_count": null,
   "metadata": {
    "ExecuteTime": {
     "end_time": "2021-03-30T18:03:56.843230Z",
     "start_time": "2021-03-30T18:03:56.820154Z"
    }
   },
   "outputs": [],
   "source": [
    "top_ten_reviewed"
   ]
  },
  {
   "cell_type": "markdown",
   "metadata": {},
   "source": [
    "# What are the top ten category?"
   ]
  },
  {
   "cell_type": "code",
   "execution_count": null,
   "metadata": {
    "ExecuteTime": {
     "end_time": "2021-03-30T18:04:52.574506Z",
     "start_time": "2021-03-30T18:04:52.228357Z"
    }
   },
   "outputs": [],
   "source": [
    "top_ten_cat = eda_df.Category.value_counts().head(10)\n",
    "plt.figure(figsize=(20,12))\n",
    "sns.barplot(x=top_ten_cat.values, y=top_ten_cat.index)\n",
    "plt.xlabel('Number of Apps')\n",
    "plt.ylabel('Category')\n",
    "plt.title('Top Ten Google Apps In 2018 By Category')\n",
    "plt.show()"
   ]
  },
  {
   "cell_type": "code",
   "execution_count": null,
   "metadata": {},
   "outputs": [],
   "source": []
  }
 ],
 "metadata": {
  "kernelspec": {
   "display_name": "Python 3",
   "language": "python",
   "name": "python3"
  },
  "language_info": {
   "codemirror_mode": {
    "name": "ipython",
    "version": 3
   },
   "file_extension": ".py",
   "mimetype": "text/x-python",
   "name": "python",
   "nbconvert_exporter": "python",
   "pygments_lexer": "ipython3",
   "version": "3.8.5"
  },
  "toc": {
   "base_numbering": 1,
   "nav_menu": {},
   "number_sections": true,
   "sideBar": true,
   "skip_h1_title": false,
   "title_cell": "Table of Contents",
   "title_sidebar": "Contents",
   "toc_cell": false,
   "toc_position": {},
   "toc_section_display": true,
   "toc_window_display": false
  },
  "varInspector": {
   "cols": {
    "lenName": 16,
    "lenType": 16,
    "lenVar": 40
   },
   "kernels_config": {
    "python": {
     "delete_cmd_postfix": "",
     "delete_cmd_prefix": "del ",
     "library": "var_list.py",
     "varRefreshCmd": "print(var_dic_list())"
    },
    "r": {
     "delete_cmd_postfix": ") ",
     "delete_cmd_prefix": "rm(",
     "library": "var_list.r",
     "varRefreshCmd": "cat(var_dic_list()) "
    }
   },
   "types_to_exclude": [
    "module",
    "function",
    "builtin_function_or_method",
    "instance",
    "_Feature"
   ],
   "window_display": false
  }
 },
 "nbformat": 4,
 "nbformat_minor": 4
}
