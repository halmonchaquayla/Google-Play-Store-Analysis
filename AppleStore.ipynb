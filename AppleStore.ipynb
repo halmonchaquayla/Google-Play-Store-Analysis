{
 "cells": [
  {
   "cell_type": "code",
   "execution_count": 2,
   "metadata": {
    "ExecuteTime": {
     "end_time": "2021-03-25T15:31:02.231608Z",
     "start_time": "2021-03-25T15:30:57.056989Z"
    }
   },
   "outputs": [
    {
     "name": "stdout",
     "output_type": "stream",
     "text": [
      "Collecting app-store-scraper\n",
      "  Downloading app_store_scraper-0.3.5-py3-none-any.whl (8.3 kB)\n",
      "Collecting requests==2.23.0\n",
      "  Downloading requests-2.23.0-py2.py3-none-any.whl (58 kB)\n",
      "Requirement already satisfied: idna<3,>=2.5 in c:\\users\\quayq\\anaconda3\\envs\\learn-env\\lib\\site-packages (from requests==2.23.0->app-store-scraper) (2.10)\n",
      "Requirement already satisfied: chardet<4,>=3.0.2 in c:\\users\\quayq\\anaconda3\\envs\\learn-env\\lib\\site-packages (from requests==2.23.0->app-store-scraper) (3.0.4)\n",
      "Requirement already satisfied: certifi>=2017.4.17 in c:\\users\\quayq\\anaconda3\\envs\\learn-env\\lib\\site-packages (from requests==2.23.0->app-store-scraper) (2020.11.8)\n",
      "Requirement already satisfied: urllib3!=1.25.0,!=1.25.1,<1.26,>=1.21.1 in c:\\users\\quayq\\anaconda3\\envs\\learn-env\\lib\\site-packages (from requests==2.23.0->app-store-scraper) (1.25.10)\n",
      "Installing collected packages: requests, app-store-scraper\n",
      "  Attempting uninstall: requests\n",
      "    Found existing installation: requests 2.25.1\n",
      "    Uninstalling requests-2.25.1:\n",
      "      Successfully uninstalled requests-2.25.1\n",
      "Successfully installed app-store-scraper-0.3.5 requests-2.23.0\n",
      "Note: you may need to restart the kernel to use updated packages.\n"
     ]
    },
    {
     "name": "stderr",
     "output_type": "stream",
     "text": [
      "ERROR: After October 2020 you may experience errors when installing or updating packages. This is because pip will change the way that it resolves dependency conflicts.\n",
      "\n",
      "We recommend you use --use-feature=2020-resolver to test your packages with the new resolver before it becomes the default.\n",
      "\n",
      "pandas-profiling 2.10.1 requires requests>=2.24.0, but you'll have requests 2.23.0 which is incompatible.\n",
      "google-api-core 1.22.2 requires protobuf>=3.12.0, but you'll have protobuf 3.11.2 which is incompatible.\n"
     ]
    }
   ],
   "source": [
    "pip  install app-store-scraper"
   ]
  },
  {
   "cell_type": "code",
   "execution_count": 3,
   "metadata": {
    "ExecuteTime": {
     "end_time": "2021-03-25T15:36:35.758049Z",
     "start_time": "2021-03-25T15:36:35.747012Z"
    }
   },
   "outputs": [
    {
     "ename": "NameError",
     "evalue": "name 'require' is not defined",
     "output_type": "error",
     "traceback": [
      "\u001b[1;31m---------------------------------------------------------------------------\u001b[0m",
      "\u001b[1;31mNameError\u001b[0m                                 Traceback (most recent call last)",
      "\u001b[1;32m<ipython-input-3-2fd5b71ae794>\u001b[0m in \u001b[0;36m<module>\u001b[1;34m\u001b[0m\n\u001b[1;32m----> 1\u001b[1;33m \u001b[0mstore\u001b[0m \u001b[1;33m=\u001b[0m \u001b[0mrequire\u001b[0m\u001b[1;33m(\u001b[0m\u001b[1;34m'app-store-scraper'\u001b[0m\u001b[1;33m)\u001b[0m\u001b[1;33m\u001b[0m\u001b[1;33m\u001b[0m\u001b[0m\n\u001b[0m",
      "\u001b[1;31mNameError\u001b[0m: name 'require' is not defined"
     ]
    }
   ],
   "source": [
    "store = require('app-store-scraper')"
   ]
  },
  {
   "cell_type": "code",
   "execution_count": null,
   "metadata": {},
   "outputs": [],
   "source": []
  }
 ],
 "metadata": {
  "kernelspec": {
   "display_name": "Python 3",
   "language": "python",
   "name": "python3"
  },
  "language_info": {
   "codemirror_mode": {
    "name": "ipython",
    "version": 3
   },
   "file_extension": ".py",
   "mimetype": "text/x-python",
   "name": "python",
   "nbconvert_exporter": "python",
   "pygments_lexer": "ipython3",
   "version": "3.8.5"
  },
  "toc": {
   "base_numbering": 1,
   "nav_menu": {},
   "number_sections": true,
   "sideBar": true,
   "skip_h1_title": false,
   "title_cell": "Table of Contents",
   "title_sidebar": "Contents",
   "toc_cell": false,
   "toc_position": {},
   "toc_section_display": true,
   "toc_window_display": false
  },
  "varInspector": {
   "cols": {
    "lenName": 16,
    "lenType": 16,
    "lenVar": 40
   },
   "kernels_config": {
    "python": {
     "delete_cmd_postfix": "",
     "delete_cmd_prefix": "del ",
     "library": "var_list.py",
     "varRefreshCmd": "print(var_dic_list())"
    },
    "r": {
     "delete_cmd_postfix": ") ",
     "delete_cmd_prefix": "rm(",
     "library": "var_list.r",
     "varRefreshCmd": "cat(var_dic_list()) "
    }
   },
   "types_to_exclude": [
    "module",
    "function",
    "builtin_function_or_method",
    "instance",
    "_Feature"
   ],
   "window_display": false
  }
 },
 "nbformat": 4,
 "nbformat_minor": 4
}
