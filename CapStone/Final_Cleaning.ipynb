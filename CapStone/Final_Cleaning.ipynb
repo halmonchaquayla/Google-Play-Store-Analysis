{
 "cells": [
  {
   "cell_type": "markdown",
   "metadata": {},
   "source": [
    "# Import Data"
   ]
  },
  {
   "cell_type": "code",
   "execution_count": 1,
   "metadata": {
    "ExecuteTime": {
     "end_time": "2021-05-24T23:40:09.888409Z",
     "start_time": "2021-05-24T23:40:08.820784Z"
    }
   },
   "outputs": [],
   "source": [
    "import pandas as pd\n",
    "import numpy as np\n",
    "import matplotlib.pyplot as plt\n",
    "%matplotlib inline\n",
    "\n",
    "pd.set_option('display.max_columns', 500)"
   ]
  },
  {
   "cell_type": "code",
   "execution_count": 2,
   "metadata": {
    "ExecuteTime": {
     "end_time": "2021-05-24T23:40:09.952620Z",
     "start_time": "2021-05-24T23:40:09.891417Z"
    }
   },
   "outputs": [
    {
     "name": "stdout",
     "output_type": "stream",
     "text": [
      "<class 'pandas.core.frame.DataFrame'>\n",
      "RangeIndex: 10841 entries, 0 to 10840\n",
      "Data columns (total 13 columns):\n",
      " #   Column          Non-Null Count  Dtype  \n",
      "---  ------          --------------  -----  \n",
      " 0   App             10841 non-null  object \n",
      " 1   Category        10841 non-null  object \n",
      " 2   Rating          9367 non-null   float64\n",
      " 3   Reviews         10841 non-null  object \n",
      " 4   Size            10841 non-null  object \n",
      " 5   Installs        10841 non-null  object \n",
      " 6   Type            10840 non-null  object \n",
      " 7   Price           10841 non-null  object \n",
      " 8   Content Rating  10840 non-null  object \n",
      " 9   Genres          10841 non-null  object \n",
      " 10  Last Updated    10841 non-null  object \n",
      " 11  Current Ver     10833 non-null  object \n",
      " 12  Android Ver     10838 non-null  object \n",
      "dtypes: float64(1), object(12)\n",
      "memory usage: 1.1+ MB\n"
     ]
    }
   ],
   "source": [
    "gg_data = pd.read_csv('googleplaystore.csv')\n",
    "gg_data.info()"
   ]
  },
  {
   "cell_type": "code",
   "execution_count": 3,
   "metadata": {
    "ExecuteTime": {
     "end_time": "2021-05-24T23:40:10.032885Z",
     "start_time": "2021-05-24T23:40:09.955632Z"
    }
   },
   "outputs": [
    {
     "name": "stdout",
     "output_type": "stream",
     "text": [
      "App\n",
      "ROBLOX                                               0.000830\n",
      "CBS Sports App - Scores, News, Stats & Watch Live    0.000738\n",
      "Duolingo: Learn Languages Free                       0.000646\n",
      "ESPN                                                 0.000646\n",
      "8 Ball Pool                                          0.000646\n",
      "                                                       ...   \n",
      "Dosecast - Medication Reminder                       0.000092\n",
      "BS Films                                             0.000092\n",
      "BH Recepti                                           0.000092\n",
      "Brain Waves - Binaural Beats                         0.000092\n",
      "Forgotten Hill: Fall                                 0.000092\n",
      "Name: App, Length: 9660, dtype: float64\n",
      "-------------------------------\n",
      "Category\n",
      "FAMILY                 0.181902\n",
      "GAME                   0.105525\n",
      "TOOLS                  0.077760\n",
      "MEDICAL                0.042708\n",
      "BUSINESS               0.042432\n",
      "PRODUCTIVITY           0.039111\n",
      "PERSONALIZATION        0.036159\n",
      "COMMUNICATION          0.035698\n",
      "SPORTS                 0.035421\n",
      "LIFESTYLE              0.035237\n",
      "FINANCE                0.033761\n",
      "HEALTH_AND_FITNESS     0.031455\n",
      "PHOTOGRAPHY            0.030901\n",
      "SOCIAL                 0.027212\n",
      "NEWS_AND_MAGAZINES     0.026105\n",
      "SHOPPING               0.023983\n",
      "TRAVEL_AND_LOCAL       0.023799\n",
      "DATING                 0.021585\n",
      "BOOKS_AND_REFERENCE    0.021308\n",
      "VIDEO_PLAYERS          0.016142\n",
      "EDUCATION              0.014390\n",
      "ENTERTAINMENT          0.013744\n",
      "MAPS_AND_NAVIGATION    0.012637\n",
      "FOOD_AND_DRINK         0.011715\n",
      "HOUSE_AND_HOME         0.008117\n",
      "AUTO_AND_VEHICLES      0.007841\n",
      "LIBRARIES_AND_DEMO     0.007841\n",
      "WEATHER                0.007564\n",
      "ART_AND_DESIGN         0.005996\n",
      "EVENTS                 0.005904\n",
      "COMICS                 0.005535\n",
      "PARENTING              0.005535\n",
      "BEAUTY                 0.004889\n",
      "1.9                    0.000092\n",
      "Name: Category, dtype: float64\n",
      "-------------------------------\n",
      "Rating\n",
      "4.4     0.118394\n",
      "4.3     0.114871\n",
      "4.5     0.110815\n",
      "4.2     0.101633\n",
      "4.6     0.087862\n",
      "4.1     0.075584\n",
      "4.0     0.060638\n",
      "4.7     0.053272\n",
      "3.9     0.041208\n",
      "3.8     0.032348\n",
      "5.0     0.029252\n",
      "3.7     0.025515\n",
      "4.8     0.024981\n",
      "3.6     0.018576\n",
      "3.5     0.017402\n",
      "3.4     0.013665\n",
      "3.3     0.010889\n",
      "4.9     0.009288\n",
      "3.0     0.008861\n",
      "3.1     0.007366\n",
      "3.2     0.006832\n",
      "2.9     0.004804\n",
      "2.8     0.004484\n",
      "2.6     0.002669\n",
      "2.7     0.002669\n",
      "2.5     0.002242\n",
      "2.3     0.002135\n",
      "2.4     0.002028\n",
      "1.0     0.001708\n",
      "2.2     0.001495\n",
      "1.9     0.001388\n",
      "2.0     0.001281\n",
      "2.1     0.000854\n",
      "1.7     0.000854\n",
      "1.8     0.000854\n",
      "1.6     0.000427\n",
      "1.4     0.000320\n",
      "1.5     0.000320\n",
      "1.2     0.000107\n",
      "19.0    0.000107\n",
      "Name: Rating, dtype: float64\n",
      "-------------------------------\n",
      "Reviews\n",
      "0          0.054976\n",
      "1          0.025090\n",
      "2          0.019740\n",
      "3          0.016142\n",
      "4          0.012637\n",
      "             ...   \n",
      "5387333    0.000092\n",
      "3200       0.000092\n",
      "1615       0.000092\n",
      "873        0.000092\n",
      "40113      0.000092\n",
      "Name: Reviews, Length: 6002, dtype: float64\n",
      "-------------------------------\n",
      "Size\n",
      "Varies with device    0.156351\n",
      "11M                   0.018264\n",
      "12M                   0.018080\n",
      "14M                   0.017895\n",
      "13M                   0.017618\n",
      "                        ...   \n",
      "27k                   0.000092\n",
      "942k                  0.000092\n",
      "749k                  0.000092\n",
      "743k                  0.000092\n",
      "809k                  0.000092\n",
      "Name: Size, Length: 462, dtype: float64\n",
      "-------------------------------\n",
      "Installs\n",
      "1,000,000+        0.145651\n",
      "10,000,000+       0.115488\n",
      "100,000+          0.107831\n",
      "10,000+           0.097224\n",
      "1,000+            0.083664\n",
      "5,000,000+        0.069366\n",
      "100+              0.066322\n",
      "500,000+          0.049719\n",
      "50,000+           0.044184\n",
      "5,000+            0.044000\n",
      "100,000,000+      0.037727\n",
      "10+               0.035606\n",
      "500+              0.030440\n",
      "50,000,000+       0.026658\n",
      "50+               0.018910\n",
      "5+                0.007564\n",
      "500,000,000+      0.006641\n",
      "1+                0.006180\n",
      "1,000,000,000+    0.005350\n",
      "0+                0.001291\n",
      "Free              0.000092\n",
      "0                 0.000092\n",
      "Name: Installs, dtype: float64\n",
      "-------------------------------\n",
      "Type\n",
      "Free    0.926107\n",
      "Paid    0.073801\n",
      "0       0.000092\n",
      "Name: Type, dtype: float64\n",
      "-------------------------------\n",
      "Price\n",
      "0         0.926114\n",
      "$0.99     0.013652\n",
      "$2.99     0.011899\n",
      "$1.99     0.006734\n",
      "$4.99     0.006641\n",
      "            ...   \n",
      "$4.85     0.000092\n",
      "$1.04     0.000092\n",
      "$15.99    0.000092\n",
      "$19.40    0.000092\n",
      "$1.20     0.000092\n",
      "Name: Price, Length: 93, dtype: float64\n",
      "-------------------------------\n",
      "Content Rating\n",
      "Everyone           0.803875\n",
      "Teen               0.111439\n",
      "Mature 17+         0.046033\n",
      "Everyone 10+       0.038192\n",
      "Adults only 18+    0.000277\n",
      "Unrated            0.000185\n",
      "Name: Content Rating, dtype: float64\n",
      "-------------------------------\n",
      "Genres\n",
      "Tools                           0.077668\n",
      "Entertainment                   0.057467\n",
      "Education                       0.050641\n",
      "Medical                         0.042708\n",
      "Business                        0.042432\n",
      "                                  ...   \n",
      "Strategy;Education              0.000092\n",
      "Role Playing;Brain Games        0.000092\n",
      "Parenting;Brain Games           0.000092\n",
      "Books & Reference;Creativity    0.000092\n",
      "Lifestyle;Pretend Play          0.000092\n",
      "Name: Genres, Length: 120, dtype: float64\n",
      "-------------------------------\n",
      "Last Updated\n",
      "August 3, 2018      0.030071\n",
      "August 2, 2018      0.028042\n",
      "July 31, 2018       0.027119\n",
      "August 1, 2018      0.026289\n",
      "July 30, 2018       0.019463\n",
      "                      ...   \n",
      "June 25, 2016       0.000092\n",
      "May 5, 2016         0.000092\n",
      "August 25, 2017     0.000092\n",
      "July 14, 2016       0.000092\n",
      "January 30, 2017    0.000092\n",
      "Name: Last Updated, Length: 1378, dtype: float64\n",
      "-------------------------------\n",
      "Current Ver\n",
      "Varies with device    0.134681\n",
      "1.0                   0.074679\n",
      "1.1                   0.024370\n",
      "1.2                   0.016431\n",
      "2.0                   0.013939\n",
      "                        ...   \n",
      "16.51.1               0.000092\n",
      "67                    0.000092\n",
      "1.9.3097721           0.000092\n",
      "1.18.34               0.000092\n",
      "2.6.12                0.000092\n",
      "Name: Current Ver, Length: 2832, dtype: float64\n",
      "-------------------------------\n",
      "Android Ver\n",
      "4.1 and up            0.226149\n",
      "4.0.3 and up          0.138494\n",
      "4.0 and up            0.126868\n",
      "Varies with device    0.125669\n",
      "4.4 and up            0.090423\n",
      "2.3 and up            0.060159\n",
      "5.0 and up            0.055453\n",
      "4.2 and up            0.036354\n",
      "2.3.3 and up          0.025927\n",
      "2.2 and up            0.022513\n",
      "4.3 and up            0.022421\n",
      "3.0 and up            0.022237\n",
      "2.1 and up            0.012364\n",
      "1.6 and up            0.010703\n",
      "6.0 and up            0.005536\n",
      "7.0 and up            0.003875\n",
      "3.2 and up            0.003322\n",
      "2.0 and up            0.002953\n",
      "5.1 and up            0.002214\n",
      "1.5 and up            0.001845\n",
      "4.4W and up           0.001107\n",
      "3.1 and up            0.000923\n",
      "2.0.1 and up          0.000646\n",
      "8.0 and up            0.000554\n",
      "7.1 and up            0.000277\n",
      "5.0 - 8.0             0.000185\n",
      "1.0 and up            0.000185\n",
      "4.0.3 - 7.1.1         0.000185\n",
      "7.0 - 7.1.1           0.000092\n",
      "4.1 - 7.1.1           0.000092\n",
      "2.2 - 7.1.1           0.000092\n",
      "5.0 - 6.0             0.000092\n",
      "5.0 - 7.1.1           0.000092\n",
      "Name: Android Ver, dtype: float64\n",
      "-------------------------------\n"
     ]
    }
   ],
   "source": [
    "# create a copy of the original\n",
    "data = gg_data.copy()\n",
    "\n",
    "#check the value counts of each column and look for any weirdness\n",
    "for col in data:\n",
    "    print(col)\n",
    "    print(data[col].value_counts(normalize=True))\n",
    "    print('-------------------------------')"
   ]
  },
  {
   "cell_type": "markdown",
   "metadata": {},
   "source": [
    "**Observations**\n",
    "1. **App - there seems to be a few duplicates in app. have to deal with deleting those.**\n",
    "2. **Category - need to look into '1.9'.**\n",
    "3. **Rating - the rating is from 1-5, but there's a rating of 19. Need to delete that one.**\n",
    "4. **Reviews - might drop the '0' reviews or filter the amount of reviews.**\n",
    "5. **Size - the 'varies with device' need to be replace with the average size and the \"M\" needs to be taken out.**\n",
    "6. **Installs - need to get rid of the '+' and maybe filter a min-max scale.**\n",
    "7. **Change Type into a numeric column**\n",
    "8. **Change last update into days.**"
   ]
  },
  {
   "cell_type": "markdown",
   "metadata": {},
   "source": [
    "# Cleaning"
   ]
  },
  {
   "cell_type": "markdown",
   "metadata": {},
   "source": [
    "## App Duplicates\n",
    "**Looking at the value counts I noticed that there were a few apps that were duplicates, meaning the name of the app was the same. This column should only have unique names. So I'm going to pull them out and delete all except for the first one.**"
   ]
  },
  {
   "cell_type": "code",
   "execution_count": 4,
   "metadata": {
    "ExecuteTime": {
     "end_time": "2021-05-24T23:40:10.081045Z",
     "start_time": "2021-05-24T23:40:10.034894Z"
    },
    "scrolled": true
   },
   "outputs": [
    {
     "data": {
      "text/html": [
       "<div>\n",
       "<style scoped>\n",
       "    .dataframe tbody tr th:only-of-type {\n",
       "        vertical-align: middle;\n",
       "    }\n",
       "\n",
       "    .dataframe tbody tr th {\n",
       "        vertical-align: top;\n",
       "    }\n",
       "\n",
       "    .dataframe thead th {\n",
       "        text-align: right;\n",
       "    }\n",
       "</style>\n",
       "<table border=\"1\" class=\"dataframe\">\n",
       "  <thead>\n",
       "    <tr style=\"text-align: right;\">\n",
       "      <th></th>\n",
       "      <th>App</th>\n",
       "      <th>Category</th>\n",
       "      <th>Rating</th>\n",
       "      <th>Reviews</th>\n",
       "      <th>Size</th>\n",
       "      <th>Installs</th>\n",
       "      <th>Type</th>\n",
       "      <th>Price</th>\n",
       "      <th>Content Rating</th>\n",
       "      <th>Genres</th>\n",
       "      <th>Last Updated</th>\n",
       "      <th>Current Ver</th>\n",
       "      <th>Android Ver</th>\n",
       "    </tr>\n",
       "  </thead>\n",
       "  <tbody>\n",
       "    <tr>\n",
       "      <th>1653</th>\n",
       "      <td>ROBLOX</td>\n",
       "      <td>GAME</td>\n",
       "      <td>4.5</td>\n",
       "      <td>4447388</td>\n",
       "      <td>67M</td>\n",
       "      <td>100,000,000+</td>\n",
       "      <td>Free</td>\n",
       "      <td>0</td>\n",
       "      <td>Everyone 10+</td>\n",
       "      <td>Adventure;Action &amp; Adventure</td>\n",
       "      <td>July 31, 2018</td>\n",
       "      <td>2.347.225742</td>\n",
       "      <td>4.1 and up</td>\n",
       "    </tr>\n",
       "    <tr>\n",
       "      <th>1701</th>\n",
       "      <td>ROBLOX</td>\n",
       "      <td>GAME</td>\n",
       "      <td>4.5</td>\n",
       "      <td>4447346</td>\n",
       "      <td>67M</td>\n",
       "      <td>100,000,000+</td>\n",
       "      <td>Free</td>\n",
       "      <td>0</td>\n",
       "      <td>Everyone 10+</td>\n",
       "      <td>Adventure;Action &amp; Adventure</td>\n",
       "      <td>July 31, 2018</td>\n",
       "      <td>2.347.225742</td>\n",
       "      <td>4.1 and up</td>\n",
       "    </tr>\n",
       "    <tr>\n",
       "      <th>1748</th>\n",
       "      <td>ROBLOX</td>\n",
       "      <td>GAME</td>\n",
       "      <td>4.5</td>\n",
       "      <td>4448791</td>\n",
       "      <td>67M</td>\n",
       "      <td>100,000,000+</td>\n",
       "      <td>Free</td>\n",
       "      <td>0</td>\n",
       "      <td>Everyone 10+</td>\n",
       "      <td>Adventure;Action &amp; Adventure</td>\n",
       "      <td>July 31, 2018</td>\n",
       "      <td>2.347.225742</td>\n",
       "      <td>4.1 and up</td>\n",
       "    </tr>\n",
       "    <tr>\n",
       "      <th>1841</th>\n",
       "      <td>ROBLOX</td>\n",
       "      <td>GAME</td>\n",
       "      <td>4.5</td>\n",
       "      <td>4449882</td>\n",
       "      <td>67M</td>\n",
       "      <td>100,000,000+</td>\n",
       "      <td>Free</td>\n",
       "      <td>0</td>\n",
       "      <td>Everyone 10+</td>\n",
       "      <td>Adventure;Action &amp; Adventure</td>\n",
       "      <td>July 31, 2018</td>\n",
       "      <td>2.347.225742</td>\n",
       "      <td>4.1 and up</td>\n",
       "    </tr>\n",
       "    <tr>\n",
       "      <th>1870</th>\n",
       "      <td>ROBLOX</td>\n",
       "      <td>GAME</td>\n",
       "      <td>4.5</td>\n",
       "      <td>4449910</td>\n",
       "      <td>67M</td>\n",
       "      <td>100,000,000+</td>\n",
       "      <td>Free</td>\n",
       "      <td>0</td>\n",
       "      <td>Everyone 10+</td>\n",
       "      <td>Adventure;Action &amp; Adventure</td>\n",
       "      <td>July 31, 2018</td>\n",
       "      <td>2.347.225742</td>\n",
       "      <td>4.1 and up</td>\n",
       "    </tr>\n",
       "    <tr>\n",
       "      <th>2016</th>\n",
       "      <td>ROBLOX</td>\n",
       "      <td>FAMILY</td>\n",
       "      <td>4.5</td>\n",
       "      <td>4449910</td>\n",
       "      <td>67M</td>\n",
       "      <td>100,000,000+</td>\n",
       "      <td>Free</td>\n",
       "      <td>0</td>\n",
       "      <td>Everyone 10+</td>\n",
       "      <td>Adventure;Action &amp; Adventure</td>\n",
       "      <td>July 31, 2018</td>\n",
       "      <td>2.347.225742</td>\n",
       "      <td>4.1 and up</td>\n",
       "    </tr>\n",
       "    <tr>\n",
       "      <th>2088</th>\n",
       "      <td>ROBLOX</td>\n",
       "      <td>FAMILY</td>\n",
       "      <td>4.5</td>\n",
       "      <td>4450855</td>\n",
       "      <td>67M</td>\n",
       "      <td>100,000,000+</td>\n",
       "      <td>Free</td>\n",
       "      <td>0</td>\n",
       "      <td>Everyone 10+</td>\n",
       "      <td>Adventure;Action &amp; Adventure</td>\n",
       "      <td>July 31, 2018</td>\n",
       "      <td>2.347.225742</td>\n",
       "      <td>4.1 and up</td>\n",
       "    </tr>\n",
       "    <tr>\n",
       "      <th>2206</th>\n",
       "      <td>ROBLOX</td>\n",
       "      <td>FAMILY</td>\n",
       "      <td>4.5</td>\n",
       "      <td>4450890</td>\n",
       "      <td>67M</td>\n",
       "      <td>100,000,000+</td>\n",
       "      <td>Free</td>\n",
       "      <td>0</td>\n",
       "      <td>Everyone 10+</td>\n",
       "      <td>Adventure;Action &amp; Adventure</td>\n",
       "      <td>July 31, 2018</td>\n",
       "      <td>2.347.225742</td>\n",
       "      <td>4.1 and up</td>\n",
       "    </tr>\n",
       "    <tr>\n",
       "      <th>4527</th>\n",
       "      <td>ROBLOX</td>\n",
       "      <td>FAMILY</td>\n",
       "      <td>4.5</td>\n",
       "      <td>4443407</td>\n",
       "      <td>67M</td>\n",
       "      <td>100,000,000+</td>\n",
       "      <td>Free</td>\n",
       "      <td>0</td>\n",
       "      <td>Everyone 10+</td>\n",
       "      <td>Adventure;Action &amp; Adventure</td>\n",
       "      <td>July 31, 2018</td>\n",
       "      <td>2.347.225742</td>\n",
       "      <td>4.1 and up</td>\n",
       "    </tr>\n",
       "  </tbody>\n",
       "</table>\n",
       "</div>"
      ],
      "text/plain": [
       "         App Category  Rating  Reviews Size      Installs  Type Price  \\\n",
       "1653  ROBLOX     GAME     4.5  4447388  67M  100,000,000+  Free     0   \n",
       "1701  ROBLOX     GAME     4.5  4447346  67M  100,000,000+  Free     0   \n",
       "1748  ROBLOX     GAME     4.5  4448791  67M  100,000,000+  Free     0   \n",
       "1841  ROBLOX     GAME     4.5  4449882  67M  100,000,000+  Free     0   \n",
       "1870  ROBLOX     GAME     4.5  4449910  67M  100,000,000+  Free     0   \n",
       "2016  ROBLOX   FAMILY     4.5  4449910  67M  100,000,000+  Free     0   \n",
       "2088  ROBLOX   FAMILY     4.5  4450855  67M  100,000,000+  Free     0   \n",
       "2206  ROBLOX   FAMILY     4.5  4450890  67M  100,000,000+  Free     0   \n",
       "4527  ROBLOX   FAMILY     4.5  4443407  67M  100,000,000+  Free     0   \n",
       "\n",
       "     Content Rating                        Genres   Last Updated  \\\n",
       "1653   Everyone 10+  Adventure;Action & Adventure  July 31, 2018   \n",
       "1701   Everyone 10+  Adventure;Action & Adventure  July 31, 2018   \n",
       "1748   Everyone 10+  Adventure;Action & Adventure  July 31, 2018   \n",
       "1841   Everyone 10+  Adventure;Action & Adventure  July 31, 2018   \n",
       "1870   Everyone 10+  Adventure;Action & Adventure  July 31, 2018   \n",
       "2016   Everyone 10+  Adventure;Action & Adventure  July 31, 2018   \n",
       "2088   Everyone 10+  Adventure;Action & Adventure  July 31, 2018   \n",
       "2206   Everyone 10+  Adventure;Action & Adventure  July 31, 2018   \n",
       "4527   Everyone 10+  Adventure;Action & Adventure  July 31, 2018   \n",
       "\n",
       "       Current Ver Android Ver  \n",
       "1653  2.347.225742  4.1 and up  \n",
       "1701  2.347.225742  4.1 and up  \n",
       "1748  2.347.225742  4.1 and up  \n",
       "1841  2.347.225742  4.1 and up  \n",
       "1870  2.347.225742  4.1 and up  \n",
       "2016  2.347.225742  4.1 and up  \n",
       "2088  2.347.225742  4.1 and up  \n",
       "2206  2.347.225742  4.1 and up  \n",
       "4527  2.347.225742  4.1 and up  "
      ]
     },
     "execution_count": 4,
     "metadata": {},
     "output_type": "execute_result"
    }
   ],
   "source": [
    "#here's an example of an duplicated app\n",
    "data[data['App'] == 'ROBLOX']"
   ]
  },
  {
   "cell_type": "code",
   "execution_count": 5,
   "metadata": {
    "ExecuteTime": {
     "end_time": "2021-05-24T23:40:10.145257Z",
     "start_time": "2021-05-24T23:40:10.083053Z"
    }
   },
   "outputs": [],
   "source": [
    "data = data.drop_duplicates(subset=['App'], keep='first')"
   ]
  },
  {
   "cell_type": "markdown",
   "metadata": {},
   "source": [
    "## Category\n",
    "**Since this is one entry I can easily find the correct info and plug it in.**\n",
    "1. Category = Lifestyle\n",
    "2. Rating = 1.9\n",
    "3. Reviews = 19.0\n",
    "4. Size = 3.0M\n",
    "5. Installs = 1,000\n",
    "6. Type = Free\n",
    "7. Price = 0\n",
    "8. Content Rating = Everyone"
   ]
  },
  {
   "cell_type": "code",
   "execution_count": 6,
   "metadata": {
    "ExecuteTime": {
     "end_time": "2021-05-24T23:40:10.256629Z",
     "start_time": "2021-05-24T23:40:10.147265Z"
    },
    "scrolled": true
   },
   "outputs": [
    {
     "data": {
      "text/html": [
       "<div>\n",
       "<style scoped>\n",
       "    .dataframe tbody tr th:only-of-type {\n",
       "        vertical-align: middle;\n",
       "    }\n",
       "\n",
       "    .dataframe tbody tr th {\n",
       "        vertical-align: top;\n",
       "    }\n",
       "\n",
       "    .dataframe thead th {\n",
       "        text-align: right;\n",
       "    }\n",
       "</style>\n",
       "<table border=\"1\" class=\"dataframe\">\n",
       "  <thead>\n",
       "    <tr style=\"text-align: right;\">\n",
       "      <th></th>\n",
       "      <th>App</th>\n",
       "      <th>Category</th>\n",
       "      <th>Rating</th>\n",
       "      <th>Reviews</th>\n",
       "      <th>Size</th>\n",
       "      <th>Installs</th>\n",
       "      <th>Type</th>\n",
       "      <th>Price</th>\n",
       "      <th>Content Rating</th>\n",
       "      <th>Genres</th>\n",
       "      <th>Last Updated</th>\n",
       "      <th>Current Ver</th>\n",
       "      <th>Android Ver</th>\n",
       "    </tr>\n",
       "  </thead>\n",
       "  <tbody>\n",
       "    <tr>\n",
       "      <th>10472</th>\n",
       "      <td>Life Made WI-Fi Touchscreen Photo Frame</td>\n",
       "      <td>1.9</td>\n",
       "      <td>19.0</td>\n",
       "      <td>3.0M</td>\n",
       "      <td>1,000+</td>\n",
       "      <td>Free</td>\n",
       "      <td>0</td>\n",
       "      <td>Everyone</td>\n",
       "      <td>NaN</td>\n",
       "      <td>February 11, 2018</td>\n",
       "      <td>1.0.19</td>\n",
       "      <td>4.0 and up</td>\n",
       "      <td>NaN</td>\n",
       "    </tr>\n",
       "  </tbody>\n",
       "</table>\n",
       "</div>"
      ],
      "text/plain": [
       "                                           App Category  Rating Reviews  \\\n",
       "10472  Life Made WI-Fi Touchscreen Photo Frame      1.9    19.0    3.0M   \n",
       "\n",
       "         Size Installs Type     Price Content Rating             Genres  \\\n",
       "10472  1,000+     Free    0  Everyone            NaN  February 11, 2018   \n",
       "\n",
       "      Last Updated Current Ver Android Ver  \n",
       "10472       1.0.19  4.0 and up         NaN  "
      ]
     },
     "execution_count": 6,
     "metadata": {},
     "output_type": "execute_result"
    }
   ],
   "source": [
    "# the row with misinformation\n",
    "data[data['Category'] == '1.9']"
   ]
  },
  {
   "cell_type": "code",
   "execution_count": 7,
   "metadata": {
    "ExecuteTime": {
     "end_time": "2021-05-24T23:40:10.304789Z",
     "start_time": "2021-05-24T23:40:10.259638Z"
    }
   },
   "outputs": [],
   "source": [
    "# plugging in the correct information\n",
    "data.at[10472,\"Category\"]=\"LIFESTYLE\"\n",
    "data.at[10472, \"Rating\"] = 1.9\n",
    "data.at[10472, \"Reviews\"] = \"19.0\"\n",
    "data.at[10472, \"Size\"] = \"3.0M\"\n",
    "data.at[10472, \"Installs\"] = \"1,000+\"\n",
    "data.at[10472, \"Type\"] = \"Free\"\n",
    "data.at[10472,'Price']= 0\n",
    "data.at[10472, 'Genres'] = 'Lifestyle'\n",
    "data.at[10472, \"Content Rating\"] = \"Everyone\"\n",
    "data.at[10472, \"Last Updated\"] = \"February 11, 2018\""
   ]
  },
  {
   "cell_type": "markdown",
   "metadata": {},
   "source": [
    "## Last Updated"
   ]
  },
  {
   "cell_type": "code",
   "execution_count": 8,
   "metadata": {
    "ExecuteTime": {
     "end_time": "2021-05-24T23:40:10.417139Z",
     "start_time": "2021-05-24T23:40:10.308802Z"
    }
   },
   "outputs": [],
   "source": [
    "#turn the dates into datetime and convert the date into days\n",
    "data['Last Updated'] = pd.to_datetime(data['Last Updated'], format=\"%B %d, %Y\", errors='coerce')\n",
    "data['lastupdate'] = (data['Last Updated'] -  data['Last Updated'].max()).dt.days\n",
    "data = data.drop(['Last Updated'], axis =1)"
   ]
  },
  {
   "cell_type": "markdown",
   "metadata": {},
   "source": [
    "## Add new data\n",
    "**After cleaning the data from Kaggle that was created two years ago, I decided that I would like more data from Google Play Store that contained apps that are popular now. This data was pulled from Google Play Store using webscraping and Api calls.**"
   ]
  },
  {
   "cell_type": "code",
   "execution_count": 9,
   "metadata": {
    "ExecuteTime": {
     "end_time": "2021-05-24T23:40:10.465300Z",
     "start_time": "2021-05-24T23:40:10.420151Z"
    }
   },
   "outputs": [
    {
     "name": "stdout",
     "output_type": "stream",
     "text": [
      "<class 'pandas.core.frame.DataFrame'>\n",
      "RangeIndex: 2839 entries, 0 to 2838\n",
      "Data columns (total 13 columns):\n",
      " #   Column          Non-Null Count  Dtype  \n",
      "---  ------          --------------  -----  \n",
      " 0   App             2839 non-null   object \n",
      " 1   Installs        2836 non-null   object \n",
      " 2   Rating          2833 non-null   float64\n",
      " 3   Reviews         2833 non-null   float64\n",
      " 4   Price           2836 non-null   float64\n",
      " 5   Size            2839 non-null   object \n",
      " 6   Genres          2839 non-null   object \n",
      " 7   Category        2839 non-null   object \n",
      " 8   Content Rating  2839 non-null   object \n",
      " 9   Current Ver     2839 non-null   object \n",
      " 10  Android Ver     2836 non-null   object \n",
      " 11  Type            2839 non-null   object \n",
      " 12  lastupdate      2839 non-null   int64  \n",
      "dtypes: float64(3), int64(1), object(9)\n",
      "memory usage: 288.5+ KB\n"
     ]
    }
   ],
   "source": [
    "#received data from file in notebook\n",
    "new_data = pd.read_csv('apps_data.csv')\n",
    "new_data.info()"
   ]
  },
  {
   "cell_type": "code",
   "execution_count": 10,
   "metadata": {
    "ExecuteTime": {
     "end_time": "2021-05-24T23:40:10.513459Z",
     "start_time": "2021-05-24T23:40:10.467306Z"
    }
   },
   "outputs": [
    {
     "data": {
      "text/plain": [
       "App               0\n",
       "Installs          3\n",
       "Rating            6\n",
       "Reviews           6\n",
       "Price             3\n",
       "Size              0\n",
       "Genres            0\n",
       "Category          0\n",
       "Content Rating    0\n",
       "Current Ver       0\n",
       "Android Ver       3\n",
       "Type              0\n",
       "lastupdate        0\n",
       "dtype: int64"
      ]
     },
     "execution_count": 10,
     "metadata": {},
     "output_type": "execute_result"
    }
   ],
   "source": [
    "#check for any missing information\n",
    "new_data.isnull().sum()"
   ]
  },
  {
   "cell_type": "code",
   "execution_count": 11,
   "metadata": {
    "ExecuteTime": {
     "end_time": "2021-05-24T23:40:10.625831Z",
     "start_time": "2021-05-24T23:40:10.515466Z"
    },
    "scrolled": true
   },
   "outputs": [
    {
     "data": {
      "text/html": [
       "<div>\n",
       "<style scoped>\n",
       "    .dataframe tbody tr th:only-of-type {\n",
       "        vertical-align: middle;\n",
       "    }\n",
       "\n",
       "    .dataframe tbody tr th {\n",
       "        vertical-align: top;\n",
       "    }\n",
       "\n",
       "    .dataframe thead th {\n",
       "        text-align: right;\n",
       "    }\n",
       "</style>\n",
       "<table border=\"1\" class=\"dataframe\">\n",
       "  <thead>\n",
       "    <tr style=\"text-align: right;\">\n",
       "      <th></th>\n",
       "      <th>App</th>\n",
       "      <th>Installs</th>\n",
       "      <th>Rating</th>\n",
       "      <th>Reviews</th>\n",
       "      <th>Price</th>\n",
       "      <th>Size</th>\n",
       "      <th>Genres</th>\n",
       "      <th>Category</th>\n",
       "      <th>Content Rating</th>\n",
       "      <th>Current Ver</th>\n",
       "      <th>Android Ver</th>\n",
       "      <th>Type</th>\n",
       "      <th>lastupdate</th>\n",
       "    </tr>\n",
       "  </thead>\n",
       "  <tbody>\n",
       "    <tr>\n",
       "      <th>0</th>\n",
       "      <td>Geometry Dash</td>\n",
       "      <td>1,000,000+</td>\n",
       "      <td>4.6</td>\n",
       "      <td>351474.0</td>\n",
       "      <td>1.99</td>\n",
       "      <td>85M</td>\n",
       "      <td>Arcade</td>\n",
       "      <td>GAME_ARCADE</td>\n",
       "      <td>Everyone</td>\n",
       "      <td>2.111</td>\n",
       "      <td>4.0 and up</td>\n",
       "      <td>Paid</td>\n",
       "      <td>-1248</td>\n",
       "    </tr>\n",
       "    <tr>\n",
       "      <th>1</th>\n",
       "      <td>Monopoly - Board game classic about real-estate!</td>\n",
       "      <td>1,000,000+</td>\n",
       "      <td>4.3</td>\n",
       "      <td>25479.0</td>\n",
       "      <td>3.99</td>\n",
       "      <td>52M</td>\n",
       "      <td>Board</td>\n",
       "      <td>GAME_BOARD</td>\n",
       "      <td>Everyone</td>\n",
       "      <td>1.4.8</td>\n",
       "      <td>5.0 and up</td>\n",
       "      <td>Paid</td>\n",
       "      <td>-22</td>\n",
       "    </tr>\n",
       "    <tr>\n",
       "      <th>2</th>\n",
       "      <td>Stardew Valley</td>\n",
       "      <td>1,000,000+</td>\n",
       "      <td>4.7</td>\n",
       "      <td>37001.0</td>\n",
       "      <td>4.99</td>\n",
       "      <td>80M</td>\n",
       "      <td>Role Playing</td>\n",
       "      <td>GAME_ROLE_PLAYING</td>\n",
       "      <td>Everyone 10+</td>\n",
       "      <td>1.4.5.151</td>\n",
       "      <td>4.4 and up</td>\n",
       "      <td>Paid</td>\n",
       "      <td>-94</td>\n",
       "    </tr>\n",
       "    <tr>\n",
       "      <th>3</th>\n",
       "      <td>Terraria</td>\n",
       "      <td>1,000,000+</td>\n",
       "      <td>4.6</td>\n",
       "      <td>165091.0</td>\n",
       "      <td>4.99</td>\n",
       "      <td>161M</td>\n",
       "      <td>Adventure</td>\n",
       "      <td>GAME_ADVENTURE</td>\n",
       "      <td>Teen</td>\n",
       "      <td>1.4.0.5.2.1</td>\n",
       "      <td>4.4 and up</td>\n",
       "      <td>Paid</td>\n",
       "      <td>-129</td>\n",
       "    </tr>\n",
       "    <tr>\n",
       "      <th>4</th>\n",
       "      <td>Ultimate Custom Night</td>\n",
       "      <td>100,000+</td>\n",
       "      <td>4.6</td>\n",
       "      <td>7796.0</td>\n",
       "      <td>2.99</td>\n",
       "      <td>151M</td>\n",
       "      <td>Action</td>\n",
       "      <td>GAME_ACTION</td>\n",
       "      <td>Teen</td>\n",
       "      <td>1.0.3</td>\n",
       "      <td>6.0 and up</td>\n",
       "      <td>Paid</td>\n",
       "      <td>-335</td>\n",
       "    </tr>\n",
       "    <tr>\n",
       "      <th>...</th>\n",
       "      <td>...</td>\n",
       "      <td>...</td>\n",
       "      <td>...</td>\n",
       "      <td>...</td>\n",
       "      <td>...</td>\n",
       "      <td>...</td>\n",
       "      <td>...</td>\n",
       "      <td>...</td>\n",
       "      <td>...</td>\n",
       "      <td>...</td>\n",
       "      <td>...</td>\n",
       "      <td>...</td>\n",
       "      <td>...</td>\n",
       "    </tr>\n",
       "    <tr>\n",
       "      <th>2834</th>\n",
       "      <td>Archos Video Player Free</td>\n",
       "      <td>5,000,000+</td>\n",
       "      <td>3.8</td>\n",
       "      <td>668.0</td>\n",
       "      <td>0.00</td>\n",
       "      <td>Varies with device</td>\n",
       "      <td>Video Players &amp; Editors</td>\n",
       "      <td>VIDEO_PLAYERS</td>\n",
       "      <td>Everyone</td>\n",
       "      <td>10.2-20180416.1736</td>\n",
       "      <td>Varies with device</td>\n",
       "      <td>Free</td>\n",
       "      <td>-1093</td>\n",
       "    </tr>\n",
       "    <tr>\n",
       "      <th>2835</th>\n",
       "      <td>Compagnon t411</td>\n",
       "      <td>100,000+</td>\n",
       "      <td>4.2</td>\n",
       "      <td>1218.0</td>\n",
       "      <td>0.00</td>\n",
       "      <td>3.5M</td>\n",
       "      <td>Social</td>\n",
       "      <td>SOCIAL</td>\n",
       "      <td>Everyone</td>\n",
       "      <td>2017.05-186</td>\n",
       "      <td>4.0 and up</td>\n",
       "      <td>Free</td>\n",
       "      <td>-1423</td>\n",
       "    </tr>\n",
       "    <tr>\n",
       "      <th>2836</th>\n",
       "      <td>Flud (Ad free)</td>\n",
       "      <td>50,000+</td>\n",
       "      <td>4.7</td>\n",
       "      <td>3452.0</td>\n",
       "      <td>1.49</td>\n",
       "      <td>Varies with device</td>\n",
       "      <td>Video Players &amp; Editors</td>\n",
       "      <td>VIDEO_PLAYERS</td>\n",
       "      <td>Everyone</td>\n",
       "      <td>Varies with device</td>\n",
       "      <td>Varies with device</td>\n",
       "      <td>Paid</td>\n",
       "      <td>-423</td>\n",
       "    </tr>\n",
       "    <tr>\n",
       "      <th>2837</th>\n",
       "      <td>ezPDF Reader PDF Annotate Form</td>\n",
       "      <td>500,000+</td>\n",
       "      <td>3.3</td>\n",
       "      <td>13296.0</td>\n",
       "      <td>3.99</td>\n",
       "      <td>33M</td>\n",
       "      <td>Productivity</td>\n",
       "      <td>PRODUCTIVITY</td>\n",
       "      <td>Everyone</td>\n",
       "      <td>2.7.1.0</td>\n",
       "      <td>4.0 and up</td>\n",
       "      <td>Paid</td>\n",
       "      <td>-336</td>\n",
       "    </tr>\n",
       "    <tr>\n",
       "      <th>2838</th>\n",
       "      <td>Archos Video (MTK)</td>\n",
       "      <td>1,000,000+</td>\n",
       "      <td>4.3</td>\n",
       "      <td>143.0</td>\n",
       "      <td>0.00</td>\n",
       "      <td>16M</td>\n",
       "      <td>Video Players &amp; Editors</td>\n",
       "      <td>VIDEO_PLAYERS</td>\n",
       "      <td>Everyone</td>\n",
       "      <td>8.1.12</td>\n",
       "      <td>4.0.3 and up</td>\n",
       "      <td>Free</td>\n",
       "      <td>-2138</td>\n",
       "    </tr>\n",
       "  </tbody>\n",
       "</table>\n",
       "<p>2839 rows × 13 columns</p>\n",
       "</div>"
      ],
      "text/plain": [
       "                                                   App    Installs  Rating  \\\n",
       "0                                        Geometry Dash  1,000,000+     4.6   \n",
       "1     Monopoly - Board game classic about real-estate!  1,000,000+     4.3   \n",
       "2                                       Stardew Valley  1,000,000+     4.7   \n",
       "3                                             Terraria  1,000,000+     4.6   \n",
       "4                                Ultimate Custom Night    100,000+     4.6   \n",
       "...                                                ...         ...     ...   \n",
       "2834                          Archos Video Player Free  5,000,000+     3.8   \n",
       "2835                                    Compagnon t411    100,000+     4.2   \n",
       "2836                                    Flud (Ad free)     50,000+     4.7   \n",
       "2837                    ezPDF Reader PDF Annotate Form    500,000+     3.3   \n",
       "2838                                Archos Video (MTK)  1,000,000+     4.3   \n",
       "\n",
       "       Reviews  Price                Size                   Genres  \\\n",
       "0     351474.0   1.99                 85M                   Arcade   \n",
       "1      25479.0   3.99                 52M                    Board   \n",
       "2      37001.0   4.99                 80M             Role Playing   \n",
       "3     165091.0   4.99                161M                Adventure   \n",
       "4       7796.0   2.99                151M                   Action   \n",
       "...        ...    ...                 ...                      ...   \n",
       "2834     668.0   0.00  Varies with device  Video Players & Editors   \n",
       "2835    1218.0   0.00                3.5M                   Social   \n",
       "2836    3452.0   1.49  Varies with device  Video Players & Editors   \n",
       "2837   13296.0   3.99                 33M             Productivity   \n",
       "2838     143.0   0.00                 16M  Video Players & Editors   \n",
       "\n",
       "               Category Content Rating         Current Ver  \\\n",
       "0           GAME_ARCADE       Everyone               2.111   \n",
       "1            GAME_BOARD       Everyone               1.4.8   \n",
       "2     GAME_ROLE_PLAYING   Everyone 10+           1.4.5.151   \n",
       "3        GAME_ADVENTURE           Teen         1.4.0.5.2.1   \n",
       "4           GAME_ACTION           Teen               1.0.3   \n",
       "...                 ...            ...                 ...   \n",
       "2834      VIDEO_PLAYERS       Everyone  10.2-20180416.1736   \n",
       "2835             SOCIAL       Everyone         2017.05-186   \n",
       "2836      VIDEO_PLAYERS       Everyone  Varies with device   \n",
       "2837       PRODUCTIVITY       Everyone             2.7.1.0   \n",
       "2838      VIDEO_PLAYERS       Everyone              8.1.12   \n",
       "\n",
       "             Android Ver  Type  lastupdate  \n",
       "0             4.0 and up  Paid       -1248  \n",
       "1             5.0 and up  Paid         -22  \n",
       "2             4.4 and up  Paid         -94  \n",
       "3             4.4 and up  Paid        -129  \n",
       "4             6.0 and up  Paid        -335  \n",
       "...                  ...   ...         ...  \n",
       "2834  Varies with device  Free       -1093  \n",
       "2835          4.0 and up  Free       -1423  \n",
       "2836  Varies with device  Paid        -423  \n",
       "2837          4.0 and up  Paid        -336  \n",
       "2838        4.0.3 and up  Free       -2138  \n",
       "\n",
       "[2839 rows x 13 columns]"
      ]
     },
     "execution_count": 11,
     "metadata": {},
     "output_type": "execute_result"
    }
   ],
   "source": [
    "#create a copy of the original\n",
    "app_data = new_data.copy()\n",
    "app_data"
   ]
  },
  {
   "cell_type": "code",
   "execution_count": 12,
   "metadata": {
    "ExecuteTime": {
     "end_time": "2021-05-24T23:40:10.656935Z",
     "start_time": "2021-05-24T23:40:10.628842Z"
    },
    "scrolled": false
   },
   "outputs": [],
   "source": [
    "# app_data = app_data.dropna()\n",
    "# app_data"
   ]
  },
  {
   "cell_type": "markdown",
   "metadata": {},
   "source": [
    "## Combine data"
   ]
  },
  {
   "cell_type": "code",
   "execution_count": 13,
   "metadata": {
    "ExecuteTime": {
     "end_time": "2021-05-24T23:40:10.737199Z",
     "start_time": "2021-05-24T23:40:10.661952Z"
    }
   },
   "outputs": [
    {
     "name": "stdout",
     "output_type": "stream",
     "text": [
      "<class 'pandas.core.frame.DataFrame'>\n",
      "Int64Index: 12499 entries, 0 to 2838\n",
      "Data columns (total 13 columns):\n",
      " #   Column          Non-Null Count  Dtype  \n",
      "---  ------          --------------  -----  \n",
      " 0   App             12499 non-null  object \n",
      " 1   Category        12499 non-null  object \n",
      " 2   Rating          11030 non-null  float64\n",
      " 3   Reviews         12493 non-null  object \n",
      " 4   Size            12499 non-null  object \n",
      " 5   Installs        12496 non-null  object \n",
      " 6   Type            12498 non-null  object \n",
      " 7   Price           12496 non-null  object \n",
      " 8   Content Rating  12499 non-null  object \n",
      " 9   Genres          12499 non-null  object \n",
      " 10  Current Ver     12491 non-null  object \n",
      " 11  Android Ver     12493 non-null  object \n",
      " 12  lastupdate      12499 non-null  int64  \n",
      "dtypes: float64(1), int64(1), object(11)\n",
      "memory usage: 1.3+ MB\n"
     ]
    }
   ],
   "source": [
    "#combine new data with kaggle data\n",
    "df = pd.concat([data, app_data])\n",
    "df.info()"
   ]
  },
  {
   "cell_type": "code",
   "execution_count": 14,
   "metadata": {
    "ExecuteTime": {
     "end_time": "2021-05-24T23:40:10.769306Z",
     "start_time": "2021-05-24T23:40:10.740213Z"
    }
   },
   "outputs": [
    {
     "data": {
      "text/plain": [
       "Solitaire                                             0.00096\n",
       "Udemy - Online Courses                                0.00032\n",
       "DRAGON BALL Z DOKKAN BATTLE                           0.00032\n",
       "Google Translate                                      0.00024\n",
       "LEGO ® Batman: Beyond Gotham                          0.00024\n",
       "                                                       ...   \n",
       "25WPM Amateur ham radio Koch CW Morse code trainer    0.00008\n",
       "Microsoft Authenticator                               0.00008\n",
       "Allsetra B.V.                                         0.00008\n",
       "Pint - FN Theme                                       0.00008\n",
       "Forgotten Hill: Fall                                  0.00008\n",
       "Name: App, Length: 11825, dtype: float64"
      ]
     },
     "execution_count": 14,
     "metadata": {},
     "output_type": "execute_result"
    }
   ],
   "source": [
    "#check for duplicates again\n",
    "df['App'].value_counts(normalize=True)"
   ]
  },
  {
   "cell_type": "code",
   "execution_count": 15,
   "metadata": {
    "ExecuteTime": {
     "end_time": "2021-05-24T23:40:10.801412Z",
     "start_time": "2021-05-24T23:40:10.772319Z"
    }
   },
   "outputs": [],
   "source": [
    "df = df.drop_duplicates(subset=['App'], keep='first')"
   ]
  },
  {
   "cell_type": "code",
   "execution_count": 16,
   "metadata": {
    "ExecuteTime": {
     "end_time": "2021-05-24T23:40:10.897703Z",
     "start_time": "2021-05-24T23:40:10.804424Z"
    }
   },
   "outputs": [],
   "source": [
    "df= df.drop(columns={'Current Ver', 'Android Ver'}, axis=1)"
   ]
  },
  {
   "cell_type": "code",
   "execution_count": 17,
   "metadata": {
    "ExecuteTime": {
     "end_time": "2021-05-24T23:40:10.961917Z",
     "start_time": "2021-05-24T23:40:10.900713Z"
    }
   },
   "outputs": [
    {
     "data": {
      "text/html": [
       "<div>\n",
       "<style scoped>\n",
       "    .dataframe tbody tr th:only-of-type {\n",
       "        vertical-align: middle;\n",
       "    }\n",
       "\n",
       "    .dataframe tbody tr th {\n",
       "        vertical-align: top;\n",
       "    }\n",
       "\n",
       "    .dataframe thead th {\n",
       "        text-align: right;\n",
       "    }\n",
       "</style>\n",
       "<table border=\"1\" class=\"dataframe\">\n",
       "  <thead>\n",
       "    <tr style=\"text-align: right;\">\n",
       "      <th></th>\n",
       "      <th>App</th>\n",
       "      <th>Category</th>\n",
       "      <th>Rating</th>\n",
       "      <th>Reviews</th>\n",
       "      <th>Size</th>\n",
       "      <th>Installs</th>\n",
       "      <th>Type</th>\n",
       "      <th>Price</th>\n",
       "      <th>Content Rating</th>\n",
       "      <th>Genres</th>\n",
       "      <th>lastupdate</th>\n",
       "    </tr>\n",
       "  </thead>\n",
       "  <tbody>\n",
       "    <tr>\n",
       "      <th>0</th>\n",
       "      <td>Photo Editor &amp; Candy Camera &amp; Grid &amp; ScrapBook</td>\n",
       "      <td>ART_AND_DESIGN</td>\n",
       "      <td>4.1</td>\n",
       "      <td>159</td>\n",
       "      <td>19M</td>\n",
       "      <td>10,000+</td>\n",
       "      <td>Free</td>\n",
       "      <td>0</td>\n",
       "      <td>Everyone</td>\n",
       "      <td>Art &amp; Design</td>\n",
       "      <td>-213</td>\n",
       "    </tr>\n",
       "    <tr>\n",
       "      <th>1</th>\n",
       "      <td>Coloring book moana</td>\n",
       "      <td>ART_AND_DESIGN</td>\n",
       "      <td>3.9</td>\n",
       "      <td>967</td>\n",
       "      <td>14M</td>\n",
       "      <td>500,000+</td>\n",
       "      <td>Free</td>\n",
       "      <td>0</td>\n",
       "      <td>Everyone</td>\n",
       "      <td>Art &amp; Design;Pretend Play</td>\n",
       "      <td>-205</td>\n",
       "    </tr>\n",
       "    <tr>\n",
       "      <th>2</th>\n",
       "      <td>U Launcher Lite – FREE Live Cool Themes, Hide ...</td>\n",
       "      <td>ART_AND_DESIGN</td>\n",
       "      <td>4.7</td>\n",
       "      <td>87510</td>\n",
       "      <td>8.7M</td>\n",
       "      <td>5,000,000+</td>\n",
       "      <td>Free</td>\n",
       "      <td>0</td>\n",
       "      <td>Everyone</td>\n",
       "      <td>Art &amp; Design</td>\n",
       "      <td>-7</td>\n",
       "    </tr>\n",
       "    <tr>\n",
       "      <th>3</th>\n",
       "      <td>Sketch - Draw &amp; Paint</td>\n",
       "      <td>ART_AND_DESIGN</td>\n",
       "      <td>4.5</td>\n",
       "      <td>215644</td>\n",
       "      <td>25M</td>\n",
       "      <td>50,000,000+</td>\n",
       "      <td>Free</td>\n",
       "      <td>0</td>\n",
       "      <td>Teen</td>\n",
       "      <td>Art &amp; Design</td>\n",
       "      <td>-61</td>\n",
       "    </tr>\n",
       "    <tr>\n",
       "      <th>4</th>\n",
       "      <td>Pixel Draw - Number Art Coloring Book</td>\n",
       "      <td>ART_AND_DESIGN</td>\n",
       "      <td>4.3</td>\n",
       "      <td>967</td>\n",
       "      <td>2.8M</td>\n",
       "      <td>100,000+</td>\n",
       "      <td>Free</td>\n",
       "      <td>0</td>\n",
       "      <td>Everyone</td>\n",
       "      <td>Art &amp; Design;Creativity</td>\n",
       "      <td>-49</td>\n",
       "    </tr>\n",
       "    <tr>\n",
       "      <th>...</th>\n",
       "      <td>...</td>\n",
       "      <td>...</td>\n",
       "      <td>...</td>\n",
       "      <td>...</td>\n",
       "      <td>...</td>\n",
       "      <td>...</td>\n",
       "      <td>...</td>\n",
       "      <td>...</td>\n",
       "      <td>...</td>\n",
       "      <td>...</td>\n",
       "      <td>...</td>\n",
       "    </tr>\n",
       "    <tr>\n",
       "      <th>2833</th>\n",
       "      <td>aTorrent PRO - torrent client</td>\n",
       "      <td>TOOLS</td>\n",
       "      <td>3.3</td>\n",
       "      <td>2385</td>\n",
       "      <td>Varies with device</td>\n",
       "      <td>10,000+</td>\n",
       "      <td>Paid</td>\n",
       "      <td>1.99</td>\n",
       "      <td>Everyone</td>\n",
       "      <td>Tools</td>\n",
       "      <td>-1775</td>\n",
       "    </tr>\n",
       "    <tr>\n",
       "      <th>2834</th>\n",
       "      <td>Archos Video Player Free</td>\n",
       "      <td>VIDEO_PLAYERS</td>\n",
       "      <td>3.8</td>\n",
       "      <td>668</td>\n",
       "      <td>Varies with device</td>\n",
       "      <td>5,000,000+</td>\n",
       "      <td>Free</td>\n",
       "      <td>0</td>\n",
       "      <td>Everyone</td>\n",
       "      <td>Video Players &amp; Editors</td>\n",
       "      <td>-1093</td>\n",
       "    </tr>\n",
       "    <tr>\n",
       "      <th>2835</th>\n",
       "      <td>Compagnon t411</td>\n",
       "      <td>SOCIAL</td>\n",
       "      <td>4.2</td>\n",
       "      <td>1218</td>\n",
       "      <td>3.5M</td>\n",
       "      <td>100,000+</td>\n",
       "      <td>Free</td>\n",
       "      <td>0</td>\n",
       "      <td>Everyone</td>\n",
       "      <td>Social</td>\n",
       "      <td>-1423</td>\n",
       "    </tr>\n",
       "    <tr>\n",
       "      <th>2837</th>\n",
       "      <td>ezPDF Reader PDF Annotate Form</td>\n",
       "      <td>PRODUCTIVITY</td>\n",
       "      <td>3.3</td>\n",
       "      <td>13296</td>\n",
       "      <td>33M</td>\n",
       "      <td>500,000+</td>\n",
       "      <td>Paid</td>\n",
       "      <td>3.99</td>\n",
       "      <td>Everyone</td>\n",
       "      <td>Productivity</td>\n",
       "      <td>-336</td>\n",
       "    </tr>\n",
       "    <tr>\n",
       "      <th>2838</th>\n",
       "      <td>Archos Video (MTK)</td>\n",
       "      <td>VIDEO_PLAYERS</td>\n",
       "      <td>4.3</td>\n",
       "      <td>143</td>\n",
       "      <td>16M</td>\n",
       "      <td>1,000,000+</td>\n",
       "      <td>Free</td>\n",
       "      <td>0</td>\n",
       "      <td>Everyone</td>\n",
       "      <td>Video Players &amp; Editors</td>\n",
       "      <td>-2138</td>\n",
       "    </tr>\n",
       "  </tbody>\n",
       "</table>\n",
       "<p>11825 rows × 11 columns</p>\n",
       "</div>"
      ],
      "text/plain": [
       "                                                    App        Category  \\\n",
       "0        Photo Editor & Candy Camera & Grid & ScrapBook  ART_AND_DESIGN   \n",
       "1                                   Coloring book moana  ART_AND_DESIGN   \n",
       "2     U Launcher Lite – FREE Live Cool Themes, Hide ...  ART_AND_DESIGN   \n",
       "3                                 Sketch - Draw & Paint  ART_AND_DESIGN   \n",
       "4                 Pixel Draw - Number Art Coloring Book  ART_AND_DESIGN   \n",
       "...                                                 ...             ...   \n",
       "2833                      aTorrent PRO - torrent client           TOOLS   \n",
       "2834                           Archos Video Player Free   VIDEO_PLAYERS   \n",
       "2835                                     Compagnon t411          SOCIAL   \n",
       "2837                     ezPDF Reader PDF Annotate Form    PRODUCTIVITY   \n",
       "2838                                 Archos Video (MTK)   VIDEO_PLAYERS   \n",
       "\n",
       "      Rating Reviews                Size     Installs  Type Price  \\\n",
       "0        4.1     159                 19M      10,000+  Free     0   \n",
       "1        3.9     967                 14M     500,000+  Free     0   \n",
       "2        4.7   87510                8.7M   5,000,000+  Free     0   \n",
       "3        4.5  215644                 25M  50,000,000+  Free     0   \n",
       "4        4.3     967                2.8M     100,000+  Free     0   \n",
       "...      ...     ...                 ...          ...   ...   ...   \n",
       "2833     3.3    2385  Varies with device      10,000+  Paid  1.99   \n",
       "2834     3.8     668  Varies with device   5,000,000+  Free     0   \n",
       "2835     4.2    1218                3.5M     100,000+  Free     0   \n",
       "2837     3.3   13296                 33M     500,000+  Paid  3.99   \n",
       "2838     4.3     143                 16M   1,000,000+  Free     0   \n",
       "\n",
       "     Content Rating                     Genres  lastupdate  \n",
       "0          Everyone               Art & Design        -213  \n",
       "1          Everyone  Art & Design;Pretend Play        -205  \n",
       "2          Everyone               Art & Design          -7  \n",
       "3              Teen               Art & Design         -61  \n",
       "4          Everyone    Art & Design;Creativity         -49  \n",
       "...             ...                        ...         ...  \n",
       "2833       Everyone                      Tools       -1775  \n",
       "2834       Everyone    Video Players & Editors       -1093  \n",
       "2835       Everyone                     Social       -1423  \n",
       "2837       Everyone               Productivity        -336  \n",
       "2838       Everyone    Video Players & Editors       -2138  \n",
       "\n",
       "[11825 rows x 11 columns]"
      ]
     },
     "execution_count": 17,
     "metadata": {},
     "output_type": "execute_result"
    }
   ],
   "source": [
    "df"
   ]
  },
  {
   "cell_type": "markdown",
   "metadata": {},
   "source": [
    "## Rating"
   ]
  },
  {
   "cell_type": "code",
   "execution_count": 18,
   "metadata": {
    "ExecuteTime": {
     "end_time": "2021-05-24T23:40:11.089227Z",
     "start_time": "2021-05-24T23:40:10.963928Z"
    }
   },
   "outputs": [],
   "source": [
    "# replacing the NAN values with the average rating\n",
    "df['Rating'] = df['Rating'].fillna(df['Rating'].mean())"
   ]
  },
  {
   "cell_type": "markdown",
   "metadata": {},
   "source": [
    "## Reviews"
   ]
  },
  {
   "cell_type": "code",
   "execution_count": 19,
   "metadata": {
    "ExecuteTime": {
     "end_time": "2021-05-24T23:40:11.200596Z",
     "start_time": "2021-05-24T23:40:11.091234Z"
    }
   },
   "outputs": [],
   "source": [
    "df['Reviews'] = pd.to_numeric(df['Reviews'])"
   ]
  },
  {
   "cell_type": "code",
   "execution_count": 20,
   "metadata": {
    "ExecuteTime": {
     "end_time": "2021-05-24T23:40:11.232702Z",
     "start_time": "2021-05-24T23:40:11.202604Z"
    }
   },
   "outputs": [],
   "source": [
    "# df = df.dropna().reset_index(drop =True)\n",
    "df['Reviews'] = df['Reviews'].fillna(df['Reviews'].mean())"
   ]
  },
  {
   "cell_type": "code",
   "execution_count": 21,
   "metadata": {
    "ExecuteTime": {
     "end_time": "2021-05-24T23:40:11.264810Z",
     "start_time": "2021-05-24T23:40:11.235713Z"
    },
    "scrolled": true
   },
   "outputs": [
    {
     "data": {
      "text/plain": [
       "0.0          0.052600\n",
       "1.0          0.023087\n",
       "2.0          0.018605\n",
       "3.0          0.015053\n",
       "4.0          0.011924\n",
       "               ...   \n",
       "382100.0     0.000085\n",
       "23802.0      0.000085\n",
       "105766.0     0.000085\n",
       "16876.0      0.000085\n",
       "1163232.0    0.000085\n",
       "Name: Reviews, Length: 6960, dtype: float64"
      ]
     },
     "execution_count": 21,
     "metadata": {},
     "output_type": "execute_result"
    }
   ],
   "source": [
    "df.Reviews.value_counts(normalize=True)"
   ]
  },
  {
   "cell_type": "code",
   "execution_count": 22,
   "metadata": {
    "ExecuteTime": {
     "end_time": "2021-05-24T23:40:11.328741Z",
     "start_time": "2021-05-24T23:40:11.270831Z"
    }
   },
   "outputs": [],
   "source": [
    "review_mean = df.Reviews.mean()\n",
    "df.Reviews = df['Reviews'].map(lambda x: review_mean if x == 0.0 else x)"
   ]
  },
  {
   "cell_type": "markdown",
   "metadata": {},
   "source": [
    "## Size"
   ]
  },
  {
   "cell_type": "code",
   "execution_count": 23,
   "metadata": {
    "ExecuteTime": {
     "end_time": "2021-05-24T23:40:11.392954Z",
     "start_time": "2021-05-24T23:40:11.332756Z"
    },
    "scrolled": true
   },
   "outputs": [
    {
     "data": {
      "text/html": [
       "<div>\n",
       "<style scoped>\n",
       "    .dataframe tbody tr th:only-of-type {\n",
       "        vertical-align: middle;\n",
       "    }\n",
       "\n",
       "    .dataframe tbody tr th {\n",
       "        vertical-align: top;\n",
       "    }\n",
       "\n",
       "    .dataframe thead th {\n",
       "        text-align: right;\n",
       "    }\n",
       "</style>\n",
       "<table border=\"1\" class=\"dataframe\">\n",
       "  <thead>\n",
       "    <tr style=\"text-align: right;\">\n",
       "      <th></th>\n",
       "      <th>App</th>\n",
       "      <th>Category</th>\n",
       "      <th>Rating</th>\n",
       "      <th>Reviews</th>\n",
       "      <th>Size</th>\n",
       "      <th>Installs</th>\n",
       "      <th>Type</th>\n",
       "      <th>Price</th>\n",
       "      <th>Content Rating</th>\n",
       "      <th>Genres</th>\n",
       "      <th>lastupdate</th>\n",
       "    </tr>\n",
       "  </thead>\n",
       "  <tbody>\n",
       "    <tr>\n",
       "      <th>37</th>\n",
       "      <td>Floor Plan Creator</td>\n",
       "      <td>ART_AND_DESIGN</td>\n",
       "      <td>4.1</td>\n",
       "      <td>36639.0</td>\n",
       "      <td>Varies with device</td>\n",
       "      <td>5,000,000+</td>\n",
       "      <td>Free</td>\n",
       "      <td>0</td>\n",
       "      <td>Everyone</td>\n",
       "      <td>Art &amp; Design</td>\n",
       "      <td>-25</td>\n",
       "    </tr>\n",
       "    <tr>\n",
       "      <th>42</th>\n",
       "      <td>Textgram - write on photos</td>\n",
       "      <td>ART_AND_DESIGN</td>\n",
       "      <td>4.4</td>\n",
       "      <td>295221.0</td>\n",
       "      <td>Varies with device</td>\n",
       "      <td>10,000,000+</td>\n",
       "      <td>Free</td>\n",
       "      <td>0</td>\n",
       "      <td>Everyone</td>\n",
       "      <td>Art &amp; Design</td>\n",
       "      <td>-9</td>\n",
       "    </tr>\n",
       "    <tr>\n",
       "      <th>52</th>\n",
       "      <td>Used Cars and Trucks for Sale</td>\n",
       "      <td>AUTO_AND_VEHICLES</td>\n",
       "      <td>4.6</td>\n",
       "      <td>17057.0</td>\n",
       "      <td>Varies with device</td>\n",
       "      <td>1,000,000+</td>\n",
       "      <td>Free</td>\n",
       "      <td>0</td>\n",
       "      <td>Everyone</td>\n",
       "      <td>Auto &amp; Vehicles</td>\n",
       "      <td>-9</td>\n",
       "    </tr>\n",
       "    <tr>\n",
       "      <th>67</th>\n",
       "      <td>Ulysse Speedometer</td>\n",
       "      <td>AUTO_AND_VEHICLES</td>\n",
       "      <td>4.3</td>\n",
       "      <td>40211.0</td>\n",
       "      <td>Varies with device</td>\n",
       "      <td>5,000,000+</td>\n",
       "      <td>Free</td>\n",
       "      <td>0</td>\n",
       "      <td>Everyone</td>\n",
       "      <td>Auto &amp; Vehicles</td>\n",
       "      <td>-9</td>\n",
       "    </tr>\n",
       "    <tr>\n",
       "      <th>68</th>\n",
       "      <td>REPUVE</td>\n",
       "      <td>AUTO_AND_VEHICLES</td>\n",
       "      <td>3.9</td>\n",
       "      <td>356.0</td>\n",
       "      <td>Varies with device</td>\n",
       "      <td>100,000+</td>\n",
       "      <td>Free</td>\n",
       "      <td>0</td>\n",
       "      <td>Everyone</td>\n",
       "      <td>Auto &amp; Vehicles</td>\n",
       "      <td>-75</td>\n",
       "    </tr>\n",
       "    <tr>\n",
       "      <th>...</th>\n",
       "      <td>...</td>\n",
       "      <td>...</td>\n",
       "      <td>...</td>\n",
       "      <td>...</td>\n",
       "      <td>...</td>\n",
       "      <td>...</td>\n",
       "      <td>...</td>\n",
       "      <td>...</td>\n",
       "      <td>...</td>\n",
       "      <td>...</td>\n",
       "      <td>...</td>\n",
       "    </tr>\n",
       "    <tr>\n",
       "      <th>2813</th>\n",
       "      <td>Flud - Torrent Downloader</td>\n",
       "      <td>VIDEO_PLAYERS</td>\n",
       "      <td>4.5</td>\n",
       "      <td>122381.0</td>\n",
       "      <td>Varies with device</td>\n",
       "      <td>10,000,000+</td>\n",
       "      <td>Free</td>\n",
       "      <td>0</td>\n",
       "      <td>Everyone</td>\n",
       "      <td>Video Players &amp; Editors</td>\n",
       "      <td>-421</td>\n",
       "    </tr>\n",
       "    <tr>\n",
       "      <th>2817</th>\n",
       "      <td>Torrent Downloader</td>\n",
       "      <td>VIDEO_PLAYERS</td>\n",
       "      <td>3.8</td>\n",
       "      <td>3142.0</td>\n",
       "      <td>Varies with device</td>\n",
       "      <td>1,000,000+</td>\n",
       "      <td>Free</td>\n",
       "      <td>0</td>\n",
       "      <td>Everyone</td>\n",
       "      <td>Video Players &amp; Editors</td>\n",
       "      <td>-403</td>\n",
       "    </tr>\n",
       "    <tr>\n",
       "      <th>2824</th>\n",
       "      <td>BitTorrent® Pro - Official Torrent Download App</td>\n",
       "      <td>VIDEO_PLAYERS</td>\n",
       "      <td>4.4</td>\n",
       "      <td>3627.0</td>\n",
       "      <td>Varies with device</td>\n",
       "      <td>50,000+</td>\n",
       "      <td>Paid</td>\n",
       "      <td>2.99</td>\n",
       "      <td>Everyone</td>\n",
       "      <td>Video Players &amp; Editors</td>\n",
       "      <td>-14</td>\n",
       "    </tr>\n",
       "    <tr>\n",
       "      <th>2833</th>\n",
       "      <td>aTorrent PRO - torrent client</td>\n",
       "      <td>TOOLS</td>\n",
       "      <td>3.3</td>\n",
       "      <td>2385.0</td>\n",
       "      <td>Varies with device</td>\n",
       "      <td>10,000+</td>\n",
       "      <td>Paid</td>\n",
       "      <td>1.99</td>\n",
       "      <td>Everyone</td>\n",
       "      <td>Tools</td>\n",
       "      <td>-1775</td>\n",
       "    </tr>\n",
       "    <tr>\n",
       "      <th>2834</th>\n",
       "      <td>Archos Video Player Free</td>\n",
       "      <td>VIDEO_PLAYERS</td>\n",
       "      <td>3.8</td>\n",
       "      <td>668.0</td>\n",
       "      <td>Varies with device</td>\n",
       "      <td>5,000,000+</td>\n",
       "      <td>Free</td>\n",
       "      <td>0</td>\n",
       "      <td>Everyone</td>\n",
       "      <td>Video Players &amp; Editors</td>\n",
       "      <td>-1093</td>\n",
       "    </tr>\n",
       "  </tbody>\n",
       "</table>\n",
       "<p>1608 rows × 11 columns</p>\n",
       "</div>"
      ],
      "text/plain": [
       "                                                  App           Category  \\\n",
       "37                                 Floor Plan Creator     ART_AND_DESIGN   \n",
       "42                         Textgram - write on photos     ART_AND_DESIGN   \n",
       "52                      Used Cars and Trucks for Sale  AUTO_AND_VEHICLES   \n",
       "67                                 Ulysse Speedometer  AUTO_AND_VEHICLES   \n",
       "68                                             REPUVE  AUTO_AND_VEHICLES   \n",
       "...                                               ...                ...   \n",
       "2813                        Flud - Torrent Downloader      VIDEO_PLAYERS   \n",
       "2817                               Torrent Downloader      VIDEO_PLAYERS   \n",
       "2824  BitTorrent® Pro - Official Torrent Download App      VIDEO_PLAYERS   \n",
       "2833                    aTorrent PRO - torrent client              TOOLS   \n",
       "2834                         Archos Video Player Free      VIDEO_PLAYERS   \n",
       "\n",
       "      Rating   Reviews                Size     Installs  Type Price  \\\n",
       "37       4.1   36639.0  Varies with device   5,000,000+  Free     0   \n",
       "42       4.4  295221.0  Varies with device  10,000,000+  Free     0   \n",
       "52       4.6   17057.0  Varies with device   1,000,000+  Free     0   \n",
       "67       4.3   40211.0  Varies with device   5,000,000+  Free     0   \n",
       "68       3.9     356.0  Varies with device     100,000+  Free     0   \n",
       "...      ...       ...                 ...          ...   ...   ...   \n",
       "2813     4.5  122381.0  Varies with device  10,000,000+  Free     0   \n",
       "2817     3.8    3142.0  Varies with device   1,000,000+  Free     0   \n",
       "2824     4.4    3627.0  Varies with device      50,000+  Paid  2.99   \n",
       "2833     3.3    2385.0  Varies with device      10,000+  Paid  1.99   \n",
       "2834     3.8     668.0  Varies with device   5,000,000+  Free     0   \n",
       "\n",
       "     Content Rating                   Genres  lastupdate  \n",
       "37         Everyone             Art & Design         -25  \n",
       "42         Everyone             Art & Design          -9  \n",
       "52         Everyone          Auto & Vehicles          -9  \n",
       "67         Everyone          Auto & Vehicles          -9  \n",
       "68         Everyone          Auto & Vehicles         -75  \n",
       "...             ...                      ...         ...  \n",
       "2813       Everyone  Video Players & Editors        -421  \n",
       "2817       Everyone  Video Players & Editors        -403  \n",
       "2824       Everyone  Video Players & Editors         -14  \n",
       "2833       Everyone                    Tools       -1775  \n",
       "2834       Everyone  Video Players & Editors       -1093  \n",
       "\n",
       "[1608 rows x 11 columns]"
      ]
     },
     "execution_count": 23,
     "metadata": {},
     "output_type": "execute_result"
    }
   ],
   "source": [
    "df[df['Size'] == \"Varies with device\"]"
   ]
  },
  {
   "cell_type": "code",
   "execution_count": 24,
   "metadata": {
    "ExecuteTime": {
     "end_time": "2021-05-24T23:40:11.457167Z",
     "start_time": "2021-05-24T23:40:11.394962Z"
    }
   },
   "outputs": [],
   "source": [
    "# create a variable to hold a certain value\n",
    "mask = df['Size'].str.startswith('V')\n",
    "\n",
    "#replace that value with zero\n",
    "df.loc[mask, 'Size'] = 0"
   ]
  },
  {
   "cell_type": "code",
   "execution_count": 25,
   "metadata": {
    "ExecuteTime": {
     "end_time": "2021-05-24T23:40:11.553288Z",
     "start_time": "2021-05-24T23:40:11.460177Z"
    }
   },
   "outputs": [],
   "source": [
    "# convert the K and M to thousands and millions using regex\n",
    "df.Size = (df.Size.replace(r'[kMG]+$', '', regex=True).astype(float) * \\\n",
    "           df.Size.str.extract(r'[\\d\\.]+([kMG]+)', expand=False).fillna(1)\n",
    "           .replace(['k','M', 'G'], [2**10, 2**20, 2**30]).astype(int))"
   ]
  },
  {
   "cell_type": "code",
   "execution_count": 26,
   "metadata": {
    "ExecuteTime": {
     "end_time": "2021-05-24T23:40:11.585395Z",
     "start_time": "2021-05-24T23:40:11.555297Z"
    }
   },
   "outputs": [],
   "source": [
    "#convert column in megabytes\n",
    "df['Size'] = (df['Size'] / 2**20).round(3)"
   ]
  },
  {
   "cell_type": "code",
   "execution_count": 27,
   "metadata": {
    "ExecuteTime": {
     "end_time": "2021-05-24T23:40:11.617500Z",
     "start_time": "2021-05-24T23:40:11.587401Z"
    }
   },
   "outputs": [],
   "source": [
    "#to retain some data replace zeros with the column's avearge\n",
    "mean_size = df['Size'].mean()\n",
    "df['Size'] = df.Size.mask(df.Size == 0.0,mean_size)"
   ]
  },
  {
   "cell_type": "markdown",
   "metadata": {},
   "source": [
    "## Installs"
   ]
  },
  {
   "cell_type": "code",
   "execution_count": 28,
   "metadata": {
    "ExecuteTime": {
     "end_time": "2021-05-24T23:40:11.696763Z",
     "start_time": "2021-05-24T23:40:11.620510Z"
    }
   },
   "outputs": [],
   "source": [
    "# remove the + sign from columns\n",
    "df['Installs'] = df['Installs'].str.replace('+','').str.replace(',','')"
   ]
  },
  {
   "cell_type": "code",
   "execution_count": 29,
   "metadata": {
    "ExecuteTime": {
     "end_time": "2021-05-24T23:40:11.728850Z",
     "start_time": "2021-05-24T23:40:11.698771Z"
    }
   },
   "outputs": [
    {
     "data": {
      "text/plain": [
       "array(['10000', '500000', '5000000', '50000000', '100000', '50000',\n",
       "       '1000000', '10000000', '5000', '100000000', '1000000000', '1000',\n",
       "       '500000000', '50', '100', '500', '10', '1', '5', '0', nan],\n",
       "      dtype=object)"
      ]
     },
     "execution_count": 29,
     "metadata": {},
     "output_type": "execute_result"
    }
   ],
   "source": [
    "df['Installs'].unique()"
   ]
  },
  {
   "cell_type": "code",
   "execution_count": 30,
   "metadata": {
    "ExecuteTime": {
     "end_time": "2021-05-24T23:40:11.792330Z",
     "start_time": "2021-05-24T23:40:11.730857Z"
    }
   },
   "outputs": [],
   "source": [
    "#change datatype\n",
    "df['Installs'] = pd.to_numeric(df['Installs'])\n",
    "df['Installs'] = df['Installs'].replace(np.nan, 0)"
   ]
  },
  {
   "cell_type": "code",
   "execution_count": 31,
   "metadata": {
    "ExecuteTime": {
     "end_time": "2021-05-24T23:40:11.855689Z",
     "start_time": "2021-05-24T23:40:11.794337Z"
    }
   },
   "outputs": [],
   "source": [
    "install_mean = df['Installs'].mean()\n",
    "df['Installs'] = df['Installs'].map(lambda x: install_mean if x == 0.0 else x)"
   ]
  },
  {
   "cell_type": "markdown",
   "metadata": {},
   "source": [
    "## Free Apps"
   ]
  },
  {
   "cell_type": "code",
   "execution_count": 32,
   "metadata": {
    "ExecuteTime": {
     "end_time": "2021-05-24T23:40:11.934870Z",
     "start_time": "2021-05-24T23:40:11.858698Z"
    }
   },
   "outputs": [
    {
     "data": {
      "text/plain": [
       "Free    0.875592\n",
       "Paid    0.124408\n",
       "Name: Type, dtype: float64"
      ]
     },
     "execution_count": 32,
     "metadata": {},
     "output_type": "execute_result"
    }
   ],
   "source": [
    "df.Type.value_counts(normalize=True)"
   ]
  },
  {
   "cell_type": "code",
   "execution_count": 33,
   "metadata": {
    "ExecuteTime": {
     "end_time": "2021-05-24T23:40:12.015108Z",
     "start_time": "2021-05-24T23:40:11.936918Z"
    }
   },
   "outputs": [],
   "source": [
    "df['is_free'] = df['Type'].map(lambda x: 1 if x == 'Free' else 0)"
   ]
  },
  {
   "cell_type": "code",
   "execution_count": 34,
   "metadata": {
    "ExecuteTime": {
     "end_time": "2021-05-24T23:40:12.094334Z",
     "start_time": "2021-05-24T23:40:12.017116Z"
    }
   },
   "outputs": [],
   "source": [
    "df['Price'] = df['Price'].apply(lambda x : str(x).strip('$')).astype(float).round()"
   ]
  },
  {
   "cell_type": "code",
   "execution_count": 35,
   "metadata": {
    "ExecuteTime": {
     "end_time": "2021-05-24T23:40:12.158375Z",
     "start_time": "2021-05-24T23:40:12.097344Z"
    }
   },
   "outputs": [],
   "source": [
    "# from sklearn import preprocessing\n",
    "# def labelencode(col, df):\n",
    "#     le = preprocessing.LabelEncoder()\n",
    "#     df[col] = le.fit_transform(df[col])\n",
    "# le = preprocessing.LabelEncoder()\n",
    "# df['Content Rating'] = le.fit_transform(df['Content Rating'])\n",
    "\n",
    "# le = preprocessing.LabelEncoder()\n",
    "# df['Genres'] = le.fit_transform(df['Genres'])"
   ]
  },
  {
   "cell_type": "code",
   "execution_count": 38,
   "metadata": {
    "ExecuteTime": {
     "end_time": "2021-05-24T23:40:28.583511Z",
     "start_time": "2021-05-24T23:40:28.569466Z"
    }
   },
   "outputs": [],
   "source": [
    "main_df = df.copy()\n",
    "main_df = main_df.drop(['App', 'Type'], axis=1)\n",
    "main_df.dropna(inplace=True)"
   ]
  },
  {
   "cell_type": "markdown",
   "metadata": {},
   "source": [
    "# Cleaned Data"
   ]
  },
  {
   "cell_type": "code",
   "execution_count": 39,
   "metadata": {
    "ExecuteTime": {
     "end_time": "2021-05-24T23:40:29.709255Z",
     "start_time": "2021-05-24T23:40:29.690180Z"
    }
   },
   "outputs": [
    {
     "name": "stdout",
     "output_type": "stream",
     "text": [
      "<class 'pandas.core.frame.DataFrame'>\n",
      "Int64Index: 11822 entries, 0 to 2838\n",
      "Data columns (total 10 columns):\n",
      " #   Column          Non-Null Count  Dtype  \n",
      "---  ------          --------------  -----  \n",
      " 0   Category        11822 non-null  object \n",
      " 1   Rating          11822 non-null  float64\n",
      " 2   Reviews         11822 non-null  float64\n",
      " 3   Size            11822 non-null  float64\n",
      " 4   Installs        11822 non-null  float64\n",
      " 5   Price           11822 non-null  float64\n",
      " 6   Content Rating  11822 non-null  object \n",
      " 7   Genres          11822 non-null  object \n",
      " 8   lastupdate      11822 non-null  int64  \n",
      " 9   is_free         11822 non-null  int64  \n",
      "dtypes: float64(5), int64(2), object(3)\n",
      "memory usage: 1016.0+ KB\n"
     ]
    }
   ],
   "source": [
    "main_df.info()"
   ]
  },
  {
   "cell_type": "code",
   "execution_count": 40,
   "metadata": {
    "ExecuteTime": {
     "end_time": "2021-05-24T23:40:30.572883Z",
     "start_time": "2021-05-24T23:40:30.447537Z"
    }
   },
   "outputs": [],
   "source": [
    "main_df.to_csv('final_data1.csv')"
   ]
  },
  {
   "cell_type": "code",
   "execution_count": null,
   "metadata": {},
   "outputs": [],
   "source": []
  }
 ],
 "metadata": {
  "kernelspec": {
   "display_name": "Python 3",
   "language": "python",
   "name": "python3"
  },
  "language_info": {
   "codemirror_mode": {
    "name": "ipython",
    "version": 3
   },
   "file_extension": ".py",
   "mimetype": "text/x-python",
   "name": "python",
   "nbconvert_exporter": "python",
   "pygments_lexer": "ipython3",
   "version": "3.8.5"
  },
  "toc": {
   "base_numbering": 1,
   "nav_menu": {},
   "number_sections": true,
   "sideBar": true,
   "skip_h1_title": false,
   "title_cell": "Table of Contents",
   "title_sidebar": "Contents",
   "toc_cell": false,
   "toc_position": {
    "height": "calc(100% - 180px)",
    "left": "10px",
    "top": "150px",
    "width": "384px"
   },
   "toc_section_display": true,
   "toc_window_display": true
  },
  "varInspector": {
   "cols": {
    "lenName": 16,
    "lenType": 16,
    "lenVar": 40
   },
   "kernels_config": {
    "python": {
     "delete_cmd_postfix": "",
     "delete_cmd_prefix": "del ",
     "library": "var_list.py",
     "varRefreshCmd": "print(var_dic_list())"
    },
    "r": {
     "delete_cmd_postfix": ") ",
     "delete_cmd_prefix": "rm(",
     "library": "var_list.r",
     "varRefreshCmd": "cat(var_dic_list()) "
    }
   },
   "types_to_exclude": [
    "module",
    "function",
    "builtin_function_or_method",
    "instance",
    "_Feature"
   ],
   "window_display": false
  }
 },
 "nbformat": 4,
 "nbformat_minor": 4
}
