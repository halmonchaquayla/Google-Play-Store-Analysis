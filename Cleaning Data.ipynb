{
 "cells": [
  {
   "cell_type": "markdown",
   "metadata": {},
   "source": [
    "# Import Data"
   ]
  },
  {
   "cell_type": "code",
   "execution_count": 1,
   "metadata": {
    "ExecuteTime": {
     "end_time": "2021-04-07T01:46:59.081199Z",
     "start_time": "2021-04-07T01:46:58.088436Z"
    }
   },
   "outputs": [],
   "source": [
    "import pandas as pd\n",
    "import numpy as np\n",
    "import matplotlib.pyplot as plt\n",
    "%matplotlib inline\n",
    "\n",
    "pd.set_option('display.max_columns', 500)"
   ]
  },
  {
   "cell_type": "code",
   "execution_count": 2,
   "metadata": {
    "ExecuteTime": {
     "end_time": "2021-04-07T01:46:59.128318Z",
     "start_time": "2021-04-07T01:46:59.085211Z"
    }
   },
   "outputs": [],
   "source": [
    "gg_data = pd.read_csv('data/googleplaystore.csv')\n",
    "# new_data = pd.read_csv('data/new_app_data.csv')"
   ]
  },
  {
   "cell_type": "code",
   "execution_count": 3,
   "metadata": {
    "ExecuteTime": {
     "end_time": "2021-04-07T01:46:59.144370Z",
     "start_time": "2021-04-07T01:46:59.134337Z"
    }
   },
   "outputs": [],
   "source": [
    "data = gg_data.copy()"
   ]
  },
  {
   "cell_type": "code",
   "execution_count": 4,
   "metadata": {
    "ExecuteTime": {
     "end_time": "2021-04-07T01:46:59.256741Z",
     "start_time": "2021-04-07T01:46:59.146380Z"
    }
   },
   "outputs": [
    {
     "name": "stdout",
     "output_type": "stream",
     "text": [
      "App\n",
      "ROBLOX                                               0.000830\n",
      "CBS Sports App - Scores, News, Stats & Watch Live    0.000738\n",
      "8 Ball Pool                                          0.000646\n",
      "Candy Crush Saga                                     0.000646\n",
      "ESPN                                                 0.000646\n",
      "                                                       ...   \n",
      "Q Cat Live Wallpaper                                 0.000092\n",
      "Unit Converter                                       0.000092\n",
      "PROFESSOR SEE-BA LINGUAGENS E SUAS TECNOLOGIAS       0.000092\n",
      "CF cal                                               0.000092\n",
      "Asylum Night Shift - Five Nights Survival            0.000092\n",
      "Name: App, Length: 9660, dtype: float64\n",
      "-------------------------------\n",
      "Category\n",
      "FAMILY                 0.181902\n",
      "GAME                   0.105525\n",
      "TOOLS                  0.077760\n",
      "MEDICAL                0.042708\n",
      "BUSINESS               0.042432\n",
      "PRODUCTIVITY           0.039111\n",
      "PERSONALIZATION        0.036159\n",
      "COMMUNICATION          0.035698\n",
      "SPORTS                 0.035421\n",
      "LIFESTYLE              0.035237\n",
      "FINANCE                0.033761\n",
      "HEALTH_AND_FITNESS     0.031455\n",
      "PHOTOGRAPHY            0.030901\n",
      "SOCIAL                 0.027212\n",
      "NEWS_AND_MAGAZINES     0.026105\n",
      "SHOPPING               0.023983\n",
      "TRAVEL_AND_LOCAL       0.023799\n",
      "DATING                 0.021585\n",
      "BOOKS_AND_REFERENCE    0.021308\n",
      "VIDEO_PLAYERS          0.016142\n",
      "EDUCATION              0.014390\n",
      "ENTERTAINMENT          0.013744\n",
      "MAPS_AND_NAVIGATION    0.012637\n",
      "FOOD_AND_DRINK         0.011715\n",
      "HOUSE_AND_HOME         0.008117\n",
      "LIBRARIES_AND_DEMO     0.007841\n",
      "AUTO_AND_VEHICLES      0.007841\n",
      "WEATHER                0.007564\n",
      "ART_AND_DESIGN         0.005996\n",
      "EVENTS                 0.005904\n",
      "COMICS                 0.005535\n",
      "PARENTING              0.005535\n",
      "BEAUTY                 0.004889\n",
      "1.9                    0.000092\n",
      "Name: Category, dtype: float64\n",
      "-------------------------------\n",
      "Rating\n",
      "4.4     0.118394\n",
      "4.3     0.114871\n",
      "4.5     0.110815\n",
      "4.2     0.101633\n",
      "4.6     0.087862\n",
      "4.1     0.075584\n",
      "4.0     0.060638\n",
      "4.7     0.053272\n",
      "3.9     0.041208\n",
      "3.8     0.032348\n",
      "5.0     0.029252\n",
      "3.7     0.025515\n",
      "4.8     0.024981\n",
      "3.6     0.018576\n",
      "3.5     0.017402\n",
      "3.4     0.013665\n",
      "3.3     0.010889\n",
      "4.9     0.009288\n",
      "3.0     0.008861\n",
      "3.1     0.007366\n",
      "3.2     0.006832\n",
      "2.9     0.004804\n",
      "2.8     0.004484\n",
      "2.6     0.002669\n",
      "2.7     0.002669\n",
      "2.5     0.002242\n",
      "2.3     0.002135\n",
      "2.4     0.002028\n",
      "1.0     0.001708\n",
      "2.2     0.001495\n",
      "1.9     0.001388\n",
      "2.0     0.001281\n",
      "2.1     0.000854\n",
      "1.7     0.000854\n",
      "1.8     0.000854\n",
      "1.6     0.000427\n",
      "1.4     0.000320\n",
      "1.5     0.000320\n",
      "1.2     0.000107\n",
      "19.0    0.000107\n",
      "Name: Rating, dtype: float64\n",
      "-------------------------------\n",
      "Reviews\n",
      "0          0.054976\n",
      "1          0.025090\n",
      "2          0.019740\n",
      "3          0.016142\n",
      "4          0.012637\n",
      "             ...   \n",
      "31552      0.000092\n",
      "430        0.000092\n",
      "5793284    0.000092\n",
      "910051     0.000092\n",
      "6784       0.000092\n",
      "Name: Reviews, Length: 6002, dtype: float64\n",
      "-------------------------------\n",
      "Size\n",
      "Varies with device    0.156351\n",
      "11M                   0.018264\n",
      "12M                   0.018080\n",
      "14M                   0.017895\n",
      "13M                   0.017618\n",
      "                        ...   \n",
      "234k                  0.000092\n",
      "619k                  0.000092\n",
      "226k                  0.000092\n",
      "28k                   0.000092\n",
      "784k                  0.000092\n",
      "Name: Size, Length: 462, dtype: float64\n",
      "-------------------------------\n",
      "Installs\n",
      "1,000,000+        0.145651\n",
      "10,000,000+       0.115488\n",
      "100,000+          0.107831\n",
      "10,000+           0.097224\n",
      "1,000+            0.083664\n",
      "5,000,000+        0.069366\n",
      "100+              0.066322\n",
      "500,000+          0.049719\n",
      "50,000+           0.044184\n",
      "5,000+            0.044000\n",
      "100,000,000+      0.037727\n",
      "10+               0.035606\n",
      "500+              0.030440\n",
      "50,000,000+       0.026658\n",
      "50+               0.018910\n",
      "5+                0.007564\n",
      "500,000,000+      0.006641\n",
      "1+                0.006180\n",
      "1,000,000,000+    0.005350\n",
      "0+                0.001291\n",
      "Free              0.000092\n",
      "0                 0.000092\n",
      "Name: Installs, dtype: float64\n",
      "-------------------------------\n",
      "Type\n",
      "Free    0.926107\n",
      "Paid    0.073801\n",
      "0       0.000092\n",
      "Name: Type, dtype: float64\n",
      "-------------------------------\n",
      "Price\n",
      "0         0.926114\n",
      "$0.99     0.013652\n",
      "$2.99     0.011899\n",
      "$1.99     0.006734\n",
      "$4.99     0.006641\n",
      "            ...   \n",
      "$2.50     0.000092\n",
      "$14.00    0.000092\n",
      "$89.99    0.000092\n",
      "$1.29     0.000092\n",
      "$4.60     0.000092\n",
      "Name: Price, Length: 93, dtype: float64\n",
      "-------------------------------\n",
      "Content Rating\n",
      "Everyone           0.803875\n",
      "Teen               0.111439\n",
      "Mature 17+         0.046033\n",
      "Everyone 10+       0.038192\n",
      "Adults only 18+    0.000277\n",
      "Unrated            0.000185\n",
      "Name: Content Rating, dtype: float64\n",
      "-------------------------------\n",
      "Genres\n",
      "Tools                           0.077668\n",
      "Entertainment                   0.057467\n",
      "Education                       0.050641\n",
      "Medical                         0.042708\n",
      "Business                        0.042432\n",
      "                                  ...   \n",
      "Card;Brain Games                0.000092\n",
      "Books & Reference;Creativity    0.000092\n",
      "Role Playing;Brain Games        0.000092\n",
      "Entertainment;Education         0.000092\n",
      "Comics;Creativity               0.000092\n",
      "Name: Genres, Length: 120, dtype: float64\n",
      "-------------------------------\n",
      "Last Updated\n",
      "August 3, 2018        0.030071\n",
      "August 2, 2018        0.028042\n",
      "July 31, 2018         0.027119\n",
      "August 1, 2018        0.026289\n",
      "July 30, 2018         0.019463\n",
      "                        ...   \n",
      "October 7, 2013       0.000092\n",
      "July 10, 2015         0.000092\n",
      "September 23, 2015    0.000092\n",
      "April 16, 2017        0.000092\n",
      "August 14, 2013       0.000092\n",
      "Name: Last Updated, Length: 1378, dtype: float64\n",
      "-------------------------------\n",
      "Current Ver\n",
      "Varies with device    0.134681\n",
      "1.0                   0.074679\n",
      "1.1                   0.024370\n",
      "1.2                   0.016431\n",
      "2.0                   0.013939\n",
      "                        ...   \n",
      "1.01.00               0.000092\n",
      "2.19.0.201907232      0.000092\n",
      "2.0.0.11              0.000092\n",
      "6.1.1                 0.000092\n",
      "4.20.1                0.000092\n",
      "Name: Current Ver, Length: 2832, dtype: float64\n",
      "-------------------------------\n",
      "Android Ver\n",
      "4.1 and up            0.226149\n",
      "4.0.3 and up          0.138494\n",
      "4.0 and up            0.126868\n",
      "Varies with device    0.125669\n",
      "4.4 and up            0.090423\n",
      "2.3 and up            0.060159\n",
      "5.0 and up            0.055453\n",
      "4.2 and up            0.036354\n",
      "2.3.3 and up          0.025927\n",
      "2.2 and up            0.022513\n",
      "4.3 and up            0.022421\n",
      "3.0 and up            0.022237\n",
      "2.1 and up            0.012364\n",
      "1.6 and up            0.010703\n",
      "6.0 and up            0.005536\n",
      "7.0 and up            0.003875\n",
      "3.2 and up            0.003322\n",
      "2.0 and up            0.002953\n",
      "5.1 and up            0.002214\n",
      "1.5 and up            0.001845\n",
      "4.4W and up           0.001107\n",
      "3.1 and up            0.000923\n",
      "2.0.1 and up          0.000646\n",
      "8.0 and up            0.000554\n",
      "7.1 and up            0.000277\n",
      "4.0.3 - 7.1.1         0.000185\n",
      "5.0 - 8.0             0.000185\n",
      "1.0 and up            0.000185\n",
      "2.2 - 7.1.1           0.000092\n",
      "5.0 - 7.1.1           0.000092\n",
      "7.0 - 7.1.1           0.000092\n",
      "4.1 - 7.1.1           0.000092\n",
      "5.0 - 6.0             0.000092\n",
      "Name: Android Ver, dtype: float64\n",
      "-------------------------------\n"
     ]
    }
   ],
   "source": [
    "for col in data:\n",
    "    print(col)\n",
    "    print(data[col].value_counts(normalize=True))\n",
    "    print('-------------------------------')"
   ]
  },
  {
   "cell_type": "markdown",
   "metadata": {},
   "source": [
    "**Observations**\n",
    "1. **App - there seems to be a few duplicates in app. have to deal with deleting those.**\n",
    "2. **Category - need to look into '1.9'.**\n",
    "3. **Rating - the rating is from 1-5, but there's a rating of 19. Need to delete that one.**\n",
    "4. **Reviews - might drop the '0' reviews or filter the amount of reviews.**\n",
    "5. **Size - the 'varies with device' need to be replace with the average size and the \"M\" needs to be taken out.**\n",
    "6. **Installs - need to get rid of the '+' and maybe filter a min-max scale.**\n",
    "7. **Change Type into a numeric column**\n",
    "8. **Change last update into days.**"
   ]
  },
  {
   "cell_type": "markdown",
   "metadata": {},
   "source": [
    "# Cleaning"
   ]
  },
  {
   "cell_type": "markdown",
   "metadata": {},
   "source": [
    "## App Duplicates"
   ]
  },
  {
   "cell_type": "code",
   "execution_count": 5,
   "metadata": {
    "ExecuteTime": {
     "end_time": "2021-04-07T01:46:59.320954Z",
     "start_time": "2021-04-07T01:46:59.258749Z"
    }
   },
   "outputs": [
    {
     "data": {
      "text/html": [
       "<div>\n",
       "<style scoped>\n",
       "    .dataframe tbody tr th:only-of-type {\n",
       "        vertical-align: middle;\n",
       "    }\n",
       "\n",
       "    .dataframe tbody tr th {\n",
       "        vertical-align: top;\n",
       "    }\n",
       "\n",
       "    .dataframe thead th {\n",
       "        text-align: right;\n",
       "    }\n",
       "</style>\n",
       "<table border=\"1\" class=\"dataframe\">\n",
       "  <thead>\n",
       "    <tr style=\"text-align: right;\">\n",
       "      <th></th>\n",
       "      <th>App</th>\n",
       "      <th>Category</th>\n",
       "      <th>Rating</th>\n",
       "      <th>Reviews</th>\n",
       "      <th>Size</th>\n",
       "      <th>Installs</th>\n",
       "      <th>Type</th>\n",
       "      <th>Price</th>\n",
       "      <th>Content Rating</th>\n",
       "      <th>Genres</th>\n",
       "      <th>Last Updated</th>\n",
       "      <th>Current Ver</th>\n",
       "      <th>Android Ver</th>\n",
       "    </tr>\n",
       "  </thead>\n",
       "  <tbody>\n",
       "    <tr>\n",
       "      <th>1653</th>\n",
       "      <td>ROBLOX</td>\n",
       "      <td>GAME</td>\n",
       "      <td>4.5</td>\n",
       "      <td>4447388</td>\n",
       "      <td>67M</td>\n",
       "      <td>100,000,000+</td>\n",
       "      <td>Free</td>\n",
       "      <td>0</td>\n",
       "      <td>Everyone 10+</td>\n",
       "      <td>Adventure;Action &amp; Adventure</td>\n",
       "      <td>July 31, 2018</td>\n",
       "      <td>2.347.225742</td>\n",
       "      <td>4.1 and up</td>\n",
       "    </tr>\n",
       "    <tr>\n",
       "      <th>1701</th>\n",
       "      <td>ROBLOX</td>\n",
       "      <td>GAME</td>\n",
       "      <td>4.5</td>\n",
       "      <td>4447346</td>\n",
       "      <td>67M</td>\n",
       "      <td>100,000,000+</td>\n",
       "      <td>Free</td>\n",
       "      <td>0</td>\n",
       "      <td>Everyone 10+</td>\n",
       "      <td>Adventure;Action &amp; Adventure</td>\n",
       "      <td>July 31, 2018</td>\n",
       "      <td>2.347.225742</td>\n",
       "      <td>4.1 and up</td>\n",
       "    </tr>\n",
       "    <tr>\n",
       "      <th>1748</th>\n",
       "      <td>ROBLOX</td>\n",
       "      <td>GAME</td>\n",
       "      <td>4.5</td>\n",
       "      <td>4448791</td>\n",
       "      <td>67M</td>\n",
       "      <td>100,000,000+</td>\n",
       "      <td>Free</td>\n",
       "      <td>0</td>\n",
       "      <td>Everyone 10+</td>\n",
       "      <td>Adventure;Action &amp; Adventure</td>\n",
       "      <td>July 31, 2018</td>\n",
       "      <td>2.347.225742</td>\n",
       "      <td>4.1 and up</td>\n",
       "    </tr>\n",
       "    <tr>\n",
       "      <th>1841</th>\n",
       "      <td>ROBLOX</td>\n",
       "      <td>GAME</td>\n",
       "      <td>4.5</td>\n",
       "      <td>4449882</td>\n",
       "      <td>67M</td>\n",
       "      <td>100,000,000+</td>\n",
       "      <td>Free</td>\n",
       "      <td>0</td>\n",
       "      <td>Everyone 10+</td>\n",
       "      <td>Adventure;Action &amp; Adventure</td>\n",
       "      <td>July 31, 2018</td>\n",
       "      <td>2.347.225742</td>\n",
       "      <td>4.1 and up</td>\n",
       "    </tr>\n",
       "    <tr>\n",
       "      <th>1870</th>\n",
       "      <td>ROBLOX</td>\n",
       "      <td>GAME</td>\n",
       "      <td>4.5</td>\n",
       "      <td>4449910</td>\n",
       "      <td>67M</td>\n",
       "      <td>100,000,000+</td>\n",
       "      <td>Free</td>\n",
       "      <td>0</td>\n",
       "      <td>Everyone 10+</td>\n",
       "      <td>Adventure;Action &amp; Adventure</td>\n",
       "      <td>July 31, 2018</td>\n",
       "      <td>2.347.225742</td>\n",
       "      <td>4.1 and up</td>\n",
       "    </tr>\n",
       "    <tr>\n",
       "      <th>2016</th>\n",
       "      <td>ROBLOX</td>\n",
       "      <td>FAMILY</td>\n",
       "      <td>4.5</td>\n",
       "      <td>4449910</td>\n",
       "      <td>67M</td>\n",
       "      <td>100,000,000+</td>\n",
       "      <td>Free</td>\n",
       "      <td>0</td>\n",
       "      <td>Everyone 10+</td>\n",
       "      <td>Adventure;Action &amp; Adventure</td>\n",
       "      <td>July 31, 2018</td>\n",
       "      <td>2.347.225742</td>\n",
       "      <td>4.1 and up</td>\n",
       "    </tr>\n",
       "    <tr>\n",
       "      <th>2088</th>\n",
       "      <td>ROBLOX</td>\n",
       "      <td>FAMILY</td>\n",
       "      <td>4.5</td>\n",
       "      <td>4450855</td>\n",
       "      <td>67M</td>\n",
       "      <td>100,000,000+</td>\n",
       "      <td>Free</td>\n",
       "      <td>0</td>\n",
       "      <td>Everyone 10+</td>\n",
       "      <td>Adventure;Action &amp; Adventure</td>\n",
       "      <td>July 31, 2018</td>\n",
       "      <td>2.347.225742</td>\n",
       "      <td>4.1 and up</td>\n",
       "    </tr>\n",
       "    <tr>\n",
       "      <th>2206</th>\n",
       "      <td>ROBLOX</td>\n",
       "      <td>FAMILY</td>\n",
       "      <td>4.5</td>\n",
       "      <td>4450890</td>\n",
       "      <td>67M</td>\n",
       "      <td>100,000,000+</td>\n",
       "      <td>Free</td>\n",
       "      <td>0</td>\n",
       "      <td>Everyone 10+</td>\n",
       "      <td>Adventure;Action &amp; Adventure</td>\n",
       "      <td>July 31, 2018</td>\n",
       "      <td>2.347.225742</td>\n",
       "      <td>4.1 and up</td>\n",
       "    </tr>\n",
       "    <tr>\n",
       "      <th>4527</th>\n",
       "      <td>ROBLOX</td>\n",
       "      <td>FAMILY</td>\n",
       "      <td>4.5</td>\n",
       "      <td>4443407</td>\n",
       "      <td>67M</td>\n",
       "      <td>100,000,000+</td>\n",
       "      <td>Free</td>\n",
       "      <td>0</td>\n",
       "      <td>Everyone 10+</td>\n",
       "      <td>Adventure;Action &amp; Adventure</td>\n",
       "      <td>July 31, 2018</td>\n",
       "      <td>2.347.225742</td>\n",
       "      <td>4.1 and up</td>\n",
       "    </tr>\n",
       "  </tbody>\n",
       "</table>\n",
       "</div>"
      ],
      "text/plain": [
       "         App Category  Rating  Reviews Size      Installs  Type Price  \\\n",
       "1653  ROBLOX     GAME     4.5  4447388  67M  100,000,000+  Free     0   \n",
       "1701  ROBLOX     GAME     4.5  4447346  67M  100,000,000+  Free     0   \n",
       "1748  ROBLOX     GAME     4.5  4448791  67M  100,000,000+  Free     0   \n",
       "1841  ROBLOX     GAME     4.5  4449882  67M  100,000,000+  Free     0   \n",
       "1870  ROBLOX     GAME     4.5  4449910  67M  100,000,000+  Free     0   \n",
       "2016  ROBLOX   FAMILY     4.5  4449910  67M  100,000,000+  Free     0   \n",
       "2088  ROBLOX   FAMILY     4.5  4450855  67M  100,000,000+  Free     0   \n",
       "2206  ROBLOX   FAMILY     4.5  4450890  67M  100,000,000+  Free     0   \n",
       "4527  ROBLOX   FAMILY     4.5  4443407  67M  100,000,000+  Free     0   \n",
       "\n",
       "     Content Rating                        Genres   Last Updated  \\\n",
       "1653   Everyone 10+  Adventure;Action & Adventure  July 31, 2018   \n",
       "1701   Everyone 10+  Adventure;Action & Adventure  July 31, 2018   \n",
       "1748   Everyone 10+  Adventure;Action & Adventure  July 31, 2018   \n",
       "1841   Everyone 10+  Adventure;Action & Adventure  July 31, 2018   \n",
       "1870   Everyone 10+  Adventure;Action & Adventure  July 31, 2018   \n",
       "2016   Everyone 10+  Adventure;Action & Adventure  July 31, 2018   \n",
       "2088   Everyone 10+  Adventure;Action & Adventure  July 31, 2018   \n",
       "2206   Everyone 10+  Adventure;Action & Adventure  July 31, 2018   \n",
       "4527   Everyone 10+  Adventure;Action & Adventure  July 31, 2018   \n",
       "\n",
       "       Current Ver Android Ver  \n",
       "1653  2.347.225742  4.1 and up  \n",
       "1701  2.347.225742  4.1 and up  \n",
       "1748  2.347.225742  4.1 and up  \n",
       "1841  2.347.225742  4.1 and up  \n",
       "1870  2.347.225742  4.1 and up  \n",
       "2016  2.347.225742  4.1 and up  \n",
       "2088  2.347.225742  4.1 and up  \n",
       "2206  2.347.225742  4.1 and up  \n",
       "4527  2.347.225742  4.1 and up  "
      ]
     },
     "execution_count": 5,
     "metadata": {},
     "output_type": "execute_result"
    }
   ],
   "source": [
    "# let's check to make sure we have duplicates\n",
    "data[data['App'] == 'ROBLOX']"
   ]
  },
  {
   "cell_type": "code",
   "execution_count": 6,
   "metadata": {
    "ExecuteTime": {
     "end_time": "2021-04-07T01:46:59.433325Z",
     "start_time": "2021-04-07T01:46:59.324968Z"
    }
   },
   "outputs": [
    {
     "data": {
      "text/html": [
       "<div>\n",
       "<style scoped>\n",
       "    .dataframe tbody tr th:only-of-type {\n",
       "        vertical-align: middle;\n",
       "    }\n",
       "\n",
       "    .dataframe tbody tr th {\n",
       "        vertical-align: top;\n",
       "    }\n",
       "\n",
       "    .dataframe thead th {\n",
       "        text-align: right;\n",
       "    }\n",
       "</style>\n",
       "<table border=\"1\" class=\"dataframe\">\n",
       "  <thead>\n",
       "    <tr style=\"text-align: right;\">\n",
       "      <th></th>\n",
       "      <th>App</th>\n",
       "      <th>Category</th>\n",
       "      <th>Rating</th>\n",
       "      <th>Reviews</th>\n",
       "      <th>Size</th>\n",
       "      <th>Installs</th>\n",
       "      <th>Type</th>\n",
       "      <th>Price</th>\n",
       "      <th>Content Rating</th>\n",
       "      <th>Genres</th>\n",
       "      <th>Last Updated</th>\n",
       "      <th>Current Ver</th>\n",
       "      <th>Android Ver</th>\n",
       "    </tr>\n",
       "  </thead>\n",
       "  <tbody>\n",
       "    <tr>\n",
       "      <th>2959</th>\n",
       "      <td>ESPN</td>\n",
       "      <td>SPORTS</td>\n",
       "      <td>4.2</td>\n",
       "      <td>521138</td>\n",
       "      <td>Varies with device</td>\n",
       "      <td>10,000,000+</td>\n",
       "      <td>Free</td>\n",
       "      <td>0</td>\n",
       "      <td>Everyone 10+</td>\n",
       "      <td>Sports</td>\n",
       "      <td>July 19, 2018</td>\n",
       "      <td>Varies with device</td>\n",
       "      <td>5.0 and up</td>\n",
       "    </tr>\n",
       "    <tr>\n",
       "      <th>3010</th>\n",
       "      <td>ESPN</td>\n",
       "      <td>SPORTS</td>\n",
       "      <td>4.2</td>\n",
       "      <td>521138</td>\n",
       "      <td>Varies with device</td>\n",
       "      <td>10,000,000+</td>\n",
       "      <td>Free</td>\n",
       "      <td>0</td>\n",
       "      <td>Everyone 10+</td>\n",
       "      <td>Sports</td>\n",
       "      <td>July 19, 2018</td>\n",
       "      <td>Varies with device</td>\n",
       "      <td>5.0 and up</td>\n",
       "    </tr>\n",
       "    <tr>\n",
       "      <th>3018</th>\n",
       "      <td>ESPN</td>\n",
       "      <td>SPORTS</td>\n",
       "      <td>4.2</td>\n",
       "      <td>521138</td>\n",
       "      <td>Varies with device</td>\n",
       "      <td>10,000,000+</td>\n",
       "      <td>Free</td>\n",
       "      <td>0</td>\n",
       "      <td>Everyone 10+</td>\n",
       "      <td>Sports</td>\n",
       "      <td>July 19, 2018</td>\n",
       "      <td>Varies with device</td>\n",
       "      <td>5.0 and up</td>\n",
       "    </tr>\n",
       "    <tr>\n",
       "      <th>3048</th>\n",
       "      <td>ESPN</td>\n",
       "      <td>SPORTS</td>\n",
       "      <td>4.2</td>\n",
       "      <td>521140</td>\n",
       "      <td>Varies with device</td>\n",
       "      <td>10,000,000+</td>\n",
       "      <td>Free</td>\n",
       "      <td>0</td>\n",
       "      <td>Everyone 10+</td>\n",
       "      <td>Sports</td>\n",
       "      <td>July 19, 2018</td>\n",
       "      <td>Varies with device</td>\n",
       "      <td>5.0 and up</td>\n",
       "    </tr>\n",
       "    <tr>\n",
       "      <th>3060</th>\n",
       "      <td>ESPN</td>\n",
       "      <td>SPORTS</td>\n",
       "      <td>4.2</td>\n",
       "      <td>521140</td>\n",
       "      <td>Varies with device</td>\n",
       "      <td>10,000,000+</td>\n",
       "      <td>Free</td>\n",
       "      <td>0</td>\n",
       "      <td>Everyone 10+</td>\n",
       "      <td>Sports</td>\n",
       "      <td>July 19, 2018</td>\n",
       "      <td>Varies with device</td>\n",
       "      <td>5.0 and up</td>\n",
       "    </tr>\n",
       "    <tr>\n",
       "      <th>3072</th>\n",
       "      <td>ESPN</td>\n",
       "      <td>SPORTS</td>\n",
       "      <td>4.2</td>\n",
       "      <td>521140</td>\n",
       "      <td>Varies with device</td>\n",
       "      <td>10,000,000+</td>\n",
       "      <td>Free</td>\n",
       "      <td>0</td>\n",
       "      <td>Everyone 10+</td>\n",
       "      <td>Sports</td>\n",
       "      <td>July 19, 2018</td>\n",
       "      <td>Varies with device</td>\n",
       "      <td>5.0 and up</td>\n",
       "    </tr>\n",
       "    <tr>\n",
       "      <th>4069</th>\n",
       "      <td>ESPN</td>\n",
       "      <td>SPORTS</td>\n",
       "      <td>4.2</td>\n",
       "      <td>521081</td>\n",
       "      <td>Varies with device</td>\n",
       "      <td>10,000,000+</td>\n",
       "      <td>Free</td>\n",
       "      <td>0</td>\n",
       "      <td>Everyone 10+</td>\n",
       "      <td>Sports</td>\n",
       "      <td>July 19, 2018</td>\n",
       "      <td>Varies with device</td>\n",
       "      <td>5.0 and up</td>\n",
       "    </tr>\n",
       "  </tbody>\n",
       "</table>\n",
       "</div>"
      ],
      "text/plain": [
       "       App Category  Rating Reviews                Size     Installs  Type  \\\n",
       "2959  ESPN   SPORTS     4.2  521138  Varies with device  10,000,000+  Free   \n",
       "3010  ESPN   SPORTS     4.2  521138  Varies with device  10,000,000+  Free   \n",
       "3018  ESPN   SPORTS     4.2  521138  Varies with device  10,000,000+  Free   \n",
       "3048  ESPN   SPORTS     4.2  521140  Varies with device  10,000,000+  Free   \n",
       "3060  ESPN   SPORTS     4.2  521140  Varies with device  10,000,000+  Free   \n",
       "3072  ESPN   SPORTS     4.2  521140  Varies with device  10,000,000+  Free   \n",
       "4069  ESPN   SPORTS     4.2  521081  Varies with device  10,000,000+  Free   \n",
       "\n",
       "     Price Content Rating  Genres   Last Updated         Current Ver  \\\n",
       "2959     0   Everyone 10+  Sports  July 19, 2018  Varies with device   \n",
       "3010     0   Everyone 10+  Sports  July 19, 2018  Varies with device   \n",
       "3018     0   Everyone 10+  Sports  July 19, 2018  Varies with device   \n",
       "3048     0   Everyone 10+  Sports  July 19, 2018  Varies with device   \n",
       "3060     0   Everyone 10+  Sports  July 19, 2018  Varies with device   \n",
       "3072     0   Everyone 10+  Sports  July 19, 2018  Varies with device   \n",
       "4069     0   Everyone 10+  Sports  July 19, 2018  Varies with device   \n",
       "\n",
       "     Android Ver  \n",
       "2959  5.0 and up  \n",
       "3010  5.0 and up  \n",
       "3018  5.0 and up  \n",
       "3048  5.0 and up  \n",
       "3060  5.0 and up  \n",
       "3072  5.0 and up  \n",
       "4069  5.0 and up  "
      ]
     },
     "execution_count": 6,
     "metadata": {},
     "output_type": "execute_result"
    }
   ],
   "source": [
    "data[data['App'] == 'ESPN']"
   ]
  },
  {
   "cell_type": "code",
   "execution_count": 7,
   "metadata": {
    "ExecuteTime": {
     "end_time": "2021-04-07T01:46:59.529246Z",
     "start_time": "2021-04-07T01:46:59.436336Z"
    },
    "scrolled": true
   },
   "outputs": [
    {
     "data": {
      "text/html": [
       "<div>\n",
       "<style scoped>\n",
       "    .dataframe tbody tr th:only-of-type {\n",
       "        vertical-align: middle;\n",
       "    }\n",
       "\n",
       "    .dataframe tbody tr th {\n",
       "        vertical-align: top;\n",
       "    }\n",
       "\n",
       "    .dataframe thead th {\n",
       "        text-align: right;\n",
       "    }\n",
       "</style>\n",
       "<table border=\"1\" class=\"dataframe\">\n",
       "  <thead>\n",
       "    <tr style=\"text-align: right;\">\n",
       "      <th></th>\n",
       "      <th>App</th>\n",
       "      <th>Category</th>\n",
       "      <th>Rating</th>\n",
       "      <th>Reviews</th>\n",
       "      <th>Size</th>\n",
       "      <th>Installs</th>\n",
       "      <th>Type</th>\n",
       "      <th>Price</th>\n",
       "      <th>Content Rating</th>\n",
       "      <th>Genres</th>\n",
       "      <th>Last Updated</th>\n",
       "      <th>Current Ver</th>\n",
       "      <th>Android Ver</th>\n",
       "    </tr>\n",
       "  </thead>\n",
       "  <tbody>\n",
       "    <tr>\n",
       "      <th>1655</th>\n",
       "      <td>Candy Crush Saga</td>\n",
       "      <td>GAME</td>\n",
       "      <td>4.4</td>\n",
       "      <td>22426677</td>\n",
       "      <td>74M</td>\n",
       "      <td>500,000,000+</td>\n",
       "      <td>Free</td>\n",
       "      <td>0</td>\n",
       "      <td>Everyone</td>\n",
       "      <td>Casual</td>\n",
       "      <td>July 5, 2018</td>\n",
       "      <td>1.129.0.2</td>\n",
       "      <td>4.1 and up</td>\n",
       "    </tr>\n",
       "    <tr>\n",
       "      <th>1705</th>\n",
       "      <td>Candy Crush Saga</td>\n",
       "      <td>GAME</td>\n",
       "      <td>4.4</td>\n",
       "      <td>22428456</td>\n",
       "      <td>74M</td>\n",
       "      <td>500,000,000+</td>\n",
       "      <td>Free</td>\n",
       "      <td>0</td>\n",
       "      <td>Everyone</td>\n",
       "      <td>Casual</td>\n",
       "      <td>July 5, 2018</td>\n",
       "      <td>1.129.0.2</td>\n",
       "      <td>4.1 and up</td>\n",
       "    </tr>\n",
       "    <tr>\n",
       "      <th>1751</th>\n",
       "      <td>Candy Crush Saga</td>\n",
       "      <td>GAME</td>\n",
       "      <td>4.4</td>\n",
       "      <td>22428456</td>\n",
       "      <td>74M</td>\n",
       "      <td>500,000,000+</td>\n",
       "      <td>Free</td>\n",
       "      <td>0</td>\n",
       "      <td>Everyone</td>\n",
       "      <td>Casual</td>\n",
       "      <td>July 5, 2018</td>\n",
       "      <td>1.129.0.2</td>\n",
       "      <td>4.1 and up</td>\n",
       "    </tr>\n",
       "    <tr>\n",
       "      <th>1842</th>\n",
       "      <td>Candy Crush Saga</td>\n",
       "      <td>GAME</td>\n",
       "      <td>4.4</td>\n",
       "      <td>22429716</td>\n",
       "      <td>74M</td>\n",
       "      <td>500,000,000+</td>\n",
       "      <td>Free</td>\n",
       "      <td>0</td>\n",
       "      <td>Everyone</td>\n",
       "      <td>Casual</td>\n",
       "      <td>July 5, 2018</td>\n",
       "      <td>1.129.0.2</td>\n",
       "      <td>4.1 and up</td>\n",
       "    </tr>\n",
       "    <tr>\n",
       "      <th>1869</th>\n",
       "      <td>Candy Crush Saga</td>\n",
       "      <td>GAME</td>\n",
       "      <td>4.4</td>\n",
       "      <td>22430188</td>\n",
       "      <td>74M</td>\n",
       "      <td>500,000,000+</td>\n",
       "      <td>Free</td>\n",
       "      <td>0</td>\n",
       "      <td>Everyone</td>\n",
       "      <td>Casual</td>\n",
       "      <td>July 5, 2018</td>\n",
       "      <td>1.129.0.2</td>\n",
       "      <td>4.1 and up</td>\n",
       "    </tr>\n",
       "    <tr>\n",
       "      <th>1966</th>\n",
       "      <td>Candy Crush Saga</td>\n",
       "      <td>GAME</td>\n",
       "      <td>4.4</td>\n",
       "      <td>22430188</td>\n",
       "      <td>74M</td>\n",
       "      <td>500,000,000+</td>\n",
       "      <td>Free</td>\n",
       "      <td>0</td>\n",
       "      <td>Everyone</td>\n",
       "      <td>Casual</td>\n",
       "      <td>July 5, 2018</td>\n",
       "      <td>1.129.0.2</td>\n",
       "      <td>4.1 and up</td>\n",
       "    </tr>\n",
       "    <tr>\n",
       "      <th>3994</th>\n",
       "      <td>Candy Crush Saga</td>\n",
       "      <td>FAMILY</td>\n",
       "      <td>4.4</td>\n",
       "      <td>22419455</td>\n",
       "      <td>74M</td>\n",
       "      <td>500,000,000+</td>\n",
       "      <td>Free</td>\n",
       "      <td>0</td>\n",
       "      <td>Everyone</td>\n",
       "      <td>Casual</td>\n",
       "      <td>July 5, 2018</td>\n",
       "      <td>1.129.0.2</td>\n",
       "      <td>4.1 and up</td>\n",
       "    </tr>\n",
       "  </tbody>\n",
       "</table>\n",
       "</div>"
      ],
      "text/plain": [
       "                   App Category  Rating   Reviews Size      Installs  Type  \\\n",
       "1655  Candy Crush Saga     GAME     4.4  22426677  74M  500,000,000+  Free   \n",
       "1705  Candy Crush Saga     GAME     4.4  22428456  74M  500,000,000+  Free   \n",
       "1751  Candy Crush Saga     GAME     4.4  22428456  74M  500,000,000+  Free   \n",
       "1842  Candy Crush Saga     GAME     4.4  22429716  74M  500,000,000+  Free   \n",
       "1869  Candy Crush Saga     GAME     4.4  22430188  74M  500,000,000+  Free   \n",
       "1966  Candy Crush Saga     GAME     4.4  22430188  74M  500,000,000+  Free   \n",
       "3994  Candy Crush Saga   FAMILY     4.4  22419455  74M  500,000,000+  Free   \n",
       "\n",
       "     Price Content Rating  Genres  Last Updated Current Ver Android Ver  \n",
       "1655     0       Everyone  Casual  July 5, 2018   1.129.0.2  4.1 and up  \n",
       "1705     0       Everyone  Casual  July 5, 2018   1.129.0.2  4.1 and up  \n",
       "1751     0       Everyone  Casual  July 5, 2018   1.129.0.2  4.1 and up  \n",
       "1842     0       Everyone  Casual  July 5, 2018   1.129.0.2  4.1 and up  \n",
       "1869     0       Everyone  Casual  July 5, 2018   1.129.0.2  4.1 and up  \n",
       "1966     0       Everyone  Casual  July 5, 2018   1.129.0.2  4.1 and up  \n",
       "3994     0       Everyone  Casual  July 5, 2018   1.129.0.2  4.1 and up  "
      ]
     },
     "execution_count": 7,
     "metadata": {},
     "output_type": "execute_result"
    }
   ],
   "source": [
    "data[data['App'] == 'Candy Crush Saga']"
   ]
  },
  {
   "cell_type": "markdown",
   "metadata": {},
   "source": [
    "**Looking at some of the duplicates it seems that the only difference is the amount of reviews and/or the category name. For now I think I'll stick with the first value and drop the rest.**"
   ]
  },
  {
   "cell_type": "code",
   "execution_count": 8,
   "metadata": {
    "ExecuteTime": {
     "end_time": "2021-04-07T01:46:59.609513Z",
     "start_time": "2021-04-07T01:46:59.531254Z"
    }
   },
   "outputs": [],
   "source": [
    "data = data.drop_duplicates(subset=['App'], keep='first')"
   ]
  },
  {
   "cell_type": "markdown",
   "metadata": {},
   "source": [
    "## Category"
   ]
  },
  {
   "cell_type": "code",
   "execution_count": 9,
   "metadata": {
    "ExecuteTime": {
     "end_time": "2021-04-07T01:46:59.673724Z",
     "start_time": "2021-04-07T01:46:59.612524Z"
    },
    "scrolled": true
   },
   "outputs": [
    {
     "data": {
      "text/html": [
       "<div>\n",
       "<style scoped>\n",
       "    .dataframe tbody tr th:only-of-type {\n",
       "        vertical-align: middle;\n",
       "    }\n",
       "\n",
       "    .dataframe tbody tr th {\n",
       "        vertical-align: top;\n",
       "    }\n",
       "\n",
       "    .dataframe thead th {\n",
       "        text-align: right;\n",
       "    }\n",
       "</style>\n",
       "<table border=\"1\" class=\"dataframe\">\n",
       "  <thead>\n",
       "    <tr style=\"text-align: right;\">\n",
       "      <th></th>\n",
       "      <th>App</th>\n",
       "      <th>Category</th>\n",
       "      <th>Rating</th>\n",
       "      <th>Reviews</th>\n",
       "      <th>Size</th>\n",
       "      <th>Installs</th>\n",
       "      <th>Type</th>\n",
       "      <th>Price</th>\n",
       "      <th>Content Rating</th>\n",
       "      <th>Genres</th>\n",
       "      <th>Last Updated</th>\n",
       "      <th>Current Ver</th>\n",
       "      <th>Android Ver</th>\n",
       "    </tr>\n",
       "  </thead>\n",
       "  <tbody>\n",
       "    <tr>\n",
       "      <th>10472</th>\n",
       "      <td>Life Made WI-Fi Touchscreen Photo Frame</td>\n",
       "      <td>1.9</td>\n",
       "      <td>19.0</td>\n",
       "      <td>3.0M</td>\n",
       "      <td>1,000+</td>\n",
       "      <td>Free</td>\n",
       "      <td>0</td>\n",
       "      <td>Everyone</td>\n",
       "      <td>NaN</td>\n",
       "      <td>February 11, 2018</td>\n",
       "      <td>1.0.19</td>\n",
       "      <td>4.0 and up</td>\n",
       "      <td>NaN</td>\n",
       "    </tr>\n",
       "  </tbody>\n",
       "</table>\n",
       "</div>"
      ],
      "text/plain": [
       "                                           App Category  Rating Reviews  \\\n",
       "10472  Life Made WI-Fi Touchscreen Photo Frame      1.9    19.0    3.0M   \n",
       "\n",
       "         Size Installs Type     Price Content Rating             Genres  \\\n",
       "10472  1,000+     Free    0  Everyone            NaN  February 11, 2018   \n",
       "\n",
       "      Last Updated Current Ver Android Ver  \n",
       "10472       1.0.19  4.0 and up         NaN  "
      ]
     },
     "execution_count": 9,
     "metadata": {},
     "output_type": "execute_result"
    }
   ],
   "source": [
    "data[data['Category'] == '1.9']"
   ]
  },
  {
   "cell_type": "markdown",
   "metadata": {},
   "source": [
    "Since this is one entry I can easily find the correct info and plug it in.\n",
    "Category = Lifestyle\n",
    "Rating = 1.9\n",
    "Reviews = 19.0\n",
    "Size = 3.0M\n",
    "Installs = 1,000\n",
    "Type = Free\n",
    "Price = 0\n",
    "Content Rating = Everyone"
   ]
  },
  {
   "cell_type": "code",
   "execution_count": 10,
   "metadata": {
    "ExecuteTime": {
     "end_time": "2021-04-07T01:46:59.737937Z",
     "start_time": "2021-04-07T01:46:59.676736Z"
    }
   },
   "outputs": [],
   "source": [
    "data.at[10472,\"Category\"]=\"LIFESTYLE\"\n",
    "data.at[10472, \"Rating\"] = 1.9\n",
    "data.at[10472, \"Reviews\"] = \"19.0\"\n",
    "data.at[10472, \"Size\"] = \"3.0M\"\n",
    "data.at[10472, \"Installs\"] = \"1,000+\"\n",
    "data.at[10472, \"Type\"] = \"Free\"\n",
    "data.at[10472,'Price']= 0\n",
    "data.at[10472, \"Content Rating\"] = \"Everyone\"\n",
    "data.at[10472, \"Last Updated\"] = \"February 11, 2018\""
   ]
  },
  {
   "cell_type": "code",
   "execution_count": 11,
   "metadata": {
    "ExecuteTime": {
     "end_time": "2021-04-07T01:46:59.802149Z",
     "start_time": "2021-04-07T01:46:59.745964Z"
    }
   },
   "outputs": [
    {
     "data": {
      "text/html": [
       "<div>\n",
       "<style scoped>\n",
       "    .dataframe tbody tr th:only-of-type {\n",
       "        vertical-align: middle;\n",
       "    }\n",
       "\n",
       "    .dataframe tbody tr th {\n",
       "        vertical-align: top;\n",
       "    }\n",
       "\n",
       "    .dataframe thead th {\n",
       "        text-align: right;\n",
       "    }\n",
       "</style>\n",
       "<table border=\"1\" class=\"dataframe\">\n",
       "  <thead>\n",
       "    <tr style=\"text-align: right;\">\n",
       "      <th></th>\n",
       "      <th>App</th>\n",
       "      <th>Category</th>\n",
       "      <th>Rating</th>\n",
       "      <th>Reviews</th>\n",
       "      <th>Size</th>\n",
       "      <th>Installs</th>\n",
       "      <th>Type</th>\n",
       "      <th>Price</th>\n",
       "      <th>Content Rating</th>\n",
       "      <th>Genres</th>\n",
       "      <th>Last Updated</th>\n",
       "      <th>Current Ver</th>\n",
       "      <th>Android Ver</th>\n",
       "    </tr>\n",
       "  </thead>\n",
       "  <tbody>\n",
       "    <tr>\n",
       "      <th>10472</th>\n",
       "      <td>Life Made WI-Fi Touchscreen Photo Frame</td>\n",
       "      <td>LIFESTYLE</td>\n",
       "      <td>1.9</td>\n",
       "      <td>19.0</td>\n",
       "      <td>3.0M</td>\n",
       "      <td>1,000+</td>\n",
       "      <td>Free</td>\n",
       "      <td>0</td>\n",
       "      <td>Everyone</td>\n",
       "      <td>February 11, 2018</td>\n",
       "      <td>February 11, 2018</td>\n",
       "      <td>4.0 and up</td>\n",
       "      <td>NaN</td>\n",
       "    </tr>\n",
       "  </tbody>\n",
       "</table>\n",
       "</div>"
      ],
      "text/plain": [
       "                                           App   Category  Rating Reviews  \\\n",
       "10472  Life Made WI-Fi Touchscreen Photo Frame  LIFESTYLE     1.9    19.0   \n",
       "\n",
       "       Size Installs  Type Price Content Rating             Genres  \\\n",
       "10472  3.0M   1,000+  Free     0       Everyone  February 11, 2018   \n",
       "\n",
       "            Last Updated Current Ver Android Ver  \n",
       "10472  February 11, 2018  4.0 and up         NaN  "
      ]
     },
     "execution_count": 11,
     "metadata": {},
     "output_type": "execute_result"
    }
   ],
   "source": [
    "data[data['App'] == 'Life Made WI-Fi Touchscreen Photo Frame']"
   ]
  },
  {
   "cell_type": "markdown",
   "metadata": {},
   "source": [
    "## Last Updated"
   ]
  },
  {
   "cell_type": "code",
   "execution_count": 12,
   "metadata": {
    "ExecuteTime": {
     "end_time": "2021-04-07T01:46:59.866362Z",
     "start_time": "2021-04-07T01:46:59.804157Z"
    }
   },
   "outputs": [],
   "source": [
    "data['Last Updated'] = pd.to_datetime(data['Last Updated'], format=\"%B %d, %Y\", errors='coerce')"
   ]
  },
  {
   "cell_type": "code",
   "execution_count": 13,
   "metadata": {
    "ExecuteTime": {
     "end_time": "2021-04-07T01:46:59.961903Z",
     "start_time": "2021-04-07T01:46:59.868370Z"
    }
   },
   "outputs": [],
   "source": [
    "# data['Date'] = pd.to_datetime(data['Last Updated'])\n",
    "release_month = data['Last Updated'].dt.month\n",
    "data['Month'] = release_month"
   ]
  },
  {
   "cell_type": "code",
   "execution_count": 14,
   "metadata": {
    "ExecuteTime": {
     "end_time": "2021-04-07T01:47:00.010031Z",
     "start_time": "2021-04-07T01:46:59.963912Z"
    }
   },
   "outputs": [],
   "source": [
    "data = data.drop(['Last Updated'], axis =1)"
   ]
  },
  {
   "cell_type": "markdown",
   "metadata": {},
   "source": [
    "## Rating"
   ]
  },
  {
   "cell_type": "code",
   "execution_count": 15,
   "metadata": {
    "ExecuteTime": {
     "end_time": "2021-04-07T01:47:00.057603Z",
     "start_time": "2021-04-07T01:47:00.013041Z"
    }
   },
   "outputs": [],
   "source": [
    "# replacing the NAN values with the average rating\n",
    "data['Rating'] = data['Rating'].fillna(data['Rating'].mean())"
   ]
  },
  {
   "cell_type": "code",
   "execution_count": 16,
   "metadata": {
    "ExecuteTime": {
     "end_time": "2021-04-07T01:47:00.088704Z",
     "start_time": "2021-04-07T01:47:00.060611Z"
    },
    "scrolled": true
   },
   "outputs": [
    {
     "name": "stdout",
     "output_type": "stream",
     "text": [
      "<class 'pandas.core.frame.DataFrame'>\n",
      "Int64Index: 9660 entries, 0 to 10840\n",
      "Data columns (total 13 columns):\n",
      " #   Column          Non-Null Count  Dtype  \n",
      "---  ------          --------------  -----  \n",
      " 0   App             9660 non-null   object \n",
      " 1   Category        9660 non-null   object \n",
      " 2   Rating          9660 non-null   float64\n",
      " 3   Reviews         9660 non-null   object \n",
      " 4   Size            9660 non-null   object \n",
      " 5   Installs        9660 non-null   object \n",
      " 6   Type            9659 non-null   object \n",
      " 7   Price           9660 non-null   object \n",
      " 8   Content Rating  9660 non-null   object \n",
      " 9   Genres          9660 non-null   object \n",
      " 10  Current Ver     9652 non-null   object \n",
      " 11  Android Ver     9657 non-null   object \n",
      " 12  Month           9660 non-null   int64  \n",
      "dtypes: float64(1), int64(1), object(11)\n",
      "memory usage: 1.3+ MB\n"
     ]
    }
   ],
   "source": [
    "data.info()"
   ]
  },
  {
   "cell_type": "markdown",
   "metadata": {},
   "source": [
    "## Add new data"
   ]
  },
  {
   "cell_type": "code",
   "execution_count": 17,
   "metadata": {
    "ExecuteTime": {
     "end_time": "2021-04-07T01:47:00.136866Z",
     "start_time": "2021-04-07T01:47:00.090710Z"
    }
   },
   "outputs": [
    {
     "name": "stdout",
     "output_type": "stream",
     "text": [
      "<class 'pandas.core.frame.DataFrame'>\n",
      "RangeIndex: 827 entries, 0 to 826\n",
      "Data columns (total 15 columns):\n",
      " #   Column          Non-Null Count  Dtype  \n",
      "---  ------          --------------  -----  \n",
      " 0   App             827 non-null    object \n",
      " 1   Installs        826 non-null    object \n",
      " 2   Rating          826 non-null    float64\n",
      " 3   Reviews         826 non-null    float64\n",
      " 4   Price           826 non-null    float64\n",
      " 5   Size            827 non-null    object \n",
      " 6   Genres          827 non-null    object \n",
      " 7   Category        827 non-null    object \n",
      " 8   Content Rating  827 non-null    object \n",
      " 9   Last Updated    819 non-null    object \n",
      " 10  Current Ver     827 non-null    object \n",
      " 11  Android Ver     825 non-null    object \n",
      " 12  Type            827 non-null    object \n",
      " 13  Date            819 non-null    object \n",
      " 14  Month           819 non-null    float64\n",
      "dtypes: float64(4), object(11)\n",
      "memory usage: 97.0+ KB\n"
     ]
    }
   ],
   "source": [
    "new_data = pd.read_csv('data/new_app_data.csv')\n",
    "new_data.info()"
   ]
  },
  {
   "cell_type": "code",
   "execution_count": 18,
   "metadata": {
    "ExecuteTime": {
     "end_time": "2021-04-07T01:47:00.217128Z",
     "start_time": "2021-04-07T01:47:00.139875Z"
    }
   },
   "outputs": [],
   "source": [
    "new_data = new_data.drop(['Last Updated', 'Date'], axis=1)"
   ]
  },
  {
   "cell_type": "code",
   "execution_count": 19,
   "metadata": {
    "ExecuteTime": {
     "end_time": "2021-04-07T01:47:00.313377Z",
     "start_time": "2021-04-07T01:47:00.220140Z"
    },
    "scrolled": true
   },
   "outputs": [
    {
     "data": {
      "text/html": [
       "<div>\n",
       "<style scoped>\n",
       "    .dataframe tbody tr th:only-of-type {\n",
       "        vertical-align: middle;\n",
       "    }\n",
       "\n",
       "    .dataframe tbody tr th {\n",
       "        vertical-align: top;\n",
       "    }\n",
       "\n",
       "    .dataframe thead th {\n",
       "        text-align: right;\n",
       "    }\n",
       "</style>\n",
       "<table border=\"1\" class=\"dataframe\">\n",
       "  <thead>\n",
       "    <tr style=\"text-align: right;\">\n",
       "      <th></th>\n",
       "      <th>App</th>\n",
       "      <th>Installs</th>\n",
       "      <th>Rating</th>\n",
       "      <th>Reviews</th>\n",
       "      <th>Price</th>\n",
       "      <th>Size</th>\n",
       "      <th>Genres</th>\n",
       "      <th>Category</th>\n",
       "      <th>Content Rating</th>\n",
       "      <th>Current Ver</th>\n",
       "      <th>Android Ver</th>\n",
       "      <th>Type</th>\n",
       "      <th>Month</th>\n",
       "    </tr>\n",
       "  </thead>\n",
       "  <tbody>\n",
       "    <tr>\n",
       "      <th>0</th>\n",
       "      <td>Jelly Dye</td>\n",
       "      <td>1,000,000+</td>\n",
       "      <td>4.2</td>\n",
       "      <td>3010.0</td>\n",
       "      <td>0.0</td>\n",
       "      <td>Varies with device</td>\n",
       "      <td>Simulation</td>\n",
       "      <td>GAME_SIMULATION</td>\n",
       "      <td>Everyone</td>\n",
       "      <td>1.49</td>\n",
       "      <td>5.0 and up</td>\n",
       "      <td>Free</td>\n",
       "      <td>2.0</td>\n",
       "    </tr>\n",
       "    <tr>\n",
       "      <th>1</th>\n",
       "      <td>Solar Smash</td>\n",
       "      <td>10,000,000+</td>\n",
       "      <td>4.6</td>\n",
       "      <td>99185.0</td>\n",
       "      <td>0.0</td>\n",
       "      <td>83M</td>\n",
       "      <td>Simulation</td>\n",
       "      <td>GAME_SIMULATION</td>\n",
       "      <td>Everyone 10+</td>\n",
       "      <td>1.4.1</td>\n",
       "      <td>4.4W and up</td>\n",
       "      <td>Free</td>\n",
       "      <td>1.0</td>\n",
       "    </tr>\n",
       "    <tr>\n",
       "      <th>2</th>\n",
       "      <td>Comics Bob</td>\n",
       "      <td>5,000,000+</td>\n",
       "      <td>3.8</td>\n",
       "      <td>10227.0</td>\n",
       "      <td>0.0</td>\n",
       "      <td>81M</td>\n",
       "      <td>Puzzle</td>\n",
       "      <td>GAME_PUZZLE</td>\n",
       "      <td>Teen</td>\n",
       "      <td>1.1.0</td>\n",
       "      <td>5.0 and up</td>\n",
       "      <td>Free</td>\n",
       "      <td>10.0</td>\n",
       "    </tr>\n",
       "    <tr>\n",
       "      <th>3</th>\n",
       "      <td>Draw Puzzle - Draw one part</td>\n",
       "      <td>5,000,000+</td>\n",
       "      <td>4.3</td>\n",
       "      <td>8889.0</td>\n",
       "      <td>0.0</td>\n",
       "      <td>47M</td>\n",
       "      <td>Puzzle</td>\n",
       "      <td>GAME_PUZZLE</td>\n",
       "      <td>Everyone</td>\n",
       "      <td>1.0.29</td>\n",
       "      <td>4.4 and up</td>\n",
       "      <td>Free</td>\n",
       "      <td>12.0</td>\n",
       "    </tr>\n",
       "    <tr>\n",
       "      <th>4</th>\n",
       "      <td>Among Us</td>\n",
       "      <td>100,000,000+</td>\n",
       "      <td>3.8</td>\n",
       "      <td>5620232.0</td>\n",
       "      <td>0.0</td>\n",
       "      <td>102M</td>\n",
       "      <td>Action</td>\n",
       "      <td>GAME_ACTION</td>\n",
       "      <td>Everyone 10+</td>\n",
       "      <td>2021.3.9</td>\n",
       "      <td>4.4 and up</td>\n",
       "      <td>Free</td>\n",
       "      <td>6.0</td>\n",
       "    </tr>\n",
       "    <tr>\n",
       "      <th>...</th>\n",
       "      <td>...</td>\n",
       "      <td>...</td>\n",
       "      <td>...</td>\n",
       "      <td>...</td>\n",
       "      <td>...</td>\n",
       "      <td>...</td>\n",
       "      <td>...</td>\n",
       "      <td>...</td>\n",
       "      <td>...</td>\n",
       "      <td>...</td>\n",
       "      <td>...</td>\n",
       "      <td>...</td>\n",
       "      <td>...</td>\n",
       "    </tr>\n",
       "    <tr>\n",
       "      <th>822</th>\n",
       "      <td>Mathway: Scan Photos, Solve Problems</td>\n",
       "      <td>10,000,000+</td>\n",
       "      <td>4.6</td>\n",
       "      <td>105363.0</td>\n",
       "      <td>0.0</td>\n",
       "      <td>31M</td>\n",
       "      <td>Education</td>\n",
       "      <td>EDUCATION</td>\n",
       "      <td>Everyone</td>\n",
       "      <td>3.3.32</td>\n",
       "      <td>4.4 and up</td>\n",
       "      <td>Free</td>\n",
       "      <td>2.0</td>\n",
       "    </tr>\n",
       "    <tr>\n",
       "      <th>823</th>\n",
       "      <td>Avast Antivirus – Scan &amp; Remove Virus, Cleaner</td>\n",
       "      <td>100,000,000+</td>\n",
       "      <td>4.7</td>\n",
       "      <td>165252.0</td>\n",
       "      <td>0.0</td>\n",
       "      <td>34M</td>\n",
       "      <td>Tools</td>\n",
       "      <td>TOOLS</td>\n",
       "      <td>Everyone</td>\n",
       "      <td>6.37.0</td>\n",
       "      <td>5.0 and up</td>\n",
       "      <td>Free</td>\n",
       "      <td>12.0</td>\n",
       "    </tr>\n",
       "    <tr>\n",
       "      <th>824</th>\n",
       "      <td>Wattpad - Read &amp; Write Stories</td>\n",
       "      <td>100,000,000+</td>\n",
       "      <td>3.9</td>\n",
       "      <td>1406630.0</td>\n",
       "      <td>0.0</td>\n",
       "      <td>Varies with device</td>\n",
       "      <td>Books &amp; Reference</td>\n",
       "      <td>BOOKS_AND_REFERENCE</td>\n",
       "      <td>Teen</td>\n",
       "      <td>Varies with device</td>\n",
       "      <td>Varies with device</td>\n",
       "      <td>Free</td>\n",
       "      <td>3.0</td>\n",
       "    </tr>\n",
       "    <tr>\n",
       "      <th>825</th>\n",
       "      <td>MotorTrend: Stream Roadkill, Top Gear, and more</td>\n",
       "      <td>1,000,000+</td>\n",
       "      <td>4.4</td>\n",
       "      <td>7285.0</td>\n",
       "      <td>0.0</td>\n",
       "      <td>25M</td>\n",
       "      <td>Entertainment</td>\n",
       "      <td>ENTERTAINMENT</td>\n",
       "      <td>Everyone</td>\n",
       "      <td>4.8.2</td>\n",
       "      <td>5.0 and up</td>\n",
       "      <td>Free</td>\n",
       "      <td>5.0</td>\n",
       "    </tr>\n",
       "    <tr>\n",
       "      <th>826</th>\n",
       "      <td>FitOn - Free Fitness Workouts &amp; Personalized P...</td>\n",
       "      <td>1,000,000+</td>\n",
       "      <td>4.7</td>\n",
       "      <td>7648.0</td>\n",
       "      <td>0.0</td>\n",
       "      <td>42M</td>\n",
       "      <td>Health &amp; Fitness</td>\n",
       "      <td>HEALTH_AND_FITNESS</td>\n",
       "      <td>Everyone</td>\n",
       "      <td>3.6</td>\n",
       "      <td>4.1 and up</td>\n",
       "      <td>Free</td>\n",
       "      <td>12.0</td>\n",
       "    </tr>\n",
       "  </tbody>\n",
       "</table>\n",
       "<p>827 rows × 13 columns</p>\n",
       "</div>"
      ],
      "text/plain": [
       "                                                   App      Installs  Rating  \\\n",
       "0                                            Jelly Dye    1,000,000+     4.2   \n",
       "1                                          Solar Smash   10,000,000+     4.6   \n",
       "2                                           Comics Bob    5,000,000+     3.8   \n",
       "3                          Draw Puzzle - Draw one part    5,000,000+     4.3   \n",
       "4                                             Among Us  100,000,000+     3.8   \n",
       "..                                                 ...           ...     ...   \n",
       "822               Mathway: Scan Photos, Solve Problems   10,000,000+     4.6   \n",
       "823     Avast Antivirus – Scan & Remove Virus, Cleaner  100,000,000+     4.7   \n",
       "824                     Wattpad - Read & Write Stories  100,000,000+     3.9   \n",
       "825    MotorTrend: Stream Roadkill, Top Gear, and more    1,000,000+     4.4   \n",
       "826  FitOn - Free Fitness Workouts & Personalized P...    1,000,000+     4.7   \n",
       "\n",
       "       Reviews  Price                Size             Genres  \\\n",
       "0       3010.0    0.0  Varies with device         Simulation   \n",
       "1      99185.0    0.0                 83M         Simulation   \n",
       "2      10227.0    0.0                 81M             Puzzle   \n",
       "3       8889.0    0.0                 47M             Puzzle   \n",
       "4    5620232.0    0.0                102M             Action   \n",
       "..         ...    ...                 ...                ...   \n",
       "822   105363.0    0.0                 31M          Education   \n",
       "823   165252.0    0.0                 34M              Tools   \n",
       "824  1406630.0    0.0  Varies with device  Books & Reference   \n",
       "825     7285.0    0.0                 25M      Entertainment   \n",
       "826     7648.0    0.0                 42M   Health & Fitness   \n",
       "\n",
       "                Category Content Rating         Current Ver  \\\n",
       "0        GAME_SIMULATION       Everyone                1.49   \n",
       "1        GAME_SIMULATION   Everyone 10+               1.4.1   \n",
       "2            GAME_PUZZLE           Teen               1.1.0   \n",
       "3            GAME_PUZZLE       Everyone              1.0.29   \n",
       "4            GAME_ACTION   Everyone 10+            2021.3.9   \n",
       "..                   ...            ...                 ...   \n",
       "822            EDUCATION       Everyone              3.3.32   \n",
       "823                TOOLS       Everyone              6.37.0   \n",
       "824  BOOKS_AND_REFERENCE           Teen  Varies with device   \n",
       "825        ENTERTAINMENT       Everyone               4.8.2   \n",
       "826   HEALTH_AND_FITNESS       Everyone                 3.6   \n",
       "\n",
       "            Android Ver  Type  Month  \n",
       "0            5.0 and up  Free    2.0  \n",
       "1           4.4W and up  Free    1.0  \n",
       "2            5.0 and up  Free   10.0  \n",
       "3            4.4 and up  Free   12.0  \n",
       "4            4.4 and up  Free    6.0  \n",
       "..                  ...   ...    ...  \n",
       "822          4.4 and up  Free    2.0  \n",
       "823          5.0 and up  Free   12.0  \n",
       "824  Varies with device  Free    3.0  \n",
       "825          5.0 and up  Free    5.0  \n",
       "826          4.1 and up  Free   12.0  \n",
       "\n",
       "[827 rows x 13 columns]"
      ]
     },
     "execution_count": 19,
     "metadata": {},
     "output_type": "execute_result"
    }
   ],
   "source": [
    "app_data = new_data.copy()\n",
    "app_data"
   ]
  },
  {
   "cell_type": "code",
   "execution_count": 20,
   "metadata": {
    "ExecuteTime": {
     "end_time": "2021-04-07T01:47:00.392640Z",
     "start_time": "2021-04-07T01:47:00.315384Z"
    }
   },
   "outputs": [],
   "source": [
    "app_data = app_data.dropna()"
   ]
  },
  {
   "cell_type": "code",
   "execution_count": 21,
   "metadata": {
    "ExecuteTime": {
     "end_time": "2021-04-07T01:47:00.455848Z",
     "start_time": "2021-04-07T01:47:00.400665Z"
    }
   },
   "outputs": [
    {
     "name": "stderr",
     "output_type": "stream",
     "text": [
      "<ipython-input-21-99bd58a990a7>:1: SettingWithCopyWarning: \n",
      "A value is trying to be set on a copy of a slice from a DataFrame.\n",
      "Try using .loc[row_indexer,col_indexer] = value instead\n",
      "\n",
      "See the caveats in the documentation: https://pandas.pydata.org/pandas-docs/stable/user_guide/indexing.html#returning-a-view-versus-a-copy\n",
      "  app_data['Month'] = app_data['Month'].astype(int)\n"
     ]
    }
   ],
   "source": [
    "app_data['Month'] = app_data['Month'].astype(int)"
   ]
  },
  {
   "cell_type": "code",
   "execution_count": 22,
   "metadata": {
    "ExecuteTime": {
     "end_time": "2021-04-07T01:47:00.583752Z",
     "start_time": "2021-04-07T01:47:00.459863Z"
    }
   },
   "outputs": [
    {
     "name": "stdout",
     "output_type": "stream",
     "text": [
      "<class 'pandas.core.frame.DataFrame'>\n",
      "Int64Index: 10477 entries, 0 to 826\n",
      "Data columns (total 13 columns):\n",
      " #   Column          Non-Null Count  Dtype  \n",
      "---  ------          --------------  -----  \n",
      " 0   App             10477 non-null  object \n",
      " 1   Category        10477 non-null  object \n",
      " 2   Rating          10477 non-null  float64\n",
      " 3   Reviews         10477 non-null  object \n",
      " 4   Size            10477 non-null  object \n",
      " 5   Installs        10477 non-null  object \n",
      " 6   Type            10476 non-null  object \n",
      " 7   Price           10477 non-null  object \n",
      " 8   Content Rating  10477 non-null  object \n",
      " 9   Genres          10477 non-null  object \n",
      " 10  Current Ver     10469 non-null  object \n",
      " 11  Android Ver     10474 non-null  object \n",
      " 12  Month           10477 non-null  int64  \n",
      "dtypes: float64(1), int64(1), object(11)\n",
      "memory usage: 1.1+ MB\n"
     ]
    }
   ],
   "source": [
    "df = pd.concat([data, app_data])\n",
    "df.info()"
   ]
  },
  {
   "cell_type": "code",
   "execution_count": 23,
   "metadata": {
    "ExecuteTime": {
     "end_time": "2021-04-07T01:47:00.647965Z",
     "start_time": "2021-04-07T01:47:00.585760Z"
    }
   },
   "outputs": [
    {
     "data": {
      "text/plain": [
       "DRAGON BALL LEGENDS                               0.000286\n",
       "DRAGON BALL Z DOKKAN BATTLE                       0.000286\n",
       "8 Ball Pool                                       0.000286\n",
       "SimCity BuildIt                                   0.000191\n",
       "Udemy - Online Courses                            0.000191\n",
       "                                                    ...   \n",
       "Blender BG - Photo Blend With Background          0.000095\n",
       "DV KING 4K                                        0.000095\n",
       "Marble Woka Woka 2018 - Bubble Shooter Match 3    0.000095\n",
       "Camera360 Lite - Selfie Camera                    0.000095\n",
       "Asylum Night Shift - Five Nights Survival         0.000095\n",
       "Name: App, Length: 10352, dtype: float64"
      ]
     },
     "execution_count": 23,
     "metadata": {},
     "output_type": "execute_result"
    }
   ],
   "source": [
    "df['App'].value_counts(normalize=True)"
   ]
  },
  {
   "cell_type": "code",
   "execution_count": 24,
   "metadata": {
    "ExecuteTime": {
     "end_time": "2021-04-07T01:47:00.742711Z",
     "start_time": "2021-04-07T01:47:00.650974Z"
    }
   },
   "outputs": [],
   "source": [
    "data = data.drop_duplicates(subset=['App'], keep='first')"
   ]
  },
  {
   "cell_type": "code",
   "execution_count": 25,
   "metadata": {
    "ExecuteTime": {
     "end_time": "2021-04-07T01:47:00.790871Z",
     "start_time": "2021-04-07T01:47:00.744719Z"
    }
   },
   "outputs": [],
   "source": [
    "df= df.drop(columns={'Price','Current Ver', 'Android Ver'}, axis=1)"
   ]
  },
  {
   "cell_type": "markdown",
   "metadata": {},
   "source": [
    "## Reviews"
   ]
  },
  {
   "cell_type": "code",
   "execution_count": 26,
   "metadata": {
    "ExecuteTime": {
     "end_time": "2021-04-07T01:47:00.871071Z",
     "start_time": "2021-04-07T01:47:00.792878Z"
    }
   },
   "outputs": [
    {
     "data": {
      "text/plain": [
       "(10477, 10)"
      ]
     },
     "execution_count": 26,
     "metadata": {},
     "output_type": "execute_result"
    }
   ],
   "source": [
    "df.shape"
   ]
  },
  {
   "cell_type": "code",
   "execution_count": 27,
   "metadata": {
    "ExecuteTime": {
     "end_time": "2021-04-07T01:47:00.950836Z",
     "start_time": "2021-04-07T01:47:00.873080Z"
    }
   },
   "outputs": [],
   "source": [
    "df = df.dropna().reset_index(drop =True)"
   ]
  },
  {
   "cell_type": "code",
   "execution_count": 28,
   "metadata": {
    "ExecuteTime": {
     "end_time": "2021-04-07T01:47:01.030616Z",
     "start_time": "2021-04-07T01:47:00.952840Z"
    }
   },
   "outputs": [
    {
     "data": {
      "text/plain": [
       "(10476, 10)"
      ]
     },
     "execution_count": 28,
     "metadata": {},
     "output_type": "execute_result"
    }
   ],
   "source": [
    "df.shape"
   ]
  },
  {
   "cell_type": "code",
   "execution_count": 29,
   "metadata": {
    "ExecuteTime": {
     "end_time": "2021-04-07T01:47:01.346875Z",
     "start_time": "2021-04-07T01:47:01.032624Z"
    },
    "scrolled": true
   },
   "outputs": [
    {
     "data": {
      "text/plain": [
       "0           0.056510\n",
       "1           0.025964\n",
       "2           0.020332\n",
       "3           0.016228\n",
       "4           0.013078\n",
       "              ...   \n",
       "39190.0     0.000095\n",
       "17368       0.000095\n",
       "1303        0.000095\n",
       "10484169    0.000095\n",
       "6784        0.000095\n",
       "Name: Reviews, Length: 6130, dtype: float64"
      ]
     },
     "execution_count": 29,
     "metadata": {},
     "output_type": "execute_result"
    }
   ],
   "source": [
    "df.Reviews.value_counts(normalize=True)"
   ]
  },
  {
   "cell_type": "code",
   "execution_count": 30,
   "metadata": {
    "ExecuteTime": {
     "end_time": "2021-04-07T01:47:01.394999Z",
     "start_time": "2021-04-07T01:47:01.348885Z"
    }
   },
   "outputs": [],
   "source": [
    "df['Reviews'] = pd.to_numeric(df['Reviews'])"
   ]
  },
  {
   "cell_type": "markdown",
   "metadata": {},
   "source": [
    "## Size"
   ]
  },
  {
   "cell_type": "code",
   "execution_count": 31,
   "metadata": {
    "ExecuteTime": {
     "end_time": "2021-04-07T01:47:01.475200Z",
     "start_time": "2021-04-07T01:47:01.397006Z"
    }
   },
   "outputs": [
    {
     "data": {
      "text/html": [
       "<div>\n",
       "<style scoped>\n",
       "    .dataframe tbody tr th:only-of-type {\n",
       "        vertical-align: middle;\n",
       "    }\n",
       "\n",
       "    .dataframe tbody tr th {\n",
       "        vertical-align: top;\n",
       "    }\n",
       "\n",
       "    .dataframe thead th {\n",
       "        text-align: right;\n",
       "    }\n",
       "</style>\n",
       "<table border=\"1\" class=\"dataframe\">\n",
       "  <thead>\n",
       "    <tr style=\"text-align: right;\">\n",
       "      <th></th>\n",
       "      <th>App</th>\n",
       "      <th>Category</th>\n",
       "      <th>Rating</th>\n",
       "      <th>Reviews</th>\n",
       "      <th>Size</th>\n",
       "      <th>Installs</th>\n",
       "      <th>Type</th>\n",
       "      <th>Content Rating</th>\n",
       "      <th>Genres</th>\n",
       "      <th>Month</th>\n",
       "    </tr>\n",
       "  </thead>\n",
       "  <tbody>\n",
       "    <tr>\n",
       "      <th>37</th>\n",
       "      <td>Floor Plan Creator</td>\n",
       "      <td>ART_AND_DESIGN</td>\n",
       "      <td>4.1</td>\n",
       "      <td>36639.0</td>\n",
       "      <td>Varies with device</td>\n",
       "      <td>5,000,000+</td>\n",
       "      <td>Free</td>\n",
       "      <td>Everyone</td>\n",
       "      <td>Art &amp; Design</td>\n",
       "      <td>7</td>\n",
       "    </tr>\n",
       "    <tr>\n",
       "      <th>42</th>\n",
       "      <td>Textgram - write on photos</td>\n",
       "      <td>ART_AND_DESIGN</td>\n",
       "      <td>4.4</td>\n",
       "      <td>295221.0</td>\n",
       "      <td>Varies with device</td>\n",
       "      <td>10,000,000+</td>\n",
       "      <td>Free</td>\n",
       "      <td>Everyone</td>\n",
       "      <td>Art &amp; Design</td>\n",
       "      <td>7</td>\n",
       "    </tr>\n",
       "    <tr>\n",
       "      <th>52</th>\n",
       "      <td>Used Cars and Trucks for Sale</td>\n",
       "      <td>AUTO_AND_VEHICLES</td>\n",
       "      <td>4.6</td>\n",
       "      <td>17057.0</td>\n",
       "      <td>Varies with device</td>\n",
       "      <td>1,000,000+</td>\n",
       "      <td>Free</td>\n",
       "      <td>Everyone</td>\n",
       "      <td>Auto &amp; Vehicles</td>\n",
       "      <td>7</td>\n",
       "    </tr>\n",
       "    <tr>\n",
       "      <th>67</th>\n",
       "      <td>Ulysse Speedometer</td>\n",
       "      <td>AUTO_AND_VEHICLES</td>\n",
       "      <td>4.3</td>\n",
       "      <td>40211.0</td>\n",
       "      <td>Varies with device</td>\n",
       "      <td>5,000,000+</td>\n",
       "      <td>Free</td>\n",
       "      <td>Everyone</td>\n",
       "      <td>Auto &amp; Vehicles</td>\n",
       "      <td>7</td>\n",
       "    </tr>\n",
       "    <tr>\n",
       "      <th>68</th>\n",
       "      <td>REPUVE</td>\n",
       "      <td>AUTO_AND_VEHICLES</td>\n",
       "      <td>3.9</td>\n",
       "      <td>356.0</td>\n",
       "      <td>Varies with device</td>\n",
       "      <td>100,000+</td>\n",
       "      <td>Free</td>\n",
       "      <td>Everyone</td>\n",
       "      <td>Auto &amp; Vehicles</td>\n",
       "      <td>5</td>\n",
       "    </tr>\n",
       "    <tr>\n",
       "      <th>...</th>\n",
       "      <td>...</td>\n",
       "      <td>...</td>\n",
       "      <td>...</td>\n",
       "      <td>...</td>\n",
       "      <td>...</td>\n",
       "      <td>...</td>\n",
       "      <td>...</td>\n",
       "      <td>...</td>\n",
       "      <td>...</td>\n",
       "      <td>...</td>\n",
       "    </tr>\n",
       "    <tr>\n",
       "      <th>10459</th>\n",
       "      <td>Azar - Video Chat</td>\n",
       "      <td>COMMUNICATION</td>\n",
       "      <td>4.1</td>\n",
       "      <td>704483.0</td>\n",
       "      <td>Varies with device</td>\n",
       "      <td>100,000,000+</td>\n",
       "      <td>Free</td>\n",
       "      <td>Mature 17+</td>\n",
       "      <td>Communication</td>\n",
       "      <td>10</td>\n",
       "    </tr>\n",
       "    <tr>\n",
       "      <th>10462</th>\n",
       "      <td>Scanner App To PDF - TapScanner</td>\n",
       "      <td>BUSINESS</td>\n",
       "      <td>4.6</td>\n",
       "      <td>285941.0</td>\n",
       "      <td>Varies with device</td>\n",
       "      <td>50,000,000+</td>\n",
       "      <td>Free</td>\n",
       "      <td>Everyone</td>\n",
       "      <td>Business</td>\n",
       "      <td>10</td>\n",
       "    </tr>\n",
       "    <tr>\n",
       "      <th>10466</th>\n",
       "      <td>Kaspersky Mobile Antivirus: AppLock &amp; Web Secu...</td>\n",
       "      <td>TOOLS</td>\n",
       "      <td>4.8</td>\n",
       "      <td>1022318.0</td>\n",
       "      <td>Varies with device</td>\n",
       "      <td>50,000,000+</td>\n",
       "      <td>Free</td>\n",
       "      <td>Everyone</td>\n",
       "      <td>Tools</td>\n",
       "      <td>12</td>\n",
       "    </tr>\n",
       "    <tr>\n",
       "      <th>10470</th>\n",
       "      <td>MotoGP™</td>\n",
       "      <td>SPORTS</td>\n",
       "      <td>3.9</td>\n",
       "      <td>6617.0</td>\n",
       "      <td>Varies with device</td>\n",
       "      <td>1,000,000+</td>\n",
       "      <td>Free</td>\n",
       "      <td>Everyone</td>\n",
       "      <td>Sports</td>\n",
       "      <td>11</td>\n",
       "    </tr>\n",
       "    <tr>\n",
       "      <th>10473</th>\n",
       "      <td>Wattpad - Read &amp; Write Stories</td>\n",
       "      <td>BOOKS_AND_REFERENCE</td>\n",
       "      <td>3.9</td>\n",
       "      <td>1406630.0</td>\n",
       "      <td>Varies with device</td>\n",
       "      <td>100,000,000+</td>\n",
       "      <td>Free</td>\n",
       "      <td>Teen</td>\n",
       "      <td>Books &amp; Reference</td>\n",
       "      <td>3</td>\n",
       "    </tr>\n",
       "  </tbody>\n",
       "</table>\n",
       "<p>1396 rows × 10 columns</p>\n",
       "</div>"
      ],
      "text/plain": [
       "                                                     App             Category  \\\n",
       "37                                    Floor Plan Creator       ART_AND_DESIGN   \n",
       "42                            Textgram - write on photos       ART_AND_DESIGN   \n",
       "52                         Used Cars and Trucks for Sale    AUTO_AND_VEHICLES   \n",
       "67                                    Ulysse Speedometer    AUTO_AND_VEHICLES   \n",
       "68                                                REPUVE    AUTO_AND_VEHICLES   \n",
       "...                                                  ...                  ...   \n",
       "10459                                  Azar - Video Chat        COMMUNICATION   \n",
       "10462                    Scanner App To PDF - TapScanner             BUSINESS   \n",
       "10466  Kaspersky Mobile Antivirus: AppLock & Web Secu...                TOOLS   \n",
       "10470                                            MotoGP™               SPORTS   \n",
       "10473                     Wattpad - Read & Write Stories  BOOKS_AND_REFERENCE   \n",
       "\n",
       "       Rating    Reviews                Size      Installs  Type  \\\n",
       "37        4.1    36639.0  Varies with device    5,000,000+  Free   \n",
       "42        4.4   295221.0  Varies with device   10,000,000+  Free   \n",
       "52        4.6    17057.0  Varies with device    1,000,000+  Free   \n",
       "67        4.3    40211.0  Varies with device    5,000,000+  Free   \n",
       "68        3.9      356.0  Varies with device      100,000+  Free   \n",
       "...       ...        ...                 ...           ...   ...   \n",
       "10459     4.1   704483.0  Varies with device  100,000,000+  Free   \n",
       "10462     4.6   285941.0  Varies with device   50,000,000+  Free   \n",
       "10466     4.8  1022318.0  Varies with device   50,000,000+  Free   \n",
       "10470     3.9     6617.0  Varies with device    1,000,000+  Free   \n",
       "10473     3.9  1406630.0  Varies with device  100,000,000+  Free   \n",
       "\n",
       "      Content Rating             Genres  Month  \n",
       "37          Everyone       Art & Design      7  \n",
       "42          Everyone       Art & Design      7  \n",
       "52          Everyone    Auto & Vehicles      7  \n",
       "67          Everyone    Auto & Vehicles      7  \n",
       "68          Everyone    Auto & Vehicles      5  \n",
       "...              ...                ...    ...  \n",
       "10459     Mature 17+      Communication     10  \n",
       "10462       Everyone           Business     10  \n",
       "10466       Everyone              Tools     12  \n",
       "10470       Everyone             Sports     11  \n",
       "10473           Teen  Books & Reference      3  \n",
       "\n",
       "[1396 rows x 10 columns]"
      ]
     },
     "execution_count": 31,
     "metadata": {},
     "output_type": "execute_result"
    }
   ],
   "source": [
    "df[df['Size'] == \"Varies with device\"]"
   ]
  },
  {
   "cell_type": "code",
   "execution_count": 32,
   "metadata": {
    "ExecuteTime": {
     "end_time": "2021-04-07T01:47:01.539413Z",
     "start_time": "2021-04-07T01:47:01.477208Z"
    }
   },
   "outputs": [
    {
     "data": {
      "text/plain": [
       "Varies with device    0.133257\n",
       "11M                   0.018328\n",
       "12M                   0.018137\n",
       "14M                   0.017564\n",
       "13M                   0.017278\n",
       "                        ...   \n",
       "234k                  0.000095\n",
       "619k                  0.000095\n",
       "226k                  0.000095\n",
       "28k                   0.000095\n",
       "784k                  0.000095\n",
       "Name: Size, Length: 539, dtype: float64"
      ]
     },
     "execution_count": 32,
     "metadata": {},
     "output_type": "execute_result"
    }
   ],
   "source": [
    "df['Size'].value_counts(normalize=True)"
   ]
  },
  {
   "cell_type": "code",
   "execution_count": 33,
   "metadata": {
    "ExecuteTime": {
     "end_time": "2021-04-07T01:47:01.603588Z",
     "start_time": "2021-04-07T01:47:01.541421Z"
    }
   },
   "outputs": [],
   "source": [
    "# create a variable to hold a certain value\n",
    "mask = df['Size'].str.startswith('V')"
   ]
  },
  {
   "cell_type": "code",
   "execution_count": 34,
   "metadata": {
    "ExecuteTime": {
     "end_time": "2021-04-07T01:47:01.666794Z",
     "start_time": "2021-04-07T01:47:01.605593Z"
    }
   },
   "outputs": [],
   "source": [
    "#replace that value with zero\n",
    "df.loc[mask, 'Size'] = 0"
   ]
  },
  {
   "cell_type": "code",
   "execution_count": 35,
   "metadata": {
    "ExecuteTime": {
     "end_time": "2021-04-07T01:47:01.779128Z",
     "start_time": "2021-04-07T01:47:01.668802Z"
    }
   },
   "outputs": [],
   "source": [
    "# convert the K and M to thousands and millions using regex\n",
    "df.Size = (df.Size.replace(r'[kMG]+$', '', regex=True).astype(float) * \\\n",
    "           df.Size.str.extract(r'[\\d\\.]+([kMG]+)', expand=False).fillna(1)\n",
    "           .replace(['k','M', 'G'], [10**3, 10**6, 10**9]).astype(int))"
   ]
  },
  {
   "cell_type": "code",
   "execution_count": 36,
   "metadata": {
    "ExecuteTime": {
     "end_time": "2021-04-07T01:47:01.827265Z",
     "start_time": "2021-04-07T01:47:01.781137Z"
    }
   },
   "outputs": [],
   "source": [
    "#to retain some data replace zeros with the column's avearge\n",
    "mean_size = df['Size'].mean()\n",
    "df['Size'] = df.Size.mask(df.Size == 0.0,mean_size)"
   ]
  },
  {
   "cell_type": "markdown",
   "metadata": {},
   "source": [
    "## Installs"
   ]
  },
  {
   "cell_type": "code",
   "execution_count": 37,
   "metadata": {
    "ExecuteTime": {
     "end_time": "2021-04-07T01:47:01.875390Z",
     "start_time": "2021-04-07T01:47:01.829272Z"
    }
   },
   "outputs": [],
   "source": [
    "# remove the + sign from columns\n",
    "df['Installs'] = df['Installs'].str.replace('+','').str.replace(',','')"
   ]
  },
  {
   "cell_type": "code",
   "execution_count": 38,
   "metadata": {
    "ExecuteTime": {
     "end_time": "2021-04-07T01:47:01.938562Z",
     "start_time": "2021-04-07T01:47:01.877395Z"
    }
   },
   "outputs": [],
   "source": [
    "df['Installs'] = pd.to_numeric(df['Installs'])"
   ]
  },
  {
   "cell_type": "markdown",
   "metadata": {},
   "source": [
    "## Free Apps"
   ]
  },
  {
   "cell_type": "code",
   "execution_count": 39,
   "metadata": {
    "ExecuteTime": {
     "end_time": "2021-04-07T01:47:01.986723Z",
     "start_time": "2021-04-07T01:47:01.940569Z"
    }
   },
   "outputs": [
    {
     "name": "stdout",
     "output_type": "stream",
     "text": [
      "<class 'pandas.core.frame.DataFrame'>\n",
      "RangeIndex: 10476 entries, 0 to 10475\n",
      "Data columns (total 10 columns):\n",
      " #   Column          Non-Null Count  Dtype  \n",
      "---  ------          --------------  -----  \n",
      " 0   App             10476 non-null  object \n",
      " 1   Category        10476 non-null  object \n",
      " 2   Rating          10476 non-null  float64\n",
      " 3   Reviews         10476 non-null  float64\n",
      " 4   Size            10476 non-null  float64\n",
      " 5   Installs        10476 non-null  int64  \n",
      " 6   Type            10476 non-null  object \n",
      " 7   Content Rating  10476 non-null  object \n",
      " 8   Genres          10476 non-null  object \n",
      " 9   Month           10476 non-null  int64  \n",
      "dtypes: float64(3), int64(2), object(5)\n",
      "memory usage: 818.6+ KB\n"
     ]
    }
   ],
   "source": [
    "df.info()"
   ]
  },
  {
   "cell_type": "code",
   "execution_count": 40,
   "metadata": {
    "ExecuteTime": {
     "end_time": "2021-04-07T01:47:02.050934Z",
     "start_time": "2021-04-07T01:47:01.988730Z"
    }
   },
   "outputs": [
    {
     "data": {
      "text/plain": [
       "Free    0.891275\n",
       "Paid    0.108725\n",
       "Name: Type, dtype: float64"
      ]
     },
     "execution_count": 40,
     "metadata": {},
     "output_type": "execute_result"
    }
   ],
   "source": [
    "df.Type.value_counts(normalize=True)"
   ]
  },
  {
   "cell_type": "code",
   "execution_count": 41,
   "metadata": {
    "ExecuteTime": {
     "end_time": "2021-04-07T01:47:02.099094Z",
     "start_time": "2021-04-07T01:47:02.052943Z"
    }
   },
   "outputs": [],
   "source": [
    "df['is_free'] = df['Type'].map(lambda x: 1 if x == 'Free' else 0)"
   ]
  },
  {
   "cell_type": "code",
   "execution_count": 42,
   "metadata": {
    "ExecuteTime": {
     "end_time": "2021-04-07T01:47:02.146249Z",
     "start_time": "2021-04-07T01:47:02.101100Z"
    }
   },
   "outputs": [],
   "source": [
    "# df['Price'] = df['Price'].apply(lambda x : str(x).strip('$')).astype(float)\n",
    "# df['Price'] = df['Price'].round()"
   ]
  },
  {
   "cell_type": "code",
   "execution_count": 43,
   "metadata": {
    "ExecuteTime": {
     "end_time": "2021-04-07T01:47:02.242537Z",
     "start_time": "2021-04-07T01:47:02.148258Z"
    }
   },
   "outputs": [],
   "source": [
    "# from sklearn import preprocessing\n",
    "# def labelencode(col, df):\n",
    "#     le = preprocessing.LabelEncoder()\n",
    "#     df[col] = le.fit_transform(df[col])"
   ]
  },
  {
   "cell_type": "code",
   "execution_count": 44,
   "metadata": {
    "ExecuteTime": {
     "end_time": "2021-04-07T01:47:02.290697Z",
     "start_time": "2021-04-07T01:47:02.244545Z"
    }
   },
   "outputs": [],
   "source": [
    "# le = preprocessing.LabelEncoder()\n",
    "# df['Content Rating'] = le.fit_transform(df['Content Rating'])\n",
    "\n",
    "# le = preprocessing.LabelEncoder()\n",
    "# df['Genres'] = le.fit_transform(df['Genres'])"
   ]
  },
  {
   "cell_type": "code",
   "execution_count": 45,
   "metadata": {
    "ExecuteTime": {
     "end_time": "2021-04-07T01:47:02.354909Z",
     "start_time": "2021-04-07T01:47:02.292705Z"
    }
   },
   "outputs": [],
   "source": [
    "main_df = df.copy()"
   ]
  },
  {
   "cell_type": "code",
   "execution_count": 46,
   "metadata": {
    "ExecuteTime": {
     "end_time": "2021-04-07T01:47:02.434695Z",
     "start_time": "2021-04-07T01:47:02.357931Z"
    }
   },
   "outputs": [
    {
     "data": {
      "text/html": [
       "<div>\n",
       "<style scoped>\n",
       "    .dataframe tbody tr th:only-of-type {\n",
       "        vertical-align: middle;\n",
       "    }\n",
       "\n",
       "    .dataframe tbody tr th {\n",
       "        vertical-align: top;\n",
       "    }\n",
       "\n",
       "    .dataframe thead th {\n",
       "        text-align: right;\n",
       "    }\n",
       "</style>\n",
       "<table border=\"1\" class=\"dataframe\">\n",
       "  <thead>\n",
       "    <tr style=\"text-align: right;\">\n",
       "      <th></th>\n",
       "      <th>App</th>\n",
       "      <th>Category</th>\n",
       "      <th>Rating</th>\n",
       "      <th>Reviews</th>\n",
       "      <th>Size</th>\n",
       "      <th>Installs</th>\n",
       "      <th>Type</th>\n",
       "      <th>Content Rating</th>\n",
       "      <th>Genres</th>\n",
       "      <th>Month</th>\n",
       "      <th>is_free</th>\n",
       "    </tr>\n",
       "  </thead>\n",
       "  <tbody>\n",
       "    <tr>\n",
       "      <th>0</th>\n",
       "      <td>Photo Editor &amp; Candy Camera &amp; Grid &amp; ScrapBook</td>\n",
       "      <td>ART_AND_DESIGN</td>\n",
       "      <td>4.1</td>\n",
       "      <td>159.0</td>\n",
       "      <td>19000000.0</td>\n",
       "      <td>10000</td>\n",
       "      <td>Free</td>\n",
       "      <td>Everyone</td>\n",
       "      <td>Art &amp; Design</td>\n",
       "      <td>1</td>\n",
       "      <td>1</td>\n",
       "    </tr>\n",
       "    <tr>\n",
       "      <th>1</th>\n",
       "      <td>Coloring book moana</td>\n",
       "      <td>ART_AND_DESIGN</td>\n",
       "      <td>3.9</td>\n",
       "      <td>967.0</td>\n",
       "      <td>14000000.0</td>\n",
       "      <td>500000</td>\n",
       "      <td>Free</td>\n",
       "      <td>Everyone</td>\n",
       "      <td>Art &amp; Design;Pretend Play</td>\n",
       "      <td>1</td>\n",
       "      <td>1</td>\n",
       "    </tr>\n",
       "    <tr>\n",
       "      <th>2</th>\n",
       "      <td>U Launcher Lite – FREE Live Cool Themes, Hide ...</td>\n",
       "      <td>ART_AND_DESIGN</td>\n",
       "      <td>4.7</td>\n",
       "      <td>87510.0</td>\n",
       "      <td>8700000.0</td>\n",
       "      <td>5000000</td>\n",
       "      <td>Free</td>\n",
       "      <td>Everyone</td>\n",
       "      <td>Art &amp; Design</td>\n",
       "      <td>8</td>\n",
       "      <td>1</td>\n",
       "    </tr>\n",
       "    <tr>\n",
       "      <th>3</th>\n",
       "      <td>Sketch - Draw &amp; Paint</td>\n",
       "      <td>ART_AND_DESIGN</td>\n",
       "      <td>4.5</td>\n",
       "      <td>215644.0</td>\n",
       "      <td>25000000.0</td>\n",
       "      <td>50000000</td>\n",
       "      <td>Free</td>\n",
       "      <td>Teen</td>\n",
       "      <td>Art &amp; Design</td>\n",
       "      <td>6</td>\n",
       "      <td>1</td>\n",
       "    </tr>\n",
       "    <tr>\n",
       "      <th>4</th>\n",
       "      <td>Pixel Draw - Number Art Coloring Book</td>\n",
       "      <td>ART_AND_DESIGN</td>\n",
       "      <td>4.3</td>\n",
       "      <td>967.0</td>\n",
       "      <td>2800000.0</td>\n",
       "      <td>100000</td>\n",
       "      <td>Free</td>\n",
       "      <td>Everyone</td>\n",
       "      <td>Art &amp; Design;Creativity</td>\n",
       "      <td>6</td>\n",
       "      <td>1</td>\n",
       "    </tr>\n",
       "  </tbody>\n",
       "</table>\n",
       "</div>"
      ],
      "text/plain": [
       "                                                 App        Category  Rating  \\\n",
       "0     Photo Editor & Candy Camera & Grid & ScrapBook  ART_AND_DESIGN     4.1   \n",
       "1                                Coloring book moana  ART_AND_DESIGN     3.9   \n",
       "2  U Launcher Lite – FREE Live Cool Themes, Hide ...  ART_AND_DESIGN     4.7   \n",
       "3                              Sketch - Draw & Paint  ART_AND_DESIGN     4.5   \n",
       "4              Pixel Draw - Number Art Coloring Book  ART_AND_DESIGN     4.3   \n",
       "\n",
       "    Reviews        Size  Installs  Type Content Rating  \\\n",
       "0     159.0  19000000.0     10000  Free       Everyone   \n",
       "1     967.0  14000000.0    500000  Free       Everyone   \n",
       "2   87510.0   8700000.0   5000000  Free       Everyone   \n",
       "3  215644.0  25000000.0  50000000  Free           Teen   \n",
       "4     967.0   2800000.0    100000  Free       Everyone   \n",
       "\n",
       "                      Genres  Month  is_free  \n",
       "0               Art & Design      1        1  \n",
       "1  Art & Design;Pretend Play      1        1  \n",
       "2               Art & Design      8        1  \n",
       "3               Art & Design      6        1  \n",
       "4    Art & Design;Creativity      6        1  "
      ]
     },
     "execution_count": 46,
     "metadata": {},
     "output_type": "execute_result"
    }
   ],
   "source": [
    "main_df.head()"
   ]
  },
  {
   "cell_type": "code",
   "execution_count": 47,
   "metadata": {
    "ExecuteTime": {
     "end_time": "2021-04-07T01:47:02.498807Z",
     "start_time": "2021-04-07T01:47:02.437707Z"
    }
   },
   "outputs": [],
   "source": [
    "main_df = main_df.drop('Type', axis=1)"
   ]
  },
  {
   "cell_type": "markdown",
   "metadata": {},
   "source": [
    "# Cleaned Data"
   ]
  },
  {
   "cell_type": "code",
   "execution_count": 48,
   "metadata": {
    "ExecuteTime": {
     "end_time": "2021-04-07T01:47:02.578680Z",
     "start_time": "2021-04-07T01:47:02.500814Z"
    }
   },
   "outputs": [
    {
     "name": "stdout",
     "output_type": "stream",
     "text": [
      "<class 'pandas.core.frame.DataFrame'>\n",
      "RangeIndex: 10476 entries, 0 to 10475\n",
      "Data columns (total 10 columns):\n",
      " #   Column          Non-Null Count  Dtype  \n",
      "---  ------          --------------  -----  \n",
      " 0   App             10476 non-null  object \n",
      " 1   Category        10476 non-null  object \n",
      " 2   Rating          10476 non-null  float64\n",
      " 3   Reviews         10476 non-null  float64\n",
      " 4   Size            10476 non-null  float64\n",
      " 5   Installs        10476 non-null  int64  \n",
      " 6   Content Rating  10476 non-null  object \n",
      " 7   Genres          10476 non-null  object \n",
      " 8   Month           10476 non-null  int64  \n",
      " 9   is_free         10476 non-null  int64  \n",
      "dtypes: float64(3), int64(3), object(4)\n",
      "memory usage: 818.6+ KB\n"
     ]
    }
   ],
   "source": [
    "main_df.info()"
   ]
  },
  {
   "cell_type": "code",
   "execution_count": 49,
   "metadata": {
    "ExecuteTime": {
     "end_time": "2021-04-07T01:47:02.737204Z",
     "start_time": "2021-04-07T01:47:02.580688Z"
    }
   },
   "outputs": [],
   "source": [
    "main_df.to_csv('cleaned_data.csv')"
   ]
  },
  {
   "cell_type": "code",
   "execution_count": null,
   "metadata": {},
   "outputs": [],
   "source": []
  }
 ],
 "metadata": {
  "kernelspec": {
   "display_name": "Python 3",
   "language": "python",
   "name": "python3"
  },
  "language_info": {
   "codemirror_mode": {
    "name": "ipython",
    "version": 3
   },
   "file_extension": ".py",
   "mimetype": "text/x-python",
   "name": "python",
   "nbconvert_exporter": "python",
   "pygments_lexer": "ipython3",
   "version": "3.8.5"
  },
  "toc": {
   "base_numbering": 1,
   "nav_menu": {},
   "number_sections": true,
   "sideBar": true,
   "skip_h1_title": false,
   "title_cell": "Table of Contents",
   "title_sidebar": "Contents",
   "toc_cell": false,
   "toc_position": {
    "height": "calc(100% - 180px)",
    "left": "10px",
    "top": "150px",
    "width": "384px"
   },
   "toc_section_display": true,
   "toc_window_display": true
  },
  "varInspector": {
   "cols": {
    "lenName": 16,
    "lenType": 16,
    "lenVar": 40
   },
   "kernels_config": {
    "python": {
     "delete_cmd_postfix": "",
     "delete_cmd_prefix": "del ",
     "library": "var_list.py",
     "varRefreshCmd": "print(var_dic_list())"
    },
    "r": {
     "delete_cmd_postfix": ") ",
     "delete_cmd_prefix": "rm(",
     "library": "var_list.r",
     "varRefreshCmd": "cat(var_dic_list()) "
    }
   },
   "types_to_exclude": [
    "module",
    "function",
    "builtin_function_or_method",
    "instance",
    "_Feature"
   ],
   "window_display": false
  }
 },
 "nbformat": 4,
 "nbformat_minor": 4
}
