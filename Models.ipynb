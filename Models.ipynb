{
 "cells": [
  {
   "cell_type": "code",
   "execution_count": 1,
   "metadata": {
    "ExecuteTime": {
     "end_time": "2021-04-02T13:52:18.552535Z",
     "start_time": "2021-04-02T13:52:16.622980Z"
    }
   },
   "outputs": [],
   "source": [
    "import pandas as pd\n",
    "import numpy as np\n",
    "import matplotlib.pyplot as plt\n",
    "%matplotlib inline\n",
    "\n",
    "import statsmodels.api as sm\n",
    "from statsmodels.formula.api import ols\n",
    "\n",
    "pd.set_option('display.max_columns', 500)"
   ]
  },
  {
   "cell_type": "code",
   "execution_count": 2,
   "metadata": {
    "ExecuteTime": {
     "end_time": "2021-04-02T13:52:18.583001Z",
     "start_time": "2021-04-02T13:52:18.552535Z"
    }
   },
   "outputs": [],
   "source": [
    "df = pd.read_csv('data/cleaned_data.csv')"
   ]
  },
  {
   "cell_type": "code",
   "execution_count": 3,
   "metadata": {
    "ExecuteTime": {
     "end_time": "2021-04-02T13:52:18.615108Z",
     "start_time": "2021-04-02T13:52:18.586013Z"
    }
   },
   "outputs": [],
   "source": [
    "df.drop(['Unnamed: 0', 'index', 'Last Updated', 'App'], axis=1, inplace=True)"
   ]
  },
  {
   "cell_type": "code",
   "execution_count": 4,
   "metadata": {
    "ExecuteTime": {
     "end_time": "2021-04-02T13:52:18.647215Z",
     "start_time": "2021-04-02T13:52:18.617117Z"
    }
   },
   "outputs": [
    {
     "name": "stdout",
     "output_type": "stream",
     "text": [
      "<class 'pandas.core.frame.DataFrame'>\n",
      "RangeIndex: 8387 entries, 0 to 8386\n",
      "Data columns (total 7 columns):\n",
      " #   Column          Non-Null Count  Dtype  \n",
      "---  ------          --------------  -----  \n",
      " 0   Category        8387 non-null   object \n",
      " 1   Rating          8387 non-null   float64\n",
      " 2   Reviews         8387 non-null   float64\n",
      " 3   Size            8387 non-null   float64\n",
      " 4   Installs        8387 non-null   int64  \n",
      " 5   Type            8387 non-null   object \n",
      " 6   Content Rating  8387 non-null   object \n",
      "dtypes: float64(3), int64(1), object(3)\n",
      "memory usage: 458.8+ KB\n"
     ]
    }
   ],
   "source": [
    "df.info()"
   ]
  },
  {
   "cell_type": "code",
   "execution_count": 5,
   "metadata": {
    "ExecuteTime": {
     "end_time": "2021-04-02T13:52:18.663268Z",
     "start_time": "2021-04-02T13:52:18.649222Z"
    }
   },
   "outputs": [],
   "source": [
    "cats = df.select_dtypes(include='object')"
   ]
  },
  {
   "cell_type": "code",
   "execution_count": 6,
   "metadata": {
    "ExecuteTime": {
     "end_time": "2021-04-02T13:52:18.710643Z",
     "start_time": "2021-04-02T13:52:18.666280Z"
    }
   },
   "outputs": [],
   "source": [
    "cats_dummies = pd.get_dummies(cats, columns=['Category', 'Type', 'Content Rating'], drop_first=True)"
   ]
  },
  {
   "cell_type": "code",
   "execution_count": 7,
   "metadata": {
    "ExecuteTime": {
     "end_time": "2021-04-02T13:52:18.773849Z",
     "start_time": "2021-04-02T13:52:18.713650Z"
    }
   },
   "outputs": [
    {
     "data": {
      "text/html": [
       "<div>\n",
       "<style scoped>\n",
       "    .dataframe tbody tr th:only-of-type {\n",
       "        vertical-align: middle;\n",
       "    }\n",
       "\n",
       "    .dataframe tbody tr th {\n",
       "        vertical-align: top;\n",
       "    }\n",
       "\n",
       "    .dataframe thead th {\n",
       "        text-align: right;\n",
       "    }\n",
       "</style>\n",
       "<table border=\"1\" class=\"dataframe\">\n",
       "  <thead>\n",
       "    <tr style=\"text-align: right;\">\n",
       "      <th></th>\n",
       "      <th>Rating</th>\n",
       "      <th>Reviews</th>\n",
       "      <th>Size</th>\n",
       "      <th>Installs</th>\n",
       "      <th>Category_AUTO_AND_VEHICLES</th>\n",
       "      <th>Category_BEAUTY</th>\n",
       "      <th>Category_BOOKS_AND_REFERENCE</th>\n",
       "      <th>Category_BUSINESS</th>\n",
       "      <th>Category_COMICS</th>\n",
       "      <th>Category_COMMUNICATION</th>\n",
       "      <th>Category_DATING</th>\n",
       "      <th>Category_EDUCATION</th>\n",
       "      <th>Category_ENTERTAINMENT</th>\n",
       "      <th>Category_EVENTS</th>\n",
       "      <th>Category_FAMILY</th>\n",
       "      <th>Category_FINANCE</th>\n",
       "      <th>Category_FOOD_AND_DRINK</th>\n",
       "      <th>Category_GAME</th>\n",
       "      <th>Category_HEALTH_AND_FITNESS</th>\n",
       "      <th>Category_HOUSE_AND_HOME</th>\n",
       "      <th>Category_LIBRARIES_AND_DEMO</th>\n",
       "      <th>Category_LIFESTYLE</th>\n",
       "      <th>Category_MAPS_AND_NAVIGATION</th>\n",
       "      <th>Category_MEDICAL</th>\n",
       "      <th>Category_NEWS_AND_MAGAZINES</th>\n",
       "      <th>Category_PARENTING</th>\n",
       "      <th>Category_PERSONALIZATION</th>\n",
       "      <th>Category_PHOTOGRAPHY</th>\n",
       "      <th>Category_PRODUCTIVITY</th>\n",
       "      <th>Category_SHOPPING</th>\n",
       "      <th>Category_SOCIAL</th>\n",
       "      <th>Category_SPORTS</th>\n",
       "      <th>Category_TOOLS</th>\n",
       "      <th>Category_TRAVEL_AND_LOCAL</th>\n",
       "      <th>Category_VIDEO_PLAYERS</th>\n",
       "      <th>Category_WEATHER</th>\n",
       "      <th>Content Rating_Everyone</th>\n",
       "      <th>Content Rating_Everyone 10+</th>\n",
       "      <th>Content Rating_Mature 17+</th>\n",
       "      <th>Content Rating_Teen</th>\n",
       "      <th>Content Rating_Unrated</th>\n",
       "    </tr>\n",
       "  </thead>\n",
       "  <tbody>\n",
       "    <tr>\n",
       "      <th>0</th>\n",
       "      <td>4.100000</td>\n",
       "      <td>159.0</td>\n",
       "      <td>1.900000e+07</td>\n",
       "      <td>10000</td>\n",
       "      <td>0</td>\n",
       "      <td>0</td>\n",
       "      <td>0</td>\n",
       "      <td>0</td>\n",
       "      <td>0</td>\n",
       "      <td>0</td>\n",
       "      <td>0</td>\n",
       "      <td>0</td>\n",
       "      <td>0</td>\n",
       "      <td>0</td>\n",
       "      <td>0</td>\n",
       "      <td>0</td>\n",
       "      <td>0</td>\n",
       "      <td>0</td>\n",
       "      <td>0</td>\n",
       "      <td>0</td>\n",
       "      <td>0</td>\n",
       "      <td>0</td>\n",
       "      <td>0</td>\n",
       "      <td>0</td>\n",
       "      <td>0</td>\n",
       "      <td>0</td>\n",
       "      <td>0</td>\n",
       "      <td>0</td>\n",
       "      <td>0</td>\n",
       "      <td>0</td>\n",
       "      <td>0</td>\n",
       "      <td>0</td>\n",
       "      <td>0</td>\n",
       "      <td>0</td>\n",
       "      <td>0</td>\n",
       "      <td>0</td>\n",
       "      <td>1</td>\n",
       "      <td>0</td>\n",
       "      <td>0</td>\n",
       "      <td>0</td>\n",
       "      <td>0</td>\n",
       "    </tr>\n",
       "    <tr>\n",
       "      <th>1</th>\n",
       "      <td>3.900000</td>\n",
       "      <td>967.0</td>\n",
       "      <td>1.400000e+07</td>\n",
       "      <td>500000</td>\n",
       "      <td>0</td>\n",
       "      <td>0</td>\n",
       "      <td>0</td>\n",
       "      <td>0</td>\n",
       "      <td>0</td>\n",
       "      <td>0</td>\n",
       "      <td>0</td>\n",
       "      <td>0</td>\n",
       "      <td>0</td>\n",
       "      <td>0</td>\n",
       "      <td>0</td>\n",
       "      <td>0</td>\n",
       "      <td>0</td>\n",
       "      <td>0</td>\n",
       "      <td>0</td>\n",
       "      <td>0</td>\n",
       "      <td>0</td>\n",
       "      <td>0</td>\n",
       "      <td>0</td>\n",
       "      <td>0</td>\n",
       "      <td>0</td>\n",
       "      <td>0</td>\n",
       "      <td>0</td>\n",
       "      <td>0</td>\n",
       "      <td>0</td>\n",
       "      <td>0</td>\n",
       "      <td>0</td>\n",
       "      <td>0</td>\n",
       "      <td>0</td>\n",
       "      <td>0</td>\n",
       "      <td>0</td>\n",
       "      <td>0</td>\n",
       "      <td>1</td>\n",
       "      <td>0</td>\n",
       "      <td>0</td>\n",
       "      <td>0</td>\n",
       "      <td>0</td>\n",
       "    </tr>\n",
       "    <tr>\n",
       "      <th>2</th>\n",
       "      <td>4.700000</td>\n",
       "      <td>87510.0</td>\n",
       "      <td>8.700000e+06</td>\n",
       "      <td>5000000</td>\n",
       "      <td>0</td>\n",
       "      <td>0</td>\n",
       "      <td>0</td>\n",
       "      <td>0</td>\n",
       "      <td>0</td>\n",
       "      <td>0</td>\n",
       "      <td>0</td>\n",
       "      <td>0</td>\n",
       "      <td>0</td>\n",
       "      <td>0</td>\n",
       "      <td>0</td>\n",
       "      <td>0</td>\n",
       "      <td>0</td>\n",
       "      <td>0</td>\n",
       "      <td>0</td>\n",
       "      <td>0</td>\n",
       "      <td>0</td>\n",
       "      <td>0</td>\n",
       "      <td>0</td>\n",
       "      <td>0</td>\n",
       "      <td>0</td>\n",
       "      <td>0</td>\n",
       "      <td>0</td>\n",
       "      <td>0</td>\n",
       "      <td>0</td>\n",
       "      <td>0</td>\n",
       "      <td>0</td>\n",
       "      <td>0</td>\n",
       "      <td>0</td>\n",
       "      <td>0</td>\n",
       "      <td>0</td>\n",
       "      <td>0</td>\n",
       "      <td>1</td>\n",
       "      <td>0</td>\n",
       "      <td>0</td>\n",
       "      <td>0</td>\n",
       "      <td>0</td>\n",
       "    </tr>\n",
       "    <tr>\n",
       "      <th>3</th>\n",
       "      <td>4.500000</td>\n",
       "      <td>215644.0</td>\n",
       "      <td>2.500000e+07</td>\n",
       "      <td>50000000</td>\n",
       "      <td>0</td>\n",
       "      <td>0</td>\n",
       "      <td>0</td>\n",
       "      <td>0</td>\n",
       "      <td>0</td>\n",
       "      <td>0</td>\n",
       "      <td>0</td>\n",
       "      <td>0</td>\n",
       "      <td>0</td>\n",
       "      <td>0</td>\n",
       "      <td>0</td>\n",
       "      <td>0</td>\n",
       "      <td>0</td>\n",
       "      <td>0</td>\n",
       "      <td>0</td>\n",
       "      <td>0</td>\n",
       "      <td>0</td>\n",
       "      <td>0</td>\n",
       "      <td>0</td>\n",
       "      <td>0</td>\n",
       "      <td>0</td>\n",
       "      <td>0</td>\n",
       "      <td>0</td>\n",
       "      <td>0</td>\n",
       "      <td>0</td>\n",
       "      <td>0</td>\n",
       "      <td>0</td>\n",
       "      <td>0</td>\n",
       "      <td>0</td>\n",
       "      <td>0</td>\n",
       "      <td>0</td>\n",
       "      <td>0</td>\n",
       "      <td>0</td>\n",
       "      <td>0</td>\n",
       "      <td>0</td>\n",
       "      <td>1</td>\n",
       "      <td>0</td>\n",
       "    </tr>\n",
       "    <tr>\n",
       "      <th>4</th>\n",
       "      <td>4.300000</td>\n",
       "      <td>967.0</td>\n",
       "      <td>2.800000e+06</td>\n",
       "      <td>100000</td>\n",
       "      <td>0</td>\n",
       "      <td>0</td>\n",
       "      <td>0</td>\n",
       "      <td>0</td>\n",
       "      <td>0</td>\n",
       "      <td>0</td>\n",
       "      <td>0</td>\n",
       "      <td>0</td>\n",
       "      <td>0</td>\n",
       "      <td>0</td>\n",
       "      <td>0</td>\n",
       "      <td>0</td>\n",
       "      <td>0</td>\n",
       "      <td>0</td>\n",
       "      <td>0</td>\n",
       "      <td>0</td>\n",
       "      <td>0</td>\n",
       "      <td>0</td>\n",
       "      <td>0</td>\n",
       "      <td>0</td>\n",
       "      <td>0</td>\n",
       "      <td>0</td>\n",
       "      <td>0</td>\n",
       "      <td>0</td>\n",
       "      <td>0</td>\n",
       "      <td>0</td>\n",
       "      <td>0</td>\n",
       "      <td>0</td>\n",
       "      <td>0</td>\n",
       "      <td>0</td>\n",
       "      <td>0</td>\n",
       "      <td>0</td>\n",
       "      <td>1</td>\n",
       "      <td>0</td>\n",
       "      <td>0</td>\n",
       "      <td>0</td>\n",
       "      <td>0</td>\n",
       "    </tr>\n",
       "    <tr>\n",
       "      <th>...</th>\n",
       "      <td>...</td>\n",
       "      <td>...</td>\n",
       "      <td>...</td>\n",
       "      <td>...</td>\n",
       "      <td>...</td>\n",
       "      <td>...</td>\n",
       "      <td>...</td>\n",
       "      <td>...</td>\n",
       "      <td>...</td>\n",
       "      <td>...</td>\n",
       "      <td>...</td>\n",
       "      <td>...</td>\n",
       "      <td>...</td>\n",
       "      <td>...</td>\n",
       "      <td>...</td>\n",
       "      <td>...</td>\n",
       "      <td>...</td>\n",
       "      <td>...</td>\n",
       "      <td>...</td>\n",
       "      <td>...</td>\n",
       "      <td>...</td>\n",
       "      <td>...</td>\n",
       "      <td>...</td>\n",
       "      <td>...</td>\n",
       "      <td>...</td>\n",
       "      <td>...</td>\n",
       "      <td>...</td>\n",
       "      <td>...</td>\n",
       "      <td>...</td>\n",
       "      <td>...</td>\n",
       "      <td>...</td>\n",
       "      <td>...</td>\n",
       "      <td>...</td>\n",
       "      <td>...</td>\n",
       "      <td>...</td>\n",
       "      <td>...</td>\n",
       "      <td>...</td>\n",
       "      <td>...</td>\n",
       "      <td>...</td>\n",
       "      <td>...</td>\n",
       "      <td>...</td>\n",
       "    </tr>\n",
       "    <tr>\n",
       "      <th>8382</th>\n",
       "      <td>4.500000</td>\n",
       "      <td>38.0</td>\n",
       "      <td>5.300000e+07</td>\n",
       "      <td>5000</td>\n",
       "      <td>0</td>\n",
       "      <td>0</td>\n",
       "      <td>0</td>\n",
       "      <td>0</td>\n",
       "      <td>0</td>\n",
       "      <td>0</td>\n",
       "      <td>0</td>\n",
       "      <td>0</td>\n",
       "      <td>0</td>\n",
       "      <td>0</td>\n",
       "      <td>1</td>\n",
       "      <td>0</td>\n",
       "      <td>0</td>\n",
       "      <td>0</td>\n",
       "      <td>0</td>\n",
       "      <td>0</td>\n",
       "      <td>0</td>\n",
       "      <td>0</td>\n",
       "      <td>0</td>\n",
       "      <td>0</td>\n",
       "      <td>0</td>\n",
       "      <td>0</td>\n",
       "      <td>0</td>\n",
       "      <td>0</td>\n",
       "      <td>0</td>\n",
       "      <td>0</td>\n",
       "      <td>0</td>\n",
       "      <td>0</td>\n",
       "      <td>0</td>\n",
       "      <td>0</td>\n",
       "      <td>0</td>\n",
       "      <td>0</td>\n",
       "      <td>1</td>\n",
       "      <td>0</td>\n",
       "      <td>0</td>\n",
       "      <td>0</td>\n",
       "      <td>0</td>\n",
       "    </tr>\n",
       "    <tr>\n",
       "      <th>8383</th>\n",
       "      <td>5.000000</td>\n",
       "      <td>4.0</td>\n",
       "      <td>3.600000e+06</td>\n",
       "      <td>100</td>\n",
       "      <td>0</td>\n",
       "      <td>0</td>\n",
       "      <td>0</td>\n",
       "      <td>0</td>\n",
       "      <td>0</td>\n",
       "      <td>0</td>\n",
       "      <td>0</td>\n",
       "      <td>0</td>\n",
       "      <td>0</td>\n",
       "      <td>0</td>\n",
       "      <td>1</td>\n",
       "      <td>0</td>\n",
       "      <td>0</td>\n",
       "      <td>0</td>\n",
       "      <td>0</td>\n",
       "      <td>0</td>\n",
       "      <td>0</td>\n",
       "      <td>0</td>\n",
       "      <td>0</td>\n",
       "      <td>0</td>\n",
       "      <td>0</td>\n",
       "      <td>0</td>\n",
       "      <td>0</td>\n",
       "      <td>0</td>\n",
       "      <td>0</td>\n",
       "      <td>0</td>\n",
       "      <td>0</td>\n",
       "      <td>0</td>\n",
       "      <td>0</td>\n",
       "      <td>0</td>\n",
       "      <td>0</td>\n",
       "      <td>0</td>\n",
       "      <td>1</td>\n",
       "      <td>0</td>\n",
       "      <td>0</td>\n",
       "      <td>0</td>\n",
       "      <td>0</td>\n",
       "    </tr>\n",
       "    <tr>\n",
       "      <th>8384</th>\n",
       "      <td>4.172966</td>\n",
       "      <td>3.0</td>\n",
       "      <td>9.500000e+06</td>\n",
       "      <td>1000</td>\n",
       "      <td>0</td>\n",
       "      <td>0</td>\n",
       "      <td>0</td>\n",
       "      <td>0</td>\n",
       "      <td>0</td>\n",
       "      <td>0</td>\n",
       "      <td>0</td>\n",
       "      <td>0</td>\n",
       "      <td>0</td>\n",
       "      <td>0</td>\n",
       "      <td>0</td>\n",
       "      <td>0</td>\n",
       "      <td>0</td>\n",
       "      <td>0</td>\n",
       "      <td>0</td>\n",
       "      <td>0</td>\n",
       "      <td>0</td>\n",
       "      <td>0</td>\n",
       "      <td>0</td>\n",
       "      <td>1</td>\n",
       "      <td>0</td>\n",
       "      <td>0</td>\n",
       "      <td>0</td>\n",
       "      <td>0</td>\n",
       "      <td>0</td>\n",
       "      <td>0</td>\n",
       "      <td>0</td>\n",
       "      <td>0</td>\n",
       "      <td>0</td>\n",
       "      <td>0</td>\n",
       "      <td>0</td>\n",
       "      <td>0</td>\n",
       "      <td>1</td>\n",
       "      <td>0</td>\n",
       "      <td>0</td>\n",
       "      <td>0</td>\n",
       "      <td>0</td>\n",
       "    </tr>\n",
       "    <tr>\n",
       "      <th>8385</th>\n",
       "      <td>4.500000</td>\n",
       "      <td>114.0</td>\n",
       "      <td>1.811096e+07</td>\n",
       "      <td>1000</td>\n",
       "      <td>0</td>\n",
       "      <td>0</td>\n",
       "      <td>1</td>\n",
       "      <td>0</td>\n",
       "      <td>0</td>\n",
       "      <td>0</td>\n",
       "      <td>0</td>\n",
       "      <td>0</td>\n",
       "      <td>0</td>\n",
       "      <td>0</td>\n",
       "      <td>0</td>\n",
       "      <td>0</td>\n",
       "      <td>0</td>\n",
       "      <td>0</td>\n",
       "      <td>0</td>\n",
       "      <td>0</td>\n",
       "      <td>0</td>\n",
       "      <td>0</td>\n",
       "      <td>0</td>\n",
       "      <td>0</td>\n",
       "      <td>0</td>\n",
       "      <td>0</td>\n",
       "      <td>0</td>\n",
       "      <td>0</td>\n",
       "      <td>0</td>\n",
       "      <td>0</td>\n",
       "      <td>0</td>\n",
       "      <td>0</td>\n",
       "      <td>0</td>\n",
       "      <td>0</td>\n",
       "      <td>0</td>\n",
       "      <td>0</td>\n",
       "      <td>0</td>\n",
       "      <td>0</td>\n",
       "      <td>1</td>\n",
       "      <td>0</td>\n",
       "      <td>0</td>\n",
       "    </tr>\n",
       "    <tr>\n",
       "      <th>8386</th>\n",
       "      <td>4.500000</td>\n",
       "      <td>398307.0</td>\n",
       "      <td>1.900000e+07</td>\n",
       "      <td>10000000</td>\n",
       "      <td>0</td>\n",
       "      <td>0</td>\n",
       "      <td>0</td>\n",
       "      <td>0</td>\n",
       "      <td>0</td>\n",
       "      <td>0</td>\n",
       "      <td>0</td>\n",
       "      <td>0</td>\n",
       "      <td>0</td>\n",
       "      <td>0</td>\n",
       "      <td>0</td>\n",
       "      <td>0</td>\n",
       "      <td>0</td>\n",
       "      <td>0</td>\n",
       "      <td>0</td>\n",
       "      <td>0</td>\n",
       "      <td>0</td>\n",
       "      <td>1</td>\n",
       "      <td>0</td>\n",
       "      <td>0</td>\n",
       "      <td>0</td>\n",
       "      <td>0</td>\n",
       "      <td>0</td>\n",
       "      <td>0</td>\n",
       "      <td>0</td>\n",
       "      <td>0</td>\n",
       "      <td>0</td>\n",
       "      <td>0</td>\n",
       "      <td>0</td>\n",
       "      <td>0</td>\n",
       "      <td>0</td>\n",
       "      <td>0</td>\n",
       "      <td>1</td>\n",
       "      <td>0</td>\n",
       "      <td>0</td>\n",
       "      <td>0</td>\n",
       "      <td>0</td>\n",
       "    </tr>\n",
       "  </tbody>\n",
       "</table>\n",
       "<p>8387 rows × 41 columns</p>\n",
       "</div>"
      ],
      "text/plain": [
       "        Rating   Reviews          Size  Installs  Category_AUTO_AND_VEHICLES  \\\n",
       "0     4.100000     159.0  1.900000e+07     10000                           0   \n",
       "1     3.900000     967.0  1.400000e+07    500000                           0   \n",
       "2     4.700000   87510.0  8.700000e+06   5000000                           0   \n",
       "3     4.500000  215644.0  2.500000e+07  50000000                           0   \n",
       "4     4.300000     967.0  2.800000e+06    100000                           0   \n",
       "...        ...       ...           ...       ...                         ...   \n",
       "8382  4.500000      38.0  5.300000e+07      5000                           0   \n",
       "8383  5.000000       4.0  3.600000e+06       100                           0   \n",
       "8384  4.172966       3.0  9.500000e+06      1000                           0   \n",
       "8385  4.500000     114.0  1.811096e+07      1000                           0   \n",
       "8386  4.500000  398307.0  1.900000e+07  10000000                           0   \n",
       "\n",
       "      Category_BEAUTY  Category_BOOKS_AND_REFERENCE  Category_BUSINESS  \\\n",
       "0                   0                             0                  0   \n",
       "1                   0                             0                  0   \n",
       "2                   0                             0                  0   \n",
       "3                   0                             0                  0   \n",
       "4                   0                             0                  0   \n",
       "...               ...                           ...                ...   \n",
       "8382                0                             0                  0   \n",
       "8383                0                             0                  0   \n",
       "8384                0                             0                  0   \n",
       "8385                0                             1                  0   \n",
       "8386                0                             0                  0   \n",
       "\n",
       "      Category_COMICS  Category_COMMUNICATION  Category_DATING  \\\n",
       "0                   0                       0                0   \n",
       "1                   0                       0                0   \n",
       "2                   0                       0                0   \n",
       "3                   0                       0                0   \n",
       "4                   0                       0                0   \n",
       "...               ...                     ...              ...   \n",
       "8382                0                       0                0   \n",
       "8383                0                       0                0   \n",
       "8384                0                       0                0   \n",
       "8385                0                       0                0   \n",
       "8386                0                       0                0   \n",
       "\n",
       "      Category_EDUCATION  Category_ENTERTAINMENT  Category_EVENTS  \\\n",
       "0                      0                       0                0   \n",
       "1                      0                       0                0   \n",
       "2                      0                       0                0   \n",
       "3                      0                       0                0   \n",
       "4                      0                       0                0   \n",
       "...                  ...                     ...              ...   \n",
       "8382                   0                       0                0   \n",
       "8383                   0                       0                0   \n",
       "8384                   0                       0                0   \n",
       "8385                   0                       0                0   \n",
       "8386                   0                       0                0   \n",
       "\n",
       "      Category_FAMILY  Category_FINANCE  Category_FOOD_AND_DRINK  \\\n",
       "0                   0                 0                        0   \n",
       "1                   0                 0                        0   \n",
       "2                   0                 0                        0   \n",
       "3                   0                 0                        0   \n",
       "4                   0                 0                        0   \n",
       "...               ...               ...                      ...   \n",
       "8382                1                 0                        0   \n",
       "8383                1                 0                        0   \n",
       "8384                0                 0                        0   \n",
       "8385                0                 0                        0   \n",
       "8386                0                 0                        0   \n",
       "\n",
       "      Category_GAME  Category_HEALTH_AND_FITNESS  Category_HOUSE_AND_HOME  \\\n",
       "0                 0                            0                        0   \n",
       "1                 0                            0                        0   \n",
       "2                 0                            0                        0   \n",
       "3                 0                            0                        0   \n",
       "4                 0                            0                        0   \n",
       "...             ...                          ...                      ...   \n",
       "8382              0                            0                        0   \n",
       "8383              0                            0                        0   \n",
       "8384              0                            0                        0   \n",
       "8385              0                            0                        0   \n",
       "8386              0                            0                        0   \n",
       "\n",
       "      Category_LIBRARIES_AND_DEMO  Category_LIFESTYLE  \\\n",
       "0                               0                   0   \n",
       "1                               0                   0   \n",
       "2                               0                   0   \n",
       "3                               0                   0   \n",
       "4                               0                   0   \n",
       "...                           ...                 ...   \n",
       "8382                            0                   0   \n",
       "8383                            0                   0   \n",
       "8384                            0                   0   \n",
       "8385                            0                   0   \n",
       "8386                            0                   1   \n",
       "\n",
       "      Category_MAPS_AND_NAVIGATION  Category_MEDICAL  \\\n",
       "0                                0                 0   \n",
       "1                                0                 0   \n",
       "2                                0                 0   \n",
       "3                                0                 0   \n",
       "4                                0                 0   \n",
       "...                            ...               ...   \n",
       "8382                             0                 0   \n",
       "8383                             0                 0   \n",
       "8384                             0                 1   \n",
       "8385                             0                 0   \n",
       "8386                             0                 0   \n",
       "\n",
       "      Category_NEWS_AND_MAGAZINES  Category_PARENTING  \\\n",
       "0                               0                   0   \n",
       "1                               0                   0   \n",
       "2                               0                   0   \n",
       "3                               0                   0   \n",
       "4                               0                   0   \n",
       "...                           ...                 ...   \n",
       "8382                            0                   0   \n",
       "8383                            0                   0   \n",
       "8384                            0                   0   \n",
       "8385                            0                   0   \n",
       "8386                            0                   0   \n",
       "\n",
       "      Category_PERSONALIZATION  Category_PHOTOGRAPHY  Category_PRODUCTIVITY  \\\n",
       "0                            0                     0                      0   \n",
       "1                            0                     0                      0   \n",
       "2                            0                     0                      0   \n",
       "3                            0                     0                      0   \n",
       "4                            0                     0                      0   \n",
       "...                        ...                   ...                    ...   \n",
       "8382                         0                     0                      0   \n",
       "8383                         0                     0                      0   \n",
       "8384                         0                     0                      0   \n",
       "8385                         0                     0                      0   \n",
       "8386                         0                     0                      0   \n",
       "\n",
       "      Category_SHOPPING  Category_SOCIAL  Category_SPORTS  Category_TOOLS  \\\n",
       "0                     0                0                0               0   \n",
       "1                     0                0                0               0   \n",
       "2                     0                0                0               0   \n",
       "3                     0                0                0               0   \n",
       "4                     0                0                0               0   \n",
       "...                 ...              ...              ...             ...   \n",
       "8382                  0                0                0               0   \n",
       "8383                  0                0                0               0   \n",
       "8384                  0                0                0               0   \n",
       "8385                  0                0                0               0   \n",
       "8386                  0                0                0               0   \n",
       "\n",
       "      Category_TRAVEL_AND_LOCAL  Category_VIDEO_PLAYERS  Category_WEATHER  \\\n",
       "0                             0                       0                 0   \n",
       "1                             0                       0                 0   \n",
       "2                             0                       0                 0   \n",
       "3                             0                       0                 0   \n",
       "4                             0                       0                 0   \n",
       "...                         ...                     ...               ...   \n",
       "8382                          0                       0                 0   \n",
       "8383                          0                       0                 0   \n",
       "8384                          0                       0                 0   \n",
       "8385                          0                       0                 0   \n",
       "8386                          0                       0                 0   \n",
       "\n",
       "      Content Rating_Everyone  Content Rating_Everyone 10+  \\\n",
       "0                           1                            0   \n",
       "1                           1                            0   \n",
       "2                           1                            0   \n",
       "3                           0                            0   \n",
       "4                           1                            0   \n",
       "...                       ...                          ...   \n",
       "8382                        1                            0   \n",
       "8383                        1                            0   \n",
       "8384                        1                            0   \n",
       "8385                        0                            0   \n",
       "8386                        1                            0   \n",
       "\n",
       "      Content Rating_Mature 17+  Content Rating_Teen  Content Rating_Unrated  \n",
       "0                             0                    0                       0  \n",
       "1                             0                    0                       0  \n",
       "2                             0                    0                       0  \n",
       "3                             0                    1                       0  \n",
       "4                             0                    0                       0  \n",
       "...                         ...                  ...                     ...  \n",
       "8382                          0                    0                       0  \n",
       "8383                          0                    0                       0  \n",
       "8384                          0                    0                       0  \n",
       "8385                          1                    0                       0  \n",
       "8386                          0                    0                       0  \n",
       "\n",
       "[8387 rows x 41 columns]"
      ]
     },
     "execution_count": 7,
     "metadata": {},
     "output_type": "execute_result"
    }
   ],
   "source": [
    "model_df = pd.concat((df, cats_dummies), axis=1)\n",
    "model_df.drop(columns=['Category', 'Type', 'Content Rating'], axis = 1, inplace=True)\n",
    "model_df"
   ]
  },
  {
   "cell_type": "code",
   "execution_count": 8,
   "metadata": {
    "ExecuteTime": {
     "end_time": "2021-04-02T13:52:18.805956Z",
     "start_time": "2021-04-02T13:52:18.775858Z"
    }
   },
   "outputs": [
    {
     "name": "stdout",
     "output_type": "stream",
     "text": [
      "<class 'pandas.core.frame.DataFrame'>\n",
      "RangeIndex: 8387 entries, 0 to 8386\n",
      "Data columns (total 41 columns):\n",
      " #   Column                        Non-Null Count  Dtype  \n",
      "---  ------                        --------------  -----  \n",
      " 0   Rating                        8387 non-null   float64\n",
      " 1   Reviews                       8387 non-null   float64\n",
      " 2   Size                          8387 non-null   float64\n",
      " 3   Installs                      8387 non-null   int64  \n",
      " 4   Category_AUTO_AND_VEHICLES    8387 non-null   uint8  \n",
      " 5   Category_BEAUTY               8387 non-null   uint8  \n",
      " 6   Category_BOOKS_AND_REFERENCE  8387 non-null   uint8  \n",
      " 7   Category_BUSINESS             8387 non-null   uint8  \n",
      " 8   Category_COMICS               8387 non-null   uint8  \n",
      " 9   Category_COMMUNICATION        8387 non-null   uint8  \n",
      " 10  Category_DATING               8387 non-null   uint8  \n",
      " 11  Category_EDUCATION            8387 non-null   uint8  \n",
      " 12  Category_ENTERTAINMENT        8387 non-null   uint8  \n",
      " 13  Category_EVENTS               8387 non-null   uint8  \n",
      " 14  Category_FAMILY               8387 non-null   uint8  \n",
      " 15  Category_FINANCE              8387 non-null   uint8  \n",
      " 16  Category_FOOD_AND_DRINK       8387 non-null   uint8  \n",
      " 17  Category_GAME                 8387 non-null   uint8  \n",
      " 18  Category_HEALTH_AND_FITNESS   8387 non-null   uint8  \n",
      " 19  Category_HOUSE_AND_HOME       8387 non-null   uint8  \n",
      " 20  Category_LIBRARIES_AND_DEMO   8387 non-null   uint8  \n",
      " 21  Category_LIFESTYLE            8387 non-null   uint8  \n",
      " 22  Category_MAPS_AND_NAVIGATION  8387 non-null   uint8  \n",
      " 23  Category_MEDICAL              8387 non-null   uint8  \n",
      " 24  Category_NEWS_AND_MAGAZINES   8387 non-null   uint8  \n",
      " 25  Category_PARENTING            8387 non-null   uint8  \n",
      " 26  Category_PERSONALIZATION      8387 non-null   uint8  \n",
      " 27  Category_PHOTOGRAPHY          8387 non-null   uint8  \n",
      " 28  Category_PRODUCTIVITY         8387 non-null   uint8  \n",
      " 29  Category_SHOPPING             8387 non-null   uint8  \n",
      " 30  Category_SOCIAL               8387 non-null   uint8  \n",
      " 31  Category_SPORTS               8387 non-null   uint8  \n",
      " 32  Category_TOOLS                8387 non-null   uint8  \n",
      " 33  Category_TRAVEL_AND_LOCAL     8387 non-null   uint8  \n",
      " 34  Category_VIDEO_PLAYERS        8387 non-null   uint8  \n",
      " 35  Category_WEATHER              8387 non-null   uint8  \n",
      " 36  Content Rating_Everyone       8387 non-null   uint8  \n",
      " 37  Content Rating_Everyone 10+   8387 non-null   uint8  \n",
      " 38  Content Rating_Mature 17+     8387 non-null   uint8  \n",
      " 39  Content Rating_Teen           8387 non-null   uint8  \n",
      " 40  Content Rating_Unrated        8387 non-null   uint8  \n",
      "dtypes: float64(3), int64(1), uint8(37)\n",
      "memory usage: 565.3 KB\n"
     ]
    }
   ],
   "source": [
    "model_df.info()"
   ]
  },
  {
   "cell_type": "code",
   "execution_count": 9,
   "metadata": {
    "ExecuteTime": {
     "end_time": "2021-04-02T13:52:18.821154Z",
     "start_time": "2021-04-02T13:52:18.807965Z"
    }
   },
   "outputs": [],
   "source": [
    "model_df.columns = model_df.columns.str.replace(' ', '_').str.replace('+','')"
   ]
  },
  {
   "cell_type": "markdown",
   "metadata": {},
   "source": [
    "# Baseline Model"
   ]
  },
  {
   "cell_type": "code",
   "execution_count": 10,
   "metadata": {
    "ExecuteTime": {
     "end_time": "2021-04-02T13:52:19.011783Z",
     "start_time": "2021-04-02T13:52:18.824163Z"
    }
   },
   "outputs": [
    {
     "name": "stdout",
     "output_type": "stream",
     "text": [
      "List of predictors: Reviews+Size+Installs+Category_AUTO_AND_VEHICLES+Category_BEAUTY+Category_BOOKS_AND_REFERENCE+Category_BUSINESS+Category_COMICS+Category_COMMUNICATION+Category_DATING+Category_EDUCATION+Category_ENTERTAINMENT+Category_EVENTS+Category_FAMILY+Category_FINANCE+Category_FOOD_AND_DRINK+Category_GAME+Category_HEALTH_AND_FITNESS+Category_HOUSE_AND_HOME+Category_LIBRARIES_AND_DEMO+Category_LIFESTYLE+Category_MAPS_AND_NAVIGATION+Category_MEDICAL+Category_NEWS_AND_MAGAZINES+Category_PARENTING+Category_PERSONALIZATION+Category_PHOTOGRAPHY+Category_PRODUCTIVITY+Category_SHOPPING+Category_SOCIAL+Category_SPORTS+Category_TOOLS+Category_TRAVEL_AND_LOCAL+Category_VIDEO_PLAYERS+Category_WEATHER+Content_Rating_Everyone+Content_Rating_Everyone_10+Content_Rating_Mature_17+Content_Rating_Teen+Content_Rating_Unrated\n"
     ]
    },
    {
     "data": {
      "text/html": [
       "<table class=\"simpletable\">\n",
       "<caption>OLS Regression Results</caption>\n",
       "<tr>\n",
       "  <th>Dep. Variable:</th>         <td>Rating</td>      <th>  R-squared:         </th> <td>   0.028</td> \n",
       "</tr>\n",
       "<tr>\n",
       "  <th>Model:</th>                   <td>OLS</td>       <th>  Adj. R-squared:    </th> <td>   0.023</td> \n",
       "</tr>\n",
       "<tr>\n",
       "  <th>Method:</th>             <td>Least Squares</td>  <th>  F-statistic:       </th> <td>   5.966</td> \n",
       "</tr>\n",
       "<tr>\n",
       "  <th>Date:</th>             <td>Fri, 02 Apr 2021</td> <th>  Prob (F-statistic):</th> <td>1.39e-29</td> \n",
       "</tr>\n",
       "<tr>\n",
       "  <th>Time:</th>                 <td>09:52:18</td>     <th>  Log-Likelihood:    </th> <td> -6115.1</td> \n",
       "</tr>\n",
       "<tr>\n",
       "  <th>No. Observations:</th>      <td>  8387</td>      <th>  AIC:               </th> <td>1.231e+04</td>\n",
       "</tr>\n",
       "<tr>\n",
       "  <th>Df Residuals:</th>          <td>  8346</td>      <th>  BIC:               </th> <td>1.260e+04</td>\n",
       "</tr>\n",
       "<tr>\n",
       "  <th>Df Model:</th>              <td>    40</td>      <th>                     </th>     <td> </td>    \n",
       "</tr>\n",
       "<tr>\n",
       "  <th>Covariance Type:</th>      <td>nonrobust</td>    <th>                     </th>     <td> </td>    \n",
       "</tr>\n",
       "</table>\n",
       "<table class=\"simpletable\">\n",
       "<tr>\n",
       "                <td></td>                  <th>coef</th>     <th>std err</th>      <th>t</th>      <th>P>|t|</th>  <th>[0.025</th>    <th>0.975]</th>  \n",
       "</tr>\n",
       "<tr>\n",
       "  <th>Intercept</th>                    <td>    4.4325</td> <td>    0.301</td> <td>   14.715</td> <td> 0.000</td> <td>    3.842</td> <td>    5.023</td>\n",
       "</tr>\n",
       "<tr>\n",
       "  <th>Reviews</th>                      <td> 1.164e-08</td> <td> 3.61e-09</td> <td>    3.230</td> <td> 0.001</td> <td> 4.58e-09</td> <td> 1.87e-08</td>\n",
       "</tr>\n",
       "<tr>\n",
       "  <th>Size</th>                         <td> 7.831e-10</td> <td> 2.97e-10</td> <td>    2.641</td> <td> 0.008</td> <td> 2.02e-10</td> <td> 1.36e-09</td>\n",
       "</tr>\n",
       "<tr>\n",
       "  <th>Installs</th>                     <td> 1.428e-10</td> <td> 1.23e-10</td> <td>    1.161</td> <td> 0.246</td> <td>-9.83e-11</td> <td> 3.84e-10</td>\n",
       "</tr>\n",
       "<tr>\n",
       "  <th>Category_AUTO_AND_VEHICLES</th>   <td>   -0.1533</td> <td>    0.086</td> <td>   -1.774</td> <td> 0.076</td> <td>   -0.323</td> <td>    0.016</td>\n",
       "</tr>\n",
       "<tr>\n",
       "  <th>Category_BEAUTY</th>              <td>   -0.0717</td> <td>    0.096</td> <td>   -0.748</td> <td> 0.454</td> <td>   -0.259</td> <td>    0.116</td>\n",
       "</tr>\n",
       "<tr>\n",
       "  <th>Category_BOOKS_AND_REFERENCE</th> <td>   -0.0060</td> <td>    0.075</td> <td>   -0.080</td> <td> 0.936</td> <td>   -0.153</td> <td>    0.141</td>\n",
       "</tr>\n",
       "<tr>\n",
       "  <th>Category_BUSINESS</th>            <td>   -0.2167</td> <td>    0.071</td> <td>   -3.071</td> <td> 0.002</td> <td>   -0.355</td> <td>   -0.078</td>\n",
       "</tr>\n",
       "<tr>\n",
       "  <th>Category_COMICS</th>              <td>   -0.1565</td> <td>    0.094</td> <td>   -1.659</td> <td> 0.097</td> <td>   -0.341</td> <td>    0.028</td>\n",
       "</tr>\n",
       "<tr>\n",
       "  <th>Category_COMMUNICATION</th>       <td>   -0.2187</td> <td>    0.072</td> <td>   -3.033</td> <td> 0.002</td> <td>   -0.360</td> <td>   -0.077</td>\n",
       "</tr>\n",
       "<tr>\n",
       "  <th>Category_DATING</th>              <td>   -0.3027</td> <td>    0.083</td> <td>   -3.648</td> <td> 0.000</td> <td>   -0.465</td> <td>   -0.140</td>\n",
       "</tr>\n",
       "<tr>\n",
       "  <th>Category_EDUCATION</th>           <td>    0.0129</td> <td>    0.080</td> <td>    0.161</td> <td> 0.872</td> <td>   -0.144</td> <td>    0.170</td>\n",
       "</tr>\n",
       "<tr>\n",
       "  <th>Category_ENTERTAINMENT</th>       <td>   -0.2233</td> <td>    0.083</td> <td>   -2.696</td> <td> 0.007</td> <td>   -0.386</td> <td>   -0.061</td>\n",
       "</tr>\n",
       "<tr>\n",
       "  <th>Category_EVENTS</th>              <td>    0.0420</td> <td>    0.093</td> <td>    0.453</td> <td> 0.650</td> <td>   -0.140</td> <td>    0.224</td>\n",
       "</tr>\n",
       "<tr>\n",
       "  <th>Category_FAMILY</th>              <td>   -0.1758</td> <td>    0.066</td> <td>   -2.652</td> <td> 0.008</td> <td>   -0.306</td> <td>   -0.046</td>\n",
       "</tr>\n",
       "<tr>\n",
       "  <th>Category_FINANCE</th>             <td>   -0.2034</td> <td>    0.071</td> <td>   -2.872</td> <td> 0.004</td> <td>   -0.342</td> <td>   -0.065</td>\n",
       "</tr>\n",
       "<tr>\n",
       "  <th>Category_FOOD_AND_DRINK</th>      <td>   -0.1702</td> <td>    0.082</td> <td>   -2.075</td> <td> 0.038</td> <td>   -0.331</td> <td>   -0.009</td>\n",
       "</tr>\n",
       "<tr>\n",
       "  <th>Category_GAME</th>                <td>   -0.1320</td> <td>    0.068</td> <td>   -1.944</td> <td> 0.052</td> <td>   -0.265</td> <td>    0.001</td>\n",
       "</tr>\n",
       "<tr>\n",
       "  <th>Category_HEALTH_AND_FITNESS</th>  <td>   -0.1075</td> <td>    0.072</td> <td>   -1.487</td> <td> 0.137</td> <td>   -0.249</td> <td>    0.034</td>\n",
       "</tr>\n",
       "<tr>\n",
       "  <th>Category_HOUSE_AND_HOME</th>      <td>   -0.1827</td> <td>    0.089</td> <td>   -2.057</td> <td> 0.040</td> <td>   -0.357</td> <td>   -0.009</td>\n",
       "</tr>\n",
       "<tr>\n",
       "  <th>Category_LIBRARIES_AND_DEMO</th>  <td>   -0.1528</td> <td>    0.086</td> <td>   -1.784</td> <td> 0.074</td> <td>   -0.321</td> <td>    0.015</td>\n",
       "</tr>\n",
       "<tr>\n",
       "  <th>Category_LIFESTYLE</th>           <td>   -0.2475</td> <td>    0.071</td> <td>   -3.497</td> <td> 0.000</td> <td>   -0.386</td> <td>   -0.109</td>\n",
       "</tr>\n",
       "<tr>\n",
       "  <th>Category_MAPS_AND_NAVIGATION</th> <td>   -0.2824</td> <td>    0.079</td> <td>   -3.560</td> <td> 0.000</td> <td>   -0.438</td> <td>   -0.127</td>\n",
       "</tr>\n",
       "<tr>\n",
       "  <th>Category_MEDICAL</th>             <td>   -0.1854</td> <td>    0.072</td> <td>   -2.572</td> <td> 0.010</td> <td>   -0.327</td> <td>   -0.044</td>\n",
       "</tr>\n",
       "<tr>\n",
       "  <th>Category_NEWS_AND_MAGAZINES</th>  <td>   -0.2130</td> <td>    0.073</td> <td>   -2.919</td> <td> 0.004</td> <td>   -0.356</td> <td>   -0.070</td>\n",
       "</tr>\n",
       "<tr>\n",
       "  <th>Category_PARENTING</th>           <td>   -0.0275</td> <td>    0.093</td> <td>   -0.297</td> <td> 0.767</td> <td>   -0.209</td> <td>    0.154</td>\n",
       "</tr>\n",
       "<tr>\n",
       "  <th>Category_PERSONALIZATION</th>     <td>   -0.0518</td> <td>    0.072</td> <td>   -0.723</td> <td> 0.470</td> <td>   -0.192</td> <td>    0.089</td>\n",
       "</tr>\n",
       "<tr>\n",
       "  <th>Category_PHOTOGRAPHY</th>         <td>   -0.1751</td> <td>    0.072</td> <td>   -2.428</td> <td> 0.015</td> <td>   -0.316</td> <td>   -0.034</td>\n",
       "</tr>\n",
       "<tr>\n",
       "  <th>Category_PRODUCTIVITY</th>        <td>   -0.1554</td> <td>    0.071</td> <td>   -2.191</td> <td> 0.028</td> <td>   -0.294</td> <td>   -0.016</td>\n",
       "</tr>\n",
       "<tr>\n",
       "  <th>Category_SHOPPING</th>            <td>   -0.1159</td> <td>    0.074</td> <td>   -1.559</td> <td> 0.119</td> <td>   -0.262</td> <td>    0.030</td>\n",
       "</tr>\n",
       "<tr>\n",
       "  <th>Category_SOCIAL</th>              <td>   -0.1038</td> <td>    0.074</td> <td>   -1.405</td> <td> 0.160</td> <td>   -0.249</td> <td>    0.041</td>\n",
       "</tr>\n",
       "<tr>\n",
       "  <th>Category_SPORTS</th>              <td>   -0.1356</td> <td>    0.072</td> <td>   -1.893</td> <td> 0.058</td> <td>   -0.276</td> <td>    0.005</td>\n",
       "</tr>\n",
       "<tr>\n",
       "  <th>Category_TOOLS</th>               <td>   -0.2953</td> <td>    0.068</td> <td>   -4.367</td> <td> 0.000</td> <td>   -0.428</td> <td>   -0.163</td>\n",
       "</tr>\n",
       "<tr>\n",
       "  <th>Category_TRAVEL_AND_LOCAL</th>    <td>   -0.2653</td> <td>    0.074</td> <td>   -3.570</td> <td> 0.000</td> <td>   -0.411</td> <td>   -0.120</td>\n",
       "</tr>\n",
       "<tr>\n",
       "  <th>Category_VIDEO_PLAYERS</th>       <td>   -0.2912</td> <td>    0.077</td> <td>   -3.805</td> <td> 0.000</td> <td>   -0.441</td> <td>   -0.141</td>\n",
       "</tr>\n",
       "<tr>\n",
       "  <th>Category_WEATHER</th>             <td>   -0.1085</td> <td>    0.089</td> <td>   -1.219</td> <td> 0.223</td> <td>   -0.283</td> <td>    0.066</td>\n",
       "</tr>\n",
       "<tr>\n",
       "  <th>Content_Rating_Everyone</th>      <td>   -0.1116</td> <td>    0.294</td> <td>   -0.379</td> <td> 0.704</td> <td>   -0.688</td> <td>    0.465</td>\n",
       "</tr>\n",
       "<tr>\n",
       "  <th>Content_Rating_Everyone_10</th>   <td>   -0.1004</td> <td>    0.296</td> <td>   -0.340</td> <td> 0.734</td> <td>   -0.680</td> <td>    0.479</td>\n",
       "</tr>\n",
       "<tr>\n",
       "  <th>Content_Rating_Mature_17</th>     <td>   -0.1422</td> <td>    0.296</td> <td>   -0.481</td> <td> 0.631</td> <td>   -0.722</td> <td>    0.437</td>\n",
       "</tr>\n",
       "<tr>\n",
       "  <th>Content_Rating_Teen</th>          <td>   -0.1007</td> <td>    0.294</td> <td>   -0.342</td> <td> 0.732</td> <td>   -0.678</td> <td>    0.476</td>\n",
       "</tr>\n",
       "<tr>\n",
       "  <th>Content_Rating_Unrated</th>       <td>   -0.0639</td> <td>    0.462</td> <td>   -0.138</td> <td> 0.890</td> <td>   -0.969</td> <td>    0.841</td>\n",
       "</tr>\n",
       "</table>\n",
       "<table class=\"simpletable\">\n",
       "<tr>\n",
       "  <th>Omnibus:</th>       <td>3186.459</td> <th>  Durbin-Watson:     </th> <td>   1.800</td> \n",
       "</tr>\n",
       "<tr>\n",
       "  <th>Prob(Omnibus):</th>  <td> 0.000</td>  <th>  Jarque-Bera (JB):  </th> <td>16407.134</td>\n",
       "</tr>\n",
       "<tr>\n",
       "  <th>Skew:</th>           <td>-1.766</td>  <th>  Prob(JB):          </th> <td>    0.00</td> \n",
       "</tr>\n",
       "<tr>\n",
       "  <th>Kurtosis:</th>       <td> 8.871</td>  <th>  Cond. No.          </th> <td>7.87e+09</td> \n",
       "</tr>\n",
       "</table><br/><br/>Notes:<br/>[1] Standard Errors assume that the covariance matrix of the errors is correctly specified.<br/>[2] The condition number is large, 7.87e+09. This might indicate that there are<br/>strong multicollinearity or other numerical problems."
      ],
      "text/plain": [
       "<class 'statsmodels.iolib.summary.Summary'>\n",
       "\"\"\"\n",
       "                            OLS Regression Results                            \n",
       "==============================================================================\n",
       "Dep. Variable:                 Rating   R-squared:                       0.028\n",
       "Model:                            OLS   Adj. R-squared:                  0.023\n",
       "Method:                 Least Squares   F-statistic:                     5.966\n",
       "Date:                Fri, 02 Apr 2021   Prob (F-statistic):           1.39e-29\n",
       "Time:                        09:52:18   Log-Likelihood:                -6115.1\n",
       "No. Observations:                8387   AIC:                         1.231e+04\n",
       "Df Residuals:                    8346   BIC:                         1.260e+04\n",
       "Df Model:                          40                                         \n",
       "Covariance Type:            nonrobust                                         \n",
       "================================================================================================\n",
       "                                   coef    std err          t      P>|t|      [0.025      0.975]\n",
       "------------------------------------------------------------------------------------------------\n",
       "Intercept                        4.4325      0.301     14.715      0.000       3.842       5.023\n",
       "Reviews                       1.164e-08   3.61e-09      3.230      0.001    4.58e-09    1.87e-08\n",
       "Size                          7.831e-10   2.97e-10      2.641      0.008    2.02e-10    1.36e-09\n",
       "Installs                      1.428e-10   1.23e-10      1.161      0.246   -9.83e-11    3.84e-10\n",
       "Category_AUTO_AND_VEHICLES      -0.1533      0.086     -1.774      0.076      -0.323       0.016\n",
       "Category_BEAUTY                 -0.0717      0.096     -0.748      0.454      -0.259       0.116\n",
       "Category_BOOKS_AND_REFERENCE    -0.0060      0.075     -0.080      0.936      -0.153       0.141\n",
       "Category_BUSINESS               -0.2167      0.071     -3.071      0.002      -0.355      -0.078\n",
       "Category_COMICS                 -0.1565      0.094     -1.659      0.097      -0.341       0.028\n",
       "Category_COMMUNICATION          -0.2187      0.072     -3.033      0.002      -0.360      -0.077\n",
       "Category_DATING                 -0.3027      0.083     -3.648      0.000      -0.465      -0.140\n",
       "Category_EDUCATION               0.0129      0.080      0.161      0.872      -0.144       0.170\n",
       "Category_ENTERTAINMENT          -0.2233      0.083     -2.696      0.007      -0.386      -0.061\n",
       "Category_EVENTS                  0.0420      0.093      0.453      0.650      -0.140       0.224\n",
       "Category_FAMILY                 -0.1758      0.066     -2.652      0.008      -0.306      -0.046\n",
       "Category_FINANCE                -0.2034      0.071     -2.872      0.004      -0.342      -0.065\n",
       "Category_FOOD_AND_DRINK         -0.1702      0.082     -2.075      0.038      -0.331      -0.009\n",
       "Category_GAME                   -0.1320      0.068     -1.944      0.052      -0.265       0.001\n",
       "Category_HEALTH_AND_FITNESS     -0.1075      0.072     -1.487      0.137      -0.249       0.034\n",
       "Category_HOUSE_AND_HOME         -0.1827      0.089     -2.057      0.040      -0.357      -0.009\n",
       "Category_LIBRARIES_AND_DEMO     -0.1528      0.086     -1.784      0.074      -0.321       0.015\n",
       "Category_LIFESTYLE              -0.2475      0.071     -3.497      0.000      -0.386      -0.109\n",
       "Category_MAPS_AND_NAVIGATION    -0.2824      0.079     -3.560      0.000      -0.438      -0.127\n",
       "Category_MEDICAL                -0.1854      0.072     -2.572      0.010      -0.327      -0.044\n",
       "Category_NEWS_AND_MAGAZINES     -0.2130      0.073     -2.919      0.004      -0.356      -0.070\n",
       "Category_PARENTING              -0.0275      0.093     -0.297      0.767      -0.209       0.154\n",
       "Category_PERSONALIZATION        -0.0518      0.072     -0.723      0.470      -0.192       0.089\n",
       "Category_PHOTOGRAPHY            -0.1751      0.072     -2.428      0.015      -0.316      -0.034\n",
       "Category_PRODUCTIVITY           -0.1554      0.071     -2.191      0.028      -0.294      -0.016\n",
       "Category_SHOPPING               -0.1159      0.074     -1.559      0.119      -0.262       0.030\n",
       "Category_SOCIAL                 -0.1038      0.074     -1.405      0.160      -0.249       0.041\n",
       "Category_SPORTS                 -0.1356      0.072     -1.893      0.058      -0.276       0.005\n",
       "Category_TOOLS                  -0.2953      0.068     -4.367      0.000      -0.428      -0.163\n",
       "Category_TRAVEL_AND_LOCAL       -0.2653      0.074     -3.570      0.000      -0.411      -0.120\n",
       "Category_VIDEO_PLAYERS          -0.2912      0.077     -3.805      0.000      -0.441      -0.141\n",
       "Category_WEATHER                -0.1085      0.089     -1.219      0.223      -0.283       0.066\n",
       "Content_Rating_Everyone         -0.1116      0.294     -0.379      0.704      -0.688       0.465\n",
       "Content_Rating_Everyone_10      -0.1004      0.296     -0.340      0.734      -0.680       0.479\n",
       "Content_Rating_Mature_17        -0.1422      0.296     -0.481      0.631      -0.722       0.437\n",
       "Content_Rating_Teen             -0.1007      0.294     -0.342      0.732      -0.678       0.476\n",
       "Content_Rating_Unrated          -0.0639      0.462     -0.138      0.890      -0.969       0.841\n",
       "==============================================================================\n",
       "Omnibus:                     3186.459   Durbin-Watson:                   1.800\n",
       "Prob(Omnibus):                  0.000   Jarque-Bera (JB):            16407.134\n",
       "Skew:                          -1.766   Prob(JB):                         0.00\n",
       "Kurtosis:                       8.871   Cond. No.                     7.87e+09\n",
       "==============================================================================\n",
       "\n",
       "Notes:\n",
       "[1] Standard Errors assume that the covariance matrix of the errors is correctly specified.\n",
       "[2] The condition number is large, 7.87e+09. This might indicate that there are\n",
       "strong multicollinearity or other numerical problems.\n",
       "\"\"\""
      ]
     },
     "metadata": {},
     "output_type": "display_data"
    }
   ],
   "source": [
    "outcome = 'Rating'\n",
    "predictors = model_df.drop(['Rating'], axis=1)\n",
    "pred_sum = '+'.join(predictors.columns)\n",
    "f = outcome + '~' + pred_sum\n",
    "model = ols(f, model_df).fit()\n",
    "print(f'List of predictors: {pred_sum}')\n",
    "display(model.summary())"
   ]
  },
  {
   "cell_type": "code",
   "execution_count": 11,
   "metadata": {
    "ExecuteTime": {
     "end_time": "2021-04-02T13:52:19.027836Z",
     "start_time": "2021-04-02T13:52:19.013792Z"
    }
   },
   "outputs": [],
   "source": [
    "y = model_df['Rating']\n",
    "X = model_df.drop('Rating', axis=1)"
   ]
  },
  {
   "cell_type": "code",
   "execution_count": 12,
   "metadata": {
    "ExecuteTime": {
     "end_time": "2021-04-02T13:52:19.626453Z",
     "start_time": "2021-04-02T13:52:19.029845Z"
    }
   },
   "outputs": [
    {
     "name": "stdout",
     "output_type": "stream",
     "text": [
      "6290 2097 6290 2097\n"
     ]
    }
   ],
   "source": [
    "from sklearn.model_selection import train_test_split\n",
    "X_train, X_test, y_train, y_test = train_test_split(X, y, test_size=0.25)\n",
    "print(len(X_train), len(X_test), len(y_train), len(y_test))"
   ]
  },
  {
   "cell_type": "code",
   "execution_count": 13,
   "metadata": {
    "ExecuteTime": {
     "end_time": "2021-04-02T13:52:19.706719Z",
     "start_time": "2021-04-02T13:52:19.629462Z"
    }
   },
   "outputs": [],
   "source": [
    "from sklearn.linear_model import LinearRegression\n",
    "from sklearn.metrics import mean_squared_error\n",
    "from sklearn.metrics import mean_absolute_error\n",
    "linreg = LinearRegression()"
   ]
  },
  {
   "cell_type": "code",
   "execution_count": 14,
   "metadata": {
    "ExecuteTime": {
     "end_time": "2021-04-02T13:52:19.754877Z",
     "start_time": "2021-04-02T13:52:19.708725Z"
    },
    "scrolled": true
   },
   "outputs": [
    {
     "name": "stdout",
     "output_type": "stream",
     "text": [
      "MAE: 0.3401301865564947\n",
      "Train Mean Squared Error: 0.2528309385526312\n",
      "Test Mean Squared Error: 0.24965822102556323\n",
      "Root Mean Squared Error Train: 0.5028229693964181\n",
      "Root Mean Squared Error Test: 0.4996581041327792\n"
     ]
    }
   ],
   "source": [
    "linreg.fit(X_train, y_train)\n",
    "y_hat_train = linreg.predict(X_train)\n",
    "y_hat_test = linreg.predict(X_test)\n",
    "\n",
    "train_residuals = y_hat_train - y_train\n",
    "test_residuals = y_hat_test - y_test\n",
    "\n",
    "mse_train = mean_squared_error(y_train, y_hat_train)\n",
    "mse_test = mean_squared_error(y_test, y_hat_test)\n",
    "rmse_train = np.sqrt(mse_train)\n",
    "rmse_test = np.sqrt(mse_test)\n",
    "\n",
    "print('MAE:', mean_absolute_error(y_test, y_hat_test))\n",
    "print('Train Mean Squared Error:', mse_train)\n",
    "print('Test Mean Squared Error:', mse_test)\n",
    "print('Root Mean Squared Error Train:', rmse_train)\n",
    "print('Root Mean Squared Error Test:', rmse_test)"
   ]
  },
  {
   "cell_type": "code",
   "execution_count": 15,
   "metadata": {
    "ExecuteTime": {
     "end_time": "2021-04-02T13:52:19.963545Z",
     "start_time": "2021-04-02T13:52:19.756885Z"
    }
   },
   "outputs": [
    {
     "name": "stderr",
     "output_type": "stream",
     "text": [
      "<ipython-input-15-8c4a1944e451>:4: UserWarning: Matplotlib is currently using module://ipykernel.pylab.backend_inline, which is a non-GUI backend, so cannot show the figure.\n",
      "  fig.show()\n"
     ]
    },
    {
     "data": {
      "image/png": "[encoded data removed]",
      "text/plain": [
       "<Figure size 432x288 with 1 Axes>"
      ]
     },
     "metadata": {
      "needs_background": "light"
     },
     "output_type": "display_data"
    }
   ],
   "source": [
    "import scipy.stats as stats\n",
    "residuals = model.resid\n",
    "fig = sm.graphics.qqplot(residuals, dist=stats.norm, line='45', fit=True)\n",
    "fig.show()"
   ]
  },
  {
   "cell_type": "code",
   "execution_count": 16,
   "metadata": {
    "ExecuteTime": {
     "end_time": "2021-04-02T13:52:20.409450Z",
     "start_time": "2021-04-02T13:52:19.965551Z"
    },
    "scrolled": true
   },
   "outputs": [
    {
     "data": {
      "image/png": "[encoded data removed]",
      "text/plain": [
       "<Figure size 432x288 with 1 Axes>"
      ]
     },
     "metadata": {
      "needs_background": "light"
     },
     "output_type": "display_data"
    }
   ],
   "source": [
    "plt.hist(residuals, bins='auto');"
   ]
  },
  {
   "cell_type": "code",
   "execution_count": 17,
   "metadata": {
    "ExecuteTime": {
     "end_time": "2021-04-02T13:52:20.425500Z",
     "start_time": "2021-04-02T13:52:20.411458Z"
    }
   },
   "outputs": [],
   "source": [
    "df_log = model_df.copy()"
   ]
  },
  {
   "cell_type": "code",
   "execution_count": 18,
   "metadata": {
    "ExecuteTime": {
     "end_time": "2021-04-02T13:52:21.250505Z",
     "start_time": "2021-04-02T13:52:20.427508Z"
    }
   },
   "outputs": [
    {
     "data": {
      "image/png": "[encoded data removed]",
      "text/plain": [
       "<Figure size 1080x864 with 4 Axes>"
      ]
     },
     "metadata": {
      "needs_background": "light"
     },
     "output_type": "display_data"
    }
   ],
   "source": [
    "df_log[['Rating', 'Reviews', 'Size', 'Installs']].hist(figsize=(15,12));"
   ]
  },
  {
   "cell_type": "markdown",
   "metadata": {},
   "source": [
    "All the continuous variable are very skewed. Major outliers with Reviews and Installs. "
   ]
  },
  {
   "cell_type": "code",
   "execution_count": 19,
   "metadata": {
    "ExecuteTime": {
     "end_time": "2021-04-02T13:52:22.792278Z",
     "start_time": "2021-04-02T13:52:21.252514Z"
    }
   },
   "outputs": [
    {
     "data": {
      "image/png": "[encoded data removed]",
      "text/plain": [
       "<Figure size 864x360 with 2 Axes>"
      ]
     },
     "metadata": {
      "needs_background": "light"
     },
     "output_type": "display_data"
    },
    {
     "data": {
      "image/png": "[encoded data removed]",
      "text/plain": [
       "<Figure size 864x360 with 2 Axes>"
      ]
     },
     "metadata": {
      "needs_background": "light"
     },
     "output_type": "display_data"
    },
    {
     "data": {
      "image/png": "[encoded data removed]",
      "text/plain": [
       "<Figure size 864x360 with 2 Axes>"
      ]
     },
     "metadata": {
      "needs_background": "light"
     },
     "output_type": "display_data"
    },
    {
     "data": {
      "image/png": "[encoded data removed]",
      "text/plain": [
       "<Figure size 864x360 with 2 Axes>"
      ]
     },
     "metadata": {
      "needs_background": "light"
     },
     "output_type": "display_data"
    }
   ],
   "source": [
    "df_log['log_Rating'] = np.log(df_log['Rating'])\n",
    "df_log[['Rating', 'log_Rating']].hist(figsize=(12,5));\n",
    "\n",
    "df_log['log_Reviews'] = np.log(df_log['Reviews'])\n",
    "df_log[['Reviews', 'log_Reviews']].hist(figsize=(12,5));\n",
    "\n",
    "df_log['log_Size'] = np.log(df_log['Size'])\n",
    "df_log[['Size', 'log_Size']].hist(figsize=(12,5));\n",
    "\n",
    "df_log['log_Installs'] = np.log(df_log['Installs'])\n",
    "df_log[['Installs', 'log_Installs']].hist(figsize=(12,5));"
   ]
  },
  {
   "cell_type": "code",
   "execution_count": 20,
   "metadata": {
    "ExecuteTime": {
     "end_time": "2021-04-02T13:52:22.808310Z",
     "start_time": "2021-04-02T13:52:22.795269Z"
    }
   },
   "outputs": [],
   "source": [
    "def normalize(feature):\n",
    "    return (feature - feature.mean()) / feature.std()"
   ]
  },
  {
   "cell_type": "code",
   "execution_count": 21,
   "metadata": {
    "ExecuteTime": {
     "end_time": "2021-04-02T13:52:22.872524Z",
     "start_time": "2021-04-02T13:52:22.810319Z"
    }
   },
   "outputs": [],
   "source": [
    "df_log_norm = df_log[['log_Installs', 'log_Size', 'log_Reviews']]"
   ]
  },
  {
   "cell_type": "code",
   "execution_count": 22,
   "metadata": {
    "ExecuteTime": {
     "end_time": "2021-04-02T13:52:23.488291Z",
     "start_time": "2021-04-02T13:52:22.878543Z"
    }
   },
   "outputs": [
    {
     "data": {
      "image/png": "[encoded data removed]",
      "text/plain": [
       "<Figure size 720x720 with 4 Axes>"
      ]
     },
     "metadata": {
      "needs_background": "light"
     },
     "output_type": "display_data"
    }
   ],
   "source": [
    "df_log_norm = df_log_norm.apply(normalize)\n",
    "df_log_norm.hist(figsize=(10,10));"
   ]
  },
  {
   "cell_type": "code",
   "execution_count": 23,
   "metadata": {
    "ExecuteTime": {
     "end_time": "2021-04-02T13:52:23.504338Z",
     "start_time": "2021-04-02T13:52:23.492299Z"
    }
   },
   "outputs": [],
   "source": [
    "df_log['log_Installs'] = df_log_norm['log_Installs']\n",
    "df_log['log_Size'] = df_log_norm['log_Size']\n",
    "df_log['log_Reviews'] = df_log_norm['log_Reviews']"
   ]
  },
  {
   "cell_type": "code",
   "execution_count": 24,
   "metadata": {
    "ExecuteTime": {
     "end_time": "2021-04-02T13:52:23.568341Z",
     "start_time": "2021-04-02T13:52:23.507173Z"
    }
   },
   "outputs": [
    {
     "name": "stdout",
     "output_type": "stream",
     "text": [
      "<class 'pandas.core.frame.DataFrame'>\n",
      "RangeIndex: 8387 entries, 0 to 8386\n",
      "Data columns (total 45 columns):\n",
      " #   Column                        Non-Null Count  Dtype  \n",
      "---  ------                        --------------  -----  \n",
      " 0   Rating                        8387 non-null   float64\n",
      " 1   Reviews                       8387 non-null   float64\n",
      " 2   Size                          8387 non-null   float64\n",
      " 3   Installs                      8387 non-null   int64  \n",
      " 4   Category_AUTO_AND_VEHICLES    8387 non-null   uint8  \n",
      " 5   Category_BEAUTY               8387 non-null   uint8  \n",
      " 6   Category_BOOKS_AND_REFERENCE  8387 non-null   uint8  \n",
      " 7   Category_BUSINESS             8387 non-null   uint8  \n",
      " 8   Category_COMICS               8387 non-null   uint8  \n",
      " 9   Category_COMMUNICATION        8387 non-null   uint8  \n",
      " 10  Category_DATING               8387 non-null   uint8  \n",
      " 11  Category_EDUCATION            8387 non-null   uint8  \n",
      " 12  Category_ENTERTAINMENT        8387 non-null   uint8  \n",
      " 13  Category_EVENTS               8387 non-null   uint8  \n",
      " 14  Category_FAMILY               8387 non-null   uint8  \n",
      " 15  Category_FINANCE              8387 non-null   uint8  \n",
      " 16  Category_FOOD_AND_DRINK       8387 non-null   uint8  \n",
      " 17  Category_GAME                 8387 non-null   uint8  \n",
      " 18  Category_HEALTH_AND_FITNESS   8387 non-null   uint8  \n",
      " 19  Category_HOUSE_AND_HOME       8387 non-null   uint8  \n",
      " 20  Category_LIBRARIES_AND_DEMO   8387 non-null   uint8  \n",
      " 21  Category_LIFESTYLE            8387 non-null   uint8  \n",
      " 22  Category_MAPS_AND_NAVIGATION  8387 non-null   uint8  \n",
      " 23  Category_MEDICAL              8387 non-null   uint8  \n",
      " 24  Category_NEWS_AND_MAGAZINES   8387 non-null   uint8  \n",
      " 25  Category_PARENTING            8387 non-null   uint8  \n",
      " 26  Category_PERSONALIZATION      8387 non-null   uint8  \n",
      " 27  Category_PHOTOGRAPHY          8387 non-null   uint8  \n",
      " 28  Category_PRODUCTIVITY         8387 non-null   uint8  \n",
      " 29  Category_SHOPPING             8387 non-null   uint8  \n",
      " 30  Category_SOCIAL               8387 non-null   uint8  \n",
      " 31  Category_SPORTS               8387 non-null   uint8  \n",
      " 32  Category_TOOLS                8387 non-null   uint8  \n",
      " 33  Category_TRAVEL_AND_LOCAL     8387 non-null   uint8  \n",
      " 34  Category_VIDEO_PLAYERS        8387 non-null   uint8  \n",
      " 35  Category_WEATHER              8387 non-null   uint8  \n",
      " 36  Content_Rating_Everyone       8387 non-null   uint8  \n",
      " 37  Content_Rating_Everyone_10    8387 non-null   uint8  \n",
      " 38  Content_Rating_Mature_17      8387 non-null   uint8  \n",
      " 39  Content_Rating_Teen           8387 non-null   uint8  \n",
      " 40  Content_Rating_Unrated        8387 non-null   uint8  \n",
      " 41  log_Rating                    8387 non-null   float64\n",
      " 42  log_Reviews                   8387 non-null   float64\n",
      " 43  log_Size                      8387 non-null   float64\n",
      " 44  log_Installs                  8387 non-null   float64\n",
      "dtypes: float64(7), int64(1), uint8(37)\n",
      "memory usage: 827.4 KB\n"
     ]
    }
   ],
   "source": [
    "df_log.info()"
   ]
  },
  {
   "cell_type": "code",
   "execution_count": 25,
   "metadata": {
    "ExecuteTime": {
     "end_time": "2021-04-02T13:52:23.712009Z",
     "start_time": "2021-04-02T13:52:23.570351Z"
    },
    "scrolled": true
   },
   "outputs": [],
   "source": [
    "df_log = df_log.drop(['log_Rating', 'Reviews', 'Installs', 'Size'], axis=1)"
   ]
  },
  {
   "cell_type": "markdown",
   "metadata": {},
   "source": [
    "# Linear Regression"
   ]
  },
  {
   "cell_type": "code",
   "execution_count": 26,
   "metadata": {
    "ExecuteTime": {
     "end_time": "2021-04-02T13:53:31.395837Z",
     "start_time": "2021-04-02T13:53:31.243499Z"
    },
    "scrolled": true
   },
   "outputs": [
    {
     "name": "stdout",
     "output_type": "stream",
     "text": [
      "List of predictors: Category_AUTO_AND_VEHICLES+Category_BEAUTY+Category_BOOKS_AND_REFERENCE+Category_BUSINESS+Category_COMICS+Category_COMMUNICATION+Category_DATING+Category_EDUCATION+Category_ENTERTAINMENT+Category_EVENTS+Category_FAMILY+Category_FINANCE+Category_FOOD_AND_DRINK+Category_GAME+Category_HEALTH_AND_FITNESS+Category_HOUSE_AND_HOME+Category_LIBRARIES_AND_DEMO+Category_LIFESTYLE+Category_MAPS_AND_NAVIGATION+Category_MEDICAL+Category_NEWS_AND_MAGAZINES+Category_PARENTING+Category_PERSONALIZATION+Category_PHOTOGRAPHY+Category_PRODUCTIVITY+Category_SHOPPING+Category_SOCIAL+Category_SPORTS+Category_TOOLS+Category_TRAVEL_AND_LOCAL+Category_VIDEO_PLAYERS+Category_WEATHER+Content_Rating_Everyone+Content_Rating_Everyone_10+Content_Rating_Mature_17+Content_Rating_Teen+Content_Rating_Unrated+log_Reviews+log_Size+log_Installs\n"
     ]
    },
    {
     "data": {
      "text/html": [
       "<table class=\"simpletable\">\n",
       "<caption>OLS Regression Results</caption>\n",
       "<tr>\n",
       "  <th>Dep. Variable:</th>         <td>Rating</td>      <th>  R-squared:         </th> <td>   0.123</td> \n",
       "</tr>\n",
       "<tr>\n",
       "  <th>Model:</th>                   <td>OLS</td>       <th>  Adj. R-squared:    </th> <td>   0.119</td> \n",
       "</tr>\n",
       "<tr>\n",
       "  <th>Method:</th>             <td>Least Squares</td>  <th>  F-statistic:       </th> <td>   29.23</td> \n",
       "</tr>\n",
       "<tr>\n",
       "  <th>Date:</th>             <td>Fri, 02 Apr 2021</td> <th>  Prob (F-statistic):</th> <td>7.33e-204</td>\n",
       "</tr>\n",
       "<tr>\n",
       "  <th>Time:</th>                 <td>09:53:31</td>     <th>  Log-Likelihood:    </th> <td> -5683.7</td> \n",
       "</tr>\n",
       "<tr>\n",
       "  <th>No. Observations:</th>      <td>  8387</td>      <th>  AIC:               </th> <td>1.145e+04</td>\n",
       "</tr>\n",
       "<tr>\n",
       "  <th>Df Residuals:</th>          <td>  8346</td>      <th>  BIC:               </th> <td>1.174e+04</td>\n",
       "</tr>\n",
       "<tr>\n",
       "  <th>Df Model:</th>              <td>    40</td>      <th>                     </th>     <td> </td>    \n",
       "</tr>\n",
       "<tr>\n",
       "  <th>Covariance Type:</th>      <td>nonrobust</td>    <th>                     </th>     <td> </td>    \n",
       "</tr>\n",
       "</table>\n",
       "<table class=\"simpletable\">\n",
       "<tr>\n",
       "                <td></td>                  <th>coef</th>     <th>std err</th>      <th>t</th>      <th>P>|t|</th>  <th>[0.025</th>    <th>0.975]</th>  \n",
       "</tr>\n",
       "<tr>\n",
       "  <th>Intercept</th>                    <td>    4.4404</td> <td>    0.286</td> <td>   15.521</td> <td> 0.000</td> <td>    3.880</td> <td>    5.001</td>\n",
       "</tr>\n",
       "<tr>\n",
       "  <th>Category_AUTO_AND_VEHICLES</th>   <td>   -0.2055</td> <td>    0.082</td> <td>   -2.504</td> <td> 0.012</td> <td>   -0.366</td> <td>   -0.045</td>\n",
       "</tr>\n",
       "<tr>\n",
       "  <th>Category_BEAUTY</th>              <td>   -0.0538</td> <td>    0.091</td> <td>   -0.592</td> <td> 0.554</td> <td>   -0.232</td> <td>    0.125</td>\n",
       "</tr>\n",
       "<tr>\n",
       "  <th>Category_BOOKS_AND_REFERENCE</th> <td>   -0.0730</td> <td>    0.071</td> <td>   -1.025</td> <td> 0.305</td> <td>   -0.213</td> <td>    0.067</td>\n",
       "</tr>\n",
       "<tr>\n",
       "  <th>Category_BUSINESS</th>            <td>   -0.2715</td> <td>    0.067</td> <td>   -4.041</td> <td> 0.000</td> <td>   -0.403</td> <td>   -0.140</td>\n",
       "</tr>\n",
       "<tr>\n",
       "  <th>Category_COMICS</th>              <td>   -0.2572</td> <td>    0.090</td> <td>   -2.867</td> <td> 0.004</td> <td>   -0.433</td> <td>   -0.081</td>\n",
       "</tr>\n",
       "<tr>\n",
       "  <th>Category_COMMUNICATION</th>       <td>   -0.3172</td> <td>    0.069</td> <td>   -4.630</td> <td> 0.000</td> <td>   -0.451</td> <td>   -0.183</td>\n",
       "</tr>\n",
       "<tr>\n",
       "  <th>Category_DATING</th>              <td>   -0.3662</td> <td>    0.079</td> <td>   -4.638</td> <td> 0.000</td> <td>   -0.521</td> <td>   -0.211</td>\n",
       "</tr>\n",
       "<tr>\n",
       "  <th>Category_EDUCATION</th>           <td>   -0.1186</td> <td>    0.076</td> <td>   -1.556</td> <td> 0.120</td> <td>   -0.268</td> <td>    0.031</td>\n",
       "</tr>\n",
       "<tr>\n",
       "  <th>Category_ENTERTAINMENT</th>       <td>   -0.3501</td> <td>    0.079</td> <td>   -4.442</td> <td> 0.000</td> <td>   -0.505</td> <td>   -0.196</td>\n",
       "</tr>\n",
       "<tr>\n",
       "  <th>Category_EVENTS</th>              <td>   -0.0223</td> <td>    0.088</td> <td>   -0.253</td> <td> 0.800</td> <td>   -0.195</td> <td>    0.150</td>\n",
       "</tr>\n",
       "<tr>\n",
       "  <th>Category_FAMILY</th>              <td>   -0.2488</td> <td>    0.063</td> <td>   -3.950</td> <td> 0.000</td> <td>   -0.372</td> <td>   -0.125</td>\n",
       "</tr>\n",
       "<tr>\n",
       "  <th>Category_FINANCE</th>             <td>   -0.3101</td> <td>    0.067</td> <td>   -4.601</td> <td> 0.000</td> <td>   -0.442</td> <td>   -0.178</td>\n",
       "</tr>\n",
       "<tr>\n",
       "  <th>Category_FOOD_AND_DRINK</th>      <td>   -0.2586</td> <td>    0.078</td> <td>   -3.317</td> <td> 0.001</td> <td>   -0.411</td> <td>   -0.106</td>\n",
       "</tr>\n",
       "<tr>\n",
       "  <th>Category_GAME</th>                <td>   -0.2783</td> <td>    0.064</td> <td>   -4.317</td> <td> 0.000</td> <td>   -0.405</td> <td>   -0.152</td>\n",
       "</tr>\n",
       "<tr>\n",
       "  <th>Category_HEALTH_AND_FITNESS</th>  <td>   -0.2274</td> <td>    0.069</td> <td>   -3.306</td> <td> 0.001</td> <td>   -0.362</td> <td>   -0.093</td>\n",
       "</tr>\n",
       "<tr>\n",
       "  <th>Category_HOUSE_AND_HOME</th>      <td>   -0.2385</td> <td>    0.084</td> <td>   -2.827</td> <td> 0.005</td> <td>   -0.404</td> <td>   -0.073</td>\n",
       "</tr>\n",
       "<tr>\n",
       "  <th>Category_LIBRARIES_AND_DEMO</th>  <td>   -0.1585</td> <td>    0.082</td> <td>   -1.943</td> <td> 0.052</td> <td>   -0.318</td> <td>    0.001</td>\n",
       "</tr>\n",
       "<tr>\n",
       "  <th>Category_LIFESTYLE</th>           <td>   -0.3024</td> <td>    0.067</td> <td>   -4.493</td> <td> 0.000</td> <td>   -0.434</td> <td>   -0.170</td>\n",
       "</tr>\n",
       "<tr>\n",
       "  <th>Category_MAPS_AND_NAVIGATION</th> <td>   -0.3768</td> <td>    0.075</td> <td>   -4.997</td> <td> 0.000</td> <td>   -0.525</td> <td>   -0.229</td>\n",
       "</tr>\n",
       "<tr>\n",
       "  <th>Category_MEDICAL</th>             <td>   -0.2206</td> <td>    0.069</td> <td>   -3.213</td> <td> 0.001</td> <td>   -0.355</td> <td>   -0.086</td>\n",
       "</tr>\n",
       "<tr>\n",
       "  <th>Category_NEWS_AND_MAGAZINES</th>  <td>   -0.3109</td> <td>    0.069</td> <td>   -4.478</td> <td> 0.000</td> <td>   -0.447</td> <td>   -0.175</td>\n",
       "</tr>\n",
       "<tr>\n",
       "  <th>Category_PARENTING</th>           <td>   -0.0050</td> <td>    0.088</td> <td>   -0.056</td> <td> 0.955</td> <td>   -0.177</td> <td>    0.168</td>\n",
       "</tr>\n",
       "<tr>\n",
       "  <th>Category_PERSONALIZATION</th>     <td>   -0.1368</td> <td>    0.068</td> <td>   -2.005</td> <td> 0.045</td> <td>   -0.271</td> <td>   -0.003</td>\n",
       "</tr>\n",
       "<tr>\n",
       "  <th>Category_PHOTOGRAPHY</th>         <td>   -0.2801</td> <td>    0.069</td> <td>   -4.083</td> <td> 0.000</td> <td>   -0.415</td> <td>   -0.146</td>\n",
       "</tr>\n",
       "<tr>\n",
       "  <th>Category_PRODUCTIVITY</th>        <td>   -0.2517</td> <td>    0.067</td> <td>   -3.732</td> <td> 0.000</td> <td>   -0.384</td> <td>   -0.119</td>\n",
       "</tr>\n",
       "<tr>\n",
       "  <th>Category_SHOPPING</th>            <td>   -0.2235</td> <td>    0.071</td> <td>   -3.162</td> <td> 0.002</td> <td>   -0.362</td> <td>   -0.085</td>\n",
       "</tr>\n",
       "<tr>\n",
       "  <th>Category_SOCIAL</th>              <td>   -0.2254</td> <td>    0.070</td> <td>   -3.205</td> <td> 0.001</td> <td>   -0.363</td> <td>   -0.088</td>\n",
       "</tr>\n",
       "<tr>\n",
       "  <th>Category_SPORTS</th>              <td>   -0.2807</td> <td>    0.068</td> <td>   -4.115</td> <td> 0.000</td> <td>   -0.414</td> <td>   -0.147</td>\n",
       "</tr>\n",
       "<tr>\n",
       "  <th>Category_TOOLS</th>               <td>   -0.3575</td> <td>    0.064</td> <td>   -5.558</td> <td> 0.000</td> <td>   -0.484</td> <td>   -0.231</td>\n",
       "</tr>\n",
       "<tr>\n",
       "  <th>Category_TRAVEL_AND_LOCAL</th>    <td>   -0.3121</td> <td>    0.071</td> <td>   -4.423</td> <td> 0.000</td> <td>   -0.451</td> <td>   -0.174</td>\n",
       "</tr>\n",
       "<tr>\n",
       "  <th>Category_VIDEO_PLAYERS</th>       <td>   -0.3569</td> <td>    0.073</td> <td>   -4.910</td> <td> 0.000</td> <td>   -0.499</td> <td>   -0.214</td>\n",
       "</tr>\n",
       "<tr>\n",
       "  <th>Category_WEATHER</th>             <td>   -0.2337</td> <td>    0.085</td> <td>   -2.759</td> <td> 0.006</td> <td>   -0.400</td> <td>   -0.068</td>\n",
       "</tr>\n",
       "<tr>\n",
       "  <th>Content_Rating_Everyone</th>      <td>   -0.0055</td> <td>    0.279</td> <td>   -0.020</td> <td> 0.984</td> <td>   -0.553</td> <td>    0.542</td>\n",
       "</tr>\n",
       "<tr>\n",
       "  <th>Content_Rating_Everyone_10</th>   <td>   -0.0445</td> <td>    0.281</td> <td>   -0.158</td> <td> 0.874</td> <td>   -0.595</td> <td>    0.506</td>\n",
       "</tr>\n",
       "<tr>\n",
       "  <th>Content_Rating_Mature_17</th>     <td>   -0.0690</td> <td>    0.281</td> <td>   -0.246</td> <td> 0.806</td> <td>   -0.620</td> <td>    0.482</td>\n",
       "</tr>\n",
       "<tr>\n",
       "  <th>Content_Rating_Teen</th>          <td>   -0.0299</td> <td>    0.280</td> <td>   -0.107</td> <td> 0.915</td> <td>   -0.578</td> <td>    0.518</td>\n",
       "</tr>\n",
       "<tr>\n",
       "  <th>Content_Rating_Unrated</th>       <td>    0.1765</td> <td>    0.439</td> <td>    0.402</td> <td> 0.687</td> <td>   -0.683</td> <td>    1.036</td>\n",
       "</tr>\n",
       "<tr>\n",
       "  <th>log_Reviews</th>                  <td>    0.5773</td> <td>    0.019</td> <td>   29.650</td> <td> 0.000</td> <td>    0.539</td> <td>    0.615</td>\n",
       "</tr>\n",
       "<tr>\n",
       "  <th>log_Size</th>                     <td>   -0.0038</td> <td>    0.006</td> <td>   -0.637</td> <td> 0.524</td> <td>   -0.016</td> <td>    0.008</td>\n",
       "</tr>\n",
       "<tr>\n",
       "  <th>log_Installs</th>                 <td>   -0.5047</td> <td>    0.019</td> <td>  -26.351</td> <td> 0.000</td> <td>   -0.542</td> <td>   -0.467</td>\n",
       "</tr>\n",
       "</table>\n",
       "<table class=\"simpletable\">\n",
       "<tr>\n",
       "  <th>Omnibus:</th>       <td>3197.813</td> <th>  Durbin-Watson:     </th> <td>   1.817</td> \n",
       "</tr>\n",
       "<tr>\n",
       "  <th>Prob(Omnibus):</th>  <td> 0.000</td>  <th>  Jarque-Bera (JB):  </th> <td>18258.959</td>\n",
       "</tr>\n",
       "<tr>\n",
       "  <th>Skew:</th>           <td>-1.734</td>  <th>  Prob(JB):          </th> <td>    0.00</td> \n",
       "</tr>\n",
       "<tr>\n",
       "  <th>Kurtosis:</th>       <td> 9.342</td>  <th>  Cond. No.          </th> <td>    199.</td> \n",
       "</tr>\n",
       "</table><br/><br/>Notes:<br/>[1] Standard Errors assume that the covariance matrix of the errors is correctly specified."
      ],
      "text/plain": [
       "<class 'statsmodels.iolib.summary.Summary'>\n",
       "\"\"\"\n",
       "                            OLS Regression Results                            \n",
       "==============================================================================\n",
       "Dep. Variable:                 Rating   R-squared:                       0.123\n",
       "Model:                            OLS   Adj. R-squared:                  0.119\n",
       "Method:                 Least Squares   F-statistic:                     29.23\n",
       "Date:                Fri, 02 Apr 2021   Prob (F-statistic):          7.33e-204\n",
       "Time:                        09:53:31   Log-Likelihood:                -5683.7\n",
       "No. Observations:                8387   AIC:                         1.145e+04\n",
       "Df Residuals:                    8346   BIC:                         1.174e+04\n",
       "Df Model:                          40                                         \n",
       "Covariance Type:            nonrobust                                         \n",
       "================================================================================================\n",
       "                                   coef    std err          t      P>|t|      [0.025      0.975]\n",
       "------------------------------------------------------------------------------------------------\n",
       "Intercept                        4.4404      0.286     15.521      0.000       3.880       5.001\n",
       "Category_AUTO_AND_VEHICLES      -0.2055      0.082     -2.504      0.012      -0.366      -0.045\n",
       "Category_BEAUTY                 -0.0538      0.091     -0.592      0.554      -0.232       0.125\n",
       "Category_BOOKS_AND_REFERENCE    -0.0730      0.071     -1.025      0.305      -0.213       0.067\n",
       "Category_BUSINESS               -0.2715      0.067     -4.041      0.000      -0.403      -0.140\n",
       "Category_COMICS                 -0.2572      0.090     -2.867      0.004      -0.433      -0.081\n",
       "Category_COMMUNICATION          -0.3172      0.069     -4.630      0.000      -0.451      -0.183\n",
       "Category_DATING                 -0.3662      0.079     -4.638      0.000      -0.521      -0.211\n",
       "Category_EDUCATION              -0.1186      0.076     -1.556      0.120      -0.268       0.031\n",
       "Category_ENTERTAINMENT          -0.3501      0.079     -4.442      0.000      -0.505      -0.196\n",
       "Category_EVENTS                 -0.0223      0.088     -0.253      0.800      -0.195       0.150\n",
       "Category_FAMILY                 -0.2488      0.063     -3.950      0.000      -0.372      -0.125\n",
       "Category_FINANCE                -0.3101      0.067     -4.601      0.000      -0.442      -0.178\n",
       "Category_FOOD_AND_DRINK         -0.2586      0.078     -3.317      0.001      -0.411      -0.106\n",
       "Category_GAME                   -0.2783      0.064     -4.317      0.000      -0.405      -0.152\n",
       "Category_HEALTH_AND_FITNESS     -0.2274      0.069     -3.306      0.001      -0.362      -0.093\n",
       "Category_HOUSE_AND_HOME         -0.2385      0.084     -2.827      0.005      -0.404      -0.073\n",
       "Category_LIBRARIES_AND_DEMO     -0.1585      0.082     -1.943      0.052      -0.318       0.001\n",
       "Category_LIFESTYLE              -0.3024      0.067     -4.493      0.000      -0.434      -0.170\n",
       "Category_MAPS_AND_NAVIGATION    -0.3768      0.075     -4.997      0.000      -0.525      -0.229\n",
       "Category_MEDICAL                -0.2206      0.069     -3.213      0.001      -0.355      -0.086\n",
       "Category_NEWS_AND_MAGAZINES     -0.3109      0.069     -4.478      0.000      -0.447      -0.175\n",
       "Category_PARENTING              -0.0050      0.088     -0.056      0.955      -0.177       0.168\n",
       "Category_PERSONALIZATION        -0.1368      0.068     -2.005      0.045      -0.271      -0.003\n",
       "Category_PHOTOGRAPHY            -0.2801      0.069     -4.083      0.000      -0.415      -0.146\n",
       "Category_PRODUCTIVITY           -0.2517      0.067     -3.732      0.000      -0.384      -0.119\n",
       "Category_SHOPPING               -0.2235      0.071     -3.162      0.002      -0.362      -0.085\n",
       "Category_SOCIAL                 -0.2254      0.070     -3.205      0.001      -0.363      -0.088\n",
       "Category_SPORTS                 -0.2807      0.068     -4.115      0.000      -0.414      -0.147\n",
       "Category_TOOLS                  -0.3575      0.064     -5.558      0.000      -0.484      -0.231\n",
       "Category_TRAVEL_AND_LOCAL       -0.3121      0.071     -4.423      0.000      -0.451      -0.174\n",
       "Category_VIDEO_PLAYERS          -0.3569      0.073     -4.910      0.000      -0.499      -0.214\n",
       "Category_WEATHER                -0.2337      0.085     -2.759      0.006      -0.400      -0.068\n",
       "Content_Rating_Everyone         -0.0055      0.279     -0.020      0.984      -0.553       0.542\n",
       "Content_Rating_Everyone_10      -0.0445      0.281     -0.158      0.874      -0.595       0.506\n",
       "Content_Rating_Mature_17        -0.0690      0.281     -0.246      0.806      -0.620       0.482\n",
       "Content_Rating_Teen             -0.0299      0.280     -0.107      0.915      -0.578       0.518\n",
       "Content_Rating_Unrated           0.1765      0.439      0.402      0.687      -0.683       1.036\n",
       "log_Reviews                      0.5773      0.019     29.650      0.000       0.539       0.615\n",
       "log_Size                        -0.0038      0.006     -0.637      0.524      -0.016       0.008\n",
       "log_Installs                    -0.5047      0.019    -26.351      0.000      -0.542      -0.467\n",
       "==============================================================================\n",
       "Omnibus:                     3197.813   Durbin-Watson:                   1.817\n",
       "Prob(Omnibus):                  0.000   Jarque-Bera (JB):            18258.959\n",
       "Skew:                          -1.734   Prob(JB):                         0.00\n",
       "Kurtosis:                       9.342   Cond. No.                         199.\n",
       "==============================================================================\n",
       "\n",
       "Notes:\n",
       "[1] Standard Errors assume that the covariance matrix of the errors is correctly specified.\n",
       "\"\"\""
      ]
     },
     "metadata": {},
     "output_type": "display_data"
    }
   ],
   "source": [
    "outcome = 'Rating'\n",
    "predictors = df_log.drop(['Rating'], axis=1)\n",
    "pred_sum = '+'.join(predictors.columns)\n",
    "f = outcome + '~' + pred_sum\n",
    "model = ols(f, df_log).fit()\n",
    "print(f'List of predictors: {pred_sum}')\n",
    "display(model.summary())"
   ]
  },
  {
   "cell_type": "code",
   "execution_count": 27,
   "metadata": {
    "ExecuteTime": {
     "end_time": "2021-04-02T13:56:13.498018Z",
     "start_time": "2021-04-02T13:56:13.479948Z"
    }
   },
   "outputs": [],
   "source": [
    "y = df_log['Rating']\n",
    "X = df_log.drop('Rating', axis=1)"
   ]
  },
  {
   "cell_type": "code",
   "execution_count": 28,
   "metadata": {
    "ExecuteTime": {
     "end_time": "2021-04-02T13:56:22.446475Z",
     "start_time": "2021-04-02T13:56:22.433434Z"
    }
   },
   "outputs": [
    {
     "name": "stdout",
     "output_type": "stream",
     "text": [
      "6290 2097 6290 2097\n"
     ]
    }
   ],
   "source": [
    "from sklearn.model_selection import train_test_split\n",
    "X_train, X_test, y_train, y_test = train_test_split(X, y, test_size=0.25)\n",
    "print(len(X_train), len(X_test), len(y_train), len(y_test))"
   ]
  },
  {
   "cell_type": "code",
   "execution_count": 13,
   "metadata": {
    "ExecuteTime": {
     "end_time": "2021-04-02T13:52:19.706719Z",
     "start_time": "2021-04-02T13:52:19.629462Z"
    }
   },
   "outputs": [],
   "source": [
    "from sklearn.linear_model import LinearRegression\n",
    "from sklearn.metrics import mean_squared_error\n",
    "from sklearn.metrics import mean_absolute_error\n",
    "linreg = LinearRegression()"
   ]
  },
  {
   "cell_type": "code",
   "execution_count": 29,
   "metadata": {
    "ExecuteTime": {
     "end_time": "2021-04-02T13:56:48.844240Z",
     "start_time": "2021-04-02T13:56:48.781881Z"
    },
    "scrolled": true
   },
   "outputs": [
    {
     "name": "stdout",
     "output_type": "stream",
     "text": [
      "MAE: 0.3212182476665203\n",
      "Train Mean Squared Error: 0.23044571177590586\n",
      "Test Mean Squared Error: 0.21834759926740316\n",
      "Root Mean Squared Error Train: 0.48004761407167296\n",
      "Root Mean Squared Error Test: 0.4672767908503515\n"
     ]
    }
   ],
   "source": [
    "linreg.fit(X_train, y_train)\n",
    "y_hat_train = linreg.predict(X_train)\n",
    "y_hat_test = linreg.predict(X_test)\n",
    "\n",
    "train_residuals = y_hat_train - y_train\n",
    "test_residuals = y_hat_test - y_test\n",
    "\n",
    "mse_train = mean_squared_error(y_train, y_hat_train)\n",
    "mse_test = mean_squared_error(y_test, y_hat_test)\n",
    "rmse_train = np.sqrt(mse_train)\n",
    "rmse_test = np.sqrt(mse_test)\n",
    "\n",
    "print('MAE:', mean_absolute_error(y_test, y_hat_test))\n",
    "print('Train Mean Squared Error:', mse_train)\n",
    "print('Test Mean Squared Error:', mse_test)\n",
    "print('Root Mean Squared Error Train:', rmse_train)\n",
    "print('Root Mean Squared Error Test:', rmse_test)"
   ]
  },
  {
   "cell_type": "code",
   "execution_count": 33,
   "metadata": {
    "ExecuteTime": {
     "end_time": "2021-04-02T13:57:55.233543Z",
     "start_time": "2021-04-02T13:57:55.037562Z"
    }
   },
   "outputs": [
    {
     "name": "stderr",
     "output_type": "stream",
     "text": [
      "<ipython-input-33-8c4a1944e451>:4: UserWarning: Matplotlib is currently using module://ipykernel.pylab.backend_inline, which is a non-GUI backend, so cannot show the figure.\n",
      "  fig.show()\n"
     ]
    },
    {
     "data": {
      "image/png": "[encoded data removed]",
      "text/plain": [
       "<Figure size 432x288 with 1 Axes>"
      ]
     },
     "metadata": {
      "needs_background": "light"
     },
     "output_type": "display_data"
    }
   ],
   "source": [
    "import scipy.stats as stats\n",
    "residuals = model.resid\n",
    "fig = sm.graphics.qqplot(residuals, dist=stats.norm, line='45', fit=True)\n",
    "fig.show()"
   ]
  },
  {
   "cell_type": "code",
   "execution_count": 34,
   "metadata": {
    "ExecuteTime": {
     "end_time": "2021-04-02T13:58:03.537045Z",
     "start_time": "2021-04-02T13:58:03.174595Z"
    },
    "scrolled": true
   },
   "outputs": [
    {
     "data": {
      "image/png": "[encoded data removed]",
      "text/plain": [
       "<Figure size 432x288 with 1 Axes>"
      ]
     },
     "metadata": {
      "needs_background": "light"
     },
     "output_type": "display_data"
    }
   ],
   "source": [
    "plt.hist(residuals, bins='auto');"
   ]
  },
  {
   "cell_type": "code",
   "execution_count": null,
   "metadata": {},
   "outputs": [],
   "source": []
  },
  {
   "cell_type": "markdown",
   "metadata": {
    "heading_collapsed": true
   },
   "source": [
    "# KNeighbors Regression"
   ]
  },
  {
   "cell_type": "markdown",
   "metadata": {},
   "source": [
    "# Random Forest"
   ]
  },
  {
   "cell_type": "markdown",
   "metadata": {},
   "source": []
  }
 ],
 "metadata": {
  "kernelspec": {
   "display_name": "Python 3",
   "language": "python",
   "name": "python3"
  },
  "language_info": {
   "codemirror_mode": {
    "name": "ipython",
    "version": 3
   },
   "file_extension": ".py",
   "mimetype": "text/x-python",
   "name": "python",
   "nbconvert_exporter": "python",
   "pygments_lexer": "ipython3",
   "version": "3.8.5"
  },
  "toc": {
   "base_numbering": 1,
   "nav_menu": {},
   "number_sections": true,
   "sideBar": true,
   "skip_h1_title": false,
   "title_cell": "Table of Contents",
   "title_sidebar": "Contents",
   "toc_cell": false,
   "toc_position": {
    "height": "calc(100% - 180px)",
    "left": "10px",
    "top": "150px",
    "width": "380.391px"
   },
   "toc_section_display": true,
   "toc_window_display": true
  },
  "varInspector": {
   "cols": {
    "lenName": 16,
    "lenType": 16,
    "lenVar": 40
   },
   "kernels_config": {
    "python": {
     "delete_cmd_postfix": "",
     "delete_cmd_prefix": "del ",
     "library": "var_list.py",
     "varRefreshCmd": "print(var_dic_list())"
    },
    "r": {
     "delete_cmd_postfix": ") ",
     "delete_cmd_prefix": "rm(",
     "library": "var_list.r",
     "varRefreshCmd": "cat(var_dic_list()) "
    }
   },
   "types_to_exclude": [
    "module",
    "function",
    "builtin_function_or_method",
    "instance",
    "_Feature"
   ],
   "window_display": false
  }
 },
 "nbformat": 4,
 "nbformat_minor": 4
}
