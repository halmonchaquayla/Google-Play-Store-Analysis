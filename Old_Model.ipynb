{
 "cells": [
  {
   "cell_type": "markdown",
   "metadata": {},
   "source": [
    "# Import"
   ]
  },
  {
   "cell_type": "code",
   "execution_count": 1,
   "metadata": {
    "ExecuteTime": {
     "end_time": "2021-04-12T23:27:25.097677Z",
     "start_time": "2021-04-12T23:27:23.071289Z"
    }
   },
   "outputs": [],
   "source": [
    "import pandas as pd\n",
    "import numpy as np\n",
    "import seaborn as sns\n",
    "import matplotlib.pyplot as plt\n",
    "%matplotlib inline\n",
    "\n",
    "import statsmodels.api as sm\n",
    "from statsmodels.formula.api import ols\n",
    "\n",
    "pd.set_option('display.max_columns', 500)"
   ]
  },
  {
   "cell_type": "code",
   "execution_count": 2,
   "metadata": {
    "ExecuteTime": {
     "end_time": "2021-04-12T23:27:25.241152Z",
     "start_time": "2021-04-12T23:27:25.212058Z"
    }
   },
   "outputs": [],
   "source": [
    "df = pd.read_csv('cleaned.csv')"
   ]
  },
  {
   "cell_type": "code",
   "execution_count": 3,
   "metadata": {
    "ExecuteTime": {
     "end_time": "2021-04-12T23:27:25.498003Z",
     "start_time": "2021-04-12T23:27:25.467905Z"
    }
   },
   "outputs": [
    {
     "name": "stdout",
     "output_type": "stream",
     "text": [
      "<class 'pandas.core.frame.DataFrame'>\n",
      "RangeIndex: 10351 entries, 0 to 10350\n",
      "Data columns (total 11 columns):\n",
      " #   Column          Non-Null Count  Dtype  \n",
      "---  ------          --------------  -----  \n",
      " 0   Unnamed: 0      10351 non-null  int64  \n",
      " 1   App             10351 non-null  object \n",
      " 2   Category        10351 non-null  object \n",
      " 3   Rating          10351 non-null  float64\n",
      " 4   Reviews         10351 non-null  float64\n",
      " 5   Size            10351 non-null  float64\n",
      " 6   Installs        10351 non-null  int64  \n",
      " 7   Content Rating  10351 non-null  object \n",
      " 8   Genres          10351 non-null  object \n",
      " 9   Month           10351 non-null  float64\n",
      " 10  is_free         10351 non-null  int64  \n",
      "dtypes: float64(4), int64(3), object(4)\n",
      "memory usage: 889.7+ KB\n"
     ]
    }
   ],
   "source": [
    "df.info()"
   ]
  },
  {
   "cell_type": "code",
   "execution_count": 4,
   "metadata": {
    "ExecuteTime": {
     "end_time": "2021-04-12T23:27:25.754853Z",
     "start_time": "2021-04-12T23:27:25.736794Z"
    }
   },
   "outputs": [],
   "source": [
    "df.drop(['Unnamed: 0', 'Genres', 'App'], axis=1, inplace=True)"
   ]
  },
  {
   "cell_type": "markdown",
   "metadata": {},
   "source": [
    "Clearly, the data needs a lot of preprocessing to improve the results. Here you can see the relationship between 'Rating' and the independent variables. We can see what variables are continuous(Reviews, Size, and Installs) and categorical(Category, Content Rating, and Month)."
   ]
  },
  {
   "cell_type": "code",
   "execution_count": 5,
   "metadata": {
    "ExecuteTime": {
     "end_time": "2021-04-12T23:27:25.978593Z",
     "start_time": "2021-04-12T23:27:25.964548Z"
    }
   },
   "outputs": [],
   "source": [
    "df['Month'] = df['Month'].astype('object')"
   ]
  },
  {
   "cell_type": "code",
   "execution_count": 6,
   "metadata": {
    "ExecuteTime": {
     "end_time": "2021-04-12T23:27:26.138122Z",
     "start_time": "2021-04-12T23:27:26.124078Z"
    }
   },
   "outputs": [],
   "source": [
    "cats = df.select_dtypes(include='object')"
   ]
  },
  {
   "cell_type": "code",
   "execution_count": 7,
   "metadata": {
    "ExecuteTime": {
     "end_time": "2021-04-12T23:27:26.940778Z",
     "start_time": "2021-04-12T23:27:26.364873Z"
    }
   },
   "outputs": [],
   "source": [
    "from sklearn import preprocessing\n",
    "le = preprocessing.LabelEncoder()\n",
    "df['Content Rating'] = le.fit_transform(df['Content Rating'])\n",
    "\n",
    "# le = preprocessing.LabelEncoder()\n",
    "# df['Genres'] = le.fit_transform(df['Genres'])\n",
    "\n",
    "# le = preprocessing.LabelEncoder()\n",
    "# df['App'] = le.fit_transform(df['App'])\n",
    "\n",
    "df = pd.concat([df, pd.get_dummies(df[['Category', 'Month']], prefix=('cat', 'mon'), drop_first=True)], axis=1)\n",
    "# df = df.drop(columns=['cat_0'], axis=1)"
   ]
  },
  {
   "cell_type": "code",
   "execution_count": 8,
   "metadata": {
    "ExecuteTime": {
     "end_time": "2021-04-12T23:27:29.737755Z",
     "start_time": "2021-04-12T23:27:29.728739Z"
    }
   },
   "outputs": [],
   "source": [
    "df.columns = df.columns.str.replace(' ', '_').str.replace('+','').str.replace('.0','')"
   ]
  },
  {
   "cell_type": "code",
   "execution_count": 9,
   "metadata": {
    "ExecuteTime": {
     "end_time": "2021-04-12T23:27:36.706908Z",
     "start_time": "2021-04-12T23:27:36.697879Z"
    }
   },
   "outputs": [],
   "source": [
    "df.drop(columns=['Category', 'Month'], axis = 1, inplace=True)"
   ]
  },
  {
   "cell_type": "code",
   "execution_count": 10,
   "metadata": {
    "ExecuteTime": {
     "end_time": "2021-04-12T23:27:37.294987Z",
     "start_time": "2021-04-12T23:27:37.280944Z"
    },
    "scrolled": true
   },
   "outputs": [],
   "source": [
    "# cats_dummies = pd.get_dummies(cats, columns=['Category', 'Content Rating', 'Genres', 'Month'], drop_first=True)\n",
    "# model_df = pd.concat((df, cats_dummies), axis=1)\n",
    "# model_df.drop(columns=['Category', 'Content Rating', 'Genres', 'Month'], axis = 1, inplace=True)\n",
    "# model_df"
   ]
  },
  {
   "cell_type": "code",
   "execution_count": 11,
   "metadata": {
    "ExecuteTime": {
     "end_time": "2021-04-12T23:27:37.788015Z",
     "start_time": "2021-04-12T23:27:37.784000Z"
    }
   },
   "outputs": [],
   "source": [
    "model_df = df.copy()"
   ]
  },
  {
   "cell_type": "code",
   "execution_count": 12,
   "metadata": {
    "ExecuteTime": {
     "end_time": "2021-04-12T23:27:40.141527Z",
     "start_time": "2021-04-12T23:27:40.074304Z"
    },
    "scrolled": true
   },
   "outputs": [
    {
     "data": {
      "text/html": [
       "<div>\n",
       "<style scoped>\n",
       "    .dataframe tbody tr th:only-of-type {\n",
       "        vertical-align: middle;\n",
       "    }\n",
       "\n",
       "    .dataframe tbody tr th {\n",
       "        vertical-align: top;\n",
       "    }\n",
       "\n",
       "    .dataframe thead th {\n",
       "        text-align: right;\n",
       "    }\n",
       "</style>\n",
       "<table border=\"1\" class=\"dataframe\">\n",
       "  <thead>\n",
       "    <tr style=\"text-align: right;\">\n",
       "      <th></th>\n",
       "      <th>Rating</th>\n",
       "      <th>Reviews</th>\n",
       "      <th>Size</th>\n",
       "      <th>Installs</th>\n",
       "      <th>Content_Rating</th>\n",
       "      <th>is_free</th>\n",
       "      <th>cat_AUTO_AND_VEHICLES</th>\n",
       "      <th>cat_BEAUTY</th>\n",
       "      <th>cat_BOOKS_AND_REFERENCE</th>\n",
       "      <th>cat_BUSINESS</th>\n",
       "      <th>cat_COMICS</th>\n",
       "      <th>cat_COMMUNICATION</th>\n",
       "      <th>cat_DATING</th>\n",
       "      <th>cat_EDUCATION</th>\n",
       "      <th>cat_ENTERTAINMENT</th>\n",
       "      <th>cat_EVENTS</th>\n",
       "      <th>cat_FAMILY</th>\n",
       "      <th>cat_FINANCE</th>\n",
       "      <th>cat_FOOD_AND_DRINK</th>\n",
       "      <th>cat_GAME</th>\n",
       "      <th>cat_GAME_ACTION</th>\n",
       "      <th>cat_GAME_ADVENTURE</th>\n",
       "      <th>cat_GAME_ARCADE</th>\n",
       "      <th>cat_GAME_BOARD</th>\n",
       "      <th>cat_GAME_CARD</th>\n",
       "      <th>cat_GAME_CASINO</th>\n",
       "      <th>cat_GAME_CASUAL</th>\n",
       "      <th>cat_GAME_EDUCATIONAL</th>\n",
       "      <th>cat_GAME_MUSIC</th>\n",
       "      <th>cat_GAME_PUZZLE</th>\n",
       "      <th>cat_GAME_RACING</th>\n",
       "      <th>cat_GAME_ROLE_PLAYING</th>\n",
       "      <th>cat_GAME_SIMULATION</th>\n",
       "      <th>cat_GAME_SPORTS</th>\n",
       "      <th>cat_GAME_STRATEGY</th>\n",
       "      <th>cat_GAME_TRIVIA</th>\n",
       "      <th>cat_GAME_WORD</th>\n",
       "      <th>cat_HEALTH_AND_FITNESS</th>\n",
       "      <th>cat_HOUSE_AND_HOME</th>\n",
       "      <th>cat_LIBRARIES_AND_DEMO</th>\n",
       "      <th>cat_LIFESTYLE</th>\n",
       "      <th>cat_MAPS_AND_NAVIGATION</th>\n",
       "      <th>cat_MEDICAL</th>\n",
       "      <th>cat_MUSIC_AND_AUDIO</th>\n",
       "      <th>cat_NEWS_AND_MAGAZINES</th>\n",
       "      <th>cat_PARENTING</th>\n",
       "      <th>cat_PERSONALIZATION</th>\n",
       "      <th>cat_PHOTOGRAPHY</th>\n",
       "      <th>cat_PRODUCTIVITY</th>\n",
       "      <th>cat_SHOPPING</th>\n",
       "      <th>cat_SOCIAL</th>\n",
       "      <th>cat_SPORTS</th>\n",
       "      <th>cat_TOOLS</th>\n",
       "      <th>cat_TRAVEL_AND_LOCAL</th>\n",
       "      <th>cat_VIDEO_PLAYERS</th>\n",
       "      <th>cat_WEATHER</th>\n",
       "      <th>mon_2</th>\n",
       "      <th>mon_3</th>\n",
       "      <th>mon_4</th>\n",
       "      <th>mon_5</th>\n",
       "      <th>mon_6</th>\n",
       "      <th>mon_7</th>\n",
       "      <th>mon_8</th>\n",
       "      <th>mon_9</th>\n",
       "      <th>mon_</th>\n",
       "      <th>mon_11</th>\n",
       "      <th>mon_12</th>\n",
       "    </tr>\n",
       "  </thead>\n",
       "  <tbody>\n",
       "    <tr>\n",
       "      <th>0</th>\n",
       "      <td>4.1</td>\n",
       "      <td>159.0</td>\n",
       "      <td>19.0</td>\n",
       "      <td>10000</td>\n",
       "      <td>1</td>\n",
       "      <td>1</td>\n",
       "      <td>0</td>\n",
       "      <td>0</td>\n",
       "      <td>0</td>\n",
       "      <td>0</td>\n",
       "      <td>0</td>\n",
       "      <td>0</td>\n",
       "      <td>0</td>\n",
       "      <td>0</td>\n",
       "      <td>0</td>\n",
       "      <td>0</td>\n",
       "      <td>0</td>\n",
       "      <td>0</td>\n",
       "      <td>0</td>\n",
       "      <td>0</td>\n",
       "      <td>0</td>\n",
       "      <td>0</td>\n",
       "      <td>0</td>\n",
       "      <td>0</td>\n",
       "      <td>0</td>\n",
       "      <td>0</td>\n",
       "      <td>0</td>\n",
       "      <td>0</td>\n",
       "      <td>0</td>\n",
       "      <td>0</td>\n",
       "      <td>0</td>\n",
       "      <td>0</td>\n",
       "      <td>0</td>\n",
       "      <td>0</td>\n",
       "      <td>0</td>\n",
       "      <td>0</td>\n",
       "      <td>0</td>\n",
       "      <td>0</td>\n",
       "      <td>0</td>\n",
       "      <td>0</td>\n",
       "      <td>0</td>\n",
       "      <td>0</td>\n",
       "      <td>0</td>\n",
       "      <td>0</td>\n",
       "      <td>0</td>\n",
       "      <td>0</td>\n",
       "      <td>0</td>\n",
       "      <td>0</td>\n",
       "      <td>0</td>\n",
       "      <td>0</td>\n",
       "      <td>0</td>\n",
       "      <td>0</td>\n",
       "      <td>0</td>\n",
       "      <td>0</td>\n",
       "      <td>0</td>\n",
       "      <td>0</td>\n",
       "      <td>0</td>\n",
       "      <td>0</td>\n",
       "      <td>0</td>\n",
       "      <td>0</td>\n",
       "      <td>0</td>\n",
       "      <td>0</td>\n",
       "      <td>0</td>\n",
       "      <td>0</td>\n",
       "      <td>0</td>\n",
       "      <td>0</td>\n",
       "      <td>0</td>\n",
       "    </tr>\n",
       "    <tr>\n",
       "      <th>1</th>\n",
       "      <td>3.9</td>\n",
       "      <td>967.0</td>\n",
       "      <td>14.0</td>\n",
       "      <td>500000</td>\n",
       "      <td>1</td>\n",
       "      <td>1</td>\n",
       "      <td>0</td>\n",
       "      <td>0</td>\n",
       "      <td>0</td>\n",
       "      <td>0</td>\n",
       "      <td>0</td>\n",
       "      <td>0</td>\n",
       "      <td>0</td>\n",
       "      <td>0</td>\n",
       "      <td>0</td>\n",
       "      <td>0</td>\n",
       "      <td>0</td>\n",
       "      <td>0</td>\n",
       "      <td>0</td>\n",
       "      <td>0</td>\n",
       "      <td>0</td>\n",
       "      <td>0</td>\n",
       "      <td>0</td>\n",
       "      <td>0</td>\n",
       "      <td>0</td>\n",
       "      <td>0</td>\n",
       "      <td>0</td>\n",
       "      <td>0</td>\n",
       "      <td>0</td>\n",
       "      <td>0</td>\n",
       "      <td>0</td>\n",
       "      <td>0</td>\n",
       "      <td>0</td>\n",
       "      <td>0</td>\n",
       "      <td>0</td>\n",
       "      <td>0</td>\n",
       "      <td>0</td>\n",
       "      <td>0</td>\n",
       "      <td>0</td>\n",
       "      <td>0</td>\n",
       "      <td>0</td>\n",
       "      <td>0</td>\n",
       "      <td>0</td>\n",
       "      <td>0</td>\n",
       "      <td>0</td>\n",
       "      <td>0</td>\n",
       "      <td>0</td>\n",
       "      <td>0</td>\n",
       "      <td>0</td>\n",
       "      <td>0</td>\n",
       "      <td>0</td>\n",
       "      <td>0</td>\n",
       "      <td>0</td>\n",
       "      <td>0</td>\n",
       "      <td>0</td>\n",
       "      <td>0</td>\n",
       "      <td>0</td>\n",
       "      <td>0</td>\n",
       "      <td>0</td>\n",
       "      <td>0</td>\n",
       "      <td>0</td>\n",
       "      <td>0</td>\n",
       "      <td>0</td>\n",
       "      <td>0</td>\n",
       "      <td>0</td>\n",
       "      <td>0</td>\n",
       "      <td>0</td>\n",
       "    </tr>\n",
       "    <tr>\n",
       "      <th>2</th>\n",
       "      <td>4.7</td>\n",
       "      <td>87510.0</td>\n",
       "      <td>8.7</td>\n",
       "      <td>5000000</td>\n",
       "      <td>1</td>\n",
       "      <td>1</td>\n",
       "      <td>0</td>\n",
       "      <td>0</td>\n",
       "      <td>0</td>\n",
       "      <td>0</td>\n",
       "      <td>0</td>\n",
       "      <td>0</td>\n",
       "      <td>0</td>\n",
       "      <td>0</td>\n",
       "      <td>0</td>\n",
       "      <td>0</td>\n",
       "      <td>0</td>\n",
       "      <td>0</td>\n",
       "      <td>0</td>\n",
       "      <td>0</td>\n",
       "      <td>0</td>\n",
       "      <td>0</td>\n",
       "      <td>0</td>\n",
       "      <td>0</td>\n",
       "      <td>0</td>\n",
       "      <td>0</td>\n",
       "      <td>0</td>\n",
       "      <td>0</td>\n",
       "      <td>0</td>\n",
       "      <td>0</td>\n",
       "      <td>0</td>\n",
       "      <td>0</td>\n",
       "      <td>0</td>\n",
       "      <td>0</td>\n",
       "      <td>0</td>\n",
       "      <td>0</td>\n",
       "      <td>0</td>\n",
       "      <td>0</td>\n",
       "      <td>0</td>\n",
       "      <td>0</td>\n",
       "      <td>0</td>\n",
       "      <td>0</td>\n",
       "      <td>0</td>\n",
       "      <td>0</td>\n",
       "      <td>0</td>\n",
       "      <td>0</td>\n",
       "      <td>0</td>\n",
       "      <td>0</td>\n",
       "      <td>0</td>\n",
       "      <td>0</td>\n",
       "      <td>0</td>\n",
       "      <td>0</td>\n",
       "      <td>0</td>\n",
       "      <td>0</td>\n",
       "      <td>0</td>\n",
       "      <td>0</td>\n",
       "      <td>0</td>\n",
       "      <td>0</td>\n",
       "      <td>0</td>\n",
       "      <td>0</td>\n",
       "      <td>0</td>\n",
       "      <td>0</td>\n",
       "      <td>1</td>\n",
       "      <td>0</td>\n",
       "      <td>0</td>\n",
       "      <td>0</td>\n",
       "      <td>0</td>\n",
       "    </tr>\n",
       "    <tr>\n",
       "      <th>3</th>\n",
       "      <td>4.5</td>\n",
       "      <td>215644.0</td>\n",
       "      <td>25.0</td>\n",
       "      <td>50000000</td>\n",
       "      <td>4</td>\n",
       "      <td>1</td>\n",
       "      <td>0</td>\n",
       "      <td>0</td>\n",
       "      <td>0</td>\n",
       "      <td>0</td>\n",
       "      <td>0</td>\n",
       "      <td>0</td>\n",
       "      <td>0</td>\n",
       "      <td>0</td>\n",
       "      <td>0</td>\n",
       "      <td>0</td>\n",
       "      <td>0</td>\n",
       "      <td>0</td>\n",
       "      <td>0</td>\n",
       "      <td>0</td>\n",
       "      <td>0</td>\n",
       "      <td>0</td>\n",
       "      <td>0</td>\n",
       "      <td>0</td>\n",
       "      <td>0</td>\n",
       "      <td>0</td>\n",
       "      <td>0</td>\n",
       "      <td>0</td>\n",
       "      <td>0</td>\n",
       "      <td>0</td>\n",
       "      <td>0</td>\n",
       "      <td>0</td>\n",
       "      <td>0</td>\n",
       "      <td>0</td>\n",
       "      <td>0</td>\n",
       "      <td>0</td>\n",
       "      <td>0</td>\n",
       "      <td>0</td>\n",
       "      <td>0</td>\n",
       "      <td>0</td>\n",
       "      <td>0</td>\n",
       "      <td>0</td>\n",
       "      <td>0</td>\n",
       "      <td>0</td>\n",
       "      <td>0</td>\n",
       "      <td>0</td>\n",
       "      <td>0</td>\n",
       "      <td>0</td>\n",
       "      <td>0</td>\n",
       "      <td>0</td>\n",
       "      <td>0</td>\n",
       "      <td>0</td>\n",
       "      <td>0</td>\n",
       "      <td>0</td>\n",
       "      <td>0</td>\n",
       "      <td>0</td>\n",
       "      <td>0</td>\n",
       "      <td>0</td>\n",
       "      <td>0</td>\n",
       "      <td>0</td>\n",
       "      <td>1</td>\n",
       "      <td>0</td>\n",
       "      <td>0</td>\n",
       "      <td>0</td>\n",
       "      <td>0</td>\n",
       "      <td>0</td>\n",
       "      <td>0</td>\n",
       "    </tr>\n",
       "    <tr>\n",
       "      <th>4</th>\n",
       "      <td>4.3</td>\n",
       "      <td>967.0</td>\n",
       "      <td>2.8</td>\n",
       "      <td>100000</td>\n",
       "      <td>1</td>\n",
       "      <td>1</td>\n",
       "      <td>0</td>\n",
       "      <td>0</td>\n",
       "      <td>0</td>\n",
       "      <td>0</td>\n",
       "      <td>0</td>\n",
       "      <td>0</td>\n",
       "      <td>0</td>\n",
       "      <td>0</td>\n",
       "      <td>0</td>\n",
       "      <td>0</td>\n",
       "      <td>0</td>\n",
       "      <td>0</td>\n",
       "      <td>0</td>\n",
       "      <td>0</td>\n",
       "      <td>0</td>\n",
       "      <td>0</td>\n",
       "      <td>0</td>\n",
       "      <td>0</td>\n",
       "      <td>0</td>\n",
       "      <td>0</td>\n",
       "      <td>0</td>\n",
       "      <td>0</td>\n",
       "      <td>0</td>\n",
       "      <td>0</td>\n",
       "      <td>0</td>\n",
       "      <td>0</td>\n",
       "      <td>0</td>\n",
       "      <td>0</td>\n",
       "      <td>0</td>\n",
       "      <td>0</td>\n",
       "      <td>0</td>\n",
       "      <td>0</td>\n",
       "      <td>0</td>\n",
       "      <td>0</td>\n",
       "      <td>0</td>\n",
       "      <td>0</td>\n",
       "      <td>0</td>\n",
       "      <td>0</td>\n",
       "      <td>0</td>\n",
       "      <td>0</td>\n",
       "      <td>0</td>\n",
       "      <td>0</td>\n",
       "      <td>0</td>\n",
       "      <td>0</td>\n",
       "      <td>0</td>\n",
       "      <td>0</td>\n",
       "      <td>0</td>\n",
       "      <td>0</td>\n",
       "      <td>0</td>\n",
       "      <td>0</td>\n",
       "      <td>0</td>\n",
       "      <td>0</td>\n",
       "      <td>0</td>\n",
       "      <td>0</td>\n",
       "      <td>1</td>\n",
       "      <td>0</td>\n",
       "      <td>0</td>\n",
       "      <td>0</td>\n",
       "      <td>0</td>\n",
       "      <td>0</td>\n",
       "      <td>0</td>\n",
       "    </tr>\n",
       "    <tr>\n",
       "      <th>...</th>\n",
       "      <td>...</td>\n",
       "      <td>...</td>\n",
       "      <td>...</td>\n",
       "      <td>...</td>\n",
       "      <td>...</td>\n",
       "      <td>...</td>\n",
       "      <td>...</td>\n",
       "      <td>...</td>\n",
       "      <td>...</td>\n",
       "      <td>...</td>\n",
       "      <td>...</td>\n",
       "      <td>...</td>\n",
       "      <td>...</td>\n",
       "      <td>...</td>\n",
       "      <td>...</td>\n",
       "      <td>...</td>\n",
       "      <td>...</td>\n",
       "      <td>...</td>\n",
       "      <td>...</td>\n",
       "      <td>...</td>\n",
       "      <td>...</td>\n",
       "      <td>...</td>\n",
       "      <td>...</td>\n",
       "      <td>...</td>\n",
       "      <td>...</td>\n",
       "      <td>...</td>\n",
       "      <td>...</td>\n",
       "      <td>...</td>\n",
       "      <td>...</td>\n",
       "      <td>...</td>\n",
       "      <td>...</td>\n",
       "      <td>...</td>\n",
       "      <td>...</td>\n",
       "      <td>...</td>\n",
       "      <td>...</td>\n",
       "      <td>...</td>\n",
       "      <td>...</td>\n",
       "      <td>...</td>\n",
       "      <td>...</td>\n",
       "      <td>...</td>\n",
       "      <td>...</td>\n",
       "      <td>...</td>\n",
       "      <td>...</td>\n",
       "      <td>...</td>\n",
       "      <td>...</td>\n",
       "      <td>...</td>\n",
       "      <td>...</td>\n",
       "      <td>...</td>\n",
       "      <td>...</td>\n",
       "      <td>...</td>\n",
       "      <td>...</td>\n",
       "      <td>...</td>\n",
       "      <td>...</td>\n",
       "      <td>...</td>\n",
       "      <td>...</td>\n",
       "      <td>...</td>\n",
       "      <td>...</td>\n",
       "      <td>...</td>\n",
       "      <td>...</td>\n",
       "      <td>...</td>\n",
       "      <td>...</td>\n",
       "      <td>...</td>\n",
       "      <td>...</td>\n",
       "      <td>...</td>\n",
       "      <td>...</td>\n",
       "      <td>...</td>\n",
       "      <td>...</td>\n",
       "    </tr>\n",
       "    <tr>\n",
       "      <th>10346</th>\n",
       "      <td>4.6</td>\n",
       "      <td>105363.0</td>\n",
       "      <td>31.0</td>\n",
       "      <td>10000000</td>\n",
       "      <td>1</td>\n",
       "      <td>1</td>\n",
       "      <td>0</td>\n",
       "      <td>0</td>\n",
       "      <td>0</td>\n",
       "      <td>0</td>\n",
       "      <td>0</td>\n",
       "      <td>0</td>\n",
       "      <td>0</td>\n",
       "      <td>1</td>\n",
       "      <td>0</td>\n",
       "      <td>0</td>\n",
       "      <td>0</td>\n",
       "      <td>0</td>\n",
       "      <td>0</td>\n",
       "      <td>0</td>\n",
       "      <td>0</td>\n",
       "      <td>0</td>\n",
       "      <td>0</td>\n",
       "      <td>0</td>\n",
       "      <td>0</td>\n",
       "      <td>0</td>\n",
       "      <td>0</td>\n",
       "      <td>0</td>\n",
       "      <td>0</td>\n",
       "      <td>0</td>\n",
       "      <td>0</td>\n",
       "      <td>0</td>\n",
       "      <td>0</td>\n",
       "      <td>0</td>\n",
       "      <td>0</td>\n",
       "      <td>0</td>\n",
       "      <td>0</td>\n",
       "      <td>0</td>\n",
       "      <td>0</td>\n",
       "      <td>0</td>\n",
       "      <td>0</td>\n",
       "      <td>0</td>\n",
       "      <td>0</td>\n",
       "      <td>0</td>\n",
       "      <td>0</td>\n",
       "      <td>0</td>\n",
       "      <td>0</td>\n",
       "      <td>0</td>\n",
       "      <td>0</td>\n",
       "      <td>0</td>\n",
       "      <td>0</td>\n",
       "      <td>0</td>\n",
       "      <td>0</td>\n",
       "      <td>0</td>\n",
       "      <td>0</td>\n",
       "      <td>0</td>\n",
       "      <td>1</td>\n",
       "      <td>0</td>\n",
       "      <td>0</td>\n",
       "      <td>0</td>\n",
       "      <td>0</td>\n",
       "      <td>0</td>\n",
       "      <td>0</td>\n",
       "      <td>0</td>\n",
       "      <td>0</td>\n",
       "      <td>0</td>\n",
       "      <td>0</td>\n",
       "    </tr>\n",
       "    <tr>\n",
       "      <th>10347</th>\n",
       "      <td>4.7</td>\n",
       "      <td>165252.0</td>\n",
       "      <td>34.0</td>\n",
       "      <td>100000000</td>\n",
       "      <td>1</td>\n",
       "      <td>1</td>\n",
       "      <td>0</td>\n",
       "      <td>0</td>\n",
       "      <td>0</td>\n",
       "      <td>0</td>\n",
       "      <td>0</td>\n",
       "      <td>0</td>\n",
       "      <td>0</td>\n",
       "      <td>0</td>\n",
       "      <td>0</td>\n",
       "      <td>0</td>\n",
       "      <td>0</td>\n",
       "      <td>0</td>\n",
       "      <td>0</td>\n",
       "      <td>0</td>\n",
       "      <td>0</td>\n",
       "      <td>0</td>\n",
       "      <td>0</td>\n",
       "      <td>0</td>\n",
       "      <td>0</td>\n",
       "      <td>0</td>\n",
       "      <td>0</td>\n",
       "      <td>0</td>\n",
       "      <td>0</td>\n",
       "      <td>0</td>\n",
       "      <td>0</td>\n",
       "      <td>0</td>\n",
       "      <td>0</td>\n",
       "      <td>0</td>\n",
       "      <td>0</td>\n",
       "      <td>0</td>\n",
       "      <td>0</td>\n",
       "      <td>0</td>\n",
       "      <td>0</td>\n",
       "      <td>0</td>\n",
       "      <td>0</td>\n",
       "      <td>0</td>\n",
       "      <td>0</td>\n",
       "      <td>0</td>\n",
       "      <td>0</td>\n",
       "      <td>0</td>\n",
       "      <td>0</td>\n",
       "      <td>0</td>\n",
       "      <td>0</td>\n",
       "      <td>0</td>\n",
       "      <td>0</td>\n",
       "      <td>0</td>\n",
       "      <td>1</td>\n",
       "      <td>0</td>\n",
       "      <td>0</td>\n",
       "      <td>0</td>\n",
       "      <td>0</td>\n",
       "      <td>0</td>\n",
       "      <td>0</td>\n",
       "      <td>0</td>\n",
       "      <td>0</td>\n",
       "      <td>0</td>\n",
       "      <td>0</td>\n",
       "      <td>0</td>\n",
       "      <td>0</td>\n",
       "      <td>0</td>\n",
       "      <td>1</td>\n",
       "    </tr>\n",
       "    <tr>\n",
       "      <th>10348</th>\n",
       "      <td>3.9</td>\n",
       "      <td>1406630.0</td>\n",
       "      <td>34.2</td>\n",
       "      <td>100000000</td>\n",
       "      <td>4</td>\n",
       "      <td>1</td>\n",
       "      <td>0</td>\n",
       "      <td>0</td>\n",
       "      <td>1</td>\n",
       "      <td>0</td>\n",
       "      <td>0</td>\n",
       "      <td>0</td>\n",
       "      <td>0</td>\n",
       "      <td>0</td>\n",
       "      <td>0</td>\n",
       "      <td>0</td>\n",
       "      <td>0</td>\n",
       "      <td>0</td>\n",
       "      <td>0</td>\n",
       "      <td>0</td>\n",
       "      <td>0</td>\n",
       "      <td>0</td>\n",
       "      <td>0</td>\n",
       "      <td>0</td>\n",
       "      <td>0</td>\n",
       "      <td>0</td>\n",
       "      <td>0</td>\n",
       "      <td>0</td>\n",
       "      <td>0</td>\n",
       "      <td>0</td>\n",
       "      <td>0</td>\n",
       "      <td>0</td>\n",
       "      <td>0</td>\n",
       "      <td>0</td>\n",
       "      <td>0</td>\n",
       "      <td>0</td>\n",
       "      <td>0</td>\n",
       "      <td>0</td>\n",
       "      <td>0</td>\n",
       "      <td>0</td>\n",
       "      <td>0</td>\n",
       "      <td>0</td>\n",
       "      <td>0</td>\n",
       "      <td>0</td>\n",
       "      <td>0</td>\n",
       "      <td>0</td>\n",
       "      <td>0</td>\n",
       "      <td>0</td>\n",
       "      <td>0</td>\n",
       "      <td>0</td>\n",
       "      <td>0</td>\n",
       "      <td>0</td>\n",
       "      <td>0</td>\n",
       "      <td>0</td>\n",
       "      <td>0</td>\n",
       "      <td>0</td>\n",
       "      <td>0</td>\n",
       "      <td>1</td>\n",
       "      <td>0</td>\n",
       "      <td>0</td>\n",
       "      <td>0</td>\n",
       "      <td>0</td>\n",
       "      <td>0</td>\n",
       "      <td>0</td>\n",
       "      <td>0</td>\n",
       "      <td>0</td>\n",
       "      <td>0</td>\n",
       "    </tr>\n",
       "    <tr>\n",
       "      <th>10349</th>\n",
       "      <td>4.4</td>\n",
       "      <td>7285.0</td>\n",
       "      <td>25.0</td>\n",
       "      <td>1000000</td>\n",
       "      <td>1</td>\n",
       "      <td>1</td>\n",
       "      <td>0</td>\n",
       "      <td>0</td>\n",
       "      <td>0</td>\n",
       "      <td>0</td>\n",
       "      <td>0</td>\n",
       "      <td>0</td>\n",
       "      <td>0</td>\n",
       "      <td>0</td>\n",
       "      <td>1</td>\n",
       "      <td>0</td>\n",
       "      <td>0</td>\n",
       "      <td>0</td>\n",
       "      <td>0</td>\n",
       "      <td>0</td>\n",
       "      <td>0</td>\n",
       "      <td>0</td>\n",
       "      <td>0</td>\n",
       "      <td>0</td>\n",
       "      <td>0</td>\n",
       "      <td>0</td>\n",
       "      <td>0</td>\n",
       "      <td>0</td>\n",
       "      <td>0</td>\n",
       "      <td>0</td>\n",
       "      <td>0</td>\n",
       "      <td>0</td>\n",
       "      <td>0</td>\n",
       "      <td>0</td>\n",
       "      <td>0</td>\n",
       "      <td>0</td>\n",
       "      <td>0</td>\n",
       "      <td>0</td>\n",
       "      <td>0</td>\n",
       "      <td>0</td>\n",
       "      <td>0</td>\n",
       "      <td>0</td>\n",
       "      <td>0</td>\n",
       "      <td>0</td>\n",
       "      <td>0</td>\n",
       "      <td>0</td>\n",
       "      <td>0</td>\n",
       "      <td>0</td>\n",
       "      <td>0</td>\n",
       "      <td>0</td>\n",
       "      <td>0</td>\n",
       "      <td>0</td>\n",
       "      <td>0</td>\n",
       "      <td>0</td>\n",
       "      <td>0</td>\n",
       "      <td>0</td>\n",
       "      <td>0</td>\n",
       "      <td>0</td>\n",
       "      <td>0</td>\n",
       "      <td>1</td>\n",
       "      <td>0</td>\n",
       "      <td>0</td>\n",
       "      <td>0</td>\n",
       "      <td>0</td>\n",
       "      <td>0</td>\n",
       "      <td>0</td>\n",
       "      <td>0</td>\n",
       "    </tr>\n",
       "    <tr>\n",
       "      <th>10350</th>\n",
       "      <td>4.7</td>\n",
       "      <td>7648.0</td>\n",
       "      <td>42.0</td>\n",
       "      <td>1000000</td>\n",
       "      <td>1</td>\n",
       "      <td>1</td>\n",
       "      <td>0</td>\n",
       "      <td>0</td>\n",
       "      <td>0</td>\n",
       "      <td>0</td>\n",
       "      <td>0</td>\n",
       "      <td>0</td>\n",
       "      <td>0</td>\n",
       "      <td>0</td>\n",
       "      <td>0</td>\n",
       "      <td>0</td>\n",
       "      <td>0</td>\n",
       "      <td>0</td>\n",
       "      <td>0</td>\n",
       "      <td>0</td>\n",
       "      <td>0</td>\n",
       "      <td>0</td>\n",
       "      <td>0</td>\n",
       "      <td>0</td>\n",
       "      <td>0</td>\n",
       "      <td>0</td>\n",
       "      <td>0</td>\n",
       "      <td>0</td>\n",
       "      <td>0</td>\n",
       "      <td>0</td>\n",
       "      <td>0</td>\n",
       "      <td>0</td>\n",
       "      <td>0</td>\n",
       "      <td>0</td>\n",
       "      <td>0</td>\n",
       "      <td>0</td>\n",
       "      <td>0</td>\n",
       "      <td>1</td>\n",
       "      <td>0</td>\n",
       "      <td>0</td>\n",
       "      <td>0</td>\n",
       "      <td>0</td>\n",
       "      <td>0</td>\n",
       "      <td>0</td>\n",
       "      <td>0</td>\n",
       "      <td>0</td>\n",
       "      <td>0</td>\n",
       "      <td>0</td>\n",
       "      <td>0</td>\n",
       "      <td>0</td>\n",
       "      <td>0</td>\n",
       "      <td>0</td>\n",
       "      <td>0</td>\n",
       "      <td>0</td>\n",
       "      <td>0</td>\n",
       "      <td>0</td>\n",
       "      <td>0</td>\n",
       "      <td>0</td>\n",
       "      <td>0</td>\n",
       "      <td>0</td>\n",
       "      <td>0</td>\n",
       "      <td>0</td>\n",
       "      <td>0</td>\n",
       "      <td>0</td>\n",
       "      <td>0</td>\n",
       "      <td>0</td>\n",
       "      <td>1</td>\n",
       "    </tr>\n",
       "  </tbody>\n",
       "</table>\n",
       "<p>10351 rows × 67 columns</p>\n",
       "</div>"
      ],
      "text/plain": [
       "       Rating    Reviews  Size   Installs  Content_Rating  is_free  \\\n",
       "0         4.1      159.0  19.0      10000               1        1   \n",
       "1         3.9      967.0  14.0     500000               1        1   \n",
       "2         4.7    87510.0   8.7    5000000               1        1   \n",
       "3         4.5   215644.0  25.0   50000000               4        1   \n",
       "4         4.3      967.0   2.8     100000               1        1   \n",
       "...       ...        ...   ...        ...             ...      ...   \n",
       "10346     4.6   105363.0  31.0   10000000               1        1   \n",
       "10347     4.7   165252.0  34.0  100000000               1        1   \n",
       "10348     3.9  1406630.0  34.2  100000000               4        1   \n",
       "10349     4.4     7285.0  25.0    1000000               1        1   \n",
       "10350     4.7     7648.0  42.0    1000000               1        1   \n",
       "\n",
       "       cat_AUTO_AND_VEHICLES  cat_BEAUTY  cat_BOOKS_AND_REFERENCE  \\\n",
       "0                          0           0                        0   \n",
       "1                          0           0                        0   \n",
       "2                          0           0                        0   \n",
       "3                          0           0                        0   \n",
       "4                          0           0                        0   \n",
       "...                      ...         ...                      ...   \n",
       "10346                      0           0                        0   \n",
       "10347                      0           0                        0   \n",
       "10348                      0           0                        1   \n",
       "10349                      0           0                        0   \n",
       "10350                      0           0                        0   \n",
       "\n",
       "       cat_BUSINESS  cat_COMICS  cat_COMMUNICATION  cat_DATING  cat_EDUCATION  \\\n",
       "0                 0           0                  0           0              0   \n",
       "1                 0           0                  0           0              0   \n",
       "2                 0           0                  0           0              0   \n",
       "3                 0           0                  0           0              0   \n",
       "4                 0           0                  0           0              0   \n",
       "...             ...         ...                ...         ...            ...   \n",
       "10346             0           0                  0           0              1   \n",
       "10347             0           0                  0           0              0   \n",
       "10348             0           0                  0           0              0   \n",
       "10349             0           0                  0           0              0   \n",
       "10350             0           0                  0           0              0   \n",
       "\n",
       "       cat_ENTERTAINMENT  cat_EVENTS  cat_FAMILY  cat_FINANCE  \\\n",
       "0                      0           0           0            0   \n",
       "1                      0           0           0            0   \n",
       "2                      0           0           0            0   \n",
       "3                      0           0           0            0   \n",
       "4                      0           0           0            0   \n",
       "...                  ...         ...         ...          ...   \n",
       "10346                  0           0           0            0   \n",
       "10347                  0           0           0            0   \n",
       "10348                  0           0           0            0   \n",
       "10349                  1           0           0            0   \n",
       "10350                  0           0           0            0   \n",
       "\n",
       "       cat_FOOD_AND_DRINK  cat_GAME  cat_GAME_ACTION  cat_GAME_ADVENTURE  \\\n",
       "0                       0         0                0                   0   \n",
       "1                       0         0                0                   0   \n",
       "2                       0         0                0                   0   \n",
       "3                       0         0                0                   0   \n",
       "4                       0         0                0                   0   \n",
       "...                   ...       ...              ...                 ...   \n",
       "10346                   0         0                0                   0   \n",
       "10347                   0         0                0                   0   \n",
       "10348                   0         0                0                   0   \n",
       "10349                   0         0                0                   0   \n",
       "10350                   0         0                0                   0   \n",
       "\n",
       "       cat_GAME_ARCADE  cat_GAME_BOARD  cat_GAME_CARD  cat_GAME_CASINO  \\\n",
       "0                    0               0              0                0   \n",
       "1                    0               0              0                0   \n",
       "2                    0               0              0                0   \n",
       "3                    0               0              0                0   \n",
       "4                    0               0              0                0   \n",
       "...                ...             ...            ...              ...   \n",
       "10346                0               0              0                0   \n",
       "10347                0               0              0                0   \n",
       "10348                0               0              0                0   \n",
       "10349                0               0              0                0   \n",
       "10350                0               0              0                0   \n",
       "\n",
       "       cat_GAME_CASUAL  cat_GAME_EDUCATIONAL  cat_GAME_MUSIC  cat_GAME_PUZZLE  \\\n",
       "0                    0                     0               0                0   \n",
       "1                    0                     0               0                0   \n",
       "2                    0                     0               0                0   \n",
       "3                    0                     0               0                0   \n",
       "4                    0                     0               0                0   \n",
       "...                ...                   ...             ...              ...   \n",
       "10346                0                     0               0                0   \n",
       "10347                0                     0               0                0   \n",
       "10348                0                     0               0                0   \n",
       "10349                0                     0               0                0   \n",
       "10350                0                     0               0                0   \n",
       "\n",
       "       cat_GAME_RACING  cat_GAME_ROLE_PLAYING  cat_GAME_SIMULATION  \\\n",
       "0                    0                      0                    0   \n",
       "1                    0                      0                    0   \n",
       "2                    0                      0                    0   \n",
       "3                    0                      0                    0   \n",
       "4                    0                      0                    0   \n",
       "...                ...                    ...                  ...   \n",
       "10346                0                      0                    0   \n",
       "10347                0                      0                    0   \n",
       "10348                0                      0                    0   \n",
       "10349                0                      0                    0   \n",
       "10350                0                      0                    0   \n",
       "\n",
       "       cat_GAME_SPORTS  cat_GAME_STRATEGY  cat_GAME_TRIVIA  cat_GAME_WORD  \\\n",
       "0                    0                  0                0              0   \n",
       "1                    0                  0                0              0   \n",
       "2                    0                  0                0              0   \n",
       "3                    0                  0                0              0   \n",
       "4                    0                  0                0              0   \n",
       "...                ...                ...              ...            ...   \n",
       "10346                0                  0                0              0   \n",
       "10347                0                  0                0              0   \n",
       "10348                0                  0                0              0   \n",
       "10349                0                  0                0              0   \n",
       "10350                0                  0                0              0   \n",
       "\n",
       "       cat_HEALTH_AND_FITNESS  cat_HOUSE_AND_HOME  cat_LIBRARIES_AND_DEMO  \\\n",
       "0                           0                   0                       0   \n",
       "1                           0                   0                       0   \n",
       "2                           0                   0                       0   \n",
       "3                           0                   0                       0   \n",
       "4                           0                   0                       0   \n",
       "...                       ...                 ...                     ...   \n",
       "10346                       0                   0                       0   \n",
       "10347                       0                   0                       0   \n",
       "10348                       0                   0                       0   \n",
       "10349                       0                   0                       0   \n",
       "10350                       1                   0                       0   \n",
       "\n",
       "       cat_LIFESTYLE  cat_MAPS_AND_NAVIGATION  cat_MEDICAL  \\\n",
       "0                  0                        0            0   \n",
       "1                  0                        0            0   \n",
       "2                  0                        0            0   \n",
       "3                  0                        0            0   \n",
       "4                  0                        0            0   \n",
       "...              ...                      ...          ...   \n",
       "10346              0                        0            0   \n",
       "10347              0                        0            0   \n",
       "10348              0                        0            0   \n",
       "10349              0                        0            0   \n",
       "10350              0                        0            0   \n",
       "\n",
       "       cat_MUSIC_AND_AUDIO  cat_NEWS_AND_MAGAZINES  cat_PARENTING  \\\n",
       "0                        0                       0              0   \n",
       "1                        0                       0              0   \n",
       "2                        0                       0              0   \n",
       "3                        0                       0              0   \n",
       "4                        0                       0              0   \n",
       "...                    ...                     ...            ...   \n",
       "10346                    0                       0              0   \n",
       "10347                    0                       0              0   \n",
       "10348                    0                       0              0   \n",
       "10349                    0                       0              0   \n",
       "10350                    0                       0              0   \n",
       "\n",
       "       cat_PERSONALIZATION  cat_PHOTOGRAPHY  cat_PRODUCTIVITY  cat_SHOPPING  \\\n",
       "0                        0                0                 0             0   \n",
       "1                        0                0                 0             0   \n",
       "2                        0                0                 0             0   \n",
       "3                        0                0                 0             0   \n",
       "4                        0                0                 0             0   \n",
       "...                    ...              ...               ...           ...   \n",
       "10346                    0                0                 0             0   \n",
       "10347                    0                0                 0             0   \n",
       "10348                    0                0                 0             0   \n",
       "10349                    0                0                 0             0   \n",
       "10350                    0                0                 0             0   \n",
       "\n",
       "       cat_SOCIAL  cat_SPORTS  cat_TOOLS  cat_TRAVEL_AND_LOCAL  \\\n",
       "0               0           0          0                     0   \n",
       "1               0           0          0                     0   \n",
       "2               0           0          0                     0   \n",
       "3               0           0          0                     0   \n",
       "4               0           0          0                     0   \n",
       "...           ...         ...        ...                   ...   \n",
       "10346           0           0          0                     0   \n",
       "10347           0           0          1                     0   \n",
       "10348           0           0          0                     0   \n",
       "10349           0           0          0                     0   \n",
       "10350           0           0          0                     0   \n",
       "\n",
       "       cat_VIDEO_PLAYERS  cat_WEATHER  mon_2  mon_3  mon_4  mon_5  mon_6  \\\n",
       "0                      0            0      0      0      0      0      0   \n",
       "1                      0            0      0      0      0      0      0   \n",
       "2                      0            0      0      0      0      0      0   \n",
       "3                      0            0      0      0      0      0      1   \n",
       "4                      0            0      0      0      0      0      1   \n",
       "...                  ...          ...    ...    ...    ...    ...    ...   \n",
       "10346                  0            0      1      0      0      0      0   \n",
       "10347                  0            0      0      0      0      0      0   \n",
       "10348                  0            0      0      1      0      0      0   \n",
       "10349                  0            0      0      0      0      1      0   \n",
       "10350                  0            0      0      0      0      0      0   \n",
       "\n",
       "       mon_7  mon_8  mon_9  mon_  mon_11  mon_12  \n",
       "0          0      0      0     0       0       0  \n",
       "1          0      0      0     0       0       0  \n",
       "2          0      1      0     0       0       0  \n",
       "3          0      0      0     0       0       0  \n",
       "4          0      0      0     0       0       0  \n",
       "...      ...    ...    ...   ...     ...     ...  \n",
       "10346      0      0      0     0       0       0  \n",
       "10347      0      0      0     0       0       1  \n",
       "10348      0      0      0     0       0       0  \n",
       "10349      0      0      0     0       0       0  \n",
       "10350      0      0      0     0       0       1  \n",
       "\n",
       "[10351 rows x 67 columns]"
      ]
     },
     "execution_count": 12,
     "metadata": {},
     "output_type": "execute_result"
    }
   ],
   "source": [
    "model_df"
   ]
  },
  {
   "cell_type": "code",
   "execution_count": 13,
   "metadata": {
    "ExecuteTime": {
     "end_time": "2021-04-12T23:27:41.297476Z",
     "start_time": "2021-04-12T23:27:41.281426Z"
    }
   },
   "outputs": [],
   "source": [
    "model_df.columns = model_df.columns.str.replace(' ', '_').str.replace('+','').str.replace('.','_').str.replace('_0','')"
   ]
  },
  {
   "cell_type": "markdown",
   "metadata": {},
   "source": [
    "# Baseline Model"
   ]
  },
  {
   "cell_type": "code",
   "execution_count": 14,
   "metadata": {
    "ExecuteTime": {
     "end_time": "2021-04-12T23:27:42.694426Z",
     "start_time": "2021-04-12T23:27:42.432562Z"
    }
   },
   "outputs": [
    {
     "name": "stdout",
     "output_type": "stream",
     "text": [
      "List of predictors: Reviews+Size+Installs+Content_Rating+is_free+cat_AUTO_AND_VEHICLES+cat_BEAUTY+cat_BOOKS_AND_REFERENCE+cat_BUSINESS+cat_COMICS+cat_COMMUNICATION+cat_DATING+cat_EDUCATION+cat_ENTERTAINMENT+cat_EVENTS+cat_FAMILY+cat_FINANCE+cat_FOOD_AND_DRINK+cat_GAME+cat_GAME_ACTION+cat_GAME_ADVENTURE+cat_GAME_ARCADE+cat_GAME_BOARD+cat_GAME_CARD+cat_GAME_CASINO+cat_GAME_CASUAL+cat_GAME_EDUCATIONAL+cat_GAME_MUSIC+cat_GAME_PUZZLE+cat_GAME_RACING+cat_GAME_ROLE_PLAYING+cat_GAME_SIMULATION+cat_GAME_SPORTS+cat_GAME_STRATEGY+cat_GAME_TRIVIA+cat_GAME_WORD+cat_HEALTH_AND_FITNESS+cat_HOUSE_AND_HOME+cat_LIBRARIES_AND_DEMO+cat_LIFESTYLE+cat_MAPS_AND_NAVIGATION+cat_MEDICAL+cat_MUSIC_AND_AUDIO+cat_NEWS_AND_MAGAZINES+cat_PARENTING+cat_PERSONALIZATION+cat_PHOTOGRAPHY+cat_PRODUCTIVITY+cat_SHOPPING+cat_SOCIAL+cat_SPORTS+cat_TOOLS+cat_TRAVEL_AND_LOCAL+cat_VIDEO_PLAYERS+cat_WEATHER+mon_2+mon_3+mon_4+mon_5+mon_6+mon_7+mon_8+mon_9+mon_+mon_11+mon_12\n"
     ]
    },
    {
     "data": {
      "text/html": [
       "<table class=\"simpletable\">\n",
       "<caption>OLS Regression Results</caption>\n",
       "<tr>\n",
       "  <th>Dep. Variable:</th>         <td>Rating</td>      <th>  R-squared:         </th> <td>   0.048</td> \n",
       "</tr>\n",
       "<tr>\n",
       "  <th>Model:</th>                   <td>OLS</td>       <th>  Adj. R-squared:    </th> <td>   0.042</td> \n",
       "</tr>\n",
       "<tr>\n",
       "  <th>Method:</th>             <td>Least Squares</td>  <th>  F-statistic:       </th> <td>   7.821</td> \n",
       "</tr>\n",
       "<tr>\n",
       "  <th>Date:</th>             <td>Mon, 12 Apr 2021</td> <th>  Prob (F-statistic):</th> <td>6.51e-69</td> \n",
       "</tr>\n",
       "<tr>\n",
       "  <th>Time:</th>                 <td>19:27:42</td>     <th>  Log-Likelihood:    </th> <td> -7360.3</td> \n",
       "</tr>\n",
       "<tr>\n",
       "  <th>No. Observations:</th>      <td> 10351</td>      <th>  AIC:               </th> <td>1.485e+04</td>\n",
       "</tr>\n",
       "<tr>\n",
       "  <th>Df Residuals:</th>          <td> 10284</td>      <th>  BIC:               </th> <td>1.534e+04</td>\n",
       "</tr>\n",
       "<tr>\n",
       "  <th>Df Model:</th>              <td>    66</td>      <th>                     </th>     <td> </td>    \n",
       "</tr>\n",
       "<tr>\n",
       "  <th>Covariance Type:</th>      <td>nonrobust</td>    <th>                     </th>     <td> </td>    \n",
       "</tr>\n",
       "</table>\n",
       "<table class=\"simpletable\">\n",
       "<tr>\n",
       "             <td></td>                <th>coef</th>     <th>std err</th>      <th>t</th>      <th>P>|t|</th>  <th>[0.025</th>    <th>0.975]</th>  \n",
       "</tr>\n",
       "<tr>\n",
       "  <th>Intercept</th>               <td>    4.3639</td> <td>    0.066</td> <td>   66.265</td> <td> 0.000</td> <td>    4.235</td> <td>    4.493</td>\n",
       "</tr>\n",
       "<tr>\n",
       "  <th>Reviews</th>                 <td>  9.59e-09</td> <td> 3.33e-09</td> <td>    2.883</td> <td> 0.004</td> <td> 3.07e-09</td> <td> 1.61e-08</td>\n",
       "</tr>\n",
       "<tr>\n",
       "  <th>Size</th>                    <td>-7.801e-05</td> <td> 5.21e-05</td> <td>   -1.497</td> <td> 0.135</td> <td>   -0.000</td> <td> 2.42e-05</td>\n",
       "</tr>\n",
       "<tr>\n",
       "  <th>Installs</th>                <td> 9.576e-11</td> <td> 1.14e-10</td> <td>    0.843</td> <td> 0.399</td> <td>-1.27e-10</td> <td> 3.18e-10</td>\n",
       "</tr>\n",
       "<tr>\n",
       "  <th>Content_Rating</th>          <td>    0.0030</td> <td>    0.006</td> <td>    0.537</td> <td> 0.591</td> <td>   -0.008</td> <td>    0.014</td>\n",
       "</tr>\n",
       "<tr>\n",
       "  <th>is_free</th>                 <td>   -0.0568</td> <td>    0.017</td> <td>   -3.395</td> <td> 0.001</td> <td>   -0.090</td> <td>   -0.024</td>\n",
       "</tr>\n",
       "<tr>\n",
       "  <th>cat_AUTO_AND_VEHICLES</th>   <td>   -0.1652</td> <td>    0.080</td> <td>   -2.065</td> <td> 0.039</td> <td>   -0.322</td> <td>   -0.008</td>\n",
       "</tr>\n",
       "<tr>\n",
       "  <th>cat_BEAUTY</th>              <td>   -0.0776</td> <td>    0.091</td> <td>   -0.854</td> <td> 0.393</td> <td>   -0.256</td> <td>    0.101</td>\n",
       "</tr>\n",
       "<tr>\n",
       "  <th>cat_BOOKS_AND_REFERENCE</th> <td>   -0.0163</td> <td>    0.068</td> <td>   -0.238</td> <td> 0.812</td> <td>   -0.150</td> <td>    0.118</td>\n",
       "</tr>\n",
       "<tr>\n",
       "  <th>cat_BUSINESS</th>            <td>   -0.2075</td> <td>    0.065</td> <td>   -3.192</td> <td> 0.001</td> <td>   -0.335</td> <td>   -0.080</td>\n",
       "</tr>\n",
       "<tr>\n",
       "  <th>cat_COMICS</th>              <td>   -0.1590</td> <td>    0.087</td> <td>   -1.833</td> <td> 0.067</td> <td>   -0.329</td> <td>    0.011</td>\n",
       "</tr>\n",
       "<tr>\n",
       "  <th>cat_COMMUNICATION</th>       <td>   -0.2369</td> <td>    0.066</td> <td>   -3.568</td> <td> 0.000</td> <td>   -0.367</td> <td>   -0.107</td>\n",
       "</tr>\n",
       "<tr>\n",
       "  <th>cat_DATING</th>              <td>   -0.3827</td> <td>    0.071</td> <td>   -5.364</td> <td> 0.000</td> <td>   -0.523</td> <td>   -0.243</td>\n",
       "</tr>\n",
       "<tr>\n",
       "  <th>cat_EDUCATION</th>           <td>    0.0009</td> <td>    0.073</td> <td>    0.012</td> <td> 0.990</td> <td>   -0.142</td> <td>    0.143</td>\n",
       "</tr>\n",
       "<tr>\n",
       "  <th>cat_ENTERTAINMENT</th>       <td>   -0.3251</td> <td>    0.075</td> <td>   -4.315</td> <td> 0.000</td> <td>   -0.473</td> <td>   -0.177</td>\n",
       "</tr>\n",
       "<tr>\n",
       "  <th>cat_EVENTS</th>              <td>    0.0109</td> <td>    0.087</td> <td>    0.126</td> <td> 0.900</td> <td>   -0.159</td> <td>    0.180</td>\n",
       "</tr>\n",
       "<tr>\n",
       "  <th>cat_FAMILY</th>              <td>   -0.1567</td> <td>    0.062</td> <td>   -2.546</td> <td> 0.011</td> <td>   -0.277</td> <td>   -0.036</td>\n",
       "</tr>\n",
       "<tr>\n",
       "  <th>cat_FINANCE</th>             <td>   -0.2250</td> <td>    0.066</td> <td>   -3.408</td> <td> 0.001</td> <td>   -0.354</td> <td>   -0.096</td>\n",
       "</tr>\n",
       "<tr>\n",
       "  <th>cat_FOOD_AND_DRINK</th>      <td>   -0.1922</td> <td>    0.076</td> <td>   -2.515</td> <td> 0.012</td> <td>   -0.342</td> <td>   -0.042</td>\n",
       "</tr>\n",
       "<tr>\n",
       "  <th>cat_GAME</th>                <td>   -0.1103</td> <td>    0.063</td> <td>   -1.757</td> <td> 0.079</td> <td>   -0.233</td> <td>    0.013</td>\n",
       "</tr>\n",
       "<tr>\n",
       "  <th>cat_GAME_ACTION</th>         <td>   -0.0897</td> <td>    0.102</td> <td>   -0.884</td> <td> 0.377</td> <td>   -0.289</td> <td>    0.109</td>\n",
       "</tr>\n",
       "<tr>\n",
       "  <th>cat_GAME_ADVENTURE</th>      <td>   -0.0008</td> <td>    0.106</td> <td>   -0.008</td> <td> 0.994</td> <td>   -0.209</td> <td>    0.207</td>\n",
       "</tr>\n",
       "<tr>\n",
       "  <th>cat_GAME_ARCADE</th>         <td>   -0.3794</td> <td>    0.122</td> <td>   -3.109</td> <td> 0.002</td> <td>   -0.619</td> <td>   -0.140</td>\n",
       "</tr>\n",
       "<tr>\n",
       "  <th>cat_GAME_BOARD</th>          <td>    0.1388</td> <td>    0.156</td> <td>    0.892</td> <td> 0.372</td> <td>   -0.166</td> <td>    0.444</td>\n",
       "</tr>\n",
       "<tr>\n",
       "  <th>cat_GAME_CARD</th>           <td>    0.0026</td> <td>    0.146</td> <td>    0.018</td> <td> 0.986</td> <td>   -0.283</td> <td>    0.288</td>\n",
       "</tr>\n",
       "<tr>\n",
       "  <th>cat_GAME_CASINO</th>         <td>    0.1338</td> <td>    0.103</td> <td>    1.294</td> <td> 0.196</td> <td>   -0.069</td> <td>    0.337</td>\n",
       "</tr>\n",
       "<tr>\n",
       "  <th>cat_GAME_CASUAL</th>         <td>   -0.5151</td> <td>    0.135</td> <td>   -3.829</td> <td> 0.000</td> <td>   -0.779</td> <td>   -0.251</td>\n",
       "</tr>\n",
       "<tr>\n",
       "  <th>cat_GAME_EDUCATIONAL</th>    <td>   -0.0378</td> <td>    0.150</td> <td>   -0.252</td> <td> 0.801</td> <td>   -0.332</td> <td>    0.256</td>\n",
       "</tr>\n",
       "<tr>\n",
       "  <th>cat_GAME_MUSIC</th>          <td>    0.1138</td> <td>    0.197</td> <td>    0.578</td> <td> 0.563</td> <td>   -0.272</td> <td>    0.499</td>\n",
       "</tr>\n",
       "<tr>\n",
       "  <th>cat_GAME_PUZZLE</th>         <td>    0.0858</td> <td>    0.105</td> <td>    0.813</td> <td> 0.416</td> <td>   -0.121</td> <td>    0.292</td>\n",
       "</tr>\n",
       "<tr>\n",
       "  <th>cat_GAME_RACING</th>         <td>    0.1591</td> <td>    0.230</td> <td>    0.692</td> <td> 0.489</td> <td>   -0.291</td> <td>    0.609</td>\n",
       "</tr>\n",
       "<tr>\n",
       "  <th>cat_GAME_ROLE_PLAYING</th>   <td>   -0.0598</td> <td>    0.102</td> <td>   -0.586</td> <td> 0.558</td> <td>   -0.260</td> <td>    0.140</td>\n",
       "</tr>\n",
       "<tr>\n",
       "  <th>cat_GAME_SIMULATION</th>     <td>   -0.0344</td> <td>    0.104</td> <td>   -0.332</td> <td> 0.740</td> <td>   -0.238</td> <td>    0.169</td>\n",
       "</tr>\n",
       "<tr>\n",
       "  <th>cat_GAME_SPORTS</th>         <td>   -0.2293</td> <td>    0.168</td> <td>   -1.366</td> <td> 0.172</td> <td>   -0.558</td> <td>    0.100</td>\n",
       "</tr>\n",
       "<tr>\n",
       "  <th>cat_GAME_STRATEGY</th>       <td>    0.0733</td> <td>    0.090</td> <td>    0.812</td> <td> 0.417</td> <td>   -0.104</td> <td>    0.250</td>\n",
       "</tr>\n",
       "<tr>\n",
       "  <th>cat_GAME_TRIVIA</th>         <td>    0.0872</td> <td>    0.355</td> <td>    0.245</td> <td> 0.806</td> <td>   -0.609</td> <td>    0.784</td>\n",
       "</tr>\n",
       "<tr>\n",
       "  <th>cat_GAME_WORD</th>           <td>   -0.3771</td> <td>    0.499</td> <td>   -0.756</td> <td> 0.449</td> <td>   -1.354</td> <td>    0.600</td>\n",
       "</tr>\n",
       "<tr>\n",
       "  <th>cat_HEALTH_AND_FITNESS</th>  <td>   -0.1272</td> <td>    0.067</td> <td>   -1.906</td> <td> 0.057</td> <td>   -0.258</td> <td>    0.004</td>\n",
       "</tr>\n",
       "<tr>\n",
       "  <th>cat_HOUSE_AND_HOME</th>      <td>   -0.2131</td> <td>    0.083</td> <td>   -2.554</td> <td> 0.011</td> <td>   -0.377</td> <td>   -0.050</td>\n",
       "</tr>\n",
       "<tr>\n",
       "  <th>cat_LIBRARIES_AND_DEMO</th>  <td>   -0.1179</td> <td>    0.081</td> <td>   -1.447</td> <td> 0.148</td> <td>   -0.278</td> <td>    0.042</td>\n",
       "</tr>\n",
       "<tr>\n",
       "  <th>cat_LIFESTYLE</th>           <td>   -0.2415</td> <td>    0.066</td> <td>   -3.684</td> <td> 0.000</td> <td>   -0.370</td> <td>   -0.113</td>\n",
       "</tr>\n",
       "<tr>\n",
       "  <th>cat_MAPS_AND_NAVIGATION</th> <td>   -0.3026</td> <td>    0.074</td> <td>   -4.091</td> <td> 0.000</td> <td>   -0.448</td> <td>   -0.158</td>\n",
       "</tr>\n",
       "<tr>\n",
       "  <th>cat_MEDICAL</th>             <td>   -0.1876</td> <td>    0.065</td> <td>   -2.869</td> <td> 0.004</td> <td>   -0.316</td> <td>   -0.059</td>\n",
       "</tr>\n",
       "<tr>\n",
       "  <th>cat_MUSIC_AND_AUDIO</th>     <td>   -0.0400</td> <td>    0.142</td> <td>   -0.282</td> <td> 0.778</td> <td>   -0.318</td> <td>    0.238</td>\n",
       "</tr>\n",
       "<tr>\n",
       "  <th>cat_NEWS_AND_MAGAZINES</th>  <td>   -0.2213</td> <td>    0.068</td> <td>   -3.259</td> <td> 0.001</td> <td>   -0.354</td> <td>   -0.088</td>\n",
       "</tr>\n",
       "<tr>\n",
       "  <th>cat_PARENTING</th>           <td>   -0.0723</td> <td>    0.088</td> <td>   -0.822</td> <td> 0.411</td> <td>   -0.245</td> <td>    0.100</td>\n",
       "</tr>\n",
       "<tr>\n",
       "  <th>cat_PERSONALIZATION</th>     <td>   -0.0369</td> <td>    0.065</td> <td>   -0.564</td> <td> 0.573</td> <td>   -0.165</td> <td>    0.091</td>\n",
       "</tr>\n",
       "<tr>\n",
       "  <th>cat_PHOTOGRAPHY</th>         <td>   -0.1885</td> <td>    0.067</td> <td>   -2.816</td> <td> 0.005</td> <td>   -0.320</td> <td>   -0.057</td>\n",
       "</tr>\n",
       "<tr>\n",
       "  <th>cat_PRODUCTIVITY</th>        <td>   -0.1567</td> <td>    0.065</td> <td>   -2.394</td> <td> 0.017</td> <td>   -0.285</td> <td>   -0.028</td>\n",
       "</tr>\n",
       "<tr>\n",
       "  <th>cat_SHOPPING</th>            <td>   -0.1554</td> <td>    0.070</td> <td>   -2.225</td> <td> 0.026</td> <td>   -0.292</td> <td>   -0.018</td>\n",
       "</tr>\n",
       "<tr>\n",
       "  <th>cat_SOCIAL</th>              <td>   -0.1344</td> <td>    0.068</td> <td>   -1.966</td> <td> 0.049</td> <td>   -0.268</td> <td>   -0.000</td>\n",
       "</tr>\n",
       "<tr>\n",
       "  <th>cat_SPORTS</th>              <td>   -0.1464</td> <td>    0.066</td> <td>   -2.211</td> <td> 0.027</td> <td>   -0.276</td> <td>   -0.017</td>\n",
       "</tr>\n",
       "<tr>\n",
       "  <th>cat_TOOLS</th>               <td>   -0.2848</td> <td>    0.063</td> <td>   -4.539</td> <td> 0.000</td> <td>   -0.408</td> <td>   -0.162</td>\n",
       "</tr>\n",
       "<tr>\n",
       "  <th>cat_TRAVEL_AND_LOCAL</th>    <td>   -0.2690</td> <td>    0.069</td> <td>   -3.903</td> <td> 0.000</td> <td>   -0.404</td> <td>   -0.134</td>\n",
       "</tr>\n",
       "<tr>\n",
       "  <th>cat_VIDEO_PLAYERS</th>       <td>   -0.2968</td> <td>    0.071</td> <td>   -4.168</td> <td> 0.000</td> <td>   -0.436</td> <td>   -0.157</td>\n",
       "</tr>\n",
       "<tr>\n",
       "  <th>cat_WEATHER</th>             <td>   -0.1189</td> <td>    0.081</td> <td>   -1.463</td> <td> 0.144</td> <td>   -0.278</td> <td>    0.040</td>\n",
       "</tr>\n",
       "<tr>\n",
       "  <th>mon_2</th>                   <td>   -0.0324</td> <td>    0.030</td> <td>   -1.073</td> <td> 0.283</td> <td>   -0.092</td> <td>    0.027</td>\n",
       "</tr>\n",
       "<tr>\n",
       "  <th>mon_3</th>                   <td>   -0.0444</td> <td>    0.029</td> <td>   -1.553</td> <td> 0.121</td> <td>   -0.100</td> <td>    0.012</td>\n",
       "</tr>\n",
       "<tr>\n",
       "  <th>mon_4</th>                   <td>    0.0076</td> <td>    0.029</td> <td>    0.259</td> <td> 0.796</td> <td>   -0.050</td> <td>    0.065</td>\n",
       "</tr>\n",
       "<tr>\n",
       "  <th>mon_5</th>                   <td>    0.0098</td> <td>    0.027</td> <td>    0.364</td> <td> 0.716</td> <td>   -0.043</td> <td>    0.063</td>\n",
       "</tr>\n",
       "<tr>\n",
       "  <th>mon_6</th>                   <td>    0.0263</td> <td>    0.026</td> <td>    1.011</td> <td> 0.312</td> <td>   -0.025</td> <td>    0.077</td>\n",
       "</tr>\n",
       "<tr>\n",
       "  <th>mon_7</th>                   <td>    0.0926</td> <td>    0.024</td> <td>    3.860</td> <td> 0.000</td> <td>    0.046</td> <td>    0.140</td>\n",
       "</tr>\n",
       "<tr>\n",
       "  <th>mon_8</th>                   <td>    0.1211</td> <td>    0.026</td> <td>    4.676</td> <td> 0.000</td> <td>    0.070</td> <td>    0.172</td>\n",
       "</tr>\n",
       "<tr>\n",
       "  <th>mon_9</th>                   <td>   -0.0611</td> <td>    0.034</td> <td>   -1.792</td> <td> 0.073</td> <td>   -0.128</td> <td>    0.006</td>\n",
       "</tr>\n",
       "<tr>\n",
       "  <th>mon_</th>                    <td>   -0.0907</td> <td>    0.032</td> <td>   -2.819</td> <td> 0.005</td> <td>   -0.154</td> <td>   -0.028</td>\n",
       "</tr>\n",
       "<tr>\n",
       "  <th>mon_11</th>                  <td>   -0.0286</td> <td>    0.032</td> <td>   -0.891</td> <td> 0.373</td> <td>   -0.091</td> <td>    0.034</td>\n",
       "</tr>\n",
       "<tr>\n",
       "  <th>mon_12</th>                  <td>   -0.0587</td> <td>    0.031</td> <td>   -1.881</td> <td> 0.060</td> <td>   -0.120</td> <td>    0.002</td>\n",
       "</tr>\n",
       "</table>\n",
       "<table class=\"simpletable\">\n",
       "<tr>\n",
       "  <th>Omnibus:</th>       <td>4757.044</td> <th>  Durbin-Watson:     </th> <td>   1.865</td> \n",
       "</tr>\n",
       "<tr>\n",
       "  <th>Prob(Omnibus):</th>  <td> 0.000</td>  <th>  Jarque-Bera (JB):  </th> <td>37637.923</td>\n",
       "</tr>\n",
       "<tr>\n",
       "  <th>Skew:</th>           <td>-2.039</td>  <th>  Prob(JB):          </th> <td>    0.00</td> \n",
       "</tr>\n",
       "<tr>\n",
       "  <th>Kurtosis:</th>       <td>11.404</td>  <th>  Cond. No.          </th> <td>5.75e+09</td> \n",
       "</tr>\n",
       "</table><br/><br/>Notes:<br/>[1] Standard Errors assume that the covariance matrix of the errors is correctly specified.<br/>[2] The condition number is large, 5.75e+09. This might indicate that there are<br/>strong multicollinearity or other numerical problems."
      ],
      "text/plain": [
       "<class 'statsmodels.iolib.summary.Summary'>\n",
       "\"\"\"\n",
       "                            OLS Regression Results                            \n",
       "==============================================================================\n",
       "Dep. Variable:                 Rating   R-squared:                       0.048\n",
       "Model:                            OLS   Adj. R-squared:                  0.042\n",
       "Method:                 Least Squares   F-statistic:                     7.821\n",
       "Date:                Mon, 12 Apr 2021   Prob (F-statistic):           6.51e-69\n",
       "Time:                        19:27:42   Log-Likelihood:                -7360.3\n",
       "No. Observations:               10351   AIC:                         1.485e+04\n",
       "Df Residuals:                   10284   BIC:                         1.534e+04\n",
       "Df Model:                          66                                         \n",
       "Covariance Type:            nonrobust                                         \n",
       "===========================================================================================\n",
       "                              coef    std err          t      P>|t|      [0.025      0.975]\n",
       "-------------------------------------------------------------------------------------------\n",
       "Intercept                   4.3639      0.066     66.265      0.000       4.235       4.493\n",
       "Reviews                   9.59e-09   3.33e-09      2.883      0.004    3.07e-09    1.61e-08\n",
       "Size                    -7.801e-05   5.21e-05     -1.497      0.135      -0.000    2.42e-05\n",
       "Installs                 9.576e-11   1.14e-10      0.843      0.399   -1.27e-10    3.18e-10\n",
       "Content_Rating              0.0030      0.006      0.537      0.591      -0.008       0.014\n",
       "is_free                    -0.0568      0.017     -3.395      0.001      -0.090      -0.024\n",
       "cat_AUTO_AND_VEHICLES      -0.1652      0.080     -2.065      0.039      -0.322      -0.008\n",
       "cat_BEAUTY                 -0.0776      0.091     -0.854      0.393      -0.256       0.101\n",
       "cat_BOOKS_AND_REFERENCE    -0.0163      0.068     -0.238      0.812      -0.150       0.118\n",
       "cat_BUSINESS               -0.2075      0.065     -3.192      0.001      -0.335      -0.080\n",
       "cat_COMICS                 -0.1590      0.087     -1.833      0.067      -0.329       0.011\n",
       "cat_COMMUNICATION          -0.2369      0.066     -3.568      0.000      -0.367      -0.107\n",
       "cat_DATING                 -0.3827      0.071     -5.364      0.000      -0.523      -0.243\n",
       "cat_EDUCATION               0.0009      0.073      0.012      0.990      -0.142       0.143\n",
       "cat_ENTERTAINMENT          -0.3251      0.075     -4.315      0.000      -0.473      -0.177\n",
       "cat_EVENTS                  0.0109      0.087      0.126      0.900      -0.159       0.180\n",
       "cat_FAMILY                 -0.1567      0.062     -2.546      0.011      -0.277      -0.036\n",
       "cat_FINANCE                -0.2250      0.066     -3.408      0.001      -0.354      -0.096\n",
       "cat_FOOD_AND_DRINK         -0.1922      0.076     -2.515      0.012      -0.342      -0.042\n",
       "cat_GAME                   -0.1103      0.063     -1.757      0.079      -0.233       0.013\n",
       "cat_GAME_ACTION            -0.0897      0.102     -0.884      0.377      -0.289       0.109\n",
       "cat_GAME_ADVENTURE         -0.0008      0.106     -0.008      0.994      -0.209       0.207\n",
       "cat_GAME_ARCADE            -0.3794      0.122     -3.109      0.002      -0.619      -0.140\n",
       "cat_GAME_BOARD              0.1388      0.156      0.892      0.372      -0.166       0.444\n",
       "cat_GAME_CARD               0.0026      0.146      0.018      0.986      -0.283       0.288\n",
       "cat_GAME_CASINO             0.1338      0.103      1.294      0.196      -0.069       0.337\n",
       "cat_GAME_CASUAL            -0.5151      0.135     -3.829      0.000      -0.779      -0.251\n",
       "cat_GAME_EDUCATIONAL       -0.0378      0.150     -0.252      0.801      -0.332       0.256\n",
       "cat_GAME_MUSIC              0.1138      0.197      0.578      0.563      -0.272       0.499\n",
       "cat_GAME_PUZZLE             0.0858      0.105      0.813      0.416      -0.121       0.292\n",
       "cat_GAME_RACING             0.1591      0.230      0.692      0.489      -0.291       0.609\n",
       "cat_GAME_ROLE_PLAYING      -0.0598      0.102     -0.586      0.558      -0.260       0.140\n",
       "cat_GAME_SIMULATION        -0.0344      0.104     -0.332      0.740      -0.238       0.169\n",
       "cat_GAME_SPORTS            -0.2293      0.168     -1.366      0.172      -0.558       0.100\n",
       "cat_GAME_STRATEGY           0.0733      0.090      0.812      0.417      -0.104       0.250\n",
       "cat_GAME_TRIVIA             0.0872      0.355      0.245      0.806      -0.609       0.784\n",
       "cat_GAME_WORD              -0.3771      0.499     -0.756      0.449      -1.354       0.600\n",
       "cat_HEALTH_AND_FITNESS     -0.1272      0.067     -1.906      0.057      -0.258       0.004\n",
       "cat_HOUSE_AND_HOME         -0.2131      0.083     -2.554      0.011      -0.377      -0.050\n",
       "cat_LIBRARIES_AND_DEMO     -0.1179      0.081     -1.447      0.148      -0.278       0.042\n",
       "cat_LIFESTYLE              -0.2415      0.066     -3.684      0.000      -0.370      -0.113\n",
       "cat_MAPS_AND_NAVIGATION    -0.3026      0.074     -4.091      0.000      -0.448      -0.158\n",
       "cat_MEDICAL                -0.1876      0.065     -2.869      0.004      -0.316      -0.059\n",
       "cat_MUSIC_AND_AUDIO        -0.0400      0.142     -0.282      0.778      -0.318       0.238\n",
       "cat_NEWS_AND_MAGAZINES     -0.2213      0.068     -3.259      0.001      -0.354      -0.088\n",
       "cat_PARENTING              -0.0723      0.088     -0.822      0.411      -0.245       0.100\n",
       "cat_PERSONALIZATION        -0.0369      0.065     -0.564      0.573      -0.165       0.091\n",
       "cat_PHOTOGRAPHY            -0.1885      0.067     -2.816      0.005      -0.320      -0.057\n",
       "cat_PRODUCTIVITY           -0.1567      0.065     -2.394      0.017      -0.285      -0.028\n",
       "cat_SHOPPING               -0.1554      0.070     -2.225      0.026      -0.292      -0.018\n",
       "cat_SOCIAL                 -0.1344      0.068     -1.966      0.049      -0.268      -0.000\n",
       "cat_SPORTS                 -0.1464      0.066     -2.211      0.027      -0.276      -0.017\n",
       "cat_TOOLS                  -0.2848      0.063     -4.539      0.000      -0.408      -0.162\n",
       "cat_TRAVEL_AND_LOCAL       -0.2690      0.069     -3.903      0.000      -0.404      -0.134\n",
       "cat_VIDEO_PLAYERS          -0.2968      0.071     -4.168      0.000      -0.436      -0.157\n",
       "cat_WEATHER                -0.1189      0.081     -1.463      0.144      -0.278       0.040\n",
       "mon_2                      -0.0324      0.030     -1.073      0.283      -0.092       0.027\n",
       "mon_3                      -0.0444      0.029     -1.553      0.121      -0.100       0.012\n",
       "mon_4                       0.0076      0.029      0.259      0.796      -0.050       0.065\n",
       "mon_5                       0.0098      0.027      0.364      0.716      -0.043       0.063\n",
       "mon_6                       0.0263      0.026      1.011      0.312      -0.025       0.077\n",
       "mon_7                       0.0926      0.024      3.860      0.000       0.046       0.140\n",
       "mon_8                       0.1211      0.026      4.676      0.000       0.070       0.172\n",
       "mon_9                      -0.0611      0.034     -1.792      0.073      -0.128       0.006\n",
       "mon_                       -0.0907      0.032     -2.819      0.005      -0.154      -0.028\n",
       "mon_11                     -0.0286      0.032     -0.891      0.373      -0.091       0.034\n",
       "mon_12                     -0.0587      0.031     -1.881      0.060      -0.120       0.002\n",
       "==============================================================================\n",
       "Omnibus:                     4757.044   Durbin-Watson:                   1.865\n",
       "Prob(Omnibus):                  0.000   Jarque-Bera (JB):            37637.923\n",
       "Skew:                          -2.039   Prob(JB):                         0.00\n",
       "Kurtosis:                      11.404   Cond. No.                     5.75e+09\n",
       "==============================================================================\n",
       "\n",
       "Notes:\n",
       "[1] Standard Errors assume that the covariance matrix of the errors is correctly specified.\n",
       "[2] The condition number is large, 5.75e+09. This might indicate that there are\n",
       "strong multicollinearity or other numerical problems.\n",
       "\"\"\""
      ]
     },
     "metadata": {},
     "output_type": "display_data"
    }
   ],
   "source": [
    "outcome = 'Rating'\n",
    "predictors = model_df.drop(['Rating'], axis=1)\n",
    "pred_sum = '+'.join(predictors.columns)\n",
    "f = outcome + '~' + pred_sum\n",
    "model = ols(f, model_df).fit()\n",
    "print(f'List of predictors: {pred_sum}')\n",
    "display(model.summary())"
   ]
  },
  {
   "cell_type": "code",
   "execution_count": null,
   "metadata": {
    "ExecuteTime": {
     "end_time": "2021-04-12T19:33:20.857945Z",
     "start_time": "2021-04-12T19:33:20.840148Z"
    }
   },
   "outputs": [],
   "source": [
    "y = model_df['Rating']\n",
    "X = model_df.drop('Rating', axis=1)"
   ]
  },
  {
   "cell_type": "code",
   "execution_count": null,
   "metadata": {
    "ExecuteTime": {
     "end_time": "2021-04-12T19:33:21.710384Z",
     "start_time": "2021-04-12T19:33:21.656207Z"
    }
   },
   "outputs": [],
   "source": [
    "from sklearn.model_selection import train_test_split\n",
    "X_train, X_test, y_train, y_test = train_test_split(X, y, test_size=0.25)\n",
    "print(len(X_train), len(X_test), len(y_train), len(y_test))"
   ]
  },
  {
   "cell_type": "code",
   "execution_count": null,
   "metadata": {
    "ExecuteTime": {
     "end_time": "2021-04-12T19:33:22.490470Z",
     "start_time": "2021-04-12T19:33:22.430272Z"
    }
   },
   "outputs": [],
   "source": [
    "from sklearn.linear_model import LinearRegression\n",
    "from sklearn.metrics import mean_squared_error\n",
    "from sklearn.metrics import mean_absolute_error\n",
    "linreg = LinearRegression()"
   ]
  },
  {
   "cell_type": "code",
   "execution_count": null,
   "metadata": {
    "ExecuteTime": {
     "end_time": "2021-04-12T19:33:23.226906Z",
     "start_time": "2021-04-12T19:33:23.165707Z"
    },
    "scrolled": true
   },
   "outputs": [],
   "source": [
    "linreg.fit(X_train, y_train)\n",
    "y_hat_train = linreg.predict(X_train)\n",
    "y_hat_test = linreg.predict(X_test)\n",
    "\n",
    "train_residuals = y_hat_train - y_train\n",
    "test_residuals = y_hat_test - y_test\n",
    "\n",
    "mse_train = mean_squared_error(y_train, y_hat_train)\n",
    "mse_test = mean_squared_error(y_test, y_hat_test)\n",
    "rmse_train = np.sqrt(mse_train)\n",
    "rmse_test = np.sqrt(mse_test)\n",
    "\n",
    "print('MAE:', mean_absolute_error(y_test, y_hat_test))\n",
    "print('Train Mean Squared Error:', mse_train)\n",
    "print('Test Mean Squared Error:', mse_test)\n",
    "print('Root Mean Squared Error Train:', rmse_train)\n",
    "print('Root Mean Squared Error Test:', rmse_test)"
   ]
  },
  {
   "cell_type": "code",
   "execution_count": null,
   "metadata": {
    "ExecuteTime": {
     "end_time": "2021-04-12T19:33:24.566347Z",
     "start_time": "2021-04-12T19:33:24.232522Z"
    }
   },
   "outputs": [],
   "source": [
    "import scipy.stats as stats\n",
    "residuals = model.resid\n",
    "fig = sm.graphics.qqplot(residuals, dist=stats.norm, line='45', fit=True)"
   ]
  },
  {
   "cell_type": "code",
   "execution_count": null,
   "metadata": {
    "ExecuteTime": {
     "end_time": "2021-04-12T19:33:29.466022Z",
     "start_time": "2021-04-12T19:33:28.961983Z"
    },
    "scrolled": false
   },
   "outputs": [],
   "source": [
    "plt.hist(residuals, bins='auto');"
   ]
  },
  {
   "cell_type": "markdown",
   "metadata": {},
   "source": [
    "# Outliers"
   ]
  },
  {
   "cell_type": "code",
   "execution_count": null,
   "metadata": {
    "ExecuteTime": {
     "end_time": "2021-04-12T19:33:32.125358Z",
     "start_time": "2021-04-12T19:33:32.121360Z"
    }
   },
   "outputs": [],
   "source": [
    "from numpy import mean\n",
    "from numpy import std"
   ]
  },
  {
   "cell_type": "code",
   "execution_count": null,
   "metadata": {
    "ExecuteTime": {
     "end_time": "2021-04-12T19:33:33.926039Z",
     "start_time": "2021-04-12T19:33:33.753469Z"
    }
   },
   "outputs": [],
   "source": [
    "sns.boxplot(x=model_df['Reviews'])"
   ]
  },
  {
   "cell_type": "code",
   "execution_count": null,
   "metadata": {
    "ExecuteTime": {
     "end_time": "2021-04-12T19:33:34.830081Z",
     "start_time": "2021-04-12T19:33:34.818041Z"
    }
   },
   "outputs": [],
   "source": [
    "def outliers(col, df):\n",
    "    mean = df[col].mean()\n",
    "    std = df[col].std()\n",
    "    cut_off = std * 3\n",
    "    lower = mean - cut_off\n",
    "    upper = mean + cut_off\n",
    "    outliers = [x for x in df[col] if x < lower or x > upper]\n",
    "    return sorted(outliers)"
   ]
  },
  {
   "cell_type": "code",
   "execution_count": null,
   "metadata": {
    "ExecuteTime": {
     "end_time": "2021-04-12T19:33:36.173287Z",
     "start_time": "2021-04-12T19:33:36.162248Z"
    },
    "scrolled": true
   },
   "outputs": [],
   "source": [
    "outliers('Reviews', model_df)"
   ]
  },
  {
   "cell_type": "code",
   "execution_count": null,
   "metadata": {
    "ExecuteTime": {
     "end_time": "2021-04-12T19:33:54.535214Z",
     "start_time": "2021-04-12T19:33:54.459979Z"
    }
   },
   "outputs": [],
   "source": [
    "model_out = model_df[(model_df['Reviews'] <= 5783441) & (model_df['Reviews'] >= 10)]\n",
    "model_out.reset_index(drop=True)"
   ]
  },
  {
   "cell_type": "code",
   "execution_count": null,
   "metadata": {
    "ExecuteTime": {
     "end_time": "2021-04-12T19:33:59.233245Z",
     "start_time": "2021-04-12T19:33:59.069707Z"
    },
    "scrolled": true
   },
   "outputs": [],
   "source": [
    "sns.boxplot(x=model_df['Installs'])"
   ]
  },
  {
   "cell_type": "code",
   "execution_count": null,
   "metadata": {
    "ExecuteTime": {
     "end_time": "2021-04-12T19:34:00.224930Z",
     "start_time": "2021-04-12T19:34:00.197844Z"
    }
   },
   "outputs": [],
   "source": [
    "outliers('Installs', model_out)"
   ]
  },
  {
   "cell_type": "code",
   "execution_count": null,
   "metadata": {
    "ExecuteTime": {
     "end_time": "2021-04-12T19:35:16.717753Z",
     "start_time": "2021-04-12T19:35:16.646521Z"
    }
   },
   "outputs": [],
   "source": [
    "model_out = model_out[(model_out['Installs'] < 500000000)]\n",
    "model_out.reset_index(drop=True)"
   ]
  },
  {
   "cell_type": "code",
   "execution_count": null,
   "metadata": {
    "ExecuteTime": {
     "end_time": "2021-04-12T19:35:58.261806Z",
     "start_time": "2021-04-12T19:35:58.116340Z"
    }
   },
   "outputs": [],
   "source": [
    "sns.boxplot(x=model_out['Installs'])"
   ]
  },
  {
   "cell_type": "code",
   "execution_count": null,
   "metadata": {
    "ExecuteTime": {
     "end_time": "2021-04-12T19:36:01.230169Z",
     "start_time": "2021-04-12T19:36:01.093720Z"
    }
   },
   "outputs": [],
   "source": [
    "sns.boxplot(x=model_out['Size'])"
   ]
  },
  {
   "cell_type": "code",
   "execution_count": null,
   "metadata": {
    "ExecuteTime": {
     "end_time": "2021-04-12T19:36:06.250152Z",
     "start_time": "2021-04-12T19:36:06.236106Z"
    },
    "scrolled": true
   },
   "outputs": [],
   "source": [
    "outliers('Size', model_out)"
   ]
  },
  {
   "cell_type": "code",
   "execution_count": null,
   "metadata": {
    "ExecuteTime": {
     "end_time": "2021-04-12T19:36:23.448315Z",
     "start_time": "2021-04-12T19:36:23.375072Z"
    }
   },
   "outputs": [],
   "source": [
    "model_out = model_out[(model_out['Size'] < 120.0)]\n",
    "model_out.reset_index(drop=True)"
   ]
  },
  {
   "cell_type": "code",
   "execution_count": null,
   "metadata": {
    "ExecuteTime": {
     "end_time": "2021-04-12T19:36:36.471649Z",
     "start_time": "2021-04-12T19:36:36.314128Z"
    }
   },
   "outputs": [],
   "source": [
    "sns.boxplot(x=model_out['Rating'])"
   ]
  },
  {
   "cell_type": "markdown",
   "metadata": {},
   "source": [
    "The median looks to be around 4.3. Anything beyond 3.3 and 5 are outliers. We will use these as our markers."
   ]
  },
  {
   "cell_type": "code",
   "execution_count": null,
   "metadata": {
    "ExecuteTime": {
     "end_time": "2021-04-12T19:36:41.527459Z",
     "start_time": "2021-04-12T19:36:41.463247Z"
    }
   },
   "outputs": [],
   "source": [
    "model_out = model_out[(model_out['Rating'] > 3.3)]\n",
    "model_out.reset_index(drop=True)"
   ]
  },
  {
   "cell_type": "code",
   "execution_count": null,
   "metadata": {
    "ExecuteTime": {
     "end_time": "2021-04-06T15:26:40.942698Z",
     "start_time": "2021-04-06T15:26:40.671803Z"
    },
    "scrolled": true
   },
   "outputs": [],
   "source": [
    "model_out.describe()"
   ]
  },
  {
   "cell_type": "markdown",
   "metadata": {},
   "source": [
    "# Model - Outliers Fixed"
   ]
  },
  {
   "cell_type": "code",
   "execution_count": null,
   "metadata": {
    "ExecuteTime": {
     "end_time": "2021-04-12T19:36:48.348005Z",
     "start_time": "2021-04-12T19:36:48.108072Z"
    }
   },
   "outputs": [],
   "source": [
    "outcome = 'Rating'\n",
    "predictors = model_out.drop(['Rating'], axis=1)\n",
    "pred_sum = '+'.join(predictors.columns)\n",
    "f = outcome + '~' + pred_sum\n",
    "model = ols(f, model_out).fit()\n",
    "print(f'List of predictors: {pred_sum}')\n",
    "display(model.summary())"
   ]
  },
  {
   "cell_type": "code",
   "execution_count": null,
   "metadata": {
    "ExecuteTime": {
     "end_time": "2021-04-06T15:26:41.215601Z",
     "start_time": "2021-04-06T15:26:41.201556Z"
    }
   },
   "outputs": [],
   "source": [
    "y = model_out['Rating']\n",
    "X = model_out.drop('Rating', axis=1)"
   ]
  },
  {
   "cell_type": "code",
   "execution_count": null,
   "metadata": {
    "ExecuteTime": {
     "end_time": "2021-04-06T15:26:41.279814Z",
     "start_time": "2021-04-06T15:26:41.217609Z"
    }
   },
   "outputs": [],
   "source": [
    "from sklearn.model_selection import train_test_split\n",
    "X_train, X_test, y_train, y_test = train_test_split(X, y, test_size=0.25)\n",
    "print(len(X_train), len(X_test), len(y_train), len(y_test))"
   ]
  },
  {
   "cell_type": "code",
   "execution_count": null,
   "metadata": {
    "ExecuteTime": {
     "end_time": "2021-04-06T15:26:41.311920Z",
     "start_time": "2021-04-06T15:26:41.281822Z"
    }
   },
   "outputs": [],
   "source": [
    "from sklearn.linear_model import LinearRegression\n",
    "from sklearn.metrics import mean_squared_error\n",
    "from sklearn.metrics import mean_absolute_error\n",
    "linreg = LinearRegression()"
   ]
  },
  {
   "cell_type": "code",
   "execution_count": null,
   "metadata": {
    "ExecuteTime": {
     "end_time": "2021-04-06T15:26:41.472451Z",
     "start_time": "2021-04-06T15:26:41.313928Z"
    },
    "scrolled": true
   },
   "outputs": [],
   "source": [
    "linreg.fit(X_train, y_train)\n",
    "y_hat_train = linreg.predict(X_train)\n",
    "y_hat_test = linreg.predict(X_test)\n",
    "\n",
    "train_residuals = y_hat_train - y_train\n",
    "test_residuals = y_hat_test - y_test\n",
    "\n",
    "mse_train = mean_squared_error(y_train, y_hat_train)\n",
    "mse_test = mean_squared_error(y_test, y_hat_test)\n",
    "rmse_train = np.sqrt(mse_train)\n",
    "rmse_test = np.sqrt(mse_test)\n",
    "\n",
    "print('MAE:', mean_absolute_error(y_test, y_hat_test))\n",
    "print('Train Mean Squared Error:', mse_train)\n",
    "print('Test Mean Squared Error:', mse_test)\n",
    "print('Root Mean Squared Error Train:', rmse_train)\n",
    "print('Root Mean Squared Error Test:', rmse_test)"
   ]
  },
  {
   "cell_type": "code",
   "execution_count": null,
   "metadata": {
    "ExecuteTime": {
     "end_time": "2021-04-06T15:26:41.504557Z",
     "start_time": "2021-04-06T15:26:41.474459Z"
    }
   },
   "outputs": [],
   "source": [
    "accuracy = linreg.score(X_test, y_test)\n",
    "'Accuracy: ' + str(np.round(accuracy*100, 2)) + '%'"
   ]
  },
  {
   "cell_type": "code",
   "execution_count": null,
   "metadata": {
    "ExecuteTime": {
     "end_time": "2021-04-12T19:36:54.100679Z",
     "start_time": "2021-04-12T19:36:53.872925Z"
    }
   },
   "outputs": [],
   "source": [
    "import scipy.stats as stats\n",
    "residuals = model.resid\n",
    "fig = sm.graphics.qqplot(residuals, dist=stats.norm, line='45', fit=True)"
   ]
  },
  {
   "cell_type": "code",
   "execution_count": null,
   "metadata": {
    "ExecuteTime": {
     "end_time": "2021-04-12T19:37:00.140044Z",
     "start_time": "2021-04-12T19:36:59.835035Z"
    },
    "scrolled": false
   },
   "outputs": [],
   "source": [
    "plt.hist(residuals, bins='auto');"
   ]
  },
  {
   "cell_type": "markdown",
   "metadata": {},
   "source": [
    "# Transform"
   ]
  },
  {
   "cell_type": "code",
   "execution_count": null,
   "metadata": {
    "ExecuteTime": {
     "end_time": "2021-04-12T19:37:05.914198Z",
     "start_time": "2021-04-12T19:37:05.908175Z"
    }
   },
   "outputs": [],
   "source": [
    "df_log = model_out.copy()"
   ]
  },
  {
   "cell_type": "code",
   "execution_count": null,
   "metadata": {
    "ExecuteTime": {
     "end_time": "2021-04-12T19:37:11.511389Z",
     "start_time": "2021-04-12T19:37:10.419502Z"
    }
   },
   "outputs": [],
   "source": [
    "df_log[['Rating', 'Reviews', 'Size', 'Installs']].hist(figsize=(15,12));"
   ]
  },
  {
   "cell_type": "markdown",
   "metadata": {},
   "source": [
    "All the continuous variable are very skewed. Major outliers with Reviews and Installs. "
   ]
  },
  {
   "cell_type": "code",
   "execution_count": null,
   "metadata": {
    "ExecuteTime": {
     "end_time": "2021-04-12T19:37:14.054907Z",
     "start_time": "2021-04-12T19:37:12.405405Z"
    }
   },
   "outputs": [],
   "source": [
    "df_log['log_Rating'] = np.log(df_log['Rating'])\n",
    "df_log[['Rating', 'log_Rating']].hist(figsize=(12,5));\n",
    "\n",
    "df_log['log_Reviews'] = np.log(df_log['Reviews'])\n",
    "df_log[['Reviews', 'log_Reviews']].hist(figsize=(12,5));\n",
    "\n",
    "df_log['log_Size'] = np.log(df_log['Size'])\n",
    "df_log[['Size', 'log_Size']].hist(figsize=(12,5));\n",
    "\n",
    "df_log['log_Installs'] = np.log(df_log['Installs'])\n",
    "df_log[['Installs', 'log_Installs']].hist(figsize=(12,5));"
   ]
  },
  {
   "cell_type": "code",
   "execution_count": null,
   "metadata": {
    "ExecuteTime": {
     "end_time": "2021-04-12T19:37:15.110353Z",
     "start_time": "2021-04-12T19:37:15.097310Z"
    }
   },
   "outputs": [],
   "source": [
    "def normalize(feature):\n",
    "    return (feature - feature.mean()) / feature.std()"
   ]
  },
  {
   "cell_type": "code",
   "execution_count": null,
   "metadata": {
    "ExecuteTime": {
     "end_time": "2021-04-12T19:37:17.736483Z",
     "start_time": "2021-04-12T19:37:17.725449Z"
    }
   },
   "outputs": [],
   "source": [
    "# df_log_norm = df_log[['log_Rating']]\n",
    "df_log_norm = df_log[['log_Rating', 'log_Installs', 'log_Size', 'log_Reviews']]"
   ]
  },
  {
   "cell_type": "code",
   "execution_count": null,
   "metadata": {
    "ExecuteTime": {
     "end_time": "2021-04-12T19:37:19.484127Z",
     "start_time": "2021-04-12T19:37:18.690667Z"
    }
   },
   "outputs": [],
   "source": [
    "df_log_norm = df_log_norm.apply(normalize)\n",
    "df_log_norm.hist(figsize=(10,10));"
   ]
  },
  {
   "cell_type": "code",
   "execution_count": null,
   "metadata": {
    "ExecuteTime": {
     "end_time": "2021-04-12T19:37:20.455898Z",
     "start_time": "2021-04-12T19:37:20.442859Z"
    }
   },
   "outputs": [],
   "source": [
    "df_log['Rating'] = df_log_norm['log_Rating']\n",
    "df_log['log_Installs'] = df_log_norm['log_Installs']\n",
    "df_log['log_Size'] = df_log_norm['log_Size']\n",
    "df_log['log_Reviews'] = df_log_norm['log_Reviews']"
   ]
  },
  {
   "cell_type": "code",
   "execution_count": null,
   "metadata": {
    "ExecuteTime": {
     "end_time": "2021-04-12T19:37:21.448687Z",
     "start_time": "2021-04-12T19:37:21.418587Z"
    },
    "scrolled": true
   },
   "outputs": [],
   "source": [
    "df_log.info()"
   ]
  },
  {
   "cell_type": "code",
   "execution_count": null,
   "metadata": {
    "ExecuteTime": {
     "end_time": "2021-04-12T19:37:22.452892Z",
     "start_time": "2021-04-12T19:37:22.438846Z"
    },
    "scrolled": true
   },
   "outputs": [],
   "source": [
    "df_log = df_log.drop(['Reviews', 'Installs', 'Size'], axis=1)"
   ]
  },
  {
   "cell_type": "markdown",
   "metadata": {},
   "source": [
    "# Linear Regression"
   ]
  },
  {
   "cell_type": "code",
   "execution_count": null,
   "metadata": {
    "ExecuteTime": {
     "end_time": "2021-04-12T19:37:25.185328Z",
     "start_time": "2021-04-12T19:37:24.933473Z"
    },
    "scrolled": true
   },
   "outputs": [],
   "source": [
    "outcome = 'log_Rating'\n",
    "predictors = df_log.drop(['Rating', 'log_Rating'], axis=1)\n",
    "pred_sum = '+'.join(predictors.columns)\n",
    "f = outcome + '~' + pred_sum\n",
    "model = ols(f, df_log).fit()\n",
    "print(f'List of predictors: {pred_sum}')\n",
    "display(model.summary())"
   ]
  },
  {
   "cell_type": "code",
   "execution_count": null,
   "metadata": {
    "ExecuteTime": {
     "end_time": "2021-04-12T19:37:27.546843Z",
     "start_time": "2021-04-12T19:37:27.533801Z"
    }
   },
   "outputs": [],
   "source": [
    "y = df_log['log_Rating']\n",
    "X = df_log.drop(['Rating','log_Rating'], axis=1)"
   ]
  },
  {
   "cell_type": "code",
   "execution_count": null,
   "metadata": {
    "ExecuteTime": {
     "end_time": "2021-04-12T19:37:28.521370Z",
     "start_time": "2021-04-12T19:37:28.508329Z"
    }
   },
   "outputs": [],
   "source": [
    "from sklearn.model_selection import train_test_split\n",
    "X_train, X_test, y_train, y_test = train_test_split(X, y, test_size=0.25)\n",
    "print(len(X_train), len(X_test), len(y_train), len(y_test))"
   ]
  },
  {
   "cell_type": "code",
   "execution_count": null,
   "metadata": {
    "ExecuteTime": {
     "end_time": "2021-04-12T19:37:29.458297Z",
     "start_time": "2021-04-12T19:37:29.412147Z"
    },
    "scrolled": true
   },
   "outputs": [],
   "source": [
    "linreg.fit(X_train, y_train)\n",
    "y_hat_train = linreg.predict(X_train)\n",
    "y_hat_test = linreg.predict(X_test)\n",
    "\n",
    "train_residuals = y_hat_train - y_train\n",
    "test_residuals = y_hat_test - y_test\n",
    "\n",
    "mse_train = mean_squared_error(y_train, y_hat_train)\n",
    "mse_test = mean_squared_error(y_test, y_hat_test)\n",
    "rmse_train = np.sqrt(mse_train)\n",
    "rmse_test = np.sqrt(mse_test)\n",
    "\n",
    "print('MAE:', mean_absolute_error(y_test, y_hat_test))\n",
    "print('Train Mean Squared Error:', mse_train)\n",
    "print('Test Mean Squared Error:', mse_test)\n",
    "print('Root Mean Squared Error Train:', rmse_train)\n",
    "print('Root Mean Squared Error Test:', rmse_test)"
   ]
  },
  {
   "cell_type": "code",
   "execution_count": null,
   "metadata": {
    "ExecuteTime": {
     "end_time": "2021-04-12T19:37:30.449042Z",
     "start_time": "2021-04-12T19:37:30.434998Z"
    }
   },
   "outputs": [],
   "source": [
    "accuracy = linreg.score(X_test, y_test)\n",
    "'Accuracy: ' + str(np.round(accuracy*100, 2)) + '%'"
   ]
  },
  {
   "cell_type": "code",
   "execution_count": null,
   "metadata": {
    "ExecuteTime": {
     "end_time": "2021-04-12T19:37:31.632202Z",
     "start_time": "2021-04-12T19:37:31.393413Z"
    }
   },
   "outputs": [],
   "source": [
    "import scipy.stats as stats\n",
    "residuals = model.resid\n",
    "fig = sm.graphics.qqplot(residuals, dist=stats.norm, line='45', fit=True)"
   ]
  },
  {
   "cell_type": "code",
   "execution_count": null,
   "metadata": {
    "ExecuteTime": {
     "end_time": "2021-04-12T19:37:32.938856Z",
     "start_time": "2021-04-12T19:37:32.592308Z"
    },
    "scrolled": true
   },
   "outputs": [],
   "source": [
    "plt.hist(residuals, bins='auto');"
   ]
  },
  {
   "cell_type": "markdown",
   "metadata": {},
   "source": [
    "# KNeighbors Regression"
   ]
  },
  {
   "cell_type": "code",
   "execution_count": null,
   "metadata": {
    "ExecuteTime": {
     "end_time": "2021-04-12T19:37:36.899781Z",
     "start_time": "2021-04-12T19:37:36.879715Z"
    }
   },
   "outputs": [],
   "source": [
    "y = model_out['Rating']\n",
    "X = model_out.drop('Rating', axis=1)"
   ]
  },
  {
   "cell_type": "code",
   "execution_count": null,
   "metadata": {
    "ExecuteTime": {
     "end_time": "2021-04-12T19:37:37.852964Z",
     "start_time": "2021-04-12T19:37:37.837916Z"
    }
   },
   "outputs": [],
   "source": [
    "X_train, X_test, y_train, y_test = train_test_split(X, y, test_size=0.25)"
   ]
  },
  {
   "cell_type": "code",
   "execution_count": null,
   "metadata": {
    "ExecuteTime": {
     "end_time": "2021-04-12T19:37:38.875425Z",
     "start_time": "2021-04-12T19:37:38.781114Z"
    }
   },
   "outputs": [],
   "source": [
    "# Import StandardScaler\n",
    "from sklearn.preprocessing import StandardScaler\n",
    "\n",
    "# Instantiate StandardScaler\n",
    "scaler = StandardScaler()\n",
    "\n",
    "# Transform the training and test sets\n",
    "scaled_data_train = scaler.fit_transform(X_train)\n",
    "scaled_data_test = scaler.transform(X_test)\n",
    "\n",
    "# Convert into a DataFrame\n",
    "scaled_df_train = pd.DataFrame(scaled_data_train, columns=X.columns)\n",
    "scaled_df_train.head()"
   ]
  },
  {
   "cell_type": "code",
   "execution_count": null,
   "metadata": {
    "ExecuteTime": {
     "end_time": "2021-04-12T19:37:41.012586Z",
     "start_time": "2021-04-12T19:37:39.993928Z"
    }
   },
   "outputs": [],
   "source": [
    "# Import KNeighborsClassifier\n",
    "from sklearn.neighbors import KNeighborsRegressor\n",
    "knn = KNeighborsRegressor()\n",
    "\n",
    "# Instantiate KNeighborsClassifier\n",
    "\n",
    "# Fit the classifier\n",
    "knn.fit(scaled_data_train, y_train)\n",
    "\n",
    "# Predict on the test set\n",
    "test_preds = knn.predict(scaled_data_test)"
   ]
  },
  {
   "cell_type": "code",
   "execution_count": null,
   "metadata": {
    "ExecuteTime": {
     "end_time": "2021-04-12T19:37:42.745608Z",
     "start_time": "2021-04-12T19:37:42.114624Z"
    }
   },
   "outputs": [],
   "source": [
    "accuracy = knn.score(X_test, y_test)\n",
    "'Accuracy: ' + str(np.round(accuracy*100, 2)) + '%'"
   ]
  },
  {
   "cell_type": "code",
   "execution_count": null,
   "metadata": {},
   "outputs": [],
   "source": []
  },
  {
   "cell_type": "code",
   "execution_count": null,
   "metadata": {},
   "outputs": [],
   "source": []
  },
  {
   "cell_type": "code",
   "execution_count": null,
   "metadata": {},
   "outputs": [],
   "source": []
  },
  {
   "cell_type": "code",
   "execution_count": null,
   "metadata": {},
   "outputs": [],
   "source": []
  },
  {
   "cell_type": "code",
   "execution_count": null,
   "metadata": {},
   "outputs": [],
   "source": []
  },
  {
   "cell_type": "code",
   "execution_count": null,
   "metadata": {},
   "outputs": [],
   "source": []
  },
  {
   "cell_type": "code",
   "execution_count": null,
   "metadata": {
    "ExecuteTime": {
     "end_time": "2021-04-12T19:37:51.763774Z",
     "start_time": "2021-04-12T19:37:51.376959Z"
    }
   },
   "outputs": [],
   "source": [
    "model = KNeighborsRegressor(n_neighbors=200,weights='distance')\n",
    "model.fit(X_train, y_train)\n",
    "y_pred=model.predict(X_test)"
   ]
  },
  {
   "cell_type": "code",
   "execution_count": null,
   "metadata": {
    "ExecuteTime": {
     "end_time": "2021-04-12T19:37:52.858618Z",
     "start_time": "2021-04-12T19:37:52.845575Z"
    }
   },
   "outputs": [],
   "source": [
    "mse_train = mean_squared_error(y_train, y_hat_train)\n",
    "mse_test = mean_squared_error(y_test, y_pred)\n",
    "rmse_train = np.sqrt(mse_train)\n",
    "rmse_test = np.sqrt(mse_test)\n",
    "\n",
    "print('MAE:', mean_absolute_error(y_test, y_pred))\n",
    "print('Train Mean Squared Error:', mse_train)\n",
    "print('Test Mean Squared Error:', mse_test)\n",
    "print('Root Mean Squared Error Train:', rmse_train)\n",
    "print('Root Mean Squared Error Test:', rmse_test)"
   ]
  },
  {
   "cell_type": "code",
   "execution_count": null,
   "metadata": {
    "ExecuteTime": {
     "end_time": "2021-04-12T19:37:54.646927Z",
     "start_time": "2021-04-12T19:37:53.918125Z"
    }
   },
   "outputs": [],
   "source": [
    "accuracy = model.score(y_test, y_pred)\n",
    "'Accuracy: ' + str(np.round(accuracy*100, 2)) + '%'"
   ]
  },
  {
   "cell_type": "code",
   "execution_count": null,
   "metadata": {},
   "outputs": [],
   "source": []
  },
  {
   "cell_type": "code",
   "execution_count": null,
   "metadata": {},
   "outputs": [],
   "source": []
  },
  {
   "cell_type": "code",
   "execution_count": null,
   "metadata": {},
   "outputs": [],
   "source": []
  },
  {
   "cell_type": "code",
   "execution_count": null,
   "metadata": {},
   "outputs": [],
   "source": []
  },
  {
   "cell_type": "code",
   "execution_count": null,
   "metadata": {},
   "outputs": [],
   "source": []
  },
  {
   "cell_type": "markdown",
   "metadata": {},
   "source": [
    "# Random Forest"
   ]
  }
 ],
 "metadata": {
  "kernelspec": {
   "display_name": "Python 3",
   "language": "python",
   "name": "python3"
  },
  "language_info": {
   "codemirror_mode": {
    "name": "ipython",
    "version": 3
   },
   "file_extension": ".py",
   "mimetype": "text/x-python",
   "name": "python",
   "nbconvert_exporter": "python",
   "pygments_lexer": "ipython3",
   "version": "3.8.5"
  },
  "toc": {
   "base_numbering": 1,
   "nav_menu": {},
   "number_sections": true,
   "sideBar": true,
   "skip_h1_title": false,
   "title_cell": "Table of Contents",
   "title_sidebar": "Contents",
   "toc_cell": false,
   "toc_position": {
    "height": "calc(100% - 180px)",
    "left": "10px",
    "top": "150px",
    "width": "380.391px"
   },
   "toc_section_display": true,
   "toc_window_display": true
  },
  "varInspector": {
   "cols": {
    "lenName": 16,
    "lenType": 16,
    "lenVar": 40
   },
   "kernels_config": {
    "python": {
     "delete_cmd_postfix": "",
     "delete_cmd_prefix": "del ",
     "library": "var_list.py",
     "varRefreshCmd": "print(var_dic_list())"
    },
    "r": {
     "delete_cmd_postfix": ") ",
     "delete_cmd_prefix": "rm(",
     "library": "var_list.r",
     "varRefreshCmd": "cat(var_dic_list()) "
    }
   },
   "types_to_exclude": [
    "module",
    "function",
    "builtin_function_or_method",
    "instance",
    "_Feature"
   ],
   "window_display": false
  }
 },
 "nbformat": 4,
 "nbformat_minor": 4
}
