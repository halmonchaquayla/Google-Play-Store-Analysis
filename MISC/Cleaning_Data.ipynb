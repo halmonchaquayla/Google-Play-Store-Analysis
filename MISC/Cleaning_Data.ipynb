{
 "cells": [
  {
   "cell_type": "markdown",
   "metadata": {},
   "source": [
    "# Import Data"
   ]
  },
  {
   "cell_type": "code",
   "execution_count": null,
   "metadata": {
    "ExecuteTime": {
     "end_time": "2021-04-13T04:02:05.559671Z",
     "start_time": "2021-04-13T04:02:04.656419Z"
    }
   },
   "outputs": [],
   "source": [
    "import pandas as pd\n",
    "import numpy as np\n",
    "import matplotlib.pyplot as plt\n",
    "%matplotlib inline\n",
    "\n",
    "pd.set_option('display.max_columns', 500)"
   ]
  },
  {
   "cell_type": "code",
   "execution_count": null,
   "metadata": {
    "ExecuteTime": {
     "end_time": "2021-04-13T04:02:05.605822Z",
     "start_time": "2021-04-13T04:02:05.563684Z"
    }
   },
   "outputs": [],
   "source": [
    "gg_data = pd.read_csv('data/googleplaystore.csv')\n",
    "# new_data = pd.read_csv('data/new_app_data.csv')"
   ]
  },
  {
   "cell_type": "code",
   "execution_count": null,
   "metadata": {
    "ExecuteTime": {
     "end_time": "2021-04-13T04:02:05.621875Z",
     "start_time": "2021-04-13T04:02:05.607830Z"
    }
   },
   "outputs": [],
   "source": [
    "data = gg_data.copy()"
   ]
  },
  {
   "cell_type": "code",
   "execution_count": null,
   "metadata": {
    "ExecuteTime": {
     "end_time": "2021-04-13T04:02:05.766353Z",
     "start_time": "2021-04-13T04:02:05.624889Z"
    }
   },
   "outputs": [],
   "source": [
    "for col in data:\n",
    "    print(col)\n",
    "    print(data[col].value_counts(normalize=True))\n",
    "    print('-------------------------------')"
   ]
  },
  {
   "cell_type": "markdown",
   "metadata": {},
   "source": [
    "**Observations**\n",
    "1. **App - there seems to be a few duplicates in app. have to deal with deleting those.**\n",
    "2. **Category - need to look into '1.9'.**\n",
    "3. **Rating - the rating is from 1-5, but there's a rating of 19. Need to delete that one.**\n",
    "4. **Reviews - might drop the '0' reviews or filter the amount of reviews.**\n",
    "5. **Size - the 'varies with device' need to be replace with the average size and the \"M\" needs to be taken out.**\n",
    "6. **Installs - need to get rid of the '+' and maybe filter a min-max scale.**\n",
    "7. **Change Type into a numeric column**\n",
    "8. **Change last update into days.**"
   ]
  },
  {
   "cell_type": "markdown",
   "metadata": {},
   "source": [
    "# Cleaning"
   ]
  },
  {
   "cell_type": "markdown",
   "metadata": {},
   "source": [
    "## App Duplicates"
   ]
  },
  {
   "cell_type": "code",
   "execution_count": null,
   "metadata": {
    "ExecuteTime": {
     "end_time": "2021-04-13T04:02:05.830567Z",
     "start_time": "2021-04-13T04:02:05.768362Z"
    }
   },
   "outputs": [],
   "source": [
    "# let's check to make sure we have duplicates\n",
    "data[data['App'] == 'ROBLOX']"
   ]
  },
  {
   "cell_type": "code",
   "execution_count": null,
   "metadata": {
    "ExecuteTime": {
     "end_time": "2021-04-13T04:02:05.908826Z",
     "start_time": "2021-04-13T04:02:05.837591Z"
    }
   },
   "outputs": [],
   "source": [
    "data[data['App'] == 'ESPN']"
   ]
  },
  {
   "cell_type": "code",
   "execution_count": null,
   "metadata": {
    "ExecuteTime": {
     "end_time": "2021-04-13T04:02:05.989091Z",
     "start_time": "2021-04-13T04:02:05.910833Z"
    },
    "scrolled": true
   },
   "outputs": [],
   "source": [
    "data[data['App'] == 'Candy Crush Saga']"
   ]
  },
  {
   "cell_type": "markdown",
   "metadata": {},
   "source": [
    "**Looking at some of the duplicates it seems that the only difference is the amount of reviews and/or the category name. For now I think I'll stick with the first value and drop the rest.**"
   ]
  },
  {
   "cell_type": "code",
   "execution_count": null,
   "metadata": {
    "ExecuteTime": {
     "end_time": "2021-04-13T04:02:06.037250Z",
     "start_time": "2021-04-13T04:02:05.992102Z"
    }
   },
   "outputs": [],
   "source": [
    "data = data.drop_duplicates(subset=['App'], keep='first')"
   ]
  },
  {
   "cell_type": "markdown",
   "metadata": {},
   "source": [
    "## Category"
   ]
  },
  {
   "cell_type": "code",
   "execution_count": null,
   "metadata": {
    "ExecuteTime": {
     "end_time": "2021-04-13T04:02:06.085409Z",
     "start_time": "2021-04-13T04:02:06.040262Z"
    },
    "scrolled": true
   },
   "outputs": [],
   "source": [
    "data[data['Category'] == '1.9']"
   ]
  },
  {
   "cell_type": "markdown",
   "metadata": {},
   "source": [
    "Since this is one entry I can easily find the correct info and plug it in.\n",
    "Category = Lifestyle\n",
    "Rating = 1.9\n",
    "Reviews = 19.0\n",
    "Size = 3.0M\n",
    "Installs = 1,000\n",
    "Type = Free\n",
    "Price = 0\n",
    "Content Rating = Everyone"
   ]
  },
  {
   "cell_type": "code",
   "execution_count": null,
   "metadata": {
    "ExecuteTime": {
     "end_time": "2021-04-13T04:02:06.133568Z",
     "start_time": "2021-04-13T04:02:06.087417Z"
    }
   },
   "outputs": [],
   "source": [
    "data.at[10472,\"Category\"]=\"LIFESTYLE\"\n",
    "data.at[10472, \"Rating\"] = 1.9\n",
    "data.at[10472, \"Reviews\"] = \"19.0\"\n",
    "data.at[10472, \"Size\"] = \"3.0M\"\n",
    "data.at[10472, \"Installs\"] = \"1,000+\"\n",
    "data.at[10472, \"Type\"] = \"Free\"\n",
    "data.at[10472,'Price']= 0\n",
    "data.at[10472, \"Content Rating\"] = \"Everyone\"\n",
    "data.at[10472, \"Last Updated\"] = \"February 11, 2018\""
   ]
  },
  {
   "cell_type": "code",
   "execution_count": null,
   "metadata": {
    "ExecuteTime": {
     "end_time": "2021-04-13T04:02:06.180724Z",
     "start_time": "2021-04-13T04:02:06.135577Z"
    }
   },
   "outputs": [],
   "source": [
    "data[data['App'] == 'Life Made WI-Fi Touchscreen Photo Frame']"
   ]
  },
  {
   "cell_type": "markdown",
   "metadata": {},
   "source": [
    "## Last Updated"
   ]
  },
  {
   "cell_type": "code",
   "execution_count": null,
   "metadata": {
    "ExecuteTime": {
     "end_time": "2021-04-13T04:02:06.259988Z",
     "start_time": "2021-04-13T04:02:06.182733Z"
    }
   },
   "outputs": [],
   "source": [
    "data['Last Updated'] = pd.to_datetime(data['Last Updated'], format=\"%B %d, %Y\", errors='coerce')\n",
    "data['lastupdate'] = (data['Last Updated'] -  data['Last Updated'].max()).dt.days"
   ]
  },
  {
   "cell_type": "code",
   "execution_count": null,
   "metadata": {
    "ExecuteTime": {
     "end_time": "2021-04-13T04:02:06.341258Z",
     "start_time": "2021-04-13T04:02:06.261995Z"
    }
   },
   "outputs": [],
   "source": [
    "# data['Date'] = pd.to_datetime(data['Last Updated'])\n",
    "# release_month = data['Last Updated'].dt.month\n",
    "# data['Month'] = release_month"
   ]
  },
  {
   "cell_type": "code",
   "execution_count": null,
   "metadata": {
    "ExecuteTime": {
     "end_time": "2021-04-13T04:02:06.435568Z",
     "start_time": "2021-04-13T04:02:06.345271Z"
    }
   },
   "outputs": [],
   "source": [
    "data = data.drop(['Last Updated'], axis =1)"
   ]
  },
  {
   "cell_type": "markdown",
   "metadata": {},
   "source": [
    "## Rating"
   ]
  },
  {
   "cell_type": "code",
   "execution_count": null,
   "metadata": {
    "ExecuteTime": {
     "end_time": "2021-04-13T04:08:12.042294Z",
     "start_time": "2021-04-13T04:08:12.022230Z"
    }
   },
   "outputs": [],
   "source": [
    "# replacing the NAN values with the average rating\n",
    "data['Rating'] = data['Rating'].fillna(data['Rating'].mean())"
   ]
  },
  {
   "cell_type": "code",
   "execution_count": null,
   "metadata": {
    "ExecuteTime": {
     "end_time": "2021-04-13T04:08:12.894130Z",
     "start_time": "2021-04-13T04:08:12.870046Z"
    },
    "scrolled": true
   },
   "outputs": [],
   "source": [
    "data.info()"
   ]
  },
  {
   "cell_type": "markdown",
   "metadata": {},
   "source": [
    "## Add new data"
   ]
  },
  {
   "cell_type": "code",
   "execution_count": null,
   "metadata": {
    "ExecuteTime": {
     "end_time": "2021-04-13T04:08:22.502752Z",
     "start_time": "2021-04-13T04:08:22.478673Z"
    }
   },
   "outputs": [],
   "source": [
    "new_data = pd.read_csv('data/new_app_data.csv')\n",
    "new_data.info()"
   ]
  },
  {
   "cell_type": "code",
   "execution_count": null,
   "metadata": {
    "ExecuteTime": {
     "end_time": "2021-04-13T04:08:25.714921Z",
     "start_time": "2021-04-13T04:08:25.709905Z"
    }
   },
   "outputs": [],
   "source": []
  },
  {
   "cell_type": "code",
   "execution_count": null,
   "metadata": {
    "ExecuteTime": {
     "end_time": "2021-04-12T18:58:45.626215Z",
     "start_time": "2021-04-12T18:58:45.548961Z"
    },
    "scrolled": true
   },
   "outputs": [],
   "source": [
    "app_data = new_data.copy()\n",
    "app_data"
   ]
  },
  {
   "cell_type": "code",
   "execution_count": null,
   "metadata": {
    "ExecuteTime": {
     "end_time": "2021-04-12T18:58:45.704476Z",
     "start_time": "2021-04-12T18:58:45.628222Z"
    }
   },
   "outputs": [],
   "source": [
    "app_data = app_data.dropna()\n",
    "app_data"
   ]
  },
  {
   "cell_type": "code",
   "execution_count": null,
   "metadata": {
    "ExecuteTime": {
     "end_time": "2021-04-12T18:58:45.783736Z",
     "start_time": "2021-04-12T18:58:45.707485Z"
    }
   },
   "outputs": [],
   "source": [
    "df = pd.concat([data, app_data])\n",
    "df.info()"
   ]
  },
  {
   "cell_type": "code",
   "execution_count": null,
   "metadata": {
    "ExecuteTime": {
     "end_time": "2021-04-12T18:58:45.831896Z",
     "start_time": "2021-04-12T18:58:45.785743Z"
    }
   },
   "outputs": [],
   "source": [
    "df['App'].value_counts(normalize=True)"
   ]
  },
  {
   "cell_type": "code",
   "execution_count": null,
   "metadata": {
    "ExecuteTime": {
     "end_time": "2021-04-12T18:58:45.896108Z",
     "start_time": "2021-04-12T18:58:45.837917Z"
    }
   },
   "outputs": [],
   "source": [
    "df = df.drop_duplicates(subset=['App'], keep='first')"
   ]
  },
  {
   "cell_type": "code",
   "execution_count": null,
   "metadata": {
    "ExecuteTime": {
     "end_time": "2021-04-12T18:58:46.008480Z",
     "start_time": "2021-04-12T18:58:45.900124Z"
    }
   },
   "outputs": [],
   "source": [
    "df= df.drop(columns={'Price','Current Ver', 'Android Ver'}, axis=1)"
   ]
  },
  {
   "cell_type": "code",
   "execution_count": null,
   "metadata": {
    "ExecuteTime": {
     "end_time": "2021-04-12T18:58:46.089812Z",
     "start_time": "2021-04-12T18:58:46.010489Z"
    }
   },
   "outputs": [],
   "source": [
    "df"
   ]
  },
  {
   "cell_type": "markdown",
   "metadata": {},
   "source": [
    "## Reviews"
   ]
  },
  {
   "cell_type": "code",
   "execution_count": null,
   "metadata": {
    "ExecuteTime": {
     "end_time": "2021-04-12T18:58:46.139978Z",
     "start_time": "2021-04-12T18:58:46.091819Z"
    }
   },
   "outputs": [],
   "source": [
    "df.shape"
   ]
  },
  {
   "cell_type": "code",
   "execution_count": null,
   "metadata": {
    "ExecuteTime": {
     "end_time": "2021-04-12T18:58:46.218236Z",
     "start_time": "2021-04-12T18:58:46.160045Z"
    }
   },
   "outputs": [],
   "source": [
    "df = df.dropna().reset_index(drop =True)"
   ]
  },
  {
   "cell_type": "code",
   "execution_count": null,
   "metadata": {
    "ExecuteTime": {
     "end_time": "2021-04-12T18:58:46.266396Z",
     "start_time": "2021-04-12T18:58:46.221246Z"
    }
   },
   "outputs": [],
   "source": [
    "df.shape"
   ]
  },
  {
   "cell_type": "code",
   "execution_count": null,
   "metadata": {
    "ExecuteTime": {
     "end_time": "2021-04-12T18:58:46.362714Z",
     "start_time": "2021-04-12T18:58:46.268403Z"
    },
    "scrolled": true
   },
   "outputs": [],
   "source": [
    "df.Reviews.value_counts(normalize=True)"
   ]
  },
  {
   "cell_type": "code",
   "execution_count": null,
   "metadata": {
    "ExecuteTime": {
     "end_time": "2021-04-12T18:58:46.394820Z",
     "start_time": "2021-04-12T18:58:46.365727Z"
    }
   },
   "outputs": [],
   "source": [
    "df['Reviews'] = pd.to_numeric(df['Reviews'])"
   ]
  },
  {
   "cell_type": "markdown",
   "metadata": {},
   "source": [
    "## Size"
   ]
  },
  {
   "cell_type": "code",
   "execution_count": null,
   "metadata": {
    "ExecuteTime": {
     "end_time": "2021-04-12T18:58:46.459033Z",
     "start_time": "2021-04-12T18:58:46.396828Z"
    }
   },
   "outputs": [],
   "source": [
    "df[df['Size'] == \"Varies with device\"]"
   ]
  },
  {
   "cell_type": "code",
   "execution_count": null,
   "metadata": {
    "ExecuteTime": {
     "end_time": "2021-04-12T18:58:46.507192Z",
     "start_time": "2021-04-12T18:58:46.461040Z"
    }
   },
   "outputs": [],
   "source": [
    "df['Size'].value_counts(normalize=True)"
   ]
  },
  {
   "cell_type": "code",
   "execution_count": null,
   "metadata": {
    "ExecuteTime": {
     "end_time": "2021-04-12T18:58:46.539300Z",
     "start_time": "2021-04-12T18:58:46.509201Z"
    }
   },
   "outputs": [],
   "source": [
    "# create a variable to hold a certain value\n",
    "mask = df['Size'].str.startswith('V')"
   ]
  },
  {
   "cell_type": "code",
   "execution_count": null,
   "metadata": {
    "ExecuteTime": {
     "end_time": "2021-04-12T18:58:46.587458Z",
     "start_time": "2021-04-12T18:58:46.541307Z"
    }
   },
   "outputs": [],
   "source": [
    "#replace that value with zero\n",
    "df.loc[mask, 'Size'] = 0"
   ]
  },
  {
   "cell_type": "code",
   "execution_count": null,
   "metadata": {
    "ExecuteTime": {
     "end_time": "2021-04-12T18:58:46.603512Z",
     "start_time": "2021-04-12T18:58:46.589466Z"
    }
   },
   "outputs": [],
   "source": [
    "# convert the K and M to thousands and millions using regex\n",
    "# df.Size = (df.Size.replace(r'[kMG]+$', '', regex=True).astype(float) * \\\n",
    "#            df.Size.str.extract(r'[\\d\\.]+([kMG]+)', expand=False).fillna(1)\n",
    "#            .replace(['k','M', 'G'], [2**10, 2**20, 2**30]).astype(int))\n",
    "\n",
    "#df['A'] = (df['A'] / 100).round(2)\n",
    "# df['Size'] = (df['Size'] / 2**20).round(3)"
   ]
  },
  {
   "cell_type": "code",
   "execution_count": null,
   "metadata": {
    "ExecuteTime": {
     "end_time": "2021-04-12T18:59:32.519569Z",
     "start_time": "2021-04-12T18:59:32.484453Z"
    }
   },
   "outputs": [],
   "source": [
    "df['Size'] = df['Size'].astype('str')\n",
    "df['Size'] = df['Size'].apply(lambda x: x.strip('k'))\n",
    "df['Size'] = df['Size'].apply(lambda x: x.strip('M'))\n",
    "df['Size'] = df['Size'].apply(lambda x: x.strip('G'))"
   ]
  },
  {
   "cell_type": "code",
   "execution_count": null,
   "metadata": {
    "ExecuteTime": {
     "end_time": "2021-04-12T18:59:44.188605Z",
     "start_time": "2021-04-12T18:59:44.165529Z"
    },
    "scrolled": true
   },
   "outputs": [],
   "source": [
    "df['Size'] = df['Size'].astype('float')"
   ]
  },
  {
   "cell_type": "code",
   "execution_count": null,
   "metadata": {
    "ExecuteTime": {
     "end_time": "2021-04-12T18:59:44.992641Z",
     "start_time": "2021-04-12T18:59:44.983613Z"
    }
   },
   "outputs": [],
   "source": [
    "#to retain some data replace zeros with the column's avearge\n",
    "mean_size = df['Size'].mean()\n",
    "df['Size'] = df.Size.mask(df.Size == 0.0,mean_size)"
   ]
  },
  {
   "cell_type": "code",
   "execution_count": null,
   "metadata": {
    "ExecuteTime": {
     "end_time": "2021-04-12T18:59:47.634703Z",
     "start_time": "2021-04-12T18:59:47.581527Z"
    },
    "scrolled": true
   },
   "outputs": [],
   "source": [
    "df.head(50)"
   ]
  },
  {
   "cell_type": "markdown",
   "metadata": {},
   "source": [
    "## Installs"
   ]
  },
  {
   "cell_type": "code",
   "execution_count": null,
   "metadata": {
    "ExecuteTime": {
     "end_time": "2021-04-12T19:00:10.044511Z",
     "start_time": "2021-04-12T19:00:10.022438Z"
    }
   },
   "outputs": [],
   "source": [
    "# remove the + sign from columns\n",
    "df['Installs'] = df['Installs'].str.replace('+','').str.replace(',','')"
   ]
  },
  {
   "cell_type": "code",
   "execution_count": null,
   "metadata": {
    "ExecuteTime": {
     "end_time": "2021-04-12T19:00:10.092669Z",
     "start_time": "2021-04-12T19:00:10.046518Z"
    }
   },
   "outputs": [],
   "source": [
    "df['Installs'] = pd.to_numeric(df['Installs'])"
   ]
  },
  {
   "cell_type": "markdown",
   "metadata": {},
   "source": [
    "## Free Apps"
   ]
  },
  {
   "cell_type": "code",
   "execution_count": null,
   "metadata": {
    "ExecuteTime": {
     "end_time": "2021-04-12T19:00:10.139825Z",
     "start_time": "2021-04-12T19:00:10.094678Z"
    }
   },
   "outputs": [],
   "source": [
    "df.info()"
   ]
  },
  {
   "cell_type": "code",
   "execution_count": null,
   "metadata": {
    "ExecuteTime": {
     "end_time": "2021-04-12T19:00:10.171933Z",
     "start_time": "2021-04-12T19:00:10.141834Z"
    }
   },
   "outputs": [],
   "source": [
    "df.Type.value_counts(normalize=True)"
   ]
  },
  {
   "cell_type": "code",
   "execution_count": null,
   "metadata": {
    "ExecuteTime": {
     "end_time": "2021-04-12T19:00:10.204038Z",
     "start_time": "2021-04-12T19:00:10.173940Z"
    }
   },
   "outputs": [],
   "source": [
    "df['is_free'] = df['Type'].map(lambda x: 1 if x == 'Free' else 0)"
   ]
  },
  {
   "cell_type": "code",
   "execution_count": null,
   "metadata": {
    "ExecuteTime": {
     "end_time": "2021-04-12T19:00:10.251194Z",
     "start_time": "2021-04-12T19:00:10.206046Z"
    }
   },
   "outputs": [],
   "source": [
    "# df['Price'] = df['Price'].apply(lambda x : str(x).strip('$')).astype(float)\n",
    "# df['Price'] = df['Price'].round()"
   ]
  },
  {
   "cell_type": "code",
   "execution_count": null,
   "metadata": {
    "ExecuteTime": {
     "end_time": "2021-04-12T19:00:10.283301Z",
     "start_time": "2021-04-12T19:00:10.253202Z"
    }
   },
   "outputs": [],
   "source": [
    "# from sklearn import preprocessing\n",
    "# def labelencode(col, df):\n",
    "#     le = preprocessing.LabelEncoder()\n",
    "#     df[col] = le.fit_transform(df[col])"
   ]
  },
  {
   "cell_type": "code",
   "execution_count": null,
   "metadata": {
    "ExecuteTime": {
     "end_time": "2021-04-12T19:00:10.315408Z",
     "start_time": "2021-04-12T19:00:10.286311Z"
    }
   },
   "outputs": [],
   "source": [
    "# le = preprocessing.LabelEncoder()\n",
    "# df['Content Rating'] = le.fit_transform(df['Content Rating'])\n",
    "\n",
    "# le = preprocessing.LabelEncoder()\n",
    "# df['Genres'] = le.fit_transform(df['Genres'])"
   ]
  },
  {
   "cell_type": "code",
   "execution_count": null,
   "metadata": {
    "ExecuteTime": {
     "end_time": "2021-04-12T19:00:10.347514Z",
     "start_time": "2021-04-12T19:00:10.317415Z"
    }
   },
   "outputs": [],
   "source": [
    "main_df = df.copy()"
   ]
  },
  {
   "cell_type": "code",
   "execution_count": null,
   "metadata": {
    "ExecuteTime": {
     "end_time": "2021-04-12T19:00:10.395673Z",
     "start_time": "2021-04-12T19:00:10.349527Z"
    }
   },
   "outputs": [],
   "source": [
    "main_df.head()"
   ]
  },
  {
   "cell_type": "code",
   "execution_count": null,
   "metadata": {
    "ExecuteTime": {
     "end_time": "2021-04-12T19:00:10.443831Z",
     "start_time": "2021-04-12T19:00:10.397680Z"
    }
   },
   "outputs": [],
   "source": [
    "main_df = main_df.drop('Type', axis=1)"
   ]
  },
  {
   "cell_type": "markdown",
   "metadata": {},
   "source": [
    "# Cleaned Data"
   ]
  },
  {
   "cell_type": "code",
   "execution_count": null,
   "metadata": {
    "ExecuteTime": {
     "end_time": "2021-04-12T19:00:10.491992Z",
     "start_time": "2021-04-12T19:00:10.445841Z"
    }
   },
   "outputs": [],
   "source": [
    "main_df.info()"
   ]
  },
  {
   "cell_type": "code",
   "execution_count": null,
   "metadata": {
    "ExecuteTime": {
     "end_time": "2021-04-12T19:00:10.700199Z",
     "start_time": "2021-04-12T19:00:10.492996Z"
    }
   },
   "outputs": [],
   "source": [
    "main_df.to_csv('data_cleaned.csv')"
   ]
  },
  {
   "cell_type": "code",
   "execution_count": null,
   "metadata": {},
   "outputs": [],
   "source": []
  }
 ],
 "metadata": {
  "kernelspec": {
   "display_name": "Python 3",
   "language": "python",
   "name": "python3"
  },
  "language_info": {
   "codemirror_mode": {
    "name": "ipython",
    "version": 3
   },
   "file_extension": ".py",
   "mimetype": "text/x-python",
   "name": "python",
   "nbconvert_exporter": "python",
   "pygments_lexer": "ipython3",
   "version": "3.8.5"
  },
  "toc": {
   "base_numbering": 1,
   "nav_menu": {},
   "number_sections": true,
   "sideBar": true,
   "skip_h1_title": false,
   "title_cell": "Table of Contents",
   "title_sidebar": "Contents",
   "toc_cell": false,
   "toc_position": {
    "height": "calc(100% - 180px)",
    "left": "10px",
    "top": "150px",
    "width": "384px"
   },
   "toc_section_display": true,
   "toc_window_display": false
  },
  "varInspector": {
   "cols": {
    "lenName": 16,
    "lenType": 16,
    "lenVar": 40
   },
   "kernels_config": {
    "python": {
     "delete_cmd_postfix": "",
     "delete_cmd_prefix": "del ",
     "library": "var_list.py",
     "varRefreshCmd": "print(var_dic_list())"
    },
    "r": {
     "delete_cmd_postfix": ") ",
     "delete_cmd_prefix": "rm(",
     "library": "var_list.r",
     "varRefreshCmd": "cat(var_dic_list()) "
    }
   },
   "types_to_exclude": [
    "module",
    "function",
    "builtin_function_or_method",
    "instance",
    "_Feature"
   ],
   "window_display": false
  }
 },
 "nbformat": 4,
 "nbformat_minor": 4
}
