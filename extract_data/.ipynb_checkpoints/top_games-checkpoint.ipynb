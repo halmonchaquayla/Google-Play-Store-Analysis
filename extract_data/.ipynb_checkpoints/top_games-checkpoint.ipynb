{
 "cells": [
  {
   "cell_type": "code",
   "execution_count": 1,
   "metadata": {
    "ExecuteTime": {
     "end_time": "2021-04-08T13:36:35.827721Z",
     "start_time": "2021-04-08T13:36:35.192966Z"
    }
   },
   "outputs": [],
   "source": [
    "import json #google play returns list of json\n",
    "import pandas as pd\n",
    "from tqdm import tqdm"
   ]
  },
  {
   "cell_type": "code",
   "execution_count": 2,
   "metadata": {
    "ExecuteTime": {
     "end_time": "2021-04-08T13:36:36.842494Z",
     "start_time": "2021-04-08T13:36:36.632801Z"
    }
   },
   "outputs": [],
   "source": [
    "# help highlights some of the json results\n",
    "from pygments import highlight\n",
    "from pygments.lexers import JsonLexer\n",
    "from pygments.formatters import TerminalFormatter"
   ]
  },
  {
   "cell_type": "code",
   "execution_count": 3,
   "metadata": {
    "ExecuteTime": {
     "end_time": "2021-04-08T13:36:37.667753Z",
     "start_time": "2021-04-08T13:36:37.489173Z"
    }
   },
   "outputs": [],
   "source": [
    "from google_play_scraper import Sort, reviews, app"
   ]
  },
  {
   "cell_type": "code",
   "execution_count": 12,
   "metadata": {
    "ExecuteTime": {
     "end_time": "2021-04-08T16:46:21.533198Z",
     "start_time": "2021-04-08T16:46:21.463358Z"
    }
   },
   "outputs": [],
   "source": [
    "#top paid games/rated\n",
    "app_packages = [\n",
    "    'com.ninjakiwi.bloonstd6', 'com.robtopx.geometryjump', 'com.marmalade.monopoly',\n",
    "    'com.chucklefish.stardewvalley', 'com.and.games505.TerrariaPaid', \n",
    "    'com.scottgames.fivenightsatfreddys', 'com.clickteam.ultimatecustomnight',\n",
    "    'com.rockstargames.gtasa', 'net.kairosoft.android.bouken2', 'com.playdead.limbo.full',\n",
    "    'eu.bandainamcoent.verylittlenightmares', 'com.marmalade.gol2', 'com.scottgames.fnaf2',\n",
    "    'com.and.games505.humanfallflat', 'com.scottgames.sisterlocation', 'com.dsemu.drastic',\n",
    "    'com.scottgames.fnaf4', 'com.FireproofStudios.TheRoom', 'com.clickteam.freddyfazbearspizzeriasimulator',\n",
    "    'com.prpr.musedash', 'com.humble.SlayTheSpire', 'com.rockstargames.gtavc', \n",
    "    'com.fastemulator.gba', 'com.ninjakiwi.bloonstd5', 'com.topgames100.ClassicSolitaireTycoon',\n",
    "    'com.trueaxis.trueskate', 'com.squareenixmontreal.hitmansniperandroid', \n",
    "    'com.sofarsogood.incredibox', 'com.activision.boz', 'com.marmalade.golmobile',\n",
    "    'com.playdigious.deadcells.mobile', 'com.steelwoolgames.fnaf.hw', \n",
    "    'com.explodingkittens.projectbombsquad', 'com.scottgames.fnaf3', \n",
    "    'it.rortos.realflightsimulator', 'com.marmalade.cluedogame', 'com.wb.goog.scribbleremix',\n",
    "    'com.giantssoftware.fs20.google', 'com.ubisoft.assassinscreed.identity',\n",
    "    'com.fizzd.connectedworlds', 'com.epsxe.ePSXe', 'air.com.flipline.papasmochariatogo', \n",
    "    'com.piratesoutlaws.fabledgame', 'com.wb.goog.scribblenauts3', 'com.jds.batim',\n",
    "    'com.topgames100.angry.knife', 'com.robotgentleman.game60seconds', \n",
    "    'com.corrodinggames.rts', 'com.t2ksports.nba2k20and', 'com.atari.mobile.rctclassic', \n",
    "    'com.rockstar.gta3', 'com.humblebundle.forager', 'air.com.flipline.papasfreezeriatogo',\n",
    "    'com.DMAP.Ting_WD', 'com.square_enix.android_googleplay.FFVIII', \n",
    "    'com.headupgames.bridgeconstructorportal', 'com.babotech.NOHA', 'com.greenheartgames.gdt',\n",
    "    'com.ironhidegames.android.kingdomrushfrontiers', 'com.FireproofStudios.TheRoom2',\n",
    "    'com.fastemulator.gbc', 'com.fds.infiniteflight', 'com.ea.games.nfs13_na', \n",
    "    'com.coffeestainstudios.goatsimulator', 'com.rockstargames.bully', \n",
    "    'com.ironhidegames.android.ironmarines', 'com.FireproofStudios.TheRoom4',\n",
    "    'com.wb.lego.marvel', 'com.square_enix.android_googleplay.chrono',\n",
    "    'com.ustwo.monumentvalley', 'com.bluebraingames.houseofdavinci2',\n",
    "    'com.FireproofStudios.TheRoom3', 'com.mazetheory.dwla', 'com.wb.goog.legojurassicworld',\n",
    "    'com.codebrewgames.pocketcitygame', 'com.MontanaGames.Lowriders.Comeback2',\n",
    "    'com.PlausibleConcept.BadNorthFull', 'com.etermax.preguntados.pro',\n",
    "    'com.aspyr.swkotorii', 'com.damonplay.damonps2.pro.ppsspp', 'com.feralinteractive.rometw',\n",
    "    'com.D3Go.mendel', 'com.giantssoftware.fs18.google', 'com.square_enix.android_googleplay.FFT_en2',\n",
    "    'com.bethsoft.DOOM', 'com.aspyr.swkotor', 'com.eamobile.nbajam_na_wf',\n",
    "    'com.rockstar.maxpayne', 'jp.konami.epjCastlevania2', 'com.tocaboca.tocaboo',\n",
    "    'com.ironhidegames.android.kingdomrushorigins', 'com.ironhidegames.android.kingdomrush4',\n",
    "    'com.KiotGames.BasketballPusher', 'com.bluebraingames.thehouseofdavinci', \n",
    "    'com.coffeestainstudios.goatsimulator.payday', 'com.pixelcurves.terlauncher',\n",
    "    'com.square_enix.android_googleplay.FFVII', 'it.dbtecno.pizzaboygbapro',\n",
    "    'com.kleientertainment.doNotStarvePocket', 'uk.co.aifactory.chess',\n",
    "    'air.com.flipline.papassushiriatogo', 'com.marmalade.golv', 'com.noodlecake.gettingoverit',\n",
    "    'com.wb.goog.lnjgo', 'com.halfbrick.fruitninja', 'com.tocaboca.tocamysteryhouse',\n",
    "    'com.Majorariatto.Pureya', 'com.bowengames.farmingusa2', 'air.com.flipline.papasdonuteriatogo',\n",
    "    'com.tocaboca.tocalabplants', 'com.rockstargames.gtactw', 'com.mlb.RBIBaseball21',\n",
    "    'net.kairosoft.android.boxing', 'org.ppsspp.ppssppgold', 'com.disney.WMW', \n",
    "    'com.playdigious.cultist', 'air.com.flipline.papasburgeriatogo', 'com.ustwo.monumentvalley2',\n",
    "    'com.beamdog.pstee', 'com.bennettracingsimulations.dirttrackin2', 'com.focushome.MudRunnerAndroid',\n",
    "    'com.kiotgames.dripme', 'com.turner.ttgfigures2', 'com.newgeogamerni', \n",
    "    'com.gameloft.android.ANMP.GloftICHM', 'com.square_enix.android_googleplay.dq1_gp',\n",
    "    'com.tipsworks.android.pascalswager.google', 'com.nekki.vector.paid', \n",
    "    'mycity.hospital', 'air.com.flipline.papaspizzeriatogo', 'com.team17.escapists2',\n",
    "    'com.wb.goog.lbbg', 'com.EtherGaming.PocketRoguesUltimate', 'com.disney.castleofillusion_goo',\n",
    "    'com.feralinteractive.companyofheroes_android', 'com.agaming.thesun.origin',\n",
    "    'joybits.doodlegod', 'nz.co.codepoint.minimetro', 'jp.co.capcom.mhsspen',\n",
    "    'com.daysofwonder.tt.android', 'com.younghorses.octodad', 'com.rockstargames.gtalcs',\n",
    "    'com.ngmoco.pocketgod', 'com.hg.bfbb', 'air.com.flipline.papaswingeriatogo', \n",
    "    'com.maguni.geoguessr', 'mycity.friendshouse', 'com.AngryNeighbor',\n",
    "    'com.refineryproductions_2112td', 'air.com.flipline.papasbakeriatogo',\n",
    "    'com.hammerfall.regicide', 'com.splashworks.pawsomedays', 'com.drycactus.polybridge2',\n",
    "    'air.com.flipline.papasscooperiatogo', 'air.com.flipline.papascheeseriatogo',\n",
    "    'com.tresebrothers.games.startraders2', 'com.kalypsomedia.projecthighrise',\n",
    "    'com.jds.batds', 'com.sega.sonic4epi', 'com.infinitygames.packageinc',\n",
    "    'com.johnemulators.johngba', 'brownmonster.app.game.rushrally3',\n",
    "    'com.tt2kgames.xcomew', 'com.notdoppler.earntodie', 'com.jdroid.gtasacheater',\n",
    "    'air.com.flipline.papaspancakeriatogo', 'air.com.RustyLake.RustyLakeHotel',\n",
    "    'com.turner.ttgfigures', 'ilmfinity.evocreo.main.android', 'com.turner.stevenrpg',\n",
    "    'com.sega.score', 'com.uplayonline.youtubers', 'com.playdigious.dungeonoftheendless',\n",
    "    'com.mageeks.android.trucksimulatorpro2', 'com.pockettrend.neomonsters', \n",
    "    'mytown.airport', 'com.drycactus.polybridge', 'air.com.flipline.papashotdoggeriatogo',\n",
    "    'com.beamdog.baldursgateenhancededition', 'com.teachyourmonstertoread.tmapp',\n",
    "    'com.coffeestainstudios.goatsimulator.mmo', 'com.NamcoNetworks.MsPacMan', \n",
    "    'com.tinybuild.graveyardkeeper', 'com.ninetailgames.roguehearts.paid',\n",
    "    'com.nekki.shadowfight2.paid', 'com.astragon.cs3', 'co.uk.wixgames.ducklifebattle',\n",
    "    'air.com.flipline.papaspastariatogo', 'mycity.pjparty', 'air.com.flipline.papascupcakeriatogo',\n",
    "    'com.jutsugames.operator911', 'com.devolver.spaceplan', 'com.feralinteractive.gridas',\n",
    "    'com.khg.doorkickers', 'com.superpsx.pro', 'air.com.flipline.papastacomiatogo',\n",
    "    'com.coffeestainstudios.goatsimulator.wasteofspace', 'com.devolver.reigns',\n",
    "    'com.king.crash', 'com.sega.sonic2.runner', 'com.sega.sonicdash', \n",
    "    'com.sega.soniccd.classic', 'com.outfit7.mytalkingtomfree', 'com.outfit7.mytalkingtom2',\n",
    "    'com.dancing.smash.hop.game.tiles.circles.beat.paino', 'com.playgendary.tom', \n",
    "    'com.tocaboca.tocakitchen2', 'com.sega.sonicboomandroid', 'com.Earthkwak.Platformer', \n",
    "    'com.sega.sprint', 'com.aim.racing', 'com.outfit7.mytalkingtomfriends', \n",
    "    'com.fungames.blockcraft', 'com.outfit7.mytalkingangelafree', 'com.sinyee.babybus.taxi',\n",
    "    'com.outfit7.talkingtomgoldrun', 'com.crazylabs.lady.bug', 'com.illumix.fnafar',\n",
    "    'com.stickman.dragon.fight.stick.warriors.stickmanwarriors', 'mytown.friendshouse.free',\n",
    "    'mytown.hotel.free', 'com.tutotoons.app.fluvsies.free', 'com.sinyee.babybus.world',\n",
    "    'com.PoxelStudios.DudeTheftAuto', 'com.Neurononfire.SupremeDuelist', \n",
    "    'com.stickman.warriors.stickwarriors.dragon.shadow.fight', 'smellymoo.sand',\n",
    "    'com.dancing.tiles.magic.music.beat.saber', 'com.tocaboca.tocalifeworld',\n",
    "    'free.os.jump.superbros.adventure.world', 'net.mobigame.zombietsunami',\n",
    "    'com.orange.kidspiano.music.songs', 'com.bandainamcoent.dblegends_ww',\n",
    "    'com.wildspike.wormszone', 'com.fgol.HungrySharkEvolution', 'jp.pokemon.pokemonquest',\n",
    "    'com.fungames.sniper3d', 'com.movile.playkids.pkxd', 'com.ea.game.pvzfree_row',\n",
    "    'com.frojo.moy7', 'com.dts.freefireth', 'com.bandainamcogames.dbzdokkanww',\n",
    "    'com.europosit.pixelcoloring', 'com.maxgames.stickwarlegacy', 'com.activision.callofduty.shooter',\n",
    "    'com.dreamotion.ronin', 'com.halfbrick.dantheman', 'com.PlayMax.playergames',\n",
    "    'com.playmini.miniworld', 'com.pixel.gun3d', 'com.netmarble.nanagb', \n",
    "    'com.JindoBlu.Antistress', 'com.klab.bleach', 'com.moonfrog.ludo.club',\n",
    "    'com.wildlifestudios.free.online.games.suspects', 'com.igg.android.lordsmobile', \n",
    "    'com.moonactive.coinmaster', 'com.king.candycrushsaga', 'com.aladinfun.islandking.android',\n",
    "    'com.nianticlabs.pokemongo', 'com.kingsgroup.sos', 'com.nekki.shadowfight'\n",
    "    'air.com.buffalo_studios.newflashbingo', 'com.playrix.homescapes', 'com.plarium.raidlegends',\n",
    "    'com.playrix.gardenscapes', 'com.aniplex.fategrandorder.en', 'com.king.candycrushsodasaga',\n",
    "    'com.smallgiantgames.empires', 'com.topwar.gp', 'air.com.playtika.slotomania',\n",
    "    'com.foxnextgames.m3', 'com.playrix.fishdomdd.gplay', 'net.peakgames.toonblast',\n",
    "    'com.williamsinteractive.jackpotparty', 'com.funplus.kingofavalon',\n",
    "    'com.playrix.township', 'slots.pcg.casino.games.free.android', 'com.chess',\n",
    "    'com.lilithgame.roc.gp', 'com.playstudios.popslots', 'com.nekki.shadowfight3',\n",
    "    'com.scopely.startrek', 'com.gsn.android.tripeaks', 'com.global.ztmslg',\n",
    "    'com.more.dayzsurvival.gp', 'com.tencent.ig', 'com.gramgames.mergedragons',\n",
    "    'com.productmadness.cashmancasino', 'com.diandian.gog', 'net.supertreat.solitaire',\n",
    "    'com.huuuge.casino.slots', 'com.diamondlife.slots.vegas.free', 'com.yottagames.mafiawar',\n",
    "    'com.ddi', 'net.peakgames.amy', 'com.miHoYo.GenshinImpact', 'com.vizorapps.klondike',\n",
    "    'com.playdemic.golf.android', 'com.pacificinteractive.HouseOfFun', 'com.im30.ROE.gp',\n",
    "    'com.kabam.marvelbattle', 'com.topgamesinc.evony', 'com.ea.game.starwarscapital_row',\n",
    "    'com.doubleugames.DoubleUCasino', 'com.scopely.yux', 'dk.tactile.lilysgarden',\n",
    "    'com.playtika.wsop.gp', 'com.bandainamcogames.dbzdokkanww', 'com.Seriously.BestFiends',\n",
    "    'com.crowdstar.covetHome', 'com.dc.hwsj', 'com.camelgames.superking',\n",
    "    'com.lilithgame.hgame.gp', 'com.supercell.clashofclans', 'com.ludo.king',\n",
    "    'com.jellybtn.boardkings', 'com.matchington.mansion', 'com.yottagames.stoneage',\n",
    "    'com.com2us.smon.normal.freefull.google.kr.android.common', 'com.miniclip.carrom',\n",
    "    'com.square_enix.android_googleplay.WOTVffbeww', 'com.bigfishgames.mergetalesgoog',\n",
    "    'com.wb.goog.got.conquest', 'com.nintendo.zaba', 'com.productmadness.lightninglink',\n",
    "    'com.zynga.pottermatch', 'com.yottagames.gameofmafia', 'com.productmadness.hovmobile',\n",
    "    'com.sports.real.golf.rival.online', 'leyi.westgame', 'com.selfawaregames.acecasino',\n",
    "    'com.playtika.caesarscasino', 'net.wooga.junes_journey_hidden_object_mystery_game',\n",
    "    'com.huuuge.casino.texas', 'com.clipwiregames.bingostory', 'com.zynga.wizardofoz',\n",
    "    'com.zynga.hititrich', 'fi.reworks.redecor', 'com.everbytestudio.escape.room.hidden.object.puzzle.games',\n",
    "    'com.miniclip.eightballpool', 'com.camelgames.aoz', 'com.YoStarEN.Arknights',\n",
    "    'com.MelsoftGames.FamilyIslandFarm', 'air.com.bitrhymes.bingo', 'com.grandegames.slots.dafu.casino',\n",
    "    'com.king.farmheroessaga', 'com.rovio.baba', 'com.belkatechnologies.clockmaker',\n",
    "    'com.ballytechnologies.quickhitslots', 'com.stove.epic7.google', 'com.tinyco.potter',\n",
    "    'com.tensquaregames.letsfish2', 'com.bbgame.sgzapk.tw', 'com.williamsinteractive.goldfish',\n",
    "    'com.riotgames.league.wildrift', 'com.zynga.gotslots', 'com.scopely.whiplash',\n",
    "    'com.pixonic.wwr', 'com.epicactiononline.ffxv.ane', 'com.murka.scatterslots',\n",
    "    'com.mojang.minecraftpe', 'com.mattel163.phase10', 'com.dragonscapes.global',\n",
    "    'com.topultragame.slotlasvega', 'com.playstudios.myvegas', 'com.nexters.herowars',\n",
    "    'com.wondergames.warpath.gp', 'com.glu.baseball21', 'com.hcg.cok.gp',\n",
    "    'com.supercell.hayday', 'com.rovio.dream', 'com.king.candycrush4',\n",
    "    'com.mars.avgchapters', 'com.panoramik.mightyparty', 'com.king.bubblewitch3',\n",
    "    'com.special.warship', 'air.com.sgn.cookiejam.gp', 'com.pixelberrystudios.choices',\n",
    "    'com.uken.BingoPop', 'com.bagelcode.slots1', 'jp.konami.duellinks',\n",
    "    'com.king.petrescuesaga', 'com.peoplefun.wordcross', 'com.bigfishgames.jackpotcityslotsf2pgoogle',\n",
    "    'com.funtomic.matchmasters', 'com.droidhang.ad', 'com.naturalmotion.customstreetracer2',\n",
    "    'com.ksrgland.goat', 'com.elex.nikkigp', 'com.blizzard.wtcg.hearthstone',\n",
    "    'com.zynga.livepoker', 'com.innogames.foeandroid', 'com.playstudios.mykonami',\n",
    "    'com.hts.ams', 'com.wizards.mtga', 'com.disney.emojimatch_goo', 'com.gameloft.android.ANMP.GloftA9HM',\n",
    "    'dk.tactile.mansionstory', 'com.global.tmslg', 'com.loop.match3d',\n",
    "    'com.mytona.cookingdiary.android', 'com.igs.fafafa', 'com.square_enix.android_googleplay.FFBEWW',\n",
    "    'com.playrix.manormatters', 'es.socialpoint.DragonCity', 'com.mobile.legends',\n",
    "    'com.netmarble.mherosgb', 'com.dreamgames.royalmatch', 'com.gigantic.clawee',\n",
    "    'com.kakaogames.gdts', 'com.sevenpirates.infinitywar', 'com.everywear.game5',\n",
    "    'com.scientificgames.monopolyslots', 'com.addictive.strategy.army', 'com.king.candycrushjellysaga',\n",
    "    'com.square_enix.android_googleplay.FFBEWW', 'com.moonton.mobilehero', 'com.d3p.mpq',\n",
    "    'com.yalla.yallagames', 'com.scopely.headshot', 'com.miHoYo.bh3global',\n",
    "    'com.ea.gp.maddennfl21mobile', 'com.plarium.vikings', 'com.gsn.android.casino',\n",
    "    'com.LDRLY.budfarmidletycoon', 'com.nintendo.zaka', 'com.bbumgames.spadesroyale',\n",
    "    'com.YoStarEN.AzurLane', 'com.duige.hzw.multilingual', 'and.onemt.war.ar',\n",
    "    'com.supercell.brawlstars', 'com.purplekiwii.vegaslive', 'com.ea.game.simcitymobile_row',\n",
    "    'com.deuscraft.TurboTeam', 'com.crowdstar.covetfashion', 'com.catdaddy.cat22',\n",
    "    'net.peakgames.mobile.spades.android', 'com.sgn.pandapop.gp', 'com.bingo.tour.party.crazy.free',\n",
    "    'com.aqupepgames.projectpepe', 'jp.goodsmile.grandsummonersglobal_android',\n",
    "    'com.supercell.clashroyale', 'com.nintendo.zaga', 'com.mytona.seekersnotes.android',\n",
    "    'com.xdg.and.wll', 'com.ludia.jw2', 'com.zynga.wonka', 'com.igg.android.dressuptimeprincess',\n",
    "    'com.ballytechnologies.f88', 'com.bingo.scape.android.free', 'com.gtarcade.ioe.global',\n",
    "    'com.murka.slotsera', 'com.zloong.eu.dr.gp', 'com.zynga.words3', 'com.game.colorslime',\n",
    "    'com.paradyme.solarsmash', 'com.playstrom.bob', 'com.drawpuzzle.dop.drawit.justdrawit',\n",
    "    'com.innersloth.spacemafia', 'com.roblox.client', 'com.uncosoft.highheels',\n",
    "    'com.bgg.jump', 'com.freeplay.runandfight', 'com.pencil.madness',\n",
    "    'com.tgame.girlgenius', 'com.youmusic.magictiles', 'com.gma.water.sort.puzzle',\n",
    "    'com.hypercarrot.giantrush', 'com.RBSSOFT.HyperMobile', 'com.playstrom.dop2',\n",
    "    'com.kiloo.subwaysurf', 'com.sdpgames.sculptpeople', 'com.amanotes.beathopper',\n",
    "    'com.Born2Play.StackyDash', 'com.imangi.templerun2', 'com.ea.gp.nbamobile',\n",
    "    'games.bee.app', 'com.ea.game.nfs14_row', 'com.psv.vlad_and_nikita.supermarket',\n",
    "    'com.rud.twelvelocksvn', 'com.wb.goog.mkx', 'com.masomo.basketballarena',\n",
    "    'pvp.survival.rpg.fog', 'com.wb.goog.injustice.brawler2017', 'com.jetstartgames.chess',\n",
    "    'com.ftt.boxingstar.gl.aos', 'com.igg.castleclash', 'com.ss.clg',\n",
    "    'com.conicgames.exponentialidle', 'com.funcube.loa', 'com.zynga.words',\n",
    "    'com.gameloft.android.ANMP.GloftDMHM', 'com.peekaphone.app', 'com.WildWorks.RyansTag',\n",
    "    'com.habby.archero', 'com.nintendo.zara', 'com.webelinx.Rooms.Exits.EscapeRoom.FreeEscapeGames',\n",
    "    'com.weplaydots.twodotsandroid', 'es.socialpoint.MonsterLegends', 'ru.crazypanda.ZombieShop',\n",
    "    'com.firsttouchgames.dls7', 'com.nway.powerrangerslegacywars', 'com.riotgames.league.teamfighttactics',\n",
    "    'com.riotgames.legendsofruneterra', 'com.dena.a12026418', 'com.ngame.allstar.eu',\n",
    "    'com.wb.goog.ellen.psych', 'com.masomo.headball2', 'com.tfgco.games.sports.free.tennis.clash',\n",
    "    'com.netease.g78na.gb', 'com.kitkagames.fallbuddies', 'com.devsisters.ck',\n",
    "    'com.orange.coloring.learn.kids', 'com.gameloft.android.ANMP.GloftGGHM',\n",
    "    'com.ea.gp.fifamobile', 'com.yanstarstudio.joss.undercover', 'com.reliancegames.wwemayhem',\n",
    "    'com.MDickie.WrestlingEmpire', 'com.wildlife.games.battle.royale.free.zooba', \n",
    "    'com.bandainamcoent.opbrww', 'com.zeptolab.bulletecho.google', 'com.PepiPlay.PepiHospital',\n",
    "    'com.vkslrzm.Zombie', 'com.haegin.overdox', 'com.nekki.shadowfightarena',\n",
    "    'com.elex.twdsaw.gp', 'com.time.trigger', 'com.miniclip.minifootball',\n",
    "    'com.amanotes.pamadancingroad', 'com.tinybuildgames.helloneighbor',\n",
    "    'com.netmarble.kofg', 'com.pikpok.wtd.play', 'ee.Javelin.SpotlightRoomEscape',\n",
    "    'com.rioo.runnersubway', 'com.sinyee.babybus.policemen', 'com.madfingergames.wargames.shooter',\n",
    "    'com.netease.mrzhna', 'com.titan.cd.gb', 'com.playgendary.kickthebuddy',\n",
    "    'air.com.RustyLake.WhiteDoor', 'com.azurgames.stackball', 'com.pearlabyss.blackdesertm.gl',\n",
    "    'com.enigma.shadowhunter', 'com.nway.wweundisputed', 'com.stealthgame.master',\n",
    "    'com.steelcrategames.keeptalkingandnobodyexplodes', 'com.bc.avenger',\n",
    "    'com.sleepingbeastgames.spaceteam', 'com.stickclash.stickman.battle.war',\n",
    "    'com.YovoGames.dentist', 'com.appsomniacs.da2', 'lol.onevone', 'com.haegin.playtogether',\n",
    "    'com.zakg.scaryteacher.hellgame', 'com.netmarble.bnsmws', 'com.yolostudio.theimpostor',\n",
    "    'com.playgendary.hitmasters', 'com.sports.eightball.pool.rival', 'com.ua.building.Lokicraft',\n",
    "    'com.soccer.score.star', 'com.hit.master', 'com.neowiz.game.baseball.clash',\n",
    "    'en.lrgame.sr.and.sa', 'com.nintendo.zaca', 'com.allstarunion.mw3', 'com.dayonegames.puzzles',\n",
    "    'com.codigames.university.empire.idle.tycoon', 'com.mavis.slidey', 'om.catdaddy.nbasupercard',\n",
    "    'com.bitmango.go.wordcookies', 'com.beingame.zc.zombie.shelter.survival',\n",
    "    'com.traplight.battleslides', 'com.dobsoftstudios.wizquest', 'com.nautilus.RealCricket3D',\n",
    "    'com.nexonm.dominations.adk', 'com.bushiroad.en.bangdreamgbp', 'com.divmob.heroesinfinity',\n",
    "    'com.divmob.ageofheroes.braveheroes.battleheroes.epicheroeswar.epicheroes.en',\n",
    "    'jp.konami.wecc', 'com.pandaarcade.picotanks', 'com.bandainamcoent.saoifww',\n",
    "    'com.gamegos.mobile.manorcafe', 'com.gamevil.basebss.android.google.global.normal1',\n",
    "    'com.belkagames.solitaire', 'air.com.and.games505.gemsofwar', 'com.innogames.elvenar',\n",
    "    'com.electricnoirstudios.deadmansphone', 'com.seasun.shuangxiang.gp',\n",
    "    'com.flaregames.rrtournament', 'com.cleverapps.scramble', 'mog.Christmas.Games.Xmas.Bubble.Shooter',\n",
    "    'com.gamevilusa.mlbpilive.android.google.global.normal', 'sandbox.pixel.number.coloring.book.page.art.free',\n",
    "    'com.minidragon.dw', 'com.com2us.ninepb3d.normal.freefull.google.global.android.common',\n",
    "    'com.zeptolab.omnomrun.google', 'com.pocapp.dungeondogsgame', 'sniper.gun.zombie.shooting',\n",
    "    'com.sonypicturestelevision.sharktank', 'com.epiczone.cyberfighters.stickman.shadow',\n",
    "    'jp.co.imagineer.sumikkogurashi.farm', 'com.smokoko.careatscar3', 'com.twelvemoments.musicparty',\n",
    "    'com.rmg.hell.park.tycoon', 'com.pikpok.dkc.play', 'com.utplus.shadowblood.google',\n",
    "    'com.wazzapps.idle.beauty.salon', 'com.ignm.bokuneko.en', 'com.redbull.moto',\n",
    "    'com.hyperbeard.kiki', 'com.qiiwi.puzzleton', 'com.fufafa.slotrip.socialcasino',\n",
    "    'com.tangramgames.gourddoll.wordcrush', 'com.peoplefun.wordstacks', 'com.smilerlee.klondike',\n",
    "    'com.easybrain.jigsaw.puzzles', 'at.ner.SolitaireKlondike', 'com.lemongame.klondike.solitaire',\n",
    "    'eu.nordeus.topeleven.android', 'com.bandagames.mpuzzle.gp', 'com.fiogonia.spades',\n",
    "    'net.skillcap.spades', 'com.gsr.wordcross', 'in.playsimple.wordtrip',\n",
    "    'com.mobilityware.solitaire', 'com.flyclops.domino.android', 'com.boldcat.football',\n",
    "    'com.gamma.find.diff', 'com.openmygame.games.android.jigsawpuzzle', 'com.qhost.aceanddice_domino',\n",
    "    'com.dp.hidden.objects', 'com.IMStudio.WOS', 'com.fungames.flightpilot',\n",
    "    'uk.co.aifactory.chessfree', 'block.puzzle.sudoku.free.game.classic.offline',\n",
    "    'air.br.com.domino.mobile', 'com.betterforsol.solitaire.card.games.free',\n",
    "    'com.dimcoms.checkers', 'com.LoopGames.Domino', 'es.socialpoint.wordlife',\n",
    "    'jigsaw.puzzle.free.games', 'com.gamedevltd.wwh', 'air.com.beachbumgammon',\n",
    "    'com.autumninteractive.myrummy', 'com.tripledot.solitaire', 'pl.lukok.chess',\n",
    "    'com.iscoolentertainment.snc', 'com.skgames.trafficracer', 'com.tectumgames.unblock',\n",
    "    'com.com2us.acefishing.normal.freefull.google.global.android.common',\n",
    "    'chessfriends.online.chess','com.hotheadgames.google.free.ks2', 'com.bitmango.rolltheballunrollme',\n",
    "    'com.billiards.shooting.ball.pool', 'pl.lukok.draughts', 'com.LoopGames.Solitaire',\n",
    "    'com.hypgames.ultimategolf', 'com.rbx.city.android', 'com.oyeapps.logotestworld2',\n",
    "    'com.skgames.trafficrider', 'sniper.honor.real3d.shooter.assassin.free.android',\n",
    "    'com.codemasters.F1Mobile', 'com.hutchgames.rebelracing', 'com.crossfield.shogi',\n",
    "    'com.tripledot.woodoku', 'com.billiards.city.pool.nation.club', 'com.playgendary.homes',\n",
    "    'com.giraffegames.pool', 'com.karmangames.spades', 'com.huuuge.domino', \n",
    "    'com.tensquaregames.hunting.clash.wild.hunter.deer', 'ru.skillcap.dominoes',\n",
    "    'com.kooapps.pictowordandroid', 'com.jima.modern.tuktuk.auto.rickshaw.driving.game.simulator',\n",
    "    'uk.co.yakuto.TableTennisTouch', 'com.blacklightsw.ludo', 'com.eyesthegame.eyes',\n",
    "    'com.gameloft.android.ANMP.GloftA3HM', 'com.netease.chiji', 'com.agedstudio.board.game.dominoes',\n",
    "    'com.RetrostyleGames.LastPirate.deadthieves', 'com.xten.starfall', 'roll.unblock.ball.block.puzzle',\n",
    "    'mobi.gameguru.racingfevermoto', 'com.zynga.chess.googleplay', 'com.miniclip.marblebattle'\n",
    "    'com.chess.champ', 'com.fa.gym.fighting.game', 'com.vividgames.realboxing',\n",
    "    'com.jimaapps.city.coach.bus.simulator.driving', 'com.gamovation.quickcheckers',\n",
    "    'com.giraffegames.ggpool', 'com.boombitgames.DrivingSchoolParking', 'air.WR3DFree',\n",
    "    'com.hagstrom.henrik.chess', 'com.gzl.drivebus.parking.game', 'com.nautilus.RealCricket3DLite',\n",
    "    'com.fun.games.commando.black.shadow', 'com.ovilex.drivingschoolsim', 'com.CrescentMoonGames.TotalEggscape',\n",
    "    'com.jamcity.joy_goo', 'com.OrubeGameStudio.DwarfJourney', 'com.RDaES.Wordsmyth.Word',\n",
    "    'com.Thunderbox.TCID', 'com.FinifuguGames.google.OtterOcean', 'com.bluewizard.campcarnage',\n",
    "    'com.tinybuildgames.killitwithfire', 'com.umusic.queenrocktourgp', 'com.bushiroad.en.invictus',\n",
    "    'com.atari.mobile.daysofdoom', 'com.lofipeople.blinddrive', 'com.neutronized.slimelaboratory',\n",
    "    'com.joxdev.towers', 'com.DefaultCompany.BulletPunk', 'air.com.GalMamalya.Mitoza',\n",
    "    'ru.avv.game', 'creamative.clann.v1', 'com.nomadgames.furyofdracula',\n",
    "    'com.okshur.JetscoutValunians', 'com.FlorianVanStrien.TheFinalEarth2',\n",
    "    'com.ylungamestudio.breakinggatespass', 'com.ea.gp.simsmobile', 'com.cookapps.redesignstar.homemakeover',\n",
    "    'com.techvision.hotelcraze', 'com.kiarygames.tinyroom', 'com.unicostudio.braintest',\n",
    "    'ge.bebi.balloon.pop.game', 'com.sonypicturestelevision.jeopardy2', 'com.peppapig.worldofpeppapig_g',\n",
    "    'com.rvappstudios.baby.games.piano.phone.kids', 'games.lightheart.mrautofire', \n",
    "    'com.etermax.trivialadder', 'com.GMA.Ball.Sort.Puzzle', 'com.appcraft.number.puzzle',\n",
    "    'org.pbskids.gamesapp', 'com.jagex.runescape.android', 'com.trivia.star.android',\n",
    "    'com.redcell.goldandgoblins', 'com.maroieqrwlk.unpin', 'com.candywriter.bitlife',\n",
    "    'com.hitthebank.game', 'com.mochibits.google.leftvsright', 'com.braindom2riddle',\n",
    "    'com.BeanstarGamesInc.WordGames', 'com.umi.feudlive', 'com.fiogonia.hearts',\n",
    "    'com.gma.water.connect.puzzle', 'com.nanotribe.games.cashier3d', 'com.ASmallGame.themagicfinger',\n",
    "    'com.slingshot.car', 'com.gameon.car.safety.check', 'com.bike.jump',\n",
    "    'com.rmg.hotelteam', 'com.hasbro.riskbigscreen', 'com.bricksbreaker.balls.crusher.bricks',\n",
    "    'air.com.pixelfederation.diggy', 'com.paperboatapps.google.kiddopia',\n",
    "    'com.volcanoforce.lost', 'zombie.survival.craft.z', 'com.braindom', \n",
    "    'link.merge.puzzle.onnect.number', 'com.fanatee.stop', 'com.easybrain.find.the.difference',\n",
    "    'com.haiku.adventure.escape.game.mystery.stories', 'com.colobolo.chainball',\n",
    "    'com.dropdom.blockpuzzle.hwwgame', 'com.scopely.wheeloffortune', 'com.ubisoft.dance.justdance2015companion',\n",
    "    'com.easybrain.killer.sudoku.free', 'com.usm.catanuniverse', 'com.wordgame.words.connect',\n",
    "    'com.wordgame.newcross.android.en', 'com.bitmango.go.mergeblockstarfinders', \n",
    "    'com.glu.dashtown', 'com.tilemaster.puzzle.block.match', 'com.platinumplayer.word.addict',\n",
    "    'com.my.defense', 'com.upland.app', 'com.gamebility.onet', 'com.easybrain.block.puzzle.games',\n",
    "    'com.peoplefun.blockscapes', 'com.ferrero.applayduGP', 'com.littleengine.wordpal',\n",
    "    'com.iposedon.bricksbreakerballs', 'com.jagex.oldscape.android', 'gen.tech.keiki.world.learning',\n",
    "    'com.foxbet.super6', 'com.preschoolacademy.toddlerpreschoollearning', 'com.gokids.livenumbers',\n",
    "    'com.rvappstudios.abc_kids_toddler_tracing_phonics', 'com.rvappstudios.shapes.colors.toddler',\n",
    "    'com.pjmasks.moonlightheroes', 'com.sinyee.babybus.habits', 'com.budgestudios.googleplay.MyLittlePonyRainbowRunners',\n",
    "    'com.sesameworkshop.alphabetkitchen.play', 'com.happytools.learning.kids.games',\n",
    "    'com.rickyzoom.welcometowheelford', 'com.budgestudios.googleplay.MyLittlePonyColoring',\n",
    "    'com.binibambini.abc', 'com.iabuzz.minigames.dino', 'com.pjmasks.heroacademy',\n",
    "    'com.imaginalis.HouseFlipperMobile', 'com.budgestudios.googleplay.ThomasAndFriendsMinis',\n",
    "    'com.sinyee.babybus.career', 'com.bubadu.bubbu', 'com.JindoBlu.TwoPlayerGamesChallenge',\n",
    "    'com.kids.preschool.learning.games', 'com.tutotoons.app.smolsiesmycutepethouse.free',\n",
    "    'com.dhxmedia.slugitout2', 'com.gokids.transportbuilding', 'com.budgestudios.googleplay.DCSuperHeroGirls',\n",
    "    'com.sinyee.babybus.foodstory', 'com.sinyee.babybus.rescueII', 'com.sinyee.babybus.adventure',\n",
    "    'biz.arrowstar.funnyfood2', 'com.sinyee.babybus.dinosaurIII', 'com.rvappstudios.kids.coloring.book.color.painting',\n",
    "    'com.rvappstudios.numbers123.toddler.counting.tracing', 'com.sinyee.babybus.princessII', \n",
    "    'com.budgestudios.TransformersRescueBotsHeroAdventures', 'com.sinyee.babybus.firemanII',\n",
    "    'com.sinyee.babybus.diyII', 'biz.arrowstar.funnyfood3', 'com.sinyee.babybus.homesafe.global',\n",
    "    'com.sinyee.babybus.cosmetology', 'com.budgestudios.googleplay.TransformersDisasterDash',\n",
    "    'com.crayolallc.crayola_scribble_scrubbie_pets', 'com.tutotoons.app.mybabyunicorn.free',\n",
    "    'com.orange.gamesforkids.coloring.princess', 'com.sinyee.babybus.tailor',\n",
    "    'com.sinyee.babybus.colour', 'com.budgestudios.googleplay.BarbieDreamhouse',\n",
    "    'com.wb.goog.legoswtfa', 'com.edujoy.kidecats', 'com.gameloft.android.ANMP.GloftPOHM',\n",
    "    'mytown.home', 'com.razmobi.kidsdinosaurgame','com.rvappstudios.jigsaw.puzzles.kids',\n",
    "    'com.razmobi.monstertrucks2', 'com.budgestudios.MyLittlePonyHarmonyQuest',\n",
    "    'com.sinyee.babybus.kindergartenII', 'com.budgestudios.HelloKittyLunchBox',\n",
    "    'com.sinyee.babybus.hero', 'com.turborocketgames.wildcraft', 'mytown.firestation.free',\n",
    "    'com.PepiPlay.KingsCastle', 'com.sinyee.babybus.restaurant', 'com.budgestudios.HelloKittyNailSalon',\n",
    "    'com.rvappstudios.abc.spelling.toddler.spell.phonics', 'com.sinyee.babybus.superman',\n",
    "    'com.budgestudios.googleplay.HotWheelsUnlimited', 'com.tutotoons.app.sweetbabygirlcleanup5.free',\n",
    "    'com.sinyee.babybus.designer', 'com.lego.friends.heartlake', 'com.sinyee.babybus.careII',\n",
    "    'mytown.hauntedhouse.free', 'com.sinyee.babybus.dentistII', 'com.sinyee.babybus.shopping',\n",
    "    'com.sinyee.babybus.kitchens', 'com.edujoy.masha.games', 'com.kidsfoodinc.unicorn.cooking.game',\n",
    "    'com.rvappstudios.math.kids.counting', 'com.tutotoons.app.kikififipetfriends.free',\n",
    "    'com.bubadu.bubbuschool', 'com.sinyee.babybus.drinks', 'com.oki.colors',\n",
    "    'mytown.police', 'mytown.amusementpark.free', 'com.budgestudios.googleplay.hellokittyfashionstar',\n",
    "    'com.bubadu.supermarket', 'com.tabtale.babytwins', 'com.gi.talkinggummybear', \n",
    "    'com.pepiplay.pepihome', 'com.infigames.babyphonetoy', 'com.gokids.tablet', \n",
    "    'com.spinmaster.gabbysdollhouse', 'babyphone.freebabygames.com.babyphone',\n",
    "    'com.sinyee.babybus.earthquake', 'com.sinyee.babybus.magichouse', 'com.tutotoons.app.kpopsiescuteunicornpets',\n",
    "    'com.sinyee.babybus.market', 'com.sinyee.babybus.pen', 'com.hasbro.beybladesenterprise',\n",
    "    'com.iz.world.pretend.play.life.my.princess.games.town.city.house.wonder.doll',\n",
    "    'com.sinyee.babybus.math', 'com.psvnMaB.Goodnight', 'com.animedressupgames.chibi',\n",
    "    'com.tutotoons.app.mybabyunicorn2.free', 'com.sinyee.babybus.holiday',\n",
    "    'com.GamesForKids.Mathgames.MultiplicationTables', 'com.binibambini.MiniLite',\n",
    "    'com.playtoddlers.urbancitystories.free', 'com.aquiris.horizonchase', \n",
    "    'com.gamesforkids.preschoolworksheets.alphabets', 'br.com.tapps.donotdisturb',\n",
    "    'com.kid58.lianyong.princessIII', 'com.gokids.bphone1', 'mytown.preschool.free',\n",
    "    'com.KidsGames.SuperHippo', 'com.devgame.masha.and.bear.pizzeria.games',\n",
    "    'com.forqan.tech.PrincessColoring', 'com.kidgame.supermarket', 'com.psvn.traumatologist',\n",
    "    'com.iz.coloring.games.kids.drawing.book.color.by.number', 'mytown.wedding.free',\n",
    "    'wedding.games', 'com.indigokids.mim', 'com.minibuu.princessphone',\n",
    "    'com.edutainment.mashadentist', 'mytown.grandparents.free', 'com.psv.vlad_and_nikita.racing',\n",
    "    'com.coloring.mermaids', 'com.princess.coloring', 'com.iz.pretend.play.my.monster.town.airport.games.kids',\n",
    "    'mytown.cinema.free', 'com.devgame.robocar.poli.postman.kids.games', 'com.Metrafilms.KidECatsDollHouse',\n",
    "    'com.gamesforgirlsfree.dressupgames'\n",
    "]\n"
   ]
  },
  {
   "cell_type": "code",
   "execution_count": 13,
   "metadata": {
    "ExecuteTime": {
     "end_time": "2021-04-08T16:46:22.498079Z",
     "start_time": "2021-04-08T16:46:22.487042Z"
    },
    "scrolled": true
   },
   "outputs": [
    {
     "data": {
      "text/plain": [
       "743"
      ]
     },
     "execution_count": 13,
     "metadata": {},
     "output_type": "execute_result"
    }
   ],
   "source": [
    "len(app_packages)"
   ]
  },
  {
   "cell_type": "code",
   "execution_count": null,
   "metadata": {
    "ExecuteTime": {
     "end_time": "2021-03-31T02:47:34.593169Z",
     "start_time": "2021-03-31T02:46:52.564867Z"
    }
   },
   "outputs": [],
   "source": [
    "app_infos = []\n",
    "\n",
    "for ap in tqdm(app_packages):\n",
    "    info = app(ap, lang='en', country='us')\n",
    "    del info['comments']\n",
    "    app_infos.append(info)"
   ]
  },
  {
   "cell_type": "code",
   "execution_count": null,
   "metadata": {
    "ExecuteTime": {
     "end_time": "2021-03-31T02:47:39.264937Z",
     "start_time": "2021-03-31T02:47:39.250890Z"
    }
   },
   "outputs": [],
   "source": [
    "# def print_json(json_object):\n",
    "#     json_str = json.dumps(\n",
    "#         json_object,\n",
    "#         indent=2,\n",
    "#         sort_keys=True,\n",
    "#         default=str\n",
    "#     )\n",
    "    \n",
    "#     print(highlight(json_str, JsonLexer(), TerminalFormatter()))"
   ]
  },
  {
   "cell_type": "code",
   "execution_count": null,
   "metadata": {
    "ExecuteTime": {
     "end_time": "2021-03-31T02:47:41.917325Z",
     "start_time": "2021-03-31T02:47:41.899268Z"
    },
    "scrolled": true
   },
   "outputs": [],
   "source": [
    "# print_json(app_infos[0])"
   ]
  },
  {
   "cell_type": "code",
   "execution_count": null,
   "metadata": {
    "ExecuteTime": {
     "end_time": "2021-03-31T02:47:45.272860Z",
     "start_time": "2021-03-31T02:47:45.220687Z"
    },
    "scrolled": true
   },
   "outputs": [],
   "source": [
    "app_info_df = pd.DataFrame(app_infos)\n",
    "app_info_df.head()"
   ]
  },
  {
   "cell_type": "code",
   "execution_count": null,
   "metadata": {
    "ExecuteTime": {
     "end_time": "2021-03-31T02:48:06.996725Z",
     "start_time": "2021-03-31T02:48:06.902415Z"
    }
   },
   "outputs": [],
   "source": [
    "app_info_df.to_csv('google_games.csv', index=None, header=True)"
   ]
  },
  {
   "cell_type": "markdown",
   "metadata": {},
   "source": [
    "# Get App Reviews"
   ]
  },
  {
   "cell_type": "code",
   "execution_count": null,
   "metadata": {
    "ExecuteTime": {
     "end_time": "2021-03-25T00:14:11.810404Z",
     "start_time": "2021-03-25T00:12:22.950818Z"
    }
   },
   "outputs": [],
   "source": [
    "app_reviews = []\n",
    "\n",
    "for ap in tqdm(app_packages):\n",
    "    for score in range(1,6):\n",
    "        for sort_order in [Sort.MOST_RELEVANT, Sort.NEWEST]:\n",
    "            rvs = reviews(\n",
    "            ap,\n",
    "            lang='en',\n",
    "            country='us',\n",
    "            sort=sort_order,\n",
    "            count= 200 if score == 3 else 100,\n",
    "            filter_score_with=score\n",
    "            )[0]\n",
    "            \n",
    "            for r in rvs:\n",
    "                r['sortOrder'] = 'most_relevant' if sort_order == Sort.MOST_RELEVANT else 'newest'\n",
    "                r['appID']= ap\n",
    "            app_reviews.extend(rvs)"
   ]
  },
  {
   "cell_type": "code",
   "execution_count": null,
   "metadata": {
    "ExecuteTime": {
     "end_time": "2021-03-25T03:58:43.388262Z",
     "start_time": "2021-03-25T03:58:43.369212Z"
    }
   },
   "outputs": [],
   "source": [
    "# print_json(app_reviews[0])"
   ]
  },
  {
   "cell_type": "code",
   "execution_count": null,
   "metadata": {
    "ExecuteTime": {
     "end_time": "2021-03-25T04:00:34.538464Z",
     "start_time": "2021-03-25T04:00:34.447177Z"
    }
   },
   "outputs": [],
   "source": [
    "app_reviews_df = pd.DataFrame(app_reviews)\n",
    "app_reviews_df.shape"
   ]
  },
  {
   "cell_type": "code",
   "execution_count": null,
   "metadata": {
    "ExecuteTime": {
     "end_time": "2021-03-25T04:00:46.691572Z",
     "start_time": "2021-03-25T04:00:46.664482Z"
    }
   },
   "outputs": [],
   "source": [
    "app_reviews_df.head()"
   ]
  },
  {
   "cell_type": "code",
   "execution_count": null,
   "metadata": {
    "ExecuteTime": {
     "end_time": "2021-03-25T04:02:44.814208Z",
     "start_time": "2021-03-25T04:02:44.350718Z"
    }
   },
   "outputs": [],
   "source": [
    "app_reviews_df.to_csv('game_reviews.csv', index=None, header=True)"
   ]
  }
 ],
 "metadata": {
  "kernelspec": {
   "display_name": "Python 3",
   "language": "python",
   "name": "python3"
  },
  "language_info": {
   "codemirror_mode": {
    "name": "ipython",
    "version": 3
   },
   "file_extension": ".py",
   "mimetype": "text/x-python",
   "name": "python",
   "nbconvert_exporter": "python",
   "pygments_lexer": "ipython3",
   "version": "3.8.5"
  },
  "toc": {
   "base_numbering": 1,
   "nav_menu": {},
   "number_sections": true,
   "sideBar": true,
   "skip_h1_title": false,
   "title_cell": "Table of Contents",
   "title_sidebar": "Contents",
   "toc_cell": false,
   "toc_position": {},
   "toc_section_display": true,
   "toc_window_display": false
  },
  "varInspector": {
   "cols": {
    "lenName": 16,
    "lenType": 16,
    "lenVar": 40
   },
   "kernels_config": {
    "python": {
     "delete_cmd_postfix": "",
     "delete_cmd_prefix": "del ",
     "library": "var_list.py",
     "varRefreshCmd": "print(var_dic_list())"
    },
    "r": {
     "delete_cmd_postfix": ") ",
     "delete_cmd_prefix": "rm(",
     "library": "var_list.r",
     "varRefreshCmd": "cat(var_dic_list()) "
    }
   },
   "types_to_exclude": [
    "module",
    "function",
    "builtin_function_or_method",
    "instance",
    "_Feature"
   ],
   "window_display": false
  }
 },
 "nbformat": 4,
 "nbformat_minor": 4
}
