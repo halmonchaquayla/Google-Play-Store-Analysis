{
 "cells": [
  {
   "cell_type": "markdown",
   "metadata": {},
   "source": [
    "# Import"
   ]
  },
  {
   "cell_type": "code",
   "execution_count": 1,
   "metadata": {
    "ExecuteTime": {
     "end_time": "2021-04-13T03:25:49.526226Z",
     "start_time": "2021-04-13T03:25:47.317595Z"
    }
   },
   "outputs": [],
   "source": [
    "import pandas as pd\n",
    "import numpy as np\n",
    "import seaborn as sns\n",
    "import matplotlib.pyplot as plt\n",
    "%matplotlib inline\n",
    "\n",
    "import statsmodels.api as sm\n",
    "from statsmodels.formula.api import ols\n",
    "\n",
    "pd.set_option('display.max_columns', 500)"
   ]
  },
  {
   "cell_type": "code",
   "execution_count": 2,
   "metadata": {
    "ExecuteTime": {
     "end_time": "2021-04-13T03:25:50.232453Z",
     "start_time": "2021-04-13T03:25:50.200348Z"
    }
   },
   "outputs": [],
   "source": [
    "df = pd.read_csv('cleaned_data.csv')"
   ]
  },
  {
   "cell_type": "code",
   "execution_count": 3,
   "metadata": {
    "ExecuteTime": {
     "end_time": "2021-04-13T03:25:52.287415Z",
     "start_time": "2021-04-13T03:25:52.263335Z"
    }
   },
   "outputs": [
    {
     "name": "stdout",
     "output_type": "stream",
     "text": [
      "<class 'pandas.core.frame.DataFrame'>\n",
      "RangeIndex: 10351 entries, 0 to 10350\n",
      "Data columns (total 11 columns):\n",
      " #   Column          Non-Null Count  Dtype  \n",
      "---  ------          --------------  -----  \n",
      " 0   Unnamed: 0      10351 non-null  int64  \n",
      " 1   App             10351 non-null  object \n",
      " 2   Category        10351 non-null  object \n",
      " 3   Rating          10351 non-null  float64\n",
      " 4   Reviews         10351 non-null  float64\n",
      " 5   Size            10351 non-null  float64\n",
      " 6   Installs        10351 non-null  int64  \n",
      " 7   Content Rating  10351 non-null  object \n",
      " 8   Genres          10351 non-null  object \n",
      " 9   Month           10351 non-null  float64\n",
      " 10  is_free         10351 non-null  int64  \n",
      "dtypes: float64(4), int64(3), object(4)\n",
      "memory usage: 889.7+ KB\n"
     ]
    }
   ],
   "source": [
    "df.info()"
   ]
  },
  {
   "cell_type": "code",
   "execution_count": 4,
   "metadata": {
    "ExecuteTime": {
     "end_time": "2021-04-13T03:25:55.820144Z",
     "start_time": "2021-04-13T03:25:55.774993Z"
    }
   },
   "outputs": [
    {
     "data": {
      "text/html": [
       "<div>\n",
       "<style scoped>\n",
       "    .dataframe tbody tr th:only-of-type {\n",
       "        vertical-align: middle;\n",
       "    }\n",
       "\n",
       "    .dataframe tbody tr th {\n",
       "        vertical-align: top;\n",
       "    }\n",
       "\n",
       "    .dataframe thead th {\n",
       "        text-align: right;\n",
       "    }\n",
       "</style>\n",
       "<table border=\"1\" class=\"dataframe\">\n",
       "  <thead>\n",
       "    <tr style=\"text-align: right;\">\n",
       "      <th></th>\n",
       "      <th>App</th>\n",
       "      <th>Category</th>\n",
       "      <th>Rating</th>\n",
       "      <th>Reviews</th>\n",
       "      <th>Size</th>\n",
       "      <th>Installs</th>\n",
       "      <th>Content Rating</th>\n",
       "      <th>Genres</th>\n",
       "      <th>Month</th>\n",
       "      <th>is_free</th>\n",
       "    </tr>\n",
       "  </thead>\n",
       "  <tbody>\n",
       "    <tr>\n",
       "      <th>0</th>\n",
       "      <td>Photo Editor &amp; Candy Camera &amp; Grid &amp; ScrapBook</td>\n",
       "      <td>ART_AND_DESIGN</td>\n",
       "      <td>4.1</td>\n",
       "      <td>159.0</td>\n",
       "      <td>19.000000</td>\n",
       "      <td>10000</td>\n",
       "      <td>Everyone</td>\n",
       "      <td>Art &amp; Design</td>\n",
       "      <td>1.0</td>\n",
       "      <td>1</td>\n",
       "    </tr>\n",
       "    <tr>\n",
       "      <th>1</th>\n",
       "      <td>Coloring book moana</td>\n",
       "      <td>ART_AND_DESIGN</td>\n",
       "      <td>3.9</td>\n",
       "      <td>967.0</td>\n",
       "      <td>14.000000</td>\n",
       "      <td>500000</td>\n",
       "      <td>Everyone</td>\n",
       "      <td>Art &amp; Design;Pretend Play</td>\n",
       "      <td>1.0</td>\n",
       "      <td>1</td>\n",
       "    </tr>\n",
       "    <tr>\n",
       "      <th>2</th>\n",
       "      <td>U Launcher Lite – FREE Live Cool Themes, Hide ...</td>\n",
       "      <td>ART_AND_DESIGN</td>\n",
       "      <td>4.7</td>\n",
       "      <td>87510.0</td>\n",
       "      <td>8.700000</td>\n",
       "      <td>5000000</td>\n",
       "      <td>Everyone</td>\n",
       "      <td>Art &amp; Design</td>\n",
       "      <td>8.0</td>\n",
       "      <td>1</td>\n",
       "    </tr>\n",
       "    <tr>\n",
       "      <th>3</th>\n",
       "      <td>Sketch - Draw &amp; Paint</td>\n",
       "      <td>ART_AND_DESIGN</td>\n",
       "      <td>4.5</td>\n",
       "      <td>215644.0</td>\n",
       "      <td>25.000000</td>\n",
       "      <td>50000000</td>\n",
       "      <td>Teen</td>\n",
       "      <td>Art &amp; Design</td>\n",
       "      <td>6.0</td>\n",
       "      <td>1</td>\n",
       "    </tr>\n",
       "    <tr>\n",
       "      <th>4</th>\n",
       "      <td>Pixel Draw - Number Art Coloring Book</td>\n",
       "      <td>ART_AND_DESIGN</td>\n",
       "      <td>4.3</td>\n",
       "      <td>967.0</td>\n",
       "      <td>2.800000</td>\n",
       "      <td>100000</td>\n",
       "      <td>Everyone</td>\n",
       "      <td>Art &amp; Design;Creativity</td>\n",
       "      <td>6.0</td>\n",
       "      <td>1</td>\n",
       "    </tr>\n",
       "    <tr>\n",
       "      <th>...</th>\n",
       "      <td>...</td>\n",
       "      <td>...</td>\n",
       "      <td>...</td>\n",
       "      <td>...</td>\n",
       "      <td>...</td>\n",
       "      <td>...</td>\n",
       "      <td>...</td>\n",
       "      <td>...</td>\n",
       "      <td>...</td>\n",
       "      <td>...</td>\n",
       "    </tr>\n",
       "    <tr>\n",
       "      <th>10346</th>\n",
       "      <td>Mathway: Scan Photos, Solve Problems</td>\n",
       "      <td>EDUCATION</td>\n",
       "      <td>4.6</td>\n",
       "      <td>105363.0</td>\n",
       "      <td>31.000000</td>\n",
       "      <td>10000000</td>\n",
       "      <td>Everyone</td>\n",
       "      <td>Education</td>\n",
       "      <td>2.0</td>\n",
       "      <td>1</td>\n",
       "    </tr>\n",
       "    <tr>\n",
       "      <th>10347</th>\n",
       "      <td>Avast Antivirus – Scan &amp; Remove Virus, Cleaner</td>\n",
       "      <td>TOOLS</td>\n",
       "      <td>4.7</td>\n",
       "      <td>165252.0</td>\n",
       "      <td>34.000000</td>\n",
       "      <td>100000000</td>\n",
       "      <td>Everyone</td>\n",
       "      <td>Tools</td>\n",
       "      <td>12.0</td>\n",
       "      <td>1</td>\n",
       "    </tr>\n",
       "    <tr>\n",
       "      <th>10348</th>\n",
       "      <td>Wattpad - Read &amp; Write Stories</td>\n",
       "      <td>BOOKS_AND_REFERENCE</td>\n",
       "      <td>3.9</td>\n",
       "      <td>1406630.0</td>\n",
       "      <td>34.215013</td>\n",
       "      <td>100000000</td>\n",
       "      <td>Teen</td>\n",
       "      <td>Books &amp; Reference</td>\n",
       "      <td>3.0</td>\n",
       "      <td>1</td>\n",
       "    </tr>\n",
       "    <tr>\n",
       "      <th>10349</th>\n",
       "      <td>MotorTrend: Stream Roadkill, Top Gear, and more</td>\n",
       "      <td>ENTERTAINMENT</td>\n",
       "      <td>4.4</td>\n",
       "      <td>7285.0</td>\n",
       "      <td>25.000000</td>\n",
       "      <td>1000000</td>\n",
       "      <td>Everyone</td>\n",
       "      <td>Entertainment</td>\n",
       "      <td>5.0</td>\n",
       "      <td>1</td>\n",
       "    </tr>\n",
       "    <tr>\n",
       "      <th>10350</th>\n",
       "      <td>FitOn - Free Fitness Workouts &amp; Personalized P...</td>\n",
       "      <td>HEALTH_AND_FITNESS</td>\n",
       "      <td>4.7</td>\n",
       "      <td>7648.0</td>\n",
       "      <td>42.000000</td>\n",
       "      <td>1000000</td>\n",
       "      <td>Everyone</td>\n",
       "      <td>Health &amp; Fitness</td>\n",
       "      <td>12.0</td>\n",
       "      <td>1</td>\n",
       "    </tr>\n",
       "  </tbody>\n",
       "</table>\n",
       "<p>10351 rows × 10 columns</p>\n",
       "</div>"
      ],
      "text/plain": [
       "                                                     App             Category  \\\n",
       "0         Photo Editor & Candy Camera & Grid & ScrapBook       ART_AND_DESIGN   \n",
       "1                                    Coloring book moana       ART_AND_DESIGN   \n",
       "2      U Launcher Lite – FREE Live Cool Themes, Hide ...       ART_AND_DESIGN   \n",
       "3                                  Sketch - Draw & Paint       ART_AND_DESIGN   \n",
       "4                  Pixel Draw - Number Art Coloring Book       ART_AND_DESIGN   \n",
       "...                                                  ...                  ...   \n",
       "10346               Mathway: Scan Photos, Solve Problems            EDUCATION   \n",
       "10347     Avast Antivirus – Scan & Remove Virus, Cleaner                TOOLS   \n",
       "10348                     Wattpad - Read & Write Stories  BOOKS_AND_REFERENCE   \n",
       "10349    MotorTrend: Stream Roadkill, Top Gear, and more        ENTERTAINMENT   \n",
       "10350  FitOn - Free Fitness Workouts & Personalized P...   HEALTH_AND_FITNESS   \n",
       "\n",
       "       Rating    Reviews       Size   Installs Content Rating  \\\n",
       "0         4.1      159.0  19.000000      10000       Everyone   \n",
       "1         3.9      967.0  14.000000     500000       Everyone   \n",
       "2         4.7    87510.0   8.700000    5000000       Everyone   \n",
       "3         4.5   215644.0  25.000000   50000000           Teen   \n",
       "4         4.3      967.0   2.800000     100000       Everyone   \n",
       "...       ...        ...        ...        ...            ...   \n",
       "10346     4.6   105363.0  31.000000   10000000       Everyone   \n",
       "10347     4.7   165252.0  34.000000  100000000       Everyone   \n",
       "10348     3.9  1406630.0  34.215013  100000000           Teen   \n",
       "10349     4.4     7285.0  25.000000    1000000       Everyone   \n",
       "10350     4.7     7648.0  42.000000    1000000       Everyone   \n",
       "\n",
       "                          Genres  Month  is_free  \n",
       "0                   Art & Design    1.0        1  \n",
       "1      Art & Design;Pretend Play    1.0        1  \n",
       "2                   Art & Design    8.0        1  \n",
       "3                   Art & Design    6.0        1  \n",
       "4        Art & Design;Creativity    6.0        1  \n",
       "...                          ...    ...      ...  \n",
       "10346                  Education    2.0        1  \n",
       "10347                      Tools   12.0        1  \n",
       "10348          Books & Reference    3.0        1  \n",
       "10349              Entertainment    5.0        1  \n",
       "10350           Health & Fitness   12.0        1  \n",
       "\n",
       "[10351 rows x 10 columns]"
      ]
     },
     "execution_count": 4,
     "metadata": {},
     "output_type": "execute_result"
    }
   ],
   "source": [
    "df.drop(['Unnamed: 0'], axis=1, inplace=True)\n",
    "df.reset_index(drop=True)"
   ]
  },
  {
   "cell_type": "code",
   "execution_count": 5,
   "metadata": {
    "ExecuteTime": {
     "end_time": "2021-04-13T03:25:57.359541Z",
     "start_time": "2021-04-13T03:25:57.345495Z"
    }
   },
   "outputs": [],
   "source": [
    "# fig, axes = plt.subplots(nrows=5, ncols=2, figsize=(16,15), sharey=True)\n",
    "\n",
    "# for ax, column in zip(axes.flatten(), df.columns):\n",
    "#     ax.scatter(df[column], df['Rating'] / 1_000_000, label=column, alpha=.1)\n",
    "#     ax.set_title(f'Rating vs {column}')\n",
    "#     ax.set_xlabel(column)\n",
    "#     ax.set_ylabel('Rating in $1,000,000')\n",
    "\n",
    "# fig.tight_layout()"
   ]
  },
  {
   "cell_type": "markdown",
   "metadata": {},
   "source": [
    "Clearly, the data needs a lot of preprocessing to improve the results. Here you can see the relationship between 'Rating' and the independent variables. We can see what variables are continuous(Reviews, Size, and Installs) and categorical(Category, Content Rating, and Month)."
   ]
  },
  {
   "cell_type": "code",
   "execution_count": 6,
   "metadata": {
    "ExecuteTime": {
     "end_time": "2021-04-13T03:25:59.376251Z",
     "start_time": "2021-04-13T03:25:59.367220Z"
    }
   },
   "outputs": [],
   "source": [
    "df['Month'] = df['Month'].astype('object')"
   ]
  },
  {
   "cell_type": "code",
   "execution_count": 7,
   "metadata": {
    "ExecuteTime": {
     "end_time": "2021-04-13T03:26:00.724562Z",
     "start_time": "2021-04-13T03:26:00.704497Z"
    }
   },
   "outputs": [
    {
     "name": "stdout",
     "output_type": "stream",
     "text": [
      "<class 'pandas.core.frame.DataFrame'>\n",
      "RangeIndex: 10351 entries, 0 to 10350\n",
      "Data columns (total 10 columns):\n",
      " #   Column          Non-Null Count  Dtype  \n",
      "---  ------          --------------  -----  \n",
      " 0   App             10351 non-null  object \n",
      " 1   Category        10351 non-null  object \n",
      " 2   Rating          10351 non-null  float64\n",
      " 3   Reviews         10351 non-null  float64\n",
      " 4   Size            10351 non-null  float64\n",
      " 5   Installs        10351 non-null  int64  \n",
      " 6   Content Rating  10351 non-null  object \n",
      " 7   Genres          10351 non-null  object \n",
      " 8   Month           10351 non-null  object \n",
      " 9   is_free         10351 non-null  int64  \n",
      "dtypes: float64(3), int64(2), object(5)\n",
      "memory usage: 808.8+ KB\n"
     ]
    }
   ],
   "source": [
    "df.info()"
   ]
  },
  {
   "cell_type": "code",
   "execution_count": 8,
   "metadata": {
    "ExecuteTime": {
     "end_time": "2021-04-13T03:26:13.279322Z",
     "start_time": "2021-04-13T03:26:12.681349Z"
    }
   },
   "outputs": [],
   "source": [
    "from sklearn import preprocessing\n",
    "le = preprocessing.LabelEncoder()\n",
    "df['Content Rating'] = le.fit_transform(df['Content Rating'])\n",
    "\n",
    "le = preprocessing.LabelEncoder()\n",
    "df['Genres'] = le.fit_transform(df['Genres'])\n",
    "\n",
    "le = preprocessing.LabelEncoder()\n",
    "df['App'] = le.fit_transform(df['App'])\n",
    "\n",
    "df = pd.concat([df, pd.get_dummies(df[['Category', 'Month']], prefix=('cat', 'Month'), drop_first=True)], axis=1)\n",
    "# df = df.drop(columns=['cat_0'], axis=1)"
   ]
  },
  {
   "cell_type": "code",
   "execution_count": 9,
   "metadata": {
    "ExecuteTime": {
     "end_time": "2021-04-13T03:26:14.460880Z",
     "start_time": "2021-04-13T03:26:14.447838Z"
    }
   },
   "outputs": [],
   "source": [
    "df.drop(columns=['Category', 'Month'], axis = 1, inplace=True)"
   ]
  },
  {
   "cell_type": "code",
   "execution_count": 10,
   "metadata": {
    "ExecuteTime": {
     "end_time": "2021-04-13T03:26:32.929493Z",
     "start_time": "2021-04-13T03:26:32.923474Z"
    }
   },
   "outputs": [],
   "source": [
    "df.columns = df.columns.str.replace(' ', '_').str.replace('+','').str.replace('.','_')"
   ]
  },
  {
   "cell_type": "markdown",
   "metadata": {},
   "source": [
    "# Linear Regression Model"
   ]
  },
  {
   "cell_type": "code",
   "execution_count": 11,
   "metadata": {
    "ExecuteTime": {
     "end_time": "2021-04-13T03:26:39.521615Z",
     "start_time": "2021-04-13T03:26:39.507569Z"
    }
   },
   "outputs": [],
   "source": [
    "model_df = df.copy()"
   ]
  },
  {
   "cell_type": "code",
   "execution_count": 12,
   "metadata": {
    "ExecuteTime": {
     "end_time": "2021-04-13T03:26:40.794946Z",
     "start_time": "2021-04-13T03:26:40.725717Z"
    }
   },
   "outputs": [
    {
     "data": {
      "text/html": [
       "<div>\n",
       "<style scoped>\n",
       "    .dataframe tbody tr th:only-of-type {\n",
       "        vertical-align: middle;\n",
       "    }\n",
       "\n",
       "    .dataframe tbody tr th {\n",
       "        vertical-align: top;\n",
       "    }\n",
       "\n",
       "    .dataframe thead th {\n",
       "        text-align: right;\n",
       "    }\n",
       "</style>\n",
       "<table border=\"1\" class=\"dataframe\">\n",
       "  <thead>\n",
       "    <tr style=\"text-align: right;\">\n",
       "      <th></th>\n",
       "      <th>App</th>\n",
       "      <th>Rating</th>\n",
       "      <th>Reviews</th>\n",
       "      <th>Size</th>\n",
       "      <th>Installs</th>\n",
       "      <th>Content_Rating</th>\n",
       "      <th>Genres</th>\n",
       "      <th>is_free</th>\n",
       "      <th>cat_AUTO_AND_VEHICLES</th>\n",
       "      <th>cat_BEAUTY</th>\n",
       "      <th>cat_BOOKS_AND_REFERENCE</th>\n",
       "      <th>cat_BUSINESS</th>\n",
       "      <th>cat_COMICS</th>\n",
       "      <th>cat_COMMUNICATION</th>\n",
       "      <th>cat_DATING</th>\n",
       "      <th>cat_EDUCATION</th>\n",
       "      <th>cat_ENTERTAINMENT</th>\n",
       "      <th>cat_EVENTS</th>\n",
       "      <th>cat_FAMILY</th>\n",
       "      <th>cat_FINANCE</th>\n",
       "      <th>cat_FOOD_AND_DRINK</th>\n",
       "      <th>cat_GAME</th>\n",
       "      <th>cat_GAME_ACTION</th>\n",
       "      <th>cat_GAME_ADVENTURE</th>\n",
       "      <th>cat_GAME_ARCADE</th>\n",
       "      <th>cat_GAME_BOARD</th>\n",
       "      <th>cat_GAME_CARD</th>\n",
       "      <th>cat_GAME_CASINO</th>\n",
       "      <th>cat_GAME_CASUAL</th>\n",
       "      <th>cat_GAME_EDUCATIONAL</th>\n",
       "      <th>cat_GAME_MUSIC</th>\n",
       "      <th>cat_GAME_PUZZLE</th>\n",
       "      <th>cat_GAME_RACING</th>\n",
       "      <th>cat_GAME_ROLE_PLAYING</th>\n",
       "      <th>cat_GAME_SIMULATION</th>\n",
       "      <th>cat_GAME_SPORTS</th>\n",
       "      <th>cat_GAME_STRATEGY</th>\n",
       "      <th>cat_GAME_TRIVIA</th>\n",
       "      <th>cat_GAME_WORD</th>\n",
       "      <th>cat_HEALTH_AND_FITNESS</th>\n",
       "      <th>cat_HOUSE_AND_HOME</th>\n",
       "      <th>cat_LIBRARIES_AND_DEMO</th>\n",
       "      <th>cat_LIFESTYLE</th>\n",
       "      <th>cat_MAPS_AND_NAVIGATION</th>\n",
       "      <th>cat_MEDICAL</th>\n",
       "      <th>cat_MUSIC_AND_AUDIO</th>\n",
       "      <th>cat_NEWS_AND_MAGAZINES</th>\n",
       "      <th>cat_PARENTING</th>\n",
       "      <th>cat_PERSONALIZATION</th>\n",
       "      <th>cat_PHOTOGRAPHY</th>\n",
       "      <th>cat_PRODUCTIVITY</th>\n",
       "      <th>cat_SHOPPING</th>\n",
       "      <th>cat_SOCIAL</th>\n",
       "      <th>cat_SPORTS</th>\n",
       "      <th>cat_TOOLS</th>\n",
       "      <th>cat_TRAVEL_AND_LOCAL</th>\n",
       "      <th>cat_VIDEO_PLAYERS</th>\n",
       "      <th>cat_WEATHER</th>\n",
       "      <th>Month_2_0</th>\n",
       "      <th>Month_3_0</th>\n",
       "      <th>Month_4_0</th>\n",
       "      <th>Month_5_0</th>\n",
       "      <th>Month_6_0</th>\n",
       "      <th>Month_7_0</th>\n",
       "      <th>Month_8_0</th>\n",
       "      <th>Month_9_0</th>\n",
       "      <th>Month_10_0</th>\n",
       "      <th>Month_11_0</th>\n",
       "      <th>Month_12_0</th>\n",
       "    </tr>\n",
       "  </thead>\n",
       "  <tbody>\n",
       "    <tr>\n",
       "      <th>0</th>\n",
       "      <td>7397</td>\n",
       "      <td>4.1</td>\n",
       "      <td>159.0</td>\n",
       "      <td>19.000000</td>\n",
       "      <td>10000</td>\n",
       "      <td>1</td>\n",
       "      <td>9</td>\n",
       "      <td>1</td>\n",
       "      <td>0</td>\n",
       "      <td>0</td>\n",
       "      <td>0</td>\n",
       "      <td>0</td>\n",
       "      <td>0</td>\n",
       "      <td>0</td>\n",
       "      <td>0</td>\n",
       "      <td>0</td>\n",
       "      <td>0</td>\n",
       "      <td>0</td>\n",
       "      <td>0</td>\n",
       "      <td>0</td>\n",
       "      <td>0</td>\n",
       "      <td>0</td>\n",
       "      <td>0</td>\n",
       "      <td>0</td>\n",
       "      <td>0</td>\n",
       "      <td>0</td>\n",
       "      <td>0</td>\n",
       "      <td>0</td>\n",
       "      <td>0</td>\n",
       "      <td>0</td>\n",
       "      <td>0</td>\n",
       "      <td>0</td>\n",
       "      <td>0</td>\n",
       "      <td>0</td>\n",
       "      <td>0</td>\n",
       "      <td>0</td>\n",
       "      <td>0</td>\n",
       "      <td>0</td>\n",
       "      <td>0</td>\n",
       "      <td>0</td>\n",
       "      <td>0</td>\n",
       "      <td>0</td>\n",
       "      <td>0</td>\n",
       "      <td>0</td>\n",
       "      <td>0</td>\n",
       "      <td>0</td>\n",
       "      <td>0</td>\n",
       "      <td>0</td>\n",
       "      <td>0</td>\n",
       "      <td>0</td>\n",
       "      <td>0</td>\n",
       "      <td>0</td>\n",
       "      <td>0</td>\n",
       "      <td>0</td>\n",
       "      <td>0</td>\n",
       "      <td>0</td>\n",
       "      <td>0</td>\n",
       "      <td>0</td>\n",
       "      <td>0</td>\n",
       "      <td>0</td>\n",
       "      <td>0</td>\n",
       "      <td>0</td>\n",
       "      <td>0</td>\n",
       "      <td>0</td>\n",
       "      <td>0</td>\n",
       "      <td>0</td>\n",
       "      <td>0</td>\n",
       "      <td>0</td>\n",
       "      <td>0</td>\n",
       "    </tr>\n",
       "    <tr>\n",
       "      <th>1</th>\n",
       "      <td>2737</td>\n",
       "      <td>3.9</td>\n",
       "      <td>967.0</td>\n",
       "      <td>14.000000</td>\n",
       "      <td>500000</td>\n",
       "      <td>1</td>\n",
       "      <td>12</td>\n",
       "      <td>1</td>\n",
       "      <td>0</td>\n",
       "      <td>0</td>\n",
       "      <td>0</td>\n",
       "      <td>0</td>\n",
       "      <td>0</td>\n",
       "      <td>0</td>\n",
       "      <td>0</td>\n",
       "      <td>0</td>\n",
       "      <td>0</td>\n",
       "      <td>0</td>\n",
       "      <td>0</td>\n",
       "      <td>0</td>\n",
       "      <td>0</td>\n",
       "      <td>0</td>\n",
       "      <td>0</td>\n",
       "      <td>0</td>\n",
       "      <td>0</td>\n",
       "      <td>0</td>\n",
       "      <td>0</td>\n",
       "      <td>0</td>\n",
       "      <td>0</td>\n",
       "      <td>0</td>\n",
       "      <td>0</td>\n",
       "      <td>0</td>\n",
       "      <td>0</td>\n",
       "      <td>0</td>\n",
       "      <td>0</td>\n",
       "      <td>0</td>\n",
       "      <td>0</td>\n",
       "      <td>0</td>\n",
       "      <td>0</td>\n",
       "      <td>0</td>\n",
       "      <td>0</td>\n",
       "      <td>0</td>\n",
       "      <td>0</td>\n",
       "      <td>0</td>\n",
       "      <td>0</td>\n",
       "      <td>0</td>\n",
       "      <td>0</td>\n",
       "      <td>0</td>\n",
       "      <td>0</td>\n",
       "      <td>0</td>\n",
       "      <td>0</td>\n",
       "      <td>0</td>\n",
       "      <td>0</td>\n",
       "      <td>0</td>\n",
       "      <td>0</td>\n",
       "      <td>0</td>\n",
       "      <td>0</td>\n",
       "      <td>0</td>\n",
       "      <td>0</td>\n",
       "      <td>0</td>\n",
       "      <td>0</td>\n",
       "      <td>0</td>\n",
       "      <td>0</td>\n",
       "      <td>0</td>\n",
       "      <td>0</td>\n",
       "      <td>0</td>\n",
       "      <td>0</td>\n",
       "      <td>0</td>\n",
       "      <td>0</td>\n",
       "    </tr>\n",
       "    <tr>\n",
       "      <th>2</th>\n",
       "      <td>9270</td>\n",
       "      <td>4.7</td>\n",
       "      <td>87510.0</td>\n",
       "      <td>8.700000</td>\n",
       "      <td>5000000</td>\n",
       "      <td>1</td>\n",
       "      <td>9</td>\n",
       "      <td>1</td>\n",
       "      <td>0</td>\n",
       "      <td>0</td>\n",
       "      <td>0</td>\n",
       "      <td>0</td>\n",
       "      <td>0</td>\n",
       "      <td>0</td>\n",
       "      <td>0</td>\n",
       "      <td>0</td>\n",
       "      <td>0</td>\n",
       "      <td>0</td>\n",
       "      <td>0</td>\n",
       "      <td>0</td>\n",
       "      <td>0</td>\n",
       "      <td>0</td>\n",
       "      <td>0</td>\n",
       "      <td>0</td>\n",
       "      <td>0</td>\n",
       "      <td>0</td>\n",
       "      <td>0</td>\n",
       "      <td>0</td>\n",
       "      <td>0</td>\n",
       "      <td>0</td>\n",
       "      <td>0</td>\n",
       "      <td>0</td>\n",
       "      <td>0</td>\n",
       "      <td>0</td>\n",
       "      <td>0</td>\n",
       "      <td>0</td>\n",
       "      <td>0</td>\n",
       "      <td>0</td>\n",
       "      <td>0</td>\n",
       "      <td>0</td>\n",
       "      <td>0</td>\n",
       "      <td>0</td>\n",
       "      <td>0</td>\n",
       "      <td>0</td>\n",
       "      <td>0</td>\n",
       "      <td>0</td>\n",
       "      <td>0</td>\n",
       "      <td>0</td>\n",
       "      <td>0</td>\n",
       "      <td>0</td>\n",
       "      <td>0</td>\n",
       "      <td>0</td>\n",
       "      <td>0</td>\n",
       "      <td>0</td>\n",
       "      <td>0</td>\n",
       "      <td>0</td>\n",
       "      <td>0</td>\n",
       "      <td>0</td>\n",
       "      <td>0</td>\n",
       "      <td>0</td>\n",
       "      <td>0</td>\n",
       "      <td>0</td>\n",
       "      <td>0</td>\n",
       "      <td>0</td>\n",
       "      <td>1</td>\n",
       "      <td>0</td>\n",
       "      <td>0</td>\n",
       "      <td>0</td>\n",
       "      <td>0</td>\n",
       "    </tr>\n",
       "    <tr>\n",
       "      <th>3</th>\n",
       "      <td>8340</td>\n",
       "      <td>4.5</td>\n",
       "      <td>215644.0</td>\n",
       "      <td>25.000000</td>\n",
       "      <td>50000000</td>\n",
       "      <td>4</td>\n",
       "      <td>9</td>\n",
       "      <td>1</td>\n",
       "      <td>0</td>\n",
       "      <td>0</td>\n",
       "      <td>0</td>\n",
       "      <td>0</td>\n",
       "      <td>0</td>\n",
       "      <td>0</td>\n",
       "      <td>0</td>\n",
       "      <td>0</td>\n",
       "      <td>0</td>\n",
       "      <td>0</td>\n",
       "      <td>0</td>\n",
       "      <td>0</td>\n",
       "      <td>0</td>\n",
       "      <td>0</td>\n",
       "      <td>0</td>\n",
       "      <td>0</td>\n",
       "      <td>0</td>\n",
       "      <td>0</td>\n",
       "      <td>0</td>\n",
       "      <td>0</td>\n",
       "      <td>0</td>\n",
       "      <td>0</td>\n",
       "      <td>0</td>\n",
       "      <td>0</td>\n",
       "      <td>0</td>\n",
       "      <td>0</td>\n",
       "      <td>0</td>\n",
       "      <td>0</td>\n",
       "      <td>0</td>\n",
       "      <td>0</td>\n",
       "      <td>0</td>\n",
       "      <td>0</td>\n",
       "      <td>0</td>\n",
       "      <td>0</td>\n",
       "      <td>0</td>\n",
       "      <td>0</td>\n",
       "      <td>0</td>\n",
       "      <td>0</td>\n",
       "      <td>0</td>\n",
       "      <td>0</td>\n",
       "      <td>0</td>\n",
       "      <td>0</td>\n",
       "      <td>0</td>\n",
       "      <td>0</td>\n",
       "      <td>0</td>\n",
       "      <td>0</td>\n",
       "      <td>0</td>\n",
       "      <td>0</td>\n",
       "      <td>0</td>\n",
       "      <td>0</td>\n",
       "      <td>0</td>\n",
       "      <td>0</td>\n",
       "      <td>0</td>\n",
       "      <td>0</td>\n",
       "      <td>1</td>\n",
       "      <td>0</td>\n",
       "      <td>0</td>\n",
       "      <td>0</td>\n",
       "      <td>0</td>\n",
       "      <td>0</td>\n",
       "      <td>0</td>\n",
       "    </tr>\n",
       "    <tr>\n",
       "      <th>4</th>\n",
       "      <td>7464</td>\n",
       "      <td>4.3</td>\n",
       "      <td>967.0</td>\n",
       "      <td>2.800000</td>\n",
       "      <td>100000</td>\n",
       "      <td>1</td>\n",
       "      <td>11</td>\n",
       "      <td>1</td>\n",
       "      <td>0</td>\n",
       "      <td>0</td>\n",
       "      <td>0</td>\n",
       "      <td>0</td>\n",
       "      <td>0</td>\n",
       "      <td>0</td>\n",
       "      <td>0</td>\n",
       "      <td>0</td>\n",
       "      <td>0</td>\n",
       "      <td>0</td>\n",
       "      <td>0</td>\n",
       "      <td>0</td>\n",
       "      <td>0</td>\n",
       "      <td>0</td>\n",
       "      <td>0</td>\n",
       "      <td>0</td>\n",
       "      <td>0</td>\n",
       "      <td>0</td>\n",
       "      <td>0</td>\n",
       "      <td>0</td>\n",
       "      <td>0</td>\n",
       "      <td>0</td>\n",
       "      <td>0</td>\n",
       "      <td>0</td>\n",
       "      <td>0</td>\n",
       "      <td>0</td>\n",
       "      <td>0</td>\n",
       "      <td>0</td>\n",
       "      <td>0</td>\n",
       "      <td>0</td>\n",
       "      <td>0</td>\n",
       "      <td>0</td>\n",
       "      <td>0</td>\n",
       "      <td>0</td>\n",
       "      <td>0</td>\n",
       "      <td>0</td>\n",
       "      <td>0</td>\n",
       "      <td>0</td>\n",
       "      <td>0</td>\n",
       "      <td>0</td>\n",
       "      <td>0</td>\n",
       "      <td>0</td>\n",
       "      <td>0</td>\n",
       "      <td>0</td>\n",
       "      <td>0</td>\n",
       "      <td>0</td>\n",
       "      <td>0</td>\n",
       "      <td>0</td>\n",
       "      <td>0</td>\n",
       "      <td>0</td>\n",
       "      <td>0</td>\n",
       "      <td>0</td>\n",
       "      <td>0</td>\n",
       "      <td>0</td>\n",
       "      <td>1</td>\n",
       "      <td>0</td>\n",
       "      <td>0</td>\n",
       "      <td>0</td>\n",
       "      <td>0</td>\n",
       "      <td>0</td>\n",
       "      <td>0</td>\n",
       "    </tr>\n",
       "    <tr>\n",
       "      <th>...</th>\n",
       "      <td>...</td>\n",
       "      <td>...</td>\n",
       "      <td>...</td>\n",
       "      <td>...</td>\n",
       "      <td>...</td>\n",
       "      <td>...</td>\n",
       "      <td>...</td>\n",
       "      <td>...</td>\n",
       "      <td>...</td>\n",
       "      <td>...</td>\n",
       "      <td>...</td>\n",
       "      <td>...</td>\n",
       "      <td>...</td>\n",
       "      <td>...</td>\n",
       "      <td>...</td>\n",
       "      <td>...</td>\n",
       "      <td>...</td>\n",
       "      <td>...</td>\n",
       "      <td>...</td>\n",
       "      <td>...</td>\n",
       "      <td>...</td>\n",
       "      <td>...</td>\n",
       "      <td>...</td>\n",
       "      <td>...</td>\n",
       "      <td>...</td>\n",
       "      <td>...</td>\n",
       "      <td>...</td>\n",
       "      <td>...</td>\n",
       "      <td>...</td>\n",
       "      <td>...</td>\n",
       "      <td>...</td>\n",
       "      <td>...</td>\n",
       "      <td>...</td>\n",
       "      <td>...</td>\n",
       "      <td>...</td>\n",
       "      <td>...</td>\n",
       "      <td>...</td>\n",
       "      <td>...</td>\n",
       "      <td>...</td>\n",
       "      <td>...</td>\n",
       "      <td>...</td>\n",
       "      <td>...</td>\n",
       "      <td>...</td>\n",
       "      <td>...</td>\n",
       "      <td>...</td>\n",
       "      <td>...</td>\n",
       "      <td>...</td>\n",
       "      <td>...</td>\n",
       "      <td>...</td>\n",
       "      <td>...</td>\n",
       "      <td>...</td>\n",
       "      <td>...</td>\n",
       "      <td>...</td>\n",
       "      <td>...</td>\n",
       "      <td>...</td>\n",
       "      <td>...</td>\n",
       "      <td>...</td>\n",
       "      <td>...</td>\n",
       "      <td>...</td>\n",
       "      <td>...</td>\n",
       "      <td>...</td>\n",
       "      <td>...</td>\n",
       "      <td>...</td>\n",
       "      <td>...</td>\n",
       "      <td>...</td>\n",
       "      <td>...</td>\n",
       "      <td>...</td>\n",
       "      <td>...</td>\n",
       "      <td>...</td>\n",
       "    </tr>\n",
       "    <tr>\n",
       "      <th>10346</th>\n",
       "      <td>6426</td>\n",
       "      <td>4.6</td>\n",
       "      <td>105363.0</td>\n",
       "      <td>31.000000</td>\n",
       "      <td>10000000</td>\n",
       "      <td>1</td>\n",
       "      <td>38</td>\n",
       "      <td>1</td>\n",
       "      <td>0</td>\n",
       "      <td>0</td>\n",
       "      <td>0</td>\n",
       "      <td>0</td>\n",
       "      <td>0</td>\n",
       "      <td>0</td>\n",
       "      <td>0</td>\n",
       "      <td>1</td>\n",
       "      <td>0</td>\n",
       "      <td>0</td>\n",
       "      <td>0</td>\n",
       "      <td>0</td>\n",
       "      <td>0</td>\n",
       "      <td>0</td>\n",
       "      <td>0</td>\n",
       "      <td>0</td>\n",
       "      <td>0</td>\n",
       "      <td>0</td>\n",
       "      <td>0</td>\n",
       "      <td>0</td>\n",
       "      <td>0</td>\n",
       "      <td>0</td>\n",
       "      <td>0</td>\n",
       "      <td>0</td>\n",
       "      <td>0</td>\n",
       "      <td>0</td>\n",
       "      <td>0</td>\n",
       "      <td>0</td>\n",
       "      <td>0</td>\n",
       "      <td>0</td>\n",
       "      <td>0</td>\n",
       "      <td>0</td>\n",
       "      <td>0</td>\n",
       "      <td>0</td>\n",
       "      <td>0</td>\n",
       "      <td>0</td>\n",
       "      <td>0</td>\n",
       "      <td>0</td>\n",
       "      <td>0</td>\n",
       "      <td>0</td>\n",
       "      <td>0</td>\n",
       "      <td>0</td>\n",
       "      <td>0</td>\n",
       "      <td>0</td>\n",
       "      <td>0</td>\n",
       "      <td>0</td>\n",
       "      <td>0</td>\n",
       "      <td>0</td>\n",
       "      <td>0</td>\n",
       "      <td>0</td>\n",
       "      <td>1</td>\n",
       "      <td>0</td>\n",
       "      <td>0</td>\n",
       "      <td>0</td>\n",
       "      <td>0</td>\n",
       "      <td>0</td>\n",
       "      <td>0</td>\n",
       "      <td>0</td>\n",
       "      <td>0</td>\n",
       "      <td>0</td>\n",
       "      <td>0</td>\n",
       "    </tr>\n",
       "    <tr>\n",
       "      <th>10347</th>\n",
       "      <td>907</td>\n",
       "      <td>4.7</td>\n",
       "      <td>165252.0</td>\n",
       "      <td>34.000000</td>\n",
       "      <td>100000000</td>\n",
       "      <td>1</td>\n",
       "      <td>109</td>\n",
       "      <td>1</td>\n",
       "      <td>0</td>\n",
       "      <td>0</td>\n",
       "      <td>0</td>\n",
       "      <td>0</td>\n",
       "      <td>0</td>\n",
       "      <td>0</td>\n",
       "      <td>0</td>\n",
       "      <td>0</td>\n",
       "      <td>0</td>\n",
       "      <td>0</td>\n",
       "      <td>0</td>\n",
       "      <td>0</td>\n",
       "      <td>0</td>\n",
       "      <td>0</td>\n",
       "      <td>0</td>\n",
       "      <td>0</td>\n",
       "      <td>0</td>\n",
       "      <td>0</td>\n",
       "      <td>0</td>\n",
       "      <td>0</td>\n",
       "      <td>0</td>\n",
       "      <td>0</td>\n",
       "      <td>0</td>\n",
       "      <td>0</td>\n",
       "      <td>0</td>\n",
       "      <td>0</td>\n",
       "      <td>0</td>\n",
       "      <td>0</td>\n",
       "      <td>0</td>\n",
       "      <td>0</td>\n",
       "      <td>0</td>\n",
       "      <td>0</td>\n",
       "      <td>0</td>\n",
       "      <td>0</td>\n",
       "      <td>0</td>\n",
       "      <td>0</td>\n",
       "      <td>0</td>\n",
       "      <td>0</td>\n",
       "      <td>0</td>\n",
       "      <td>0</td>\n",
       "      <td>0</td>\n",
       "      <td>0</td>\n",
       "      <td>0</td>\n",
       "      <td>0</td>\n",
       "      <td>0</td>\n",
       "      <td>0</td>\n",
       "      <td>1</td>\n",
       "      <td>0</td>\n",
       "      <td>0</td>\n",
       "      <td>0</td>\n",
       "      <td>0</td>\n",
       "      <td>0</td>\n",
       "      <td>0</td>\n",
       "      <td>0</td>\n",
       "      <td>0</td>\n",
       "      <td>0</td>\n",
       "      <td>0</td>\n",
       "      <td>0</td>\n",
       "      <td>0</td>\n",
       "      <td>0</td>\n",
       "      <td>1</td>\n",
       "    </tr>\n",
       "    <tr>\n",
       "      <th>10348</th>\n",
       "      <td>9623</td>\n",
       "      <td>3.9</td>\n",
       "      <td>1406630.0</td>\n",
       "      <td>34.215013</td>\n",
       "      <td>100000000</td>\n",
       "      <td>4</td>\n",
       "      <td>19</td>\n",
       "      <td>1</td>\n",
       "      <td>0</td>\n",
       "      <td>0</td>\n",
       "      <td>1</td>\n",
       "      <td>0</td>\n",
       "      <td>0</td>\n",
       "      <td>0</td>\n",
       "      <td>0</td>\n",
       "      <td>0</td>\n",
       "      <td>0</td>\n",
       "      <td>0</td>\n",
       "      <td>0</td>\n",
       "      <td>0</td>\n",
       "      <td>0</td>\n",
       "      <td>0</td>\n",
       "      <td>0</td>\n",
       "      <td>0</td>\n",
       "      <td>0</td>\n",
       "      <td>0</td>\n",
       "      <td>0</td>\n",
       "      <td>0</td>\n",
       "      <td>0</td>\n",
       "      <td>0</td>\n",
       "      <td>0</td>\n",
       "      <td>0</td>\n",
       "      <td>0</td>\n",
       "      <td>0</td>\n",
       "      <td>0</td>\n",
       "      <td>0</td>\n",
       "      <td>0</td>\n",
       "      <td>0</td>\n",
       "      <td>0</td>\n",
       "      <td>0</td>\n",
       "      <td>0</td>\n",
       "      <td>0</td>\n",
       "      <td>0</td>\n",
       "      <td>0</td>\n",
       "      <td>0</td>\n",
       "      <td>0</td>\n",
       "      <td>0</td>\n",
       "      <td>0</td>\n",
       "      <td>0</td>\n",
       "      <td>0</td>\n",
       "      <td>0</td>\n",
       "      <td>0</td>\n",
       "      <td>0</td>\n",
       "      <td>0</td>\n",
       "      <td>0</td>\n",
       "      <td>0</td>\n",
       "      <td>0</td>\n",
       "      <td>0</td>\n",
       "      <td>0</td>\n",
       "      <td>1</td>\n",
       "      <td>0</td>\n",
       "      <td>0</td>\n",
       "      <td>0</td>\n",
       "      <td>0</td>\n",
       "      <td>0</td>\n",
       "      <td>0</td>\n",
       "      <td>0</td>\n",
       "      <td>0</td>\n",
       "      <td>0</td>\n",
       "    </tr>\n",
       "    <tr>\n",
       "      <th>10349</th>\n",
       "      <td>6685</td>\n",
       "      <td>4.4</td>\n",
       "      <td>7285.0</td>\n",
       "      <td>25.000000</td>\n",
       "      <td>1000000</td>\n",
       "      <td>1</td>\n",
       "      <td>51</td>\n",
       "      <td>1</td>\n",
       "      <td>0</td>\n",
       "      <td>0</td>\n",
       "      <td>0</td>\n",
       "      <td>0</td>\n",
       "      <td>0</td>\n",
       "      <td>0</td>\n",
       "      <td>0</td>\n",
       "      <td>0</td>\n",
       "      <td>1</td>\n",
       "      <td>0</td>\n",
       "      <td>0</td>\n",
       "      <td>0</td>\n",
       "      <td>0</td>\n",
       "      <td>0</td>\n",
       "      <td>0</td>\n",
       "      <td>0</td>\n",
       "      <td>0</td>\n",
       "      <td>0</td>\n",
       "      <td>0</td>\n",
       "      <td>0</td>\n",
       "      <td>0</td>\n",
       "      <td>0</td>\n",
       "      <td>0</td>\n",
       "      <td>0</td>\n",
       "      <td>0</td>\n",
       "      <td>0</td>\n",
       "      <td>0</td>\n",
       "      <td>0</td>\n",
       "      <td>0</td>\n",
       "      <td>0</td>\n",
       "      <td>0</td>\n",
       "      <td>0</td>\n",
       "      <td>0</td>\n",
       "      <td>0</td>\n",
       "      <td>0</td>\n",
       "      <td>0</td>\n",
       "      <td>0</td>\n",
       "      <td>0</td>\n",
       "      <td>0</td>\n",
       "      <td>0</td>\n",
       "      <td>0</td>\n",
       "      <td>0</td>\n",
       "      <td>0</td>\n",
       "      <td>0</td>\n",
       "      <td>0</td>\n",
       "      <td>0</td>\n",
       "      <td>0</td>\n",
       "      <td>0</td>\n",
       "      <td>0</td>\n",
       "      <td>0</td>\n",
       "      <td>0</td>\n",
       "      <td>0</td>\n",
       "      <td>0</td>\n",
       "      <td>1</td>\n",
       "      <td>0</td>\n",
       "      <td>0</td>\n",
       "      <td>0</td>\n",
       "      <td>0</td>\n",
       "      <td>0</td>\n",
       "      <td>0</td>\n",
       "      <td>0</td>\n",
       "    </tr>\n",
       "    <tr>\n",
       "      <th>10350</th>\n",
       "      <td>4662</td>\n",
       "      <td>4.7</td>\n",
       "      <td>7648.0</td>\n",
       "      <td>42.000000</td>\n",
       "      <td>1000000</td>\n",
       "      <td>1</td>\n",
       "      <td>62</td>\n",
       "      <td>1</td>\n",
       "      <td>0</td>\n",
       "      <td>0</td>\n",
       "      <td>0</td>\n",
       "      <td>0</td>\n",
       "      <td>0</td>\n",
       "      <td>0</td>\n",
       "      <td>0</td>\n",
       "      <td>0</td>\n",
       "      <td>0</td>\n",
       "      <td>0</td>\n",
       "      <td>0</td>\n",
       "      <td>0</td>\n",
       "      <td>0</td>\n",
       "      <td>0</td>\n",
       "      <td>0</td>\n",
       "      <td>0</td>\n",
       "      <td>0</td>\n",
       "      <td>0</td>\n",
       "      <td>0</td>\n",
       "      <td>0</td>\n",
       "      <td>0</td>\n",
       "      <td>0</td>\n",
       "      <td>0</td>\n",
       "      <td>0</td>\n",
       "      <td>0</td>\n",
       "      <td>0</td>\n",
       "      <td>0</td>\n",
       "      <td>0</td>\n",
       "      <td>0</td>\n",
       "      <td>0</td>\n",
       "      <td>0</td>\n",
       "      <td>1</td>\n",
       "      <td>0</td>\n",
       "      <td>0</td>\n",
       "      <td>0</td>\n",
       "      <td>0</td>\n",
       "      <td>0</td>\n",
       "      <td>0</td>\n",
       "      <td>0</td>\n",
       "      <td>0</td>\n",
       "      <td>0</td>\n",
       "      <td>0</td>\n",
       "      <td>0</td>\n",
       "      <td>0</td>\n",
       "      <td>0</td>\n",
       "      <td>0</td>\n",
       "      <td>0</td>\n",
       "      <td>0</td>\n",
       "      <td>0</td>\n",
       "      <td>0</td>\n",
       "      <td>0</td>\n",
       "      <td>0</td>\n",
       "      <td>0</td>\n",
       "      <td>0</td>\n",
       "      <td>0</td>\n",
       "      <td>0</td>\n",
       "      <td>0</td>\n",
       "      <td>0</td>\n",
       "      <td>0</td>\n",
       "      <td>0</td>\n",
       "      <td>1</td>\n",
       "    </tr>\n",
       "  </tbody>\n",
       "</table>\n",
       "<p>10351 rows × 69 columns</p>\n",
       "</div>"
      ],
      "text/plain": [
       "        App  Rating    Reviews       Size   Installs  Content_Rating  Genres  \\\n",
       "0      7397     4.1      159.0  19.000000      10000               1       9   \n",
       "1      2737     3.9      967.0  14.000000     500000               1      12   \n",
       "2      9270     4.7    87510.0   8.700000    5000000               1       9   \n",
       "3      8340     4.5   215644.0  25.000000   50000000               4       9   \n",
       "4      7464     4.3      967.0   2.800000     100000               1      11   \n",
       "...     ...     ...        ...        ...        ...             ...     ...   \n",
       "10346  6426     4.6   105363.0  31.000000   10000000               1      38   \n",
       "10347   907     4.7   165252.0  34.000000  100000000               1     109   \n",
       "10348  9623     3.9  1406630.0  34.215013  100000000               4      19   \n",
       "10349  6685     4.4     7285.0  25.000000    1000000               1      51   \n",
       "10350  4662     4.7     7648.0  42.000000    1000000               1      62   \n",
       "\n",
       "       is_free  cat_AUTO_AND_VEHICLES  cat_BEAUTY  cat_BOOKS_AND_REFERENCE  \\\n",
       "0            1                      0           0                        0   \n",
       "1            1                      0           0                        0   \n",
       "2            1                      0           0                        0   \n",
       "3            1                      0           0                        0   \n",
       "4            1                      0           0                        0   \n",
       "...        ...                    ...         ...                      ...   \n",
       "10346        1                      0           0                        0   \n",
       "10347        1                      0           0                        0   \n",
       "10348        1                      0           0                        1   \n",
       "10349        1                      0           0                        0   \n",
       "10350        1                      0           0                        0   \n",
       "\n",
       "       cat_BUSINESS  cat_COMICS  cat_COMMUNICATION  cat_DATING  cat_EDUCATION  \\\n",
       "0                 0           0                  0           0              0   \n",
       "1                 0           0                  0           0              0   \n",
       "2                 0           0                  0           0              0   \n",
       "3                 0           0                  0           0              0   \n",
       "4                 0           0                  0           0              0   \n",
       "...             ...         ...                ...         ...            ...   \n",
       "10346             0           0                  0           0              1   \n",
       "10347             0           0                  0           0              0   \n",
       "10348             0           0                  0           0              0   \n",
       "10349             0           0                  0           0              0   \n",
       "10350             0           0                  0           0              0   \n",
       "\n",
       "       cat_ENTERTAINMENT  cat_EVENTS  cat_FAMILY  cat_FINANCE  \\\n",
       "0                      0           0           0            0   \n",
       "1                      0           0           0            0   \n",
       "2                      0           0           0            0   \n",
       "3                      0           0           0            0   \n",
       "4                      0           0           0            0   \n",
       "...                  ...         ...         ...          ...   \n",
       "10346                  0           0           0            0   \n",
       "10347                  0           0           0            0   \n",
       "10348                  0           0           0            0   \n",
       "10349                  1           0           0            0   \n",
       "10350                  0           0           0            0   \n",
       "\n",
       "       cat_FOOD_AND_DRINK  cat_GAME  cat_GAME_ACTION  cat_GAME_ADVENTURE  \\\n",
       "0                       0         0                0                   0   \n",
       "1                       0         0                0                   0   \n",
       "2                       0         0                0                   0   \n",
       "3                       0         0                0                   0   \n",
       "4                       0         0                0                   0   \n",
       "...                   ...       ...              ...                 ...   \n",
       "10346                   0         0                0                   0   \n",
       "10347                   0         0                0                   0   \n",
       "10348                   0         0                0                   0   \n",
       "10349                   0         0                0                   0   \n",
       "10350                   0         0                0                   0   \n",
       "\n",
       "       cat_GAME_ARCADE  cat_GAME_BOARD  cat_GAME_CARD  cat_GAME_CASINO  \\\n",
       "0                    0               0              0                0   \n",
       "1                    0               0              0                0   \n",
       "2                    0               0              0                0   \n",
       "3                    0               0              0                0   \n",
       "4                    0               0              0                0   \n",
       "...                ...             ...            ...              ...   \n",
       "10346                0               0              0                0   \n",
       "10347                0               0              0                0   \n",
       "10348                0               0              0                0   \n",
       "10349                0               0              0                0   \n",
       "10350                0               0              0                0   \n",
       "\n",
       "       cat_GAME_CASUAL  cat_GAME_EDUCATIONAL  cat_GAME_MUSIC  cat_GAME_PUZZLE  \\\n",
       "0                    0                     0               0                0   \n",
       "1                    0                     0               0                0   \n",
       "2                    0                     0               0                0   \n",
       "3                    0                     0               0                0   \n",
       "4                    0                     0               0                0   \n",
       "...                ...                   ...             ...              ...   \n",
       "10346                0                     0               0                0   \n",
       "10347                0                     0               0                0   \n",
       "10348                0                     0               0                0   \n",
       "10349                0                     0               0                0   \n",
       "10350                0                     0               0                0   \n",
       "\n",
       "       cat_GAME_RACING  cat_GAME_ROLE_PLAYING  cat_GAME_SIMULATION  \\\n",
       "0                    0                      0                    0   \n",
       "1                    0                      0                    0   \n",
       "2                    0                      0                    0   \n",
       "3                    0                      0                    0   \n",
       "4                    0                      0                    0   \n",
       "...                ...                    ...                  ...   \n",
       "10346                0                      0                    0   \n",
       "10347                0                      0                    0   \n",
       "10348                0                      0                    0   \n",
       "10349                0                      0                    0   \n",
       "10350                0                      0                    0   \n",
       "\n",
       "       cat_GAME_SPORTS  cat_GAME_STRATEGY  cat_GAME_TRIVIA  cat_GAME_WORD  \\\n",
       "0                    0                  0                0              0   \n",
       "1                    0                  0                0              0   \n",
       "2                    0                  0                0              0   \n",
       "3                    0                  0                0              0   \n",
       "4                    0                  0                0              0   \n",
       "...                ...                ...              ...            ...   \n",
       "10346                0                  0                0              0   \n",
       "10347                0                  0                0              0   \n",
       "10348                0                  0                0              0   \n",
       "10349                0                  0                0              0   \n",
       "10350                0                  0                0              0   \n",
       "\n",
       "       cat_HEALTH_AND_FITNESS  cat_HOUSE_AND_HOME  cat_LIBRARIES_AND_DEMO  \\\n",
       "0                           0                   0                       0   \n",
       "1                           0                   0                       0   \n",
       "2                           0                   0                       0   \n",
       "3                           0                   0                       0   \n",
       "4                           0                   0                       0   \n",
       "...                       ...                 ...                     ...   \n",
       "10346                       0                   0                       0   \n",
       "10347                       0                   0                       0   \n",
       "10348                       0                   0                       0   \n",
       "10349                       0                   0                       0   \n",
       "10350                       1                   0                       0   \n",
       "\n",
       "       cat_LIFESTYLE  cat_MAPS_AND_NAVIGATION  cat_MEDICAL  \\\n",
       "0                  0                        0            0   \n",
       "1                  0                        0            0   \n",
       "2                  0                        0            0   \n",
       "3                  0                        0            0   \n",
       "4                  0                        0            0   \n",
       "...              ...                      ...          ...   \n",
       "10346              0                        0            0   \n",
       "10347              0                        0            0   \n",
       "10348              0                        0            0   \n",
       "10349              0                        0            0   \n",
       "10350              0                        0            0   \n",
       "\n",
       "       cat_MUSIC_AND_AUDIO  cat_NEWS_AND_MAGAZINES  cat_PARENTING  \\\n",
       "0                        0                       0              0   \n",
       "1                        0                       0              0   \n",
       "2                        0                       0              0   \n",
       "3                        0                       0              0   \n",
       "4                        0                       0              0   \n",
       "...                    ...                     ...            ...   \n",
       "10346                    0                       0              0   \n",
       "10347                    0                       0              0   \n",
       "10348                    0                       0              0   \n",
       "10349                    0                       0              0   \n",
       "10350                    0                       0              0   \n",
       "\n",
       "       cat_PERSONALIZATION  cat_PHOTOGRAPHY  cat_PRODUCTIVITY  cat_SHOPPING  \\\n",
       "0                        0                0                 0             0   \n",
       "1                        0                0                 0             0   \n",
       "2                        0                0                 0             0   \n",
       "3                        0                0                 0             0   \n",
       "4                        0                0                 0             0   \n",
       "...                    ...              ...               ...           ...   \n",
       "10346                    0                0                 0             0   \n",
       "10347                    0                0                 0             0   \n",
       "10348                    0                0                 0             0   \n",
       "10349                    0                0                 0             0   \n",
       "10350                    0                0                 0             0   \n",
       "\n",
       "       cat_SOCIAL  cat_SPORTS  cat_TOOLS  cat_TRAVEL_AND_LOCAL  \\\n",
       "0               0           0          0                     0   \n",
       "1               0           0          0                     0   \n",
       "2               0           0          0                     0   \n",
       "3               0           0          0                     0   \n",
       "4               0           0          0                     0   \n",
       "...           ...         ...        ...                   ...   \n",
       "10346           0           0          0                     0   \n",
       "10347           0           0          1                     0   \n",
       "10348           0           0          0                     0   \n",
       "10349           0           0          0                     0   \n",
       "10350           0           0          0                     0   \n",
       "\n",
       "       cat_VIDEO_PLAYERS  cat_WEATHER  Month_2_0  Month_3_0  Month_4_0  \\\n",
       "0                      0            0          0          0          0   \n",
       "1                      0            0          0          0          0   \n",
       "2                      0            0          0          0          0   \n",
       "3                      0            0          0          0          0   \n",
       "4                      0            0          0          0          0   \n",
       "...                  ...          ...        ...        ...        ...   \n",
       "10346                  0            0          1          0          0   \n",
       "10347                  0            0          0          0          0   \n",
       "10348                  0            0          0          1          0   \n",
       "10349                  0            0          0          0          0   \n",
       "10350                  0            0          0          0          0   \n",
       "\n",
       "       Month_5_0  Month_6_0  Month_7_0  Month_8_0  Month_9_0  Month_10_0  \\\n",
       "0              0          0          0          0          0           0   \n",
       "1              0          0          0          0          0           0   \n",
       "2              0          0          0          1          0           0   \n",
       "3              0          1          0          0          0           0   \n",
       "4              0          1          0          0          0           0   \n",
       "...          ...        ...        ...        ...        ...         ...   \n",
       "10346          0          0          0          0          0           0   \n",
       "10347          0          0          0          0          0           0   \n",
       "10348          0          0          0          0          0           0   \n",
       "10349          1          0          0          0          0           0   \n",
       "10350          0          0          0          0          0           0   \n",
       "\n",
       "       Month_11_0  Month_12_0  \n",
       "0               0           0  \n",
       "1               0           0  \n",
       "2               0           0  \n",
       "3               0           0  \n",
       "4               0           0  \n",
       "...           ...         ...  \n",
       "10346           0           0  \n",
       "10347           0           1  \n",
       "10348           0           0  \n",
       "10349           0           0  \n",
       "10350           0           1  \n",
       "\n",
       "[10351 rows x 69 columns]"
      ]
     },
     "execution_count": 12,
     "metadata": {},
     "output_type": "execute_result"
    }
   ],
   "source": [
    "model_df"
   ]
  },
  {
   "cell_type": "code",
   "execution_count": 13,
   "metadata": {
    "ExecuteTime": {
     "end_time": "2021-04-13T03:26:46.674591Z",
     "start_time": "2021-04-13T03:26:46.405401Z"
    }
   },
   "outputs": [
    {
     "name": "stdout",
     "output_type": "stream",
     "text": [
      "List of predictors: App+Rating+Reviews+Size+Content_Rating+Genres+is_free+cat_AUTO_AND_VEHICLES+cat_BEAUTY+cat_BOOKS_AND_REFERENCE+cat_BUSINESS+cat_COMICS+cat_COMMUNICATION+cat_DATING+cat_EDUCATION+cat_ENTERTAINMENT+cat_EVENTS+cat_FAMILY+cat_FINANCE+cat_FOOD_AND_DRINK+cat_GAME+cat_GAME_ACTION+cat_GAME_ADVENTURE+cat_GAME_ARCADE+cat_GAME_BOARD+cat_GAME_CARD+cat_GAME_CASINO+cat_GAME_CASUAL+cat_GAME_EDUCATIONAL+cat_GAME_MUSIC+cat_GAME_PUZZLE+cat_GAME_RACING+cat_GAME_ROLE_PLAYING+cat_GAME_SIMULATION+cat_GAME_SPORTS+cat_GAME_STRATEGY+cat_GAME_TRIVIA+cat_GAME_WORD+cat_HEALTH_AND_FITNESS+cat_HOUSE_AND_HOME+cat_LIBRARIES_AND_DEMO+cat_LIFESTYLE+cat_MAPS_AND_NAVIGATION+cat_MEDICAL+cat_MUSIC_AND_AUDIO+cat_NEWS_AND_MAGAZINES+cat_PARENTING+cat_PERSONALIZATION+cat_PHOTOGRAPHY+cat_PRODUCTIVITY+cat_SHOPPING+cat_SOCIAL+cat_SPORTS+cat_TOOLS+cat_TRAVEL_AND_LOCAL+cat_VIDEO_PLAYERS+cat_WEATHER+Month_2_0+Month_3_0+Month_4_0+Month_5_0+Month_6_0+Month_7_0+Month_8_0+Month_9_0+Month_10_0+Month_11_0+Month_12_0\n"
     ]
    },
    {
     "data": {
      "text/html": [
       "<table class=\"simpletable\">\n",
       "<caption>OLS Regression Results</caption>\n",
       "<tr>\n",
       "  <th>Dep. Variable:</th>        <td>Installs</td>     <th>  R-squared:         </th>  <td>   0.381</td>  \n",
       "</tr>\n",
       "<tr>\n",
       "  <th>Model:</th>                   <td>OLS</td>       <th>  Adj. R-squared:    </th>  <td>   0.377</td>  \n",
       "</tr>\n",
       "<tr>\n",
       "  <th>Method:</th>             <td>Least Squares</td>  <th>  F-statistic:       </th>  <td>   93.01</td>  \n",
       "</tr>\n",
       "<tr>\n",
       "  <th>Date:</th>             <td>Mon, 12 Apr 2021</td> <th>  Prob (F-statistic):</th>   <td>  0.00</td>   \n",
       "</tr>\n",
       "<tr>\n",
       "  <th>Time:</th>                 <td>23:26:46</td>     <th>  Log-Likelihood:    </th> <td>-1.9656e+05</td>\n",
       "</tr>\n",
       "<tr>\n",
       "  <th>No. Observations:</th>      <td> 10351</td>      <th>  AIC:               </th>  <td>3.933e+05</td> \n",
       "</tr>\n",
       "<tr>\n",
       "  <th>Df Residuals:</th>          <td> 10282</td>      <th>  BIC:               </th>  <td>3.938e+05</td> \n",
       "</tr>\n",
       "<tr>\n",
       "  <th>Df Model:</th>              <td>    68</td>      <th>                     </th>      <td> </td>     \n",
       "</tr>\n",
       "<tr>\n",
       "  <th>Covariance Type:</th>      <td>nonrobust</td>    <th>                     </th>      <td> </td>     \n",
       "</tr>\n",
       "</table>\n",
       "<table class=\"simpletable\">\n",
       "<tr>\n",
       "             <td></td>                <th>coef</th>     <th>std err</th>      <th>t</th>      <th>P>|t|</th>  <th>[0.025</th>    <th>0.975]</th>  \n",
       "</tr>\n",
       "<tr>\n",
       "  <th>Intercept</th>               <td>-8.898e+06</td> <td> 6.87e+06</td> <td>   -1.295</td> <td> 0.195</td> <td>-2.24e+07</td> <td> 4.57e+06</td>\n",
       "</tr>\n",
       "<tr>\n",
       "  <th>App</th>                     <td>  369.0846</td> <td>  143.372</td> <td>    2.574</td> <td> 0.010</td> <td>   88.048</td> <td>  650.121</td>\n",
       "</tr>\n",
       "<tr>\n",
       "  <th>Rating</th>                  <td> 6.808e+05</td> <td> 8.56e+05</td> <td>    0.796</td> <td> 0.426</td> <td>-9.96e+05</td> <td> 2.36e+06</td>\n",
       "</tr>\n",
       "<tr>\n",
       "  <th>Reviews</th>                 <td>   17.3868</td> <td>    0.232</td> <td>   74.841</td> <td> 0.000</td> <td>   16.931</td> <td>   17.842</td>\n",
       "</tr>\n",
       "<tr>\n",
       "  <th>Size</th>                    <td> 1197.1839</td> <td> 4523.564</td> <td>    0.265</td> <td> 0.791</td> <td>-7669.883</td> <td> 1.01e+04</td>\n",
       "</tr>\n",
       "<tr>\n",
       "  <th>Content_Rating</th>          <td> 9.024e+05</td> <td> 4.78e+05</td> <td>    1.888</td> <td> 0.059</td> <td>-3.43e+04</td> <td> 1.84e+06</td>\n",
       "</tr>\n",
       "<tr>\n",
       "  <th>Genres</th>                  <td>-4.242e+04</td> <td> 2.57e+04</td> <td>   -1.653</td> <td> 0.098</td> <td>-9.27e+04</td> <td> 7879.104</td>\n",
       "</tr>\n",
       "<tr>\n",
       "  <th>is_free</th>                 <td> 5.199e+06</td> <td> 1.45e+06</td> <td>    3.578</td> <td> 0.000</td> <td> 2.35e+06</td> <td> 8.05e+06</td>\n",
       "</tr>\n",
       "<tr>\n",
       "  <th>cat_AUTO_AND_VEHICLES</th>   <td>-1.468e+06</td> <td> 6.95e+06</td> <td>   -0.211</td> <td> 0.833</td> <td>-1.51e+07</td> <td> 1.21e+07</td>\n",
       "</tr>\n",
       "<tr>\n",
       "  <th>cat_BEAUTY</th>              <td>-1.202e+06</td> <td> 7.89e+06</td> <td>   -0.152</td> <td> 0.879</td> <td>-1.67e+07</td> <td> 1.43e+07</td>\n",
       "</tr>\n",
       "<tr>\n",
       "  <th>cat_BOOKS_AND_REFERENCE</th> <td> 5.844e+06</td> <td> 5.93e+06</td> <td>    0.985</td> <td> 0.325</td> <td>-5.78e+06</td> <td> 1.75e+07</td>\n",
       "</tr>\n",
       "<tr>\n",
       "  <th>cat_BUSINESS</th>            <td> 9.896e+05</td> <td> 5.65e+06</td> <td>    0.175</td> <td> 0.861</td> <td>-1.01e+07</td> <td> 1.21e+07</td>\n",
       "</tr>\n",
       "<tr>\n",
       "  <th>cat_COMICS</th>              <td>-1.517e+06</td> <td> 7.55e+06</td> <td>   -0.201</td> <td> 0.841</td> <td>-1.63e+07</td> <td> 1.33e+07</td>\n",
       "</tr>\n",
       "<tr>\n",
       "  <th>cat_COMMUNICATION</th>       <td> 1.823e+07</td> <td>  5.8e+06</td> <td>    3.144</td> <td> 0.002</td> <td> 6.87e+06</td> <td> 2.96e+07</td>\n",
       "</tr>\n",
       "<tr>\n",
       "  <th>cat_DATING</th>              <td> -2.05e+06</td> <td> 6.24e+06</td> <td>   -0.329</td> <td> 0.742</td> <td>-1.43e+07</td> <td> 1.02e+07</td>\n",
       "</tr>\n",
       "<tr>\n",
       "  <th>cat_EDUCATION</th>           <td> 1.165e+06</td> <td> 6.35e+06</td> <td>    0.183</td> <td> 0.854</td> <td>-1.13e+07</td> <td> 1.36e+07</td>\n",
       "</tr>\n",
       "<tr>\n",
       "  <th>cat_ENTERTAINMENT</th>       <td> 1.012e+07</td> <td> 6.63e+06</td> <td>    1.527</td> <td> 0.127</td> <td>-2.87e+06</td> <td> 2.31e+07</td>\n",
       "</tr>\n",
       "<tr>\n",
       "  <th>cat_EVENTS</th>              <td>-3.997e+04</td> <td> 7.61e+06</td> <td>   -0.005</td> <td> 0.996</td> <td> -1.5e+07</td> <td> 1.49e+07</td>\n",
       "</tr>\n",
       "<tr>\n",
       "  <th>cat_FAMILY</th>              <td> 1.896e+06</td> <td> 5.48e+06</td> <td>    0.346</td> <td> 0.729</td> <td>-8.85e+06</td> <td> 1.26e+07</td>\n",
       "</tr>\n",
       "<tr>\n",
       "  <th>cat_FINANCE</th>             <td> 1.393e+06</td> <td> 5.88e+06</td> <td>    0.237</td> <td> 0.813</td> <td>-1.01e+07</td> <td> 1.29e+07</td>\n",
       "</tr>\n",
       "<tr>\n",
       "  <th>cat_FOOD_AND_DRINK</th>      <td> 4.737e+05</td> <td> 6.76e+06</td> <td>    0.070</td> <td> 0.944</td> <td>-1.28e+07</td> <td> 1.37e+07</td>\n",
       "</tr>\n",
       "<tr>\n",
       "  <th>cat_GAME</th>                <td> 1.627e+06</td> <td> 5.47e+06</td> <td>    0.297</td> <td> 0.766</td> <td> -9.1e+06</td> <td> 1.24e+07</td>\n",
       "</tr>\n",
       "<tr>\n",
       "  <th>cat_GAME_ACTION</th>         <td>-2.751e+06</td> <td> 8.81e+06</td> <td>   -0.312</td> <td> 0.755</td> <td>   -2e+07</td> <td> 1.45e+07</td>\n",
       "</tr>\n",
       "<tr>\n",
       "  <th>cat_GAME_ADVENTURE</th>      <td> 6.002e+06</td> <td>  9.2e+06</td> <td>    0.652</td> <td> 0.514</td> <td> -1.2e+07</td> <td>  2.4e+07</td>\n",
       "</tr>\n",
       "<tr>\n",
       "  <th>cat_GAME_ARCADE</th>         <td> 1.795e+07</td> <td> 1.06e+07</td> <td>    1.695</td> <td> 0.090</td> <td>-2.81e+06</td> <td> 3.87e+07</td>\n",
       "</tr>\n",
       "<tr>\n",
       "  <th>cat_GAME_BOARD</th>          <td> 3.661e+06</td> <td> 1.35e+07</td> <td>    0.271</td> <td> 0.786</td> <td>-2.28e+07</td> <td> 3.01e+07</td>\n",
       "</tr>\n",
       "<tr>\n",
       "  <th>cat_GAME_CARD</th>           <td> 6.411e+06</td> <td> 1.26e+07</td> <td>    0.507</td> <td> 0.612</td> <td>-1.84e+07</td> <td> 3.12e+07</td>\n",
       "</tr>\n",
       "<tr>\n",
       "  <th>cat_GAME_CASINO</th>         <td> 3.299e+06</td> <td> 8.99e+06</td> <td>    0.367</td> <td> 0.713</td> <td>-1.43e+07</td> <td> 2.09e+07</td>\n",
       "</tr>\n",
       "<tr>\n",
       "  <th>cat_GAME_CASUAL</th>         <td> 2.559e+07</td> <td> 1.17e+07</td> <td>    2.190</td> <td> 0.029</td> <td> 2.68e+06</td> <td> 4.85e+07</td>\n",
       "</tr>\n",
       "<tr>\n",
       "  <th>cat_GAME_EDUCATIONAL</th>    <td> 1.245e+07</td> <td> 1.31e+07</td> <td>    0.954</td> <td> 0.340</td> <td>-1.31e+07</td> <td>  3.8e+07</td>\n",
       "</tr>\n",
       "<tr>\n",
       "  <th>cat_GAME_MUSIC</th>          <td> 1.768e+07</td> <td> 1.71e+07</td> <td>    1.031</td> <td> 0.302</td> <td>-1.59e+07</td> <td> 5.13e+07</td>\n",
       "</tr>\n",
       "<tr>\n",
       "  <th>cat_GAME_PUZZLE</th>         <td> 1.735e+07</td> <td> 9.35e+06</td> <td>    1.855</td> <td> 0.064</td> <td>-9.81e+05</td> <td> 3.57e+07</td>\n",
       "</tr>\n",
       "<tr>\n",
       "  <th>cat_GAME_RACING</th>         <td> 2.496e+06</td> <td>    2e+07</td> <td>    0.125</td> <td> 0.901</td> <td>-3.68e+07</td> <td> 4.18e+07</td>\n",
       "</tr>\n",
       "<tr>\n",
       "  <th>cat_GAME_ROLE_PLAYING</th>   <td>  5.41e+06</td> <td> 9.12e+06</td> <td>    0.593</td> <td> 0.553</td> <td>-1.25e+07</td> <td> 2.33e+07</td>\n",
       "</tr>\n",
       "<tr>\n",
       "  <th>cat_GAME_SIMULATION</th>     <td> 9.997e+06</td> <td> 9.29e+06</td> <td>    1.076</td> <td> 0.282</td> <td>-8.21e+06</td> <td> 2.82e+07</td>\n",
       "</tr>\n",
       "<tr>\n",
       "  <th>cat_GAME_SPORTS</th>         <td> 5.762e+06</td> <td> 1.48e+07</td> <td>    0.390</td> <td> 0.696</td> <td>-2.32e+07</td> <td> 3.47e+07</td>\n",
       "</tr>\n",
       "<tr>\n",
       "  <th>cat_GAME_STRATEGY</th>       <td> 1.021e+07</td> <td> 8.21e+06</td> <td>    1.243</td> <td> 0.214</td> <td>-5.89e+06</td> <td> 2.63e+07</td>\n",
       "</tr>\n",
       "<tr>\n",
       "  <th>cat_GAME_TRIVIA</th>         <td> 8.023e+06</td> <td> 3.09e+07</td> <td>    0.259</td> <td> 0.795</td> <td>-5.26e+07</td> <td> 6.87e+07</td>\n",
       "</tr>\n",
       "<tr>\n",
       "  <th>cat_GAME_WORD</th>           <td> 1.104e+07</td> <td> 4.33e+07</td> <td>    0.255</td> <td> 0.799</td> <td>-7.39e+07</td> <td>  9.6e+07</td>\n",
       "</tr>\n",
       "<tr>\n",
       "  <th>cat_HEALTH_AND_FITNESS</th>  <td> 3.035e+06</td> <td> 5.95e+06</td> <td>    0.510</td> <td> 0.610</td> <td>-8.63e+06</td> <td> 1.47e+07</td>\n",
       "</tr>\n",
       "<tr>\n",
       "  <th>cat_HOUSE_AND_HOME</th>      <td>-3.272e+04</td> <td> 7.38e+06</td> <td>   -0.004</td> <td> 0.996</td> <td>-1.45e+07</td> <td> 1.44e+07</td>\n",
       "</tr>\n",
       "<tr>\n",
       "  <th>cat_LIBRARIES_AND_DEMO</th>  <td> 2.489e+06</td> <td> 7.22e+06</td> <td>    0.345</td> <td> 0.730</td> <td>-1.17e+07</td> <td> 1.66e+07</td>\n",
       "</tr>\n",
       "<tr>\n",
       "  <th>cat_LIFESTYLE</th>           <td> 2.253e+06</td> <td> 5.88e+06</td> <td>    0.383</td> <td> 0.702</td> <td>-9.28e+06</td> <td> 1.38e+07</td>\n",
       "</tr>\n",
       "<tr>\n",
       "  <th>cat_MAPS_AND_NAVIGATION</th> <td> 1.379e+06</td> <td> 6.61e+06</td> <td>    0.209</td> <td> 0.835</td> <td>-1.16e+07</td> <td> 1.43e+07</td>\n",
       "</tr>\n",
       "<tr>\n",
       "  <th>cat_MEDICAL</th>             <td> 2.117e+06</td> <td> 5.89e+06</td> <td>    0.359</td> <td> 0.719</td> <td>-9.43e+06</td> <td> 1.37e+07</td>\n",
       "</tr>\n",
       "<tr>\n",
       "  <th>cat_MUSIC_AND_AUDIO</th>     <td> 2.199e+07</td> <td> 1.24e+07</td> <td>    1.771</td> <td> 0.077</td> <td>-2.35e+06</td> <td> 4.63e+07</td>\n",
       "</tr>\n",
       "<tr>\n",
       "  <th>cat_NEWS_AND_MAGAZINES</th>  <td>  7.79e+06</td> <td> 6.14e+06</td> <td>    1.269</td> <td> 0.204</td> <td>-4.24e+06</td> <td> 1.98e+07</td>\n",
       "</tr>\n",
       "<tr>\n",
       "  <th>cat_PARENTING</th>           <td> 1.191e+06</td> <td> 7.83e+06</td> <td>    0.152</td> <td> 0.879</td> <td>-1.42e+07</td> <td> 1.65e+07</td>\n",
       "</tr>\n",
       "<tr>\n",
       "  <th>cat_PERSONALIZATION</th>     <td> 4.039e+06</td> <td> 5.97e+06</td> <td>    0.676</td> <td> 0.499</td> <td>-7.67e+06</td> <td> 1.57e+07</td>\n",
       "</tr>\n",
       "<tr>\n",
       "  <th>cat_PHOTOGRAPHY</th>         <td> 1.213e+07</td> <td>  6.1e+06</td> <td>    1.987</td> <td> 0.047</td> <td> 1.65e+05</td> <td> 2.41e+07</td>\n",
       "</tr>\n",
       "<tr>\n",
       "  <th>cat_PRODUCTIVITY</th>        <td> 1.956e+07</td> <td> 5.99e+06</td> <td>    3.268</td> <td> 0.001</td> <td> 7.83e+06</td> <td> 3.13e+07</td>\n",
       "</tr>\n",
       "<tr>\n",
       "  <th>cat_SHOPPING</th>            <td> 2.633e+06</td> <td> 6.46e+06</td> <td>    0.407</td> <td> 0.684</td> <td>   -1e+07</td> <td> 1.53e+07</td>\n",
       "</tr>\n",
       "<tr>\n",
       "  <th>cat_SOCIAL</th>              <td> 7.048e+06</td> <td> 6.39e+06</td> <td>    1.103</td> <td> 0.270</td> <td>-5.48e+06</td> <td> 1.96e+07</td>\n",
       "</tr>\n",
       "<tr>\n",
       "  <th>cat_SPORTS</th>              <td> 3.681e+06</td> <td> 6.23e+06</td> <td>    0.591</td> <td> 0.555</td> <td>-8.53e+06</td> <td> 1.59e+07</td>\n",
       "</tr>\n",
       "<tr>\n",
       "  <th>cat_TOOLS</th>               <td> 8.503e+06</td> <td> 6.02e+06</td> <td>    1.412</td> <td> 0.158</td> <td> -3.3e+06</td> <td> 2.03e+07</td>\n",
       "</tr>\n",
       "<tr>\n",
       "  <th>cat_TRAVEL_AND_LOCAL</th>    <td> 1.295e+07</td> <td> 6.53e+06</td> <td>    1.984</td> <td> 0.047</td> <td> 1.58e+05</td> <td> 2.57e+07</td>\n",
       "</tr>\n",
       "<tr>\n",
       "  <th>cat_VIDEO_PLAYERS</th>       <td> 1.902e+07</td> <td> 6.75e+06</td> <td>    2.817</td> <td> 0.005</td> <td> 5.79e+06</td> <td> 3.22e+07</td>\n",
       "</tr>\n",
       "<tr>\n",
       "  <th>cat_WEATHER</th>             <td> 3.293e+06</td> <td> 7.58e+06</td> <td>    0.434</td> <td> 0.664</td> <td>-1.16e+07</td> <td> 1.82e+07</td>\n",
       "</tr>\n",
       "<tr>\n",
       "  <th>Month_2_0</th>               <td>-2.408e+06</td> <td> 2.62e+06</td> <td>   -0.918</td> <td> 0.359</td> <td>-7.55e+06</td> <td> 2.73e+06</td>\n",
       "</tr>\n",
       "<tr>\n",
       "  <th>Month_3_0</th>               <td>-2.953e+06</td> <td> 2.48e+06</td> <td>   -1.190</td> <td> 0.234</td> <td>-7.82e+06</td> <td> 1.91e+06</td>\n",
       "</tr>\n",
       "<tr>\n",
       "  <th>Month_4_0</th>               <td>-1.842e+06</td> <td> 2.56e+06</td> <td>   -0.720</td> <td> 0.472</td> <td>-6.86e+06</td> <td> 3.17e+06</td>\n",
       "</tr>\n",
       "<tr>\n",
       "  <th>Month_5_0</th>               <td>-4.275e+05</td> <td> 2.34e+06</td> <td>   -0.182</td> <td> 0.855</td> <td>-5.02e+06</td> <td> 4.17e+06</td>\n",
       "</tr>\n",
       "<tr>\n",
       "  <th>Month_6_0</th>               <td>-2.137e+06</td> <td> 2.26e+06</td> <td>   -0.945</td> <td> 0.344</td> <td>-6.57e+06</td> <td> 2.29e+06</td>\n",
       "</tr>\n",
       "<tr>\n",
       "  <th>Month_7_0</th>               <td> 7.815e+05</td> <td> 2.08e+06</td> <td>    0.375</td> <td> 0.708</td> <td> -3.3e+06</td> <td> 4.87e+06</td>\n",
       "</tr>\n",
       "<tr>\n",
       "  <th>Month_8_0</th>               <td> 7.976e+06</td> <td> 2.25e+06</td> <td>    3.545</td> <td> 0.000</td> <td> 3.57e+06</td> <td> 1.24e+07</td>\n",
       "</tr>\n",
       "<tr>\n",
       "  <th>Month_9_0</th>               <td> -2.37e+06</td> <td> 2.96e+06</td> <td>   -0.801</td> <td> 0.423</td> <td>-8.17e+06</td> <td> 3.43e+06</td>\n",
       "</tr>\n",
       "<tr>\n",
       "  <th>Month_10_0</th>              <td>-2.631e+06</td> <td> 2.79e+06</td> <td>   -0.942</td> <td> 0.346</td> <td>-8.11e+06</td> <td> 2.84e+06</td>\n",
       "</tr>\n",
       "<tr>\n",
       "  <th>Month_11_0</th>              <td>-2.312e+06</td> <td> 2.78e+06</td> <td>   -0.830</td> <td> 0.406</td> <td>-7.77e+06</td> <td> 3.15e+06</td>\n",
       "</tr>\n",
       "<tr>\n",
       "  <th>Month_12_0</th>              <td>-2.158e+06</td> <td> 2.71e+06</td> <td>   -0.797</td> <td> 0.425</td> <td>-7.47e+06</td> <td> 3.15e+06</td>\n",
       "</tr>\n",
       "</table>\n",
       "<table class=\"simpletable\">\n",
       "<tr>\n",
       "  <th>Omnibus:</th>       <td>20276.882</td> <th>  Durbin-Watson:     </th>   <td>   1.824</td>  \n",
       "</tr>\n",
       "<tr>\n",
       "  <th>Prob(Omnibus):</th>  <td> 0.000</td>   <th>  Jarque-Bera (JB):  </th> <td>47442564.226</td>\n",
       "</tr>\n",
       "<tr>\n",
       "  <th>Skew:</th>           <td>15.679</td>   <th>  Prob(JB):          </th>   <td>    0.00</td>  \n",
       "</tr>\n",
       "<tr>\n",
       "  <th>Kurtosis:</th>       <td>333.178</td>  <th>  Cond. No.          </th>   <td>1.97e+08</td>  \n",
       "</tr>\n",
       "</table><br/><br/>Notes:<br/>[1] Standard Errors assume that the covariance matrix of the errors is correctly specified.<br/>[2] The condition number is large, 1.97e+08. This might indicate that there are<br/>strong multicollinearity or other numerical problems."
      ],
      "text/plain": [
       "<class 'statsmodels.iolib.summary.Summary'>\n",
       "\"\"\"\n",
       "                            OLS Regression Results                            \n",
       "==============================================================================\n",
       "Dep. Variable:               Installs   R-squared:                       0.381\n",
       "Model:                            OLS   Adj. R-squared:                  0.377\n",
       "Method:                 Least Squares   F-statistic:                     93.01\n",
       "Date:                Mon, 12 Apr 2021   Prob (F-statistic):               0.00\n",
       "Time:                        23:26:46   Log-Likelihood:            -1.9656e+05\n",
       "No. Observations:               10351   AIC:                         3.933e+05\n",
       "Df Residuals:                   10282   BIC:                         3.938e+05\n",
       "Df Model:                          68                                         \n",
       "Covariance Type:            nonrobust                                         \n",
       "===========================================================================================\n",
       "                              coef    std err          t      P>|t|      [0.025      0.975]\n",
       "-------------------------------------------------------------------------------------------\n",
       "Intercept               -8.898e+06   6.87e+06     -1.295      0.195   -2.24e+07    4.57e+06\n",
       "App                       369.0846    143.372      2.574      0.010      88.048     650.121\n",
       "Rating                   6.808e+05   8.56e+05      0.796      0.426   -9.96e+05    2.36e+06\n",
       "Reviews                    17.3868      0.232     74.841      0.000      16.931      17.842\n",
       "Size                     1197.1839   4523.564      0.265      0.791   -7669.883    1.01e+04\n",
       "Content_Rating           9.024e+05   4.78e+05      1.888      0.059   -3.43e+04    1.84e+06\n",
       "Genres                  -4.242e+04   2.57e+04     -1.653      0.098   -9.27e+04    7879.104\n",
       "is_free                  5.199e+06   1.45e+06      3.578      0.000    2.35e+06    8.05e+06\n",
       "cat_AUTO_AND_VEHICLES   -1.468e+06   6.95e+06     -0.211      0.833   -1.51e+07    1.21e+07\n",
       "cat_BEAUTY              -1.202e+06   7.89e+06     -0.152      0.879   -1.67e+07    1.43e+07\n",
       "cat_BOOKS_AND_REFERENCE  5.844e+06   5.93e+06      0.985      0.325   -5.78e+06    1.75e+07\n",
       "cat_BUSINESS             9.896e+05   5.65e+06      0.175      0.861   -1.01e+07    1.21e+07\n",
       "cat_COMICS              -1.517e+06   7.55e+06     -0.201      0.841   -1.63e+07    1.33e+07\n",
       "cat_COMMUNICATION        1.823e+07    5.8e+06      3.144      0.002    6.87e+06    2.96e+07\n",
       "cat_DATING               -2.05e+06   6.24e+06     -0.329      0.742   -1.43e+07    1.02e+07\n",
       "cat_EDUCATION            1.165e+06   6.35e+06      0.183      0.854   -1.13e+07    1.36e+07\n",
       "cat_ENTERTAINMENT        1.012e+07   6.63e+06      1.527      0.127   -2.87e+06    2.31e+07\n",
       "cat_EVENTS              -3.997e+04   7.61e+06     -0.005      0.996    -1.5e+07    1.49e+07\n",
       "cat_FAMILY               1.896e+06   5.48e+06      0.346      0.729   -8.85e+06    1.26e+07\n",
       "cat_FINANCE              1.393e+06   5.88e+06      0.237      0.813   -1.01e+07    1.29e+07\n",
       "cat_FOOD_AND_DRINK       4.737e+05   6.76e+06      0.070      0.944   -1.28e+07    1.37e+07\n",
       "cat_GAME                 1.627e+06   5.47e+06      0.297      0.766    -9.1e+06    1.24e+07\n",
       "cat_GAME_ACTION         -2.751e+06   8.81e+06     -0.312      0.755      -2e+07    1.45e+07\n",
       "cat_GAME_ADVENTURE       6.002e+06    9.2e+06      0.652      0.514    -1.2e+07     2.4e+07\n",
       "cat_GAME_ARCADE          1.795e+07   1.06e+07      1.695      0.090   -2.81e+06    3.87e+07\n",
       "cat_GAME_BOARD           3.661e+06   1.35e+07      0.271      0.786   -2.28e+07    3.01e+07\n",
       "cat_GAME_CARD            6.411e+06   1.26e+07      0.507      0.612   -1.84e+07    3.12e+07\n",
       "cat_GAME_CASINO          3.299e+06   8.99e+06      0.367      0.713   -1.43e+07    2.09e+07\n",
       "cat_GAME_CASUAL          2.559e+07   1.17e+07      2.190      0.029    2.68e+06    4.85e+07\n",
       "cat_GAME_EDUCATIONAL     1.245e+07   1.31e+07      0.954      0.340   -1.31e+07     3.8e+07\n",
       "cat_GAME_MUSIC           1.768e+07   1.71e+07      1.031      0.302   -1.59e+07    5.13e+07\n",
       "cat_GAME_PUZZLE          1.735e+07   9.35e+06      1.855      0.064   -9.81e+05    3.57e+07\n",
       "cat_GAME_RACING          2.496e+06      2e+07      0.125      0.901   -3.68e+07    4.18e+07\n",
       "cat_GAME_ROLE_PLAYING     5.41e+06   9.12e+06      0.593      0.553   -1.25e+07    2.33e+07\n",
       "cat_GAME_SIMULATION      9.997e+06   9.29e+06      1.076      0.282   -8.21e+06    2.82e+07\n",
       "cat_GAME_SPORTS          5.762e+06   1.48e+07      0.390      0.696   -2.32e+07    3.47e+07\n",
       "cat_GAME_STRATEGY        1.021e+07   8.21e+06      1.243      0.214   -5.89e+06    2.63e+07\n",
       "cat_GAME_TRIVIA          8.023e+06   3.09e+07      0.259      0.795   -5.26e+07    6.87e+07\n",
       "cat_GAME_WORD            1.104e+07   4.33e+07      0.255      0.799   -7.39e+07     9.6e+07\n",
       "cat_HEALTH_AND_FITNESS   3.035e+06   5.95e+06      0.510      0.610   -8.63e+06    1.47e+07\n",
       "cat_HOUSE_AND_HOME      -3.272e+04   7.38e+06     -0.004      0.996   -1.45e+07    1.44e+07\n",
       "cat_LIBRARIES_AND_DEMO   2.489e+06   7.22e+06      0.345      0.730   -1.17e+07    1.66e+07\n",
       "cat_LIFESTYLE            2.253e+06   5.88e+06      0.383      0.702   -9.28e+06    1.38e+07\n",
       "cat_MAPS_AND_NAVIGATION  1.379e+06   6.61e+06      0.209      0.835   -1.16e+07    1.43e+07\n",
       "cat_MEDICAL              2.117e+06   5.89e+06      0.359      0.719   -9.43e+06    1.37e+07\n",
       "cat_MUSIC_AND_AUDIO      2.199e+07   1.24e+07      1.771      0.077   -2.35e+06    4.63e+07\n",
       "cat_NEWS_AND_MAGAZINES    7.79e+06   6.14e+06      1.269      0.204   -4.24e+06    1.98e+07\n",
       "cat_PARENTING            1.191e+06   7.83e+06      0.152      0.879   -1.42e+07    1.65e+07\n",
       "cat_PERSONALIZATION      4.039e+06   5.97e+06      0.676      0.499   -7.67e+06    1.57e+07\n",
       "cat_PHOTOGRAPHY          1.213e+07    6.1e+06      1.987      0.047    1.65e+05    2.41e+07\n",
       "cat_PRODUCTIVITY         1.956e+07   5.99e+06      3.268      0.001    7.83e+06    3.13e+07\n",
       "cat_SHOPPING             2.633e+06   6.46e+06      0.407      0.684      -1e+07    1.53e+07\n",
       "cat_SOCIAL               7.048e+06   6.39e+06      1.103      0.270   -5.48e+06    1.96e+07\n",
       "cat_SPORTS               3.681e+06   6.23e+06      0.591      0.555   -8.53e+06    1.59e+07\n",
       "cat_TOOLS                8.503e+06   6.02e+06      1.412      0.158    -3.3e+06    2.03e+07\n",
       "cat_TRAVEL_AND_LOCAL     1.295e+07   6.53e+06      1.984      0.047    1.58e+05    2.57e+07\n",
       "cat_VIDEO_PLAYERS        1.902e+07   6.75e+06      2.817      0.005    5.79e+06    3.22e+07\n",
       "cat_WEATHER              3.293e+06   7.58e+06      0.434      0.664   -1.16e+07    1.82e+07\n",
       "Month_2_0               -2.408e+06   2.62e+06     -0.918      0.359   -7.55e+06    2.73e+06\n",
       "Month_3_0               -2.953e+06   2.48e+06     -1.190      0.234   -7.82e+06    1.91e+06\n",
       "Month_4_0               -1.842e+06   2.56e+06     -0.720      0.472   -6.86e+06    3.17e+06\n",
       "Month_5_0               -4.275e+05   2.34e+06     -0.182      0.855   -5.02e+06    4.17e+06\n",
       "Month_6_0               -2.137e+06   2.26e+06     -0.945      0.344   -6.57e+06    2.29e+06\n",
       "Month_7_0                7.815e+05   2.08e+06      0.375      0.708    -3.3e+06    4.87e+06\n",
       "Month_8_0                7.976e+06   2.25e+06      3.545      0.000    3.57e+06    1.24e+07\n",
       "Month_9_0                -2.37e+06   2.96e+06     -0.801      0.423   -8.17e+06    3.43e+06\n",
       "Month_10_0              -2.631e+06   2.79e+06     -0.942      0.346   -8.11e+06    2.84e+06\n",
       "Month_11_0              -2.312e+06   2.78e+06     -0.830      0.406   -7.77e+06    3.15e+06\n",
       "Month_12_0              -2.158e+06   2.71e+06     -0.797      0.425   -7.47e+06    3.15e+06\n",
       "==============================================================================\n",
       "Omnibus:                    20276.882   Durbin-Watson:                   1.824\n",
       "Prob(Omnibus):                  0.000   Jarque-Bera (JB):         47442564.226\n",
       "Skew:                          15.679   Prob(JB):                         0.00\n",
       "Kurtosis:                     333.178   Cond. No.                     1.97e+08\n",
       "==============================================================================\n",
       "\n",
       "Notes:\n",
       "[1] Standard Errors assume that the covariance matrix of the errors is correctly specified.\n",
       "[2] The condition number is large, 1.97e+08. This might indicate that there are\n",
       "strong multicollinearity or other numerical problems.\n",
       "\"\"\""
      ]
     },
     "metadata": {},
     "output_type": "display_data"
    }
   ],
   "source": [
    "outcome = 'Installs'\n",
    "predictors = model_df.drop(labels=['Installs'], axis=1)\n",
    "pred_sum = '+'.join(predictors.columns)\n",
    "f = outcome + '~' + pred_sum\n",
    "model = ols(f, model_df).fit()\n",
    "print(f'List of predictors: {pred_sum}')\n",
    "display(model.summary())"
   ]
  },
  {
   "cell_type": "code",
   "execution_count": 14,
   "metadata": {
    "ExecuteTime": {
     "end_time": "2021-04-13T03:26:50.943977Z",
     "start_time": "2021-04-13T03:26:50.933946Z"
    }
   },
   "outputs": [],
   "source": [
    "y = model_df['Installs']\n",
    "X = model_df.drop(labels=['Installs'], axis=1)"
   ]
  },
  {
   "cell_type": "code",
   "execution_count": 15,
   "metadata": {
    "ExecuteTime": {
     "end_time": "2021-04-13T03:26:51.923430Z",
     "start_time": "2021-04-13T03:26:51.870258Z"
    }
   },
   "outputs": [],
   "source": [
    "from sklearn.model_selection import train_test_split\n",
    "X_train, X_test, y_train, y_test = train_test_split(X, y, test_size=.25, random_state=42)"
   ]
  },
  {
   "cell_type": "code",
   "execution_count": 16,
   "metadata": {
    "ExecuteTime": {
     "end_time": "2021-04-13T03:26:53.964716Z",
     "start_time": "2021-04-13T03:26:53.862379Z"
    }
   },
   "outputs": [
    {
     "data": {
      "text/plain": [
       "LinearRegression()"
      ]
     },
     "execution_count": 16,
     "metadata": {},
     "output_type": "execute_result"
    }
   ],
   "source": [
    "from sklearn.linear_model import LinearRegression\n",
    "mlr = LinearRegression()\n",
    "mlr.fit(X_train,y_train)"
   ]
  },
  {
   "cell_type": "code",
   "execution_count": 17,
   "metadata": {
    "ExecuteTime": {
     "end_time": "2021-04-13T03:27:35.622473Z",
     "start_time": "2021-04-13T03:27:35.613444Z"
    }
   },
   "outputs": [
    {
     "data": {
      "text/plain": [
       "'Accuracy: 27.76%'"
      ]
     },
     "execution_count": 17,
     "metadata": {},
     "output_type": "execute_result"
    }
   ],
   "source": [
    "accuracy = mlr.score(X_test,y_test)\n",
    "'Accuracy: ' + str(np.round(accuracy*100, 2)) + '%'"
   ]
  },
  {
   "cell_type": "code",
   "execution_count": 18,
   "metadata": {
    "ExecuteTime": {
     "end_time": "2021-04-13T03:27:38.009649Z",
     "start_time": "2021-04-13T03:27:37.995603Z"
    },
    "scrolled": true
   },
   "outputs": [
    {
     "name": "stdout",
     "output_type": "stream",
     "text": [
      "MAE: 10628935.67669546\n",
      "Test Mean Squared Error: 3759478568321263.0\n",
      "Root Mean Squared Error Test: 61314586.913076915\n"
     ]
    }
   ],
   "source": [
    "from sklearn import metrics\n",
    "from sklearn.metrics import accuracy_score, mean_squared_error,mean_absolute_error,r2_score\n",
    "\n",
    "y_hat_test = mlr.predict(X_test)\n",
    "\n",
    "test_residuals = y_hat_test - y_test\n",
    "\n",
    "mse_test = mean_squared_error(y_test, y_hat_test)\n",
    "rmse_test = np.sqrt(mse_test)\n",
    "\n",
    "print('MAE:', mean_absolute_error(y_test, y_hat_test))\n",
    "print('Test Mean Squared Error:', mse_test)\n",
    "print('Root Mean Squared Error Test:', rmse_test)"
   ]
  },
  {
   "cell_type": "code",
   "execution_count": 19,
   "metadata": {
    "ExecuteTime": {
     "end_time": "2021-04-13T03:27:43.834189Z",
     "start_time": "2021-04-13T03:27:43.557273Z"
    }
   },
   "outputs": [
    {
     "data": {
      "image/png": "[encoded data removed]",
      "text/plain": [
       "<Figure size 432x288 with 1 Axes>"
      ]
     },
     "metadata": {
      "needs_background": "light"
     },
     "output_type": "display_data"
    }
   ],
   "source": [
    "import scipy.stats as stats\n",
    "residuals = model.resid\n",
    "fig = sm.graphics.qqplot(residuals, dist=stats.norm, line='45', fit=True)"
   ]
  },
  {
   "cell_type": "markdown",
   "metadata": {},
   "source": [
    "## KNeighbors Regression"
   ]
  },
  {
   "cell_type": "code",
   "execution_count": 20,
   "metadata": {
    "ExecuteTime": {
     "end_time": "2021-04-13T03:27:49.017114Z",
     "start_time": "2021-04-13T03:27:48.956918Z"
    }
   },
   "outputs": [],
   "source": [
    "from sklearn.neighbors import KNeighborsRegressor"
   ]
  },
  {
   "cell_type": "code",
   "execution_count": 21,
   "metadata": {
    "ExecuteTime": {
     "end_time": "2021-04-13T03:27:50.681702Z",
     "start_time": "2021-04-13T03:27:50.500103Z"
    }
   },
   "outputs": [
    {
     "data": {
      "text/plain": [
       "KNeighborsRegressor()"
      ]
     },
     "execution_count": 21,
     "metadata": {},
     "output_type": "execute_result"
    }
   ],
   "source": [
    "knn = KNeighborsRegressor()\n",
    "knn.fit(X_train,y_train)"
   ]
  },
  {
   "cell_type": "code",
   "execution_count": 22,
   "metadata": {
    "ExecuteTime": {
     "end_time": "2021-04-13T03:28:18.273577Z",
     "start_time": "2021-04-13T03:28:04.167081Z"
    },
    "scrolled": true
   },
   "outputs": [
    {
     "data": {
      "text/plain": [
       "[<matplotlib.lines.Line2D at 0x1fefc113bb0>]"
      ]
     },
     "execution_count": 22,
     "metadata": {},
     "output_type": "execute_result"
    },
    {
     "data": {
      "image/png": "[encoded data removed]",
      "text/plain": [
       "<Figure size 504x360 with 1 Axes>"
      ]
     },
     "metadata": {
      "needs_background": "light"
     },
     "output_type": "display_data"
    }
   ],
   "source": [
    "n_neighbors = np.arange(1, 50, 1)\n",
    "scores = []\n",
    "for n in n_neighbors:\n",
    "    knn.set_params(n_neighbors=n)\n",
    "    knn.fit(X_train, y_train)\n",
    "    scores.append(knn.score(X_test, y_test))\n",
    "plt.figure(figsize=(7, 5))\n",
    "plt.title(\"Effect of Estimators\")\n",
    "plt.xlabel(\"Number of Neighbors K\")\n",
    "plt.ylabel(\"Score\")\n",
    "plt.plot(n_neighbors, scores)"
   ]
  },
  {
   "cell_type": "code",
   "execution_count": 23,
   "metadata": {
    "ExecuteTime": {
     "end_time": "2021-04-13T03:28:23.354645Z",
     "start_time": "2021-04-13T03:28:23.344613Z"
    }
   },
   "outputs": [
    {
     "name": "stdout",
     "output_type": "stream",
     "text": [
      "max accuracy is:  0.35838758951126115\n",
      "K value to achieve this result:  12\n"
     ]
    }
   ],
   "source": [
    "print(\"max accuracy is: \", max(scores))\n",
    "print(\"K value to achieve this result: \", n_neighbors[scores.index(max(scores))])"
   ]
  },
  {
   "cell_type": "code",
   "execution_count": 24,
   "metadata": {
    "ExecuteTime": {
     "end_time": "2021-04-13T03:28:26.187272Z",
     "start_time": "2021-04-13T03:28:26.017713Z"
    }
   },
   "outputs": [
    {
     "data": {
      "text/plain": [
       "KNeighborsRegressor(n_neighbors=12)"
      ]
     },
     "execution_count": 24,
     "metadata": {},
     "output_type": "execute_result"
    }
   ],
   "source": [
    "knn = KNeighborsRegressor(n_neighbors=12)\n",
    "knn.fit(X_train,y_train)"
   ]
  },
  {
   "cell_type": "code",
   "execution_count": 25,
   "metadata": {
    "ExecuteTime": {
     "end_time": "2021-04-13T03:28:27.431811Z",
     "start_time": "2021-04-13T03:28:27.323454Z"
    }
   },
   "outputs": [
    {
     "data": {
      "text/plain": [
       "'Accuracy: 35.84%'"
      ]
     },
     "execution_count": 25,
     "metadata": {},
     "output_type": "execute_result"
    }
   ],
   "source": [
    "accuracy = knn.score(X_test, y_test)\n",
    "'Accuracy: ' + str(np.round(accuracy*100, 2)) + '%'"
   ]
  },
  {
   "cell_type": "markdown",
   "metadata": {},
   "source": [
    "## Decision Tree"
   ]
  },
  {
   "cell_type": "code",
   "execution_count": 26,
   "metadata": {
    "ExecuteTime": {
     "end_time": "2021-04-13T03:29:16.986582Z",
     "start_time": "2021-04-13T03:29:16.951468Z"
    }
   },
   "outputs": [],
   "source": [
    "from sklearn.tree import DecisionTreeRegressor\n",
    "decision_tree = DecisionTreeRegressor()"
   ]
  },
  {
   "cell_type": "code",
   "execution_count": 27,
   "metadata": {
    "ExecuteTime": {
     "end_time": "2021-04-13T03:29:17.912150Z",
     "start_time": "2021-04-13T03:29:17.771180Z"
    }
   },
   "outputs": [
    {
     "data": {
      "text/plain": [
       "DecisionTreeRegressor()"
      ]
     },
     "execution_count": 27,
     "metadata": {},
     "output_type": "execute_result"
    }
   ],
   "source": [
    "decision_tree.fit(X_train,y_train)"
   ]
  },
  {
   "cell_type": "code",
   "execution_count": 28,
   "metadata": {
    "ExecuteTime": {
     "end_time": "2021-04-13T03:29:18.691251Z",
     "start_time": "2021-04-13T03:29:18.678211Z"
    }
   },
   "outputs": [
    {
     "data": {
      "text/plain": [
       "'Accuracy: 12.11%'"
      ]
     },
     "execution_count": 28,
     "metadata": {},
     "output_type": "execute_result"
    }
   ],
   "source": [
    "accuracy = decision_tree.score(X_test, y_test)\n",
    "'Accuracy: ' + str(np.round(accuracy*100, 2)) + '%'"
   ]
  },
  {
   "cell_type": "markdown",
   "metadata": {},
   "source": [
    "## Random Forest"
   ]
  },
  {
   "cell_type": "code",
   "execution_count": 29,
   "metadata": {
    "ExecuteTime": {
     "end_time": "2021-04-13T03:29:53.807763Z",
     "start_time": "2021-04-13T03:29:53.772141Z"
    }
   },
   "outputs": [],
   "source": [
    "from sklearn.ensemble import RandomForestRegressor"
   ]
  },
  {
   "cell_type": "code",
   "execution_count": 30,
   "metadata": {
    "ExecuteTime": {
     "end_time": "2021-04-13T03:32:18.969153Z",
     "start_time": "2021-04-13T03:29:54.803244Z"
    }
   },
   "outputs": [
    {
     "data": {
      "text/plain": [
       "[<matplotlib.lines.Line2D at 0x1fe8078b190>]"
      ]
     },
     "execution_count": 30,
     "metadata": {},
     "output_type": "execute_result"
    },
    {
     "data": {
      "image/png": "[encoded data removed]",
      "text/plain": [
       "<Figure size 504x360 with 1 Axes>"
      ]
     },
     "metadata": {
      "needs_background": "light"
     },
     "output_type": "display_data"
    }
   ],
   "source": [
    "rf = RandomForestRegressor()\n",
    "estimators = np.arange(10, 200, 10)\n",
    "scores = []\n",
    "for n in estimators:\n",
    "    rf.set_params(n_estimators=n)\n",
    "    rf.fit(X_train, y_train)\n",
    "    scores.append(rf.score(X_test, y_test))\n",
    "plt.figure(figsize=(7, 5))\n",
    "plt.title(\"Effect of Estimators\")\n",
    "plt.xlabel(\"no. estimator\")\n",
    "plt.ylabel(\"score\")\n",
    "plt.plot(estimators, scores)"
   ]
  },
  {
   "cell_type": "code",
   "execution_count": 31,
   "metadata": {
    "ExecuteTime": {
     "end_time": "2021-04-13T03:32:19.768437Z",
     "start_time": "2021-04-13T03:32:19.754392Z"
    }
   },
   "outputs": [
    {
     "name": "stdout",
     "output_type": "stream",
     "text": [
      "max accuracy is:  0.4432811437974561\n",
      "Estimators to achieve this result:  70\n"
     ]
    }
   ],
   "source": [
    "print(\"max accuracy is: \", max(scores))\n",
    "print(\"Estimators to achieve this result: \", estimators[scores.index(max(scores))])"
   ]
  },
  {
   "cell_type": "markdown",
   "metadata": {},
   "source": [
    "# Outliers"
   ]
  },
  {
   "cell_type": "code",
   "execution_count": null,
   "metadata": {
    "ExecuteTime": {
     "end_time": "2021-04-13T00:08:36.965102Z",
     "start_time": "2021-04-13T00:08:36.951057Z"
    }
   },
   "outputs": [],
   "source": [
    "model_df = df.copy()"
   ]
  },
  {
   "cell_type": "code",
   "execution_count": null,
   "metadata": {
    "ExecuteTime": {
     "end_time": "2021-04-13T00:08:38.494042Z",
     "start_time": "2021-04-13T00:08:38.482003Z"
    }
   },
   "outputs": [],
   "source": [
    "from numpy import mean\n",
    "from numpy import std"
   ]
  },
  {
   "cell_type": "code",
   "execution_count": null,
   "metadata": {
    "ExecuteTime": {
     "end_time": "2021-04-13T00:08:40.156276Z",
     "start_time": "2021-04-13T00:08:39.967493Z"
    }
   },
   "outputs": [],
   "source": [
    "sns.boxplot(x=model_df['Reviews'])"
   ]
  },
  {
   "cell_type": "code",
   "execution_count": null,
   "metadata": {
    "ExecuteTime": {
     "end_time": "2021-04-13T00:08:41.619635Z",
     "start_time": "2021-04-13T00:08:41.608599Z"
    }
   },
   "outputs": [],
   "source": [
    "def outliers(col, df):\n",
    "    mean = df[col].mean()\n",
    "    std = df[col].std()\n",
    "    cut_off = std * 3\n",
    "    lower = mean - cut_off\n",
    "    upper = mean + cut_off\n",
    "    outliers = [x for x in df[col] if x < lower or x > upper]\n",
    "    return sorted(outliers)"
   ]
  },
  {
   "cell_type": "code",
   "execution_count": null,
   "metadata": {
    "ExecuteTime": {
     "end_time": "2021-04-13T00:08:43.118687Z",
     "start_time": "2021-04-13T00:08:43.091597Z"
    },
    "scrolled": true
   },
   "outputs": [],
   "source": [
    "outliers('Reviews', model_df)"
   ]
  },
  {
   "cell_type": "code",
   "execution_count": null,
   "metadata": {
    "ExecuteTime": {
     "end_time": "2021-04-13T00:08:56.671186Z",
     "start_time": "2021-04-13T00:08:56.597512Z"
    }
   },
   "outputs": [],
   "source": [
    "model_out = model_df[(model_df['Reviews'] <= 5783441.0) & (model_df['Reviews'] > 10)]\n",
    "model_out.reset_index(drop=True)"
   ]
  },
  {
   "cell_type": "code",
   "execution_count": null,
   "metadata": {
    "ExecuteTime": {
     "end_time": "2021-04-13T00:09:49.432767Z",
     "start_time": "2021-04-13T00:09:49.266713Z"
    },
    "scrolled": true
   },
   "outputs": [],
   "source": [
    "sns.boxplot(x=model_df['Installs'])"
   ]
  },
  {
   "cell_type": "code",
   "execution_count": null,
   "metadata": {
    "ExecuteTime": {
     "end_time": "2021-04-13T00:09:51.039707Z",
     "start_time": "2021-04-13T00:09:51.009608Z"
    },
    "scrolled": true
   },
   "outputs": [],
   "source": [
    "outliers('Installs', model_out)"
   ]
  },
  {
   "cell_type": "code",
   "execution_count": null,
   "metadata": {
    "ExecuteTime": {
     "end_time": "2021-04-13T00:10:11.158821Z",
     "start_time": "2021-04-13T00:10:11.085579Z"
    },
    "scrolled": true
   },
   "outputs": [],
   "source": [
    "model_out = model_out[(model_out['Installs'] < 500000000) & (model_out['Installs'] >= 10)]\n",
    "model_out.reset_index(drop=True)"
   ]
  },
  {
   "cell_type": "code",
   "execution_count": null,
   "metadata": {
    "ExecuteTime": {
     "end_time": "2021-04-13T00:10:17.028042Z",
     "start_time": "2021-04-13T00:10:16.852463Z"
    }
   },
   "outputs": [],
   "source": [
    "sns.boxplot(x=model_out['Installs'])"
   ]
  },
  {
   "cell_type": "code",
   "execution_count": null,
   "metadata": {
    "ExecuteTime": {
     "end_time": "2021-04-13T00:10:19.225924Z",
     "start_time": "2021-04-13T00:10:19.077125Z"
    }
   },
   "outputs": [],
   "source": [
    "sns.boxplot(x=model_out['Size'])"
   ]
  },
  {
   "cell_type": "code",
   "execution_count": null,
   "metadata": {
    "ExecuteTime": {
     "end_time": "2021-04-13T00:10:22.409209Z",
     "start_time": "2021-04-13T00:10:22.389145Z"
    },
    "scrolled": true
   },
   "outputs": [],
   "source": [
    "outliers('Size', model_out)"
   ]
  },
  {
   "cell_type": "code",
   "execution_count": null,
   "metadata": {
    "ExecuteTime": {
     "end_time": "2021-04-13T00:10:29.227972Z",
     "start_time": "2021-04-13T00:10:29.157743Z"
    }
   },
   "outputs": [],
   "source": [
    "model_out = model_out[(model_out['Size'] < 120)]\n",
    "model_out.reset_index(drop=True)"
   ]
  },
  {
   "cell_type": "code",
   "execution_count": null,
   "metadata": {
    "ExecuteTime": {
     "end_time": "2021-04-13T00:10:34.018851Z",
     "start_time": "2021-04-13T00:10:33.856316Z"
    }
   },
   "outputs": [],
   "source": [
    "sns.boxplot(x=model_out['Rating'])"
   ]
  },
  {
   "cell_type": "markdown",
   "metadata": {},
   "source": [
    "The median looks to be around 4.3. Anything beyond 3.3 and 5 are outliers. We will use these as our markers."
   ]
  },
  {
   "cell_type": "code",
   "execution_count": null,
   "metadata": {
    "ExecuteTime": {
     "end_time": "2021-04-13T00:10:58.409850Z",
     "start_time": "2021-04-13T00:10:58.347645Z"
    }
   },
   "outputs": [],
   "source": [
    "model_out = model_out[(model_out['Rating'] > 3)]\n",
    "model_out.reset_index(drop=True)"
   ]
  },
  {
   "cell_type": "code",
   "execution_count": null,
   "metadata": {
    "ExecuteTime": {
     "end_time": "2021-04-13T00:11:02.676125Z",
     "start_time": "2021-04-13T00:11:02.409730Z"
    },
    "scrolled": true
   },
   "outputs": [],
   "source": [
    "model_out.describe()"
   ]
  },
  {
   "cell_type": "code",
   "execution_count": null,
   "metadata": {
    "ExecuteTime": {
     "end_time": "2021-04-13T00:11:31.277749Z",
     "start_time": "2021-04-13T00:11:31.253924Z"
    },
    "scrolled": true
   },
   "outputs": [],
   "source": [
    "model_out.info()"
   ]
  },
  {
   "cell_type": "markdown",
   "metadata": {},
   "source": [
    "# Model - Outliers Fixed"
   ]
  },
  {
   "cell_type": "code",
   "execution_count": null,
   "metadata": {
    "ExecuteTime": {
     "end_time": "2021-04-13T00:11:38.521677Z",
     "start_time": "2021-04-13T00:11:38.336085Z"
    }
   },
   "outputs": [],
   "source": [
    "outcome = 'Installs'\n",
    "predictors = model_out.drop(labels=['Installs'], axis=1)\n",
    "pred_sum = '+'.join(predictors.columns)\n",
    "f = outcome + '~' + pred_sum\n",
    "model = ols(f, model_out).fit()\n",
    "# print(f'List of predictors: {pred_sum}')\n",
    "# display(model.summary())"
   ]
  },
  {
   "cell_type": "code",
   "execution_count": null,
   "metadata": {
    "ExecuteTime": {
     "end_time": "2021-04-13T00:11:47.626193Z",
     "start_time": "2021-04-13T00:11:47.607132Z"
    }
   },
   "outputs": [],
   "source": [
    "y = model_out['Installs']\n",
    "X = model_out.drop(labels=['Installs'], axis=1)"
   ]
  },
  {
   "cell_type": "code",
   "execution_count": null,
   "metadata": {
    "ExecuteTime": {
     "end_time": "2021-04-13T00:11:49.322787Z",
     "start_time": "2021-04-13T00:11:49.310747Z"
    }
   },
   "outputs": [],
   "source": [
    "X_train, X_test, y_train, y_test = train_test_split(X, y, test_size=.25, random_state=42)"
   ]
  },
  {
   "cell_type": "code",
   "execution_count": null,
   "metadata": {
    "ExecuteTime": {
     "end_time": "2021-04-13T00:11:51.108131Z",
     "start_time": "2021-04-13T00:11:51.062984Z"
    }
   },
   "outputs": [],
   "source": [
    "linreg = LinearRegression()\n",
    "linreg.fit(X_train, y_train)\n",
    "accuracy = linreg.score(X_test, y_test)\n",
    "'Accuracy: ' + str(np.round(accuracy*100, 2)) + '%'"
   ]
  },
  {
   "cell_type": "code",
   "execution_count": null,
   "metadata": {
    "ExecuteTime": {
     "end_time": "2021-04-13T00:11:56.027712Z",
     "start_time": "2021-04-13T00:11:55.776229Z"
    }
   },
   "outputs": [],
   "source": [
    "residuals = model.resid\n",
    "fig = sm.graphics.qqplot(residuals, dist=stats.norm, line='45', fit=True)"
   ]
  },
  {
   "cell_type": "markdown",
   "metadata": {},
   "source": [
    "## KNeighbors Regression"
   ]
  },
  {
   "cell_type": "code",
   "execution_count": null,
   "metadata": {
    "ExecuteTime": {
     "end_time": "2021-04-12T23:33:59.454042Z",
     "start_time": "2021-04-12T23:33:56.530343Z"
    },
    "scrolled": true
   },
   "outputs": [],
   "source": [
    "n_neighbors = np.arange(1, 100, 10)\n",
    "scores = []\n",
    "for n in n_neighbors:\n",
    "    knn.set_params(n_neighbors=n)\n",
    "    knn.fit(X_train, y_train)\n",
    "    scores.append(knn.score(X_test, y_test))\n",
    "plt.figure(figsize=(7, 5))\n",
    "plt.title(\"Effect of Estimators\")\n",
    "plt.xlabel(\"Number of Neighbors K\")\n",
    "plt.ylabel(\"Score\")\n",
    "plt.plot(n_neighbors, scores)"
   ]
  },
  {
   "cell_type": "code",
   "execution_count": null,
   "metadata": {
    "ExecuteTime": {
     "end_time": "2021-04-12T23:33:59.470096Z",
     "start_time": "2021-04-12T23:33:59.456050Z"
    }
   },
   "outputs": [],
   "source": [
    "print(\"max accuracy is: \", max(scores))\n",
    "print(\"K value to achieve this result: \", n_neighbors[scores.index(max(scores))])"
   ]
  },
  {
   "cell_type": "code",
   "execution_count": null,
   "metadata": {
    "ExecuteTime": {
     "end_time": "2021-04-12T23:33:59.806218Z",
     "start_time": "2021-04-12T23:33:59.472104Z"
    }
   },
   "outputs": [],
   "source": [
    "from sklearn.neighbors import KNeighborsRegressor\n",
    "knn = KNeighborsRegressor(n_neighbors=70)\n",
    "knn.fit(X_train,y_train)\n",
    "accuracy = knn.score(X_test, y_test)\n",
    "'Accuracy: ' + str(np.round(accuracy*100, 2)) + '%'"
   ]
  },
  {
   "cell_type": "markdown",
   "metadata": {},
   "source": [
    "## Decision Tree"
   ]
  },
  {
   "cell_type": "code",
   "execution_count": null,
   "metadata": {
    "ExecuteTime": {
     "end_time": "2021-04-12T23:33:59.917097Z",
     "start_time": "2021-04-12T23:33:59.808225Z"
    }
   },
   "outputs": [],
   "source": [
    "from sklearn.tree import DecisionTreeRegressor\n",
    "decision_tree = DecisionTreeRegressor()\n",
    "decision_tree.fit(X_train,y_train)"
   ]
  },
  {
   "cell_type": "code",
   "execution_count": null,
   "metadata": {
    "ExecuteTime": {
     "end_time": "2021-04-12T23:33:59.933149Z",
     "start_time": "2021-04-12T23:33:59.920107Z"
    }
   },
   "outputs": [],
   "source": [
    "accuracy = decision_tree.score(X_test, y_test)\n",
    "'Accuracy: ' + str(np.round(accuracy*100, 2)) + '%'"
   ]
  },
  {
   "cell_type": "markdown",
   "metadata": {},
   "source": [
    "# Random Forest"
   ]
  },
  {
   "cell_type": "code",
   "execution_count": null,
   "metadata": {
    "ExecuteTime": {
     "end_time": "2021-04-12T23:34:56.424709Z",
     "start_time": "2021-04-12T23:33:59.935156Z"
    }
   },
   "outputs": [],
   "source": [
    "from sklearn.ensemble import RandomForestRegressor\n",
    "rf = RandomForestRegressor()\n",
    "estimators = np.arange(10, 150, 10)\n",
    "scores = []\n",
    "for n in estimators:\n",
    "    rf.set_params(n_estimators=n)\n",
    "    rf.fit(X_train, y_train)\n",
    "    scores.append(rf.score(X_test, y_test))\n",
    "plt.figure(figsize=(7, 5))\n",
    "plt.title(\"Effect of Estimators\")\n",
    "plt.xlabel(\"no. estimator\")\n",
    "plt.ylabel(\"score\")\n",
    "plt.plot(estimators, scores)"
   ]
  },
  {
   "cell_type": "code",
   "execution_count": null,
   "metadata": {
    "ExecuteTime": {
     "end_time": "2021-04-12T23:34:56.440764Z",
     "start_time": "2021-04-12T23:34:56.427720Z"
    }
   },
   "outputs": [],
   "source": [
    "print(\"max accuracy is: \", max(scores))\n",
    "print(\"Estimators to achieve this result: \", estimators[scores.index(max(scores))])"
   ]
  },
  {
   "cell_type": "markdown",
   "metadata": {},
   "source": [
    "# Transform"
   ]
  },
  {
   "cell_type": "code",
   "execution_count": null,
   "metadata": {
    "ExecuteTime": {
     "end_time": "2021-04-13T00:12:12.695116Z",
     "start_time": "2021-04-13T00:12:12.691103Z"
    }
   },
   "outputs": [],
   "source": [
    "df_log = model_out.copy()"
   ]
  },
  {
   "cell_type": "code",
   "execution_count": null,
   "metadata": {
    "ExecuteTime": {
     "end_time": "2021-04-13T00:12:14.773577Z",
     "start_time": "2021-04-13T00:12:14.697327Z"
    }
   },
   "outputs": [],
   "source": [
    "df_log"
   ]
  },
  {
   "cell_type": "code",
   "execution_count": null,
   "metadata": {
    "ExecuteTime": {
     "end_time": "2021-04-13T00:12:18.168537Z",
     "start_time": "2021-04-13T00:12:17.148667Z"
    }
   },
   "outputs": [],
   "source": [
    "df_log[['Rating', 'Reviews', 'Size', 'Installs']].hist(figsize=(15,12));"
   ]
  },
  {
   "cell_type": "markdown",
   "metadata": {},
   "source": [
    "All the continuous variable are very skewed. Major outliers with Reviews and Installs. "
   ]
  },
  {
   "cell_type": "code",
   "execution_count": null,
   "metadata": {
    "ExecuteTime": {
     "end_time": "2021-04-13T00:12:40.264128Z",
     "start_time": "2021-04-13T00:12:38.493198Z"
    }
   },
   "outputs": [],
   "source": [
    "df_log['log_Rating'] = np.log(df_log['Rating'])\n",
    "df_log[['Rating', 'log_Rating']].hist(figsize=(12,5));\n",
    "\n",
    "df_log['log_Reviews'] = np.log(df_log['Reviews'])\n",
    "df_log[['Reviews', 'log_Reviews']].hist(figsize=(12,5));\n",
    "\n",
    "df_log['log_Size'] = np.log(df_log['Size'])\n",
    "df_log[['Size', 'log_Size']].hist(figsize=(12,5));\n",
    "\n",
    "df_log['log_Installs'] = np.log(df_log['Installs'])\n",
    "df_log[['Installs', 'log_Installs']].hist(figsize=(12,5));"
   ]
  },
  {
   "cell_type": "code",
   "execution_count": null,
   "metadata": {
    "ExecuteTime": {
     "end_time": "2021-04-13T00:12:44.561953Z",
     "start_time": "2021-04-13T00:12:44.551922Z"
    }
   },
   "outputs": [],
   "source": [
    "def normalize(feature):\n",
    "    return round((feature - feature.mean()) / feature.std(), 4)"
   ]
  },
  {
   "cell_type": "code",
   "execution_count": null,
   "metadata": {
    "ExecuteTime": {
     "end_time": "2021-04-13T00:13:00.019342Z",
     "start_time": "2021-04-13T00:13:00.008306Z"
    }
   },
   "outputs": [],
   "source": [
    "# df_log_norm = df_log[['log_Rating']]\n",
    "df_log_norm = df_log[['log_Rating', 'log_Installs', 'log_Size', 'log_Reviews']]"
   ]
  },
  {
   "cell_type": "code",
   "execution_count": null,
   "metadata": {
    "ExecuteTime": {
     "end_time": "2021-04-13T00:13:02.935969Z",
     "start_time": "2021-04-13T00:13:02.082244Z"
    }
   },
   "outputs": [],
   "source": [
    "df_log_norm = df_log_norm.apply(normalize)\n",
    "df_log_norm.hist(figsize=(10,10));"
   ]
  },
  {
   "cell_type": "code",
   "execution_count": null,
   "metadata": {
    "ExecuteTime": {
     "end_time": "2021-04-13T00:13:04.928145Z",
     "start_time": "2021-04-13T00:13:04.915103Z"
    }
   },
   "outputs": [],
   "source": [
    "df_log['Rating'] = df_log_norm['log_Rating']\n",
    "df_log['log_Installs'] = df_log_norm['log_Installs']\n",
    "df_log['log_Size'] = df_log_norm['log_Size']\n",
    "df_log['log_Reviews'] = df_log_norm['log_Reviews']"
   ]
  },
  {
   "cell_type": "code",
   "execution_count": null,
   "metadata": {
    "ExecuteTime": {
     "end_time": "2021-04-13T00:13:06.933035Z",
     "start_time": "2021-04-13T00:13:06.903939Z"
    },
    "scrolled": true
   },
   "outputs": [],
   "source": [
    "df_log.info()"
   ]
  },
  {
   "cell_type": "code",
   "execution_count": null,
   "metadata": {
    "ExecuteTime": {
     "end_time": "2021-04-13T00:13:09.574559Z",
     "start_time": "2021-04-13T00:13:09.569544Z"
    },
    "scrolled": true
   },
   "outputs": [],
   "source": [
    "df_log = df_log.drop(['Rating', 'Reviews', 'Installs', 'Size'], axis=1)"
   ]
  },
  {
   "cell_type": "markdown",
   "metadata": {},
   "source": [
    "# Model - Variables Transformed"
   ]
  },
  {
   "cell_type": "markdown",
   "metadata": {},
   "source": [
    "## Linear Regression"
   ]
  },
  {
   "cell_type": "code",
   "execution_count": null,
   "metadata": {
    "ExecuteTime": {
     "end_time": "2021-04-13T00:13:13.276150Z",
     "start_time": "2021-04-13T00:13:13.265116Z"
    }
   },
   "outputs": [],
   "source": [
    "y = df_log['log_Installs']\n",
    "X = df_log.drop(['log_Installs'], axis =1)"
   ]
  },
  {
   "cell_type": "code",
   "execution_count": null,
   "metadata": {
    "ExecuteTime": {
     "end_time": "2021-04-13T00:13:15.308956Z",
     "start_time": "2021-04-13T00:13:15.250766Z"
    }
   },
   "outputs": [],
   "source": [
    "X.head()"
   ]
  },
  {
   "cell_type": "code",
   "execution_count": null,
   "metadata": {
    "ExecuteTime": {
     "end_time": "2021-04-13T00:13:23.692352Z",
     "start_time": "2021-04-13T00:13:23.682322Z"
    }
   },
   "outputs": [],
   "source": [
    "X_train, X_test, y_train, y_test = train_test_split(X, y, test_size=.25, random_state=42)"
   ]
  },
  {
   "cell_type": "code",
   "execution_count": null,
   "metadata": {
    "ExecuteTime": {
     "end_time": "2021-04-13T00:20:30.218639Z",
     "start_time": "2021-04-13T00:20:29.959697Z"
    }
   },
   "outputs": [],
   "source": [
    "outcome = 'log_Installs'\n",
    "predictors = df_log.drop(labels=['log_Installs'], axis=1)\n",
    "pred_sum = '+'.join(predictors.columns)\n",
    "f = outcome + '~' + pred_sum\n",
    "model = ols(f, df_log).fit()\n",
    "print(f'List of predictors: {pred_sum}')\n",
    "display(model.summary())"
   ]
  },
  {
   "cell_type": "code",
   "execution_count": null,
   "metadata": {
    "ExecuteTime": {
     "end_time": "2021-04-13T00:13:25.736094Z",
     "start_time": "2021-04-13T00:13:25.692952Z"
    }
   },
   "outputs": [],
   "source": [
    "linreg = LinearRegression()\n",
    "linreg.fit(X_train, y_train)\n",
    "accuracy = linreg.score(X_test, y_test)\n",
    "'Accuracy: ' + str(np.round(accuracy*100, 2)) + '%'"
   ]
  },
  {
   "cell_type": "code",
   "execution_count": null,
   "metadata": {
    "ExecuteTime": {
     "end_time": "2021-04-13T00:22:16.095139Z",
     "start_time": "2021-04-13T00:22:15.867390Z"
    }
   },
   "outputs": [],
   "source": [
    "residuals = model.resid\n",
    "fig = sm.graphics.qqplot(residuals, dist=stats.norm, line='45', fit=True)"
   ]
  },
  {
   "cell_type": "markdown",
   "metadata": {},
   "source": [
    "## KNeighbors Regression"
   ]
  },
  {
   "cell_type": "code",
   "execution_count": null,
   "metadata": {
    "ExecuteTime": {
     "end_time": "2021-04-13T00:14:43.935898Z",
     "start_time": "2021-04-13T00:14:43.801952Z"
    }
   },
   "outputs": [],
   "source": [
    "knn = KNeighborsRegressor()\n",
    "knn.fit(X_train,y_train)"
   ]
  },
  {
   "cell_type": "code",
   "execution_count": null,
   "metadata": {
    "ExecuteTime": {
     "end_time": "2021-04-13T00:14:53.093700Z",
     "start_time": "2021-04-13T00:14:45.833428Z"
    },
    "scrolled": true
   },
   "outputs": [],
   "source": [
    "n_neighbors = np.arange(20, 300, 10)\n",
    "scores = []\n",
    "for n in n_neighbors:\n",
    "    knn.set_params(n_neighbors=n)\n",
    "    knn.fit(X_train, y_train)\n",
    "    scores.append(knn.score(X_test, y_test))\n",
    "plt.figure(figsize=(7, 5))\n",
    "plt.title(\"Effect of Estimators\")\n",
    "plt.xlabel(\"Number of Neighbors K\")\n",
    "plt.ylabel(\"Score\")\n",
    "plt.plot(n_neighbors, scores)"
   ]
  },
  {
   "cell_type": "code",
   "execution_count": null,
   "metadata": {
    "ExecuteTime": {
     "end_time": "2021-04-13T00:14:58.091943Z",
     "start_time": "2021-04-13T00:14:58.072883Z"
    }
   },
   "outputs": [],
   "source": [
    "print(\"max accuracy is: \", max(scores))\n",
    "print(\"K value to achieve this result: \", n_neighbors[scores.index(max(scores))])"
   ]
  },
  {
   "cell_type": "code",
   "execution_count": null,
   "metadata": {
    "ExecuteTime": {
     "end_time": "2021-04-13T00:15:09.009792Z",
     "start_time": "2021-04-13T00:15:08.832706Z"
    }
   },
   "outputs": [],
   "source": [
    "from sklearn.neighbors import KNeighborsRegressor\n",
    "knn = KNeighborsRegressor(n_neighbors=20)\n",
    "knn.fit(X_train,y_train)\n",
    "accuracy = knn.score(X_test, y_test)\n",
    "'Accuracy: ' + str(np.round(accuracy*100, 2)) + '%'"
   ]
  },
  {
   "cell_type": "markdown",
   "metadata": {},
   "source": [
    "## Decision Tree"
   ]
  },
  {
   "cell_type": "code",
   "execution_count": null,
   "metadata": {
    "ExecuteTime": {
     "end_time": "2021-04-13T00:15:24.468626Z",
     "start_time": "2021-04-13T00:15:24.395384Z"
    }
   },
   "outputs": [],
   "source": [
    "from sklearn.tree import DecisionTreeRegressor\n",
    "decision_tree = DecisionTreeRegressor()\n",
    "decision_tree.fit(X_train,y_train)"
   ]
  },
  {
   "cell_type": "code",
   "execution_count": null,
   "metadata": {
    "ExecuteTime": {
     "end_time": "2021-04-13T00:15:26.427058Z",
     "start_time": "2021-04-13T00:15:26.414016Z"
    }
   },
   "outputs": [],
   "source": [
    "accuracy = decision_tree.score(X_test, y_test)\n",
    "'Accuracy: ' + str(np.round(accuracy*100, 2)) + '%'"
   ]
  },
  {
   "cell_type": "markdown",
   "metadata": {},
   "source": [
    "# Random Forest"
   ]
  },
  {
   "cell_type": "code",
   "execution_count": null,
   "metadata": {
    "ExecuteTime": {
     "end_time": "2021-04-13T00:16:14.813990Z",
     "start_time": "2021-04-13T00:15:30.666662Z"
    }
   },
   "outputs": [],
   "source": [
    "from sklearn.ensemble import RandomForestRegressor\n",
    "rf = RandomForestRegressor()\n",
    "estimators = np.arange(10, 150, 10)\n",
    "scores = []\n",
    "for n in estimators:\n",
    "    rf.set_params(n_estimators=n)\n",
    "    rf.fit(X_train, y_train)\n",
    "    scores.append(rf.score(X_test, y_test))\n",
    "plt.figure(figsize=(7, 5))\n",
    "plt.title(\"Effect of Estimators\")\n",
    "plt.xlabel(\"no. estimator\")\n",
    "plt.ylabel(\"score\")\n",
    "plt.plot(estimators, scores)"
   ]
  },
  {
   "cell_type": "code",
   "execution_count": null,
   "metadata": {
    "ExecuteTime": {
     "end_time": "2021-04-13T00:16:16.815062Z",
     "start_time": "2021-04-13T00:16:16.801011Z"
    }
   },
   "outputs": [],
   "source": [
    "print(\"max accuracy is: \", max(scores))\n",
    "print(\"Estimators to achieve this result: \", estimators[scores.index(max(scores))])"
   ]
  }
 ],
 "metadata": {
  "kernelspec": {
   "display_name": "Python 3",
   "language": "python",
   "name": "python3"
  },
  "language_info": {
   "codemirror_mode": {
    "name": "ipython",
    "version": 3
   },
   "file_extension": ".py",
   "mimetype": "text/x-python",
   "name": "python",
   "nbconvert_exporter": "python",
   "pygments_lexer": "ipython3",
   "version": "3.8.5"
  },
  "toc": {
   "base_numbering": 1,
   "nav_menu": {},
   "number_sections": true,
   "sideBar": true,
   "skip_h1_title": false,
   "title_cell": "Table of Contents",
   "title_sidebar": "Contents",
   "toc_cell": false,
   "toc_position": {
    "height": "calc(100% - 180px)",
    "left": "10px",
    "top": "150px",
    "width": "380.391px"
   },
   "toc_section_display": true,
   "toc_window_display": false
  },
  "varInspector": {
   "cols": {
    "lenName": 16,
    "lenType": 16,
    "lenVar": 40
   },
   "kernels_config": {
    "python": {
     "delete_cmd_postfix": "",
     "delete_cmd_prefix": "del ",
     "library": "var_list.py",
     "varRefreshCmd": "print(var_dic_list())"
    },
    "r": {
     "delete_cmd_postfix": ") ",
     "delete_cmd_prefix": "rm(",
     "library": "var_list.r",
     "varRefreshCmd": "cat(var_dic_list()) "
    }
   },
   "types_to_exclude": [
    "module",
    "function",
    "builtin_function_or_method",
    "instance",
    "_Feature"
   ],
   "window_display": false
  }
 },
 "nbformat": 4,
 "nbformat_minor": 4
}
